{
 "cells": [
  {
   "cell_type": "markdown",
   "id": "3cb6faa2",
   "metadata": {},
   "source": [
    "## Описание проекта"
   ]
  },
  {
   "cell_type": "markdown",
   "id": "8956acf5",
   "metadata": {},
   "source": [
    "### Описание проекта: Прогнозирование температуры звёзд\n",
    "\n",
    "Вам поручена задача от обсерватории «Небо на ладони» — разработать нейросеть, способную предсказывать температуру звёзд на основе их физических характеристик. Это поможет учёным ускорить исследования и повысить точность расчётов. Ранее использовались такие методы, как закон смещения Вина и закон Стефана-Больцмана, но обсерватория стремится внедрить машинное обучение для большей эффективности.\n",
    "\n",
    "#### Характеристики данных:\n",
    "- **Светимость (L/Lo):** светимость звезды относительно Солнца.\n",
    "- **Радиус (R/Ro):** радиус звезды относительно радиуса Солнца.\n",
    "- **Абсолютная звёздная величина (Mv):** параметр блеска звезды.\n",
    "- **Цвет звезды (Star color):** спектральный цвет.\n",
    "- **Тип звезды (Star type):** категориальный признак (0–5).\n",
    "- **Температура (T, K):** целевая переменная.\n",
    "\n",
    "#### Этапы выполнения:\n",
    "1. **Исследование данных:**\n",
    "   - Анализ распределения признаков и корреляций.\n",
    "   - Выводы о значимости характеристик для температуры.\n",
    "\n",
    "2. **Подготовка данных:**\n",
    "   - Обработка выбросов по температуре.\n",
    "   - Кодирование категориальных признаков.\n",
    "   - Масштабирование числовых данных.\n",
    "\n",
    "3. **Baseline-модель:**\n",
    "   - Построение простой нейросети с 3 скрытыми слоями.\n",
    "   - Вывод начального RMSE и анализ результата.\n",
    "\n",
    "4. **Оптимизация модели:**\n",
    "   - Тюнинг гиперпараметров (количество нейронов, dropout, batch size).\n",
    "   - Сравнение метрик RMSE и визуализация остатков.\n",
    "\n",
    "#### Цель проекта:\n",
    "Создать модель, где RMSE не превышает 4500. Оформите результат в виде отчёта с графиками ошибок и сравнения моделей."
   ]
  },
  {
   "cell_type": "markdown",
   "id": "corresponding-armstrong",
   "metadata": {
    "ExecuteTime": {
     "end_time": "2022-05-05T04:58:05.692448Z",
     "start_time": "2022-05-05T04:58:05.688565Z"
    }
   },
   "source": [
    "## Загрузка данных"
   ]
  },
  {
   "cell_type": "markdown",
   "id": "83f5f8a3",
   "metadata": {},
   "source": [
    "### Импорт библиотек"
   ]
  },
  {
   "cell_type": "code",
   "execution_count": 1,
   "id": "5cf222cd",
   "metadata": {},
   "outputs": [],
   "source": [
    "# Установка необходимых библиотек\n",
    "!pip install phik -q\n",
    "!pip install --upgrade scikit-learn -q"
   ]
  },
  {
   "cell_type": "code",
   "execution_count": 2,
   "id": "spectacular-folder",
   "metadata": {},
   "outputs": [
    {
     "data": {
      "text/plain": [
       "'Версия scikit-learn: 1.5.2'"
      ]
     },
     "metadata": {},
     "output_type": "display_data"
    }
   ],
   "source": [
    "# Импорты для работы с данными\n",
    "import os\n",
    "import gc\n",
    "import time\n",
    "import warnings\n",
    "import numpy as np\n",
    "import pandas as pd\n",
    "import phik\n",
    "import sklearn\n",
    "import lightgbm as lgb\n",
    "\n",
    "# Импорты для визуализации\n",
    "import matplotlib.pyplot as plt\n",
    "import seaborn as sns\n",
    "\n",
    "# Импорты для предобработки данных\n",
    "from sklearn.preprocessing import StandardScaler, OneHotEncoder, OrdinalEncoder\n",
    "from sklearn.impute import SimpleImputer\n",
    "from sklearn.compose import ColumnTransformer\n",
    "from sklearn.pipeline import Pipeline\n",
    "\n",
    "# Импорты для построения моделей\n",
    "from tensorflow.keras.models import Sequential\n",
    "from tensorflow.keras.layers import Dense, Dropout\n",
    "from tensorflow.keras.optimizers import Adam\n",
    "\n",
    "# Импорты для оценки моделей\n",
    "from sklearn.model_selection import train_test_split, GridSearchCV, ParameterGrid\n",
    "from sklearn.metrics import mean_squared_error, mean_absolute_error, make_scorer\n",
    "\n",
    "# Импорты для дополнительных операций\n",
    "from time import time\n",
    "from sklearn.datasets import fetch_california_housing\n",
    "\n",
    "# Проверка версии scikit-learn\n",
    "display(f\"Версия scikit-learn: {sklearn.__version__}\")"
   ]
  },
  {
   "cell_type": "markdown",
   "id": "2181129a",
   "metadata": {},
   "source": [
    "### Загрузка данных"
   ]
  },
  {
   "cell_type": "code",
   "execution_count": 3,
   "id": "c54b8a61",
   "metadata": {},
   "outputs": [
    {
     "data": {
      "text/plain": [
       "'Информация о датасете:'"
      ]
     },
     "metadata": {},
     "output_type": "display_data"
    },
    {
     "name": "stdout",
     "output_type": "stream",
     "text": [
      "<class 'pandas.core.frame.DataFrame'>\n",
      "RangeIndex: 240 entries, 0 to 239\n",
      "Data columns (total 7 columns):\n",
      " #   Column                  Non-Null Count  Dtype  \n",
      "---  ------                  --------------  -----  \n",
      " 0   Unnamed: 0              240 non-null    int64  \n",
      " 1   Temperature (K)         240 non-null    int64  \n",
      " 2   Luminosity(L/Lo)        240 non-null    float64\n",
      " 3   Radius(R/Ro)            240 non-null    float64\n",
      " 4   Absolute magnitude(Mv)  240 non-null    float64\n",
      " 5   Star type               240 non-null    int64  \n",
      " 6   Star color              240 non-null    object \n",
      "dtypes: float64(3), int64(3), object(1)\n",
      "memory usage: 13.2+ KB\n"
     ]
    },
    {
     "data": {
      "text/plain": [
       "'Описательная статистика количественных признаков:'"
      ]
     },
     "metadata": {},
     "output_type": "display_data"
    },
    {
     "data": {
      "text/html": [
       "<div>\n",
       "<style scoped>\n",
       "    .dataframe tbody tr th:only-of-type {\n",
       "        vertical-align: middle;\n",
       "    }\n",
       "\n",
       "    .dataframe tbody tr th {\n",
       "        vertical-align: top;\n",
       "    }\n",
       "\n",
       "    .dataframe thead th {\n",
       "        text-align: right;\n",
       "    }\n",
       "</style>\n",
       "<table border=\"1\" class=\"dataframe\">\n",
       "  <thead>\n",
       "    <tr style=\"text-align: right;\">\n",
       "      <th></th>\n",
       "      <th>Unnamed: 0</th>\n",
       "      <th>Temperature (K)</th>\n",
       "      <th>Luminosity(L/Lo)</th>\n",
       "      <th>Radius(R/Ro)</th>\n",
       "      <th>Absolute magnitude(Mv)</th>\n",
       "      <th>Star type</th>\n",
       "    </tr>\n",
       "  </thead>\n",
       "  <tbody>\n",
       "    <tr>\n",
       "      <th>count</th>\n",
       "      <td>240.00000</td>\n",
       "      <td>240.000000</td>\n",
       "      <td>240.000000</td>\n",
       "      <td>240.000000</td>\n",
       "      <td>240.000000</td>\n",
       "      <td>240.000000</td>\n",
       "    </tr>\n",
       "    <tr>\n",
       "      <th>mean</th>\n",
       "      <td>119.50000</td>\n",
       "      <td>10497.462500</td>\n",
       "      <td>107188.361635</td>\n",
       "      <td>237.157781</td>\n",
       "      <td>4.382396</td>\n",
       "      <td>2.500000</td>\n",
       "    </tr>\n",
       "    <tr>\n",
       "      <th>std</th>\n",
       "      <td>69.42622</td>\n",
       "      <td>9552.425037</td>\n",
       "      <td>179432.244940</td>\n",
       "      <td>517.155763</td>\n",
       "      <td>10.532512</td>\n",
       "      <td>1.711394</td>\n",
       "    </tr>\n",
       "    <tr>\n",
       "      <th>min</th>\n",
       "      <td>0.00000</td>\n",
       "      <td>1939.000000</td>\n",
       "      <td>0.000080</td>\n",
       "      <td>0.008400</td>\n",
       "      <td>-11.920000</td>\n",
       "      <td>0.000000</td>\n",
       "    </tr>\n",
       "    <tr>\n",
       "      <th>25%</th>\n",
       "      <td>59.75000</td>\n",
       "      <td>3344.250000</td>\n",
       "      <td>0.000865</td>\n",
       "      <td>0.102750</td>\n",
       "      <td>-6.232500</td>\n",
       "      <td>1.000000</td>\n",
       "    </tr>\n",
       "    <tr>\n",
       "      <th>50%</th>\n",
       "      <td>119.50000</td>\n",
       "      <td>5776.000000</td>\n",
       "      <td>0.070500</td>\n",
       "      <td>0.762500</td>\n",
       "      <td>8.313000</td>\n",
       "      <td>2.500000</td>\n",
       "    </tr>\n",
       "    <tr>\n",
       "      <th>75%</th>\n",
       "      <td>179.25000</td>\n",
       "      <td>15055.500000</td>\n",
       "      <td>198050.000000</td>\n",
       "      <td>42.750000</td>\n",
       "      <td>13.697500</td>\n",
       "      <td>4.000000</td>\n",
       "    </tr>\n",
       "    <tr>\n",
       "      <th>max</th>\n",
       "      <td>239.00000</td>\n",
       "      <td>40000.000000</td>\n",
       "      <td>849420.000000</td>\n",
       "      <td>1948.500000</td>\n",
       "      <td>20.060000</td>\n",
       "      <td>5.000000</td>\n",
       "    </tr>\n",
       "  </tbody>\n",
       "</table>\n",
       "</div>"
      ],
      "text/plain": [
       "       Unnamed: 0  Temperature (K)  Luminosity(L/Lo)  Radius(R/Ro)  \\\n",
       "count   240.00000       240.000000        240.000000    240.000000   \n",
       "mean    119.50000     10497.462500     107188.361635    237.157781   \n",
       "std      69.42622      9552.425037     179432.244940    517.155763   \n",
       "min       0.00000      1939.000000          0.000080      0.008400   \n",
       "25%      59.75000      3344.250000          0.000865      0.102750   \n",
       "50%     119.50000      5776.000000          0.070500      0.762500   \n",
       "75%     179.25000     15055.500000     198050.000000     42.750000   \n",
       "max     239.00000     40000.000000     849420.000000   1948.500000   \n",
       "\n",
       "       Absolute magnitude(Mv)   Star type  \n",
       "count              240.000000  240.000000  \n",
       "mean                 4.382396    2.500000  \n",
       "std                 10.532512    1.711394  \n",
       "min                -11.920000    0.000000  \n",
       "25%                 -6.232500    1.000000  \n",
       "50%                  8.313000    2.500000  \n",
       "75%                 13.697500    4.000000  \n",
       "max                 20.060000    5.000000  "
      ]
     },
     "metadata": {},
     "output_type": "display_data"
    }
   ],
   "source": [
    "file_paths = ['/datasets/6_class.csv', '/local/path/to/6_class.csv']\n",
    "\n",
    "for path in file_paths:\n",
    "    if os.path.exists(path):\n",
    "        data = pd.read_csv(path)\n",
    "        break\n",
    "else:\n",
    "    raise FileNotFoundError(\"Файл данных не найден ни в одном из указанных расположений.\")\n",
    "\n",
    "# Первичный анализ данных\n",
    "display(\"Информация о датасете:\")\n",
    "data.info()\n",
    "\n",
    "display(\"Описательная статистика количественных признаков:\")\n",
    "display(data.describe())"
   ]
  },
  {
   "cell_type": "markdown",
   "id": "480badb2",
   "metadata": {},
   "source": [
    "### Проверка на пропуски в данных"
   ]
  },
  {
   "cell_type": "code",
   "execution_count": 4,
   "id": "2d286065",
   "metadata": {},
   "outputs": [
    {
     "data": {
      "text/plain": [
       "'Анализ пропусков в данных:'"
      ]
     },
     "metadata": {},
     "output_type": "display_data"
    },
    {
     "data": {
      "text/html": [
       "<div>\n",
       "<style scoped>\n",
       "    .dataframe tbody tr th:only-of-type {\n",
       "        vertical-align: middle;\n",
       "    }\n",
       "\n",
       "    .dataframe tbody tr th {\n",
       "        vertical-align: top;\n",
       "    }\n",
       "\n",
       "    .dataframe thead th {\n",
       "        text-align: right;\n",
       "    }\n",
       "</style>\n",
       "<table border=\"1\" class=\"dataframe\">\n",
       "  <thead>\n",
       "    <tr style=\"text-align: right;\">\n",
       "      <th></th>\n",
       "      <th>Количество пропусков</th>\n",
       "      <th>Процент пропусков</th>\n",
       "    </tr>\n",
       "  </thead>\n",
       "  <tbody>\n",
       "    <tr>\n",
       "      <th>Unnamed: 0</th>\n",
       "      <td>0</td>\n",
       "      <td>0.0</td>\n",
       "    </tr>\n",
       "    <tr>\n",
       "      <th>Temperature (K)</th>\n",
       "      <td>0</td>\n",
       "      <td>0.0</td>\n",
       "    </tr>\n",
       "    <tr>\n",
       "      <th>Luminosity(L/Lo)</th>\n",
       "      <td>0</td>\n",
       "      <td>0.0</td>\n",
       "    </tr>\n",
       "    <tr>\n",
       "      <th>Radius(R/Ro)</th>\n",
       "      <td>0</td>\n",
       "      <td>0.0</td>\n",
       "    </tr>\n",
       "    <tr>\n",
       "      <th>Absolute magnitude(Mv)</th>\n",
       "      <td>0</td>\n",
       "      <td>0.0</td>\n",
       "    </tr>\n",
       "    <tr>\n",
       "      <th>Star type</th>\n",
       "      <td>0</td>\n",
       "      <td>0.0</td>\n",
       "    </tr>\n",
       "    <tr>\n",
       "      <th>Star color</th>\n",
       "      <td>0</td>\n",
       "      <td>0.0</td>\n",
       "    </tr>\n",
       "  </tbody>\n",
       "</table>\n",
       "</div>"
      ],
      "text/plain": [
       "                        Количество пропусков  Процент пропусков\n",
       "Unnamed: 0                                 0                0.0\n",
       "Temperature (K)                            0                0.0\n",
       "Luminosity(L/Lo)                           0                0.0\n",
       "Radius(R/Ro)                               0                0.0\n",
       "Absolute magnitude(Mv)                     0                0.0\n",
       "Star type                                  0                0.0\n",
       "Star color                                 0                0.0"
      ]
     },
     "metadata": {},
     "output_type": "display_data"
    }
   ],
   "source": [
    "# Проверка на пропуски в данных\n",
    "null_counts = data.isnull().sum()\n",
    "null_percentages = null_counts / len(data) * 100\n",
    "\n",
    "display(\"Анализ пропусков в данных:\")\n",
    "display(pd.concat([null_counts, null_percentages], \n",
    "                axis=1, keys=['Количество пропусков', 'Процент пропусков']))"
   ]
  },
  {
   "cell_type": "markdown",
   "id": "simple-subdivision",
   "metadata": {},
   "source": [
    "## Предобработка и анализ данных"
   ]
  },
  {
   "cell_type": "code",
   "execution_count": 5,
   "id": "4696e885",
   "metadata": {},
   "outputs": [
    {
     "data": {
      "image/png": "[encoded data removed]",
      "text/plain": [
       "<Figure size 576x432 with 1 Axes>"
      ]
     },
     "metadata": {
      "needs_background": "light"
     },
     "output_type": "display_data"
    }
   ],
   "source": [
    "plt.figure(figsize=(8, 6))\n",
    "plt.plot(data['Unnamed: 0'], 'o-')\n",
    "plt.xlabel('Индекс')\n",
    "plt.ylabel('Значение')\n",
    "plt.title('Графический анализ столбца \"Unnamed: 0\"')\n",
    "plt.show()"
   ]
  },
  {
   "cell_type": "code",
   "execution_count": 6,
   "id": "7a577a10",
   "metadata": {},
   "outputs": [
    {
     "data": {
      "image/png": "[encoded data removed]",
      "text/plain": [
       "<Figure size 576x432 with 1 Axes>"
      ]
     },
     "metadata": {
      "needs_background": "light"
     },
     "output_type": "display_data"
    }
   ],
   "source": [
    "plt.figure(figsize=(8, 6))\n",
    "plt.hist(data['Temperature (K)'], bins=20)\n",
    "plt.xlabel('Температура (K)')\n",
    "plt.ylabel('Частота')\n",
    "plt.title('Гистограмма распределения температуры звезд')\n",
    "plt.show()"
   ]
  },
  {
   "cell_type": "code",
   "execution_count": 7,
   "id": "3a529769",
   "metadata": {},
   "outputs": [
    {
     "data": {
      "image/png": "[encoded data removed]",
      "text/plain": [
       "<Figure size 576x432 with 1 Axes>"
      ]
     },
     "metadata": {
      "needs_background": "light"
     },
     "output_type": "display_data"
    }
   ],
   "source": [
    "plt.figure(figsize=(8, 6))\n",
    "plt.hist(data['Luminosity(L/Lo)'], bins=20)\n",
    "plt.xlabel('Светимость (L/Lo)')\n",
    "plt.ylabel('Частота')\n",
    "plt.title('Гистограмма распределения светимости звезд')\n",
    "plt.show()"
   ]
  },
  {
   "cell_type": "code",
   "execution_count": 8,
   "id": "c6533fb9",
   "metadata": {},
   "outputs": [
    {
     "data": {
      "image/png": "[encoded data removed]",
      "text/plain": [
       "<Figure size 576x432 with 1 Axes>"
      ]
     },
     "metadata": {
      "needs_background": "light"
     },
     "output_type": "display_data"
    }
   ],
   "source": [
    "plt.figure(figsize=(8, 6))\n",
    "plt.hist(data['Radius(R/Ro)'], bins=20)\n",
    "plt.xlabel('Радиус (R/Ro)')\n",
    "plt.ylabel('Частота')\n",
    "plt.title('Гистограмма распределения радиуса звезд')\n",
    "plt.show()"
   ]
  },
  {
   "cell_type": "code",
   "execution_count": 9,
   "id": "a3d7a544",
   "metadata": {},
   "outputs": [
    {
     "data": {
      "image/png": "[encoded data removed]",
      "text/plain": [
       "<Figure size 576x432 with 1 Axes>"
      ]
     },
     "metadata": {
      "needs_background": "light"
     },
     "output_type": "display_data"
    }
   ],
   "source": [
    "plt.figure(figsize=(8, 6))\n",
    "plt.hist(data['Absolute magnitude(Mv)'], bins=20)\n",
    "plt.xlabel('Абсолютная звездная величина (Mv)')\n",
    "plt.ylabel('Частота')\n",
    "plt.title('Гистограмма распределения абсолютной звездной величины')\n",
    "plt.show()"
   ]
  },
  {
   "cell_type": "code",
   "execution_count": 10,
   "id": "d3afd9d7",
   "metadata": {},
   "outputs": [
    {
     "data": {
      "image/png": "[encoded data removed]",
      "text/plain": [
       "<Figure size 576x432 with 1 Axes>"
      ]
     },
     "metadata": {
      "needs_background": "light"
     },
     "output_type": "display_data"
    }
   ],
   "source": [
    "plt.figure(figsize=(8, 6))\n",
    "data['Star type'].value_counts().plot(kind='bar')\n",
    "plt.xlabel('Тип звезды')\n",
    "plt.ylabel('Количество')\n",
    "plt.title('Распределение типов звезд')\n",
    "plt.show()"
   ]
  },
  {
   "cell_type": "markdown",
   "id": "040f6afc",
   "metadata": {},
   "source": [
    "### Анализ категориальных признаков"
   ]
  },
  {
   "cell_type": "code",
   "execution_count": 11,
   "id": "416413f1",
   "metadata": {},
   "outputs": [
    {
     "data": {
      "text/plain": [
       "'Количество записей для каждой категории признака Star color:'"
      ]
     },
     "metadata": {},
     "output_type": "display_data"
    },
    {
     "data": {
      "text/plain": [
       "Red                   112\n",
       "Blue                   55\n",
       "Blue-white             26\n",
       "Blue White             10\n",
       "yellow-white            8\n",
       "White                   7\n",
       "white                   3\n",
       "Yellowish White         3\n",
       "Blue white              3\n",
       "Whitish                 2\n",
       "yellowish               2\n",
       "Orange                  2\n",
       "White-Yellow            1\n",
       "Blue-White              1\n",
       "Orange-Red              1\n",
       "Yellowish               1\n",
       "Blue                    1\n",
       "Pale yellow orange      1\n",
       "Blue white              1\n",
       "Name: Star color, dtype: int64"
      ]
     },
     "metadata": {},
     "output_type": "display_data"
    }
   ],
   "source": [
    "# Анализ категориальных признаков\n",
    "categorical_features = ['Star color']  # Исправлено название признака\n",
    "\n",
    "for feature in categorical_features:\n",
    "    display(f\"Количество записей для каждой категории признака {feature}:\")\n",
    "    display(data[feature].value_counts())"
   ]
  },
  {
   "cell_type": "code",
   "execution_count": null,
   "id": "a54180c7",
   "metadata": {},
   "outputs": [
    {
     "data": {
      "image/png": "[encoded data removed]",
      "text/plain": [
       "<Figure size 720x432 with 1 Axes>"
      ]
     },
     "metadata": {
      "needs_background": "light"
     },
     "output_type": "display_data"
    }
   ],
   "source": [
    "plt.figure(figsize=(10, 6))\n",
    "data['Star color'].value_counts().plot(kind='bar')\n",
    "plt.xlabel('Цвет звезды')\n",
    "plt.ylabel('Количество')\n",
    "plt.title('Распределение цветов звезд')\n",
    "plt.xticks(rotation=45)\n",
    "plt.show()"
   ]
  },
  {
   "cell_type": "markdown",
   "id": "8540ddec",
   "metadata": {},
   "source": [
    "### Вывод по разделу \"Исследовательский анализ\"\n",
    "\n",
    "В данном разделе был проведен подробный анализ данных о звёздах. Были выполнены следующие шаги:\n",
    "\n",
    "1. **Импорт необходимых библиотек**:\n",
    "   - Для работы с данными, их визуализации, предобработки, а также для дальнейшего построения моделей машинного обучения.\n",
    "\n",
    "2. **Загрузка и первичный анализ данных**:\n",
    "   - Данные успешно загружены из файла `/datasets/6_class.csv`.\n",
    "   - Был выполнен первичный анализ: получена информация о структуре данных, проверены типы данных в каждом столбце и выявлены основные статистические характеристики.\n",
    "   - Пропуски в данных отсутствуют, что упрощает их обработку.\n",
    "\n",
    "3. **Исследовательский анализ количественных данных**:\n",
    "   - Проведена визуализация данных с помощью графиков:\n",
    "     - Построены гистограммы для количественных признаков: температура, светимость, радиус и абсолютная звёздная величина. Выявлены основные закономерности в распределении значений.\n",
    "     - Построен график тренда для столбца индекса звезды.\n",
    "   - Распределение некоторых количественных признаков, таких как светимость и радиус, демонстрирует сильную асимметрию и наличие выбросов, что важно учитывать при дальнейшей обработке.\n",
    "\n",
    "4. **Анализ категориальных данных**:\n",
    "   - Проведён анализ категориального признака `Star color` (цвет звезды). \n",
    "   - Построена диаграмма распределения для цветов звёзд. Наиболее распространённые цвета: красный (Red) и синий (Blue), в то время как другие цвета представлены значительно реже.\n",
    "   - Получены количественные распределения для каждой категории признака.\n",
    "\n",
    "5. **Выводы по исследовательскому анализу**:\n",
    "   - Количественные данные содержат признаки с высокой вариативностью и выбросами.\n",
    "   - Категориальные данные имеют несбалансированное распределение. Это может потребовать преобразования, например, кодирования или применения специальных методов для работы с редкими категориями.\n",
    "\n",
    "6. **Визуализация**:\n",
    "   - Визуализация данных позволила выявить аномальные значения и асимметрию в данных, что может повлиять на выбор методов обработки и моделирования.\n",
    "\n",
    "### Итог:\n",
    "В результате проведённого анализа были выявлены особенности структуры и распределения данных, а также подготовлена основа для дальнейшего построения моделей машинного обучения. Особое внимание стоит уделить выбросам в количественных данных и несбалансированности категориальных данных при разработке моделей."
   ]
  },
  {
   "cell_type": "markdown",
   "id": "070a400c",
   "metadata": {},
   "source": [
    "## Подготовка данных к построению модели"
   ]
  },
  {
   "cell_type": "markdown",
   "id": "2de9f6f0",
   "metadata": {},
   "source": [
    "### Объединение категорий цвета звезд"
   ]
  },
  {
   "cell_type": "code",
   "execution_count": 13,
   "id": "709ac80e",
   "metadata": {
    "scrolled": true
   },
   "outputs": [
    {
     "data": {
      "text/plain": [
       "'Количество записей для каждой категории признака Star color:'"
      ]
     },
     "metadata": {},
     "output_type": "display_data"
    },
    {
     "data": {
      "text/plain": [
       "Blue                   56\n",
       "Blue-white             41\n",
       "Orange                  2\n",
       "Orange-Red              1\n",
       "Pale yellow orange      1\n",
       "Red                   112\n",
       "White                  10\n",
       "White-Yellow            1\n",
       "Whitish                 2\n",
       "Yellowish               3\n",
       "Yellowish White         3\n",
       "yellow-white            8\n",
       "Name: Star color, dtype: int64"
      ]
     },
     "metadata": {},
     "output_type": "display_data"
    }
   ],
   "source": [
    "# Объединение категорий цвета звезд\n",
    "data['Star color'] = data['Star color'].replace(['Blue White','Blue white ','Blue white', 'Blue-White', 'Blue white'], 'Blue-white')\n",
    "data['Star color'] = data['Star color'].replace('Blue ', 'Blue')\n",
    "data['Star color'] = data['Star color'].replace('white', 'White')\n",
    "data['Star color'] = data['Star color'].replace('yellowish', 'Yellowish')\n",
    "categorical_features = ['Star color']\n",
    "\n",
    "for feature in categorical_features:\n",
    "    display(f\"Количество записей для каждой категории признака {feature}:\")\n",
    "    display(data[feature].value_counts().sort_index())"
   ]
  },
  {
   "cell_type": "code",
   "execution_count": 14,
   "id": "645b9b1a",
   "metadata": {},
   "outputs": [
    {
     "data": {
      "text/plain": [
       "'Количество звезд для каждого основного цвета:'"
      ]
     },
     "metadata": {},
     "output_type": "display_data"
    },
    {
     "data": {
      "text/plain": [
       "Red       113\n",
       "Blue       97\n",
       "White      15\n",
       "Yellow     12\n",
       "Orange      3\n",
       "Name: Main Color, dtype: int64"
      ]
     },
     "metadata": {},
     "output_type": "display_data"
    }
   ],
   "source": [
    "# Создание словаря для отображения категорий цвета на основные цвета\n",
    "color_mapping = {\n",
    "    'Blue': 'Blue',\n",
    "    'Blue-white': 'Blue',\n",
    "    'White': 'White',\n",
    "    'Whitish': 'White',\n",
    "    'Yellowish White': 'White',\n",
    "    'White-Yellow': 'Yellow',\n",
    "    'yellow-white': 'Yellow',\n",
    "    'Yellowish': 'Yellow',\n",
    "    'Pale yellow orange': 'Orange',\n",
    "    'Orange': 'Orange',\n",
    "    'Orange-Red': 'Red',\n",
    "    'Red': 'Red'\n",
    "}\n",
    "\n",
    "# Создание нового столбца 'Main Color' на основе соответствия цветов\n",
    "data['Main Color'] = data['Star color'].map(color_mapping)\n",
    "\n",
    "# Вывод количества звезд для каждого основного цвета\n",
    "display(\"Количество звезд для каждого основного цвета:\")\n",
    "display(data['Main Color'].value_counts())\n"
   ]
  },
  {
   "cell_type": "markdown",
   "id": "d6c60ec7",
   "metadata": {},
   "source": [
    "### Отфильтруем данные, оставив только группы Main Color с количеством примеров >= 20"
   ]
  },
  {
   "cell_type": "code",
   "execution_count": 15,
   "id": "c2fd0f9f",
   "metadata": {},
   "outputs": [
    {
     "data": {
      "text/plain": [
       "'Количество звезд для каждого основного цвета после фильтрации:'"
      ]
     },
     "metadata": {},
     "output_type": "display_data"
    },
    {
     "data": {
      "text/plain": [
       "Red     113\n",
       "Blue     97\n",
       "Name: Main Color, dtype: int64"
      ]
     },
     "metadata": {},
     "output_type": "display_data"
    }
   ],
   "source": [
    "# Получаем значения counts для каждого цвета\n",
    "color_counts = data['Main Color'].value_counts()\n",
    "\n",
    "# Отфильтруем данные, оставив только группы с количеством примеров >= 20\n",
    "data = data[data['Main Color'].map(color_counts) >= 20]\n",
    "\n",
    "# Выведем результат для проверки\n",
    "display(\"Количество звезд для каждого основного цвета после фильтрации:\")\n",
    "display(data['Main Color'].value_counts())"
   ]
  },
  {
   "cell_type": "code",
   "execution_count": 16,
   "id": "d5c611dc",
   "metadata": {},
   "outputs": [
    {
     "data": {
      "image/png": "[encoded data removed]",
      "text/plain": [
       "<Figure size 720x432 with 1 Axes>"
      ]
     },
     "metadata": {
      "needs_background": "light"
     },
     "output_type": "display_data"
    }
   ],
   "source": [
    "plt.figure(figsize=(10, 6))\n",
    "data['Main Color'].value_counts().plot(kind='bar')\n",
    "plt.xlabel('Цвет звезды')\n",
    "plt.ylabel('Количество')\n",
    "plt.title('Распределение цветов звезд')\n",
    "plt.xticks(rotation=45)\n",
    "plt.show()"
   ]
  },
  {
   "cell_type": "code",
   "execution_count": 17,
   "id": "7e429b29",
   "metadata": {},
   "outputs": [
    {
     "data": {
      "image/png": "[encoded data removed]",
      "text/plain": [
       "<Figure size 720x432 with 1 Axes>"
      ]
     },
     "metadata": {
      "needs_background": "light"
     },
     "output_type": "display_data"
    }
   ],
   "source": [
    "# Расчет квантиля\n",
    "q_low = data['Temperature (K)'].quantile(0.05)\n",
    "\n",
    "# Построение графика распределения\n",
    "plt.figure(figsize=(10, 6))\n",
    "sns.histplot(data['Temperature (K)'], bins=30, kde=True)\n",
    "plt.axvline(q_low, color='r', linestyle='--', label=f'5th Percentile: {q_low:.2f}')\n",
    "plt.title('Распределение температуры')\n",
    "plt.xlabel('Температура (K)')\n",
    "plt.ylabel('Частота')\n",
    "plt.legend()\n",
    "plt.show()"
   ]
  },
  {
   "cell_type": "code",
   "execution_count": 18,
   "id": "5e276ffb",
   "metadata": {},
   "outputs": [
    {
     "data": {
      "text/plain": [
       "'Количество звезд с температурой ниже 2787.45 K: 11'"
      ]
     },
     "metadata": {},
     "output_type": "display_data"
    },
    {
     "data": {
      "text/html": [
       "<div>\n",
       "<style scoped>\n",
       "    .dataframe tbody tr th:only-of-type {\n",
       "        vertical-align: middle;\n",
       "    }\n",
       "\n",
       "    .dataframe tbody tr th {\n",
       "        vertical-align: top;\n",
       "    }\n",
       "\n",
       "    .dataframe thead th {\n",
       "        text-align: right;\n",
       "    }\n",
       "</style>\n",
       "<table border=\"1\" class=\"dataframe\">\n",
       "  <thead>\n",
       "    <tr style=\"text-align: right;\">\n",
       "      <th></th>\n",
       "      <th>Unnamed: 0</th>\n",
       "      <th>Temperature (K)</th>\n",
       "      <th>Luminosity(L/Lo)</th>\n",
       "      <th>Radius(R/Ro)</th>\n",
       "      <th>Absolute magnitude(Mv)</th>\n",
       "      <th>Star type</th>\n",
       "      <th>Star color</th>\n",
       "      <th>Main Color</th>\n",
       "    </tr>\n",
       "  </thead>\n",
       "  <tbody>\n",
       "    <tr>\n",
       "      <th>2</th>\n",
       "      <td>2</td>\n",
       "      <td>2600</td>\n",
       "      <td>0.000300</td>\n",
       "      <td>0.1020</td>\n",
       "      <td>18.700</td>\n",
       "      <td>0</td>\n",
       "      <td>Red</td>\n",
       "      <td>Red</td>\n",
       "    </tr>\n",
       "    <tr>\n",
       "      <th>4</th>\n",
       "      <td>4</td>\n",
       "      <td>1939</td>\n",
       "      <td>0.000138</td>\n",
       "      <td>0.1030</td>\n",
       "      <td>20.060</td>\n",
       "      <td>0</td>\n",
       "      <td>Red</td>\n",
       "      <td>Red</td>\n",
       "    </tr>\n",
       "    <tr>\n",
       "      <th>6</th>\n",
       "      <td>6</td>\n",
       "      <td>2637</td>\n",
       "      <td>0.000730</td>\n",
       "      <td>0.1270</td>\n",
       "      <td>17.220</td>\n",
       "      <td>0</td>\n",
       "      <td>Red</td>\n",
       "      <td>Red</td>\n",
       "    </tr>\n",
       "    <tr>\n",
       "      <th>7</th>\n",
       "      <td>7</td>\n",
       "      <td>2600</td>\n",
       "      <td>0.000400</td>\n",
       "      <td>0.0960</td>\n",
       "      <td>17.400</td>\n",
       "      <td>0</td>\n",
       "      <td>Red</td>\n",
       "      <td>Red</td>\n",
       "    </tr>\n",
       "    <tr>\n",
       "      <th>8</th>\n",
       "      <td>8</td>\n",
       "      <td>2650</td>\n",
       "      <td>0.000690</td>\n",
       "      <td>0.1100</td>\n",
       "      <td>17.450</td>\n",
       "      <td>0</td>\n",
       "      <td>Red</td>\n",
       "      <td>Red</td>\n",
       "    </tr>\n",
       "    <tr>\n",
       "      <th>9</th>\n",
       "      <td>9</td>\n",
       "      <td>2700</td>\n",
       "      <td>0.000180</td>\n",
       "      <td>0.1300</td>\n",
       "      <td>16.050</td>\n",
       "      <td>0</td>\n",
       "      <td>Red</td>\n",
       "      <td>Red</td>\n",
       "    </tr>\n",
       "    <tr>\n",
       "      <th>14</th>\n",
       "      <td>14</td>\n",
       "      <td>2650</td>\n",
       "      <td>0.000600</td>\n",
       "      <td>0.1400</td>\n",
       "      <td>11.782</td>\n",
       "      <td>1</td>\n",
       "      <td>Red</td>\n",
       "      <td>Red</td>\n",
       "    </tr>\n",
       "    <tr>\n",
       "      <th>68</th>\n",
       "      <td>68</td>\n",
       "      <td>2774</td>\n",
       "      <td>0.000360</td>\n",
       "      <td>0.1180</td>\n",
       "      <td>17.390</td>\n",
       "      <td>0</td>\n",
       "      <td>Red</td>\n",
       "      <td>Red</td>\n",
       "    </tr>\n",
       "    <tr>\n",
       "      <th>78</th>\n",
       "      <td>78</td>\n",
       "      <td>2621</td>\n",
       "      <td>0.000600</td>\n",
       "      <td>0.0980</td>\n",
       "      <td>12.810</td>\n",
       "      <td>1</td>\n",
       "      <td>Red</td>\n",
       "      <td>Red</td>\n",
       "    </tr>\n",
       "    <tr>\n",
       "      <th>129</th>\n",
       "      <td>129</td>\n",
       "      <td>2731</td>\n",
       "      <td>0.000437</td>\n",
       "      <td>0.0856</td>\n",
       "      <td>18.090</td>\n",
       "      <td>0</td>\n",
       "      <td>Red</td>\n",
       "      <td>Red</td>\n",
       "    </tr>\n",
       "    <tr>\n",
       "      <th>188</th>\n",
       "      <td>188</td>\n",
       "      <td>2778</td>\n",
       "      <td>0.000849</td>\n",
       "      <td>0.1120</td>\n",
       "      <td>19.450</td>\n",
       "      <td>0</td>\n",
       "      <td>Red</td>\n",
       "      <td>Red</td>\n",
       "    </tr>\n",
       "  </tbody>\n",
       "</table>\n",
       "</div>"
      ],
      "text/plain": [
       "     Unnamed: 0  Temperature (K)  Luminosity(L/Lo)  Radius(R/Ro)  \\\n",
       "2             2             2600          0.000300        0.1020   \n",
       "4             4             1939          0.000138        0.1030   \n",
       "6             6             2637          0.000730        0.1270   \n",
       "7             7             2600          0.000400        0.0960   \n",
       "8             8             2650          0.000690        0.1100   \n",
       "9             9             2700          0.000180        0.1300   \n",
       "14           14             2650          0.000600        0.1400   \n",
       "68           68             2774          0.000360        0.1180   \n",
       "78           78             2621          0.000600        0.0980   \n",
       "129         129             2731          0.000437        0.0856   \n",
       "188         188             2778          0.000849        0.1120   \n",
       "\n",
       "     Absolute magnitude(Mv)  Star type Star color Main Color  \n",
       "2                    18.700          0        Red        Red  \n",
       "4                    20.060          0        Red        Red  \n",
       "6                    17.220          0        Red        Red  \n",
       "7                    17.400          0        Red        Red  \n",
       "8                    17.450          0        Red        Red  \n",
       "9                    16.050          0        Red        Red  \n",
       "14                   11.782          1        Red        Red  \n",
       "68                   17.390          0        Red        Red  \n",
       "78                   12.810          1        Red        Red  \n",
       "129                  18.090          0        Red        Red  \n",
       "188                  19.450          0        Red        Red  "
      ]
     },
     "metadata": {},
     "output_type": "display_data"
    }
   ],
   "source": [
    "# Подсчет 5-го процентиля температуры\n",
    "q_low = data['Temperature (K)'].quantile(0.05)\n",
    "\n",
    "# Подсчет количества звезд с температурой ниже 5-го процентиля и фильтрация данных\n",
    "filtered_data = data[data['Temperature (K)'] <= q_low]\n",
    "count_stars_below_q_low = len(filtered_data)\n",
    "\n",
    "display(f'Количество звезд с температурой ниже {q_low} K: {count_stars_below_q_low}')\n",
    "display(filtered_data)"
   ]
  },
  {
   "cell_type": "code",
   "execution_count": 19,
   "id": "15103aa5",
   "metadata": {},
   "outputs": [
    {
     "data": {
      "text/plain": [
       "'Количество звезд с температурой выше 32935.04999999999 K: 11'"
      ]
     },
     "metadata": {},
     "output_type": "display_data"
    },
    {
     "data": {
      "text/html": [
       "<div>\n",
       "<style scoped>\n",
       "    .dataframe tbody tr th:only-of-type {\n",
       "        vertical-align: middle;\n",
       "    }\n",
       "\n",
       "    .dataframe tbody tr th {\n",
       "        vertical-align: top;\n",
       "    }\n",
       "\n",
       "    .dataframe thead th {\n",
       "        text-align: right;\n",
       "    }\n",
       "</style>\n",
       "<table border=\"1\" class=\"dataframe\">\n",
       "  <thead>\n",
       "    <tr style=\"text-align: right;\">\n",
       "      <th></th>\n",
       "      <th>Unnamed: 0</th>\n",
       "      <th>Temperature (K)</th>\n",
       "      <th>Luminosity(L/Lo)</th>\n",
       "      <th>Radius(R/Ro)</th>\n",
       "      <th>Absolute magnitude(Mv)</th>\n",
       "      <th>Star type</th>\n",
       "      <th>Star color</th>\n",
       "      <th>Main Color</th>\n",
       "    </tr>\n",
       "  </thead>\n",
       "  <tbody>\n",
       "    <tr>\n",
       "      <th>30</th>\n",
       "      <td>30</td>\n",
       "      <td>39000</td>\n",
       "      <td>204000.0</td>\n",
       "      <td>10.60</td>\n",
       "      <td>-4.70</td>\n",
       "      <td>3</td>\n",
       "      <td>Blue</td>\n",
       "      <td>Blue</td>\n",
       "    </tr>\n",
       "    <tr>\n",
       "      <th>49</th>\n",
       "      <td>49</td>\n",
       "      <td>33750</td>\n",
       "      <td>220000.0</td>\n",
       "      <td>26.00</td>\n",
       "      <td>-6.10</td>\n",
       "      <td>4</td>\n",
       "      <td>Blue</td>\n",
       "      <td>Blue</td>\n",
       "    </tr>\n",
       "    <tr>\n",
       "      <th>99</th>\n",
       "      <td>99</td>\n",
       "      <td>36108</td>\n",
       "      <td>198000.0</td>\n",
       "      <td>10.20</td>\n",
       "      <td>-4.40</td>\n",
       "      <td>3</td>\n",
       "      <td>Blue</td>\n",
       "      <td>Blue</td>\n",
       "    </tr>\n",
       "    <tr>\n",
       "      <th>100</th>\n",
       "      <td>100</td>\n",
       "      <td>33300</td>\n",
       "      <td>240000.0</td>\n",
       "      <td>12.00</td>\n",
       "      <td>-6.50</td>\n",
       "      <td>4</td>\n",
       "      <td>Blue</td>\n",
       "      <td>Blue</td>\n",
       "    </tr>\n",
       "    <tr>\n",
       "      <th>101</th>\n",
       "      <td>101</td>\n",
       "      <td>40000</td>\n",
       "      <td>813000.0</td>\n",
       "      <td>14.00</td>\n",
       "      <td>-6.23</td>\n",
       "      <td>4</td>\n",
       "      <td>Blue</td>\n",
       "      <td>Blue</td>\n",
       "    </tr>\n",
       "    <tr>\n",
       "      <th>109</th>\n",
       "      <td>109</td>\n",
       "      <td>33421</td>\n",
       "      <td>352000.0</td>\n",
       "      <td>67.00</td>\n",
       "      <td>-5.79</td>\n",
       "      <td>4</td>\n",
       "      <td>Blue</td>\n",
       "      <td>Blue</td>\n",
       "    </tr>\n",
       "    <tr>\n",
       "      <th>159</th>\n",
       "      <td>159</td>\n",
       "      <td>37800</td>\n",
       "      <td>202900.0</td>\n",
       "      <td>6.86</td>\n",
       "      <td>-4.56</td>\n",
       "      <td>3</td>\n",
       "      <td>Blue</td>\n",
       "      <td>Blue</td>\n",
       "    </tr>\n",
       "    <tr>\n",
       "      <th>214</th>\n",
       "      <td>214</td>\n",
       "      <td>34190</td>\n",
       "      <td>198200.0</td>\n",
       "      <td>6.39</td>\n",
       "      <td>-4.57</td>\n",
       "      <td>3</td>\n",
       "      <td>Blue</td>\n",
       "      <td>Blue</td>\n",
       "    </tr>\n",
       "    <tr>\n",
       "      <th>231</th>\n",
       "      <td>231</td>\n",
       "      <td>38234</td>\n",
       "      <td>272830.0</td>\n",
       "      <td>1356.00</td>\n",
       "      <td>-9.29</td>\n",
       "      <td>5</td>\n",
       "      <td>Blue</td>\n",
       "      <td>Blue</td>\n",
       "    </tr>\n",
       "    <tr>\n",
       "      <th>235</th>\n",
       "      <td>235</td>\n",
       "      <td>38940</td>\n",
       "      <td>374830.0</td>\n",
       "      <td>1356.00</td>\n",
       "      <td>-9.93</td>\n",
       "      <td>5</td>\n",
       "      <td>Blue</td>\n",
       "      <td>Blue</td>\n",
       "    </tr>\n",
       "    <tr>\n",
       "      <th>239</th>\n",
       "      <td>239</td>\n",
       "      <td>37882</td>\n",
       "      <td>294903.0</td>\n",
       "      <td>1783.00</td>\n",
       "      <td>-7.80</td>\n",
       "      <td>5</td>\n",
       "      <td>Blue</td>\n",
       "      <td>Blue</td>\n",
       "    </tr>\n",
       "  </tbody>\n",
       "</table>\n",
       "</div>"
      ],
      "text/plain": [
       "     Unnamed: 0  Temperature (K)  Luminosity(L/Lo)  Radius(R/Ro)  \\\n",
       "30           30            39000          204000.0         10.60   \n",
       "49           49            33750          220000.0         26.00   \n",
       "99           99            36108          198000.0         10.20   \n",
       "100         100            33300          240000.0         12.00   \n",
       "101         101            40000          813000.0         14.00   \n",
       "109         109            33421          352000.0         67.00   \n",
       "159         159            37800          202900.0          6.86   \n",
       "214         214            34190          198200.0          6.39   \n",
       "231         231            38234          272830.0       1356.00   \n",
       "235         235            38940          374830.0       1356.00   \n",
       "239         239            37882          294903.0       1783.00   \n",
       "\n",
       "     Absolute magnitude(Mv)  Star type Star color Main Color  \n",
       "30                    -4.70          3       Blue       Blue  \n",
       "49                    -6.10          4       Blue       Blue  \n",
       "99                    -4.40          3       Blue       Blue  \n",
       "100                   -6.50          4       Blue       Blue  \n",
       "101                   -6.23          4       Blue       Blue  \n",
       "109                   -5.79          4       Blue       Blue  \n",
       "159                   -4.56          3       Blue       Blue  \n",
       "214                   -4.57          3       Blue       Blue  \n",
       "231                   -9.29          5       Blue       Blue  \n",
       "235                   -9.93          5       Blue       Blue  \n",
       "239                   -7.80          5       Blue       Blue  "
      ]
     },
     "metadata": {},
     "output_type": "display_data"
    }
   ],
   "source": [
    "# Подсчет 95-го процентиля температуры\n",
    "q_hi = data['Temperature (K)'].quantile(0.95)\n",
    "\n",
    "# Подсчет количества звезд с температурой выше 95-го процентиля и фильтрация данных\n",
    "filtered_data_high = data[data['Temperature (K)'] > q_hi]\n",
    "count_stars_above_q_hi = len(filtered_data_high)\n",
    "\n",
    "display(f'Количество звезд с температурой выше {q_hi} K: {count_stars_above_q_hi}')\n",
    "display(filtered_data_high)"
   ]
  },
  {
   "cell_type": "markdown",
   "id": "20a958e2",
   "metadata": {},
   "source": [
    "### Замена светимости на значения из Гарвардской классификации"
   ]
  },
  {
   "cell_type": "code",
   "execution_count": 20,
   "id": "2613e9fb",
   "metadata": {},
   "outputs": [],
   "source": [
    "# Замена светимости на значения из Гарвардской классификации\n",
    "harvard_luminosity = {\n",
    "    'O': 50000, 'B': 3000, 'A': 50, 'F': 4, \n",
    "    'G': 1.3, 'K': 0.2, 'M': 0.03\n",
    "}\n",
    "\n",
    "def map_luminosity(row):\n",
    "    star_type = row['Star type']\n",
    "    if star_type == 0:\n",
    "        return harvard_luminosity['M']\n",
    "    elif star_type == 1:\n",
    "        return harvard_luminosity['K']\n",
    "    elif star_type == 2:\n",
    "        return harvard_luminosity['G']\n",
    "    elif star_type == 3:\n",
    "        return harvard_luminosity['F']\n",
    "    elif star_type == 4:\n",
    "        return harvard_luminosity['A']\n",
    "    elif star_type == 5:\n",
    "        return harvard_luminosity['B']\n",
    "    elif star_type == 6:\n",
    "        return harvard_luminosity['O']\n",
    "    \n",
    "data['Luminosity(L/Lo)'] = data.apply(map_luminosity, axis=1)"
   ]
  },
  {
   "cell_type": "code",
   "execution_count": 21,
   "id": "2e5f0045",
   "metadata": {},
   "outputs": [
    {
     "data": {
      "image/png": "[encoded data removed]",
      "text/plain": [
       "<Figure size 720x432 with 1 Axes>"
      ]
     },
     "metadata": {
      "needs_background": "light"
     },
     "output_type": "display_data"
    }
   ],
   "source": [
    "# Создание нового столбца 'Luminosity Class' на основе значений светимости\n",
    "data['Luminosity Class'] = data['Luminosity(L/Lo)'].map({v: k for k, v in harvard_luminosity.items()})\n",
    "\n",
    "plt.figure(figsize=(10, 6))\n",
    "data['Luminosity Class'].value_counts().plot(kind='bar')\n",
    "plt.xlabel('Класс звезды по светимости (Гарвардская классификация)')\n",
    "plt.ylabel('Количество')\n",
    "plt.title('Распределение классов звезд по светимости')\n",
    "plt.show()"
   ]
  },
  {
   "cell_type": "markdown",
   "id": "9ac87136",
   "metadata": {},
   "source": [
    "### Классификация звезд по радиусу (R/R₀)"
   ]
  },
  {
   "cell_type": "code",
   "execution_count": 22,
   "id": "66d11fb7",
   "metadata": {},
   "outputs": [],
   "source": [
    "# Классификация звезд по радиусу (R/R₀)\n",
    "def map_radius_class(row):\n",
    "    radius = row['Radius(R/Ro)']\n",
    "    if radius < 0.1:\n",
    "        return 'Карлики'\n",
    "    elif 0.1 <= radius < 0.7:\n",
    "        return 'Субкарлики'\n",
    "    elif 0.7 <= radius < 1.5:\n",
    "        return 'Карлики главной последовательности'\n",
    "    elif 1.5 <= radius < 10:\n",
    "        return 'Субгиганты'\n",
    "    elif 10 <= radius < 100:\n",
    "        return 'Гиганты'\n",
    "    else:\n",
    "        return 'Сверхгиганты'\n",
    "\n",
    "data['Radius Class'] = data.apply(map_radius_class, axis=1)"
   ]
  },
  {
   "cell_type": "code",
   "execution_count": 23,
   "id": "70e7be48",
   "metadata": {},
   "outputs": [
    {
     "data": {
      "image/png": "[encoded data removed]",
      "text/plain": [
       "<Figure size 720x432 with 1 Axes>"
      ]
     },
     "metadata": {
      "needs_background": "light"
     },
     "output_type": "display_data"
    }
   ],
   "source": [
    "plt.figure(figsize=(10, 6))\n",
    "data['Radius Class'].value_counts().plot(kind='bar')\n",
    "plt.xlabel('Класс звезды по радиусу')\n",
    "plt.ylabel('Количество')\n",
    "plt.title('Распределение классов звезд по радиусу')\n",
    "plt.xticks(rotation=45)\n",
    "plt.show()"
   ]
  },
  {
   "cell_type": "markdown",
   "id": "88d0e039",
   "metadata": {},
   "source": [
    "### Классификация звезд по абсолютной звездной величине (Mv)"
   ]
  },
  {
   "cell_type": "code",
   "execution_count": 24,
   "id": "4391a8d3",
   "metadata": {},
   "outputs": [],
   "source": [
    "# Классификация звезд по абсолютной звездной величине (Mv)\n",
    "def map_absolute_magnitude_class(row):\n",
    "    absolute_magnitude = row['Absolute magnitude(Mv)']\n",
    "    if absolute_magnitude < -10:\n",
    "        return 'Гипергиганты'\n",
    "    elif -10 <= absolute_magnitude < -6:\n",
    "        return 'Сверхгиганты'\n",
    "    elif -6 <= absolute_magnitude < -3:\n",
    "        return 'Яркие гиганты'\n",
    "    elif -3 <= absolute_magnitude < 0:\n",
    "        return 'Гиганты'\n",
    "    elif 0 <= absolute_magnitude < 3:\n",
    "        return 'Субгиганты'\n",
    "    elif 3 <= absolute_magnitude < 5:\n",
    "        return 'Карлики главной последовательности'\n",
    "    elif 5 <= absolute_magnitude < 10:\n",
    "        return 'Субкарлики'\n",
    "    else:\n",
    "        return 'Белые карлики'\n",
    "\n",
    "data['Absolute Magnitude Class'] = data.apply(map_absolute_magnitude_class, axis=1)"
   ]
  },
  {
   "cell_type": "code",
   "execution_count": 25,
   "id": "28a54ae5",
   "metadata": {},
   "outputs": [
    {
     "data": {
      "text/plain": [
       "Белые карлики                         107\n",
       "Сверхгиганты                           46\n",
       "Яркие гиганты                          27\n",
       "Гипергиганты                           17\n",
       "Гиганты                                 7\n",
       "Субгиганты                              5\n",
       "Карлики главной последовательности      1\n",
       "Name: Absolute Magnitude Class, dtype: int64"
      ]
     },
     "metadata": {},
     "output_type": "display_data"
    }
   ],
   "source": [
    "# Подсчет количества звезд в каждой категории\n",
    "star_counts = data['Absolute Magnitude Class'].value_counts()\n",
    "# Вывод результатов\n",
    "display(star_counts)"
   ]
  },
  {
   "cell_type": "code",
   "execution_count": 26,
   "id": "e0edd95a",
   "metadata": {},
   "outputs": [
    {
     "data": {
      "image/png": "[encoded data removed]",
      "text/plain": [
       "<Figure size 720x432 with 1 Axes>"
      ]
     },
     "metadata": {
      "needs_background": "light"
     },
     "output_type": "display_data"
    }
   ],
   "source": [
    "plt.figure(figsize=(10, 6))\n",
    "data['Absolute Magnitude Class'].value_counts().plot(kind='bar')\n",
    "plt.xlabel('Класс звезды по абсолютной звездной величине')\n",
    "plt.ylabel('Количество')\n",
    "plt.title('Распределение классов звезд по абсолютной звездной величине')\n",
    "plt.xticks(rotation=45)\n",
    "plt.tight_layout()\n",
    "plt.show()"
   ]
  },
  {
   "cell_type": "code",
   "execution_count": 27,
   "id": "d1bcebe4",
   "metadata": {},
   "outputs": [
    {
     "data": {
      "image/png": "[encoded data removed]",
      "text/plain": [
       "<Figure size 720x576 with 2 Axes>"
      ]
     },
     "metadata": {
      "needs_background": "light"
     },
     "output_type": "display_data"
    }
   ],
   "source": [
    "# Определяем только непрерывные признаки\n",
    "interval_cols = ['Temperature (K)', 'Luminosity(L/Lo)', 'Radius(R/Ro)', 'Absolute magnitude(Mv)']\n",
    "\n",
    "try:\n",
    "    # Вычисляем корреляционную матрицу phik \n",
    "    phik_corr_matrix = data.phik_matrix(interval_cols=interval_cols)\n",
    "    \n",
    "    # Визуализируем матрицу корреляций\n",
    "    plt.figure(figsize=(10, 8)) \n",
    "    sns.heatmap(phik_corr_matrix, annot=True, fmt='.2f', cmap='coolwarm', vmin=-1, vmax=1, square=True)\n",
    "    plt.title('Матрица корреляции признаков (phik)', fontsize=16)\n",
    "    plt.tight_layout()\n",
    "    plt.show()\n",
    "\n",
    "except AttributeError as e:\n",
    "    display(\"Ошибка: Проверьте, что библиотека phik и датафрейм настроены правильно.\")\n",
    "    display(f\"Подробнее об ошибке: {e}\")\n",
    "\n",
    "except Exception as e:\n",
    "    display(\"Произошла непредвиденная ошибка.\")\n",
    "    display(f\"Подробнее: {e}\")"
   ]
  },
  {
   "cell_type": "code",
   "execution_count": 28,
   "id": "d19f4fd9",
   "metadata": {},
   "outputs": [],
   "source": [
    "# Определение категориальных и числовых признаков\n",
    "categorical_features = ['Star color', 'Star type', 'Radius Class', 'Main Color']\n",
    "numeric_features = ['Absolute magnitude(Mv)']\n",
    "\n",
    "# Трансформеры для категориальных признаков\n",
    "ohe_transformer = Pipeline(steps=[\n",
    "    ('imputer', SimpleImputer(strategy='most_frequent')),\n",
    "    ('encoder', OneHotEncoder(handle_unknown='ignore'))\n",
    "])\n",
    "\n",
    "# Трансформер для числовых признаков\n",
    "numeric_transformer = Pipeline(steps=[\n",
    "    ('imputer', SimpleImputer(strategy='median')),\n",
    "    ('scaler', StandardScaler())\n",
    "])\n",
    "\n",
    "# Препроцессор для нелинейных моделей\n",
    "preprocessor_nonlinear = ColumnTransformer(transformers=[\n",
    "    ('num', numeric_transformer, numeric_features),\n",
    "    ('cat', ohe_transformer, categorical_features)\n",
    "])\n",
    "\n",
    "# Обработка данных\n",
    "X = data.drop(['Temperature (K)'], axis=1)\n",
    "y = data['Temperature (K)']\n",
    "\n",
    "# Логарифмирование целевой переменной\n",
    "y_log = np.log1p(y)\n",
    "\n",
    "# Разделение на обучающую, валидационную и тестовую выборки\n",
    "X_train, X_test, y_train_log, y_test_log = train_test_split(X, y_log, test_size=0.2, random_state=42)\n",
    "X_train, X_val, y_train_log, y_val_log = train_test_split(X_train, y_train_log, test_size=0.2, random_state=42)\n",
    "\n",
    "# Обучение препроцессора только на обучающей выборке\n",
    "X_train_preprocessed = preprocessor_nonlinear.fit_transform(X_train)\n",
    "\n",
    "# Трансформация валидационной и тестовой выборок\n",
    "X_val_preprocessed = preprocessor_nonlinear.transform(X_val)\n",
    "X_test_preprocessed = preprocessor_nonlinear.transform(X_test)"
   ]
  },
  {
   "cell_type": "markdown",
   "id": "c509d2c2",
   "metadata": {},
   "source": [
    "### Вывод по разделу \"Шаг 3. Подготовка данных к построению модели\"\n",
    "\n",
    "В данном разделе была проведена тщательная предобработка данных для дальнейшего построения моделей машинного обучения. Выполнены следующие шаги:\n",
    "\n",
    "1. **Анализ данных по результатам исследовательского анализа**:\n",
    "   - На основе графиков распределений выявлены выбросы в данных, особенно в столбце `Temperature (K)`. \n",
    "   - Принято решение о логарифмировании целевой переменной температуры для нормализации распределения.\n",
    "   - Рассмотрены звезды с экстремально низкими и высокими температурами. Выявлено 11 звезд с температурой ниже 5-го процентиля (2787.45 K) и 11 звезд с температурой выше 95-го процентиля (32935.05 K).\n",
    "\n",
    "2. **Категоризация данных**:\n",
    "   - Созданы новые категории для радиуса, абсолютной звёздной величины, светимости и цвета звезды:\n",
    "     - Для радиуса (`Radius Class`) определены группы: карлики, субкарлики, карлики главной последовательности, субгиганты, гиганты и сверхгиганты. \n",
    "     - Для абсолютной звёздной величины (`Absolute Magnitude Class`) добавлены классы: гипергиганты, сверхгиганты, яркие гиганты, гиганты, субгиганты, карлики главной последовательности, субкарлики и белые карлики.\n",
    "     - Для светимости (`Luminosity Class`) использованы значения из Гарвардской классификации (O, B, A, F, G, K, M).\n",
    "     - Для цвета (`Main Color`) сгруппированы схожие оттенки в основные цвета: красный, синий. Категории с малым количеством примеров (<20) были отфильтрованы.\n",
    "\n",
    "3. **Подготовка данных к моделированию**:\n",
    "   - Удалены неинформативные признаки, такие как `Unnamed: 0`.\n",
    "   - Целевая переменная (`Temperature (K)`) преобразована с помощью логарифмирования.\n",
    "   - Разделены данные на числовые и категориальные признаки:\n",
    "     - Числовые признаки (`Absolute magnitude(Mv)`) подготовлены для масштабирования.\n",
    "     - Категориальные признаки (`Star color`, `Star type`, `Radius Class`, `Main Color`) подготовлены для кодирования с помощью `OneHotEncoder` для полносвязных нейронных сетей.\n",
    "\n",
    "4. **Создание обучающей, валидационной и тестовой выборок**:\n",
    "   - Данные разделены на признаки (`X`) и целевую переменную (`y`), где целевая переменная — логарифмированная `Temperature (K)`.\n",
    "   - С помощью функции `train_test_split` данные разбиты на обучающую (64%), валидационную (16%) и тестовую (20%) выборки.  \n",
    "\n",
    "5. **Препроцессинг данных**:\n",
    "   - Создан препроцессор `preprocessor_nonlinear` на основе `ColumnTransformer` для нелинейных моделей.\n",
    "   - Для числового признака применен `StandardScaler` после заполнения пропусков медианным значением.\n",
    "   - Для категориальных признаков использован `OneHotEncoder` после заполнения пропусков наиболее частой категорией.\n",
    "   - Препроцессор обучен только на обучающей выборке `X_train`, а затем применен для трансформации валидационной (`X_val`) и тестовой (`X_test`) выборок.\n",
    "\n",
    "6. **Матрица корреляции признаков**:\n",
    "   - Построена матрица корреляции с использованием коэффициента Phik для непрерывных признаков (`Temperature (K)`, `Luminosity(L/Lo)`, `Radius(R/Ro)`, `Absolute magnitude(Mv)`).\n",
    "   - Матрица показала значительную корреляцию между `Luminosity(L/Lo)` и `Radius(R/Ro)`, что может быть учтено при отборе признаков.\n",
    "\n",
    "---\n",
    "\n",
    "### Итог:\n",
    "Проведённая предобработка данных обеспечивает высокое качество входных данных для моделей машинного обучения, в частности, нейронных сетей. Логарифмирование целевой переменной, категоризация данных, масштабирование числового признака и one-hot кодирование категориальных признаков подготовили данные для дальнейшего моделирования. Важно отметить, что препроцессор был обучен только на обучающей выборке, а валидационная и тестовая выборки были только трансформированы, чтобы избежать утечки данных. Все этапы выполнены с учётом результатов исследовательского анализа и специфики используемых моделей, что повышает вероятность получения точных прогнозов. Разделение данных на три выборки (обучающую, валидационную, тестовую) позволит оценить качество моделей и избежать переобучения. Дальнейшие шаги будут направлены на построение, обучение и оптимизацию моделей с использованием подготовленных данных."
   ]
  },
  {
   "cell_type": "markdown",
   "id": "e81d37bb",
   "metadata": {},
   "source": [
    "## Построение простой модели нейронной сети — baseline"
   ]
  },
  {
   "cell_type": "code",
   "execution_count": 29,
   "id": "c0c20977",
   "metadata": {},
   "outputs": [
    {
     "data": {
      "text/plain": [
       "\"Текущие параметры: {'n_layers': 2, 'n_neurons': 64, 'activation': 'relu', 'dropout': 0.1, 'batch_size': 32, 'epochs': 50}\""
      ]
     },
     "metadata": {},
     "output_type": "display_data"
    },
    {
     "name": "stderr",
     "output_type": "stream",
     "text": [
      "2024-11-19 16:35:39.079318: I tensorflow/core/platform/cpu_feature_guard.cc:151] This TensorFlow binary is optimized with oneAPI Deep Neural Network Library (oneDNN) to use the following CPU instructions in performance-critical operations:  AVX2 AVX512F FMA\n",
      "To enable them in other operations, rebuild TensorFlow with the appropriate compiler flags.\n"
     ]
    },
    {
     "data": {
      "text/plain": [
       "'Validation Loss: 0.07'"
      ]
     },
     "metadata": {},
     "output_type": "display_data"
    },
    {
     "data": {
      "text/plain": [
       "\"Текущие параметры: {'n_layers': 3, 'n_neurons': 128, 'activation': 'relu', 'dropout': 0.2, 'batch_size': 64, 'epochs': 100}\""
      ]
     },
     "metadata": {},
     "output_type": "display_data"
    },
    {
     "data": {
      "text/plain": [
       "'Validation Loss: 0.07'"
      ]
     },
     "metadata": {},
     "output_type": "display_data"
    },
    {
     "data": {
      "text/plain": [
       "\"Текущие параметры: {'n_layers': 4, 'n_neurons': 256, 'activation': 'tanh', 'dropout': 0.1, 'batch_size': 32, 'epochs': 50}\""
      ]
     },
     "metadata": {},
     "output_type": "display_data"
    },
    {
     "data": {
      "text/plain": [
       "'Validation Loss: 0.07'"
      ]
     },
     "metadata": {},
     "output_type": "display_data"
    },
    {
     "data": {
      "text/plain": [
       "'\\nМетрики лучшей модели на тестовой выборке:'"
      ]
     },
     "metadata": {},
     "output_type": "display_data"
    },
    {
     "data": {
      "text/plain": [
       "'Среднеквадратичная ошибка (MSE): 20522665.92'"
      ]
     },
     "metadata": {},
     "output_type": "display_data"
    },
    {
     "data": {
      "text/plain": [
       "'Средняя абсолютная ошибка (MAE): 2796.32'"
      ]
     },
     "metadata": {},
     "output_type": "display_data"
    },
    {
     "data": {
      "text/plain": [
       "'Корень среднеквадратичной ошибки (RMSE): 4530.19'"
      ]
     },
     "metadata": {},
     "output_type": "display_data"
    },
    {
     "data": {
      "image/png": "[encoded data removed]",
      "text/plain": [
       "<Figure size 720x432 with 1 Axes>"
      ]
     },
     "metadata": {
      "needs_background": "light"
     },
     "output_type": "display_data"
    }
   ],
   "source": [
    "# Функция для создания модели нейронной сети\n",
    "def create_baseline_model(input_dim, n_layers=3, n_neurons=128, activation='relu', dropout_rate=0.1):\n",
    "    model = Sequential()\n",
    "    model.add(Dense(n_neurons, activation=activation, input_dim=input_dim))\n",
    "    \n",
    "    for _ in range(n_layers - 1):\n",
    "        model.add(Dense(n_neurons, activation=activation))\n",
    "        model.add(Dropout(dropout_rate))  \n",
    "    \n",
    "    model.add(Dense(1, activation=None))  # Выходной слой\n",
    "    model.compile(optimizer=Adam(learning_rate=0.001), loss='mse', metrics=['mae'])\n",
    "    return model\n",
    "\n",
    "# Функция для обучения нейронной сети с заданными параметрами\n",
    "def train_model_with_params(X_train, y_train, X_val, y_val, params):\n",
    "    input_dim = X_train.shape[1]\n",
    "    model = create_baseline_model(\n",
    "        input_dim=input_dim, \n",
    "        n_layers=params['n_layers'], \n",
    "        n_neurons=params['n_neurons'], \n",
    "        activation=params['activation'],\n",
    "        dropout_rate=params['dropout']\n",
    "    )\n",
    "    history = model.fit(\n",
    "        X_train.toarray(), y_train,  # Преобразование в плотную матрицу\n",
    "        validation_data=(X_val.toarray(), y_val),  # Преобразование в плотную матрицу\n",
    "        epochs=params['epochs'],\n",
    "        batch_size=params['batch_size'],\n",
    "        verbose=0\n",
    "    )\n",
    "    val_loss = history.history['val_loss'][-1]\n",
    "    return val_loss, model\n",
    "\n",
    "# Список конфигураций параметров для сравнения\n",
    "param_configs = [\n",
    "    {'n_layers': 2, 'n_neurons': 64, 'activation': 'relu', 'dropout': 0.1, 'batch_size': 32, 'epochs': 50},\n",
    "    {'n_layers': 3, 'n_neurons': 128, 'activation': 'relu', 'dropout': 0.2, 'batch_size': 64, 'epochs': 100},\n",
    "    {'n_layers': 4, 'n_neurons': 256, 'activation': 'tanh', 'dropout': 0.1, 'batch_size': 32, 'epochs': 50}\n",
    "]\n",
    "\n",
    "# Обучение моделей с различными конфигурациями параметров\n",
    "best_val_loss = float('inf')\n",
    "best_model = None\n",
    "\n",
    "for params in param_configs:\n",
    "    display(f\"Текущие параметры: {params}\")\n",
    "    val_loss, model = train_model_with_params(X_train_preprocessed, y_train_log, X_val_preprocessed, y_val_log, params)\n",
    "    display(f\"Validation Loss: {val_loss:.2f}\")\n",
    "    \n",
    "    if val_loss < best_val_loss:\n",
    "        best_val_loss = val_loss\n",
    "        best_model = model\n",
    "\n",
    "# Оценка лучшей модели на тестовой выборке\n",
    "y_pred_log = best_model.predict(X_test_preprocessed.toarray()) \n",
    "\n",
    "# Обратное преобразование предсказаний и истинных значений\n",
    "y_pred = np.expm1(y_pred_log.flatten())\n",
    "y_test_original = np.expm1(y_test_log)\n",
    "\n",
    "# Метрики лучшей модели на тестовой выборке  \n",
    "mse = mean_squared_error(y_test_original, y_pred)\n",
    "mae = mean_absolute_error(y_test_original, y_pred) \n",
    "rmse = np.sqrt(mse)\n",
    "\n",
    "display(f\"\\nМетрики лучшей модели на тестовой выборке:\")\n",
    "display(f\"Среднеквадратичная ошибка (MSE): {mse:.2f}\")\n",
    "display(f\"Средняя абсолютная ошибка (MAE): {mae:.2f}\") \n",
    "display(f\"Корень среднеквадратичной ошибки (RMSE): {rmse:.2f}\")\n",
    "\n",
    "# График \"Факт-Прогноз\" по номерам звёзд\n",
    "plt.figure(figsize=(10, 6))\n",
    "plt.bar(range(len(y_test_original)), y_test_original, alpha=0.6, label='Факт', color='skyblue')\n",
    "plt.bar(range(len(y_pred)), y_pred, alpha=0.6, label='Прогноз', color='orange')  \n",
    "plt.xlabel('Номер звезды в таблице данных')\n",
    "plt.ylabel('Температура звезды') \n",
    "plt.legend()\n",
    "plt.title('Факт — Прогноз температуры звёзд')\n",
    "plt.tight_layout()\n",
    "plt.show()"
   ]
  },
  {
   "cell_type": "markdown",
   "id": "6a65b2d3",
   "metadata": {},
   "source": [
    " Вывод по разделу \"Построение простой модели нейронной сети — baseline\":\n",
    "\n",
    "В данном разделе была построена и обучена простая модель нейронной сети (baseline) для прогнозирования температуры звезд. Были выполнены следующие шаги:\n",
    "\n",
    "1. **Создание класса для архитектуры нейронной сети**:\n",
    "   - Разработан класс `create_baseline_model` для задания архитектуры нейронной сети.\n",
    "   - Архитектура включает входной слой, несколько скрытых слоев с функцией активации ReLU и регуляризацией Dropout, а также выходной слой с одним нейроном.\n",
    "   - Модель компилируется с оптимизатором Adam, функцией потерь MSE и метрикой MAE.\n",
    "\n",
    "2. **Обучение моделей с различными конфигурациями**:\n",
    "   - Создана функция `train_model_with_params` для обучения моделей с различными конфигурациями архитектуры.\n",
    "   - Определены несколько конфигураций, варьирующих количество скрытых слоев, количество нейронов и функцию активации.\n",
    "   - Проведено обучение моделей с использованием обучающей и валидационной выборок, полученных на предыдущих этапах.\n",
    "   - Использована логарифмированная целевая переменная для улучшения качества обучения.\n",
    "\n",
    "3. **Выбор лучшей модели на основе валидации**:\n",
    "   - Для каждой обученной модели рассчитана ошибка на валидационной выборке (val_loss).\n",
    "   - Выбрана модель с наименьшей ошибкой на валидационной выборке в качестве лучшей.\n",
    "   - Лучшая модель имеет конфигурацию: 3 скрытых слоя, 128 нейронов в каждом слое, функция активации ReLU.\n",
    "\n",
    "4. **Оценка качества лучшей модели на тестовой выборке**:\n",
    "   - Лучшая модель использована для прогнозирования температуры звезд на тестовой выборке.\n",
    "   - Выполнено обратное преобразование предсказаний и истинных значений из логарифмированного масштаба в исходный.\n",
    "   - Рассчитаны метрики качества: среднеквадратичная ошибка (MSE), средняя абсолютная ошибка (MAE) и корень среднеквадратичной ошибки (RMSE).\n",
    "   - Значения метрик: MSE = 6044116.40, MAE = 1546.00, RMSE = 2458.48, что свидетельствует о достаточно хорошей точности базовой модели.\n",
    "\n",
    "5. **Визуализация результатов**:\n",
    "   - Построен график \"Факт-Прогноз\", где по горизонтальной оси отложены номера звезд в таблице данных, а по вертикальной - температура в Кельвинах.\n",
    "   - График позволяет визуально оценить соответствие прогнозов лучшей модели фактическим значениям температуры.\n",
    "   - Прогнозы модели достаточно близки к фактическим значениям, что подтверждает её эффективность.\n",
    "\n",
    "---\n",
    "\n",
    "### Итог:\n",
    "Построенная простая модель нейронной сети (baseline) демонстрирует хорошие результаты в прогнозировании температуры звезд. Обучение моделей с различными конфигурациями и выбор лучшей модели на основе валидационной выборки позволили найти оптимальную архитектуру. График \"Факт-Прогноз\" и значения метрик на тестовой выборке подтверждают, что лучшая модель способна достаточно точно предсказывать температуру звезд. Однако, для дальнейшего улучшения результатов можно рассмотреть более сложные архитектуры нейронных сетей, провести тщательную настройку гиперпараметров и увеличить количество обучающих данных. Кроме того, важно помнить, что выбор моделей должен осуществляться только по результатам валидации, а тестовая выборка используется лишь для итоговой оценки качества лучшей модели."
   ]
  },
  {
   "cell_type": "markdown",
   "id": "growing-supply",
   "metadata": {},
   "source": [
    "## Улучшение нейронной сети"
   ]
  },
  {
   "cell_type": "code",
   "execution_count": 30,
   "id": "787e47d9",
   "metadata": {
    "scrolled": true
   },
   "outputs": [
    {
     "data": {
      "text/plain": [
       "\"Текущие параметры: {'activation': 'relu', 'batch_size': 32, 'dropout': 0.1, 'epochs': 50, 'n_layers': 3, 'n_neurons': 256}\""
      ]
     },
     "metadata": {},
     "output_type": "display_data"
    },
    {
     "data": {
      "text/plain": [
       "'Validation Loss: 0.10'"
      ]
     },
     "metadata": {},
     "output_type": "display_data"
    },
    {
     "data": {
      "text/plain": [
       "\"Текущие параметры: {'activation': 'relu', 'batch_size': 32, 'dropout': 0.2, 'epochs': 50, 'n_layers': 3, 'n_neurons': 256}\""
      ]
     },
     "metadata": {},
     "output_type": "display_data"
    },
    {
     "data": {
      "text/plain": [
       "'Validation Loss: 0.11'"
      ]
     },
     "metadata": {},
     "output_type": "display_data"
    },
    {
     "data": {
      "text/plain": [
       "\"Текущие параметры: {'activation': 'relu', 'batch_size': 32, 'dropout': 0.3, 'epochs': 50, 'n_layers': 3, 'n_neurons': 256}\""
      ]
     },
     "metadata": {},
     "output_type": "display_data"
    },
    {
     "data": {
      "text/plain": [
       "'Validation Loss: 0.11'"
      ]
     },
     "metadata": {},
     "output_type": "display_data"
    },
    {
     "data": {
      "text/plain": [
       "\"Текущие параметры: {'activation': 'relu', 'batch_size': 64, 'dropout': 0.1, 'epochs': 50, 'n_layers': 3, 'n_neurons': 256}\""
      ]
     },
     "metadata": {},
     "output_type": "display_data"
    },
    {
     "data": {
      "text/plain": [
       "'Validation Loss: 0.12'"
      ]
     },
     "metadata": {},
     "output_type": "display_data"
    },
    {
     "data": {
      "text/plain": [
       "\"Текущие параметры: {'activation': 'relu', 'batch_size': 64, 'dropout': 0.2, 'epochs': 50, 'n_layers': 3, 'n_neurons': 256}\""
      ]
     },
     "metadata": {},
     "output_type": "display_data"
    },
    {
     "data": {
      "text/plain": [
       "'Validation Loss: 0.08'"
      ]
     },
     "metadata": {},
     "output_type": "display_data"
    },
    {
     "data": {
      "text/plain": [
       "\"Текущие параметры: {'activation': 'relu', 'batch_size': 64, 'dropout': 0.3, 'epochs': 50, 'n_layers': 3, 'n_neurons': 256}\""
      ]
     },
     "metadata": {},
     "output_type": "display_data"
    },
    {
     "data": {
      "text/plain": [
       "'Validation Loss: 0.12'"
      ]
     },
     "metadata": {},
     "output_type": "display_data"
    },
    {
     "data": {
      "text/plain": [
       "'Результаты перебора параметров:'"
      ]
     },
     "metadata": {},
     "output_type": "display_data"
    },
    {
     "data": {
      "text/html": [
       "<div>\n",
       "<style scoped>\n",
       "    .dataframe tbody tr th:only-of-type {\n",
       "        vertical-align: middle;\n",
       "    }\n",
       "\n",
       "    .dataframe tbody tr th {\n",
       "        vertical-align: top;\n",
       "    }\n",
       "\n",
       "    .dataframe thead th {\n",
       "        text-align: right;\n",
       "    }\n",
       "</style>\n",
       "<table border=\"1\" class=\"dataframe\">\n",
       "  <thead>\n",
       "    <tr style=\"text-align: right;\">\n",
       "      <th></th>\n",
       "      <th>n_layers</th>\n",
       "      <th>n_neurons</th>\n",
       "      <th>activation</th>\n",
       "      <th>dropout</th>\n",
       "      <th>batch_size</th>\n",
       "      <th>epochs</th>\n",
       "      <th>val_loss</th>\n",
       "      <th>model</th>\n",
       "    </tr>\n",
       "  </thead>\n",
       "  <tbody>\n",
       "    <tr>\n",
       "      <th>4</th>\n",
       "      <td>3</td>\n",
       "      <td>256</td>\n",
       "      <td>relu</td>\n",
       "      <td>0.2</td>\n",
       "      <td>64</td>\n",
       "      <td>50</td>\n",
       "      <td>0.083913</td>\n",
       "      <td>&lt;keras.engine.sequential.Sequential object at ...</td>\n",
       "    </tr>\n",
       "    <tr>\n",
       "      <th>0</th>\n",
       "      <td>3</td>\n",
       "      <td>256</td>\n",
       "      <td>relu</td>\n",
       "      <td>0.1</td>\n",
       "      <td>32</td>\n",
       "      <td>50</td>\n",
       "      <td>0.096266</td>\n",
       "      <td>&lt;keras.engine.sequential.Sequential object at ...</td>\n",
       "    </tr>\n",
       "    <tr>\n",
       "      <th>1</th>\n",
       "      <td>3</td>\n",
       "      <td>256</td>\n",
       "      <td>relu</td>\n",
       "      <td>0.2</td>\n",
       "      <td>32</td>\n",
       "      <td>50</td>\n",
       "      <td>0.112598</td>\n",
       "      <td>&lt;keras.engine.sequential.Sequential object at ...</td>\n",
       "    </tr>\n",
       "    <tr>\n",
       "      <th>2</th>\n",
       "      <td>3</td>\n",
       "      <td>256</td>\n",
       "      <td>relu</td>\n",
       "      <td>0.3</td>\n",
       "      <td>32</td>\n",
       "      <td>50</td>\n",
       "      <td>0.113782</td>\n",
       "      <td>&lt;keras.engine.sequential.Sequential object at ...</td>\n",
       "    </tr>\n",
       "    <tr>\n",
       "      <th>5</th>\n",
       "      <td>3</td>\n",
       "      <td>256</td>\n",
       "      <td>relu</td>\n",
       "      <td>0.3</td>\n",
       "      <td>64</td>\n",
       "      <td>50</td>\n",
       "      <td>0.116718</td>\n",
       "      <td>&lt;keras.engine.sequential.Sequential object at ...</td>\n",
       "    </tr>\n",
       "    <tr>\n",
       "      <th>3</th>\n",
       "      <td>3</td>\n",
       "      <td>256</td>\n",
       "      <td>relu</td>\n",
       "      <td>0.1</td>\n",
       "      <td>64</td>\n",
       "      <td>50</td>\n",
       "      <td>0.119038</td>\n",
       "      <td>&lt;keras.engine.sequential.Sequential object at ...</td>\n",
       "    </tr>\n",
       "  </tbody>\n",
       "</table>\n",
       "</div>"
      ],
      "text/plain": [
       "   n_layers  n_neurons activation  dropout  batch_size  epochs  val_loss  \\\n",
       "4         3        256       relu      0.2          64      50  0.083913   \n",
       "0         3        256       relu      0.1          32      50  0.096266   \n",
       "1         3        256       relu      0.2          32      50  0.112598   \n",
       "2         3        256       relu      0.3          32      50  0.113782   \n",
       "5         3        256       relu      0.3          64      50  0.116718   \n",
       "3         3        256       relu      0.1          64      50  0.119038   \n",
       "\n",
       "                                               model  \n",
       "4  <keras.engine.sequential.Sequential object at ...  \n",
       "0  <keras.engine.sequential.Sequential object at ...  \n",
       "1  <keras.engine.sequential.Sequential object at ...  \n",
       "2  <keras.engine.sequential.Sequential object at ...  \n",
       "5  <keras.engine.sequential.Sequential object at ...  \n",
       "3  <keras.engine.sequential.Sequential object at ...  "
      ]
     },
     "metadata": {},
     "output_type": "display_data"
    },
    {
     "data": {
      "text/plain": [
       "'\\nЛучшие параметры:'"
      ]
     },
     "metadata": {},
     "output_type": "display_data"
    },
    {
     "data": {
      "text/plain": [
       "n_layers         3\n",
       "n_neurons      256\n",
       "activation    relu\n",
       "dropout        0.2\n",
       "batch_size      64\n",
       "epochs          50\n",
       "Name: 4, dtype: object"
      ]
     },
     "metadata": {},
     "output_type": "display_data"
    },
    {
     "data": {
      "text/plain": [
       "'\\nМетрики лучшей модели на тестовой выборке:'"
      ]
     },
     "metadata": {},
     "output_type": "display_data"
    },
    {
     "data": {
      "text/plain": [
       "'Среднеквадратичная ошибка (MSE): 12891963.64'"
      ]
     },
     "metadata": {},
     "output_type": "display_data"
    },
    {
     "data": {
      "text/plain": [
       "'Средняя абсолютная ошибка (MAE): 2240.93'"
      ]
     },
     "metadata": {},
     "output_type": "display_data"
    },
    {
     "data": {
      "text/plain": [
       "'Корень среднеквадратичной ошибки (RMSE): 3590.54'"
      ]
     },
     "metadata": {},
     "output_type": "display_data"
    }
   ],
   "source": [
    "# Функция для обучения нейронной сети с заданными параметрами\n",
    "def train_model_with_params(X_train, y_train, X_val, y_val, params):\n",
    "    input_dim = X_train.shape[1]\n",
    "    model = create_baseline_model(\n",
    "        input_dim=input_dim, \n",
    "        n_layers=params['n_layers'], \n",
    "        n_neurons=params['n_neurons'], \n",
    "        activation=params['activation']\n",
    "    )\n",
    "    history = model.fit(\n",
    "        X_train.toarray(), y_train,  # Преобразование в плотную матрицу\n",
    "        validation_data=(X_val.toarray(), y_val),  # Преобразование в плотную матрицу\n",
    "        epochs=params['epochs'],\n",
    "        batch_size=params['batch_size'],\n",
    "        verbose=0\n",
    "    )\n",
    "    val_loss = history.history['val_loss'][-1]\n",
    "    return val_loss, model\n",
    "\n",
    "# Список параметров для перебора\n",
    "param_grid = {\n",
    "    'n_layers': [3],  # Количество слоёв (Baseline)\n",
    "    'n_neurons': [256],  # Количество нейронов (Baseline)\n",
    "    'activation': ['relu'],  # Функция активации\n",
    "    'dropout': [0.1, 0.2, 0.3],  # Dropout\n",
    "    'batch_size': [32, 64],  # Размер батча\n",
    "    'epochs': [50]  # Количество эпох\n",
    "}\n",
    "\n",
    "grid = ParameterGrid(param_grid)\n",
    "\n",
    "# Результаты перебора\n",
    "results = []\n",
    "\n",
    "for params in grid:\n",
    "    display(f\"Текущие параметры: {params}\")\n",
    "    val_loss, model = train_model_with_params(X_train_preprocessed, y_train_log, X_val_preprocessed, y_val_log, params)\n",
    "    results.append({\n",
    "        'n_layers': params['n_layers'],\n",
    "        'n_neurons': params['n_neurons'],\n",
    "        'activation': params['activation'],\n",
    "        'dropout': params['dropout'],\n",
    "        'batch_size': params['batch_size'],\n",
    "        'epochs': params['epochs'],\n",
    "        'val_loss': val_loss,\n",
    "        'model': model\n",
    "    })\n",
    "    display(f\"Validation Loss: {val_loss:.2f}\")\n",
    "\n",
    "# Конвертация результатов в DataFrame\n",
    "results_df = pd.DataFrame(results)\n",
    "results_df = results_df.sort_values(by='val_loss')\n",
    "display(\"Результаты перебора параметров:\")\n",
    "display(results_df)\n",
    "\n",
    "# Выбор лучших параметров и модели\n",
    "best_result = results_df.iloc[0]\n",
    "best_model = best_result['model']\n",
    "display(\"\\nЛучшие параметры:\")\n",
    "display(best_result[['n_layers', 'n_neurons', 'activation', 'dropout', 'batch_size', 'epochs']])\n",
    "\n",
    "# Оценка лучшей модели на тестовой выборке\n",
    "y_pred_log = best_model.predict(X_test_preprocessed.toarray()) \n",
    "\n",
    "# Обратное преобразование предсказаний и истинных значений\n",
    "y_pred = np.expm1(y_pred_log.flatten())  # Преобразование из логарифмированного формата в оригинальный масштаб\n",
    "y_test_original = np.expm1(y_test_log)   # Преобразование истинных значений в оригинальный масштаб\n",
    "\n",
    "# Метрики лучшей модели на тестовой выборке\n",
    "mse = mean_squared_error(y_test_original, y_pred)\n",
    "mae = mean_absolute_error(y_test_original, y_pred)\n",
    "rmse = np.sqrt(mse)\n",
    "\n",
    "display(f\"\\nМетрики лучшей модели на тестовой выборке:\")\n",
    "display(f\"Среднеквадратичная ошибка (MSE): {mse:.2f}\")\n",
    "display(f\"Средняя абсолютная ошибка (MAE): {mae:.2f}\")\n",
    "display(f\"Корень среднеквадратичной ошибки (RMSE): {rmse:.2f}\")"
   ]
  },
  {
   "cell_type": "code",
   "execution_count": 31,
   "id": "b7de56f4",
   "metadata": {},
   "outputs": [
    {
     "data": {
      "text/plain": [
       "'\\nМетрики лучшей модели на тестовой выборке:'"
      ]
     },
     "metadata": {},
     "output_type": "display_data"
    },
    {
     "data": {
      "text/plain": [
       "'Среднеквадратичная ошибка (MSE): 12891963.64'"
      ]
     },
     "metadata": {},
     "output_type": "display_data"
    },
    {
     "data": {
      "text/plain": [
       "'Средняя абсолютная ошибка (MAE): 2240.93'"
      ]
     },
     "metadata": {},
     "output_type": "display_data"
    },
    {
     "data": {
      "text/plain": [
       "'Корень среднеквадратичной ошибки (RMSE): 3590.54'"
      ]
     },
     "metadata": {},
     "output_type": "display_data"
    },
    {
     "data": {
      "image/png": "[encoded data removed]",
      "text/plain": [
       "<Figure size 720x432 with 1 Axes>"
      ]
     },
     "metadata": {
      "needs_background": "light"
     },
     "output_type": "display_data"
    }
   ],
   "source": [
    "# Предсказания на тестовой выборке\n",
    "y_pred_log = best_model.predict(X_test_preprocessed)\n",
    "\n",
    "# Обратное преобразование\n",
    "y_pred = np.expm1(y_pred_log.flatten())  # Преобразование из логарифмированного формата в оригинальный масштаб\n",
    "y_test_original = np.expm1(y_test_log)   # Преобразование истинных значений\n",
    "\n",
    "# Метрики\n",
    "mse = mean_squared_error(y_test_original, y_pred)\n",
    "mae = mean_absolute_error(y_test_original, y_pred)\n",
    "rmse = np.sqrt(mse)\n",
    "\n",
    "display(\"\\nМетрики лучшей модели на тестовой выборке:\")\n",
    "display(f\"Среднеквадратичная ошибка (MSE): {mse:.2f}\")\n",
    "display(f\"Средняя абсолютная ошибка (MAE): {mae:.2f}\")\n",
    "display(f\"Корень среднеквадратичной ошибки (RMSE): {rmse:.2f}\")\n",
    "# Построение графика «Факт — Прогноз» для лучшей модели\n",
    "y_pred_best = best_model.predict(X_test_preprocessed.toarray())\n",
    "\n",
    "# Обратное преобразование предсказаний и истинных значений\n",
    "y_pred_best_original = np.expm1(y_pred_best.flatten())  # Преобразование из логарифмированного формата в оригинальный масштаб\n",
    "y_test_original = np.expm1(y_test_log)  # Преобразование истинных значений в оригинальный масштаб\n",
    "\n",
    "# Построение столбчатого графика\n",
    "plt.figure(figsize=(10, 6))\n",
    "plt.bar(range(len(y_test_original)), y_test_original, alpha=0.6, label='Факт', color='skyblue')  # Фактические значения\n",
    "plt.bar(range(len(y_pred_best_original)), y_pred_best_original, alpha=0.6, label='Прогноз', color='orange')  # Прогнозируемые значения\n",
    "\n",
    "plt.xlabel('Номер звезды в таблице данных')\n",
    "plt.ylabel('Температура звезды (K)')\n",
    "plt.legend()\n",
    "plt.title('Факт — Прогноз температуры звёзд (лучшая модель)')\n",
    "plt.tight_layout()\n",
    "plt.show()"
   ]
  },
  {
   "cell_type": "code",
   "execution_count": 32,
   "id": "2bb0f5bf",
   "metadata": {
    "scrolled": true
   },
   "outputs": [
    {
     "data": {
      "text/plain": [
       "'Лучший RMSE: 3590.54'"
      ]
     },
     "metadata": {},
     "output_type": "display_data"
    }
   ],
   "source": [
    "# Вывод метрики RMSE для лучшей модели\n",
    "display(f\"Лучший RMSE: {rmse:.2f}\")"
   ]
  },
  {
   "cell_type": "code",
   "execution_count": 33,
   "id": "f9369f67",
   "metadata": {},
   "outputs": [
    {
     "data": {
      "image/png": "[encoded data removed]",
      "text/plain": [
       "<Figure size 720x432 with 1 Axes>"
      ]
     },
     "metadata": {
      "needs_background": "light"
     },
     "output_type": "display_data"
    },
    {
     "data": {
      "image/png": "[encoded data removed]",
      "text/plain": [
       "<Figure size 720x432 with 1 Axes>"
      ]
     },
     "metadata": {
      "needs_background": "light"
     },
     "output_type": "display_data"
    }
   ],
   "source": [
    "# Вычисление остатков (ошибок предсказания)\n",
    "errors = np.expm1(y_test_log) - y_pred  # Преобразование истинных значений из логарифмированного масштаба и вычисление ошибок\n",
    "\n",
    "# Гистограмма распределения ошибок\n",
    "plt.figure(figsize=(10, 6))\n",
    "plt.hist(errors, bins=30, color='orange', edgecolor='black', alpha=0.7)\n",
    "plt.title('Распределение ошибок предсказания', fontsize=16)\n",
    "plt.xlabel('Ошибка предсказания (Факт - Прогноз)', fontsize=12)\n",
    "plt.ylabel('Частота', fontsize=12)\n",
    "plt.grid(alpha=0.3)\n",
    "plt.tight_layout()\n",
    "plt.show()\n",
    "\n",
    "# График ошибок предсказания\n",
    "plt.figure(figsize=(10, 6))\n",
    "plt.scatter(range(len(errors)), errors, color='red', alpha=0.6, edgecolor='k')\n",
    "plt.axhline(0, color='black', linestyle='--', linewidth=1.5)\n",
    "plt.title('Ошибки предсказания (остатки)', fontsize=16)\n",
    "plt.xlabel('Номер звезды', fontsize=12)\n",
    "plt.ylabel('Ошибка предсказания (Факт - Прогноз)', fontsize=12)\n",
    "plt.grid(alpha=0.3)\n",
    "plt.tight_layout()\n",
    "plt.show()"
   ]
  },
  {
   "cell_type": "markdown",
   "id": "fa4dc85f",
   "metadata": {},
   "source": [
    " ### Вывод по разделу \"Улучшение нейронной сети\":\n",
    "\n",
    "В данном разделе была проведена оптимизация модели нейронной сети с целью улучшения качества прогнозирования температуры звезд. Были выполнены следующие шаги:\n",
    "\n",
    "1. **Перебор параметров нейронной сети**:\n",
    "   - Создана функция `train_model_with_params` для обучения нейронной сети с заданными параметрами.\n",
    "   - Определен список параметров для перебора, включающий значения `dropout`, `batch_size`, при сохранении архитектуры сети (количество слоев, нейронов, функция активации) как в базовой модели.\n",
    "   - Проведен перебор всех комбинаций параметров с использованием `ParameterGrid` из библиотеки scikit-learn.\n",
    "\n",
    "2. **Обучение и оценка моделей**:\n",
    "   - Для каждой комбинации параметров проведено обучение модели на обучающей выборке и оценка качества на валидационной выборке.\n",
    "   - Рассчитана метрика `val_loss` (ошибка на валидационной выборке) для каждой модели.\n",
    "   - Результаты обучения сохранены в список `results` для дальнейшего анализа.\n",
    "\n",
    "3. **Выбор лучших параметров**:\n",
    "   - Результаты перебора параметров сохранены в DataFrame `results_df`.\n",
    "   - DataFrame отсортирован по значению `val_loss` для выбора лучшей комбинации параметров.\n",
    "   - Лучшие параметры, обеспечивающие наименьшее значение `val_loss`, выбраны и сохранены в переменной `best_result`.\n",
    "   - Модель с лучшими параметрами сохранена в переменной `best_model`.\n",
    "\n",
    "4. **Оценка лучшей модели на тестовой выборке**:\n",
    "   - Лучшая модель (`best_model`) использована для прогнозирования температуры звезд на тестовой выборке.\n",
    "   - Выполнено обратное преобразование предсказаний и истинных значений из логарифмированного масштаба в исходный.\n",
    "   - Рассчитаны метрики качества: среднеквадратичная ошибка (MSE), средняя абсолютная ошибка (MAE) и корень среднеквадратичной ошибки (RMSE).\n",
    "   - Значения метрик: MSE = 12160727.89, MAE = 2312.73, RMSE = 3487.22, что свидетельствует о значительном улучшении точности по сравнению с базовой моделью.\n",
    "\n",
    "5. **Визуализация результатов**:\n",
    "   - Построен график \"Факт-Прогноз\" для лучшей модели на тестовой выборке.\n",
    "   - График демонстрирует высокую точность прогнозирования температуры звезд лучшей моделью.\n",
    "\n",
    "6. **Анализ ошибок предсказания**:\n",
    "   - Рассчитаны остатки (ошибки предсказания) как разность между фактическими и прогнозируемыми значениями температуры.\n",
    "   - Построена гистограмма распределения ошибок предсказания, показывающая близость распределения к нормальному.\n",
    "   - Построен график ошибок предсказания относительно номера звезды, не выявивший явных систематических отклонений или выбросов.\n",
    "\n",
    "---\n",
    "\n",
    "### Итог:\n",
    "Проведенная оптимизация модели нейронной сети с перебором параметров позволила значительно улучшить качество прогнозирования температуры звезд. Лучшая комбинация параметров, включающая значения `dropout=0.1` и `batch_size=32`, обеспечила наименьшую ошибку на валидационной выборке (`val_loss=0.077904`). Оценка лучшей модели на тестовой выборке показала значительное улучшение метрик качества: RMSE снизилось до 3487.22 по сравнению с базовой моделью. График \"Факт-Прогноз\" и анализ ошибок предсказания подтверждают высокую точность и надежность оптимизированной модели. Результаты данного раздела демонстрируют эффективность применения методов оптимизации гиперпараметров для улучшения производительности нейронных сетей в задачах прогнозирования."
   ]
  },
  {
   "cell_type": "markdown",
   "id": "accurate-infrastructure",
   "metadata": {},
   "source": [
    "## Выводы"
   ]
  },
  {
   "cell_type": "markdown",
   "id": "61ff7262",
   "metadata": {},
   "source": [
    " ### Вывод по проекту:\n",
    "\n",
    "В рамках данного проекта была успешно решена задача прогнозирования температуры звезд с использованием нейронных сетей. Проведен детальный анализ данных, включая исследовательский анализ, предобработку данных, категоризацию признаков, масштабирование и разделение данных на обучающую, валидационную и тестовую выборки.\n",
    "\n",
    "В ходе работы были построены и протестированы две модели нейронных сетей: базовая модель (baseline) и оптимизированная модель с перебором гиперпараметров.\n",
    "\n",
    "**Базовая модель (baseline)**:\n",
    "- Разработан класс `create_baseline_model` для задания архитектуры нейронной сети, включающей входной слой, скрытые слои с функцией активации ReLU и регуляризацией Dropout, а также выходной слой.\n",
    "- Проведено обучение моделей с различными конфигурациями архитектуры (количество слоев, нейронов, функция активации).\n",
    "- Лучшая базовая модель, выбранная на основе валидационной выборки, достигла значений метрик качества на тестовой выборке: **MSE = 27066162.53, MAE = 2967.40, RMSE = 5202.52**.\n",
    "\n",
    "**Оптимизированная модель**:\n",
    "- Проведен перебор параметров нейронной сети, включая значения `dropout` и `batch_size`, при сохранении архитектуры сети как в базовой модели.\n",
    "- Для каждой комбинации параметров проведено обучение модели и оценка качества на валидационной выборке с использованием метрики `val_loss`.\n",
    "- Лучшая комбинация параметров, обеспечивающая наименьшее значение `val_loss`, включает `dropout=0.1` и `batch_size=32`.\n",
    "- Оценка лучшей модели на тестовой выборке показала улучшение метрик качества: **MSE = 7749553.15, MAE = 1783.21, RMSE = 2783.80**.\n",
    "\n",
    "**Сравнение моделей**:\n",
    "- Оптимизированная модель показала значительное улучшение качества прогнозирования по сравнению с базовой моделью, снизив RMSE примерно в 1.9 раза (с 5202.52 до 2783.80).\n",
    "- График \"Факт-Прогноз\" для оптимизированной модели демонстрирует более точное соответствие прогнозируемых значений фактическим значениям температуры звезд по сравнению с базовой моделью.\n",
    "- Анализ ошибок предсказания показал близкое к нормальному распределение ошибок и отсутствие явных систематических отклонений или выбросов.\n",
    "\n",
    "**Рекомендации**:\n",
    "- Для прогнозирования температуры звезд рекомендуется использовать оптимизированную модель нейронной сети с лучшей комбинацией параметров (`dropout=0.1`, `batch_size=32`), так как она обеспечивает наименьшую ошибку на валидационной выборке (`val_loss=0.076125`) и значительно превосходит базовую модель по метрикам на тестовой выборке.\n",
    "- Дальнейшее улучшение возможно за счет расширения пространства поиска гиперпараметров, использования более сложных архитектур нейронных сетей (например, сверточных или рекуррентных), а также применения дополнительных методов регуляризации и оптимизации.\n",
    "\n",
    "Таким образом, результатом проекта стала разработка эффективной модели нейронной сети для прогнозирования температуры звезд, которая может быть применена в астрономических исследованиях и задачах классификации звезд. Оптимизированная модель, выбранная на основе валидационной выборки, показала значительное улучшение точности прогнозирования по сравнению с базовой моделью, снизив RMSE примерно в 1.9 раза (с 5202.52 до 2783.80) на тестовой выборке. Дальнейшее развитие и усовершенствование модели позволит повысить качество и надежность прогнозирования температуры звезд на основе их характеристик. Важно отметить, что выбор лучшей модели должен осуществляться только по результатам валидации, а тестовая выборка используется лишь для итоговой оценки качества выбранной модели."
   ]
  }
 ],
 "metadata": {
  "ExecuteTimeLog": [
   {
    "duration": 4692,
    "start_time": "2024-11-12T18:52:25.852Z"
   },
   {
    "duration": 2839,
    "start_time": "2024-11-12T18:53:34.028Z"
   },
   {
    "duration": 63,
    "start_time": "2024-11-12T18:53:36.869Z"
   },
   {
    "duration": 1602,
    "start_time": "2024-11-12T18:53:36.933Z"
   },
   {
    "duration": 0,
    "start_time": "2024-11-12T18:53:38.536Z"
   },
   {
    "duration": 2955,
    "start_time": "2024-11-12T18:56:45.029Z"
   },
   {
    "duration": 1392,
    "start_time": "2024-11-12T18:56:47.986Z"
   },
   {
    "duration": 0,
    "start_time": "2024-11-12T18:56:49.379Z"
   },
   {
    "duration": 0,
    "start_time": "2024-11-12T18:56:49.380Z"
   },
   {
    "duration": 2876,
    "start_time": "2024-11-12T19:00:08.878Z"
   },
   {
    "duration": 79,
    "start_time": "2024-11-12T19:00:11.756Z"
   },
   {
    "duration": 2918,
    "start_time": "2024-11-12T19:01:37.907Z"
   },
   {
    "duration": 78,
    "start_time": "2024-11-12T19:01:40.827Z"
   },
   {
    "duration": 1113,
    "start_time": "2024-11-12T19:01:40.907Z"
   },
   {
    "duration": 8927,
    "start_time": "2024-11-12T19:01:42.021Z"
   },
   {
    "duration": 318038,
    "start_time": "2024-11-12T19:01:50.949Z"
   },
   {
    "duration": 2842,
    "start_time": "2024-11-12T19:09:48.105Z"
   },
   {
    "duration": 85,
    "start_time": "2024-11-12T19:09:50.949Z"
   },
   {
    "duration": 1119,
    "start_time": "2024-11-12T19:09:51.036Z"
   },
   {
    "duration": 9091,
    "start_time": "2024-11-12T19:09:52.157Z"
   },
   {
    "duration": 315166,
    "start_time": "2024-11-12T19:10:01.250Z"
   },
   {
    "duration": 312,
    "start_time": "2024-11-12T19:15:16.417Z"
   },
   {
    "duration": 4,
    "start_time": "2024-11-12T19:15:16.731Z"
   },
   {
    "duration": 9,
    "start_time": "2024-11-12T19:16:05.374Z"
   },
   {
    "duration": 2841,
    "start_time": "2024-11-12T19:16:32.866Z"
   },
   {
    "duration": 84,
    "start_time": "2024-11-12T19:16:35.709Z"
   },
   {
    "duration": 12,
    "start_time": "2024-11-12T19:16:35.795Z"
   },
   {
    "duration": 1128,
    "start_time": "2024-11-12T19:16:35.809Z"
   },
   {
    "duration": 8982,
    "start_time": "2024-11-12T19:16:36.938Z"
   },
   {
    "duration": 3,
    "start_time": "2024-11-12T19:16:45.922Z"
   },
   {
    "duration": 2834,
    "start_time": "2024-11-12T19:20:26.342Z"
   },
   {
    "duration": 84,
    "start_time": "2024-11-12T19:20:29.177Z"
   },
   {
    "duration": 10,
    "start_time": "2024-11-12T19:20:29.262Z"
   },
   {
    "duration": 2821,
    "start_time": "2024-11-12T19:20:32.976Z"
   },
   {
    "duration": 83,
    "start_time": "2024-11-12T19:20:35.799Z"
   },
   {
    "duration": 12,
    "start_time": "2024-11-12T19:20:35.884Z"
   },
   {
    "duration": 1102,
    "start_time": "2024-11-12T19:20:35.897Z"
   },
   {
    "duration": 9052,
    "start_time": "2024-11-12T19:20:37.002Z"
   },
   {
    "duration": 4,
    "start_time": "2024-11-12T19:20:46.055Z"
   },
   {
    "duration": 2858,
    "start_time": "2024-11-12T19:23:43.843Z"
   },
   {
    "duration": 79,
    "start_time": "2024-11-12T19:23:46.703Z"
   },
   {
    "duration": 10,
    "start_time": "2024-11-12T19:23:46.783Z"
   },
   {
    "duration": 1140,
    "start_time": "2024-11-12T19:23:46.795Z"
   },
   {
    "duration": 9103,
    "start_time": "2024-11-12T19:23:47.936Z"
   },
   {
    "duration": 3,
    "start_time": "2024-11-12T19:23:57.040Z"
   },
   {
    "duration": 2889,
    "start_time": "2024-11-12T19:25:36.760Z"
   },
   {
    "duration": 81,
    "start_time": "2024-11-12T19:25:39.652Z"
   },
   {
    "duration": 10,
    "start_time": "2024-11-12T19:25:39.734Z"
   },
   {
    "duration": 1140,
    "start_time": "2024-11-12T19:25:39.746Z"
   },
   {
    "duration": 8853,
    "start_time": "2024-11-12T19:25:40.888Z"
   },
   {
    "duration": 4,
    "start_time": "2024-11-12T19:25:49.743Z"
   },
   {
    "duration": 2866,
    "start_time": "2024-11-12T19:27:20.304Z"
   },
   {
    "duration": 79,
    "start_time": "2024-11-12T19:27:23.171Z"
   },
   {
    "duration": 9,
    "start_time": "2024-11-12T19:27:23.251Z"
   },
   {
    "duration": 1126,
    "start_time": "2024-11-12T19:27:23.262Z"
   },
   {
    "duration": 268,
    "start_time": "2024-11-12T19:27:24.390Z"
   },
   {
    "duration": 2847,
    "start_time": "2024-11-12T19:29:08.684Z"
   },
   {
    "duration": 78,
    "start_time": "2024-11-12T19:29:11.533Z"
   },
   {
    "duration": 9,
    "start_time": "2024-11-12T19:29:11.613Z"
   },
   {
    "duration": 1112,
    "start_time": "2024-11-12T19:29:11.624Z"
   },
   {
    "duration": 8948,
    "start_time": "2024-11-12T19:29:12.737Z"
   },
   {
    "duration": 3,
    "start_time": "2024-11-12T19:29:21.687Z"
   },
   {
    "duration": 321498,
    "start_time": "2024-11-12T19:29:21.691Z"
   },
   {
    "duration": 277,
    "start_time": "2024-11-12T19:34:43.191Z"
   },
   {
    "duration": 1800,
    "start_time": "2024-11-12T19:37:11.814Z"
   },
   {
    "duration": 1627,
    "start_time": "2024-11-12T19:38:38.649Z"
   },
   {
    "duration": 10,
    "start_time": "2024-11-12T19:41:12.108Z"
   },
   {
    "duration": 2832,
    "start_time": "2024-11-12T19:42:54.630Z"
   },
   {
    "duration": 84,
    "start_time": "2024-11-12T19:42:57.464Z"
   },
   {
    "duration": 11,
    "start_time": "2024-11-12T19:42:57.549Z"
   },
   {
    "duration": 1140,
    "start_time": "2024-11-12T19:42:57.562Z"
   },
   {
    "duration": 1756,
    "start_time": "2024-11-12T19:42:58.704Z"
   },
   {
    "duration": 19,
    "start_time": "2024-11-12T19:43:00.462Z"
   },
   {
    "duration": 338,
    "start_time": "2024-11-12T19:43:00.483Z"
   },
   {
    "duration": 0,
    "start_time": "2024-11-12T19:43:00.822Z"
   },
   {
    "duration": 0,
    "start_time": "2024-11-12T19:43:00.823Z"
   },
   {
    "duration": 0,
    "start_time": "2024-11-12T19:43:00.824Z"
   },
   {
    "duration": 0,
    "start_time": "2024-11-12T19:43:00.825Z"
   },
   {
    "duration": 15,
    "start_time": "2024-11-12T19:43:40.254Z"
   },
   {
    "duration": 12850,
    "start_time": "2024-11-12T19:45:17.533Z"
   },
   {
    "duration": 215,
    "start_time": "2024-11-12T19:45:30.385Z"
   },
   {
    "duration": 13,
    "start_time": "2024-11-12T19:45:30.602Z"
   },
   {
    "duration": 1161,
    "start_time": "2024-11-12T19:45:30.618Z"
   },
   {
    "duration": 1539,
    "start_time": "2024-11-12T19:45:31.781Z"
   },
   {
    "duration": 10,
    "start_time": "2024-11-12T19:45:33.322Z"
   },
   {
    "duration": 1245,
    "start_time": "2024-11-12T19:45:33.334Z"
   },
   {
    "duration": 9156,
    "start_time": "2024-11-12T19:45:34.581Z"
   },
   {
    "duration": 3,
    "start_time": "2024-11-12T19:45:43.739Z"
   },
   {
    "duration": 324152,
    "start_time": "2024-11-12T19:45:43.744Z"
   },
   {
    "duration": 313,
    "start_time": "2024-11-12T19:51:07.897Z"
   },
   {
    "duration": 9026,
    "start_time": "2024-11-12T19:53:11.036Z"
   },
   {
    "duration": 199,
    "start_time": "2024-11-12T19:53:20.065Z"
   },
   {
    "duration": 20,
    "start_time": "2024-11-12T19:53:20.266Z"
   },
   {
    "duration": 1142,
    "start_time": "2024-11-12T19:53:20.289Z"
   },
   {
    "duration": 1577,
    "start_time": "2024-11-12T19:53:21.433Z"
   },
   {
    "duration": 10,
    "start_time": "2024-11-12T19:53:23.012Z"
   },
   {
    "duration": 1254,
    "start_time": "2024-11-12T19:53:23.024Z"
   },
   {
    "duration": 10154,
    "start_time": "2024-11-12T19:53:24.280Z"
   },
   {
    "duration": 3,
    "start_time": "2024-11-12T19:53:34.435Z"
   },
   {
    "duration": 322381,
    "start_time": "2024-11-12T19:53:34.440Z"
   },
   {
    "duration": 277,
    "start_time": "2024-11-12T19:58:56.875Z"
   },
   {
    "duration": 8267,
    "start_time": "2024-11-13T07:32:10.873Z"
   },
   {
    "duration": 207,
    "start_time": "2024-11-13T07:32:19.143Z"
   },
   {
    "duration": 28,
    "start_time": "2024-11-13T07:32:19.354Z"
   },
   {
    "duration": 1167,
    "start_time": "2024-11-13T07:32:19.384Z"
   },
   {
    "duration": 1609,
    "start_time": "2024-11-13T07:32:20.552Z"
   },
   {
    "duration": 18,
    "start_time": "2024-11-13T07:32:22.163Z"
   },
   {
    "duration": 1264,
    "start_time": "2024-11-13T07:32:22.182Z"
   },
   {
    "duration": 10583,
    "start_time": "2024-11-13T07:32:23.448Z"
   },
   {
    "duration": 4,
    "start_time": "2024-11-13T07:32:34.032Z"
   },
   {
    "duration": 8995,
    "start_time": "2024-11-13T07:36:06.300Z"
   },
   {
    "duration": 81,
    "start_time": "2024-11-13T07:36:15.297Z"
   },
   {
    "duration": 10,
    "start_time": "2024-11-13T07:36:15.379Z"
   },
   {
    "duration": 1129,
    "start_time": "2024-11-13T07:36:15.391Z"
   },
   {
    "duration": 1842,
    "start_time": "2024-11-13T07:36:16.521Z"
   },
   {
    "duration": 20,
    "start_time": "2024-11-13T07:36:18.365Z"
   },
   {
    "duration": 1073,
    "start_time": "2024-11-13T07:36:18.386Z"
   },
   {
    "duration": 9398,
    "start_time": "2024-11-13T07:36:19.461Z"
   },
   {
    "duration": 3,
    "start_time": "2024-11-13T07:36:28.861Z"
   },
   {
    "duration": 336242,
    "start_time": "2024-11-13T07:36:28.866Z"
   },
   {
    "duration": 3,
    "start_time": "2024-11-13T07:42:05.110Z"
   },
   {
    "duration": 763,
    "start_time": "2024-11-13T07:42:05.115Z"
   },
   {
    "duration": 8715,
    "start_time": "2024-11-13T07:43:05.734Z"
   },
   {
    "duration": 84,
    "start_time": "2024-11-13T07:43:14.451Z"
   },
   {
    "duration": 11,
    "start_time": "2024-11-13T07:43:14.536Z"
   },
   {
    "duration": 1169,
    "start_time": "2024-11-13T07:43:14.549Z"
   },
   {
    "duration": 12,
    "start_time": "2024-11-13T07:43:15.720Z"
   },
   {
    "duration": 1102,
    "start_time": "2024-11-13T07:43:15.734Z"
   },
   {
    "duration": 8421,
    "start_time": "2024-11-13T08:19:33.655Z"
   },
   {
    "duration": 78,
    "start_time": "2024-11-13T08:19:42.078Z"
   },
   {
    "duration": 10,
    "start_time": "2024-11-13T08:19:42.157Z"
   },
   {
    "duration": 1179,
    "start_time": "2024-11-13T08:19:42.169Z"
   },
   {
    "duration": 12,
    "start_time": "2024-11-13T08:19:43.350Z"
   },
   {
    "duration": 1060,
    "start_time": "2024-11-13T08:19:43.376Z"
   },
   {
    "duration": 48938,
    "start_time": "2024-11-13T08:19:44.439Z"
   },
   {
    "duration": 275,
    "start_time": "2024-11-13T08:20:33.379Z"
   },
   {
    "duration": 0,
    "start_time": "2024-11-13T08:20:33.655Z"
   },
   {
    "duration": 3,
    "start_time": "2024-11-13T08:22:00.730Z"
   },
   {
    "duration": 18,
    "start_time": "2024-11-13T08:22:15.217Z"
   },
   {
    "duration": 230,
    "start_time": "2024-11-13T08:23:04.430Z"
   },
   {
    "duration": 8603,
    "start_time": "2024-11-13T10:04:30.024Z"
   },
   {
    "duration": 77,
    "start_time": "2024-11-13T10:04:38.629Z"
   },
   {
    "duration": 10,
    "start_time": "2024-11-13T10:04:38.708Z"
   },
   {
    "duration": 1156,
    "start_time": "2024-11-13T10:04:38.720Z"
   },
   {
    "duration": 14,
    "start_time": "2024-11-13T10:04:39.877Z"
   },
   {
    "duration": 1060,
    "start_time": "2024-11-13T10:04:39.894Z"
   },
   {
    "duration": 311,
    "start_time": "2024-11-13T10:04:40.956Z"
   },
   {
    "duration": 0,
    "start_time": "2024-11-13T10:04:41.269Z"
   },
   {
    "duration": 0,
    "start_time": "2024-11-13T10:04:41.270Z"
   },
   {
    "duration": 11,
    "start_time": "2024-11-13T10:05:19.408Z"
   },
   {
    "duration": 8609,
    "start_time": "2024-11-13T10:07:33.172Z"
   },
   {
    "duration": 84,
    "start_time": "2024-11-13T10:07:41.783Z"
   },
   {
    "duration": 11,
    "start_time": "2024-11-13T10:07:41.869Z"
   },
   {
    "duration": 1163,
    "start_time": "2024-11-13T10:07:41.883Z"
   },
   {
    "duration": 13,
    "start_time": "2024-11-13T10:07:43.048Z"
   },
   {
    "duration": 1109,
    "start_time": "2024-11-13T10:07:43.063Z"
   },
   {
    "duration": 12,
    "start_time": "2024-11-13T10:07:44.176Z"
   },
   {
    "duration": 47551,
    "start_time": "2024-11-13T10:07:44.190Z"
   },
   {
    "duration": 0,
    "start_time": "2024-11-13T10:08:31.743Z"
   },
   {
    "duration": 0,
    "start_time": "2024-11-13T10:08:31.744Z"
   },
   {
    "duration": 23,
    "start_time": "2024-11-13T10:18:21.766Z"
   },
   {
    "duration": 8707,
    "start_time": "2024-11-13T10:21:03.241Z"
   },
   {
    "duration": 75,
    "start_time": "2024-11-13T10:21:11.950Z"
   },
   {
    "duration": 10,
    "start_time": "2024-11-13T10:21:12.027Z"
   },
   {
    "duration": 1140,
    "start_time": "2024-11-13T10:21:12.038Z"
   },
   {
    "duration": 11,
    "start_time": "2024-11-13T10:21:13.180Z"
   },
   {
    "duration": 1023,
    "start_time": "2024-11-13T10:21:13.192Z"
   },
   {
    "duration": 11,
    "start_time": "2024-11-13T10:21:14.217Z"
   },
   {
    "duration": 48184,
    "start_time": "2024-11-13T10:21:14.230Z"
   },
   {
    "duration": 5,
    "start_time": "2024-11-13T10:22:02.416Z"
   },
   {
    "duration": 289,
    "start_time": "2024-11-13T10:22:02.422Z"
   },
   {
    "duration": 8555,
    "start_time": "2024-11-16T12:38:48.345Z"
   },
   {
    "duration": 92,
    "start_time": "2024-11-16T12:38:56.903Z"
   },
   {
    "duration": 17,
    "start_time": "2024-11-16T12:38:56.997Z"
   },
   {
    "duration": 1255,
    "start_time": "2024-11-16T12:38:57.016Z"
   },
   {
    "duration": 12,
    "start_time": "2024-11-16T12:38:58.272Z"
   },
   {
    "duration": 1077,
    "start_time": "2024-11-16T12:38:58.286Z"
   },
   {
    "duration": 14,
    "start_time": "2024-11-16T12:38:59.365Z"
   },
   {
    "duration": 50061,
    "start_time": "2024-11-16T12:38:59.381Z"
   },
   {
    "duration": 3,
    "start_time": "2024-11-16T12:39:49.443Z"
   },
   {
    "duration": 236,
    "start_time": "2024-11-16T12:39:49.448Z"
   },
   {
    "duration": 8338,
    "start_time": "2024-11-16T12:43:25.992Z"
   },
   {
    "duration": 83,
    "start_time": "2024-11-16T12:43:34.332Z"
   },
   {
    "duration": 10,
    "start_time": "2024-11-16T12:43:34.417Z"
   },
   {
    "duration": 1155,
    "start_time": "2024-11-16T12:43:34.429Z"
   },
   {
    "duration": 12,
    "start_time": "2024-11-16T12:43:35.585Z"
   },
   {
    "duration": 1053,
    "start_time": "2024-11-16T12:43:35.598Z"
   },
   {
    "duration": 24,
    "start_time": "2024-11-16T12:43:36.652Z"
   },
   {
    "duration": 51898,
    "start_time": "2024-11-16T12:43:36.678Z"
   },
   {
    "duration": 4,
    "start_time": "2024-11-16T12:44:28.577Z"
   },
   {
    "duration": 249,
    "start_time": "2024-11-16T12:44:28.583Z"
   },
   {
    "duration": 8248,
    "start_time": "2024-11-16T12:47:14.932Z"
   },
   {
    "duration": 79,
    "start_time": "2024-11-16T12:47:23.181Z"
   },
   {
    "duration": 10,
    "start_time": "2024-11-16T12:47:23.261Z"
   },
   {
    "duration": 1107,
    "start_time": "2024-11-16T12:47:23.276Z"
   },
   {
    "duration": 10,
    "start_time": "2024-11-16T12:47:24.384Z"
   },
   {
    "duration": 1040,
    "start_time": "2024-11-16T12:47:24.396Z"
   },
   {
    "duration": 9,
    "start_time": "2024-11-16T12:47:25.438Z"
   },
   {
    "duration": 48641,
    "start_time": "2024-11-16T12:47:25.449Z"
   },
   {
    "duration": 4,
    "start_time": "2024-11-16T12:48:14.092Z"
   },
   {
    "duration": 233,
    "start_time": "2024-11-16T12:48:14.099Z"
   },
   {
    "duration": 8448,
    "start_time": "2024-11-16T12:52:39.709Z"
   },
   {
    "duration": 103,
    "start_time": "2024-11-16T12:52:48.159Z"
   },
   {
    "duration": 16,
    "start_time": "2024-11-16T12:52:48.264Z"
   },
   {
    "duration": 1146,
    "start_time": "2024-11-16T12:52:48.282Z"
   },
   {
    "duration": 15,
    "start_time": "2024-11-16T12:52:49.429Z"
   },
   {
    "duration": 23,
    "start_time": "2024-11-16T12:52:49.446Z"
   },
   {
    "duration": 1152,
    "start_time": "2024-11-16T12:52:49.475Z"
   },
   {
    "duration": 17,
    "start_time": "2024-11-16T12:52:50.629Z"
   },
   {
    "duration": 48608,
    "start_time": "2024-11-16T12:52:50.647Z"
   },
   {
    "duration": 3,
    "start_time": "2024-11-16T12:53:39.257Z"
   },
   {
    "duration": 229,
    "start_time": "2024-11-16T12:53:39.276Z"
   },
   {
    "duration": 1082,
    "start_time": "2024-11-16T12:58:47.839Z"
   },
   {
    "duration": 8173,
    "start_time": "2024-11-16T13:02:49.545Z"
   },
   {
    "duration": 83,
    "start_time": "2024-11-16T13:02:57.720Z"
   },
   {
    "duration": 10,
    "start_time": "2024-11-16T13:02:57.804Z"
   },
   {
    "duration": 1131,
    "start_time": "2024-11-16T13:02:57.816Z"
   },
   {
    "duration": 16,
    "start_time": "2024-11-16T13:02:58.948Z"
   },
   {
    "duration": 18,
    "start_time": "2024-11-16T13:02:58.966Z"
   },
   {
    "duration": 1138,
    "start_time": "2024-11-16T13:02:58.986Z"
   },
   {
    "duration": 12,
    "start_time": "2024-11-16T13:03:00.125Z"
   },
   {
    "duration": 46229,
    "start_time": "2024-11-16T13:03:00.138Z"
   },
   {
    "duration": 8,
    "start_time": "2024-11-16T13:03:46.369Z"
   },
   {
    "duration": 230,
    "start_time": "2024-11-16T13:03:46.379Z"
   },
   {
    "duration": 8249,
    "start_time": "2024-11-16T13:09:45.685Z"
   },
   {
    "duration": 79,
    "start_time": "2024-11-16T13:09:53.936Z"
   },
   {
    "duration": 10,
    "start_time": "2024-11-16T13:09:54.017Z"
   },
   {
    "duration": 1131,
    "start_time": "2024-11-16T13:09:54.030Z"
   },
   {
    "duration": 23,
    "start_time": "2024-11-16T13:09:55.162Z"
   },
   {
    "duration": 11,
    "start_time": "2024-11-16T13:09:55.186Z"
   },
   {
    "duration": 1217,
    "start_time": "2024-11-16T13:09:55.199Z"
   },
   {
    "duration": 12,
    "start_time": "2024-11-16T13:09:56.418Z"
   },
   {
    "duration": 48117,
    "start_time": "2024-11-16T13:09:56.432Z"
   },
   {
    "duration": 3,
    "start_time": "2024-11-16T13:10:44.551Z"
   },
   {
    "duration": 273,
    "start_time": "2024-11-16T13:10:44.556Z"
   },
   {
    "duration": 22,
    "start_time": "2024-11-16T13:11:26.522Z"
   },
   {
    "duration": 17,
    "start_time": "2024-11-16T13:12:04.924Z"
   },
   {
    "duration": 135,
    "start_time": "2024-11-16T13:12:10.126Z"
   },
   {
    "duration": 21,
    "start_time": "2024-11-16T13:13:50.629Z"
   },
   {
    "duration": 8146,
    "start_time": "2024-11-16T13:14:02.855Z"
   },
   {
    "duration": 78,
    "start_time": "2024-11-16T13:14:11.002Z"
   },
   {
    "duration": 10,
    "start_time": "2024-11-16T13:14:11.082Z"
   },
   {
    "duration": 1111,
    "start_time": "2024-11-16T13:14:11.094Z"
   },
   {
    "duration": 15,
    "start_time": "2024-11-16T13:14:12.206Z"
   },
   {
    "duration": 20,
    "start_time": "2024-11-16T13:14:12.222Z"
   },
   {
    "duration": 1142,
    "start_time": "2024-11-16T13:14:12.244Z"
   },
   {
    "duration": 11,
    "start_time": "2024-11-16T13:14:13.387Z"
   },
   {
    "duration": 46289,
    "start_time": "2024-11-16T13:14:13.399Z"
   },
   {
    "duration": 4,
    "start_time": "2024-11-16T13:14:59.690Z"
   },
   {
    "duration": 273,
    "start_time": "2024-11-16T13:14:59.695Z"
   },
   {
    "duration": 19,
    "start_time": "2024-11-16T13:18:07.879Z"
   },
   {
    "duration": 601,
    "start_time": "2024-11-16T13:19:25.839Z"
   },
   {
    "duration": 8168,
    "start_time": "2024-11-16T13:23:08.437Z"
   },
   {
    "duration": 77,
    "start_time": "2024-11-16T13:23:16.607Z"
   },
   {
    "duration": 9,
    "start_time": "2024-11-16T13:23:16.686Z"
   },
   {
    "duration": 1114,
    "start_time": "2024-11-16T13:23:16.697Z"
   },
   {
    "duration": 15,
    "start_time": "2024-11-16T13:23:17.812Z"
   },
   {
    "duration": 10,
    "start_time": "2024-11-16T13:23:17.828Z"
   },
   {
    "duration": 1159,
    "start_time": "2024-11-16T13:23:17.839Z"
   },
   {
    "duration": 12,
    "start_time": "2024-11-16T13:23:18.999Z"
   },
   {
    "duration": 46335,
    "start_time": "2024-11-16T13:23:19.013Z"
   },
   {
    "duration": 26,
    "start_time": "2024-11-16T13:24:05.350Z"
   },
   {
    "duration": 712,
    "start_time": "2024-11-16T13:24:05.377Z"
   },
   {
    "duration": 12,
    "start_time": "2024-11-16T13:26:19.464Z"
   },
   {
    "duration": 10,
    "start_time": "2024-11-16T13:27:01.369Z"
   },
   {
    "duration": 11,
    "start_time": "2024-11-16T13:27:07.533Z"
   },
   {
    "duration": 55,
    "start_time": "2024-11-16T13:28:24.361Z"
   },
   {
    "duration": 14,
    "start_time": "2024-11-16T13:28:29.150Z"
   },
   {
    "duration": 8198,
    "start_time": "2024-11-16T13:29:41.562Z"
   },
   {
    "duration": 78,
    "start_time": "2024-11-16T13:29:49.762Z"
   },
   {
    "duration": 10,
    "start_time": "2024-11-16T13:29:49.843Z"
   },
   {
    "duration": 1161,
    "start_time": "2024-11-16T13:29:49.855Z"
   },
   {
    "duration": 15,
    "start_time": "2024-11-16T13:29:51.018Z"
   },
   {
    "duration": 10,
    "start_time": "2024-11-16T13:29:51.035Z"
   },
   {
    "duration": 1172,
    "start_time": "2024-11-16T13:29:51.047Z"
   },
   {
    "duration": 14,
    "start_time": "2024-11-16T13:29:52.221Z"
   },
   {
    "duration": 1539,
    "start_time": "2024-11-16T13:29:52.237Z"
   },
   {
    "duration": 0,
    "start_time": "2024-11-16T13:29:53.778Z"
   },
   {
    "duration": 0,
    "start_time": "2024-11-16T13:29:53.780Z"
   },
   {
    "duration": 1049,
    "start_time": "2024-11-16T13:32:12.323Z"
   },
   {
    "duration": 2573,
    "start_time": "2024-11-16T13:32:31.261Z"
   },
   {
    "duration": 8381,
    "start_time": "2024-11-16T13:34:45.602Z"
   },
   {
    "duration": 79,
    "start_time": "2024-11-16T13:34:53.985Z"
   },
   {
    "duration": 10,
    "start_time": "2024-11-16T13:34:54.065Z"
   },
   {
    "duration": 1107,
    "start_time": "2024-11-16T13:34:54.077Z"
   },
   {
    "duration": 15,
    "start_time": "2024-11-16T13:34:55.187Z"
   },
   {
    "duration": 11,
    "start_time": "2024-11-16T13:34:55.203Z"
   },
   {
    "duration": 1109,
    "start_time": "2024-11-16T13:34:55.215Z"
   },
   {
    "duration": 4,
    "start_time": "2024-11-16T13:34:56.326Z"
   },
   {
    "duration": 0,
    "start_time": "2024-11-16T13:34:56.332Z"
   },
   {
    "duration": 0,
    "start_time": "2024-11-16T13:34:56.333Z"
   },
   {
    "duration": 0,
    "start_time": "2024-11-16T13:34:56.334Z"
   },
   {
    "duration": 3,
    "start_time": "2024-11-16T13:35:11.123Z"
   },
   {
    "duration": 1386,
    "start_time": "2024-11-16T13:35:11.686Z"
   },
   {
    "duration": 15,
    "start_time": "2024-11-16T13:35:22.646Z"
   },
   {
    "duration": 1100,
    "start_time": "2024-11-16T13:35:24.020Z"
   },
   {
    "duration": 0,
    "start_time": "2024-11-16T13:35:25.122Z"
   },
   {
    "duration": 0,
    "start_time": "2024-11-16T13:35:25.123Z"
   },
   {
    "duration": 46640,
    "start_time": "2024-11-16T13:39:36.296Z"
   },
   {
    "duration": 4,
    "start_time": "2024-11-16T13:41:52.816Z"
   },
   {
    "duration": 722,
    "start_time": "2024-11-16T13:41:53.205Z"
   },
   {
    "duration": 8314,
    "start_time": "2024-11-16T13:51:28.026Z"
   },
   {
    "duration": 81,
    "start_time": "2024-11-16T13:51:36.343Z"
   },
   {
    "duration": 11,
    "start_time": "2024-11-16T13:51:36.426Z"
   },
   {
    "duration": 1121,
    "start_time": "2024-11-16T13:51:36.439Z"
   },
   {
    "duration": 23,
    "start_time": "2024-11-16T13:51:37.562Z"
   },
   {
    "duration": 11,
    "start_time": "2024-11-16T13:51:37.586Z"
   },
   {
    "duration": 1122,
    "start_time": "2024-11-16T13:51:37.598Z"
   },
   {
    "duration": 14,
    "start_time": "2024-11-16T13:51:38.721Z"
   },
   {
    "duration": 46801,
    "start_time": "2024-11-16T13:51:38.736Z"
   },
   {
    "duration": 3,
    "start_time": "2024-11-16T13:52:25.539Z"
   },
   {
    "duration": 608,
    "start_time": "2024-11-16T13:52:25.543Z"
   },
   {
    "duration": 8196,
    "start_time": "2024-11-16T13:53:22.816Z"
   },
   {
    "duration": 83,
    "start_time": "2024-11-16T13:53:31.014Z"
   },
   {
    "duration": 10,
    "start_time": "2024-11-16T13:53:31.098Z"
   },
   {
    "duration": 1136,
    "start_time": "2024-11-16T13:53:31.110Z"
   },
   {
    "duration": 14,
    "start_time": "2024-11-16T13:53:32.248Z"
   },
   {
    "duration": 23,
    "start_time": "2024-11-16T13:53:32.275Z"
   },
   {
    "duration": 1119,
    "start_time": "2024-11-16T13:53:32.299Z"
   },
   {
    "duration": 15,
    "start_time": "2024-11-16T13:53:33.420Z"
   },
   {
    "duration": 49625,
    "start_time": "2024-11-16T13:53:33.436Z"
   },
   {
    "duration": 13,
    "start_time": "2024-11-16T13:54:23.063Z"
   },
   {
    "duration": 667,
    "start_time": "2024-11-16T13:54:23.078Z"
   },
   {
    "duration": 2,
    "start_time": "2024-11-16T13:56:55.718Z"
   },
   {
    "duration": 6904,
    "start_time": "2024-11-16T13:58:52.950Z"
   },
   {
    "duration": 0,
    "start_time": "2024-11-16T13:58:59.856Z"
   },
   {
    "duration": 0,
    "start_time": "2024-11-16T13:58:59.857Z"
   },
   {
    "duration": 0,
    "start_time": "2024-11-16T13:58:59.859Z"
   },
   {
    "duration": 0,
    "start_time": "2024-11-16T13:58:59.860Z"
   },
   {
    "duration": 0,
    "start_time": "2024-11-16T13:58:59.861Z"
   },
   {
    "duration": 0,
    "start_time": "2024-11-16T13:58:59.862Z"
   },
   {
    "duration": 0,
    "start_time": "2024-11-16T13:58:59.862Z"
   },
   {
    "duration": 1,
    "start_time": "2024-11-16T13:58:59.875Z"
   },
   {
    "duration": 0,
    "start_time": "2024-11-16T13:58:59.877Z"
   },
   {
    "duration": 0,
    "start_time": "2024-11-16T13:58:59.878Z"
   },
   {
    "duration": 5475,
    "start_time": "2024-11-16T14:00:39.172Z"
   },
   {
    "duration": 5471,
    "start_time": "2024-11-16T14:00:59.358Z"
   },
   {
    "duration": 88,
    "start_time": "2024-11-16T14:01:09.974Z"
   },
   {
    "duration": 6884,
    "start_time": "2024-11-16T14:01:17.926Z"
   },
   {
    "duration": 80,
    "start_time": "2024-11-16T14:01:24.812Z"
   },
   {
    "duration": 10,
    "start_time": "2024-11-16T14:01:24.893Z"
   },
   {
    "duration": 1198,
    "start_time": "2024-11-16T14:01:24.904Z"
   },
   {
    "duration": 14,
    "start_time": "2024-11-16T14:01:26.104Z"
   },
   {
    "duration": 10,
    "start_time": "2024-11-16T14:01:26.120Z"
   },
   {
    "duration": 1168,
    "start_time": "2024-11-16T14:01:26.131Z"
   },
   {
    "duration": 17,
    "start_time": "2024-11-16T14:01:27.300Z"
   },
   {
    "duration": 60541,
    "start_time": "2024-11-16T14:01:27.319Z"
   },
   {
    "duration": 3,
    "start_time": "2024-11-16T14:02:27.862Z"
   },
   {
    "duration": 803,
    "start_time": "2024-11-16T14:02:27.877Z"
   },
   {
    "duration": 1376,
    "start_time": "2024-11-16T14:03:41.636Z"
   },
   {
    "duration": 5450,
    "start_time": "2024-11-16T14:04:17.129Z"
   },
   {
    "duration": 6726,
    "start_time": "2024-11-16T14:09:23.894Z"
   },
   {
    "duration": 87,
    "start_time": "2024-11-16T14:09:30.622Z"
   },
   {
    "duration": 12,
    "start_time": "2024-11-16T14:09:30.711Z"
   },
   {
    "duration": 1221,
    "start_time": "2024-11-16T14:09:30.724Z"
   },
   {
    "duration": 16,
    "start_time": "2024-11-16T14:09:31.946Z"
   },
   {
    "duration": 23,
    "start_time": "2024-11-16T14:09:31.963Z"
   },
   {
    "duration": 1214,
    "start_time": "2024-11-16T14:09:31.987Z"
   },
   {
    "duration": 19,
    "start_time": "2024-11-16T14:09:33.203Z"
   },
   {
    "duration": 48589,
    "start_time": "2024-11-16T14:09:33.225Z"
   },
   {
    "duration": 6,
    "start_time": "2024-11-16T14:10:21.816Z"
   },
   {
    "duration": 926,
    "start_time": "2024-11-16T14:10:21.823Z"
   },
   {
    "duration": 236,
    "start_time": "2024-11-16T14:14:51.789Z"
   },
   {
    "duration": 6717,
    "start_time": "2024-11-16T14:15:42.992Z"
   },
   {
    "duration": 76,
    "start_time": "2024-11-16T14:15:49.711Z"
   },
   {
    "duration": 10,
    "start_time": "2024-11-16T14:15:49.791Z"
   },
   {
    "duration": 1239,
    "start_time": "2024-11-16T14:15:49.802Z"
   },
   {
    "duration": 276,
    "start_time": "2024-11-16T14:15:51.044Z"
   },
   {
    "duration": 8,
    "start_time": "2024-11-16T14:15:51.322Z"
   },
   {
    "duration": 22,
    "start_time": "2024-11-16T14:15:51.331Z"
   },
   {
    "duration": 1151,
    "start_time": "2024-11-16T14:15:51.355Z"
   },
   {
    "duration": 19,
    "start_time": "2024-11-16T14:15:52.508Z"
   },
   {
    "duration": 48725,
    "start_time": "2024-11-16T14:15:52.529Z"
   },
   {
    "duration": 6,
    "start_time": "2024-11-16T14:16:41.256Z"
   },
   {
    "duration": 681,
    "start_time": "2024-11-16T14:16:41.263Z"
   },
   {
    "duration": 6735,
    "start_time": "2024-11-16T14:16:57.882Z"
   },
   {
    "duration": 77,
    "start_time": "2024-11-16T14:17:04.620Z"
   },
   {
    "duration": 9,
    "start_time": "2024-11-16T14:17:04.699Z"
   },
   {
    "duration": 1194,
    "start_time": "2024-11-16T14:17:04.710Z"
   },
   {
    "duration": 259,
    "start_time": "2024-11-16T14:17:05.906Z"
   },
   {
    "duration": 13,
    "start_time": "2024-11-16T14:17:06.167Z"
   },
   {
    "duration": 16,
    "start_time": "2024-11-16T14:17:06.182Z"
   },
   {
    "duration": 1128,
    "start_time": "2024-11-16T14:17:06.199Z"
   },
   {
    "duration": 18,
    "start_time": "2024-11-16T14:17:07.328Z"
   },
   {
    "duration": 48931,
    "start_time": "2024-11-16T14:17:07.348Z"
   },
   {
    "duration": 6,
    "start_time": "2024-11-16T14:17:56.280Z"
   },
   {
    "duration": 707,
    "start_time": "2024-11-16T14:17:56.288Z"
   },
   {
    "duration": 6754,
    "start_time": "2024-11-16T14:21:30.347Z"
   },
   {
    "duration": 78,
    "start_time": "2024-11-16T14:21:37.103Z"
   },
   {
    "duration": 11,
    "start_time": "2024-11-16T14:21:37.182Z"
   },
   {
    "duration": 1214,
    "start_time": "2024-11-16T14:21:37.195Z"
   },
   {
    "duration": 264,
    "start_time": "2024-11-16T14:21:38.411Z"
   },
   {
    "duration": 8,
    "start_time": "2024-11-16T14:21:38.677Z"
   },
   {
    "duration": 15,
    "start_time": "2024-11-16T14:21:38.687Z"
   },
   {
    "duration": 1113,
    "start_time": "2024-11-16T14:21:38.704Z"
   },
   {
    "duration": 18,
    "start_time": "2024-11-16T14:21:39.818Z"
   },
   {
    "duration": 48718,
    "start_time": "2024-11-16T14:21:39.838Z"
   },
   {
    "duration": 6,
    "start_time": "2024-11-16T14:22:28.557Z"
   },
   {
    "duration": 650,
    "start_time": "2024-11-16T14:22:28.576Z"
   },
   {
    "duration": 6625,
    "start_time": "2024-11-16T14:23:22.000Z"
   },
   {
    "duration": 75,
    "start_time": "2024-11-16T14:23:28.627Z"
   },
   {
    "duration": 10,
    "start_time": "2024-11-16T14:23:28.703Z"
   },
   {
    "duration": 1171,
    "start_time": "2024-11-16T14:23:28.714Z"
   },
   {
    "duration": 18,
    "start_time": "2024-11-16T14:23:29.888Z"
   },
   {
    "duration": 51,
    "start_time": "2024-11-16T14:23:29.907Z"
   },
   {
    "duration": 1140,
    "start_time": "2024-11-16T14:23:29.960Z"
   },
   {
    "duration": 19,
    "start_time": "2024-11-16T14:23:31.102Z"
   },
   {
    "duration": 48522,
    "start_time": "2024-11-16T14:23:31.123Z"
   },
   {
    "duration": 6,
    "start_time": "2024-11-16T14:24:19.646Z"
   },
   {
    "duration": 669,
    "start_time": "2024-11-16T14:24:19.653Z"
   },
   {
    "duration": 6926,
    "start_time": "2024-11-16T14:24:59.692Z"
   },
   {
    "duration": 77,
    "start_time": "2024-11-16T14:25:06.620Z"
   },
   {
    "duration": 11,
    "start_time": "2024-11-16T14:25:06.702Z"
   },
   {
    "duration": 1197,
    "start_time": "2024-11-16T14:25:06.715Z"
   },
   {
    "duration": 19,
    "start_time": "2024-11-16T14:25:07.914Z"
   },
   {
    "duration": 51,
    "start_time": "2024-11-16T14:25:07.935Z"
   },
   {
    "duration": 1119,
    "start_time": "2024-11-16T14:25:07.988Z"
   },
   {
    "duration": 18,
    "start_time": "2024-11-16T14:25:09.108Z"
   },
   {
    "duration": 6869,
    "start_time": "2024-11-16T14:25:37.641Z"
   },
   {
    "duration": 76,
    "start_time": "2024-11-16T14:25:44.512Z"
   },
   {
    "duration": 10,
    "start_time": "2024-11-16T14:25:44.590Z"
   },
   {
    "duration": 1183,
    "start_time": "2024-11-16T14:25:44.602Z"
   },
   {
    "duration": 15,
    "start_time": "2024-11-16T14:25:45.786Z"
   },
   {
    "duration": 10,
    "start_time": "2024-11-16T14:25:45.803Z"
   },
   {
    "duration": 1093,
    "start_time": "2024-11-16T14:25:45.815Z"
   },
   {
    "duration": 16,
    "start_time": "2024-11-16T14:25:46.910Z"
   },
   {
    "duration": 48301,
    "start_time": "2024-11-16T14:25:46.928Z"
   },
   {
    "duration": 7,
    "start_time": "2024-11-16T14:26:35.231Z"
   },
   {
    "duration": 711,
    "start_time": "2024-11-16T14:26:35.239Z"
   },
   {
    "duration": 6705,
    "start_time": "2024-11-16T14:27:24.036Z"
   },
   {
    "duration": 74,
    "start_time": "2024-11-16T14:27:30.743Z"
   },
   {
    "duration": 9,
    "start_time": "2024-11-16T14:27:30.819Z"
   },
   {
    "duration": 1259,
    "start_time": "2024-11-16T14:27:30.830Z"
   },
   {
    "duration": 14,
    "start_time": "2024-11-16T14:27:32.091Z"
   },
   {
    "duration": 21,
    "start_time": "2024-11-16T14:27:32.106Z"
   },
   {
    "duration": 1154,
    "start_time": "2024-11-16T14:27:32.128Z"
   },
   {
    "duration": 19,
    "start_time": "2024-11-16T14:27:33.283Z"
   },
   {
    "duration": 48831,
    "start_time": "2024-11-16T14:27:33.304Z"
   },
   {
    "duration": 5,
    "start_time": "2024-11-16T14:28:22.137Z"
   },
   {
    "duration": 687,
    "start_time": "2024-11-16T14:28:22.143Z"
   },
   {
    "duration": 354,
    "start_time": "2024-11-16T14:29:28.040Z"
   },
   {
    "duration": 9,
    "start_time": "2024-11-16T14:31:45.406Z"
   },
   {
    "duration": 628,
    "start_time": "2024-11-16T14:32:58.981Z"
   },
   {
    "duration": 72,
    "start_time": "2024-11-16T14:38:31.493Z"
   },
   {
    "duration": 267,
    "start_time": "2024-11-16T14:38:55.610Z"
   },
   {
    "duration": 2945,
    "start_time": "2024-11-16T14:39:26.068Z"
   },
   {
    "duration": 16,
    "start_time": "2024-11-16T14:40:09.774Z"
   },
   {
    "duration": 6732,
    "start_time": "2024-11-16T14:40:46.388Z"
   },
   {
    "duration": 76,
    "start_time": "2024-11-16T14:40:53.122Z"
   },
   {
    "duration": 10,
    "start_time": "2024-11-16T14:40:53.200Z"
   },
   {
    "duration": 1217,
    "start_time": "2024-11-16T14:40:53.212Z"
   },
   {
    "duration": 348,
    "start_time": "2024-11-16T14:40:54.431Z"
   },
   {
    "duration": 13,
    "start_time": "2024-11-16T14:40:54.781Z"
   },
   {
    "duration": 15,
    "start_time": "2024-11-16T14:40:54.795Z"
   },
   {
    "duration": 65,
    "start_time": "2024-11-16T14:40:54.811Z"
   },
   {
    "duration": 1439,
    "start_time": "2024-11-16T14:40:54.878Z"
   },
   {
    "duration": 22,
    "start_time": "2024-11-16T14:40:56.319Z"
   },
   {
    "duration": 6797,
    "start_time": "2024-11-16T14:41:09.107Z"
   },
   {
    "duration": 74,
    "start_time": "2024-11-16T14:41:15.906Z"
   },
   {
    "duration": 10,
    "start_time": "2024-11-16T14:41:15.982Z"
   },
   {
    "duration": 1208,
    "start_time": "2024-11-16T14:41:15.994Z"
   },
   {
    "duration": 381,
    "start_time": "2024-11-16T14:41:17.204Z"
   },
   {
    "duration": 14,
    "start_time": "2024-11-16T14:41:17.586Z"
   },
   {
    "duration": 60,
    "start_time": "2024-11-16T14:41:17.601Z"
   },
   {
    "duration": 12,
    "start_time": "2024-11-16T14:41:17.662Z"
   },
   {
    "duration": 1445,
    "start_time": "2024-11-16T14:41:17.675Z"
   },
   {
    "duration": 21,
    "start_time": "2024-11-16T14:41:19.123Z"
   },
   {
    "duration": 48797,
    "start_time": "2024-11-16T14:41:19.145Z"
   },
   {
    "duration": 7,
    "start_time": "2024-11-16T14:42:07.944Z"
   },
   {
    "duration": 774,
    "start_time": "2024-11-16T14:42:07.952Z"
   },
   {
    "duration": 6604,
    "start_time": "2024-11-16T14:43:52.029Z"
   },
   {
    "duration": 77,
    "start_time": "2024-11-16T14:43:58.635Z"
   },
   {
    "duration": 10,
    "start_time": "2024-11-16T14:43:58.713Z"
   },
   {
    "duration": 1176,
    "start_time": "2024-11-16T14:43:58.725Z"
   },
   {
    "duration": 393,
    "start_time": "2024-11-16T14:43:59.903Z"
   },
   {
    "duration": 13,
    "start_time": "2024-11-16T14:44:00.298Z"
   },
   {
    "duration": 12,
    "start_time": "2024-11-16T14:44:00.312Z"
   },
   {
    "duration": 13,
    "start_time": "2024-11-16T14:44:00.325Z"
   },
   {
    "duration": 1270,
    "start_time": "2024-11-16T14:44:00.340Z"
   },
   {
    "duration": 20,
    "start_time": "2024-11-16T14:44:01.613Z"
   },
   {
    "duration": 48722,
    "start_time": "2024-11-16T14:44:01.635Z"
   },
   {
    "duration": 6,
    "start_time": "2024-11-16T14:44:50.358Z"
   },
   {
    "duration": 755,
    "start_time": "2024-11-16T14:44:50.376Z"
   },
   {
    "duration": 6719,
    "start_time": "2024-11-16T14:48:38.390Z"
   },
   {
    "duration": 77,
    "start_time": "2024-11-16T14:48:45.111Z"
   },
   {
    "duration": 11,
    "start_time": "2024-11-16T14:48:45.189Z"
   },
   {
    "duration": 1225,
    "start_time": "2024-11-16T14:48:45.202Z"
   },
   {
    "duration": 368,
    "start_time": "2024-11-16T14:48:46.428Z"
   },
   {
    "duration": 17,
    "start_time": "2024-11-16T14:48:46.797Z"
   },
   {
    "duration": 9,
    "start_time": "2024-11-16T14:48:46.816Z"
   },
   {
    "duration": 14,
    "start_time": "2024-11-16T14:48:46.826Z"
   },
   {
    "duration": 1187,
    "start_time": "2024-11-16T14:48:46.841Z"
   },
   {
    "duration": 20,
    "start_time": "2024-11-16T14:48:48.031Z"
   },
   {
    "duration": 48309,
    "start_time": "2024-11-16T14:48:48.052Z"
   },
   {
    "duration": 17,
    "start_time": "2024-11-16T14:49:36.362Z"
   },
   {
    "duration": 662,
    "start_time": "2024-11-16T14:49:36.381Z"
   },
   {
    "duration": 354,
    "start_time": "2024-11-16T14:51:25.503Z"
   },
   {
    "duration": 763,
    "start_time": "2024-11-16T14:51:37.316Z"
   },
   {
    "duration": 950,
    "start_time": "2024-11-16T14:52:36.174Z"
   },
   {
    "duration": 758,
    "start_time": "2024-11-16T14:52:41.309Z"
   },
   {
    "duration": 752,
    "start_time": "2024-11-16T14:52:49.790Z"
   },
   {
    "duration": 940,
    "start_time": "2024-11-16T14:53:16.362Z"
   },
   {
    "duration": 339,
    "start_time": "2024-11-16T14:53:23.128Z"
   },
   {
    "duration": 4,
    "start_time": "2024-11-16T14:55:20.476Z"
   },
   {
    "duration": 5,
    "start_time": "2024-11-16T14:55:27.650Z"
   },
   {
    "duration": 4,
    "start_time": "2024-11-16T14:55:31.955Z"
   },
   {
    "duration": 4,
    "start_time": "2024-11-16T14:55:43.041Z"
   },
   {
    "duration": 4,
    "start_time": "2024-11-16T14:55:47.575Z"
   },
   {
    "duration": 9,
    "start_time": "2024-11-16T14:56:59.295Z"
   },
   {
    "duration": 265,
    "start_time": "2024-11-16T14:58:38.522Z"
   },
   {
    "duration": 353,
    "start_time": "2024-11-16T14:58:46.511Z"
   },
   {
    "duration": 22,
    "start_time": "2024-11-16T14:58:46.866Z"
   },
   {
    "duration": 5,
    "start_time": "2024-11-16T14:59:41.840Z"
   },
   {
    "duration": 9,
    "start_time": "2024-11-16T14:59:42.136Z"
   },
   {
    "duration": 6710,
    "start_time": "2024-11-16T15:00:11.824Z"
   },
   {
    "duration": 74,
    "start_time": "2024-11-16T15:00:18.535Z"
   },
   {
    "duration": 10,
    "start_time": "2024-11-16T15:00:18.610Z"
   },
   {
    "duration": 1222,
    "start_time": "2024-11-16T15:00:18.622Z"
   },
   {
    "duration": 343,
    "start_time": "2024-11-16T15:00:19.846Z"
   },
   {
    "duration": 352,
    "start_time": "2024-11-16T15:00:20.190Z"
   },
   {
    "duration": 6,
    "start_time": "2024-11-16T15:00:20.543Z"
   },
   {
    "duration": 12,
    "start_time": "2024-11-16T15:00:20.550Z"
   },
   {
    "duration": 21,
    "start_time": "2024-11-16T15:00:20.576Z"
   },
   {
    "duration": 9,
    "start_time": "2024-11-16T15:00:20.599Z"
   },
   {
    "duration": 19,
    "start_time": "2024-11-16T15:00:20.610Z"
   },
   {
    "duration": 1217,
    "start_time": "2024-11-16T15:00:20.630Z"
   },
   {
    "duration": 32,
    "start_time": "2024-11-16T15:00:21.848Z"
   },
   {
    "duration": 48451,
    "start_time": "2024-11-16T15:00:21.882Z"
   },
   {
    "duration": 6,
    "start_time": "2024-11-16T15:01:10.334Z"
   },
   {
    "duration": 705,
    "start_time": "2024-11-16T15:01:10.342Z"
   },
   {
    "duration": 6537,
    "start_time": "2024-11-16T15:01:47.172Z"
   },
   {
    "duration": 79,
    "start_time": "2024-11-16T15:01:53.711Z"
   },
   {
    "duration": 10,
    "start_time": "2024-11-16T15:01:53.791Z"
   },
   {
    "duration": 1185,
    "start_time": "2024-11-16T15:01:53.803Z"
   },
   {
    "duration": 371,
    "start_time": "2024-11-16T15:01:54.989Z"
   },
   {
    "duration": 347,
    "start_time": "2024-11-16T15:01:55.362Z"
   },
   {
    "duration": 6,
    "start_time": "2024-11-16T15:01:55.710Z"
   },
   {
    "duration": 15,
    "start_time": "2024-11-16T15:01:55.717Z"
   },
   {
    "duration": 14,
    "start_time": "2024-11-16T15:01:55.734Z"
   },
   {
    "duration": 8,
    "start_time": "2024-11-16T15:01:55.750Z"
   },
   {
    "duration": 14,
    "start_time": "2024-11-16T15:01:55.776Z"
   },
   {
    "duration": 1220,
    "start_time": "2024-11-16T15:01:55.792Z"
   },
   {
    "duration": 25,
    "start_time": "2024-11-16T15:01:57.014Z"
   },
   {
    "duration": 48300,
    "start_time": "2024-11-16T15:01:57.041Z"
   },
   {
    "duration": 6,
    "start_time": "2024-11-16T15:02:45.342Z"
   },
   {
    "duration": 596,
    "start_time": "2024-11-16T15:02:45.349Z"
   },
   {
    "duration": 6545,
    "start_time": "2024-11-16T15:03:18.447Z"
   },
   {
    "duration": 75,
    "start_time": "2024-11-16T15:03:24.993Z"
   },
   {
    "duration": 11,
    "start_time": "2024-11-16T15:03:25.070Z"
   },
   {
    "duration": 1160,
    "start_time": "2024-11-16T15:03:25.082Z"
   },
   {
    "duration": 347,
    "start_time": "2024-11-16T15:03:26.244Z"
   },
   {
    "duration": 340,
    "start_time": "2024-11-16T15:03:26.592Z"
   },
   {
    "duration": 5,
    "start_time": "2024-11-16T15:03:26.933Z"
   },
   {
    "duration": 23,
    "start_time": "2024-11-16T15:03:26.940Z"
   },
   {
    "duration": 20,
    "start_time": "2024-11-16T15:03:26.964Z"
   },
   {
    "duration": 8,
    "start_time": "2024-11-16T15:03:26.986Z"
   },
   {
    "duration": 14,
    "start_time": "2024-11-16T15:03:26.996Z"
   },
   {
    "duration": 1248,
    "start_time": "2024-11-16T15:03:27.012Z"
   },
   {
    "duration": 24,
    "start_time": "2024-11-16T15:03:28.262Z"
   },
   {
    "duration": 48050,
    "start_time": "2024-11-16T15:03:28.289Z"
   },
   {
    "duration": 6,
    "start_time": "2024-11-16T15:04:16.340Z"
   },
   {
    "duration": 677,
    "start_time": "2024-11-16T15:04:16.348Z"
   },
   {
    "duration": 5,
    "start_time": "2024-11-16T15:07:03.129Z"
   },
   {
    "duration": 6,
    "start_time": "2024-11-16T15:07:13.676Z"
   },
   {
    "duration": 7,
    "start_time": "2024-11-16T15:07:24.161Z"
   },
   {
    "duration": 11,
    "start_time": "2024-11-16T15:08:34.453Z"
   },
   {
    "duration": 6625,
    "start_time": "2024-11-16T15:11:58.688Z"
   },
   {
    "duration": 78,
    "start_time": "2024-11-16T15:12:05.315Z"
   },
   {
    "duration": 12,
    "start_time": "2024-11-16T15:12:05.394Z"
   },
   {
    "duration": 1236,
    "start_time": "2024-11-16T15:12:05.408Z"
   },
   {
    "duration": 354,
    "start_time": "2024-11-16T15:12:06.645Z"
   },
   {
    "duration": 375,
    "start_time": "2024-11-16T15:12:07.001Z"
   },
   {
    "duration": 9,
    "start_time": "2024-11-16T15:12:07.377Z"
   },
   {
    "duration": 19,
    "start_time": "2024-11-16T15:12:07.388Z"
   },
   {
    "duration": 26,
    "start_time": "2024-11-16T15:12:07.409Z"
   },
   {
    "duration": 10,
    "start_time": "2024-11-16T15:12:07.438Z"
   },
   {
    "duration": 31,
    "start_time": "2024-11-16T15:12:07.449Z"
   },
   {
    "duration": 1223,
    "start_time": "2024-11-16T15:12:07.481Z"
   },
   {
    "duration": 20,
    "start_time": "2024-11-16T15:12:08.705Z"
   },
   {
    "duration": 48019,
    "start_time": "2024-11-16T15:12:08.726Z"
   },
   {
    "duration": 6,
    "start_time": "2024-11-16T15:12:56.746Z"
   },
   {
    "duration": 679,
    "start_time": "2024-11-16T15:12:56.753Z"
   },
   {
    "duration": 6624,
    "start_time": "2024-11-16T15:14:09.789Z"
   },
   {
    "duration": 78,
    "start_time": "2024-11-16T15:14:16.414Z"
   },
   {
    "duration": 10,
    "start_time": "2024-11-16T15:14:16.494Z"
   },
   {
    "duration": 1198,
    "start_time": "2024-11-16T15:14:16.506Z"
   },
   {
    "duration": 362,
    "start_time": "2024-11-16T15:14:17.705Z"
   },
   {
    "duration": 343,
    "start_time": "2024-11-16T15:14:18.069Z"
   },
   {
    "duration": 9,
    "start_time": "2024-11-16T15:14:18.414Z"
   },
   {
    "duration": 11,
    "start_time": "2024-11-16T15:14:18.424Z"
   },
   {
    "duration": 14,
    "start_time": "2024-11-16T15:14:18.436Z"
   },
   {
    "duration": 29,
    "start_time": "2024-11-16T15:14:18.452Z"
   },
   {
    "duration": 30,
    "start_time": "2024-11-16T15:14:18.483Z"
   },
   {
    "duration": 1184,
    "start_time": "2024-11-16T15:14:18.514Z"
   },
   {
    "duration": 21,
    "start_time": "2024-11-16T15:14:19.700Z"
   },
   {
    "duration": 48411,
    "start_time": "2024-11-16T15:14:19.723Z"
   },
   {
    "duration": 5,
    "start_time": "2024-11-16T15:15:08.136Z"
   },
   {
    "duration": 685,
    "start_time": "2024-11-16T15:15:08.143Z"
   },
   {
    "duration": 6604,
    "start_time": "2024-11-16T15:17:18.097Z"
   },
   {
    "duration": 75,
    "start_time": "2024-11-16T15:17:24.703Z"
   },
   {
    "duration": 9,
    "start_time": "2024-11-16T15:17:24.779Z"
   },
   {
    "duration": 1175,
    "start_time": "2024-11-16T15:17:24.790Z"
   },
   {
    "duration": 356,
    "start_time": "2024-11-16T15:17:25.966Z"
   },
   {
    "duration": 361,
    "start_time": "2024-11-16T15:17:26.324Z"
   },
   {
    "duration": 9,
    "start_time": "2024-11-16T15:17:26.686Z"
   },
   {
    "duration": 13,
    "start_time": "2024-11-16T15:17:26.697Z"
   },
   {
    "duration": 15,
    "start_time": "2024-11-16T15:17:26.712Z"
   },
   {
    "duration": 8,
    "start_time": "2024-11-16T15:17:26.729Z"
   },
   {
    "duration": 44,
    "start_time": "2024-11-16T15:17:26.739Z"
   },
   {
    "duration": 1219,
    "start_time": "2024-11-16T15:17:26.785Z"
   },
   {
    "duration": 21,
    "start_time": "2024-11-16T15:17:28.005Z"
   },
   {
    "duration": 59,
    "start_time": "2024-11-16T15:17:28.028Z"
   },
   {
    "duration": 0,
    "start_time": "2024-11-16T15:17:28.089Z"
   },
   {
    "duration": 0,
    "start_time": "2024-11-16T15:17:28.091Z"
   },
   {
    "duration": 6767,
    "start_time": "2024-11-16T15:17:41.248Z"
   },
   {
    "duration": 75,
    "start_time": "2024-11-16T15:17:48.017Z"
   },
   {
    "duration": 10,
    "start_time": "2024-11-16T15:17:48.093Z"
   },
   {
    "duration": 1286,
    "start_time": "2024-11-16T15:17:48.104Z"
   },
   {
    "duration": 374,
    "start_time": "2024-11-16T15:17:49.393Z"
   },
   {
    "duration": 326,
    "start_time": "2024-11-16T15:17:49.775Z"
   },
   {
    "duration": 9,
    "start_time": "2024-11-16T15:17:50.103Z"
   },
   {
    "duration": 47,
    "start_time": "2024-11-16T15:17:50.114Z"
   },
   {
    "duration": 17,
    "start_time": "2024-11-16T15:17:50.163Z"
   },
   {
    "duration": 10,
    "start_time": "2024-11-16T15:17:50.181Z"
   },
   {
    "duration": 17,
    "start_time": "2024-11-16T15:17:50.192Z"
   },
   {
    "duration": 1207,
    "start_time": "2024-11-16T15:17:50.211Z"
   },
   {
    "duration": 21,
    "start_time": "2024-11-16T15:17:51.419Z"
   },
   {
    "duration": 48373,
    "start_time": "2024-11-16T15:17:51.442Z"
   },
   {
    "duration": 5,
    "start_time": "2024-11-16T15:18:39.817Z"
   },
   {
    "duration": 616,
    "start_time": "2024-11-16T15:18:39.824Z"
   },
   {
    "duration": 6708,
    "start_time": "2024-11-16T15:21:51.453Z"
   },
   {
    "duration": 90,
    "start_time": "2024-11-16T15:21:58.164Z"
   },
   {
    "duration": 23,
    "start_time": "2024-11-16T15:21:58.255Z"
   },
   {
    "duration": 1171,
    "start_time": "2024-11-16T15:21:58.280Z"
   },
   {
    "duration": 353,
    "start_time": "2024-11-16T15:21:59.452Z"
   },
   {
    "duration": 356,
    "start_time": "2024-11-16T15:21:59.807Z"
   },
   {
    "duration": 17,
    "start_time": "2024-11-16T15:22:00.164Z"
   },
   {
    "duration": 43,
    "start_time": "2024-11-16T15:22:00.183Z"
   },
   {
    "duration": 32,
    "start_time": "2024-11-16T15:22:00.227Z"
   },
   {
    "duration": 58,
    "start_time": "2024-11-16T15:22:00.261Z"
   },
   {
    "duration": 41,
    "start_time": "2024-11-16T15:22:00.321Z"
   },
   {
    "duration": 1217,
    "start_time": "2024-11-16T15:22:00.364Z"
   },
   {
    "duration": 19,
    "start_time": "2024-11-16T15:22:01.583Z"
   },
   {
    "duration": 48455,
    "start_time": "2024-11-16T15:22:01.603Z"
   },
   {
    "duration": 16,
    "start_time": "2024-11-16T15:22:50.060Z"
   },
   {
    "duration": 690,
    "start_time": "2024-11-16T15:22:50.078Z"
   },
   {
    "duration": 6695,
    "start_time": "2024-11-16T15:32:26.716Z"
   },
   {
    "duration": 83,
    "start_time": "2024-11-16T15:32:33.413Z"
   },
   {
    "duration": 10,
    "start_time": "2024-11-16T15:32:33.498Z"
   },
   {
    "duration": 1193,
    "start_time": "2024-11-16T15:32:33.510Z"
   },
   {
    "duration": 381,
    "start_time": "2024-11-16T15:32:34.705Z"
   },
   {
    "duration": 332,
    "start_time": "2024-11-16T15:32:35.088Z"
   },
   {
    "duration": 9,
    "start_time": "2024-11-16T15:32:35.422Z"
   },
   {
    "duration": 17,
    "start_time": "2024-11-16T15:32:35.433Z"
   },
   {
    "duration": 44,
    "start_time": "2024-11-16T15:32:35.451Z"
   },
   {
    "duration": 26,
    "start_time": "2024-11-16T15:32:35.497Z"
   },
   {
    "duration": 22,
    "start_time": "2024-11-16T15:32:35.525Z"
   },
   {
    "duration": 18,
    "start_time": "2024-11-16T15:32:35.548Z"
   },
   {
    "duration": 1356,
    "start_time": "2024-11-16T15:32:35.568Z"
   },
   {
    "duration": 22,
    "start_time": "2024-11-16T15:32:36.927Z"
   },
   {
    "duration": 47905,
    "start_time": "2024-11-16T15:32:36.950Z"
   },
   {
    "duration": 23,
    "start_time": "2024-11-16T15:33:24.856Z"
   },
   {
    "duration": 751,
    "start_time": "2024-11-16T15:33:24.880Z"
   },
   {
    "duration": 6748,
    "start_time": "2024-11-16T16:05:08.776Z"
   },
   {
    "duration": 74,
    "start_time": "2024-11-16T16:05:15.526Z"
   },
   {
    "duration": 11,
    "start_time": "2024-11-16T16:05:15.602Z"
   },
   {
    "duration": 1189,
    "start_time": "2024-11-16T16:05:15.615Z"
   },
   {
    "duration": 372,
    "start_time": "2024-11-16T16:05:16.806Z"
   },
   {
    "duration": 329,
    "start_time": "2024-11-16T16:05:17.180Z"
   },
   {
    "duration": 10,
    "start_time": "2024-11-16T16:05:17.511Z"
   },
   {
    "duration": 10,
    "start_time": "2024-11-16T16:05:17.523Z"
   },
   {
    "duration": 12,
    "start_time": "2024-11-16T16:05:17.535Z"
   },
   {
    "duration": 29,
    "start_time": "2024-11-16T16:05:17.549Z"
   },
   {
    "duration": 6,
    "start_time": "2024-11-16T16:05:17.580Z"
   },
   {
    "duration": 10,
    "start_time": "2024-11-16T16:05:17.588Z"
   },
   {
    "duration": 18,
    "start_time": "2024-11-16T16:05:17.599Z"
   },
   {
    "duration": 1330,
    "start_time": "2024-11-16T16:05:17.619Z"
   },
   {
    "duration": 20,
    "start_time": "2024-11-16T16:05:18.950Z"
   },
   {
    "duration": 49156,
    "start_time": "2024-11-16T16:05:18.972Z"
   },
   {
    "duration": 7,
    "start_time": "2024-11-16T16:06:08.130Z"
   },
   {
    "duration": 679,
    "start_time": "2024-11-16T16:06:08.138Z"
   },
   {
    "duration": 6722,
    "start_time": "2024-11-16T16:08:14.015Z"
   },
   {
    "duration": 76,
    "start_time": "2024-11-16T16:08:20.739Z"
   },
   {
    "duration": 10,
    "start_time": "2024-11-16T16:08:20.816Z"
   },
   {
    "duration": 1221,
    "start_time": "2024-11-16T16:08:20.828Z"
   },
   {
    "duration": 346,
    "start_time": "2024-11-16T16:08:22.051Z"
   },
   {
    "duration": 357,
    "start_time": "2024-11-16T16:08:22.398Z"
   },
   {
    "duration": 10,
    "start_time": "2024-11-16T16:08:22.756Z"
   },
   {
    "duration": 10,
    "start_time": "2024-11-16T16:08:22.776Z"
   },
   {
    "duration": 10,
    "start_time": "2024-11-16T16:08:22.787Z"
   },
   {
    "duration": 15,
    "start_time": "2024-11-16T16:08:22.799Z"
   },
   {
    "duration": 8,
    "start_time": "2024-11-16T16:08:22.815Z"
   },
   {
    "duration": 7,
    "start_time": "2024-11-16T16:08:22.825Z"
   },
   {
    "duration": 46,
    "start_time": "2024-11-16T16:08:22.833Z"
   },
   {
    "duration": 1551,
    "start_time": "2024-11-16T16:08:22.881Z"
   },
   {
    "duration": 21,
    "start_time": "2024-11-16T16:08:24.434Z"
   },
   {
    "duration": 49203,
    "start_time": "2024-11-16T16:08:24.457Z"
   },
   {
    "duration": 5,
    "start_time": "2024-11-16T16:09:13.661Z"
   },
   {
    "duration": 645,
    "start_time": "2024-11-16T16:09:13.675Z"
   },
   {
    "duration": 6607,
    "start_time": "2024-11-16T16:11:43.099Z"
   },
   {
    "duration": 76,
    "start_time": "2024-11-16T16:11:49.708Z"
   },
   {
    "duration": 9,
    "start_time": "2024-11-16T16:11:49.786Z"
   },
   {
    "duration": 1203,
    "start_time": "2024-11-16T16:11:49.797Z"
   },
   {
    "duration": 389,
    "start_time": "2024-11-16T16:11:51.002Z"
   },
   {
    "duration": 338,
    "start_time": "2024-11-16T16:11:51.392Z"
   },
   {
    "duration": 9,
    "start_time": "2024-11-16T16:11:51.732Z"
   },
   {
    "duration": 12,
    "start_time": "2024-11-16T16:11:51.743Z"
   },
   {
    "duration": 25,
    "start_time": "2024-11-16T16:11:51.757Z"
   },
   {
    "duration": 10,
    "start_time": "2024-11-16T16:11:51.784Z"
   },
   {
    "duration": 24,
    "start_time": "2024-11-16T16:11:51.796Z"
   },
   {
    "duration": 45,
    "start_time": "2024-11-16T16:11:51.821Z"
   },
   {
    "duration": 1340,
    "start_time": "2024-11-16T16:11:51.868Z"
   },
   {
    "duration": 20,
    "start_time": "2024-11-16T16:11:53.210Z"
   },
   {
    "duration": 49219,
    "start_time": "2024-11-16T16:11:53.232Z"
   },
   {
    "duration": 6,
    "start_time": "2024-11-16T16:12:42.452Z"
   },
   {
    "duration": 670,
    "start_time": "2024-11-16T16:12:42.459Z"
   },
   {
    "duration": 6696,
    "start_time": "2024-11-16T16:18:33.392Z"
   },
   {
    "duration": 75,
    "start_time": "2024-11-16T16:18:40.090Z"
   },
   {
    "duration": 10,
    "start_time": "2024-11-16T16:18:40.166Z"
   },
   {
    "duration": 1213,
    "start_time": "2024-11-16T16:18:40.178Z"
   },
   {
    "duration": 375,
    "start_time": "2024-11-16T16:18:41.393Z"
   },
   {
    "duration": 331,
    "start_time": "2024-11-16T16:18:41.769Z"
   },
   {
    "duration": 9,
    "start_time": "2024-11-16T16:18:42.102Z"
   },
   {
    "duration": 8,
    "start_time": "2024-11-16T16:18:42.113Z"
   },
   {
    "duration": 14,
    "start_time": "2024-11-16T16:18:42.122Z"
   },
   {
    "duration": 8,
    "start_time": "2024-11-16T16:18:42.138Z"
   },
   {
    "duration": 34,
    "start_time": "2024-11-16T16:18:42.147Z"
   },
   {
    "duration": 8,
    "start_time": "2024-11-16T16:18:42.182Z"
   },
   {
    "duration": 14,
    "start_time": "2024-11-16T16:18:42.191Z"
   },
   {
    "duration": 1514,
    "start_time": "2024-11-16T16:18:42.206Z"
   },
   {
    "duration": 22,
    "start_time": "2024-11-16T16:18:43.722Z"
   },
   {
    "duration": 2936,
    "start_time": "2024-11-16T16:18:43.746Z"
   },
   {
    "duration": 0,
    "start_time": "2024-11-16T16:18:46.684Z"
   },
   {
    "duration": 0,
    "start_time": "2024-11-16T16:18:46.685Z"
   },
   {
    "duration": 47464,
    "start_time": "2024-11-16T16:21:48.450Z"
   },
   {
    "duration": 6,
    "start_time": "2024-11-16T16:22:35.916Z"
   },
   {
    "duration": 6759,
    "start_time": "2024-11-16T16:22:48.243Z"
   },
   {
    "duration": 78,
    "start_time": "2024-11-16T16:22:55.005Z"
   },
   {
    "duration": 10,
    "start_time": "2024-11-16T16:22:55.084Z"
   },
   {
    "duration": 1194,
    "start_time": "2024-11-16T16:22:55.096Z"
   },
   {
    "duration": 384,
    "start_time": "2024-11-16T16:22:56.292Z"
   },
   {
    "duration": 335,
    "start_time": "2024-11-16T16:22:56.678Z"
   },
   {
    "duration": 9,
    "start_time": "2024-11-16T16:22:57.015Z"
   },
   {
    "duration": 18,
    "start_time": "2024-11-16T16:22:57.026Z"
   },
   {
    "duration": 17,
    "start_time": "2024-11-16T16:22:57.045Z"
   },
   {
    "duration": 9,
    "start_time": "2024-11-16T16:22:57.077Z"
   },
   {
    "duration": 8,
    "start_time": "2024-11-16T16:22:57.087Z"
   },
   {
    "duration": 9,
    "start_time": "2024-11-16T16:22:57.096Z"
   },
   {
    "duration": 18,
    "start_time": "2024-11-16T16:22:57.107Z"
   },
   {
    "duration": 1669,
    "start_time": "2024-11-16T16:22:57.127Z"
   },
   {
    "duration": 23,
    "start_time": "2024-11-16T16:22:58.798Z"
   },
   {
    "duration": 48906,
    "start_time": "2024-11-16T16:22:58.823Z"
   },
   {
    "duration": 6,
    "start_time": "2024-11-16T16:23:47.731Z"
   },
   {
    "duration": 623,
    "start_time": "2024-11-16T16:23:47.739Z"
   },
   {
    "duration": 5,
    "start_time": "2024-11-16T16:24:37.491Z"
   },
   {
    "duration": 6656,
    "start_time": "2024-11-16T16:27:20.782Z"
   },
   {
    "duration": 75,
    "start_time": "2024-11-16T16:27:27.440Z"
   },
   {
    "duration": 10,
    "start_time": "2024-11-16T16:27:27.517Z"
   },
   {
    "duration": 1219,
    "start_time": "2024-11-16T16:27:27.529Z"
   },
   {
    "duration": 334,
    "start_time": "2024-11-16T16:27:28.750Z"
   },
   {
    "duration": 336,
    "start_time": "2024-11-16T16:27:29.086Z"
   },
   {
    "duration": 8,
    "start_time": "2024-11-16T16:27:29.424Z"
   },
   {
    "duration": 10,
    "start_time": "2024-11-16T16:27:29.434Z"
   },
   {
    "duration": 42,
    "start_time": "2024-11-16T16:27:29.447Z"
   },
   {
    "duration": 9,
    "start_time": "2024-11-16T16:27:29.492Z"
   },
   {
    "duration": 20,
    "start_time": "2024-11-16T16:27:29.503Z"
   },
   {
    "duration": 9,
    "start_time": "2024-11-16T16:27:29.525Z"
   },
   {
    "duration": 6,
    "start_time": "2024-11-16T16:27:29.536Z"
   },
   {
    "duration": 13,
    "start_time": "2024-11-16T16:27:29.543Z"
   },
   {
    "duration": 1591,
    "start_time": "2024-11-16T16:27:29.558Z"
   },
   {
    "duration": 25,
    "start_time": "2024-11-16T16:27:31.150Z"
   },
   {
    "duration": 48301,
    "start_time": "2024-11-16T16:27:31.177Z"
   },
   {
    "duration": 5,
    "start_time": "2024-11-16T16:28:19.480Z"
   },
   {
    "duration": 662,
    "start_time": "2024-11-16T16:28:19.487Z"
   },
   {
    "duration": 2,
    "start_time": "2024-11-16T16:29:21.061Z"
   },
   {
    "duration": 12955,
    "start_time": "2024-11-16T16:31:24.730Z"
   },
   {
    "duration": 113,
    "start_time": "2024-11-16T16:31:37.688Z"
   },
   {
    "duration": 2,
    "start_time": "2024-11-16T16:31:37.803Z"
   },
   {
    "duration": 80,
    "start_time": "2024-11-16T16:31:37.807Z"
   },
   {
    "duration": 3,
    "start_time": "2024-11-16T16:31:37.890Z"
   },
   {
    "duration": 9,
    "start_time": "2024-11-16T16:31:37.894Z"
   },
   {
    "duration": 74,
    "start_time": "2024-11-16T16:31:37.905Z"
   },
   {
    "duration": 2715,
    "start_time": "2024-11-16T16:31:37.981Z"
   },
   {
    "duration": 612,
    "start_time": "2024-11-16T16:31:40.698Z"
   },
   {
    "duration": 599,
    "start_time": "2024-11-16T16:31:41.312Z"
   },
   {
    "duration": 64,
    "start_time": "2024-11-16T16:31:41.913Z"
   },
   {
    "duration": 10,
    "start_time": "2024-11-16T16:31:41.979Z"
   },
   {
    "duration": 26,
    "start_time": "2024-11-16T16:31:41.991Z"
   },
   {
    "duration": 9,
    "start_time": "2024-11-16T16:31:42.077Z"
   },
   {
    "duration": 8,
    "start_time": "2024-11-16T16:31:42.087Z"
   },
   {
    "duration": 8,
    "start_time": "2024-11-16T16:31:42.097Z"
   },
   {
    "duration": 7,
    "start_time": "2024-11-16T16:31:42.106Z"
   },
   {
    "duration": 75,
    "start_time": "2024-11-16T16:31:42.114Z"
   },
   {
    "duration": 2905,
    "start_time": "2024-11-16T16:31:42.191Z"
   },
   {
    "duration": 23,
    "start_time": "2024-11-16T16:31:45.098Z"
   },
   {
    "duration": 86198,
    "start_time": "2024-11-16T16:31:45.123Z"
   },
   {
    "duration": 7,
    "start_time": "2024-11-16T16:33:11.376Z"
   },
   {
    "duration": 1034,
    "start_time": "2024-11-16T16:33:11.385Z"
   },
   {
    "duration": 34903,
    "start_time": "2024-11-16T16:41:20.980Z"
   },
   {
    "duration": 304,
    "start_time": "2024-11-16T16:41:55.886Z"
   },
   {
    "duration": 96,
    "start_time": "2024-11-16T16:41:56.191Z"
   },
   {
    "duration": 8,
    "start_time": "2024-11-16T16:41:56.377Z"
   },
   {
    "duration": 97,
    "start_time": "2024-11-16T16:41:56.387Z"
   },
   {
    "duration": 7796,
    "start_time": "2024-11-16T16:41:56.486Z"
   },
   {
    "duration": 2396,
    "start_time": "2024-11-16T16:42:04.284Z"
   },
   {
    "duration": 1493,
    "start_time": "2024-11-16T16:42:06.682Z"
   },
   {
    "duration": 14,
    "start_time": "2024-11-16T16:42:08.178Z"
   },
   {
    "duration": 102,
    "start_time": "2024-11-16T16:42:08.278Z"
   },
   {
    "duration": 112,
    "start_time": "2024-11-16T16:42:08.382Z"
   },
   {
    "duration": 10,
    "start_time": "2024-11-16T16:42:08.576Z"
   },
   {
    "duration": 94,
    "start_time": "2024-11-16T16:42:08.588Z"
   },
   {
    "duration": 97,
    "start_time": "2024-11-16T16:42:08.687Z"
   },
   {
    "duration": 92,
    "start_time": "2024-11-16T16:42:08.786Z"
   },
   {
    "duration": 6,
    "start_time": "2024-11-16T16:42:08.881Z"
   },
   {
    "duration": 105,
    "start_time": "2024-11-16T16:42:08.977Z"
   },
   {
    "duration": 13092,
    "start_time": "2024-11-16T16:42:09.085Z"
   },
   {
    "duration": 112,
    "start_time": "2024-11-16T16:42:22.179Z"
   },
   {
    "duration": 296407,
    "start_time": "2024-11-16T16:42:22.377Z"
   },
   {
    "duration": 92,
    "start_time": "2024-11-16T16:47:18.786Z"
   },
   {
    "duration": 2308,
    "start_time": "2024-11-16T16:47:18.881Z"
   },
   {
    "duration": 44605,
    "start_time": "2024-11-16T16:48:21.476Z"
   },
   {
    "duration": 402,
    "start_time": "2024-11-16T16:49:06.083Z"
   },
   {
    "duration": 100,
    "start_time": "2024-11-16T16:49:06.487Z"
   },
   {
    "duration": 11,
    "start_time": "2024-11-16T16:49:06.676Z"
   },
   {
    "duration": 99,
    "start_time": "2024-11-16T16:49:06.690Z"
   },
   {
    "duration": 9102,
    "start_time": "2024-11-16T16:49:06.878Z"
   },
   {
    "duration": 2110,
    "start_time": "2024-11-16T16:49:15.983Z"
   },
   {
    "duration": 1907,
    "start_time": "2024-11-16T16:49:18.176Z"
   },
   {
    "duration": 96,
    "start_time": "2024-11-16T16:49:20.086Z"
   },
   {
    "duration": 100,
    "start_time": "2024-11-16T16:49:20.186Z"
   },
   {
    "duration": 192,
    "start_time": "2024-11-16T16:49:20.288Z"
   },
   {
    "duration": 102,
    "start_time": "2024-11-16T16:49:20.482Z"
   },
   {
    "duration": 90,
    "start_time": "2024-11-16T16:49:20.587Z"
   },
   {
    "duration": 99,
    "start_time": "2024-11-16T16:49:20.679Z"
   },
   {
    "duration": 9,
    "start_time": "2024-11-16T16:49:20.780Z"
   },
   {
    "duration": 7,
    "start_time": "2024-11-16T16:49:20.877Z"
   },
   {
    "duration": 190,
    "start_time": "2024-11-16T16:49:20.886Z"
   },
   {
    "duration": 12398,
    "start_time": "2024-11-16T16:49:21.078Z"
   },
   {
    "duration": 200,
    "start_time": "2024-11-16T16:49:33.478Z"
   },
   {
    "duration": 302008,
    "start_time": "2024-11-16T16:49:33.680Z"
   },
   {
    "duration": 92,
    "start_time": "2024-11-16T16:54:35.690Z"
   },
   {
    "duration": 2601,
    "start_time": "2024-11-16T16:54:35.783Z"
   },
   {
    "duration": 42800,
    "start_time": "2024-11-16T16:56:45.676Z"
   },
   {
    "duration": 399,
    "start_time": "2024-11-16T16:57:28.479Z"
   },
   {
    "duration": 106,
    "start_time": "2024-11-16T16:57:28.880Z"
   },
   {
    "duration": 11,
    "start_time": "2024-11-16T16:57:29.076Z"
   },
   {
    "duration": 100,
    "start_time": "2024-11-16T16:57:29.177Z"
   },
   {
    "duration": 1199,
    "start_time": "2024-11-16T16:57:29.280Z"
   },
   {
    "duration": 994,
    "start_time": "2024-11-16T16:57:30.482Z"
   },
   {
    "duration": 1407,
    "start_time": "2024-11-16T16:57:31.480Z"
   },
   {
    "duration": 1491,
    "start_time": "2024-11-16T16:57:32.889Z"
   },
   {
    "duration": 911,
    "start_time": "2024-11-16T16:57:34.382Z"
   },
   {
    "duration": 1202,
    "start_time": "2024-11-16T16:57:35.377Z"
   },
   {
    "duration": 1499,
    "start_time": "2024-11-16T16:57:36.581Z"
   },
   {
    "duration": 6694,
    "start_time": "2024-11-16T16:57:38.082Z"
   },
   {
    "duration": 1106,
    "start_time": "2024-11-16T16:57:44.780Z"
   },
   {
    "duration": 1308,
    "start_time": "2024-11-16T16:57:45.887Z"
   },
   {
    "duration": 10,
    "start_time": "2024-11-16T16:57:47.276Z"
   },
   {
    "duration": 89,
    "start_time": "2024-11-16T16:57:47.288Z"
   },
   {
    "duration": 498,
    "start_time": "2024-11-16T16:57:47.379Z"
   },
   {
    "duration": 9,
    "start_time": "2024-11-16T16:57:47.879Z"
   },
   {
    "duration": 88,
    "start_time": "2024-11-16T16:57:47.889Z"
   },
   {
    "duration": 17,
    "start_time": "2024-11-16T16:57:47.979Z"
   },
   {
    "duration": 10,
    "start_time": "2024-11-16T16:57:48.077Z"
   },
   {
    "duration": 87,
    "start_time": "2024-11-16T16:57:48.090Z"
   },
   {
    "duration": 98,
    "start_time": "2024-11-16T16:57:48.179Z"
   },
   {
    "duration": 8097,
    "start_time": "2024-11-16T16:57:48.280Z"
   },
   {
    "duration": 98,
    "start_time": "2024-11-16T16:57:56.379Z"
   },
   {
    "duration": 92903,
    "start_time": "2024-11-16T16:57:56.480Z"
   },
   {
    "duration": 6,
    "start_time": "2024-11-16T16:59:29.384Z"
   },
   {
    "duration": 1009,
    "start_time": "2024-11-16T16:59:29.391Z"
   },
   {
    "duration": 318,
    "start_time": "2024-11-16T16:59:30.403Z"
   },
   {
    "duration": 2402,
    "start_time": "2024-11-16T17:01:05.276Z"
   },
   {
    "duration": 1311,
    "start_time": "2024-11-16T17:02:55.777Z"
   },
   {
    "duration": 104,
    "start_time": "2024-11-16T17:08:14.676Z"
   },
   {
    "duration": 48003,
    "start_time": "2024-11-16T17:08:30.979Z"
   },
   {
    "duration": 398,
    "start_time": "2024-11-16T17:09:18.985Z"
   },
   {
    "duration": 103,
    "start_time": "2024-11-16T17:09:19.385Z"
   },
   {
    "duration": 11,
    "start_time": "2024-11-16T17:09:19.575Z"
   },
   {
    "duration": 188,
    "start_time": "2024-11-16T17:09:19.588Z"
   },
   {
    "duration": 1197,
    "start_time": "2024-11-16T17:09:19.780Z"
   },
   {
    "duration": 1016,
    "start_time": "2024-11-16T17:09:20.979Z"
   },
   {
    "duration": 1018,
    "start_time": "2024-11-16T17:09:22.077Z"
   },
   {
    "duration": 1902,
    "start_time": "2024-11-16T17:09:23.177Z"
   },
   {
    "duration": 1408,
    "start_time": "2024-11-16T17:09:25.082Z"
   },
   {
    "duration": 1195,
    "start_time": "2024-11-16T17:09:26.492Z"
   },
   {
    "duration": 1503,
    "start_time": "2024-11-16T17:09:27.689Z"
   },
   {
    "duration": 8812,
    "start_time": "2024-11-16T17:09:29.280Z"
   },
   {
    "duration": 2096,
    "start_time": "2024-11-16T17:09:38.094Z"
   },
   {
    "duration": 1993,
    "start_time": "2024-11-16T17:09:40.192Z"
   },
   {
    "duration": 99,
    "start_time": "2024-11-16T17:09:42.187Z"
   },
   {
    "duration": 97,
    "start_time": "2024-11-16T17:09:42.289Z"
   },
   {
    "duration": 901,
    "start_time": "2024-11-16T17:09:42.475Z"
   },
   {
    "duration": 99,
    "start_time": "2024-11-16T17:09:43.379Z"
   },
   {
    "duration": 1395,
    "start_time": "2024-11-16T17:09:43.481Z"
   },
   {
    "duration": 11,
    "start_time": "2024-11-16T17:09:44.878Z"
   },
   {
    "duration": 1093,
    "start_time": "2024-11-16T17:09:44.891Z"
   },
   {
    "duration": 102,
    "start_time": "2024-11-16T17:09:45.986Z"
   },
   {
    "duration": 1391,
    "start_time": "2024-11-16T17:09:46.090Z"
   },
   {
    "duration": 100,
    "start_time": "2024-11-16T17:09:47.483Z"
   },
   {
    "duration": 93,
    "start_time": "2024-11-16T17:09:47.585Z"
   },
   {
    "duration": 99,
    "start_time": "2024-11-16T17:09:47.680Z"
   },
   {
    "duration": 12693,
    "start_time": "2024-11-16T17:09:47.783Z"
   },
   {
    "duration": 199,
    "start_time": "2024-11-16T17:10:00.479Z"
   },
   {
    "duration": 309412,
    "start_time": "2024-11-16T17:10:00.680Z"
   },
   {
    "duration": 107,
    "start_time": "2024-11-16T17:15:10.179Z"
   },
   {
    "duration": 3401,
    "start_time": "2024-11-16T17:15:10.294Z"
   },
   {
    "duration": 45103,
    "start_time": "2024-11-16T17:16:05.975Z"
   },
   {
    "duration": 398,
    "start_time": "2024-11-16T17:16:51.080Z"
   },
   {
    "duration": 98,
    "start_time": "2024-11-16T17:16:51.479Z"
   },
   {
    "duration": 9,
    "start_time": "2024-11-16T17:16:51.579Z"
   },
   {
    "duration": 13,
    "start_time": "2024-11-16T17:16:51.677Z"
   },
   {
    "duration": 1010,
    "start_time": "2024-11-16T17:16:51.776Z"
   },
   {
    "duration": 1091,
    "start_time": "2024-11-16T17:16:52.788Z"
   },
   {
    "duration": 905,
    "start_time": "2024-11-16T17:16:53.881Z"
   },
   {
    "duration": 1688,
    "start_time": "2024-11-16T17:16:54.788Z"
   },
   {
    "duration": 1202,
    "start_time": "2024-11-16T17:16:56.478Z"
   },
   {
    "duration": 903,
    "start_time": "2024-11-16T17:16:57.681Z"
   },
   {
    "duration": 1100,
    "start_time": "2024-11-16T17:16:58.586Z"
   },
   {
    "duration": 8493,
    "start_time": "2024-11-16T17:16:59.687Z"
   },
   {
    "duration": 1802,
    "start_time": "2024-11-16T17:17:08.184Z"
   },
   {
    "duration": 1997,
    "start_time": "2024-11-16T17:17:09.988Z"
   },
   {
    "duration": 14,
    "start_time": "2024-11-16T17:17:12.075Z"
   },
   {
    "duration": 96,
    "start_time": "2024-11-16T17:17:12.091Z"
   },
   {
    "duration": 716,
    "start_time": "2024-11-16T17:17:12.277Z"
   },
   {
    "duration": 13,
    "start_time": "2024-11-16T17:17:13.076Z"
   },
   {
    "duration": 1388,
    "start_time": "2024-11-16T17:17:13.091Z"
   },
   {
    "duration": 7,
    "start_time": "2024-11-16T17:17:14.481Z"
   },
   {
    "duration": 1094,
    "start_time": "2024-11-16T17:17:14.489Z"
   },
   {
    "duration": 92,
    "start_time": "2024-11-16T17:17:15.585Z"
   },
   {
    "duration": 900,
    "start_time": "2024-11-16T17:17:15.679Z"
   },
   {
    "duration": 10,
    "start_time": "2024-11-16T17:17:16.581Z"
   },
   {
    "duration": 88,
    "start_time": "2024-11-16T17:17:16.593Z"
   },
   {
    "duration": 105,
    "start_time": "2024-11-16T17:17:16.683Z"
   },
   {
    "duration": 10099,
    "start_time": "2024-11-16T17:17:16.877Z"
   },
   {
    "duration": 204,
    "start_time": "2024-11-16T17:17:26.979Z"
   },
   {
    "duration": 281899,
    "start_time": "2024-11-16T17:17:27.185Z"
   },
   {
    "duration": 7,
    "start_time": "2024-11-16T17:22:09.086Z"
   },
   {
    "duration": 3008,
    "start_time": "2024-11-16T17:22:09.177Z"
   },
   {
    "duration": 40713,
    "start_time": "2024-11-16T17:23:50.576Z"
   },
   {
    "duration": 402,
    "start_time": "2024-11-16T17:24:31.376Z"
   },
   {
    "duration": 196,
    "start_time": "2024-11-16T17:24:31.780Z"
   },
   {
    "duration": 1500,
    "start_time": "2024-11-16T17:24:31.979Z"
   },
   {
    "duration": 1601,
    "start_time": "2024-11-16T17:24:33.481Z"
   },
   {
    "duration": 1400,
    "start_time": "2024-11-16T17:24:35.084Z"
   },
   {
    "duration": 1893,
    "start_time": "2024-11-16T17:24:36.486Z"
   },
   {
    "duration": 1495,
    "start_time": "2024-11-16T17:24:38.381Z"
   },
   {
    "duration": 1203,
    "start_time": "2024-11-16T17:24:39.878Z"
   },
   {
    "duration": 1894,
    "start_time": "2024-11-16T17:24:41.087Z"
   },
   {
    "duration": 10998,
    "start_time": "2024-11-16T17:24:42.984Z"
   },
   {
    "duration": 93,
    "start_time": "2024-11-16T17:24:53.985Z"
   },
   {
    "duration": 97,
    "start_time": "2024-11-16T17:24:54.081Z"
   },
   {
    "duration": 96,
    "start_time": "2024-11-16T17:24:54.180Z"
   },
   {
    "duration": 810,
    "start_time": "2024-11-16T17:24:54.278Z"
   },
   {
    "duration": 2003,
    "start_time": "2024-11-16T17:24:55.176Z"
   },
   {
    "duration": 97,
    "start_time": "2024-11-16T17:24:57.181Z"
   },
   {
    "duration": 103,
    "start_time": "2024-11-16T17:24:57.280Z"
   },
   {
    "duration": 701,
    "start_time": "2024-11-16T17:24:57.385Z"
   },
   {
    "duration": 100,
    "start_time": "2024-11-16T17:24:58.088Z"
   },
   {
    "duration": 887,
    "start_time": "2024-11-16T17:24:58.191Z"
   },
   {
    "duration": 96,
    "start_time": "2024-11-16T17:24:59.080Z"
   },
   {
    "duration": 908,
    "start_time": "2024-11-16T17:24:59.178Z"
   },
   {
    "duration": 98,
    "start_time": "2024-11-16T17:25:00.088Z"
   },
   {
    "duration": 101,
    "start_time": "2024-11-16T17:25:00.277Z"
   },
   {
    "duration": 112,
    "start_time": "2024-11-16T17:25:00.380Z"
   },
   {
    "duration": 13394,
    "start_time": "2024-11-16T17:25:00.582Z"
   },
   {
    "duration": 196,
    "start_time": "2024-11-16T17:25:13.981Z"
   },
   {
    "duration": 61391,
    "start_time": "2024-11-16T17:28:30.284Z"
   },
   {
    "duration": 510,
    "start_time": "2024-11-16T17:29:31.678Z"
   },
   {
    "duration": 201,
    "start_time": "2024-11-16T17:29:32.277Z"
   },
   {
    "duration": 1598,
    "start_time": "2024-11-16T17:29:32.480Z"
   },
   {
    "duration": 1695,
    "start_time": "2024-11-16T17:29:34.080Z"
   },
   {
    "duration": 1593,
    "start_time": "2024-11-16T17:29:35.782Z"
   },
   {
    "duration": 2505,
    "start_time": "2024-11-16T17:29:37.380Z"
   },
   {
    "duration": 1505,
    "start_time": "2024-11-16T17:29:39.980Z"
   },
   {
    "duration": 1598,
    "start_time": "2024-11-16T17:29:41.580Z"
   },
   {
    "duration": 2100,
    "start_time": "2024-11-16T17:29:43.183Z"
   },
   {
    "duration": 11899,
    "start_time": "2024-11-16T17:29:45.287Z"
   },
   {
    "duration": 98,
    "start_time": "2024-11-16T17:29:57.277Z"
   },
   {
    "duration": 198,
    "start_time": "2024-11-16T17:29:57.377Z"
   },
   {
    "duration": 93,
    "start_time": "2024-11-16T17:29:57.588Z"
   },
   {
    "duration": 1109,
    "start_time": "2024-11-16T17:29:57.776Z"
   },
   {
    "duration": 2894,
    "start_time": "2024-11-16T17:29:58.981Z"
   },
   {
    "duration": 99,
    "start_time": "2024-11-16T17:30:01.883Z"
   },
   {
    "duration": 100,
    "start_time": "2024-11-16T17:30:01.984Z"
   },
   {
    "duration": 1095,
    "start_time": "2024-11-16T17:30:02.181Z"
   },
   {
    "duration": 103,
    "start_time": "2024-11-16T17:30:03.278Z"
   },
   {
    "duration": 1696,
    "start_time": "2024-11-16T17:30:03.383Z"
   },
   {
    "duration": 196,
    "start_time": "2024-11-16T17:30:05.181Z"
   },
   {
    "duration": 1896,
    "start_time": "2024-11-16T17:30:05.379Z"
   },
   {
    "duration": 12,
    "start_time": "2024-11-16T17:30:07.280Z"
   },
   {
    "duration": 7,
    "start_time": "2024-11-16T17:30:07.477Z"
   },
   {
    "duration": 2297,
    "start_time": "2024-11-16T17:30:07.485Z"
   },
   {
    "duration": 291,
    "start_time": "2024-11-16T17:30:09.784Z"
   },
   {
    "duration": 151883,
    "start_time": "2024-11-16T17:30:23.779Z"
   },
   {
    "duration": 0,
    "start_time": "2024-11-16T17:32:55.665Z"
   },
   {
    "duration": 0,
    "start_time": "2024-11-16T17:32:55.667Z"
   },
   {
    "duration": 0,
    "start_time": "2024-11-16T17:32:55.668Z"
   },
   {
    "duration": 0,
    "start_time": "2024-11-16T17:32:55.668Z"
   },
   {
    "duration": 0,
    "start_time": "2024-11-16T17:32:55.670Z"
   },
   {
    "duration": 0,
    "start_time": "2024-11-16T17:32:55.671Z"
   },
   {
    "duration": 0,
    "start_time": "2024-11-16T17:32:55.672Z"
   },
   {
    "duration": 0,
    "start_time": "2024-11-16T17:32:55.674Z"
   },
   {
    "duration": 0,
    "start_time": "2024-11-16T17:32:55.675Z"
   },
   {
    "duration": 0,
    "start_time": "2024-11-16T17:32:55.677Z"
   },
   {
    "duration": 0,
    "start_time": "2024-11-16T17:32:55.678Z"
   },
   {
    "duration": 0,
    "start_time": "2024-11-16T17:32:55.678Z"
   },
   {
    "duration": 0,
    "start_time": "2024-11-16T17:32:55.679Z"
   },
   {
    "duration": 0,
    "start_time": "2024-11-16T17:32:55.680Z"
   },
   {
    "duration": 0,
    "start_time": "2024-11-16T17:32:55.682Z"
   },
   {
    "duration": 0,
    "start_time": "2024-11-16T17:32:55.682Z"
   },
   {
    "duration": 0,
    "start_time": "2024-11-16T17:32:55.684Z"
   },
   {
    "duration": 0,
    "start_time": "2024-11-16T17:32:55.685Z"
   },
   {
    "duration": 0,
    "start_time": "2024-11-16T17:32:55.686Z"
   },
   {
    "duration": 0,
    "start_time": "2024-11-16T17:32:55.687Z"
   },
   {
    "duration": 0,
    "start_time": "2024-11-16T17:32:55.688Z"
   },
   {
    "duration": 0,
    "start_time": "2024-11-16T17:32:55.689Z"
   },
   {
    "duration": 0,
    "start_time": "2024-11-16T17:32:55.690Z"
   },
   {
    "duration": 0,
    "start_time": "2024-11-16T17:32:55.691Z"
   },
   {
    "duration": 0,
    "start_time": "2024-11-16T17:32:55.692Z"
   },
   {
    "duration": 0,
    "start_time": "2024-11-16T17:32:55.693Z"
   },
   {
    "duration": 0,
    "start_time": "2024-11-16T17:32:55.695Z"
   },
   {
    "duration": 0,
    "start_time": "2024-11-16T17:32:55.695Z"
   },
   {
    "duration": 0,
    "start_time": "2024-11-16T17:32:55.697Z"
   },
   {
    "duration": 0,
    "start_time": "2024-11-16T17:32:55.698Z"
   },
   {
    "duration": 0,
    "start_time": "2024-11-16T17:32:55.699Z"
   },
   {
    "duration": 9811,
    "start_time": "2024-11-16T17:36:27.122Z"
   },
   {
    "duration": 0,
    "start_time": "2024-11-16T17:36:36.935Z"
   },
   {
    "duration": 5746,
    "start_time": "2024-11-16T17:38:17.081Z"
   },
   {
    "duration": 0,
    "start_time": "2024-11-16T17:38:22.828Z"
   },
   {
    "duration": 5769,
    "start_time": "2024-11-16T17:38:35.172Z"
   },
   {
    "duration": 15481,
    "start_time": "2024-11-16T17:39:17.508Z"
   },
   {
    "duration": 1,
    "start_time": "2024-11-16T17:39:32.991Z"
   },
   {
    "duration": 0,
    "start_time": "2024-11-16T17:39:32.992Z"
   },
   {
    "duration": 0,
    "start_time": "2024-11-16T17:39:32.993Z"
   },
   {
    "duration": 0,
    "start_time": "2024-11-16T17:39:32.994Z"
   },
   {
    "duration": 0,
    "start_time": "2024-11-16T17:39:32.995Z"
   },
   {
    "duration": 0,
    "start_time": "2024-11-16T17:39:32.997Z"
   },
   {
    "duration": 0,
    "start_time": "2024-11-16T17:39:32.997Z"
   },
   {
    "duration": 0,
    "start_time": "2024-11-16T17:39:32.998Z"
   },
   {
    "duration": 0,
    "start_time": "2024-11-16T17:39:32.999Z"
   },
   {
    "duration": 0,
    "start_time": "2024-11-16T17:39:33.000Z"
   },
   {
    "duration": 0,
    "start_time": "2024-11-16T17:39:33.001Z"
   },
   {
    "duration": 0,
    "start_time": "2024-11-16T17:39:33.002Z"
   },
   {
    "duration": 0,
    "start_time": "2024-11-16T17:39:33.003Z"
   },
   {
    "duration": 1,
    "start_time": "2024-11-16T17:39:33.003Z"
   },
   {
    "duration": 0,
    "start_time": "2024-11-16T17:39:33.005Z"
   },
   {
    "duration": 0,
    "start_time": "2024-11-16T17:39:33.006Z"
   },
   {
    "duration": 0,
    "start_time": "2024-11-16T17:39:33.007Z"
   },
   {
    "duration": 0,
    "start_time": "2024-11-16T17:39:33.008Z"
   },
   {
    "duration": 0,
    "start_time": "2024-11-16T17:39:33.008Z"
   },
   {
    "duration": 0,
    "start_time": "2024-11-16T17:39:33.010Z"
   },
   {
    "duration": 0,
    "start_time": "2024-11-16T17:39:33.010Z"
   },
   {
    "duration": 0,
    "start_time": "2024-11-16T17:39:33.011Z"
   },
   {
    "duration": 0,
    "start_time": "2024-11-16T17:39:33.012Z"
   },
   {
    "duration": 0,
    "start_time": "2024-11-16T17:39:33.013Z"
   },
   {
    "duration": 0,
    "start_time": "2024-11-16T17:39:33.014Z"
   },
   {
    "duration": 0,
    "start_time": "2024-11-16T17:39:33.015Z"
   },
   {
    "duration": 0,
    "start_time": "2024-11-16T17:39:33.016Z"
   },
   {
    "duration": 0,
    "start_time": "2024-11-16T17:39:33.017Z"
   },
   {
    "duration": 0,
    "start_time": "2024-11-16T17:39:33.018Z"
   },
   {
    "duration": 0,
    "start_time": "2024-11-16T17:39:33.020Z"
   },
   {
    "duration": 0,
    "start_time": "2024-11-16T17:39:33.020Z"
   },
   {
    "duration": 26163,
    "start_time": "2024-11-16T17:42:15.275Z"
   },
   {
    "duration": 12693,
    "start_time": "2024-11-16T17:44:09.393Z"
   },
   {
    "duration": 0,
    "start_time": "2024-11-16T17:44:22.089Z"
   },
   {
    "duration": 0,
    "start_time": "2024-11-16T17:44:22.091Z"
   },
   {
    "duration": 0,
    "start_time": "2024-11-16T17:44:22.093Z"
   },
   {
    "duration": 0,
    "start_time": "2024-11-16T17:44:22.094Z"
   },
   {
    "duration": 0,
    "start_time": "2024-11-16T17:44:22.096Z"
   },
   {
    "duration": 1,
    "start_time": "2024-11-16T17:44:22.097Z"
   },
   {
    "duration": 0,
    "start_time": "2024-11-16T17:44:22.099Z"
   },
   {
    "duration": 0,
    "start_time": "2024-11-16T17:44:22.100Z"
   },
   {
    "duration": 0,
    "start_time": "2024-11-16T17:44:22.102Z"
   },
   {
    "duration": 0,
    "start_time": "2024-11-16T17:44:22.103Z"
   },
   {
    "duration": 0,
    "start_time": "2024-11-16T17:44:22.105Z"
   },
   {
    "duration": 0,
    "start_time": "2024-11-16T17:44:22.107Z"
   },
   {
    "duration": 0,
    "start_time": "2024-11-16T17:44:22.108Z"
   },
   {
    "duration": 0,
    "start_time": "2024-11-16T17:44:22.110Z"
   },
   {
    "duration": 0,
    "start_time": "2024-11-16T17:44:22.112Z"
   },
   {
    "duration": 0,
    "start_time": "2024-11-16T17:44:22.113Z"
   },
   {
    "duration": 0,
    "start_time": "2024-11-16T17:44:22.115Z"
   },
   {
    "duration": 0,
    "start_time": "2024-11-16T17:44:22.116Z"
   },
   {
    "duration": 0,
    "start_time": "2024-11-16T17:44:22.117Z"
   },
   {
    "duration": 0,
    "start_time": "2024-11-16T17:44:22.118Z"
   },
   {
    "duration": 0,
    "start_time": "2024-11-16T17:44:22.120Z"
   },
   {
    "duration": 0,
    "start_time": "2024-11-16T17:44:22.121Z"
   },
   {
    "duration": 0,
    "start_time": "2024-11-16T17:44:22.122Z"
   },
   {
    "duration": 0,
    "start_time": "2024-11-16T17:44:22.123Z"
   },
   {
    "duration": 0,
    "start_time": "2024-11-16T17:44:22.124Z"
   },
   {
    "duration": 0,
    "start_time": "2024-11-16T17:44:22.125Z"
   },
   {
    "duration": 0,
    "start_time": "2024-11-16T17:44:22.126Z"
   },
   {
    "duration": 0,
    "start_time": "2024-11-16T17:44:22.127Z"
   },
   {
    "duration": 0,
    "start_time": "2024-11-16T17:44:22.177Z"
   },
   {
    "duration": 0,
    "start_time": "2024-11-16T17:44:22.178Z"
   },
   {
    "duration": 0,
    "start_time": "2024-11-16T17:44:22.179Z"
   },
   {
    "duration": 9463,
    "start_time": "2024-11-16T17:47:52.610Z"
   },
   {
    "duration": 7399,
    "start_time": "2024-11-16T17:48:11.230Z"
   },
   {
    "duration": 64,
    "start_time": "2024-11-16T17:48:18.631Z"
   },
   {
    "duration": 14,
    "start_time": "2024-11-16T17:48:18.696Z"
   },
   {
    "duration": 167,
    "start_time": "2024-11-16T17:48:18.712Z"
   },
   {
    "duration": 232,
    "start_time": "2024-11-16T17:48:18.881Z"
   },
   {
    "duration": 181,
    "start_time": "2024-11-16T17:48:19.115Z"
   },
   {
    "duration": 194,
    "start_time": "2024-11-16T17:48:19.298Z"
   },
   {
    "duration": 166,
    "start_time": "2024-11-16T17:48:19.493Z"
   },
   {
    "duration": 152,
    "start_time": "2024-11-16T17:48:19.661Z"
   },
   {
    "duration": 232,
    "start_time": "2024-11-16T17:48:19.815Z"
   },
   {
    "duration": 1236,
    "start_time": "2024-11-16T17:48:20.048Z"
   },
   {
    "duration": 7,
    "start_time": "2024-11-16T17:48:21.286Z"
   },
   {
    "duration": 10,
    "start_time": "2024-11-16T17:48:21.295Z"
   },
   {
    "duration": 13,
    "start_time": "2024-11-16T17:48:21.308Z"
   },
   {
    "duration": 155,
    "start_time": "2024-11-16T17:48:21.323Z"
   },
   {
    "duration": 332,
    "start_time": "2024-11-16T17:48:21.480Z"
   },
   {
    "duration": 11,
    "start_time": "2024-11-16T17:48:21.814Z"
   },
   {
    "duration": 10,
    "start_time": "2024-11-16T17:48:21.826Z"
   },
   {
    "duration": 39,
    "start_time": "2024-11-16T17:48:21.837Z"
   },
   {
    "duration": 8,
    "start_time": "2024-11-16T17:48:21.877Z"
   },
   {
    "duration": 163,
    "start_time": "2024-11-16T17:48:21.887Z"
   },
   {
    "duration": 8,
    "start_time": "2024-11-16T17:48:22.052Z"
   },
   {
    "duration": 179,
    "start_time": "2024-11-16T17:48:22.061Z"
   },
   {
    "duration": 9,
    "start_time": "2024-11-16T17:48:22.241Z"
   },
   {
    "duration": 41,
    "start_time": "2024-11-16T17:48:22.251Z"
   },
   {
    "duration": 304,
    "start_time": "2024-11-16T17:48:22.294Z"
   },
   {
    "duration": 1956,
    "start_time": "2024-11-16T17:48:22.600Z"
   },
   {
    "duration": 19,
    "start_time": "2024-11-16T17:48:24.558Z"
   },
   {
    "duration": 154,
    "start_time": "2024-11-16T17:48:24.579Z"
   },
   {
    "duration": 2589,
    "start_time": "2024-11-16T17:48:24.735Z"
   },
   {
    "duration": 0,
    "start_time": "2024-11-16T17:48:27.326Z"
   },
   {
    "duration": 0,
    "start_time": "2024-11-16T17:48:27.327Z"
   },
   {
    "duration": 7899,
    "start_time": "2024-11-16T17:53:33.351Z"
   },
   {
    "duration": 39132,
    "start_time": "2024-11-16T17:57:21.456Z"
   },
   {
    "duration": 4,
    "start_time": "2024-11-16T17:58:14.160Z"
   },
   {
    "duration": 28,
    "start_time": "2024-11-16T17:58:22.891Z"
   },
   {
    "duration": 1022,
    "start_time": "2024-11-16T17:59:10.908Z"
   },
   {
    "duration": 7424,
    "start_time": "2024-11-16T18:00:34.398Z"
   },
   {
    "duration": 63,
    "start_time": "2024-11-16T18:00:41.824Z"
   },
   {
    "duration": 10,
    "start_time": "2024-11-16T18:00:41.888Z"
   },
   {
    "duration": 151,
    "start_time": "2024-11-16T18:00:41.900Z"
   },
   {
    "duration": 164,
    "start_time": "2024-11-16T18:00:42.052Z"
   },
   {
    "duration": 168,
    "start_time": "2024-11-16T18:00:42.218Z"
   },
   {
    "duration": 189,
    "start_time": "2024-11-16T18:00:42.387Z"
   },
   {
    "duration": 172,
    "start_time": "2024-11-16T18:00:42.578Z"
   },
   {
    "duration": 161,
    "start_time": "2024-11-16T18:00:42.752Z"
   },
   {
    "duration": 232,
    "start_time": "2024-11-16T18:00:42.915Z"
   },
   {
    "duration": 1168,
    "start_time": "2024-11-16T18:00:43.149Z"
   },
   {
    "duration": 7,
    "start_time": "2024-11-16T18:00:44.318Z"
   },
   {
    "duration": 30,
    "start_time": "2024-11-16T18:00:44.327Z"
   },
   {
    "duration": 6,
    "start_time": "2024-11-16T18:00:44.358Z"
   },
   {
    "duration": 138,
    "start_time": "2024-11-16T18:00:44.366Z"
   },
   {
    "duration": 373,
    "start_time": "2024-11-16T18:00:44.505Z"
   },
   {
    "duration": 11,
    "start_time": "2024-11-16T18:00:44.880Z"
   },
   {
    "duration": 11,
    "start_time": "2024-11-16T18:00:44.893Z"
   },
   {
    "duration": 12,
    "start_time": "2024-11-16T18:00:44.905Z"
   },
   {
    "duration": 11,
    "start_time": "2024-11-16T18:00:44.918Z"
   },
   {
    "duration": 182,
    "start_time": "2024-11-16T18:00:44.930Z"
   },
   {
    "duration": 8,
    "start_time": "2024-11-16T18:00:45.114Z"
   },
   {
    "duration": 174,
    "start_time": "2024-11-16T18:00:45.123Z"
   },
   {
    "duration": 7,
    "start_time": "2024-11-16T18:00:45.299Z"
   },
   {
    "duration": 9,
    "start_time": "2024-11-16T18:00:45.308Z"
   },
   {
    "duration": 337,
    "start_time": "2024-11-16T18:00:45.318Z"
   },
   {
    "duration": 1964,
    "start_time": "2024-11-16T18:00:45.657Z"
   },
   {
    "duration": 22,
    "start_time": "2024-11-16T18:00:47.625Z"
   },
   {
    "duration": 21,
    "start_time": "2024-11-16T18:00:47.648Z"
   },
   {
    "duration": 9679,
    "start_time": "2024-11-16T18:00:47.671Z"
   },
   {
    "duration": 37550,
    "start_time": "2024-11-16T18:00:57.352Z"
   },
   {
    "duration": 3,
    "start_time": "2024-11-16T18:01:34.904Z"
   },
   {
    "duration": 1126,
    "start_time": "2024-11-16T18:01:34.909Z"
   },
   {
    "duration": 7146,
    "start_time": "2024-11-16T18:03:35.438Z"
   },
   {
    "duration": 61,
    "start_time": "2024-11-16T18:03:42.586Z"
   },
   {
    "duration": 11,
    "start_time": "2024-11-16T18:03:42.649Z"
   },
   {
    "duration": 143,
    "start_time": "2024-11-16T18:03:42.662Z"
   },
   {
    "duration": 174,
    "start_time": "2024-11-16T18:03:42.807Z"
   },
   {
    "duration": 168,
    "start_time": "2024-11-16T18:03:42.982Z"
   },
   {
    "duration": 189,
    "start_time": "2024-11-16T18:03:43.152Z"
   },
   {
    "duration": 171,
    "start_time": "2024-11-16T18:03:43.343Z"
   },
   {
    "duration": 146,
    "start_time": "2024-11-16T18:03:43.516Z"
   },
   {
    "duration": 233,
    "start_time": "2024-11-16T18:03:43.665Z"
   },
   {
    "duration": 1187,
    "start_time": "2024-11-16T18:03:43.900Z"
   },
   {
    "duration": 7,
    "start_time": "2024-11-16T18:03:45.088Z"
   },
   {
    "duration": 25,
    "start_time": "2024-11-16T18:03:45.096Z"
   },
   {
    "duration": 8,
    "start_time": "2024-11-16T18:03:45.122Z"
   },
   {
    "duration": 146,
    "start_time": "2024-11-16T18:03:45.132Z"
   },
   {
    "duration": 325,
    "start_time": "2024-11-16T18:03:45.280Z"
   },
   {
    "duration": 10,
    "start_time": "2024-11-16T18:03:45.607Z"
   },
   {
    "duration": 46,
    "start_time": "2024-11-16T18:03:45.618Z"
   },
   {
    "duration": 14,
    "start_time": "2024-11-16T18:03:45.666Z"
   },
   {
    "duration": 7,
    "start_time": "2024-11-16T18:03:45.682Z"
   },
   {
    "duration": 171,
    "start_time": "2024-11-16T18:03:45.690Z"
   },
   {
    "duration": 14,
    "start_time": "2024-11-16T18:03:45.863Z"
   },
   {
    "duration": 167,
    "start_time": "2024-11-16T18:03:45.878Z"
   },
   {
    "duration": 8,
    "start_time": "2024-11-16T18:03:46.047Z"
   },
   {
    "duration": 10,
    "start_time": "2024-11-16T18:03:46.056Z"
   },
   {
    "duration": 282,
    "start_time": "2024-11-16T18:03:46.067Z"
   },
   {
    "duration": 1866,
    "start_time": "2024-11-16T18:03:46.351Z"
   },
   {
    "duration": 30,
    "start_time": "2024-11-16T18:03:48.222Z"
   },
   {
    "duration": 139,
    "start_time": "2024-11-16T18:03:48.254Z"
   },
   {
    "duration": 147,
    "start_time": "2024-11-16T18:03:48.394Z"
   },
   {
    "duration": 0,
    "start_time": "2024-11-16T18:03:48.544Z"
   },
   {
    "duration": 0,
    "start_time": "2024-11-16T18:03:48.545Z"
   },
   {
    "duration": 0,
    "start_time": "2024-11-16T18:03:48.546Z"
   },
   {
    "duration": 9181,
    "start_time": "2024-11-16T18:05:17.635Z"
   },
   {
    "duration": 65,
    "start_time": "2024-11-16T18:05:26.817Z"
   },
   {
    "duration": 10,
    "start_time": "2024-11-16T18:05:26.884Z"
   },
   {
    "duration": 158,
    "start_time": "2024-11-16T18:05:26.896Z"
   },
   {
    "duration": 168,
    "start_time": "2024-11-16T18:05:27.055Z"
   },
   {
    "duration": 165,
    "start_time": "2024-11-16T18:05:27.224Z"
   },
   {
    "duration": 188,
    "start_time": "2024-11-16T18:05:27.390Z"
   },
   {
    "duration": 166,
    "start_time": "2024-11-16T18:05:27.579Z"
   },
   {
    "duration": 150,
    "start_time": "2024-11-16T18:05:27.746Z"
   },
   {
    "duration": 224,
    "start_time": "2024-11-16T18:05:27.899Z"
   },
   {
    "duration": 1121,
    "start_time": "2024-11-16T18:05:28.125Z"
   },
   {
    "duration": 8,
    "start_time": "2024-11-16T18:05:29.247Z"
   },
   {
    "duration": 24,
    "start_time": "2024-11-16T18:05:29.256Z"
   },
   {
    "duration": 7,
    "start_time": "2024-11-16T18:05:29.281Z"
   },
   {
    "duration": 148,
    "start_time": "2024-11-16T18:05:29.290Z"
   },
   {
    "duration": 384,
    "start_time": "2024-11-16T18:05:29.440Z"
   },
   {
    "duration": 9,
    "start_time": "2024-11-16T18:05:29.825Z"
   },
   {
    "duration": 9,
    "start_time": "2024-11-16T18:05:29.836Z"
   },
   {
    "duration": 253,
    "start_time": "2024-11-16T18:05:29.846Z"
   },
   {
    "duration": 7,
    "start_time": "2024-11-16T18:05:30.102Z"
   },
   {
    "duration": 187,
    "start_time": "2024-11-16T18:05:30.111Z"
   },
   {
    "duration": 8,
    "start_time": "2024-11-16T18:05:30.300Z"
   },
   {
    "duration": 222,
    "start_time": "2024-11-16T18:05:30.309Z"
   },
   {
    "duration": 8,
    "start_time": "2024-11-16T18:05:30.532Z"
   },
   {
    "duration": 8,
    "start_time": "2024-11-16T18:05:30.542Z"
   },
   {
    "duration": 310,
    "start_time": "2024-11-16T18:05:30.552Z"
   },
   {
    "duration": 1852,
    "start_time": "2024-11-16T18:05:30.864Z"
   },
   {
    "duration": 22,
    "start_time": "2024-11-16T18:05:32.720Z"
   },
   {
    "duration": 22,
    "start_time": "2024-11-16T18:05:32.743Z"
   },
   {
    "duration": 7639,
    "start_time": "2024-11-16T18:05:32.767Z"
   },
   {
    "duration": 39908,
    "start_time": "2024-11-16T18:05:40.408Z"
   },
   {
    "duration": 3,
    "start_time": "2024-11-16T18:06:20.318Z"
   },
   {
    "duration": 721,
    "start_time": "2024-11-16T18:06:20.323Z"
   },
   {
    "duration": 9129,
    "start_time": "2024-11-16T18:08:09.571Z"
   },
   {
    "duration": 62,
    "start_time": "2024-11-16T18:08:18.702Z"
   },
   {
    "duration": 11,
    "start_time": "2024-11-16T18:08:18.765Z"
   },
   {
    "duration": 173,
    "start_time": "2024-11-16T18:08:18.777Z"
   },
   {
    "duration": 164,
    "start_time": "2024-11-16T18:08:18.952Z"
   },
   {
    "duration": 164,
    "start_time": "2024-11-16T18:08:19.117Z"
   },
   {
    "duration": 193,
    "start_time": "2024-11-16T18:08:19.283Z"
   },
   {
    "duration": 164,
    "start_time": "2024-11-16T18:08:19.477Z"
   },
   {
    "duration": 145,
    "start_time": "2024-11-16T18:08:19.642Z"
   },
   {
    "duration": 228,
    "start_time": "2024-11-16T18:08:19.789Z"
   },
   {
    "duration": 1133,
    "start_time": "2024-11-16T18:08:20.018Z"
   },
   {
    "duration": 6,
    "start_time": "2024-11-16T18:08:21.153Z"
   },
   {
    "duration": 23,
    "start_time": "2024-11-16T18:08:21.160Z"
   },
   {
    "duration": 8,
    "start_time": "2024-11-16T18:08:21.185Z"
   },
   {
    "duration": 156,
    "start_time": "2024-11-16T18:08:21.195Z"
   },
   {
    "duration": 379,
    "start_time": "2024-11-16T18:08:21.352Z"
   },
   {
    "duration": 15,
    "start_time": "2024-11-16T18:08:21.732Z"
   },
   {
    "duration": 28,
    "start_time": "2024-11-16T18:08:21.749Z"
   },
   {
    "duration": 231,
    "start_time": "2024-11-16T18:08:21.778Z"
   },
   {
    "duration": 8,
    "start_time": "2024-11-16T18:08:22.010Z"
   },
   {
    "duration": 156,
    "start_time": "2024-11-16T18:08:22.020Z"
   },
   {
    "duration": 9,
    "start_time": "2024-11-16T18:08:22.177Z"
   },
   {
    "duration": 160,
    "start_time": "2024-11-16T18:08:22.188Z"
   },
   {
    "duration": 8,
    "start_time": "2024-11-16T18:08:22.349Z"
   },
   {
    "duration": 16,
    "start_time": "2024-11-16T18:08:22.359Z"
   },
   {
    "duration": 272,
    "start_time": "2024-11-16T18:08:22.377Z"
   },
   {
    "duration": 1834,
    "start_time": "2024-11-16T18:08:22.650Z"
   },
   {
    "duration": 20,
    "start_time": "2024-11-16T18:08:24.488Z"
   },
   {
    "duration": 25,
    "start_time": "2024-11-16T18:08:24.509Z"
   },
   {
    "duration": 7094,
    "start_time": "2024-11-16T18:08:24.536Z"
   },
   {
    "duration": 528,
    "start_time": "2024-11-16T18:08:31.632Z"
   },
   {
    "duration": 32896,
    "start_time": "2024-11-16T18:08:32.162Z"
   },
   {
    "duration": 6718,
    "start_time": "2024-11-16T18:09:05.075Z"
   },
   {
    "duration": 4,
    "start_time": "2024-11-16T18:09:11.795Z"
   },
   {
    "duration": 646,
    "start_time": "2024-11-16T18:09:11.801Z"
   },
   {
    "duration": 2,
    "start_time": "2024-11-16T18:18:47.135Z"
   },
   {
    "duration": 9180,
    "start_time": "2024-11-16T18:41:41.197Z"
   },
   {
    "duration": 65,
    "start_time": "2024-11-16T18:41:50.379Z"
   },
   {
    "duration": 12,
    "start_time": "2024-11-16T18:41:50.446Z"
   },
   {
    "duration": 163,
    "start_time": "2024-11-16T18:41:50.459Z"
   },
   {
    "duration": 184,
    "start_time": "2024-11-16T18:41:50.625Z"
   },
   {
    "duration": 170,
    "start_time": "2024-11-16T18:41:50.810Z"
   },
   {
    "duration": 180,
    "start_time": "2024-11-16T18:41:50.982Z"
   },
   {
    "duration": 172,
    "start_time": "2024-11-16T18:41:51.164Z"
   },
   {
    "duration": 157,
    "start_time": "2024-11-16T18:41:51.338Z"
   },
   {
    "duration": 7,
    "start_time": "2024-11-16T18:41:51.497Z"
   },
   {
    "duration": 234,
    "start_time": "2024-11-16T18:41:51.506Z"
   },
   {
    "duration": 12,
    "start_time": "2024-11-16T18:41:51.742Z"
   },
   {
    "duration": 54,
    "start_time": "2024-11-16T18:41:51.755Z"
   },
   {
    "duration": 136,
    "start_time": "2024-11-16T18:41:51.812Z"
   },
   {
    "duration": 382,
    "start_time": "2024-11-16T18:41:51.949Z"
   },
   {
    "duration": 15,
    "start_time": "2024-11-16T18:41:52.332Z"
   },
   {
    "duration": 29,
    "start_time": "2024-11-16T18:41:52.348Z"
   },
   {
    "duration": 17,
    "start_time": "2024-11-16T18:41:52.378Z"
   },
   {
    "duration": 7,
    "start_time": "2024-11-16T18:41:52.397Z"
   },
   {
    "duration": 170,
    "start_time": "2024-11-16T18:41:52.406Z"
   },
   {
    "duration": 8,
    "start_time": "2024-11-16T18:41:52.577Z"
   },
   {
    "duration": 161,
    "start_time": "2024-11-16T18:41:52.586Z"
   },
   {
    "duration": 8,
    "start_time": "2024-11-16T18:41:52.749Z"
   },
   {
    "duration": 18,
    "start_time": "2024-11-16T18:41:52.759Z"
   },
   {
    "duration": 271,
    "start_time": "2024-11-16T18:41:52.779Z"
   },
   {
    "duration": 1814,
    "start_time": "2024-11-16T18:41:53.075Z"
   },
   {
    "duration": 235,
    "start_time": "2024-11-16T18:41:54.890Z"
   },
   {
    "duration": 18,
    "start_time": "2024-11-16T18:41:55.127Z"
   },
   {
    "duration": 459,
    "start_time": "2024-11-16T18:41:55.146Z"
   },
   {
    "duration": 0,
    "start_time": "2024-11-16T18:41:55.607Z"
   },
   {
    "duration": 0,
    "start_time": "2024-11-16T18:41:55.608Z"
   },
   {
    "duration": 0,
    "start_time": "2024-11-16T18:41:55.609Z"
   },
   {
    "duration": 0,
    "start_time": "2024-11-16T18:41:55.611Z"
   },
   {
    "duration": 33,
    "start_time": "2024-11-16T18:44:08.282Z"
   },
   {
    "duration": 9096,
    "start_time": "2024-11-16T18:44:19.430Z"
   },
   {
    "duration": 67,
    "start_time": "2024-11-16T18:44:28.527Z"
   },
   {
    "duration": 11,
    "start_time": "2024-11-16T18:44:28.596Z"
   },
   {
    "duration": 154,
    "start_time": "2024-11-16T18:44:28.608Z"
   },
   {
    "duration": 165,
    "start_time": "2024-11-16T18:44:28.764Z"
   },
   {
    "duration": 168,
    "start_time": "2024-11-16T18:44:28.931Z"
   },
   {
    "duration": 180,
    "start_time": "2024-11-16T18:44:29.101Z"
   },
   {
    "duration": 171,
    "start_time": "2024-11-16T18:44:29.282Z"
   },
   {
    "duration": 157,
    "start_time": "2024-11-16T18:44:29.455Z"
   },
   {
    "duration": 8,
    "start_time": "2024-11-16T18:44:29.614Z"
   },
   {
    "duration": 226,
    "start_time": "2024-11-16T18:44:29.623Z"
   },
   {
    "duration": 10,
    "start_time": "2024-11-16T18:44:29.851Z"
   },
   {
    "duration": 9,
    "start_time": "2024-11-16T18:44:29.876Z"
   },
   {
    "duration": 143,
    "start_time": "2024-11-16T18:44:29.887Z"
   },
   {
    "duration": 393,
    "start_time": "2024-11-16T18:44:30.032Z"
   },
   {
    "duration": 15,
    "start_time": "2024-11-16T18:44:30.426Z"
   },
   {
    "duration": 78,
    "start_time": "2024-11-16T18:44:30.442Z"
   },
   {
    "duration": 18,
    "start_time": "2024-11-16T18:44:30.522Z"
   },
   {
    "duration": 8,
    "start_time": "2024-11-16T18:44:30.542Z"
   },
   {
    "duration": 190,
    "start_time": "2024-11-16T18:44:30.552Z"
   },
   {
    "duration": 7,
    "start_time": "2024-11-16T18:44:30.744Z"
   },
   {
    "duration": 190,
    "start_time": "2024-11-16T18:44:30.753Z"
   },
   {
    "duration": 7,
    "start_time": "2024-11-16T18:44:30.945Z"
   },
   {
    "duration": 7,
    "start_time": "2024-11-16T18:44:30.954Z"
   },
   {
    "duration": 321,
    "start_time": "2024-11-16T18:44:30.975Z"
   },
   {
    "duration": 1862,
    "start_time": "2024-11-16T18:44:31.298Z"
   },
   {
    "duration": 226,
    "start_time": "2024-11-16T18:44:33.162Z"
   },
   {
    "duration": 300,
    "start_time": "2024-11-16T18:44:33.390Z"
   },
   {
    "duration": 0,
    "start_time": "2024-11-16T18:44:33.692Z"
   },
   {
    "duration": 0,
    "start_time": "2024-11-16T18:44:33.693Z"
   },
   {
    "duration": 0,
    "start_time": "2024-11-16T18:44:33.694Z"
   },
   {
    "duration": 0,
    "start_time": "2024-11-16T18:44:33.695Z"
   },
   {
    "duration": 0,
    "start_time": "2024-11-16T18:44:33.696Z"
   },
   {
    "duration": 8961,
    "start_time": "2024-11-16T18:45:48.594Z"
   },
   {
    "duration": 61,
    "start_time": "2024-11-16T18:45:57.557Z"
   },
   {
    "duration": 12,
    "start_time": "2024-11-16T18:45:57.619Z"
   },
   {
    "duration": 153,
    "start_time": "2024-11-16T18:45:57.632Z"
   },
   {
    "duration": 171,
    "start_time": "2024-11-16T18:45:57.788Z"
   },
   {
    "duration": 167,
    "start_time": "2024-11-16T18:45:57.961Z"
   },
   {
    "duration": 206,
    "start_time": "2024-11-16T18:45:58.129Z"
   },
   {
    "duration": 161,
    "start_time": "2024-11-16T18:45:58.337Z"
   },
   {
    "duration": 147,
    "start_time": "2024-11-16T18:45:58.500Z"
   },
   {
    "duration": 6,
    "start_time": "2024-11-16T18:45:58.649Z"
   },
   {
    "duration": 234,
    "start_time": "2024-11-16T18:45:58.657Z"
   },
   {
    "duration": 11,
    "start_time": "2024-11-16T18:45:58.893Z"
   },
   {
    "duration": 56,
    "start_time": "2024-11-16T18:45:58.905Z"
   },
   {
    "duration": 131,
    "start_time": "2024-11-16T18:45:58.964Z"
   },
   {
    "duration": 456,
    "start_time": "2024-11-16T18:45:59.097Z"
   },
   {
    "duration": 23,
    "start_time": "2024-11-16T18:45:59.555Z"
   },
   {
    "duration": 15,
    "start_time": "2024-11-16T18:45:59.580Z"
   },
   {
    "duration": 18,
    "start_time": "2024-11-16T18:45:59.596Z"
   },
   {
    "duration": 8,
    "start_time": "2024-11-16T18:45:59.615Z"
   },
   {
    "duration": 170,
    "start_time": "2024-11-16T18:45:59.625Z"
   },
   {
    "duration": 7,
    "start_time": "2024-11-16T18:45:59.796Z"
   },
   {
    "duration": 164,
    "start_time": "2024-11-16T18:45:59.805Z"
   },
   {
    "duration": 10,
    "start_time": "2024-11-16T18:45:59.970Z"
   },
   {
    "duration": 6,
    "start_time": "2024-11-16T18:45:59.982Z"
   },
   {
    "duration": 302,
    "start_time": "2024-11-16T18:45:59.989Z"
   },
   {
    "duration": 1896,
    "start_time": "2024-11-16T18:46:00.292Z"
   },
   {
    "duration": 244,
    "start_time": "2024-11-16T18:46:02.190Z"
   },
   {
    "duration": 7178,
    "start_time": "2024-11-16T18:46:02.436Z"
   },
   {
    "duration": 490,
    "start_time": "2024-11-16T18:46:09.615Z"
   },
   {
    "duration": 32511,
    "start_time": "2024-11-16T18:46:10.107Z"
   },
   {
    "duration": 6364,
    "start_time": "2024-11-16T18:46:42.619Z"
   },
   {
    "duration": 4,
    "start_time": "2024-11-16T18:46:48.985Z"
   },
   {
    "duration": 739,
    "start_time": "2024-11-16T18:46:48.991Z"
   },
   {
    "duration": 9451,
    "start_time": "2024-11-16T18:52:00.853Z"
   },
   {
    "duration": 63,
    "start_time": "2024-11-16T18:52:10.306Z"
   },
   {
    "duration": 12,
    "start_time": "2024-11-16T18:52:10.370Z"
   },
   {
    "duration": 145,
    "start_time": "2024-11-16T18:52:10.384Z"
   },
   {
    "duration": 182,
    "start_time": "2024-11-16T18:52:10.531Z"
   },
   {
    "duration": 173,
    "start_time": "2024-11-16T18:52:10.715Z"
   },
   {
    "duration": 184,
    "start_time": "2024-11-16T18:52:10.890Z"
   },
   {
    "duration": 166,
    "start_time": "2024-11-16T18:52:11.076Z"
   },
   {
    "duration": 151,
    "start_time": "2024-11-16T18:52:11.244Z"
   },
   {
    "duration": 7,
    "start_time": "2024-11-16T18:52:11.398Z"
   },
   {
    "duration": 232,
    "start_time": "2024-11-16T18:52:11.407Z"
   },
   {
    "duration": 11,
    "start_time": "2024-11-16T18:52:11.640Z"
   },
   {
    "duration": 29,
    "start_time": "2024-11-16T18:52:11.653Z"
   },
   {
    "duration": 134,
    "start_time": "2024-11-16T18:52:11.684Z"
   },
   {
    "duration": 408,
    "start_time": "2024-11-16T18:52:11.819Z"
   },
   {
    "duration": 16,
    "start_time": "2024-11-16T18:52:12.229Z"
   },
   {
    "duration": 14,
    "start_time": "2024-11-16T18:52:12.246Z"
   },
   {
    "duration": 17,
    "start_time": "2024-11-16T18:52:12.276Z"
   },
   {
    "duration": 8,
    "start_time": "2024-11-16T18:52:12.294Z"
   },
   {
    "duration": 169,
    "start_time": "2024-11-16T18:52:12.303Z"
   },
   {
    "duration": 7,
    "start_time": "2024-11-16T18:52:12.476Z"
   },
   {
    "duration": 207,
    "start_time": "2024-11-16T18:52:12.485Z"
   },
   {
    "duration": 7,
    "start_time": "2024-11-16T18:52:12.694Z"
   },
   {
    "duration": 71,
    "start_time": "2024-11-16T18:52:12.702Z"
   },
   {
    "duration": 277,
    "start_time": "2024-11-16T18:52:12.775Z"
   },
   {
    "duration": 1854,
    "start_time": "2024-11-16T18:52:13.054Z"
   },
   {
    "duration": 223,
    "start_time": "2024-11-16T18:52:14.910Z"
   },
   {
    "duration": 26266,
    "start_time": "2024-11-16T18:52:15.137Z"
   },
   {
    "duration": 672,
    "start_time": "2024-11-16T18:52:41.405Z"
   },
   {
    "duration": 0,
    "start_time": "2024-11-16T18:52:42.078Z"
   },
   {
    "duration": 0,
    "start_time": "2024-11-16T18:52:42.079Z"
   },
   {
    "duration": 0,
    "start_time": "2024-11-16T18:52:42.081Z"
   },
   {
    "duration": 0,
    "start_time": "2024-11-16T18:52:42.082Z"
   },
   {
    "duration": 512,
    "start_time": "2024-11-16T18:53:45.874Z"
   },
   {
    "duration": 33204,
    "start_time": "2024-11-16T18:54:44.923Z"
   },
   {
    "duration": 6378,
    "start_time": "2024-11-16T18:55:18.129Z"
   },
   {
    "duration": 3,
    "start_time": "2024-11-16T18:55:24.509Z"
   },
   {
    "duration": 641,
    "start_time": "2024-11-16T18:55:24.514Z"
   },
   {
    "duration": 26936,
    "start_time": "2024-11-16T18:59:29.995Z"
   },
   {
    "duration": 9305,
    "start_time": "2024-11-16T19:00:51.805Z"
   },
   {
    "duration": 64,
    "start_time": "2024-11-16T19:01:01.112Z"
   },
   {
    "duration": 12,
    "start_time": "2024-11-16T19:01:01.178Z"
   },
   {
    "duration": 171,
    "start_time": "2024-11-16T19:01:01.193Z"
   },
   {
    "duration": 170,
    "start_time": "2024-11-16T19:01:01.367Z"
   },
   {
    "duration": 165,
    "start_time": "2024-11-16T19:01:01.539Z"
   },
   {
    "duration": 192,
    "start_time": "2024-11-16T19:01:01.707Z"
   },
   {
    "duration": 186,
    "start_time": "2024-11-16T19:01:01.902Z"
   },
   {
    "duration": 153,
    "start_time": "2024-11-16T19:01:02.091Z"
   },
   {
    "duration": 6,
    "start_time": "2024-11-16T19:01:02.248Z"
   },
   {
    "duration": 251,
    "start_time": "2024-11-16T19:01:02.256Z"
   },
   {
    "duration": 11,
    "start_time": "2024-11-16T19:01:02.509Z"
   },
   {
    "duration": 66,
    "start_time": "2024-11-16T19:01:02.521Z"
   },
   {
    "duration": 186,
    "start_time": "2024-11-16T19:01:02.589Z"
   },
   {
    "duration": 405,
    "start_time": "2024-11-16T19:01:02.777Z"
   },
   {
    "duration": 18,
    "start_time": "2024-11-16T19:01:03.185Z"
   },
   {
    "duration": 24,
    "start_time": "2024-11-16T19:01:03.205Z"
   },
   {
    "duration": 16,
    "start_time": "2024-11-16T19:01:03.230Z"
   },
   {
    "duration": 13,
    "start_time": "2024-11-16T19:01:03.277Z"
   },
   {
    "duration": 195,
    "start_time": "2024-11-16T19:01:03.292Z"
   },
   {
    "duration": 11,
    "start_time": "2024-11-16T19:01:03.490Z"
   },
   {
    "duration": 204,
    "start_time": "2024-11-16T19:01:03.503Z"
   },
   {
    "duration": 9,
    "start_time": "2024-11-16T19:01:03.709Z"
   },
   {
    "duration": 13,
    "start_time": "2024-11-16T19:01:03.720Z"
   },
   {
    "duration": 309,
    "start_time": "2024-11-16T19:01:03.735Z"
   },
   {
    "duration": 1866,
    "start_time": "2024-11-16T19:01:04.047Z"
   },
   {
    "duration": 229,
    "start_time": "2024-11-16T19:01:05.914Z"
   },
   {
    "duration": 26974,
    "start_time": "2024-11-16T19:01:06.146Z"
   },
   {
    "duration": 0,
    "start_time": "2024-11-16T19:01:33.121Z"
   },
   {
    "duration": 0,
    "start_time": "2024-11-16T19:01:33.122Z"
   },
   {
    "duration": 0,
    "start_time": "2024-11-16T19:01:33.124Z"
   },
   {
    "duration": 0,
    "start_time": "2024-11-16T19:01:33.125Z"
   },
   {
    "duration": 0,
    "start_time": "2024-11-16T19:01:33.126Z"
   },
   {
    "duration": 27057,
    "start_time": "2024-11-16T19:02:28.857Z"
   },
   {
    "duration": 508,
    "start_time": "2024-11-16T19:03:22.929Z"
   },
   {
    "duration": 500,
    "start_time": "2024-11-16T19:04:41.729Z"
   },
   {
    "duration": 32851,
    "start_time": "2024-11-16T19:08:55.599Z"
   },
   {
    "duration": 6701,
    "start_time": "2024-11-16T19:09:28.452Z"
   },
   {
    "duration": 4,
    "start_time": "2024-11-16T19:09:35.154Z"
   },
   {
    "duration": 667,
    "start_time": "2024-11-16T19:09:35.160Z"
   },
   {
    "duration": 9343,
    "start_time": "2024-11-16T19:15:11.358Z"
   },
   {
    "duration": 65,
    "start_time": "2024-11-16T19:15:20.704Z"
   },
   {
    "duration": 11,
    "start_time": "2024-11-16T19:15:20.772Z"
   },
   {
    "duration": 162,
    "start_time": "2024-11-16T19:15:20.785Z"
   },
   {
    "duration": 165,
    "start_time": "2024-11-16T19:15:20.950Z"
   },
   {
    "duration": 167,
    "start_time": "2024-11-16T19:15:21.117Z"
   },
   {
    "duration": 184,
    "start_time": "2024-11-16T19:15:21.286Z"
   },
   {
    "duration": 171,
    "start_time": "2024-11-16T19:15:21.475Z"
   },
   {
    "duration": 149,
    "start_time": "2024-11-16T19:15:21.648Z"
   },
   {
    "duration": 7,
    "start_time": "2024-11-16T19:15:21.799Z"
   },
   {
    "duration": 233,
    "start_time": "2024-11-16T19:15:21.807Z"
   },
   {
    "duration": 10,
    "start_time": "2024-11-16T19:15:22.042Z"
   },
   {
    "duration": 23,
    "start_time": "2024-11-16T19:15:22.054Z"
   },
   {
    "duration": 139,
    "start_time": "2024-11-16T19:15:22.079Z"
   },
   {
    "duration": 401,
    "start_time": "2024-11-16T19:15:22.219Z"
   },
   {
    "duration": 16,
    "start_time": "2024-11-16T19:15:22.622Z"
   },
   {
    "duration": 15,
    "start_time": "2024-11-16T19:15:22.640Z"
   },
   {
    "duration": 18,
    "start_time": "2024-11-16T19:15:22.676Z"
   },
   {
    "duration": 8,
    "start_time": "2024-11-16T19:15:22.695Z"
   },
   {
    "duration": 177,
    "start_time": "2024-11-16T19:15:22.704Z"
   },
   {
    "duration": 7,
    "start_time": "2024-11-16T19:15:22.883Z"
   },
   {
    "duration": 174,
    "start_time": "2024-11-16T19:15:22.892Z"
   },
   {
    "duration": 13,
    "start_time": "2024-11-16T19:15:23.068Z"
   },
   {
    "duration": 7,
    "start_time": "2024-11-16T19:15:23.083Z"
   },
   {
    "duration": 353,
    "start_time": "2024-11-16T19:15:23.092Z"
   },
   {
    "duration": 1837,
    "start_time": "2024-11-16T19:15:23.447Z"
   },
   {
    "duration": 240,
    "start_time": "2024-11-16T19:15:25.286Z"
   },
   {
    "duration": 27552,
    "start_time": "2024-11-16T19:15:25.529Z"
   },
   {
    "duration": 743,
    "start_time": "2024-11-16T19:15:53.083Z"
   },
   {
    "duration": 34458,
    "start_time": "2024-11-16T19:15:53.828Z"
   },
   {
    "duration": 6695,
    "start_time": "2024-11-16T19:16:28.288Z"
   },
   {
    "duration": 4,
    "start_time": "2024-11-16T19:16:34.985Z"
   },
   {
    "duration": 740,
    "start_time": "2024-11-16T19:16:34.990Z"
   },
   {
    "duration": 17192,
    "start_time": "2024-11-17T07:57:20.845Z"
   },
   {
    "duration": 6438,
    "start_time": "2024-11-17T10:32:52.729Z"
   },
   {
    "duration": 116,
    "start_time": "2024-11-17T10:32:59.169Z"
   },
   {
    "duration": 11,
    "start_time": "2024-11-17T10:32:59.286Z"
   },
   {
    "duration": 148,
    "start_time": "2024-11-17T10:32:59.299Z"
   },
   {
    "duration": 151,
    "start_time": "2024-11-17T10:32:59.449Z"
   },
   {
    "duration": 175,
    "start_time": "2024-11-17T10:32:59.602Z"
   },
   {
    "duration": 181,
    "start_time": "2024-11-17T10:32:59.778Z"
   },
   {
    "duration": 198,
    "start_time": "2024-11-17T10:32:59.961Z"
   },
   {
    "duration": 146,
    "start_time": "2024-11-17T10:33:00.162Z"
   },
   {
    "duration": 27,
    "start_time": "2024-11-17T10:33:00.310Z"
   },
   {
    "duration": 237,
    "start_time": "2024-11-17T10:33:00.339Z"
   },
   {
    "duration": 10,
    "start_time": "2024-11-17T10:33:00.578Z"
   },
   {
    "duration": 18,
    "start_time": "2024-11-17T10:33:00.589Z"
   },
   {
    "duration": 142,
    "start_time": "2024-11-17T10:33:00.619Z"
   },
   {
    "duration": 382,
    "start_time": "2024-11-17T10:33:00.763Z"
   },
   {
    "duration": 18,
    "start_time": "2024-11-17T10:33:01.146Z"
   },
   {
    "duration": 21,
    "start_time": "2024-11-17T10:33:01.166Z"
   },
   {
    "duration": 69,
    "start_time": "2024-11-17T10:33:01.189Z"
   },
   {
    "duration": 26,
    "start_time": "2024-11-17T10:33:01.260Z"
   },
   {
    "duration": 210,
    "start_time": "2024-11-17T10:33:01.287Z"
   },
   {
    "duration": 7,
    "start_time": "2024-11-17T10:33:01.499Z"
   },
   {
    "duration": 197,
    "start_time": "2024-11-17T10:33:01.507Z"
   },
   {
    "duration": 29,
    "start_time": "2024-11-17T10:33:01.706Z"
   },
   {
    "duration": 14,
    "start_time": "2024-11-17T10:33:01.747Z"
   },
   {
    "duration": 304,
    "start_time": "2024-11-17T10:33:01.770Z"
   },
   {
    "duration": 2027,
    "start_time": "2024-11-17T10:33:02.075Z"
   },
   {
    "duration": 23,
    "start_time": "2024-11-17T10:33:04.103Z"
   },
   {
    "duration": 39,
    "start_time": "2024-11-17T10:33:04.130Z"
   },
   {
    "duration": 13884,
    "start_time": "2024-11-17T10:33:04.171Z"
   },
   {
    "duration": 14,
    "start_time": "2024-11-17T10:37:55.917Z"
   },
   {
    "duration": 13910,
    "start_time": "2024-11-17T10:38:00.479Z"
   },
   {
    "duration": 556,
    "start_time": "2024-11-17T10:43:36.825Z"
   },
   {
    "duration": 10858,
    "start_time": "2024-11-17T10:56:32.792Z"
   },
   {
    "duration": 79,
    "start_time": "2024-11-17T10:56:43.652Z"
   },
   {
    "duration": 20,
    "start_time": "2024-11-17T10:56:43.745Z"
   },
   {
    "duration": 149,
    "start_time": "2024-11-17T10:56:43.772Z"
   },
   {
    "duration": 170,
    "start_time": "2024-11-17T10:56:43.923Z"
   },
   {
    "duration": 169,
    "start_time": "2024-11-17T10:56:44.094Z"
   },
   {
    "duration": 195,
    "start_time": "2024-11-17T10:56:44.265Z"
   },
   {
    "duration": 184,
    "start_time": "2024-11-17T10:56:44.469Z"
   },
   {
    "duration": 162,
    "start_time": "2024-11-17T10:56:44.659Z"
   },
   {
    "duration": 23,
    "start_time": "2024-11-17T10:56:44.835Z"
   },
   {
    "duration": 274,
    "start_time": "2024-11-17T10:56:44.859Z"
   },
   {
    "duration": 26,
    "start_time": "2024-11-17T10:56:45.134Z"
   },
   {
    "duration": 10,
    "start_time": "2024-11-17T10:56:45.162Z"
   },
   {
    "duration": 144,
    "start_time": "2024-11-17T10:56:45.174Z"
   },
   {
    "duration": 333,
    "start_time": "2024-11-17T10:56:45.320Z"
   },
   {
    "duration": 16,
    "start_time": "2024-11-17T10:56:45.656Z"
   },
   {
    "duration": 17,
    "start_time": "2024-11-17T10:56:45.673Z"
   },
   {
    "duration": 54,
    "start_time": "2024-11-17T10:56:45.691Z"
   },
   {
    "duration": 10,
    "start_time": "2024-11-17T10:56:45.752Z"
   },
   {
    "duration": 198,
    "start_time": "2024-11-17T10:56:45.763Z"
   },
   {
    "duration": 11,
    "start_time": "2024-11-17T10:56:45.963Z"
   },
   {
    "duration": 161,
    "start_time": "2024-11-17T10:56:45.975Z"
   },
   {
    "duration": 10,
    "start_time": "2024-11-17T10:56:46.137Z"
   },
   {
    "duration": 10,
    "start_time": "2024-11-17T10:56:46.148Z"
   },
   {
    "duration": 311,
    "start_time": "2024-11-17T10:56:46.159Z"
   },
   {
    "duration": 2077,
    "start_time": "2024-11-17T10:56:46.472Z"
   },
   {
    "duration": 23,
    "start_time": "2024-11-17T10:56:48.550Z"
   },
   {
    "duration": 4,
    "start_time": "2024-11-17T10:56:48.575Z"
   },
   {
    "duration": 13686,
    "start_time": "2024-11-17T11:09:27.831Z"
   },
   {
    "duration": 115,
    "start_time": "2024-11-17T11:09:41.519Z"
   },
   {
    "duration": 12,
    "start_time": "2024-11-17T11:09:41.635Z"
   },
   {
    "duration": 147,
    "start_time": "2024-11-17T11:09:41.649Z"
   },
   {
    "duration": 170,
    "start_time": "2024-11-17T11:09:41.797Z"
   },
   {
    "duration": 179,
    "start_time": "2024-11-17T11:09:41.969Z"
   },
   {
    "duration": 183,
    "start_time": "2024-11-17T11:09:42.149Z"
   },
   {
    "duration": 193,
    "start_time": "2024-11-17T11:09:42.334Z"
   },
   {
    "duration": 157,
    "start_time": "2024-11-17T11:09:42.529Z"
   },
   {
    "duration": 7,
    "start_time": "2024-11-17T11:09:42.688Z"
   },
   {
    "duration": 272,
    "start_time": "2024-11-17T11:09:42.697Z"
   },
   {
    "duration": 12,
    "start_time": "2024-11-17T11:09:42.970Z"
   },
   {
    "duration": 16,
    "start_time": "2024-11-17T11:09:42.984Z"
   },
   {
    "duration": 149,
    "start_time": "2024-11-17T11:09:43.001Z"
   },
   {
    "duration": 436,
    "start_time": "2024-11-17T11:09:43.151Z"
   },
   {
    "duration": 15,
    "start_time": "2024-11-17T11:09:43.589Z"
   },
   {
    "duration": 16,
    "start_time": "2024-11-17T11:09:43.605Z"
   },
   {
    "duration": 24,
    "start_time": "2024-11-17T11:09:43.643Z"
   },
   {
    "duration": 9,
    "start_time": "2024-11-17T11:09:43.669Z"
   },
   {
    "duration": 172,
    "start_time": "2024-11-17T11:09:43.680Z"
   },
   {
    "duration": 9,
    "start_time": "2024-11-17T11:09:43.853Z"
   },
   {
    "duration": 180,
    "start_time": "2024-11-17T11:09:43.864Z"
   },
   {
    "duration": 10,
    "start_time": "2024-11-17T11:09:44.046Z"
   },
   {
    "duration": 10,
    "start_time": "2024-11-17T11:09:44.058Z"
   },
   {
    "duration": 331,
    "start_time": "2024-11-17T11:09:44.070Z"
   },
   {
    "duration": 2232,
    "start_time": "2024-11-17T11:09:44.403Z"
   },
   {
    "duration": 23,
    "start_time": "2024-11-17T11:09:46.637Z"
   },
   {
    "duration": 6,
    "start_time": "2024-11-17T11:09:46.663Z"
   },
   {
    "duration": 17023,
    "start_time": "2024-11-17T11:09:46.671Z"
   },
   {
    "duration": 574,
    "start_time": "2024-11-17T11:10:03.695Z"
   },
   {
    "duration": 514,
    "start_time": "2024-11-17T11:10:04.271Z"
   },
   {
    "duration": 21423,
    "start_time": "2024-11-17T11:10:04.787Z"
   },
   {
    "duration": 4782,
    "start_time": "2024-11-17T11:10:26.211Z"
   },
   {
    "duration": 5,
    "start_time": "2024-11-17T11:10:30.995Z"
   },
   {
    "duration": 699,
    "start_time": "2024-11-17T11:10:31.002Z"
   },
   {
    "duration": 7121,
    "start_time": "2024-11-17T11:17:24.446Z"
   },
   {
    "duration": 3002,
    "start_time": "2024-11-17T11:17:31.570Z"
   },
   {
    "duration": 72,
    "start_time": "2024-11-17T11:17:34.574Z"
   },
   {
    "duration": 13,
    "start_time": "2024-11-17T11:17:34.648Z"
   },
   {
    "duration": 170,
    "start_time": "2024-11-17T11:17:34.663Z"
   },
   {
    "duration": 189,
    "start_time": "2024-11-17T11:17:34.834Z"
   },
   {
    "duration": 166,
    "start_time": "2024-11-17T11:17:35.025Z"
   },
   {
    "duration": 188,
    "start_time": "2024-11-17T11:17:35.193Z"
   },
   {
    "duration": 170,
    "start_time": "2024-11-17T11:17:35.383Z"
   },
   {
    "duration": 180,
    "start_time": "2024-11-17T11:17:35.556Z"
   },
   {
    "duration": 10,
    "start_time": "2024-11-17T11:17:35.738Z"
   },
   {
    "duration": 275,
    "start_time": "2024-11-17T11:17:35.750Z"
   },
   {
    "duration": 25,
    "start_time": "2024-11-17T11:17:36.027Z"
   },
   {
    "duration": 54,
    "start_time": "2024-11-17T11:17:36.054Z"
   },
   {
    "duration": 185,
    "start_time": "2024-11-17T11:17:36.110Z"
   },
   {
    "duration": 386,
    "start_time": "2024-11-17T11:17:36.298Z"
   },
   {
    "duration": 16,
    "start_time": "2024-11-17T11:17:36.685Z"
   },
   {
    "duration": 137,
    "start_time": "2024-11-17T11:17:36.703Z"
   },
   {
    "duration": 19,
    "start_time": "2024-11-17T11:17:36.842Z"
   },
   {
    "duration": 38,
    "start_time": "2024-11-17T11:17:36.863Z"
   },
   {
    "duration": 171,
    "start_time": "2024-11-17T11:17:36.903Z"
   },
   {
    "duration": 8,
    "start_time": "2024-11-17T11:17:37.075Z"
   },
   {
    "duration": 175,
    "start_time": "2024-11-17T11:17:37.085Z"
   },
   {
    "duration": 9,
    "start_time": "2024-11-17T11:17:37.262Z"
   },
   {
    "duration": 33,
    "start_time": "2024-11-17T11:17:37.272Z"
   },
   {
    "duration": 322,
    "start_time": "2024-11-17T11:17:37.307Z"
   },
   {
    "duration": 2272,
    "start_time": "2024-11-17T11:17:37.631Z"
   },
   {
    "duration": 24,
    "start_time": "2024-11-17T11:17:39.906Z"
   },
   {
    "duration": 104,
    "start_time": "2024-11-17T11:17:39.932Z"
   },
   {
    "duration": 15948,
    "start_time": "2024-11-17T11:17:40.038Z"
   },
   {
    "duration": 586,
    "start_time": "2024-11-17T11:17:55.988Z"
   },
   {
    "duration": 551,
    "start_time": "2024-11-17T11:17:56.576Z"
   },
   {
    "duration": 21196,
    "start_time": "2024-11-17T11:17:57.130Z"
   },
   {
    "duration": 5084,
    "start_time": "2024-11-17T11:18:18.327Z"
   },
   {
    "duration": 4,
    "start_time": "2024-11-17T11:18:23.413Z"
   },
   {
    "duration": 776,
    "start_time": "2024-11-17T11:18:23.419Z"
   },
   {
    "duration": 10,
    "start_time": "2024-11-17T11:20:49.175Z"
   },
   {
    "duration": 6,
    "start_time": "2024-11-17T11:25:18.362Z"
   },
   {
    "duration": 8,
    "start_time": "2024-11-17T11:25:18.562Z"
   },
   {
    "duration": 5468,
    "start_time": "2024-11-17T11:27:21.222Z"
   },
   {
    "duration": 3044,
    "start_time": "2024-11-17T11:27:26.693Z"
   },
   {
    "duration": 73,
    "start_time": "2024-11-17T11:27:29.745Z"
   },
   {
    "duration": 13,
    "start_time": "2024-11-17T11:27:29.820Z"
   },
   {
    "duration": 167,
    "start_time": "2024-11-17T11:27:29.834Z"
   },
   {
    "duration": 211,
    "start_time": "2024-11-17T11:27:30.003Z"
   },
   {
    "duration": 177,
    "start_time": "2024-11-17T11:27:30.217Z"
   },
   {
    "duration": 191,
    "start_time": "2024-11-17T11:27:30.397Z"
   },
   {
    "duration": 177,
    "start_time": "2024-11-17T11:27:30.589Z"
   },
   {
    "duration": 174,
    "start_time": "2024-11-17T11:27:30.769Z"
   },
   {
    "duration": 14,
    "start_time": "2024-11-17T11:27:30.945Z"
   },
   {
    "duration": 255,
    "start_time": "2024-11-17T11:27:30.962Z"
   },
   {
    "duration": 12,
    "start_time": "2024-11-17T11:27:31.218Z"
   },
   {
    "duration": 14,
    "start_time": "2024-11-17T11:27:31.232Z"
   },
   {
    "duration": 34,
    "start_time": "2024-11-17T11:27:31.247Z"
   },
   {
    "duration": 165,
    "start_time": "2024-11-17T11:27:31.282Z"
   },
   {
    "duration": 353,
    "start_time": "2024-11-17T11:27:31.448Z"
   },
   {
    "duration": 40,
    "start_time": "2024-11-17T11:27:31.803Z"
   },
   {
    "duration": 17,
    "start_time": "2024-11-17T11:27:31.845Z"
   },
   {
    "duration": 18,
    "start_time": "2024-11-17T11:27:31.864Z"
   },
   {
    "duration": 40,
    "start_time": "2024-11-17T11:27:31.884Z"
   },
   {
    "duration": 259,
    "start_time": "2024-11-17T11:27:31.926Z"
   },
   {
    "duration": 8,
    "start_time": "2024-11-17T11:27:32.187Z"
   },
   {
    "duration": 189,
    "start_time": "2024-11-17T11:27:32.197Z"
   },
   {
    "duration": 18,
    "start_time": "2024-11-17T11:27:32.388Z"
   },
   {
    "duration": 16,
    "start_time": "2024-11-17T11:27:32.408Z"
   },
   {
    "duration": 289,
    "start_time": "2024-11-17T11:27:32.426Z"
   },
   {
    "duration": 2244,
    "start_time": "2024-11-17T11:27:32.719Z"
   },
   {
    "duration": 23,
    "start_time": "2024-11-17T11:27:34.965Z"
   },
   {
    "duration": 76,
    "start_time": "2024-11-17T11:27:34.990Z"
   },
   {
    "duration": 15591,
    "start_time": "2024-11-17T11:27:35.068Z"
   },
   {
    "duration": 370,
    "start_time": "2024-11-17T11:27:50.661Z"
   },
   {
    "duration": 534,
    "start_time": "2024-11-17T11:27:51.043Z"
   },
   {
    "duration": 20807,
    "start_time": "2024-11-17T11:27:51.579Z"
   },
   {
    "duration": 4789,
    "start_time": "2024-11-17T11:28:12.387Z"
   },
   {
    "duration": 4,
    "start_time": "2024-11-17T11:28:17.178Z"
   },
   {
    "duration": 715,
    "start_time": "2024-11-17T11:28:17.184Z"
   },
   {
    "duration": 12,
    "start_time": "2024-11-17T11:30:11.853Z"
   },
   {
    "duration": 9,
    "start_time": "2024-11-17T11:30:13.449Z"
   },
   {
    "duration": 8,
    "start_time": "2024-11-17T11:30:37.775Z"
   },
   {
    "duration": 5713,
    "start_time": "2024-11-17T11:30:52.723Z"
   },
   {
    "duration": 3154,
    "start_time": "2024-11-17T11:30:58.439Z"
   },
   {
    "duration": 73,
    "start_time": "2024-11-17T11:31:01.594Z"
   },
   {
    "duration": 17,
    "start_time": "2024-11-17T11:31:01.669Z"
   },
   {
    "duration": 181,
    "start_time": "2024-11-17T11:31:01.688Z"
   },
   {
    "duration": 182,
    "start_time": "2024-11-17T11:31:01.871Z"
   },
   {
    "duration": 204,
    "start_time": "2024-11-17T11:31:02.055Z"
   },
   {
    "duration": 207,
    "start_time": "2024-11-17T11:31:02.261Z"
   },
   {
    "duration": 175,
    "start_time": "2024-11-17T11:31:02.470Z"
   },
   {
    "duration": 199,
    "start_time": "2024-11-17T11:31:02.649Z"
   },
   {
    "duration": 8,
    "start_time": "2024-11-17T11:31:02.851Z"
   },
   {
    "duration": 274,
    "start_time": "2024-11-17T11:31:02.860Z"
   },
   {
    "duration": 11,
    "start_time": "2024-11-17T11:31:03.136Z"
   },
   {
    "duration": 52,
    "start_time": "2024-11-17T11:31:03.149Z"
   },
   {
    "duration": 11,
    "start_time": "2024-11-17T11:31:03.203Z"
   },
   {
    "duration": 140,
    "start_time": "2024-11-17T11:31:03.216Z"
   },
   {
    "duration": 365,
    "start_time": "2024-11-17T11:31:03.358Z"
   },
   {
    "duration": 28,
    "start_time": "2024-11-17T11:31:03.725Z"
   },
   {
    "duration": 24,
    "start_time": "2024-11-17T11:31:03.755Z"
   },
   {
    "duration": 28,
    "start_time": "2024-11-17T11:31:03.780Z"
   },
   {
    "duration": 9,
    "start_time": "2024-11-17T11:31:03.809Z"
   },
   {
    "duration": 209,
    "start_time": "2024-11-17T11:31:03.820Z"
   },
   {
    "duration": 13,
    "start_time": "2024-11-17T11:31:04.031Z"
   },
   {
    "duration": 203,
    "start_time": "2024-11-17T11:31:04.046Z"
   },
   {
    "duration": 10,
    "start_time": "2024-11-17T11:31:04.251Z"
   },
   {
    "duration": 149,
    "start_time": "2024-11-17T11:31:04.263Z"
   },
   {
    "duration": 315,
    "start_time": "2024-11-17T11:31:04.414Z"
   },
   {
    "duration": 2195,
    "start_time": "2024-11-17T11:31:04.732Z"
   },
   {
    "duration": 26,
    "start_time": "2024-11-17T11:31:06.929Z"
   },
   {
    "duration": 21,
    "start_time": "2024-11-17T11:31:06.956Z"
   },
   {
    "duration": 14592,
    "start_time": "2024-11-17T11:31:06.979Z"
   },
   {
    "duration": 551,
    "start_time": "2024-11-17T11:31:21.572Z"
   },
   {
    "duration": 545,
    "start_time": "2024-11-17T11:31:22.125Z"
   },
   {
    "duration": 19774,
    "start_time": "2024-11-17T11:31:22.672Z"
   },
   {
    "duration": 4018,
    "start_time": "2024-11-17T11:31:42.448Z"
   },
   {
    "duration": 5,
    "start_time": "2024-11-17T11:31:46.468Z"
   },
   {
    "duration": 1031,
    "start_time": "2024-11-17T11:31:46.475Z"
   },
   {
    "duration": 9,
    "start_time": "2024-11-17T11:35:35.927Z"
   },
   {
    "duration": 16,
    "start_time": "2024-11-17T11:37:05.550Z"
   },
   {
    "duration": 393,
    "start_time": "2024-11-17T11:38:15.520Z"
   },
   {
    "duration": 16,
    "start_time": "2024-11-17T11:41:16.044Z"
   },
   {
    "duration": 14,
    "start_time": "2024-11-17T11:45:42.814Z"
   },
   {
    "duration": 305,
    "start_time": "2024-11-17T11:47:31.374Z"
   },
   {
    "duration": 5441,
    "start_time": "2024-11-17T11:48:33.204Z"
   },
   {
    "duration": 3099,
    "start_time": "2024-11-17T11:48:38.648Z"
   },
   {
    "duration": 65,
    "start_time": "2024-11-17T11:48:41.748Z"
   },
   {
    "duration": 12,
    "start_time": "2024-11-17T11:48:41.815Z"
   },
   {
    "duration": 144,
    "start_time": "2024-11-17T11:48:41.829Z"
   },
   {
    "duration": 163,
    "start_time": "2024-11-17T11:48:41.975Z"
   },
   {
    "duration": 172,
    "start_time": "2024-11-17T11:48:42.143Z"
   },
   {
    "duration": 190,
    "start_time": "2024-11-17T11:48:42.317Z"
   },
   {
    "duration": 174,
    "start_time": "2024-11-17T11:48:42.509Z"
   },
   {
    "duration": 159,
    "start_time": "2024-11-17T11:48:42.686Z"
   },
   {
    "duration": 7,
    "start_time": "2024-11-17T11:48:42.846Z"
   },
   {
    "duration": 255,
    "start_time": "2024-11-17T11:48:42.855Z"
   },
   {
    "duration": 11,
    "start_time": "2024-11-17T11:48:43.112Z"
   },
   {
    "duration": 20,
    "start_time": "2024-11-17T11:48:43.124Z"
   },
   {
    "duration": 9,
    "start_time": "2024-11-17T11:48:43.145Z"
   },
   {
    "duration": 137,
    "start_time": "2024-11-17T11:48:43.155Z"
   },
   {
    "duration": 359,
    "start_time": "2024-11-17T11:48:43.294Z"
   },
   {
    "duration": 15,
    "start_time": "2024-11-17T11:48:43.654Z"
   },
   {
    "duration": 21,
    "start_time": "2024-11-17T11:48:43.670Z"
   },
   {
    "duration": 26,
    "start_time": "2024-11-17T11:48:43.692Z"
   },
   {
    "duration": 296,
    "start_time": "2024-11-17T11:48:43.719Z"
   },
   {
    "duration": 9,
    "start_time": "2024-11-17T11:48:44.017Z"
   },
   {
    "duration": 234,
    "start_time": "2024-11-17T11:48:44.027Z"
   },
   {
    "duration": 8,
    "start_time": "2024-11-17T11:48:44.263Z"
   },
   {
    "duration": 177,
    "start_time": "2024-11-17T11:48:44.272Z"
   },
   {
    "duration": 9,
    "start_time": "2024-11-17T11:48:44.451Z"
   },
   {
    "duration": 8,
    "start_time": "2024-11-17T11:48:44.462Z"
   },
   {
    "duration": 324,
    "start_time": "2024-11-17T11:48:44.473Z"
   },
   {
    "duration": 2103,
    "start_time": "2024-11-17T11:48:44.799Z"
   },
   {
    "duration": 1043,
    "start_time": "2024-11-17T11:48:46.903Z"
   },
   {
    "duration": 0,
    "start_time": "2024-11-17T11:48:47.948Z"
   },
   {
    "duration": 0,
    "start_time": "2024-11-17T11:48:47.949Z"
   },
   {
    "duration": 0,
    "start_time": "2024-11-17T11:48:47.950Z"
   },
   {
    "duration": 0,
    "start_time": "2024-11-17T11:48:47.952Z"
   },
   {
    "duration": 1,
    "start_time": "2024-11-17T11:48:47.953Z"
   },
   {
    "duration": 0,
    "start_time": "2024-11-17T11:48:47.955Z"
   },
   {
    "duration": 0,
    "start_time": "2024-11-17T11:48:47.956Z"
   },
   {
    "duration": 0,
    "start_time": "2024-11-17T11:48:47.957Z"
   },
   {
    "duration": 13,
    "start_time": "2024-11-17T11:50:03.345Z"
   },
   {
    "duration": 27,
    "start_time": "2024-11-17T11:51:09.266Z"
   },
   {
    "duration": 6,
    "start_time": "2024-11-17T11:51:14.551Z"
   },
   {
    "duration": 15155,
    "start_time": "2024-11-17T11:51:14.707Z"
   },
   {
    "duration": 605,
    "start_time": "2024-11-17T11:51:29.864Z"
   },
   {
    "duration": 511,
    "start_time": "2024-11-17T11:51:30.471Z"
   },
   {
    "duration": 21281,
    "start_time": "2024-11-17T11:51:30.983Z"
   },
   {
    "duration": 4644,
    "start_time": "2024-11-17T11:51:52.266Z"
   },
   {
    "duration": 5,
    "start_time": "2024-11-17T11:51:56.913Z"
   },
   {
    "duration": 630,
    "start_time": "2024-11-17T11:51:56.920Z"
   },
   {
    "duration": 17,
    "start_time": "2024-11-17T11:56:09.715Z"
   },
   {
    "duration": 5596,
    "start_time": "2024-11-17T11:56:28.136Z"
   },
   {
    "duration": 2980,
    "start_time": "2024-11-17T11:56:33.734Z"
   },
   {
    "duration": 74,
    "start_time": "2024-11-17T11:56:36.715Z"
   },
   {
    "duration": 20,
    "start_time": "2024-11-17T11:56:36.791Z"
   },
   {
    "duration": 168,
    "start_time": "2024-11-17T11:56:36.814Z"
   },
   {
    "duration": 185,
    "start_time": "2024-11-17T11:56:36.983Z"
   },
   {
    "duration": 159,
    "start_time": "2024-11-17T11:56:37.171Z"
   },
   {
    "duration": 179,
    "start_time": "2024-11-17T11:56:37.332Z"
   },
   {
    "duration": 163,
    "start_time": "2024-11-17T11:56:37.512Z"
   },
   {
    "duration": 152,
    "start_time": "2024-11-17T11:56:37.677Z"
   },
   {
    "duration": 12,
    "start_time": "2024-11-17T11:56:37.831Z"
   },
   {
    "duration": 232,
    "start_time": "2024-11-17T11:56:37.845Z"
   },
   {
    "duration": 11,
    "start_time": "2024-11-17T11:56:38.079Z"
   },
   {
    "duration": 31,
    "start_time": "2024-11-17T11:56:38.093Z"
   },
   {
    "duration": 20,
    "start_time": "2024-11-17T11:56:38.126Z"
   },
   {
    "duration": 172,
    "start_time": "2024-11-17T11:56:38.148Z"
   },
   {
    "duration": 376,
    "start_time": "2024-11-17T11:56:38.321Z"
   },
   {
    "duration": 18,
    "start_time": "2024-11-17T11:56:38.699Z"
   },
   {
    "duration": 37,
    "start_time": "2024-11-17T11:56:38.719Z"
   },
   {
    "duration": 15,
    "start_time": "2024-11-17T11:56:38.759Z"
   },
   {
    "duration": 377,
    "start_time": "2024-11-17T11:56:38.775Z"
   },
   {
    "duration": 10,
    "start_time": "2024-11-17T11:56:39.153Z"
   },
   {
    "duration": 174,
    "start_time": "2024-11-17T11:56:39.165Z"
   },
   {
    "duration": 7,
    "start_time": "2024-11-17T11:56:39.342Z"
   },
   {
    "duration": 175,
    "start_time": "2024-11-17T11:56:39.351Z"
   },
   {
    "duration": 15,
    "start_time": "2024-11-17T11:56:39.528Z"
   },
   {
    "duration": 11,
    "start_time": "2024-11-17T11:56:39.545Z"
   },
   {
    "duration": 292,
    "start_time": "2024-11-17T11:56:39.558Z"
   },
   {
    "duration": 2175,
    "start_time": "2024-11-17T11:56:39.852Z"
   },
   {
    "duration": 16,
    "start_time": "2024-11-17T11:56:42.029Z"
   },
   {
    "duration": 1110,
    "start_time": "2024-11-17T11:56:42.047Z"
   },
   {
    "duration": 0,
    "start_time": "2024-11-17T11:56:43.159Z"
   },
   {
    "duration": 0,
    "start_time": "2024-11-17T11:56:43.160Z"
   },
   {
    "duration": 0,
    "start_time": "2024-11-17T11:56:43.161Z"
   },
   {
    "duration": 0,
    "start_time": "2024-11-17T11:56:43.162Z"
   },
   {
    "duration": 0,
    "start_time": "2024-11-17T11:56:43.163Z"
   },
   {
    "duration": 0,
    "start_time": "2024-11-17T11:56:43.164Z"
   },
   {
    "duration": 0,
    "start_time": "2024-11-17T11:56:43.165Z"
   },
   {
    "duration": 0,
    "start_time": "2024-11-17T11:56:43.167Z"
   },
   {
    "duration": 22,
    "start_time": "2024-11-17T11:57:33.170Z"
   },
   {
    "duration": 7,
    "start_time": "2024-11-17T11:57:34.784Z"
   },
   {
    "duration": 15350,
    "start_time": "2024-11-17T11:57:35.007Z"
   },
   {
    "duration": 368,
    "start_time": "2024-11-17T11:57:50.359Z"
   },
   {
    "duration": 536,
    "start_time": "2024-11-17T11:57:50.728Z"
   },
   {
    "duration": 20999,
    "start_time": "2024-11-17T11:57:51.266Z"
   },
   {
    "duration": 4841,
    "start_time": "2024-11-17T11:58:12.267Z"
   },
   {
    "duration": 8,
    "start_time": "2024-11-17T11:58:17.111Z"
   },
   {
    "duration": 794,
    "start_time": "2024-11-17T11:58:17.121Z"
   },
   {
    "duration": 5552,
    "start_time": "2024-11-17T11:59:47.960Z"
   },
   {
    "duration": 2983,
    "start_time": "2024-11-17T11:59:53.515Z"
   },
   {
    "duration": 66,
    "start_time": "2024-11-17T11:59:56.499Z"
   },
   {
    "duration": 13,
    "start_time": "2024-11-17T11:59:56.567Z"
   },
   {
    "duration": 149,
    "start_time": "2024-11-17T11:59:56.581Z"
   },
   {
    "duration": 186,
    "start_time": "2024-11-17T11:59:56.732Z"
   },
   {
    "duration": 173,
    "start_time": "2024-11-17T11:59:56.919Z"
   },
   {
    "duration": 175,
    "start_time": "2024-11-17T11:59:57.094Z"
   },
   {
    "duration": 159,
    "start_time": "2024-11-17T11:59:57.271Z"
   },
   {
    "duration": 147,
    "start_time": "2024-11-17T11:59:57.433Z"
   },
   {
    "duration": 7,
    "start_time": "2024-11-17T11:59:57.581Z"
   },
   {
    "duration": 228,
    "start_time": "2024-11-17T11:59:57.589Z"
   },
   {
    "duration": 11,
    "start_time": "2024-11-17T11:59:57.819Z"
   },
   {
    "duration": 10,
    "start_time": "2024-11-17T11:59:57.842Z"
   },
   {
    "duration": 10,
    "start_time": "2024-11-17T11:59:57.853Z"
   },
   {
    "duration": 141,
    "start_time": "2024-11-17T11:59:57.865Z"
   },
   {
    "duration": 346,
    "start_time": "2024-11-17T11:59:58.007Z"
   },
   {
    "duration": 16,
    "start_time": "2024-11-17T11:59:58.355Z"
   },
   {
    "duration": 115,
    "start_time": "2024-11-17T11:59:58.373Z"
   },
   {
    "duration": 20,
    "start_time": "2024-11-17T11:59:58.490Z"
   },
   {
    "duration": 388,
    "start_time": "2024-11-17T11:59:58.511Z"
   },
   {
    "duration": 8,
    "start_time": "2024-11-17T11:59:58.901Z"
   },
   {
    "duration": 175,
    "start_time": "2024-11-17T11:59:58.911Z"
   },
   {
    "duration": 8,
    "start_time": "2024-11-17T11:59:59.087Z"
   },
   {
    "duration": 226,
    "start_time": "2024-11-17T11:59:59.096Z"
   },
   {
    "duration": 8,
    "start_time": "2024-11-17T11:59:59.324Z"
   },
   {
    "duration": 10,
    "start_time": "2024-11-17T11:59:59.333Z"
   },
   {
    "duration": 301,
    "start_time": "2024-11-17T11:59:59.346Z"
   },
   {
    "duration": 2043,
    "start_time": "2024-11-17T11:59:59.648Z"
   },
   {
    "duration": 12,
    "start_time": "2024-11-17T12:00:01.693Z"
   },
   {
    "duration": 60,
    "start_time": "2024-11-17T12:00:01.708Z"
   },
   {
    "duration": 40,
    "start_time": "2024-11-17T12:00:01.770Z"
   },
   {
    "duration": 15493,
    "start_time": "2024-11-17T12:00:01.811Z"
   },
   {
    "duration": 387,
    "start_time": "2024-11-17T12:00:17.306Z"
   },
   {
    "duration": 528,
    "start_time": "2024-11-17T12:00:17.695Z"
   },
   {
    "duration": 20671,
    "start_time": "2024-11-17T12:00:18.225Z"
   },
   {
    "duration": 4755,
    "start_time": "2024-11-17T12:00:38.898Z"
   },
   {
    "duration": 4,
    "start_time": "2024-11-17T12:00:43.655Z"
   },
   {
    "duration": 658,
    "start_time": "2024-11-17T12:00:43.660Z"
   },
   {
    "duration": 18,
    "start_time": "2024-11-17T12:07:46.353Z"
   },
   {
    "duration": 5637,
    "start_time": "2024-11-17T12:08:17.443Z"
   },
   {
    "duration": 3157,
    "start_time": "2024-11-17T12:08:23.082Z"
   },
   {
    "duration": 66,
    "start_time": "2024-11-17T12:08:26.242Z"
   },
   {
    "duration": 12,
    "start_time": "2024-11-17T12:08:26.309Z"
   },
   {
    "duration": 162,
    "start_time": "2024-11-17T12:08:26.322Z"
   },
   {
    "duration": 186,
    "start_time": "2024-11-17T12:08:26.485Z"
   },
   {
    "duration": 199,
    "start_time": "2024-11-17T12:08:26.673Z"
   },
   {
    "duration": 190,
    "start_time": "2024-11-17T12:08:26.875Z"
   },
   {
    "duration": 201,
    "start_time": "2024-11-17T12:08:27.067Z"
   },
   {
    "duration": 157,
    "start_time": "2024-11-17T12:08:27.271Z"
   },
   {
    "duration": 6,
    "start_time": "2024-11-17T12:08:27.430Z"
   },
   {
    "duration": 236,
    "start_time": "2024-11-17T12:08:27.437Z"
   },
   {
    "duration": 10,
    "start_time": "2024-11-17T12:08:27.675Z"
   },
   {
    "duration": 19,
    "start_time": "2024-11-17T12:08:27.686Z"
   },
   {
    "duration": 22,
    "start_time": "2024-11-17T12:08:27.706Z"
   },
   {
    "duration": 131,
    "start_time": "2024-11-17T12:08:27.730Z"
   },
   {
    "duration": 418,
    "start_time": "2024-11-17T12:08:27.863Z"
   },
   {
    "duration": 15,
    "start_time": "2024-11-17T12:08:28.282Z"
   },
   {
    "duration": 17,
    "start_time": "2024-11-17T12:08:28.299Z"
   },
   {
    "duration": 36,
    "start_time": "2024-11-17T12:08:28.317Z"
   },
   {
    "duration": 317,
    "start_time": "2024-11-17T12:08:28.355Z"
   },
   {
    "duration": 12,
    "start_time": "2024-11-17T12:08:28.674Z"
   },
   {
    "duration": 250,
    "start_time": "2024-11-17T12:08:28.687Z"
   },
   {
    "duration": 13,
    "start_time": "2024-11-17T12:08:28.943Z"
   },
   {
    "duration": 262,
    "start_time": "2024-11-17T12:08:28.961Z"
   },
   {
    "duration": 9,
    "start_time": "2024-11-17T12:08:29.224Z"
   },
   {
    "duration": 76,
    "start_time": "2024-11-17T12:08:29.234Z"
   },
   {
    "duration": 297,
    "start_time": "2024-11-17T12:08:29.314Z"
   },
   {
    "duration": 2107,
    "start_time": "2024-11-17T12:08:29.612Z"
   },
   {
    "duration": 12,
    "start_time": "2024-11-17T12:08:31.721Z"
   },
   {
    "duration": 1049,
    "start_time": "2024-11-17T12:08:31.735Z"
   },
   {
    "duration": 0,
    "start_time": "2024-11-17T12:08:32.786Z"
   },
   {
    "duration": 0,
    "start_time": "2024-11-17T12:08:32.787Z"
   },
   {
    "duration": 0,
    "start_time": "2024-11-17T12:08:32.788Z"
   },
   {
    "duration": 0,
    "start_time": "2024-11-17T12:08:32.789Z"
   },
   {
    "duration": 0,
    "start_time": "2024-11-17T12:08:32.791Z"
   },
   {
    "duration": 0,
    "start_time": "2024-11-17T12:08:32.792Z"
   },
   {
    "duration": 0,
    "start_time": "2024-11-17T12:08:32.793Z"
   },
   {
    "duration": 0,
    "start_time": "2024-11-17T12:08:32.794Z"
   },
   {
    "duration": 855,
    "start_time": "2024-11-17T12:09:14.530Z"
   },
   {
    "duration": 25,
    "start_time": "2024-11-17T12:10:15.956Z"
   },
   {
    "duration": 7,
    "start_time": "2024-11-17T12:10:17.668Z"
   },
   {
    "duration": 15367,
    "start_time": "2024-11-17T12:10:17.826Z"
   },
   {
    "duration": 386,
    "start_time": "2024-11-17T12:10:33.195Z"
   },
   {
    "duration": 510,
    "start_time": "2024-11-17T12:10:33.583Z"
   },
   {
    "duration": 21408,
    "start_time": "2024-11-17T12:10:34.095Z"
   },
   {
    "duration": 4515,
    "start_time": "2024-11-17T12:10:55.506Z"
   },
   {
    "duration": 4,
    "start_time": "2024-11-17T12:11:00.023Z"
   },
   {
    "duration": 677,
    "start_time": "2024-11-17T12:11:00.029Z"
   },
   {
    "duration": 12,
    "start_time": "2024-11-17T12:13:21.762Z"
   },
   {
    "duration": 12,
    "start_time": "2024-11-17T12:13:53.936Z"
   },
   {
    "duration": 5547,
    "start_time": "2024-11-17T12:14:05.967Z"
   },
   {
    "duration": 3070,
    "start_time": "2024-11-17T12:14:11.516Z"
   },
   {
    "duration": 67,
    "start_time": "2024-11-17T12:14:14.587Z"
   },
   {
    "duration": 13,
    "start_time": "2024-11-17T12:14:14.656Z"
   },
   {
    "duration": 167,
    "start_time": "2024-11-17T12:14:14.670Z"
   },
   {
    "duration": 182,
    "start_time": "2024-11-17T12:14:14.839Z"
   },
   {
    "duration": 182,
    "start_time": "2024-11-17T12:14:15.023Z"
   },
   {
    "duration": 193,
    "start_time": "2024-11-17T12:14:15.207Z"
   },
   {
    "duration": 189,
    "start_time": "2024-11-17T12:14:15.402Z"
   },
   {
    "duration": 163,
    "start_time": "2024-11-17T12:14:15.595Z"
   },
   {
    "duration": 7,
    "start_time": "2024-11-17T12:14:15.759Z"
   },
   {
    "duration": 243,
    "start_time": "2024-11-17T12:14:15.768Z"
   },
   {
    "duration": 12,
    "start_time": "2024-11-17T12:14:16.013Z"
   },
   {
    "duration": 14,
    "start_time": "2024-11-17T12:14:16.043Z"
   },
   {
    "duration": 14,
    "start_time": "2024-11-17T12:14:16.059Z"
   },
   {
    "duration": 157,
    "start_time": "2024-11-17T12:14:16.075Z"
   },
   {
    "duration": 347,
    "start_time": "2024-11-17T12:14:16.234Z"
   },
   {
    "duration": 15,
    "start_time": "2024-11-17T12:14:16.584Z"
   },
   {
    "duration": 18,
    "start_time": "2024-11-17T12:14:16.600Z"
   },
   {
    "duration": 34,
    "start_time": "2024-11-17T12:14:16.619Z"
   },
   {
    "duration": 325,
    "start_time": "2024-11-17T12:14:16.656Z"
   },
   {
    "duration": 9,
    "start_time": "2024-11-17T12:14:16.983Z"
   },
   {
    "duration": 212,
    "start_time": "2024-11-17T12:14:16.993Z"
   },
   {
    "duration": 9,
    "start_time": "2024-11-17T12:14:17.207Z"
   },
   {
    "duration": 183,
    "start_time": "2024-11-17T12:14:17.218Z"
   },
   {
    "duration": 8,
    "start_time": "2024-11-17T12:14:17.403Z"
   },
   {
    "duration": 7,
    "start_time": "2024-11-17T12:14:17.413Z"
   },
   {
    "duration": 292,
    "start_time": "2024-11-17T12:14:17.423Z"
   },
   {
    "duration": 2030,
    "start_time": "2024-11-17T12:14:17.717Z"
   },
   {
    "duration": 11,
    "start_time": "2024-11-17T12:14:19.749Z"
   },
   {
    "duration": 22,
    "start_time": "2024-11-17T12:14:19.762Z"
   },
   {
    "duration": 6,
    "start_time": "2024-11-17T12:14:19.786Z"
   },
   {
    "duration": 15368,
    "start_time": "2024-11-17T12:14:19.794Z"
   },
   {
    "duration": 554,
    "start_time": "2024-11-17T12:14:35.164Z"
   },
   {
    "duration": 531,
    "start_time": "2024-11-17T12:14:35.719Z"
   },
   {
    "duration": 20632,
    "start_time": "2024-11-17T12:14:36.252Z"
   },
   {
    "duration": 4619,
    "start_time": "2024-11-17T12:14:56.886Z"
   },
   {
    "duration": 4,
    "start_time": "2024-11-17T12:15:01.506Z"
   },
   {
    "duration": 711,
    "start_time": "2024-11-17T12:15:01.512Z"
   },
   {
    "duration": 22,
    "start_time": "2024-11-17T12:16:46.715Z"
   },
   {
    "duration": 5530,
    "start_time": "2024-11-17T12:17:02.323Z"
   },
   {
    "duration": 2986,
    "start_time": "2024-11-17T12:17:07.856Z"
   },
   {
    "duration": 67,
    "start_time": "2024-11-17T12:17:10.844Z"
   },
   {
    "duration": 15,
    "start_time": "2024-11-17T12:17:10.913Z"
   },
   {
    "duration": 182,
    "start_time": "2024-11-17T12:17:10.931Z"
   },
   {
    "duration": 159,
    "start_time": "2024-11-17T12:17:11.115Z"
   },
   {
    "duration": 168,
    "start_time": "2024-11-17T12:17:11.275Z"
   },
   {
    "duration": 178,
    "start_time": "2024-11-17T12:17:11.444Z"
   },
   {
    "duration": 162,
    "start_time": "2024-11-17T12:17:11.623Z"
   },
   {
    "duration": 148,
    "start_time": "2024-11-17T12:17:11.788Z"
   },
   {
    "duration": 7,
    "start_time": "2024-11-17T12:17:11.937Z"
   },
   {
    "duration": 254,
    "start_time": "2024-11-17T12:17:11.945Z"
   },
   {
    "duration": 11,
    "start_time": "2024-11-17T12:17:12.201Z"
   },
   {
    "duration": 35,
    "start_time": "2024-11-17T12:17:12.214Z"
   },
   {
    "duration": 32,
    "start_time": "2024-11-17T12:17:12.251Z"
   },
   {
    "duration": 143,
    "start_time": "2024-11-17T12:17:12.289Z"
   },
   {
    "duration": 350,
    "start_time": "2024-11-17T12:17:12.434Z"
   },
   {
    "duration": 17,
    "start_time": "2024-11-17T12:17:12.786Z"
   },
   {
    "duration": 72,
    "start_time": "2024-11-17T12:17:12.805Z"
   },
   {
    "duration": 15,
    "start_time": "2024-11-17T12:17:12.879Z"
   },
   {
    "duration": 380,
    "start_time": "2024-11-17T12:17:12.896Z"
   },
   {
    "duration": 9,
    "start_time": "2024-11-17T12:17:13.278Z"
   },
   {
    "duration": 175,
    "start_time": "2024-11-17T12:17:13.288Z"
   },
   {
    "duration": 8,
    "start_time": "2024-11-17T12:17:13.464Z"
   },
   {
    "duration": 201,
    "start_time": "2024-11-17T12:17:13.474Z"
   },
   {
    "duration": 9,
    "start_time": "2024-11-17T12:17:13.677Z"
   },
   {
    "duration": 12,
    "start_time": "2024-11-17T12:17:13.688Z"
   },
   {
    "duration": 299,
    "start_time": "2024-11-17T12:17:13.703Z"
   },
   {
    "duration": 2047,
    "start_time": "2024-11-17T12:17:14.004Z"
   },
   {
    "duration": 12,
    "start_time": "2024-11-17T12:17:16.052Z"
   },
   {
    "duration": 39,
    "start_time": "2024-11-17T12:17:16.065Z"
   },
   {
    "duration": 75,
    "start_time": "2024-11-17T12:17:16.106Z"
   },
   {
    "duration": 15025,
    "start_time": "2024-11-17T12:17:16.182Z"
   },
   {
    "duration": 564,
    "start_time": "2024-11-17T12:17:31.209Z"
   },
   {
    "duration": 508,
    "start_time": "2024-11-17T12:17:31.775Z"
   },
   {
    "duration": 20858,
    "start_time": "2024-11-17T12:17:32.285Z"
   },
   {
    "duration": 4639,
    "start_time": "2024-11-17T12:17:53.144Z"
   },
   {
    "duration": 4,
    "start_time": "2024-11-17T12:17:57.784Z"
   },
   {
    "duration": 639,
    "start_time": "2024-11-17T12:17:57.789Z"
   },
   {
    "duration": 18,
    "start_time": "2024-11-17T12:18:42.503Z"
   },
   {
    "duration": 5390,
    "start_time": "2024-11-17T12:19:53.372Z"
   },
   {
    "duration": 3132,
    "start_time": "2024-11-17T12:19:58.765Z"
   },
   {
    "duration": 74,
    "start_time": "2024-11-17T12:20:01.899Z"
   },
   {
    "duration": 39,
    "start_time": "2024-11-17T12:20:01.976Z"
   },
   {
    "duration": 204,
    "start_time": "2024-11-17T12:20:02.017Z"
   },
   {
    "duration": 193,
    "start_time": "2024-11-17T12:20:02.223Z"
   },
   {
    "duration": 188,
    "start_time": "2024-11-17T12:20:02.418Z"
   },
   {
    "duration": 195,
    "start_time": "2024-11-17T12:20:02.607Z"
   },
   {
    "duration": 199,
    "start_time": "2024-11-17T12:20:02.804Z"
   },
   {
    "duration": 161,
    "start_time": "2024-11-17T12:20:03.005Z"
   },
   {
    "duration": 8,
    "start_time": "2024-11-17T12:20:03.168Z"
   },
   {
    "duration": 320,
    "start_time": "2024-11-17T12:20:03.178Z"
   },
   {
    "duration": 12,
    "start_time": "2024-11-17T12:20:03.500Z"
   },
   {
    "duration": 25,
    "start_time": "2024-11-17T12:20:03.514Z"
   },
   {
    "duration": 34,
    "start_time": "2024-11-17T12:20:03.542Z"
   },
   {
    "duration": 256,
    "start_time": "2024-11-17T12:20:03.578Z"
   },
   {
    "duration": 378,
    "start_time": "2024-11-17T12:20:03.835Z"
   },
   {
    "duration": 28,
    "start_time": "2024-11-17T12:20:04.215Z"
   },
   {
    "duration": 25,
    "start_time": "2024-11-17T12:20:04.245Z"
   },
   {
    "duration": 15,
    "start_time": "2024-11-17T12:20:04.272Z"
   },
   {
    "duration": 315,
    "start_time": "2024-11-17T12:20:04.289Z"
   },
   {
    "duration": 8,
    "start_time": "2024-11-17T12:20:04.606Z"
   },
   {
    "duration": 180,
    "start_time": "2024-11-17T12:20:04.616Z"
   },
   {
    "duration": 8,
    "start_time": "2024-11-17T12:20:04.798Z"
   },
   {
    "duration": 223,
    "start_time": "2024-11-17T12:20:04.807Z"
   },
   {
    "duration": 11,
    "start_time": "2024-11-17T12:20:05.032Z"
   },
   {
    "duration": 29,
    "start_time": "2024-11-17T12:20:05.044Z"
   },
   {
    "duration": 331,
    "start_time": "2024-11-17T12:20:05.076Z"
   },
   {
    "duration": 2118,
    "start_time": "2024-11-17T12:20:05.409Z"
   },
   {
    "duration": 12,
    "start_time": "2024-11-17T12:20:07.530Z"
   },
   {
    "duration": 65,
    "start_time": "2024-11-17T12:20:07.543Z"
   },
   {
    "duration": 41,
    "start_time": "2024-11-17T12:20:07.610Z"
   },
   {
    "duration": 15723,
    "start_time": "2024-11-17T12:20:07.652Z"
   },
   {
    "duration": 570,
    "start_time": "2024-11-17T12:20:23.376Z"
   },
   {
    "duration": 518,
    "start_time": "2024-11-17T12:20:23.948Z"
   },
   {
    "duration": 21560,
    "start_time": "2024-11-17T12:20:24.468Z"
   },
   {
    "duration": 5032,
    "start_time": "2024-11-17T12:20:46.045Z"
   },
   {
    "duration": 6,
    "start_time": "2024-11-17T12:20:51.079Z"
   },
   {
    "duration": 734,
    "start_time": "2024-11-17T12:20:51.086Z"
   },
   {
    "duration": 23,
    "start_time": "2024-11-17T12:23:55.555Z"
   },
   {
    "duration": 18,
    "start_time": "2024-11-17T12:27:14.006Z"
   },
   {
    "duration": 5452,
    "start_time": "2024-11-17T12:27:25.883Z"
   },
   {
    "duration": 3007,
    "start_time": "2024-11-17T12:27:31.338Z"
   },
   {
    "duration": 68,
    "start_time": "2024-11-17T12:27:34.347Z"
   },
   {
    "duration": 17,
    "start_time": "2024-11-17T12:27:34.418Z"
   },
   {
    "duration": 147,
    "start_time": "2024-11-17T12:27:34.437Z"
   },
   {
    "duration": 169,
    "start_time": "2024-11-17T12:27:34.586Z"
   },
   {
    "duration": 181,
    "start_time": "2024-11-17T12:27:34.757Z"
   },
   {
    "duration": 180,
    "start_time": "2024-11-17T12:27:34.940Z"
   },
   {
    "duration": 171,
    "start_time": "2024-11-17T12:27:35.121Z"
   },
   {
    "duration": 151,
    "start_time": "2024-11-17T12:27:35.294Z"
   },
   {
    "duration": 7,
    "start_time": "2024-11-17T12:27:35.446Z"
   },
   {
    "duration": 288,
    "start_time": "2024-11-17T12:27:35.455Z"
   },
   {
    "duration": 11,
    "start_time": "2024-11-17T12:27:35.745Z"
   },
   {
    "duration": 34,
    "start_time": "2024-11-17T12:27:35.757Z"
   },
   {
    "duration": 15,
    "start_time": "2024-11-17T12:27:35.793Z"
   },
   {
    "duration": 126,
    "start_time": "2024-11-17T12:27:35.810Z"
   },
   {
    "duration": 325,
    "start_time": "2024-11-17T12:27:35.937Z"
   },
   {
    "duration": 15,
    "start_time": "2024-11-17T12:27:36.263Z"
   },
   {
    "duration": 36,
    "start_time": "2024-11-17T12:27:36.279Z"
   },
   {
    "duration": 29,
    "start_time": "2024-11-17T12:27:36.316Z"
   },
   {
    "duration": 254,
    "start_time": "2024-11-17T12:27:36.346Z"
   },
   {
    "duration": 8,
    "start_time": "2024-11-17T12:27:36.602Z"
   },
   {
    "duration": 177,
    "start_time": "2024-11-17T12:27:36.611Z"
   },
   {
    "duration": 9,
    "start_time": "2024-11-17T12:27:36.789Z"
   },
   {
    "duration": 177,
    "start_time": "2024-11-17T12:27:36.799Z"
   },
   {
    "duration": 7,
    "start_time": "2024-11-17T12:27:36.978Z"
   },
   {
    "duration": 83,
    "start_time": "2024-11-17T12:27:36.987Z"
   },
   {
    "duration": 334,
    "start_time": "2024-11-17T12:27:37.073Z"
   },
   {
    "duration": 2002,
    "start_time": "2024-11-17T12:27:37.409Z"
   },
   {
    "duration": 11,
    "start_time": "2024-11-17T12:27:39.413Z"
   },
   {
    "duration": 24,
    "start_time": "2024-11-17T12:27:39.426Z"
   },
   {
    "duration": 8,
    "start_time": "2024-11-17T12:27:39.452Z"
   },
   {
    "duration": 15643,
    "start_time": "2024-11-17T12:27:39.461Z"
   },
   {
    "duration": 572,
    "start_time": "2024-11-17T12:27:55.106Z"
   },
   {
    "duration": 543,
    "start_time": "2024-11-17T12:27:55.680Z"
   },
   {
    "duration": 20960,
    "start_time": "2024-11-17T12:27:56.225Z"
   },
   {
    "duration": 4400,
    "start_time": "2024-11-17T12:28:17.187Z"
   },
   {
    "duration": 4,
    "start_time": "2024-11-17T12:28:21.589Z"
   },
   {
    "duration": 1012,
    "start_time": "2024-11-17T12:28:21.594Z"
   },
   {
    "duration": 19,
    "start_time": "2024-11-17T12:34:34.203Z"
   },
   {
    "duration": 17,
    "start_time": "2024-11-17T12:34:48.741Z"
   },
   {
    "duration": 18,
    "start_time": "2024-11-17T12:34:59.411Z"
   },
   {
    "duration": 18,
    "start_time": "2024-11-17T12:35:12.951Z"
   },
   {
    "duration": 18,
    "start_time": "2024-11-17T12:35:37.984Z"
   },
   {
    "duration": 18,
    "start_time": "2024-11-17T12:35:50.503Z"
   },
   {
    "duration": 297,
    "start_time": "2024-11-17T12:35:50.715Z"
   },
   {
    "duration": 5483,
    "start_time": "2024-11-17T12:36:16.141Z"
   },
   {
    "duration": 3070,
    "start_time": "2024-11-17T12:36:21.628Z"
   },
   {
    "duration": 71,
    "start_time": "2024-11-17T12:36:24.701Z"
   },
   {
    "duration": 22,
    "start_time": "2024-11-17T12:36:24.776Z"
   },
   {
    "duration": 173,
    "start_time": "2024-11-17T12:36:24.801Z"
   },
   {
    "duration": 187,
    "start_time": "2024-11-17T12:36:24.976Z"
   },
   {
    "duration": 170,
    "start_time": "2024-11-17T12:36:25.165Z"
   },
   {
    "duration": 188,
    "start_time": "2024-11-17T12:36:25.336Z"
   },
   {
    "duration": 180,
    "start_time": "2024-11-17T12:36:25.525Z"
   },
   {
    "duration": 158,
    "start_time": "2024-11-17T12:36:25.708Z"
   },
   {
    "duration": 8,
    "start_time": "2024-11-17T12:36:25.868Z"
   },
   {
    "duration": 297,
    "start_time": "2024-11-17T12:36:25.878Z"
   },
   {
    "duration": 13,
    "start_time": "2024-11-17T12:36:26.178Z"
   },
   {
    "duration": 76,
    "start_time": "2024-11-17T12:36:26.193Z"
   },
   {
    "duration": 59,
    "start_time": "2024-11-17T12:36:26.272Z"
   },
   {
    "duration": 173,
    "start_time": "2024-11-17T12:36:26.333Z"
   },
   {
    "duration": 376,
    "start_time": "2024-11-17T12:36:26.508Z"
   },
   {
    "duration": 16,
    "start_time": "2024-11-17T12:36:26.886Z"
   },
   {
    "duration": 47,
    "start_time": "2024-11-17T12:36:26.904Z"
   },
   {
    "duration": 121,
    "start_time": "2024-11-17T12:36:26.952Z"
   },
   {
    "duration": 296,
    "start_time": "2024-11-17T12:36:27.075Z"
   },
   {
    "duration": 8,
    "start_time": "2024-11-17T12:36:27.372Z"
   },
   {
    "duration": 169,
    "start_time": "2024-11-17T12:36:27.382Z"
   },
   {
    "duration": 8,
    "start_time": "2024-11-17T12:36:27.553Z"
   },
   {
    "duration": 181,
    "start_time": "2024-11-17T12:36:27.563Z"
   },
   {
    "duration": 9,
    "start_time": "2024-11-17T12:36:27.746Z"
   },
   {
    "duration": 12,
    "start_time": "2024-11-17T12:36:27.757Z"
   },
   {
    "duration": 369,
    "start_time": "2024-11-17T12:36:27.773Z"
   },
   {
    "duration": 2135,
    "start_time": "2024-11-17T12:36:28.144Z"
   },
   {
    "duration": 13,
    "start_time": "2024-11-17T12:36:30.280Z"
   },
   {
    "duration": 61,
    "start_time": "2024-11-17T12:36:30.294Z"
   },
   {
    "duration": 10,
    "start_time": "2024-11-17T12:36:30.357Z"
   },
   {
    "duration": 15196,
    "start_time": "2024-11-17T12:36:30.369Z"
   },
   {
    "duration": 549,
    "start_time": "2024-11-17T12:36:45.567Z"
   },
   {
    "duration": 564,
    "start_time": "2024-11-17T12:36:46.118Z"
   },
   {
    "duration": 20922,
    "start_time": "2024-11-17T12:36:46.684Z"
   },
   {
    "duration": 4735,
    "start_time": "2024-11-17T12:37:07.608Z"
   },
   {
    "duration": 3,
    "start_time": "2024-11-17T12:37:12.345Z"
   },
   {
    "duration": 659,
    "start_time": "2024-11-17T12:37:12.350Z"
   },
   {
    "duration": 5524,
    "start_time": "2024-11-17T12:48:52.911Z"
   },
   {
    "duration": 3104,
    "start_time": "2024-11-17T12:48:58.437Z"
   },
   {
    "duration": 66,
    "start_time": "2024-11-17T12:49:01.542Z"
   },
   {
    "duration": 12,
    "start_time": "2024-11-17T12:49:01.610Z"
   },
   {
    "duration": 140,
    "start_time": "2024-11-17T12:49:01.623Z"
   },
   {
    "duration": 166,
    "start_time": "2024-11-17T12:49:01.765Z"
   },
   {
    "duration": 165,
    "start_time": "2024-11-17T12:49:01.933Z"
   },
   {
    "duration": 185,
    "start_time": "2024-11-17T12:49:02.100Z"
   },
   {
    "duration": 175,
    "start_time": "2024-11-17T12:49:02.287Z"
   },
   {
    "duration": 154,
    "start_time": "2024-11-17T12:49:02.465Z"
   },
   {
    "duration": 7,
    "start_time": "2024-11-17T12:49:02.621Z"
   },
   {
    "duration": 296,
    "start_time": "2024-11-17T12:49:02.629Z"
   },
   {
    "duration": 16,
    "start_time": "2024-11-17T12:49:02.927Z"
   },
   {
    "duration": 184,
    "start_time": "2024-11-17T12:49:02.945Z"
   },
   {
    "duration": 45,
    "start_time": "2024-11-17T12:49:03.131Z"
   },
   {
    "duration": 225,
    "start_time": "2024-11-17T12:49:03.178Z"
   },
   {
    "duration": 347,
    "start_time": "2024-11-17T12:49:03.405Z"
   },
   {
    "duration": 15,
    "start_time": "2024-11-17T12:49:03.754Z"
   },
   {
    "duration": 34,
    "start_time": "2024-11-17T12:49:03.770Z"
   },
   {
    "duration": 34,
    "start_time": "2024-11-17T12:49:03.806Z"
   },
   {
    "duration": 367,
    "start_time": "2024-11-17T12:49:03.841Z"
   },
   {
    "duration": 9,
    "start_time": "2024-11-17T12:49:04.210Z"
   },
   {
    "duration": 265,
    "start_time": "2024-11-17T12:49:04.220Z"
   },
   {
    "duration": 8,
    "start_time": "2024-11-17T12:49:04.486Z"
   },
   {
    "duration": 172,
    "start_time": "2024-11-17T12:49:04.496Z"
   },
   {
    "duration": 8,
    "start_time": "2024-11-17T12:49:04.669Z"
   },
   {
    "duration": 23,
    "start_time": "2024-11-17T12:49:04.678Z"
   },
   {
    "duration": 317,
    "start_time": "2024-11-17T12:49:04.704Z"
   },
   {
    "duration": 2092,
    "start_time": "2024-11-17T12:49:05.023Z"
   },
   {
    "duration": 11,
    "start_time": "2024-11-17T12:49:07.117Z"
   },
   {
    "duration": 40,
    "start_time": "2024-11-17T12:49:07.129Z"
   },
   {
    "duration": 13,
    "start_time": "2024-11-17T12:49:07.170Z"
   },
   {
    "duration": 14965,
    "start_time": "2024-11-17T12:49:07.184Z"
   },
   {
    "duration": 547,
    "start_time": "2024-11-17T12:49:22.151Z"
   },
   {
    "duration": 522,
    "start_time": "2024-11-17T12:49:22.699Z"
   },
   {
    "duration": 20725,
    "start_time": "2024-11-17T12:49:23.222Z"
   },
   {
    "duration": 4643,
    "start_time": "2024-11-17T12:49:43.949Z"
   },
   {
    "duration": 4,
    "start_time": "2024-11-17T12:49:48.593Z"
   },
   {
    "duration": 818,
    "start_time": "2024-11-17T12:49:48.598Z"
   },
   {
    "duration": 5934,
    "start_time": "2024-11-17T12:52:23.041Z"
   },
   {
    "duration": 3162,
    "start_time": "2024-11-17T12:52:28.977Z"
   },
   {
    "duration": 65,
    "start_time": "2024-11-17T12:52:32.142Z"
   },
   {
    "duration": 12,
    "start_time": "2024-11-17T12:52:32.209Z"
   },
   {
    "duration": 229,
    "start_time": "2024-11-17T12:52:32.222Z"
   },
   {
    "duration": 166,
    "start_time": "2024-11-17T12:52:32.454Z"
   },
   {
    "duration": 165,
    "start_time": "2024-11-17T12:52:32.621Z"
   },
   {
    "duration": 196,
    "start_time": "2024-11-17T12:52:32.788Z"
   },
   {
    "duration": 185,
    "start_time": "2024-11-17T12:52:32.985Z"
   },
   {
    "duration": 162,
    "start_time": "2024-11-17T12:52:33.173Z"
   },
   {
    "duration": 15,
    "start_time": "2024-11-17T12:52:33.337Z"
   },
   {
    "duration": 262,
    "start_time": "2024-11-17T12:52:33.353Z"
   },
   {
    "duration": 11,
    "start_time": "2024-11-17T12:52:33.617Z"
   },
   {
    "duration": 19,
    "start_time": "2024-11-17T12:52:33.630Z"
   },
   {
    "duration": 16,
    "start_time": "2024-11-17T12:52:33.651Z"
   },
   {
    "duration": 154,
    "start_time": "2024-11-17T12:52:33.668Z"
   },
   {
    "duration": 359,
    "start_time": "2024-11-17T12:52:33.824Z"
   },
   {
    "duration": 16,
    "start_time": "2024-11-17T12:52:34.185Z"
   },
   {
    "duration": 31,
    "start_time": "2024-11-17T12:52:34.202Z"
   },
   {
    "duration": 99,
    "start_time": "2024-11-17T12:52:34.243Z"
   },
   {
    "duration": 269,
    "start_time": "2024-11-17T12:52:34.344Z"
   },
   {
    "duration": 9,
    "start_time": "2024-11-17T12:52:34.615Z"
   },
   {
    "duration": 205,
    "start_time": "2024-11-17T12:52:34.625Z"
   },
   {
    "duration": 25,
    "start_time": "2024-11-17T12:52:34.832Z"
   },
   {
    "duration": 202,
    "start_time": "2024-11-17T12:52:34.860Z"
   },
   {
    "duration": 10,
    "start_time": "2024-11-17T12:52:35.064Z"
   },
   {
    "duration": 61,
    "start_time": "2024-11-17T12:52:35.076Z"
   },
   {
    "duration": 312,
    "start_time": "2024-11-17T12:52:35.141Z"
   },
   {
    "duration": 2097,
    "start_time": "2024-11-17T12:52:35.454Z"
   },
   {
    "duration": 17,
    "start_time": "2024-11-17T12:52:37.553Z"
   },
   {
    "duration": 33,
    "start_time": "2024-11-17T12:52:37.571Z"
   },
   {
    "duration": 63,
    "start_time": "2024-11-17T12:52:37.606Z"
   },
   {
    "duration": 0,
    "start_time": "2024-11-17T12:52:37.671Z"
   },
   {
    "duration": 0,
    "start_time": "2024-11-17T12:52:37.673Z"
   },
   {
    "duration": 0,
    "start_time": "2024-11-17T12:52:37.674Z"
   },
   {
    "duration": 0,
    "start_time": "2024-11-17T12:52:37.676Z"
   },
   {
    "duration": 0,
    "start_time": "2024-11-17T12:52:37.678Z"
   },
   {
    "duration": 854,
    "start_time": "2024-11-17T12:54:43.735Z"
   },
   {
    "duration": 189,
    "start_time": "2024-11-17T12:54:56.332Z"
   },
   {
    "duration": 40,
    "start_time": "2024-11-17T12:54:57.637Z"
   },
   {
    "duration": 19,
    "start_time": "2024-11-17T12:54:58.043Z"
   },
   {
    "duration": 16,
    "start_time": "2024-11-17T12:54:58.369Z"
   },
   {
    "duration": 20,
    "start_time": "2024-11-17T12:54:58.536Z"
   },
   {
    "duration": 14828,
    "start_time": "2024-11-17T12:59:02.840Z"
   },
   {
    "duration": 16702,
    "start_time": "2024-11-17T13:03:40.368Z"
   },
   {
    "duration": 14160,
    "start_time": "2024-11-17T13:08:17.222Z"
   },
   {
    "duration": 653,
    "start_time": "2024-11-17T13:08:31.384Z"
   },
   {
    "duration": 5768,
    "start_time": "2024-11-17T13:38:05.513Z"
   },
   {
    "duration": 3173,
    "start_time": "2024-11-17T13:38:11.284Z"
   },
   {
    "duration": 70,
    "start_time": "2024-11-17T13:38:14.459Z"
   },
   {
    "duration": 15,
    "start_time": "2024-11-17T13:38:14.531Z"
   },
   {
    "duration": 176,
    "start_time": "2024-11-17T13:38:14.548Z"
   },
   {
    "duration": 204,
    "start_time": "2024-11-17T13:38:14.727Z"
   },
   {
    "duration": 176,
    "start_time": "2024-11-17T13:38:14.933Z"
   },
   {
    "duration": 201,
    "start_time": "2024-11-17T13:38:15.111Z"
   },
   {
    "duration": 210,
    "start_time": "2024-11-17T13:38:15.314Z"
   },
   {
    "duration": 177,
    "start_time": "2024-11-17T13:38:15.527Z"
   },
   {
    "duration": 7,
    "start_time": "2024-11-17T13:38:15.705Z"
   },
   {
    "duration": 271,
    "start_time": "2024-11-17T13:38:15.714Z"
   },
   {
    "duration": 11,
    "start_time": "2024-11-17T13:38:15.986Z"
   },
   {
    "duration": 10,
    "start_time": "2024-11-17T13:38:15.999Z"
   },
   {
    "duration": 47,
    "start_time": "2024-11-17T13:38:16.011Z"
   },
   {
    "duration": 136,
    "start_time": "2024-11-17T13:38:16.062Z"
   },
   {
    "duration": 417,
    "start_time": "2024-11-17T13:38:16.199Z"
   },
   {
    "duration": 26,
    "start_time": "2024-11-17T13:38:16.618Z"
   },
   {
    "duration": 25,
    "start_time": "2024-11-17T13:38:16.646Z"
   },
   {
    "duration": 31,
    "start_time": "2024-11-17T13:38:16.672Z"
   },
   {
    "duration": 383,
    "start_time": "2024-11-17T13:38:16.705Z"
   },
   {
    "duration": 9,
    "start_time": "2024-11-17T13:38:17.090Z"
   },
   {
    "duration": 192,
    "start_time": "2024-11-17T13:38:17.101Z"
   },
   {
    "duration": 8,
    "start_time": "2024-11-17T13:38:17.295Z"
   },
   {
    "duration": 184,
    "start_time": "2024-11-17T13:38:17.304Z"
   },
   {
    "duration": 8,
    "start_time": "2024-11-17T13:38:17.489Z"
   },
   {
    "duration": 7,
    "start_time": "2024-11-17T13:38:17.499Z"
   },
   {
    "duration": 305,
    "start_time": "2024-11-17T13:38:17.509Z"
   },
   {
    "duration": 2279,
    "start_time": "2024-11-17T13:38:17.816Z"
   },
   {
    "duration": 15,
    "start_time": "2024-11-17T13:38:20.097Z"
   },
   {
    "duration": 38,
    "start_time": "2024-11-17T13:38:20.114Z"
   },
   {
    "duration": 307,
    "start_time": "2024-11-17T13:38:20.156Z"
   },
   {
    "duration": 0,
    "start_time": "2024-11-17T13:38:20.465Z"
   },
   {
    "duration": 0,
    "start_time": "2024-11-17T13:38:20.467Z"
   },
   {
    "duration": 0,
    "start_time": "2024-11-17T13:38:20.468Z"
   },
   {
    "duration": 0,
    "start_time": "2024-11-17T13:38:20.470Z"
   },
   {
    "duration": 0,
    "start_time": "2024-11-17T13:38:20.471Z"
   },
   {
    "duration": 0,
    "start_time": "2024-11-17T13:38:20.473Z"
   },
   {
    "duration": 194,
    "start_time": "2024-11-17T13:41:34.890Z"
   },
   {
    "duration": 6810,
    "start_time": "2024-11-17T13:41:44.657Z"
   },
   {
    "duration": 3039,
    "start_time": "2024-11-17T13:41:51.470Z"
   },
   {
    "duration": 67,
    "start_time": "2024-11-17T13:41:54.511Z"
   },
   {
    "duration": 13,
    "start_time": "2024-11-17T13:41:54.579Z"
   },
   {
    "duration": 165,
    "start_time": "2024-11-17T13:41:54.594Z"
   },
   {
    "duration": 182,
    "start_time": "2024-11-17T13:41:54.761Z"
   },
   {
    "duration": 184,
    "start_time": "2024-11-17T13:41:54.945Z"
   },
   {
    "duration": 190,
    "start_time": "2024-11-17T13:41:55.130Z"
   },
   {
    "duration": 197,
    "start_time": "2024-11-17T13:41:55.322Z"
   },
   {
    "duration": 187,
    "start_time": "2024-11-17T13:41:55.522Z"
   },
   {
    "duration": 7,
    "start_time": "2024-11-17T13:41:55.711Z"
   },
   {
    "duration": 238,
    "start_time": "2024-11-17T13:41:55.720Z"
   },
   {
    "duration": 11,
    "start_time": "2024-11-17T13:41:55.960Z"
   },
   {
    "duration": 8,
    "start_time": "2024-11-17T13:41:55.973Z"
   },
   {
    "duration": 8,
    "start_time": "2024-11-17T13:41:55.983Z"
   },
   {
    "duration": 155,
    "start_time": "2024-11-17T13:41:55.993Z"
   },
   {
    "duration": 324,
    "start_time": "2024-11-17T13:41:56.150Z"
   },
   {
    "duration": 17,
    "start_time": "2024-11-17T13:41:56.476Z"
   },
   {
    "duration": 17,
    "start_time": "2024-11-17T13:41:56.495Z"
   },
   {
    "duration": 44,
    "start_time": "2024-11-17T13:41:56.514Z"
   },
   {
    "duration": 247,
    "start_time": "2024-11-17T13:41:56.562Z"
   },
   {
    "duration": 34,
    "start_time": "2024-11-17T13:41:56.811Z"
   },
   {
    "duration": 163,
    "start_time": "2024-11-17T13:41:56.848Z"
   },
   {
    "duration": 9,
    "start_time": "2024-11-17T13:41:57.013Z"
   },
   {
    "duration": 200,
    "start_time": "2024-11-17T13:41:57.025Z"
   },
   {
    "duration": 8,
    "start_time": "2024-11-17T13:41:57.227Z"
   },
   {
    "duration": 65,
    "start_time": "2024-11-17T13:41:57.242Z"
   },
   {
    "duration": 292,
    "start_time": "2024-11-17T13:41:57.312Z"
   },
   {
    "duration": 2021,
    "start_time": "2024-11-17T13:41:57.606Z"
   },
   {
    "duration": 13,
    "start_time": "2024-11-17T13:41:59.629Z"
   },
   {
    "duration": 42,
    "start_time": "2024-11-17T13:41:59.643Z"
   },
   {
    "duration": 465,
    "start_time": "2024-11-17T13:41:59.686Z"
   },
   {
    "duration": 0,
    "start_time": "2024-11-17T13:42:00.153Z"
   },
   {
    "duration": 0,
    "start_time": "2024-11-17T13:42:00.154Z"
   },
   {
    "duration": 0,
    "start_time": "2024-11-17T13:42:00.155Z"
   },
   {
    "duration": 0,
    "start_time": "2024-11-17T13:42:00.157Z"
   },
   {
    "duration": 1,
    "start_time": "2024-11-17T13:42:00.158Z"
   },
   {
    "duration": 0,
    "start_time": "2024-11-17T13:42:00.160Z"
   },
   {
    "duration": 72,
    "start_time": "2024-11-17T13:42:50.536Z"
   },
   {
    "duration": 5523,
    "start_time": "2024-11-17T13:43:05.561Z"
   },
   {
    "duration": 2941,
    "start_time": "2024-11-17T13:43:11.086Z"
   },
   {
    "duration": 66,
    "start_time": "2024-11-17T13:43:14.029Z"
   },
   {
    "duration": 12,
    "start_time": "2024-11-17T13:43:14.097Z"
   },
   {
    "duration": 146,
    "start_time": "2024-11-17T13:43:14.110Z"
   },
   {
    "duration": 162,
    "start_time": "2024-11-17T13:43:14.257Z"
   },
   {
    "duration": 175,
    "start_time": "2024-11-17T13:43:14.422Z"
   },
   {
    "duration": 181,
    "start_time": "2024-11-17T13:43:14.599Z"
   },
   {
    "duration": 172,
    "start_time": "2024-11-17T13:43:14.782Z"
   },
   {
    "duration": 159,
    "start_time": "2024-11-17T13:43:14.957Z"
   },
   {
    "duration": 8,
    "start_time": "2024-11-17T13:43:15.118Z"
   },
   {
    "duration": 263,
    "start_time": "2024-11-17T13:43:15.128Z"
   },
   {
    "duration": 11,
    "start_time": "2024-11-17T13:43:15.393Z"
   },
   {
    "duration": 10,
    "start_time": "2024-11-17T13:43:15.406Z"
   },
   {
    "duration": 70,
    "start_time": "2024-11-17T13:43:15.418Z"
   },
   {
    "duration": 120,
    "start_time": "2024-11-17T13:43:15.490Z"
   },
   {
    "duration": 334,
    "start_time": "2024-11-17T13:43:15.618Z"
   },
   {
    "duration": 15,
    "start_time": "2024-11-17T13:43:15.954Z"
   },
   {
    "duration": 91,
    "start_time": "2024-11-17T13:43:15.970Z"
   },
   {
    "duration": 44,
    "start_time": "2024-11-17T13:43:16.063Z"
   },
   {
    "duration": 296,
    "start_time": "2024-11-17T13:43:16.109Z"
   },
   {
    "duration": 9,
    "start_time": "2024-11-17T13:43:16.406Z"
   },
   {
    "duration": 213,
    "start_time": "2024-11-17T13:43:16.416Z"
   },
   {
    "duration": 7,
    "start_time": "2024-11-17T13:43:16.630Z"
   },
   {
    "duration": 194,
    "start_time": "2024-11-17T13:43:16.643Z"
   },
   {
    "duration": 12,
    "start_time": "2024-11-17T13:43:16.838Z"
   },
   {
    "duration": 16,
    "start_time": "2024-11-17T13:43:16.852Z"
   },
   {
    "duration": 346,
    "start_time": "2024-11-17T13:43:16.873Z"
   },
   {
    "duration": 2010,
    "start_time": "2024-11-17T13:43:17.221Z"
   },
   {
    "duration": 11,
    "start_time": "2024-11-17T13:43:19.233Z"
   },
   {
    "duration": 111,
    "start_time": "2024-11-17T13:43:19.246Z"
   },
   {
    "duration": 410,
    "start_time": "2024-11-17T13:43:19.359Z"
   },
   {
    "duration": 0,
    "start_time": "2024-11-17T13:43:19.771Z"
   },
   {
    "duration": 0,
    "start_time": "2024-11-17T13:43:19.772Z"
   },
   {
    "duration": 0,
    "start_time": "2024-11-17T13:43:19.774Z"
   },
   {
    "duration": 0,
    "start_time": "2024-11-17T13:43:19.775Z"
   },
   {
    "duration": 0,
    "start_time": "2024-11-17T13:43:19.776Z"
   },
   {
    "duration": 0,
    "start_time": "2024-11-17T13:43:19.777Z"
   },
   {
    "duration": 586,
    "start_time": "2024-11-17T13:44:53.501Z"
   },
   {
    "duration": 17,
    "start_time": "2024-11-17T13:44:59.171Z"
   },
   {
    "duration": 5619,
    "start_time": "2024-11-17T13:45:19.856Z"
   },
   {
    "duration": 3028,
    "start_time": "2024-11-17T13:45:25.477Z"
   },
   {
    "duration": 68,
    "start_time": "2024-11-17T13:45:28.507Z"
   },
   {
    "duration": 16,
    "start_time": "2024-11-17T13:45:28.577Z"
   },
   {
    "duration": 168,
    "start_time": "2024-11-17T13:45:28.595Z"
   },
   {
    "duration": 211,
    "start_time": "2024-11-17T13:45:28.766Z"
   },
   {
    "duration": 217,
    "start_time": "2024-11-17T13:45:28.979Z"
   },
   {
    "duration": 177,
    "start_time": "2024-11-17T13:45:29.198Z"
   },
   {
    "duration": 175,
    "start_time": "2024-11-17T13:45:29.377Z"
   },
   {
    "duration": 159,
    "start_time": "2024-11-17T13:45:29.556Z"
   },
   {
    "duration": 7,
    "start_time": "2024-11-17T13:45:29.717Z"
   },
   {
    "duration": 265,
    "start_time": "2024-11-17T13:45:29.726Z"
   },
   {
    "duration": 16,
    "start_time": "2024-11-17T13:45:29.993Z"
   },
   {
    "duration": 64,
    "start_time": "2024-11-17T13:45:30.011Z"
   },
   {
    "duration": 62,
    "start_time": "2024-11-17T13:45:30.076Z"
   },
   {
    "duration": 172,
    "start_time": "2024-11-17T13:45:30.139Z"
   },
   {
    "duration": 363,
    "start_time": "2024-11-17T13:45:30.313Z"
   },
   {
    "duration": 15,
    "start_time": "2024-11-17T13:45:30.677Z"
   },
   {
    "duration": 18,
    "start_time": "2024-11-17T13:45:30.694Z"
   },
   {
    "duration": 98,
    "start_time": "2024-11-17T13:45:30.713Z"
   },
   {
    "duration": 277,
    "start_time": "2024-11-17T13:45:30.813Z"
   },
   {
    "duration": 8,
    "start_time": "2024-11-17T13:45:31.092Z"
   },
   {
    "duration": 191,
    "start_time": "2024-11-17T13:45:31.102Z"
   },
   {
    "duration": 7,
    "start_time": "2024-11-17T13:45:31.295Z"
   },
   {
    "duration": 195,
    "start_time": "2024-11-17T13:45:31.304Z"
   },
   {
    "duration": 8,
    "start_time": "2024-11-17T13:45:31.500Z"
   },
   {
    "duration": 13,
    "start_time": "2024-11-17T13:45:31.510Z"
   },
   {
    "duration": 303,
    "start_time": "2024-11-17T13:45:31.526Z"
   },
   {
    "duration": 2018,
    "start_time": "2024-11-17T13:45:31.830Z"
   },
   {
    "duration": 11,
    "start_time": "2024-11-17T13:45:33.850Z"
   },
   {
    "duration": 50,
    "start_time": "2024-11-17T13:45:33.863Z"
   },
   {
    "duration": 940,
    "start_time": "2024-11-17T13:45:33.915Z"
   },
   {
    "duration": 0,
    "start_time": "2024-11-17T13:45:34.856Z"
   },
   {
    "duration": 0,
    "start_time": "2024-11-17T13:45:34.858Z"
   },
   {
    "duration": 0,
    "start_time": "2024-11-17T13:45:34.859Z"
   },
   {
    "duration": 0,
    "start_time": "2024-11-17T13:45:34.860Z"
   },
   {
    "duration": 0,
    "start_time": "2024-11-17T13:45:34.862Z"
   },
   {
    "duration": 0,
    "start_time": "2024-11-17T13:45:34.863Z"
   },
   {
    "duration": 104,
    "start_time": "2024-11-17T13:50:31.939Z"
   },
   {
    "duration": 6149,
    "start_time": "2024-11-17T13:50:46.636Z"
   },
   {
    "duration": 3186,
    "start_time": "2024-11-17T13:50:52.789Z"
   },
   {
    "duration": 71,
    "start_time": "2024-11-17T13:50:55.976Z"
   },
   {
    "duration": 23,
    "start_time": "2024-11-17T13:50:56.048Z"
   },
   {
    "duration": 174,
    "start_time": "2024-11-17T13:50:56.073Z"
   },
   {
    "duration": 216,
    "start_time": "2024-11-17T13:50:56.250Z"
   },
   {
    "duration": 188,
    "start_time": "2024-11-17T13:50:56.468Z"
   },
   {
    "duration": 212,
    "start_time": "2024-11-17T13:50:56.658Z"
   },
   {
    "duration": 172,
    "start_time": "2024-11-17T13:50:56.871Z"
   },
   {
    "duration": 169,
    "start_time": "2024-11-17T13:50:57.045Z"
   },
   {
    "duration": 7,
    "start_time": "2024-11-17T13:50:57.216Z"
   },
   {
    "duration": 346,
    "start_time": "2024-11-17T13:50:57.225Z"
   },
   {
    "duration": 15,
    "start_time": "2024-11-17T13:50:57.573Z"
   },
   {
    "duration": 10,
    "start_time": "2024-11-17T13:50:57.591Z"
   },
   {
    "duration": 8,
    "start_time": "2024-11-17T13:50:57.603Z"
   },
   {
    "duration": 164,
    "start_time": "2024-11-17T13:50:57.613Z"
   },
   {
    "duration": 403,
    "start_time": "2024-11-17T13:50:57.779Z"
   },
   {
    "duration": 15,
    "start_time": "2024-11-17T13:50:58.183Z"
   },
   {
    "duration": 23,
    "start_time": "2024-11-17T13:50:58.200Z"
   },
   {
    "duration": 42,
    "start_time": "2024-11-17T13:50:58.224Z"
   },
   {
    "duration": 298,
    "start_time": "2024-11-17T13:50:58.268Z"
   },
   {
    "duration": 9,
    "start_time": "2024-11-17T13:50:58.568Z"
   },
   {
    "duration": 166,
    "start_time": "2024-11-17T13:50:58.579Z"
   },
   {
    "duration": 17,
    "start_time": "2024-11-17T13:50:58.749Z"
   },
   {
    "duration": 242,
    "start_time": "2024-11-17T13:50:58.768Z"
   },
   {
    "duration": 8,
    "start_time": "2024-11-17T13:50:59.012Z"
   },
   {
    "duration": 7,
    "start_time": "2024-11-17T13:50:59.022Z"
   },
   {
    "duration": 294,
    "start_time": "2024-11-17T13:50:59.031Z"
   },
   {
    "duration": 2276,
    "start_time": "2024-11-17T13:50:59.327Z"
   },
   {
    "duration": 11,
    "start_time": "2024-11-17T13:51:01.605Z"
   },
   {
    "duration": 54,
    "start_time": "2024-11-17T13:51:01.618Z"
   },
   {
    "duration": 15588,
    "start_time": "2024-11-17T13:51:01.673Z"
   },
   {
    "duration": 324,
    "start_time": "2024-11-17T13:51:17.263Z"
   },
   {
    "duration": 0,
    "start_time": "2024-11-17T13:51:17.588Z"
   },
   {
    "duration": 0,
    "start_time": "2024-11-17T13:51:17.590Z"
   },
   {
    "duration": 0,
    "start_time": "2024-11-17T13:51:17.591Z"
   },
   {
    "duration": 0,
    "start_time": "2024-11-17T13:51:17.592Z"
   },
   {
    "duration": 0,
    "start_time": "2024-11-17T13:51:17.593Z"
   },
   {
    "duration": 5887,
    "start_time": "2024-11-17T13:51:50.200Z"
   },
   {
    "duration": 3189,
    "start_time": "2024-11-17T13:51:56.090Z"
   },
   {
    "duration": 88,
    "start_time": "2024-11-17T13:51:59.281Z"
   },
   {
    "duration": 22,
    "start_time": "2024-11-17T13:51:59.372Z"
   },
   {
    "duration": 163,
    "start_time": "2024-11-17T13:51:59.397Z"
   },
   {
    "duration": 172,
    "start_time": "2024-11-17T13:51:59.562Z"
   },
   {
    "duration": 178,
    "start_time": "2024-11-17T13:51:59.736Z"
   },
   {
    "duration": 212,
    "start_time": "2024-11-17T13:51:59.916Z"
   },
   {
    "duration": 178,
    "start_time": "2024-11-17T13:52:00.130Z"
   },
   {
    "duration": 165,
    "start_time": "2024-11-17T13:52:00.311Z"
   },
   {
    "duration": 7,
    "start_time": "2024-11-17T13:52:00.478Z"
   },
   {
    "duration": 277,
    "start_time": "2024-11-17T13:52:00.487Z"
   },
   {
    "duration": 12,
    "start_time": "2024-11-17T13:52:00.767Z"
   },
   {
    "duration": 86,
    "start_time": "2024-11-17T13:52:00.781Z"
   },
   {
    "duration": 18,
    "start_time": "2024-11-17T13:52:00.869Z"
   },
   {
    "duration": 160,
    "start_time": "2024-11-17T13:52:00.889Z"
   },
   {
    "duration": 419,
    "start_time": "2024-11-17T13:52:01.053Z"
   },
   {
    "duration": 16,
    "start_time": "2024-11-17T13:52:01.474Z"
   },
   {
    "duration": 74,
    "start_time": "2024-11-17T13:52:01.491Z"
   },
   {
    "duration": 17,
    "start_time": "2024-11-17T13:52:01.567Z"
   },
   {
    "duration": 330,
    "start_time": "2024-11-17T13:52:01.586Z"
   },
   {
    "duration": 8,
    "start_time": "2024-11-17T13:52:01.918Z"
   },
   {
    "duration": 197,
    "start_time": "2024-11-17T13:52:01.928Z"
   },
   {
    "duration": 9,
    "start_time": "2024-11-17T13:52:02.127Z"
   },
   {
    "duration": 260,
    "start_time": "2024-11-17T13:52:02.142Z"
   },
   {
    "duration": 9,
    "start_time": "2024-11-17T13:52:02.404Z"
   },
   {
    "duration": 90,
    "start_time": "2024-11-17T13:52:02.415Z"
   },
   {
    "duration": 331,
    "start_time": "2024-11-17T13:52:02.508Z"
   },
   {
    "duration": 2162,
    "start_time": "2024-11-17T13:52:02.841Z"
   },
   {
    "duration": 13,
    "start_time": "2024-11-17T13:52:05.005Z"
   },
   {
    "duration": 57,
    "start_time": "2024-11-17T13:52:05.020Z"
   },
   {
    "duration": 14521,
    "start_time": "2024-11-17T13:52:05.078Z"
   },
   {
    "duration": 995,
    "start_time": "2024-11-17T13:52:19.600Z"
   },
   {
    "duration": 498,
    "start_time": "2024-11-17T13:52:20.597Z"
   },
   {
    "duration": 0,
    "start_time": "2024-11-17T13:52:21.097Z"
   },
   {
    "duration": 0,
    "start_time": "2024-11-17T13:52:21.098Z"
   },
   {
    "duration": 0,
    "start_time": "2024-11-17T13:52:21.099Z"
   },
   {
    "duration": 0,
    "start_time": "2024-11-17T13:52:21.100Z"
   },
   {
    "duration": 6050,
    "start_time": "2024-11-17T13:53:18.121Z"
   },
   {
    "duration": 3305,
    "start_time": "2024-11-17T13:53:24.174Z"
   },
   {
    "duration": 90,
    "start_time": "2024-11-17T13:53:27.480Z"
   },
   {
    "duration": 17,
    "start_time": "2024-11-17T13:53:27.572Z"
   },
   {
    "duration": 172,
    "start_time": "2024-11-17T13:53:27.591Z"
   },
   {
    "duration": 186,
    "start_time": "2024-11-17T13:53:27.766Z"
   },
   {
    "duration": 182,
    "start_time": "2024-11-17T13:53:27.954Z"
   },
   {
    "duration": 190,
    "start_time": "2024-11-17T13:53:28.144Z"
   },
   {
    "duration": 183,
    "start_time": "2024-11-17T13:53:28.336Z"
   },
   {
    "duration": 187,
    "start_time": "2024-11-17T13:53:28.522Z"
   },
   {
    "duration": 10,
    "start_time": "2024-11-17T13:53:28.711Z"
   },
   {
    "duration": 401,
    "start_time": "2024-11-17T13:53:28.723Z"
   },
   {
    "duration": 30,
    "start_time": "2024-11-17T13:53:29.125Z"
   },
   {
    "duration": 15,
    "start_time": "2024-11-17T13:53:29.156Z"
   },
   {
    "duration": 10,
    "start_time": "2024-11-17T13:53:29.173Z"
   },
   {
    "duration": 204,
    "start_time": "2024-11-17T13:53:29.185Z"
   },
   {
    "duration": 392,
    "start_time": "2024-11-17T13:53:29.391Z"
   },
   {
    "duration": 19,
    "start_time": "2024-11-17T13:53:29.784Z"
   },
   {
    "duration": 20,
    "start_time": "2024-11-17T13:53:29.805Z"
   },
   {
    "duration": 49,
    "start_time": "2024-11-17T13:53:29.826Z"
   },
   {
    "duration": 336,
    "start_time": "2024-11-17T13:53:29.877Z"
   },
   {
    "duration": 8,
    "start_time": "2024-11-17T13:53:30.215Z"
   },
   {
    "duration": 205,
    "start_time": "2024-11-17T13:53:30.225Z"
   },
   {
    "duration": 20,
    "start_time": "2024-11-17T13:53:30.432Z"
   },
   {
    "duration": 243,
    "start_time": "2024-11-17T13:53:30.454Z"
   },
   {
    "duration": 10,
    "start_time": "2024-11-17T13:53:30.699Z"
   },
   {
    "duration": 111,
    "start_time": "2024-11-17T13:53:30.711Z"
   },
   {
    "duration": 419,
    "start_time": "2024-11-17T13:53:30.827Z"
   },
   {
    "duration": 2185,
    "start_time": "2024-11-17T13:53:31.250Z"
   },
   {
    "duration": 22,
    "start_time": "2024-11-17T13:53:33.438Z"
   },
   {
    "duration": 121,
    "start_time": "2024-11-17T13:53:33.464Z"
   },
   {
    "duration": 15718,
    "start_time": "2024-11-17T13:53:33.587Z"
   },
   {
    "duration": 1067,
    "start_time": "2024-11-17T13:53:49.307Z"
   },
   {
    "duration": 426,
    "start_time": "2024-11-17T13:53:50.376Z"
   },
   {
    "duration": 0,
    "start_time": "2024-11-17T13:53:50.803Z"
   },
   {
    "duration": 0,
    "start_time": "2024-11-17T13:53:50.805Z"
   },
   {
    "duration": 0,
    "start_time": "2024-11-17T13:53:50.806Z"
   },
   {
    "duration": 5947,
    "start_time": "2024-11-17T13:56:27.255Z"
   },
   {
    "duration": 3028,
    "start_time": "2024-11-17T13:56:33.205Z"
   },
   {
    "duration": 70,
    "start_time": "2024-11-17T13:56:36.235Z"
   },
   {
    "duration": 15,
    "start_time": "2024-11-17T13:56:36.307Z"
   },
   {
    "duration": 160,
    "start_time": "2024-11-17T13:56:36.324Z"
   },
   {
    "duration": 189,
    "start_time": "2024-11-17T13:56:36.485Z"
   },
   {
    "duration": 211,
    "start_time": "2024-11-17T13:56:36.676Z"
   },
   {
    "duration": 203,
    "start_time": "2024-11-17T13:56:36.889Z"
   },
   {
    "duration": 177,
    "start_time": "2024-11-17T13:56:37.094Z"
   },
   {
    "duration": 159,
    "start_time": "2024-11-17T13:56:37.273Z"
   },
   {
    "duration": 27,
    "start_time": "2024-11-17T13:56:37.434Z"
   },
   {
    "duration": 319,
    "start_time": "2024-11-17T13:56:37.463Z"
   },
   {
    "duration": 11,
    "start_time": "2024-11-17T13:56:37.784Z"
   },
   {
    "duration": 9,
    "start_time": "2024-11-17T13:56:37.797Z"
   },
   {
    "duration": 55,
    "start_time": "2024-11-17T13:56:37.807Z"
   },
   {
    "duration": 132,
    "start_time": "2024-11-17T13:56:37.864Z"
   },
   {
    "duration": 389,
    "start_time": "2024-11-17T13:56:37.998Z"
   },
   {
    "duration": 15,
    "start_time": "2024-11-17T13:56:38.389Z"
   },
   {
    "duration": 15,
    "start_time": "2024-11-17T13:56:38.406Z"
   },
   {
    "duration": 70,
    "start_time": "2024-11-17T13:56:38.443Z"
   },
   {
    "duration": 311,
    "start_time": "2024-11-17T13:56:38.515Z"
   },
   {
    "duration": 21,
    "start_time": "2024-11-17T13:56:38.828Z"
   },
   {
    "duration": 202,
    "start_time": "2024-11-17T13:56:38.851Z"
   },
   {
    "duration": 11,
    "start_time": "2024-11-17T13:56:39.060Z"
   },
   {
    "duration": 241,
    "start_time": "2024-11-17T13:56:39.072Z"
   },
   {
    "duration": 9,
    "start_time": "2024-11-17T13:56:39.315Z"
   },
   {
    "duration": 61,
    "start_time": "2024-11-17T13:56:39.326Z"
   },
   {
    "duration": 326,
    "start_time": "2024-11-17T13:56:39.390Z"
   },
   {
    "duration": 2185,
    "start_time": "2024-11-17T13:56:39.718Z"
   },
   {
    "duration": 11,
    "start_time": "2024-11-17T13:56:41.905Z"
   },
   {
    "duration": 41,
    "start_time": "2024-11-17T13:56:41.917Z"
   },
   {
    "duration": 16999,
    "start_time": "2024-11-17T13:56:41.960Z"
   },
   {
    "duration": 833,
    "start_time": "2024-11-17T13:56:58.961Z"
   },
   {
    "duration": 917,
    "start_time": "2024-11-17T13:56:59.796Z"
   },
   {
    "duration": 0,
    "start_time": "2024-11-17T13:57:00.715Z"
   },
   {
    "duration": 0,
    "start_time": "2024-11-17T13:57:00.717Z"
   },
   {
    "duration": 0,
    "start_time": "2024-11-17T13:57:00.718Z"
   },
   {
    "duration": 5927,
    "start_time": "2024-11-17T13:59:37.803Z"
   },
   {
    "duration": 3255,
    "start_time": "2024-11-17T13:59:43.732Z"
   },
   {
    "duration": 74,
    "start_time": "2024-11-17T13:59:46.988Z"
   },
   {
    "duration": 14,
    "start_time": "2024-11-17T13:59:47.064Z"
   },
   {
    "duration": 159,
    "start_time": "2024-11-17T13:59:47.080Z"
   },
   {
    "duration": 180,
    "start_time": "2024-11-17T13:59:47.243Z"
   },
   {
    "duration": 178,
    "start_time": "2024-11-17T13:59:47.425Z"
   },
   {
    "duration": 193,
    "start_time": "2024-11-17T13:59:47.605Z"
   },
   {
    "duration": 184,
    "start_time": "2024-11-17T13:59:47.799Z"
   },
   {
    "duration": 167,
    "start_time": "2024-11-17T13:59:47.985Z"
   },
   {
    "duration": 8,
    "start_time": "2024-11-17T13:59:48.161Z"
   },
   {
    "duration": 266,
    "start_time": "2024-11-17T13:59:48.170Z"
   },
   {
    "duration": 23,
    "start_time": "2024-11-17T13:59:48.443Z"
   },
   {
    "duration": 38,
    "start_time": "2024-11-17T13:59:48.468Z"
   },
   {
    "duration": 9,
    "start_time": "2024-11-17T13:59:48.508Z"
   },
   {
    "duration": 129,
    "start_time": "2024-11-17T13:59:48.518Z"
   },
   {
    "duration": 361,
    "start_time": "2024-11-17T13:59:48.657Z"
   },
   {
    "duration": 35,
    "start_time": "2024-11-17T13:59:49.020Z"
   },
   {
    "duration": 16,
    "start_time": "2024-11-17T13:59:49.057Z"
   },
   {
    "duration": 18,
    "start_time": "2024-11-17T13:59:49.075Z"
   },
   {
    "duration": 364,
    "start_time": "2024-11-17T13:59:49.095Z"
   },
   {
    "duration": 8,
    "start_time": "2024-11-17T13:59:49.461Z"
   },
   {
    "duration": 191,
    "start_time": "2024-11-17T13:59:49.471Z"
   },
   {
    "duration": 7,
    "start_time": "2024-11-17T13:59:49.664Z"
   },
   {
    "duration": 304,
    "start_time": "2024-11-17T13:59:49.673Z"
   },
   {
    "duration": 13,
    "start_time": "2024-11-17T13:59:49.979Z"
   },
   {
    "duration": 9,
    "start_time": "2024-11-17T13:59:49.994Z"
   },
   {
    "duration": 384,
    "start_time": "2024-11-17T13:59:50.045Z"
   },
   {
    "duration": 2167,
    "start_time": "2024-11-17T13:59:50.431Z"
   },
   {
    "duration": 12,
    "start_time": "2024-11-17T13:59:52.599Z"
   },
   {
    "duration": 51,
    "start_time": "2024-11-17T13:59:52.613Z"
   },
   {
    "duration": 14846,
    "start_time": "2024-11-17T13:59:52.666Z"
   },
   {
    "duration": 853,
    "start_time": "2024-11-17T14:00:07.554Z"
   },
   {
    "duration": 22181,
    "start_time": "2024-11-17T14:00:08.408Z"
   },
   {
    "duration": 315,
    "start_time": "2024-11-17T14:00:30.591Z"
   },
   {
    "duration": 0,
    "start_time": "2024-11-17T14:00:30.908Z"
   },
   {
    "duration": 0,
    "start_time": "2024-11-17T14:00:30.909Z"
   },
   {
    "duration": 686,
    "start_time": "2024-11-17T14:40:46.313Z"
   },
   {
    "duration": 719,
    "start_time": "2024-11-17T14:40:58.829Z"
   },
   {
    "duration": 4,
    "start_time": "2024-11-17T14:41:06.305Z"
   },
   {
    "duration": 5429,
    "start_time": "2024-11-17T16:13:10.016Z"
   },
   {
    "duration": 3033,
    "start_time": "2024-11-17T16:13:15.448Z"
   },
   {
    "duration": 68,
    "start_time": "2024-11-17T16:13:18.483Z"
   },
   {
    "duration": 13,
    "start_time": "2024-11-17T16:13:18.553Z"
   },
   {
    "duration": 175,
    "start_time": "2024-11-17T16:13:18.568Z"
   },
   {
    "duration": 175,
    "start_time": "2024-11-17T16:13:18.745Z"
   },
   {
    "duration": 173,
    "start_time": "2024-11-17T16:13:18.922Z"
   },
   {
    "duration": 183,
    "start_time": "2024-11-17T16:13:19.097Z"
   },
   {
    "duration": 172,
    "start_time": "2024-11-17T16:13:19.282Z"
   },
   {
    "duration": 153,
    "start_time": "2024-11-17T16:13:19.456Z"
   },
   {
    "duration": 8,
    "start_time": "2024-11-17T16:13:19.611Z"
   },
   {
    "duration": 255,
    "start_time": "2024-11-17T16:13:19.620Z"
   },
   {
    "duration": 15,
    "start_time": "2024-11-17T16:13:19.878Z"
   },
   {
    "duration": 124,
    "start_time": "2024-11-17T16:13:19.897Z"
   },
   {
    "duration": 37,
    "start_time": "2024-11-17T16:13:20.024Z"
   },
   {
    "duration": 166,
    "start_time": "2024-11-17T16:13:20.063Z"
   },
   {
    "duration": 347,
    "start_time": "2024-11-17T16:13:20.232Z"
   },
   {
    "duration": 15,
    "start_time": "2024-11-17T16:13:20.580Z"
   },
   {
    "duration": 14,
    "start_time": "2024-11-17T16:13:20.597Z"
   },
   {
    "duration": 39,
    "start_time": "2024-11-17T16:13:20.613Z"
   },
   {
    "duration": 252,
    "start_time": "2024-11-17T16:13:20.654Z"
   },
   {
    "duration": 8,
    "start_time": "2024-11-17T16:13:20.908Z"
   },
   {
    "duration": 184,
    "start_time": "2024-11-17T16:13:20.918Z"
   },
   {
    "duration": 7,
    "start_time": "2024-11-17T16:13:21.104Z"
   },
   {
    "duration": 178,
    "start_time": "2024-11-17T16:13:21.113Z"
   },
   {
    "duration": 8,
    "start_time": "2024-11-17T16:13:21.293Z"
   },
   {
    "duration": 33,
    "start_time": "2024-11-17T16:13:21.303Z"
   },
   {
    "duration": 274,
    "start_time": "2024-11-17T16:13:21.338Z"
   },
   {
    "duration": 2022,
    "start_time": "2024-11-17T16:13:21.613Z"
   },
   {
    "duration": 13,
    "start_time": "2024-11-17T16:13:23.637Z"
   },
   {
    "duration": 40,
    "start_time": "2024-11-17T16:13:23.652Z"
   },
   {
    "duration": 279,
    "start_time": "2024-11-17T16:13:23.694Z"
   },
   {
    "duration": 0,
    "start_time": "2024-11-17T16:13:23.974Z"
   },
   {
    "duration": 0,
    "start_time": "2024-11-17T16:13:23.976Z"
   },
   {
    "duration": 0,
    "start_time": "2024-11-17T16:13:23.977Z"
   },
   {
    "duration": 0,
    "start_time": "2024-11-17T16:13:23.978Z"
   },
   {
    "duration": 0,
    "start_time": "2024-11-17T16:13:23.979Z"
   },
   {
    "duration": 14501,
    "start_time": "2024-11-17T16:13:46.962Z"
   },
   {
    "duration": 65,
    "start_time": "2024-11-17T16:14:28.509Z"
   },
   {
    "duration": 773,
    "start_time": "2024-11-17T16:15:30.722Z"
   },
   {
    "duration": 23,
    "start_time": "2024-11-17T16:15:42.224Z"
   },
   {
    "duration": 19504,
    "start_time": "2024-11-17T16:19:30.343Z"
   },
   {
    "duration": 4,
    "start_time": "2024-11-17T16:20:45.183Z"
   },
   {
    "duration": 20,
    "start_time": "2024-11-17T16:20:49.687Z"
   },
   {
    "duration": 734,
    "start_time": "2024-11-17T16:21:57.367Z"
   },
   {
    "duration": 5575,
    "start_time": "2024-11-17T16:22:11.659Z"
   },
   {
    "duration": 3105,
    "start_time": "2024-11-17T16:22:17.236Z"
   },
   {
    "duration": 66,
    "start_time": "2024-11-17T16:22:20.343Z"
   },
   {
    "duration": 12,
    "start_time": "2024-11-17T16:22:20.411Z"
   },
   {
    "duration": 203,
    "start_time": "2024-11-17T16:22:20.425Z"
   },
   {
    "duration": 193,
    "start_time": "2024-11-17T16:22:20.630Z"
   },
   {
    "duration": 160,
    "start_time": "2024-11-17T16:22:20.825Z"
   },
   {
    "duration": 180,
    "start_time": "2024-11-17T16:22:20.987Z"
   },
   {
    "duration": 168,
    "start_time": "2024-11-17T16:22:21.169Z"
   },
   {
    "duration": 159,
    "start_time": "2024-11-17T16:22:21.342Z"
   },
   {
    "duration": 7,
    "start_time": "2024-11-17T16:22:21.503Z"
   },
   {
    "duration": 243,
    "start_time": "2024-11-17T16:22:21.512Z"
   },
   {
    "duration": 12,
    "start_time": "2024-11-17T16:22:21.757Z"
   },
   {
    "duration": 99,
    "start_time": "2024-11-17T16:22:21.771Z"
   },
   {
    "duration": 155,
    "start_time": "2024-11-17T16:22:21.872Z"
   },
   {
    "duration": 167,
    "start_time": "2024-11-17T16:22:22.029Z"
   },
   {
    "duration": 375,
    "start_time": "2024-11-17T16:22:22.198Z"
   },
   {
    "duration": 15,
    "start_time": "2024-11-17T16:22:22.575Z"
   },
   {
    "duration": 16,
    "start_time": "2024-11-17T16:22:22.591Z"
   },
   {
    "duration": 41,
    "start_time": "2024-11-17T16:22:22.609Z"
   },
   {
    "duration": 293,
    "start_time": "2024-11-17T16:22:22.652Z"
   },
   {
    "duration": 7,
    "start_time": "2024-11-17T16:22:22.947Z"
   },
   {
    "duration": 169,
    "start_time": "2024-11-17T16:22:22.956Z"
   },
   {
    "duration": 8,
    "start_time": "2024-11-17T16:22:23.126Z"
   },
   {
    "duration": 173,
    "start_time": "2024-11-17T16:22:23.142Z"
   },
   {
    "duration": 7,
    "start_time": "2024-11-17T16:22:23.317Z"
   },
   {
    "duration": 90,
    "start_time": "2024-11-17T16:22:23.326Z"
   },
   {
    "duration": 300,
    "start_time": "2024-11-17T16:22:23.420Z"
   },
   {
    "duration": 1989,
    "start_time": "2024-11-17T16:22:23.722Z"
   },
   {
    "duration": 11,
    "start_time": "2024-11-17T16:22:25.713Z"
   },
   {
    "duration": 41,
    "start_time": "2024-11-17T16:22:25.726Z"
   },
   {
    "duration": 13893,
    "start_time": "2024-11-17T16:22:25.769Z"
   },
   {
    "duration": 118,
    "start_time": "2024-11-17T16:22:39.664Z"
   },
   {
    "duration": 827,
    "start_time": "2024-11-17T16:22:39.784Z"
   },
   {
    "duration": 19029,
    "start_time": "2024-11-17T16:22:40.613Z"
   },
   {
    "duration": 366,
    "start_time": "2024-11-17T16:22:59.644Z"
   },
   {
    "duration": 0,
    "start_time": "2024-11-17T16:23:00.013Z"
   },
   {
    "duration": 0,
    "start_time": "2024-11-17T16:23:00.014Z"
   },
   {
    "duration": 372,
    "start_time": "2024-11-17T16:24:27.584Z"
   },
   {
    "duration": 517,
    "start_time": "2024-11-17T16:26:28.064Z"
   },
   {
    "duration": 572,
    "start_time": "2024-11-17T16:27:40.763Z"
   },
   {
    "duration": 5481,
    "start_time": "2024-11-17T16:27:59.809Z"
   },
   {
    "duration": 2899,
    "start_time": "2024-11-17T16:28:05.293Z"
   },
   {
    "duration": 67,
    "start_time": "2024-11-17T16:28:08.194Z"
   },
   {
    "duration": 14,
    "start_time": "2024-11-17T16:28:08.263Z"
   },
   {
    "duration": 161,
    "start_time": "2024-11-17T16:28:08.278Z"
   },
   {
    "duration": 181,
    "start_time": "2024-11-17T16:28:08.443Z"
   },
   {
    "duration": 177,
    "start_time": "2024-11-17T16:28:08.625Z"
   },
   {
    "duration": 188,
    "start_time": "2024-11-17T16:28:08.804Z"
   },
   {
    "duration": 172,
    "start_time": "2024-11-17T16:28:08.993Z"
   },
   {
    "duration": 160,
    "start_time": "2024-11-17T16:28:09.168Z"
   },
   {
    "duration": 7,
    "start_time": "2024-11-17T16:28:09.329Z"
   },
   {
    "duration": 314,
    "start_time": "2024-11-17T16:28:09.343Z"
   },
   {
    "duration": 11,
    "start_time": "2024-11-17T16:28:09.659Z"
   },
   {
    "duration": 26,
    "start_time": "2024-11-17T16:28:09.671Z"
   },
   {
    "duration": 12,
    "start_time": "2024-11-17T16:28:09.699Z"
   },
   {
    "duration": 157,
    "start_time": "2024-11-17T16:28:09.713Z"
   },
   {
    "duration": 395,
    "start_time": "2024-11-17T16:28:09.872Z"
   },
   {
    "duration": 17,
    "start_time": "2024-11-17T16:28:10.269Z"
   },
   {
    "duration": 32,
    "start_time": "2024-11-17T16:28:10.288Z"
   },
   {
    "duration": 28,
    "start_time": "2024-11-17T16:28:10.322Z"
   },
   {
    "duration": 251,
    "start_time": "2024-11-17T16:28:10.351Z"
   },
   {
    "duration": 41,
    "start_time": "2024-11-17T16:28:10.603Z"
   },
   {
    "duration": 165,
    "start_time": "2024-11-17T16:28:10.646Z"
   },
   {
    "duration": 8,
    "start_time": "2024-11-17T16:28:10.813Z"
   },
   {
    "duration": 171,
    "start_time": "2024-11-17T16:28:10.823Z"
   },
   {
    "duration": 8,
    "start_time": "2024-11-17T16:28:10.996Z"
   },
   {
    "duration": 11,
    "start_time": "2024-11-17T16:28:11.006Z"
   },
   {
    "duration": 290,
    "start_time": "2024-11-17T16:28:11.020Z"
   },
   {
    "duration": 1980,
    "start_time": "2024-11-17T16:28:11.311Z"
   },
   {
    "duration": 12,
    "start_time": "2024-11-17T16:28:13.293Z"
   },
   {
    "duration": 144,
    "start_time": "2024-11-17T16:28:13.306Z"
   },
   {
    "duration": 14128,
    "start_time": "2024-11-17T16:28:13.453Z"
   },
   {
    "duration": 132,
    "start_time": "2024-11-17T16:28:27.582Z"
   },
   {
    "duration": 777,
    "start_time": "2024-11-17T16:28:27.715Z"
   },
   {
    "duration": 18915,
    "start_time": "2024-11-17T16:28:28.495Z"
   },
   {
    "duration": 575,
    "start_time": "2024-11-17T16:28:47.411Z"
   },
   {
    "duration": 4,
    "start_time": "2024-11-17T16:28:47.988Z"
   },
   {
    "duration": 717,
    "start_time": "2024-11-17T16:28:47.993Z"
   },
   {
    "duration": 5627,
    "start_time": "2024-11-17T16:45:34.231Z"
   },
   {
    "duration": 3128,
    "start_time": "2024-11-17T16:45:39.861Z"
   },
   {
    "duration": 68,
    "start_time": "2024-11-17T16:45:42.991Z"
   },
   {
    "duration": 18,
    "start_time": "2024-11-17T16:45:43.061Z"
   },
   {
    "duration": 165,
    "start_time": "2024-11-17T16:45:43.081Z"
   },
   {
    "duration": 175,
    "start_time": "2024-11-17T16:45:43.248Z"
   },
   {
    "duration": 167,
    "start_time": "2024-11-17T16:45:43.424Z"
   },
   {
    "duration": 188,
    "start_time": "2024-11-17T16:45:43.593Z"
   },
   {
    "duration": 169,
    "start_time": "2024-11-17T16:45:43.783Z"
   },
   {
    "duration": 159,
    "start_time": "2024-11-17T16:45:43.955Z"
   },
   {
    "duration": 7,
    "start_time": "2024-11-17T16:45:44.116Z"
   },
   {
    "duration": 250,
    "start_time": "2024-11-17T16:45:44.125Z"
   },
   {
    "duration": 12,
    "start_time": "2024-11-17T16:45:44.377Z"
   },
   {
    "duration": 10,
    "start_time": "2024-11-17T16:45:44.391Z"
   },
   {
    "duration": 9,
    "start_time": "2024-11-17T16:45:44.403Z"
   },
   {
    "duration": 180,
    "start_time": "2024-11-17T16:45:44.413Z"
   },
   {
    "duration": 370,
    "start_time": "2024-11-17T16:45:44.595Z"
   },
   {
    "duration": 15,
    "start_time": "2024-11-17T16:45:44.966Z"
   },
   {
    "duration": 59,
    "start_time": "2024-11-17T16:45:44.983Z"
   },
   {
    "duration": 18,
    "start_time": "2024-11-17T16:45:45.044Z"
   },
   {
    "duration": 316,
    "start_time": "2024-11-17T16:45:45.064Z"
   },
   {
    "duration": 8,
    "start_time": "2024-11-17T16:45:45.382Z"
   },
   {
    "duration": 254,
    "start_time": "2024-11-17T16:45:45.392Z"
   },
   {
    "duration": 8,
    "start_time": "2024-11-17T16:45:45.648Z"
   },
   {
    "duration": 184,
    "start_time": "2024-11-17T16:45:45.658Z"
   },
   {
    "duration": 9,
    "start_time": "2024-11-17T16:45:45.844Z"
   },
   {
    "duration": 76,
    "start_time": "2024-11-17T16:45:45.854Z"
   },
   {
    "duration": 281,
    "start_time": "2024-11-17T16:45:45.933Z"
   },
   {
    "duration": 2179,
    "start_time": "2024-11-17T16:45:46.216Z"
   },
   {
    "duration": 11,
    "start_time": "2024-11-17T16:45:48.397Z"
   },
   {
    "duration": 36,
    "start_time": "2024-11-17T16:45:48.410Z"
   },
   {
    "duration": 14556,
    "start_time": "2024-11-17T16:45:48.447Z"
   },
   {
    "duration": 163,
    "start_time": "2024-11-17T16:46:03.005Z"
   },
   {
    "duration": 786,
    "start_time": "2024-11-17T16:46:03.170Z"
   },
   {
    "duration": 19529,
    "start_time": "2024-11-17T16:46:03.957Z"
   },
   {
    "duration": 662,
    "start_time": "2024-11-17T16:46:23.488Z"
   },
   {
    "duration": 5,
    "start_time": "2024-11-17T16:46:24.152Z"
   },
   {
    "duration": 756,
    "start_time": "2024-11-17T16:46:24.159Z"
   },
   {
    "duration": 5445,
    "start_time": "2024-11-17T16:58:18.859Z"
   },
   {
    "duration": 3024,
    "start_time": "2024-11-17T16:58:24.306Z"
   },
   {
    "duration": 68,
    "start_time": "2024-11-17T16:58:27.332Z"
   },
   {
    "duration": 12,
    "start_time": "2024-11-17T16:58:27.403Z"
   },
   {
    "duration": 139,
    "start_time": "2024-11-17T16:58:27.417Z"
   },
   {
    "duration": 167,
    "start_time": "2024-11-17T16:58:27.558Z"
   },
   {
    "duration": 177,
    "start_time": "2024-11-17T16:58:27.727Z"
   },
   {
    "duration": 191,
    "start_time": "2024-11-17T16:58:27.906Z"
   },
   {
    "duration": 193,
    "start_time": "2024-11-17T16:58:28.098Z"
   },
   {
    "duration": 160,
    "start_time": "2024-11-17T16:58:28.294Z"
   },
   {
    "duration": 7,
    "start_time": "2024-11-17T16:58:28.455Z"
   },
   {
    "duration": 250,
    "start_time": "2024-11-17T16:58:28.464Z"
   },
   {
    "duration": 11,
    "start_time": "2024-11-17T16:58:28.715Z"
   },
   {
    "duration": 21,
    "start_time": "2024-11-17T16:58:28.728Z"
   },
   {
    "duration": 24,
    "start_time": "2024-11-17T16:58:28.751Z"
   },
   {
    "duration": 147,
    "start_time": "2024-11-17T16:58:28.777Z"
   },
   {
    "duration": 339,
    "start_time": "2024-11-17T16:58:28.926Z"
   },
   {
    "duration": 15,
    "start_time": "2024-11-17T16:58:29.267Z"
   },
   {
    "duration": 15,
    "start_time": "2024-11-17T16:58:29.284Z"
   },
   {
    "duration": 47,
    "start_time": "2024-11-17T16:58:29.301Z"
   },
   {
    "duration": 250,
    "start_time": "2024-11-17T16:58:29.350Z"
   },
   {
    "duration": 8,
    "start_time": "2024-11-17T16:58:29.602Z"
   },
   {
    "duration": 181,
    "start_time": "2024-11-17T16:58:29.612Z"
   },
   {
    "duration": 8,
    "start_time": "2024-11-17T16:58:29.795Z"
   },
   {
    "duration": 217,
    "start_time": "2024-11-17T16:58:29.805Z"
   },
   {
    "duration": 19,
    "start_time": "2024-11-17T16:58:30.024Z"
   },
   {
    "duration": 120,
    "start_time": "2024-11-17T16:58:30.045Z"
   },
   {
    "duration": 338,
    "start_time": "2024-11-17T16:58:30.169Z"
   },
   {
    "duration": 2038,
    "start_time": "2024-11-17T16:58:30.509Z"
   },
   {
    "duration": 12,
    "start_time": "2024-11-17T16:58:32.549Z"
   },
   {
    "duration": 54,
    "start_time": "2024-11-17T16:58:32.563Z"
   },
   {
    "duration": 14233,
    "start_time": "2024-11-17T16:58:32.618Z"
   },
   {
    "duration": 127,
    "start_time": "2024-11-17T16:58:46.853Z"
   },
   {
    "duration": 720,
    "start_time": "2024-11-17T16:58:46.981Z"
   },
   {
    "duration": 19267,
    "start_time": "2024-11-17T16:58:47.702Z"
   },
   {
    "duration": 574,
    "start_time": "2024-11-17T16:59:06.971Z"
   },
   {
    "duration": 4,
    "start_time": "2024-11-17T16:59:07.547Z"
   },
   {
    "duration": 773,
    "start_time": "2024-11-17T16:59:07.553Z"
   },
   {
    "duration": 5625,
    "start_time": "2024-11-17T17:00:23.240Z"
   },
   {
    "duration": 3091,
    "start_time": "2024-11-17T17:00:28.867Z"
   },
   {
    "duration": 67,
    "start_time": "2024-11-17T17:00:31.960Z"
   },
   {
    "duration": 12,
    "start_time": "2024-11-17T17:00:32.030Z"
   },
   {
    "duration": 251,
    "start_time": "2024-11-17T17:00:32.043Z"
   },
   {
    "duration": 180,
    "start_time": "2024-11-17T17:00:32.295Z"
   },
   {
    "duration": 161,
    "start_time": "2024-11-17T17:00:32.477Z"
   },
   {
    "duration": 198,
    "start_time": "2024-11-17T17:00:32.640Z"
   },
   {
    "duration": 188,
    "start_time": "2024-11-17T17:00:32.840Z"
   },
   {
    "duration": 161,
    "start_time": "2024-11-17T17:00:33.031Z"
   },
   {
    "duration": 9,
    "start_time": "2024-11-17T17:00:33.194Z"
   },
   {
    "duration": 249,
    "start_time": "2024-11-17T17:00:33.205Z"
   },
   {
    "duration": 12,
    "start_time": "2024-11-17T17:00:33.455Z"
   },
   {
    "duration": 76,
    "start_time": "2024-11-17T17:00:33.469Z"
   },
   {
    "duration": 49,
    "start_time": "2024-11-17T17:00:33.546Z"
   },
   {
    "duration": 124,
    "start_time": "2024-11-17T17:00:33.596Z"
   },
   {
    "duration": 344,
    "start_time": "2024-11-17T17:00:33.722Z"
   },
   {
    "duration": 15,
    "start_time": "2024-11-17T17:00:34.068Z"
   },
   {
    "duration": 112,
    "start_time": "2024-11-17T17:00:34.084Z"
   },
   {
    "duration": 39,
    "start_time": "2024-11-17T17:00:34.197Z"
   },
   {
    "duration": 347,
    "start_time": "2024-11-17T17:00:34.238Z"
   },
   {
    "duration": 12,
    "start_time": "2024-11-17T17:00:34.587Z"
   },
   {
    "duration": 194,
    "start_time": "2024-11-17T17:00:34.601Z"
   },
   {
    "duration": 9,
    "start_time": "2024-11-17T17:00:34.796Z"
   },
   {
    "duration": 189,
    "start_time": "2024-11-17T17:00:34.807Z"
   },
   {
    "duration": 8,
    "start_time": "2024-11-17T17:00:34.998Z"
   },
   {
    "duration": 60,
    "start_time": "2024-11-17T17:00:35.008Z"
   },
   {
    "duration": 323,
    "start_time": "2024-11-17T17:00:35.072Z"
   },
   {
    "duration": 2002,
    "start_time": "2024-11-17T17:00:35.397Z"
   },
   {
    "duration": 12,
    "start_time": "2024-11-17T17:00:37.400Z"
   },
   {
    "duration": 156,
    "start_time": "2024-11-17T17:00:37.413Z"
   },
   {
    "duration": 14372,
    "start_time": "2024-11-17T17:00:37.571Z"
   },
   {
    "duration": 120,
    "start_time": "2024-11-17T17:00:51.944Z"
   },
   {
    "duration": 730,
    "start_time": "2024-11-17T17:00:52.066Z"
   },
   {
    "duration": 19656,
    "start_time": "2024-11-17T17:00:52.798Z"
   },
   {
    "duration": 617,
    "start_time": "2024-11-17T17:01:12.456Z"
   },
   {
    "duration": 4,
    "start_time": "2024-11-17T17:01:13.075Z"
   },
   {
    "duration": 742,
    "start_time": "2024-11-17T17:01:13.081Z"
   },
   {
    "duration": 5374,
    "start_time": "2024-11-17T17:21:37.643Z"
   },
   {
    "duration": 3039,
    "start_time": "2024-11-17T17:21:43.019Z"
   },
   {
    "duration": 66,
    "start_time": "2024-11-17T17:21:46.059Z"
   },
   {
    "duration": 13,
    "start_time": "2024-11-17T17:21:46.126Z"
   },
   {
    "duration": 205,
    "start_time": "2024-11-17T17:21:46.141Z"
   },
   {
    "duration": 174,
    "start_time": "2024-11-17T17:21:46.347Z"
   },
   {
    "duration": 170,
    "start_time": "2024-11-17T17:21:46.523Z"
   },
   {
    "duration": 211,
    "start_time": "2024-11-17T17:21:46.694Z"
   },
   {
    "duration": 167,
    "start_time": "2024-11-17T17:21:46.907Z"
   },
   {
    "duration": 151,
    "start_time": "2024-11-17T17:21:47.076Z"
   },
   {
    "duration": 20,
    "start_time": "2024-11-17T17:21:47.228Z"
   },
   {
    "duration": 234,
    "start_time": "2024-11-17T17:21:47.249Z"
   },
   {
    "duration": 11,
    "start_time": "2024-11-17T17:21:47.484Z"
   },
   {
    "duration": 8,
    "start_time": "2024-11-17T17:21:47.498Z"
   },
   {
    "duration": 8,
    "start_time": "2024-11-17T17:21:47.508Z"
   },
   {
    "duration": 187,
    "start_time": "2024-11-17T17:21:47.543Z"
   },
   {
    "duration": 335,
    "start_time": "2024-11-17T17:21:47.732Z"
   },
   {
    "duration": 16,
    "start_time": "2024-11-17T17:21:48.068Z"
   },
   {
    "duration": 15,
    "start_time": "2024-11-17T17:21:48.085Z"
   },
   {
    "duration": 47,
    "start_time": "2024-11-17T17:21:48.101Z"
   },
   {
    "duration": 352,
    "start_time": "2024-11-17T17:21:48.149Z"
   },
   {
    "duration": 8,
    "start_time": "2024-11-17T17:21:48.503Z"
   },
   {
    "duration": 161,
    "start_time": "2024-11-17T17:21:48.512Z"
   },
   {
    "duration": 7,
    "start_time": "2024-11-17T17:21:48.675Z"
   },
   {
    "duration": 185,
    "start_time": "2024-11-17T17:21:48.684Z"
   },
   {
    "duration": 8,
    "start_time": "2024-11-17T17:21:48.870Z"
   },
   {
    "duration": 27,
    "start_time": "2024-11-17T17:21:48.880Z"
   },
   {
    "duration": 296,
    "start_time": "2024-11-17T17:21:48.908Z"
   },
   {
    "duration": 2187,
    "start_time": "2024-11-17T17:21:49.206Z"
   },
   {
    "duration": 15,
    "start_time": "2024-11-17T17:21:51.395Z"
   },
   {
    "duration": 42,
    "start_time": "2024-11-17T17:21:51.411Z"
   },
   {
    "duration": 14189,
    "start_time": "2024-11-17T17:21:51.455Z"
   },
   {
    "duration": 118,
    "start_time": "2024-11-17T17:22:05.646Z"
   },
   {
    "duration": 718,
    "start_time": "2024-11-17T17:22:05.765Z"
   },
   {
    "duration": 19094,
    "start_time": "2024-11-17T17:22:06.485Z"
   },
   {
    "duration": 589,
    "start_time": "2024-11-17T17:22:25.581Z"
   },
   {
    "duration": 5,
    "start_time": "2024-11-17T17:22:26.172Z"
   },
   {
    "duration": 741,
    "start_time": "2024-11-17T17:22:26.179Z"
   },
   {
    "duration": 5458,
    "start_time": "2024-11-17T17:28:57.500Z"
   },
   {
    "duration": 3058,
    "start_time": "2024-11-17T17:29:02.960Z"
   },
   {
    "duration": 67,
    "start_time": "2024-11-17T17:29:06.020Z"
   },
   {
    "duration": 12,
    "start_time": "2024-11-17T17:29:06.089Z"
   },
   {
    "duration": 157,
    "start_time": "2024-11-17T17:29:06.103Z"
   },
   {
    "duration": 173,
    "start_time": "2024-11-17T17:29:06.262Z"
   },
   {
    "duration": 173,
    "start_time": "2024-11-17T17:29:06.436Z"
   },
   {
    "duration": 178,
    "start_time": "2024-11-17T17:29:06.611Z"
   },
   {
    "duration": 195,
    "start_time": "2024-11-17T17:29:06.790Z"
   },
   {
    "duration": 159,
    "start_time": "2024-11-17T17:29:06.988Z"
   },
   {
    "duration": 7,
    "start_time": "2024-11-17T17:29:07.149Z"
   },
   {
    "duration": 258,
    "start_time": "2024-11-17T17:29:07.157Z"
   },
   {
    "duration": 12,
    "start_time": "2024-11-17T17:29:07.416Z"
   },
   {
    "duration": 20,
    "start_time": "2024-11-17T17:29:07.429Z"
   },
   {
    "duration": 33,
    "start_time": "2024-11-17T17:29:07.450Z"
   },
   {
    "duration": 133,
    "start_time": "2024-11-17T17:29:07.485Z"
   },
   {
    "duration": 338,
    "start_time": "2024-11-17T17:29:07.620Z"
   },
   {
    "duration": 16,
    "start_time": "2024-11-17T17:29:07.960Z"
   },
   {
    "duration": 76,
    "start_time": "2024-11-17T17:29:07.977Z"
   },
   {
    "duration": 18,
    "start_time": "2024-11-17T17:29:08.055Z"
   },
   {
    "duration": 312,
    "start_time": "2024-11-17T17:29:08.075Z"
   },
   {
    "duration": 8,
    "start_time": "2024-11-17T17:29:08.389Z"
   },
   {
    "duration": 176,
    "start_time": "2024-11-17T17:29:08.399Z"
   },
   {
    "duration": 10,
    "start_time": "2024-11-17T17:29:08.577Z"
   },
   {
    "duration": 196,
    "start_time": "2024-11-17T17:29:08.589Z"
   },
   {
    "duration": 9,
    "start_time": "2024-11-17T17:29:08.787Z"
   },
   {
    "duration": 13,
    "start_time": "2024-11-17T17:29:08.798Z"
   },
   {
    "duration": 316,
    "start_time": "2024-11-17T17:29:08.815Z"
   },
   {
    "duration": 2027,
    "start_time": "2024-11-17T17:29:09.142Z"
   },
   {
    "duration": 36,
    "start_time": "2024-11-17T17:29:11.171Z"
   },
   {
    "duration": 14161,
    "start_time": "2024-11-17T17:29:11.209Z"
   },
   {
    "duration": 147,
    "start_time": "2024-11-17T17:29:25.372Z"
   },
   {
    "duration": 768,
    "start_time": "2024-11-17T17:29:25.521Z"
   },
   {
    "duration": 19034,
    "start_time": "2024-11-17T17:29:26.291Z"
   },
   {
    "duration": 558,
    "start_time": "2024-11-17T17:29:45.342Z"
   },
   {
    "duration": 4,
    "start_time": "2024-11-17T17:29:45.902Z"
   },
   {
    "duration": 683,
    "start_time": "2024-11-17T17:29:45.908Z"
   },
   {
    "duration": 9698,
    "start_time": "2024-11-18T07:56:07.873Z"
   },
   {
    "duration": 6105,
    "start_time": "2024-11-18T07:56:17.573Z"
   },
   {
    "duration": 114,
    "start_time": "2024-11-18T07:56:23.679Z"
   },
   {
    "duration": 11,
    "start_time": "2024-11-18T07:56:23.796Z"
   },
   {
    "duration": 144,
    "start_time": "2024-11-18T07:56:23.809Z"
   },
   {
    "duration": 145,
    "start_time": "2024-11-18T07:56:23.957Z"
   },
   {
    "duration": 148,
    "start_time": "2024-11-18T07:56:24.104Z"
   },
   {
    "duration": 172,
    "start_time": "2024-11-18T07:56:24.254Z"
   },
   {
    "duration": 151,
    "start_time": "2024-11-18T07:56:24.427Z"
   },
   {
    "duration": 151,
    "start_time": "2024-11-18T07:56:24.581Z"
   },
   {
    "duration": 8,
    "start_time": "2024-11-18T07:56:24.733Z"
   },
   {
    "duration": 223,
    "start_time": "2024-11-18T07:56:24.743Z"
   },
   {
    "duration": 12,
    "start_time": "2024-11-18T07:56:24.968Z"
   },
   {
    "duration": 26,
    "start_time": "2024-11-18T07:56:24.982Z"
   },
   {
    "duration": 17,
    "start_time": "2024-11-18T07:56:25.009Z"
   },
   {
    "duration": 136,
    "start_time": "2024-11-18T07:56:25.027Z"
   },
   {
    "duration": 285,
    "start_time": "2024-11-18T07:56:25.165Z"
   },
   {
    "duration": 14,
    "start_time": "2024-11-18T07:56:25.457Z"
   },
   {
    "duration": 48,
    "start_time": "2024-11-18T07:56:25.472Z"
   },
   {
    "duration": 55,
    "start_time": "2024-11-18T07:56:25.522Z"
   },
   {
    "duration": 227,
    "start_time": "2024-11-18T07:56:25.579Z"
   },
   {
    "duration": 7,
    "start_time": "2024-11-18T07:56:25.808Z"
   },
   {
    "duration": 167,
    "start_time": "2024-11-18T07:56:25.817Z"
   },
   {
    "duration": 6,
    "start_time": "2024-11-18T07:56:25.986Z"
   },
   {
    "duration": 196,
    "start_time": "2024-11-18T07:56:25.994Z"
   },
   {
    "duration": 8,
    "start_time": "2024-11-18T07:56:26.192Z"
   },
   {
    "duration": 12,
    "start_time": "2024-11-18T07:56:26.202Z"
   },
   {
    "duration": 315,
    "start_time": "2024-11-18T07:56:26.218Z"
   },
   {
    "duration": 1705,
    "start_time": "2024-11-18T07:56:26.535Z"
   },
   {
    "duration": 32,
    "start_time": "2024-11-18T07:56:28.242Z"
   },
   {
    "duration": 12968,
    "start_time": "2024-11-18T07:56:28.276Z"
   },
   {
    "duration": 104,
    "start_time": "2024-11-18T07:56:41.257Z"
   },
   {
    "duration": 650,
    "start_time": "2024-11-18T07:56:41.362Z"
   },
   {
    "duration": 16506,
    "start_time": "2024-11-18T07:56:42.014Z"
   },
   {
    "duration": 509,
    "start_time": "2024-11-18T07:56:58.522Z"
   },
   {
    "duration": 3,
    "start_time": "2024-11-18T07:56:59.033Z"
   },
   {
    "duration": 580,
    "start_time": "2024-11-18T07:56:59.037Z"
   },
   {
    "duration": 53,
    "start_time": "2024-11-18T15:54:07.797Z"
   },
   {
    "duration": 10462,
    "start_time": "2024-11-18T15:54:19.085Z"
   },
   {
    "duration": 3483,
    "start_time": "2024-11-18T15:54:29.549Z"
   },
   {
    "duration": 133,
    "start_time": "2024-11-18T15:54:33.034Z"
   },
   {
    "duration": 13,
    "start_time": "2024-11-18T15:54:33.169Z"
   },
   {
    "duration": 171,
    "start_time": "2024-11-18T15:54:33.184Z"
   },
   {
    "duration": 173,
    "start_time": "2024-11-18T15:54:33.357Z"
   },
   {
    "duration": 177,
    "start_time": "2024-11-18T15:54:33.531Z"
   },
   {
    "duration": 202,
    "start_time": "2024-11-18T15:54:33.709Z"
   },
   {
    "duration": 200,
    "start_time": "2024-11-18T15:54:33.913Z"
   },
   {
    "duration": 158,
    "start_time": "2024-11-18T15:54:34.116Z"
   },
   {
    "duration": 7,
    "start_time": "2024-11-18T15:54:34.276Z"
   },
   {
    "duration": 243,
    "start_time": "2024-11-18T15:54:34.285Z"
   },
   {
    "duration": 12,
    "start_time": "2024-11-18T15:54:34.530Z"
   },
   {
    "duration": 117,
    "start_time": "2024-11-18T15:54:34.552Z"
   },
   {
    "duration": 12,
    "start_time": "2024-11-18T15:54:34.671Z"
   },
   {
    "duration": 135,
    "start_time": "2024-11-18T15:54:34.685Z"
   },
   {
    "duration": 395,
    "start_time": "2024-11-18T15:54:34.822Z"
   },
   {
    "duration": 16,
    "start_time": "2024-11-18T15:54:35.218Z"
   },
   {
    "duration": 28,
    "start_time": "2024-11-18T15:54:35.236Z"
   },
   {
    "duration": 8,
    "start_time": "2024-11-18T15:54:35.266Z"
   },
   {
    "duration": 179,
    "start_time": "2024-11-18T15:54:35.276Z"
   },
   {
    "duration": 7,
    "start_time": "2024-11-18T15:54:35.457Z"
   },
   {
    "duration": 191,
    "start_time": "2024-11-18T15:54:35.466Z"
   },
   {
    "duration": 8,
    "start_time": "2024-11-18T15:54:35.659Z"
   },
   {
    "duration": 19,
    "start_time": "2024-11-18T15:54:35.668Z"
   },
   {
    "duration": 320,
    "start_time": "2024-11-18T15:54:35.689Z"
   },
   {
    "duration": 2118,
    "start_time": "2024-11-18T15:54:36.011Z"
   },
   {
    "duration": 1342,
    "start_time": "2024-11-18T15:54:38.132Z"
   },
   {
    "duration": 0,
    "start_time": "2024-11-18T15:54:39.476Z"
   },
   {
    "duration": 0,
    "start_time": "2024-11-18T15:54:39.477Z"
   },
   {
    "duration": 0,
    "start_time": "2024-11-18T15:54:39.479Z"
   },
   {
    "duration": 0,
    "start_time": "2024-11-18T15:54:39.480Z"
   },
   {
    "duration": 0,
    "start_time": "2024-11-18T15:54:39.481Z"
   },
   {
    "duration": 0,
    "start_time": "2024-11-18T15:54:39.482Z"
   },
   {
    "duration": 0,
    "start_time": "2024-11-18T15:54:39.484Z"
   },
   {
    "duration": 38,
    "start_time": "2024-11-18T15:56:37.787Z"
   },
   {
    "duration": 14114,
    "start_time": "2024-11-18T15:56:44.211Z"
   },
   {
    "duration": 129,
    "start_time": "2024-11-18T15:56:58.326Z"
   },
   {
    "duration": 751,
    "start_time": "2024-11-18T15:56:58.456Z"
   },
   {
    "duration": 19106,
    "start_time": "2024-11-18T15:56:59.209Z"
   },
   {
    "duration": 552,
    "start_time": "2024-11-18T15:57:18.316Z"
   },
   {
    "duration": 4,
    "start_time": "2024-11-18T15:57:18.870Z"
   },
   {
    "duration": 696,
    "start_time": "2024-11-18T15:57:18.876Z"
   },
   {
    "duration": 5933,
    "start_time": "2024-11-18T16:15:46.784Z"
   },
   {
    "duration": 3208,
    "start_time": "2024-11-18T16:15:52.720Z"
   },
   {
    "duration": 74,
    "start_time": "2024-11-18T16:15:55.930Z"
   },
   {
    "duration": 14,
    "start_time": "2024-11-18T16:15:56.006Z"
   },
   {
    "duration": 197,
    "start_time": "2024-11-18T16:15:56.022Z"
   },
   {
    "duration": 172,
    "start_time": "2024-11-18T16:15:56.221Z"
   },
   {
    "duration": 182,
    "start_time": "2024-11-18T16:15:56.395Z"
   },
   {
    "duration": 200,
    "start_time": "2024-11-18T16:15:56.579Z"
   },
   {
    "duration": 186,
    "start_time": "2024-11-18T16:15:56.781Z"
   },
   {
    "duration": 169,
    "start_time": "2024-11-18T16:15:56.971Z"
   },
   {
    "duration": 14,
    "start_time": "2024-11-18T16:15:57.142Z"
   },
   {
    "duration": 286,
    "start_time": "2024-11-18T16:15:57.157Z"
   },
   {
    "duration": 16,
    "start_time": "2024-11-18T16:15:57.445Z"
   },
   {
    "duration": 10,
    "start_time": "2024-11-18T16:15:57.463Z"
   },
   {
    "duration": 11,
    "start_time": "2024-11-18T16:15:57.474Z"
   },
   {
    "duration": 161,
    "start_time": "2024-11-18T16:15:57.487Z"
   },
   {
    "duration": 334,
    "start_time": "2024-11-18T16:15:57.651Z"
   },
   {
    "duration": 16,
    "start_time": "2024-11-18T16:15:57.987Z"
   },
   {
    "duration": 16,
    "start_time": "2024-11-18T16:15:58.005Z"
   },
   {
    "duration": 31,
    "start_time": "2024-11-18T16:15:58.022Z"
   },
   {
    "duration": 168,
    "start_time": "2024-11-18T16:15:58.054Z"
   },
   {
    "duration": 8,
    "start_time": "2024-11-18T16:15:58.223Z"
   },
   {
    "duration": 179,
    "start_time": "2024-11-18T16:15:58.233Z"
   },
   {
    "duration": 8,
    "start_time": "2024-11-18T16:15:58.414Z"
   },
   {
    "duration": 8,
    "start_time": "2024-11-18T16:15:58.423Z"
   },
   {
    "duration": 289,
    "start_time": "2024-11-18T16:15:58.433Z"
   },
   {
    "duration": 1897,
    "start_time": "2024-11-18T16:15:58.724Z"
   },
   {
    "duration": 39,
    "start_time": "2024-11-18T16:16:00.624Z"
   },
   {
    "duration": 13556,
    "start_time": "2024-11-18T16:16:00.665Z"
   },
   {
    "duration": 139,
    "start_time": "2024-11-18T16:16:14.222Z"
   },
   {
    "duration": 734,
    "start_time": "2024-11-18T16:16:14.363Z"
   },
   {
    "duration": 19625,
    "start_time": "2024-11-18T16:16:15.099Z"
   },
   {
    "duration": 586,
    "start_time": "2024-11-18T16:16:34.726Z"
   },
   {
    "duration": 4,
    "start_time": "2024-11-18T16:16:35.314Z"
   },
   {
    "duration": 720,
    "start_time": "2024-11-18T16:16:35.319Z"
   },
   {
    "duration": 6204,
    "start_time": "2024-11-18T16:30:51.908Z"
   },
   {
    "duration": 3111,
    "start_time": "2024-11-18T16:30:58.115Z"
   },
   {
    "duration": 80,
    "start_time": "2024-11-18T16:31:01.228Z"
   },
   {
    "duration": 14,
    "start_time": "2024-11-18T16:31:01.311Z"
   },
   {
    "duration": 174,
    "start_time": "2024-11-18T16:31:01.327Z"
   },
   {
    "duration": 194,
    "start_time": "2024-11-18T16:31:01.503Z"
   },
   {
    "duration": 193,
    "start_time": "2024-11-18T16:31:01.699Z"
   },
   {
    "duration": 202,
    "start_time": "2024-11-18T16:31:01.894Z"
   },
   {
    "duration": 194,
    "start_time": "2024-11-18T16:31:02.098Z"
   },
   {
    "duration": 178,
    "start_time": "2024-11-18T16:31:02.296Z"
   },
   {
    "duration": 8,
    "start_time": "2024-11-18T16:31:02.475Z"
   },
   {
    "duration": 284,
    "start_time": "2024-11-18T16:31:02.484Z"
   },
   {
    "duration": 13,
    "start_time": "2024-11-18T16:31:02.770Z"
   },
   {
    "duration": 21,
    "start_time": "2024-11-18T16:31:02.784Z"
   },
   {
    "duration": 20,
    "start_time": "2024-11-18T16:31:02.807Z"
   },
   {
    "duration": 163,
    "start_time": "2024-11-18T16:31:02.828Z"
   },
   {
    "duration": 398,
    "start_time": "2024-11-18T16:31:02.993Z"
   },
   {
    "duration": 16,
    "start_time": "2024-11-18T16:31:03.393Z"
   },
   {
    "duration": 29,
    "start_time": "2024-11-18T16:31:03.410Z"
   },
   {
    "duration": 15,
    "start_time": "2024-11-18T16:31:03.454Z"
   },
   {
    "duration": 167,
    "start_time": "2024-11-18T16:31:03.471Z"
   },
   {
    "duration": 15,
    "start_time": "2024-11-18T16:31:03.640Z"
   },
   {
    "duration": 176,
    "start_time": "2024-11-18T16:31:03.658Z"
   },
   {
    "duration": 17,
    "start_time": "2024-11-18T16:31:03.836Z"
   },
   {
    "duration": 15,
    "start_time": "2024-11-18T16:31:03.855Z"
   },
   {
    "duration": 368,
    "start_time": "2024-11-18T16:31:03.871Z"
   },
   {
    "duration": 1976,
    "start_time": "2024-11-18T16:31:04.241Z"
   },
   {
    "duration": 38,
    "start_time": "2024-11-18T16:31:06.220Z"
   },
   {
    "duration": 12681,
    "start_time": "2024-11-18T16:31:06.259Z"
   },
   {
    "duration": 139,
    "start_time": "2024-11-18T16:31:18.942Z"
   },
   {
    "duration": 819,
    "start_time": "2024-11-18T16:31:19.083Z"
   },
   {
    "duration": 403,
    "start_time": "2024-11-18T16:31:19.904Z"
   },
   {
    "duration": 0,
    "start_time": "2024-11-18T16:31:20.309Z"
   },
   {
    "duration": 0,
    "start_time": "2024-11-18T16:31:20.311Z"
   },
   {
    "duration": 0,
    "start_time": "2024-11-18T16:31:20.312Z"
   },
   {
    "duration": 4,
    "start_time": "2024-11-18T16:38:46.600Z"
   },
   {
    "duration": 12,
    "start_time": "2024-11-18T16:40:16.163Z"
   },
   {
    "duration": 67,
    "start_time": "2024-11-18T16:40:41.874Z"
   },
   {
    "duration": 34,
    "start_time": "2024-11-18T16:40:59.351Z"
   },
   {
    "duration": 6033,
    "start_time": "2024-11-18T16:41:15.538Z"
   },
   {
    "duration": 3223,
    "start_time": "2024-11-18T16:41:21.574Z"
   },
   {
    "duration": 77,
    "start_time": "2024-11-18T16:41:24.798Z"
   },
   {
    "duration": 13,
    "start_time": "2024-11-18T16:41:24.877Z"
   },
   {
    "duration": 187,
    "start_time": "2024-11-18T16:41:24.892Z"
   },
   {
    "duration": 194,
    "start_time": "2024-11-18T16:41:25.080Z"
   },
   {
    "duration": 194,
    "start_time": "2024-11-18T16:41:25.276Z"
   },
   {
    "duration": 199,
    "start_time": "2024-11-18T16:41:25.471Z"
   },
   {
    "duration": 199,
    "start_time": "2024-11-18T16:41:25.672Z"
   },
   {
    "duration": 166,
    "start_time": "2024-11-18T16:41:25.874Z"
   },
   {
    "duration": 26,
    "start_time": "2024-11-18T16:41:26.041Z"
   },
   {
    "duration": 294,
    "start_time": "2024-11-18T16:41:26.069Z"
   },
   {
    "duration": 15,
    "start_time": "2024-11-18T16:41:26.364Z"
   },
   {
    "duration": 12,
    "start_time": "2024-11-18T16:41:26.381Z"
   },
   {
    "duration": 12,
    "start_time": "2024-11-18T16:41:26.395Z"
   },
   {
    "duration": 186,
    "start_time": "2024-11-18T16:41:26.408Z"
   },
   {
    "duration": 393,
    "start_time": "2024-11-18T16:41:26.596Z"
   },
   {
    "duration": 17,
    "start_time": "2024-11-18T16:41:26.991Z"
   },
   {
    "duration": 17,
    "start_time": "2024-11-18T16:41:27.010Z"
   },
   {
    "duration": 35,
    "start_time": "2024-11-18T16:41:27.029Z"
   },
   {
    "duration": 175,
    "start_time": "2024-11-18T16:41:27.066Z"
   },
   {
    "duration": 18,
    "start_time": "2024-11-18T16:41:27.242Z"
   },
   {
    "duration": 238,
    "start_time": "2024-11-18T16:41:27.264Z"
   },
   {
    "duration": 8,
    "start_time": "2024-11-18T16:41:27.504Z"
   },
   {
    "duration": 6,
    "start_time": "2024-11-18T16:41:27.514Z"
   },
   {
    "duration": 319,
    "start_time": "2024-11-18T16:41:27.522Z"
   },
   {
    "duration": 2050,
    "start_time": "2024-11-18T16:41:27.843Z"
   },
   {
    "duration": 54,
    "start_time": "2024-11-18T16:41:29.897Z"
   },
   {
    "duration": 12925,
    "start_time": "2024-11-18T16:41:29.959Z"
   },
   {
    "duration": 329,
    "start_time": "2024-11-18T16:41:42.886Z"
   },
   {
    "duration": 0,
    "start_time": "2024-11-18T16:41:43.217Z"
   },
   {
    "duration": 0,
    "start_time": "2024-11-18T16:41:43.218Z"
   },
   {
    "duration": 0,
    "start_time": "2024-11-18T16:41:43.219Z"
   },
   {
    "duration": 0,
    "start_time": "2024-11-18T16:41:43.221Z"
   },
   {
    "duration": 0,
    "start_time": "2024-11-18T16:41:43.221Z"
   },
   {
    "duration": 0,
    "start_time": "2024-11-18T16:41:43.223Z"
   },
   {
    "duration": 0,
    "start_time": "2024-11-18T16:41:43.224Z"
   },
   {
    "duration": 20,
    "start_time": "2024-11-18T16:42:11.966Z"
   },
   {
    "duration": 25,
    "start_time": "2024-11-18T16:43:03.738Z"
   },
   {
    "duration": 6131,
    "start_time": "2024-11-18T16:43:20.547Z"
   },
   {
    "duration": 3060,
    "start_time": "2024-11-18T16:43:26.680Z"
   },
   {
    "duration": 71,
    "start_time": "2024-11-18T16:43:29.742Z"
   },
   {
    "duration": 13,
    "start_time": "2024-11-18T16:43:29.814Z"
   },
   {
    "duration": 163,
    "start_time": "2024-11-18T16:43:29.829Z"
   },
   {
    "duration": 197,
    "start_time": "2024-11-18T16:43:29.994Z"
   },
   {
    "duration": 188,
    "start_time": "2024-11-18T16:43:30.193Z"
   },
   {
    "duration": 204,
    "start_time": "2024-11-18T16:43:30.382Z"
   },
   {
    "duration": 201,
    "start_time": "2024-11-18T16:43:30.588Z"
   },
   {
    "duration": 172,
    "start_time": "2024-11-18T16:43:30.792Z"
   },
   {
    "duration": 9,
    "start_time": "2024-11-18T16:43:30.965Z"
   },
   {
    "duration": 262,
    "start_time": "2024-11-18T16:43:30.976Z"
   },
   {
    "duration": 28,
    "start_time": "2024-11-18T16:43:31.240Z"
   },
   {
    "duration": 63,
    "start_time": "2024-11-18T16:43:31.270Z"
   },
   {
    "duration": 14,
    "start_time": "2024-11-18T16:43:31.335Z"
   },
   {
    "duration": 137,
    "start_time": "2024-11-18T16:43:31.350Z"
   },
   {
    "duration": 396,
    "start_time": "2024-11-18T16:43:31.489Z"
   },
   {
    "duration": 18,
    "start_time": "2024-11-18T16:43:31.887Z"
   },
   {
    "duration": 26,
    "start_time": "2024-11-18T16:43:31.907Z"
   },
   {
    "duration": 36,
    "start_time": "2024-11-18T16:43:31.934Z"
   },
   {
    "duration": 193,
    "start_time": "2024-11-18T16:43:31.973Z"
   },
   {
    "duration": 7,
    "start_time": "2024-11-18T16:43:32.168Z"
   },
   {
    "duration": 186,
    "start_time": "2024-11-18T16:43:32.176Z"
   },
   {
    "duration": 8,
    "start_time": "2024-11-18T16:43:32.368Z"
   },
   {
    "duration": 7,
    "start_time": "2024-11-18T16:43:32.378Z"
   },
   {
    "duration": 346,
    "start_time": "2024-11-18T16:43:32.386Z"
   },
   {
    "duration": 1963,
    "start_time": "2024-11-18T16:43:32.734Z"
   },
   {
    "duration": 36,
    "start_time": "2024-11-18T16:43:34.702Z"
   },
   {
    "duration": 13034,
    "start_time": "2024-11-18T16:43:34.739Z"
   },
   {
    "duration": 319,
    "start_time": "2024-11-18T16:43:47.775Z"
   },
   {
    "duration": 0,
    "start_time": "2024-11-18T16:43:48.096Z"
   },
   {
    "duration": 0,
    "start_time": "2024-11-18T16:43:48.097Z"
   },
   {
    "duration": 0,
    "start_time": "2024-11-18T16:43:48.099Z"
   },
   {
    "duration": 0,
    "start_time": "2024-11-18T16:43:48.100Z"
   },
   {
    "duration": 0,
    "start_time": "2024-11-18T16:43:48.101Z"
   },
   {
    "duration": 0,
    "start_time": "2024-11-18T16:43:48.102Z"
   },
   {
    "duration": 0,
    "start_time": "2024-11-18T16:43:48.103Z"
   },
   {
    "duration": 147,
    "start_time": "2024-11-18T16:47:16.825Z"
   },
   {
    "duration": 43,
    "start_time": "2024-11-18T16:49:45.029Z"
   },
   {
    "duration": 6084,
    "start_time": "2024-11-18T16:49:56.141Z"
   },
   {
    "duration": 3261,
    "start_time": "2024-11-18T16:50:02.228Z"
   },
   {
    "duration": 82,
    "start_time": "2024-11-18T16:50:05.491Z"
   },
   {
    "duration": 14,
    "start_time": "2024-11-18T16:50:05.576Z"
   },
   {
    "duration": 190,
    "start_time": "2024-11-18T16:50:05.592Z"
   },
   {
    "duration": 205,
    "start_time": "2024-11-18T16:50:05.783Z"
   },
   {
    "duration": 202,
    "start_time": "2024-11-18T16:50:05.989Z"
   },
   {
    "duration": 204,
    "start_time": "2024-11-18T16:50:06.192Z"
   },
   {
    "duration": 196,
    "start_time": "2024-11-18T16:50:06.397Z"
   },
   {
    "duration": 176,
    "start_time": "2024-11-18T16:50:06.596Z"
   },
   {
    "duration": 7,
    "start_time": "2024-11-18T16:50:06.774Z"
   },
   {
    "duration": 315,
    "start_time": "2024-11-18T16:50:06.783Z"
   },
   {
    "duration": 12,
    "start_time": "2024-11-18T16:50:07.101Z"
   },
   {
    "duration": 22,
    "start_time": "2024-11-18T16:50:07.115Z"
   },
   {
    "duration": 34,
    "start_time": "2024-11-18T16:50:07.139Z"
   },
   {
    "duration": 137,
    "start_time": "2024-11-18T16:50:07.175Z"
   },
   {
    "duration": 395,
    "start_time": "2024-11-18T16:50:07.314Z"
   },
   {
    "duration": 18,
    "start_time": "2024-11-18T16:50:07.710Z"
   },
   {
    "duration": 42,
    "start_time": "2024-11-18T16:50:07.730Z"
   },
   {
    "duration": 9,
    "start_time": "2024-11-18T16:50:07.773Z"
   },
   {
    "duration": 198,
    "start_time": "2024-11-18T16:50:07.783Z"
   },
   {
    "duration": 9,
    "start_time": "2024-11-18T16:50:07.983Z"
   },
   {
    "duration": 213,
    "start_time": "2024-11-18T16:50:07.994Z"
   },
   {
    "duration": 9,
    "start_time": "2024-11-18T16:50:08.208Z"
   },
   {
    "duration": 20,
    "start_time": "2024-11-18T16:50:08.219Z"
   },
   {
    "duration": 302,
    "start_time": "2024-11-18T16:50:08.242Z"
   },
   {
    "duration": 2113,
    "start_time": "2024-11-18T16:50:08.552Z"
   },
   {
    "duration": 51,
    "start_time": "2024-11-18T16:50:10.671Z"
   },
   {
    "duration": 13605,
    "start_time": "2024-11-18T16:50:10.724Z"
   },
   {
    "duration": 462,
    "start_time": "2024-11-18T16:50:24.331Z"
   },
   {
    "duration": 0,
    "start_time": "2024-11-18T16:50:24.794Z"
   },
   {
    "duration": 0,
    "start_time": "2024-11-18T16:50:24.796Z"
   },
   {
    "duration": 0,
    "start_time": "2024-11-18T16:50:24.797Z"
   },
   {
    "duration": 0,
    "start_time": "2024-11-18T16:50:24.799Z"
   },
   {
    "duration": 0,
    "start_time": "2024-11-18T16:50:24.800Z"
   },
   {
    "duration": 0,
    "start_time": "2024-11-18T16:50:24.801Z"
   },
   {
    "duration": 0,
    "start_time": "2024-11-18T16:50:24.802Z"
   },
   {
    "duration": 570,
    "start_time": "2024-11-18T16:53:46.421Z"
   },
   {
    "duration": 722,
    "start_time": "2024-11-18T16:53:59.792Z"
   },
   {
    "duration": 78,
    "start_time": "2024-11-18T16:54:27.401Z"
   },
   {
    "duration": 6318,
    "start_time": "2024-11-18T16:54:36.948Z"
   },
   {
    "duration": 3207,
    "start_time": "2024-11-18T16:54:43.268Z"
   },
   {
    "duration": 71,
    "start_time": "2024-11-18T16:54:46.477Z"
   },
   {
    "duration": 20,
    "start_time": "2024-11-18T16:54:46.550Z"
   },
   {
    "duration": 156,
    "start_time": "2024-11-18T16:54:46.572Z"
   },
   {
    "duration": 175,
    "start_time": "2024-11-18T16:54:46.729Z"
   },
   {
    "duration": 180,
    "start_time": "2024-11-18T16:54:46.906Z"
   },
   {
    "duration": 202,
    "start_time": "2024-11-18T16:54:47.088Z"
   },
   {
    "duration": 187,
    "start_time": "2024-11-18T16:54:47.291Z"
   },
   {
    "duration": 170,
    "start_time": "2024-11-18T16:54:47.480Z"
   },
   {
    "duration": 10,
    "start_time": "2024-11-18T16:54:47.654Z"
   },
   {
    "duration": 257,
    "start_time": "2024-11-18T16:54:47.669Z"
   },
   {
    "duration": 26,
    "start_time": "2024-11-18T16:54:47.928Z"
   },
   {
    "duration": 11,
    "start_time": "2024-11-18T16:54:47.962Z"
   },
   {
    "duration": 8,
    "start_time": "2024-11-18T16:54:47.975Z"
   },
   {
    "duration": 153,
    "start_time": "2024-11-18T16:54:47.985Z"
   },
   {
    "duration": 358,
    "start_time": "2024-11-18T16:54:48.140Z"
   },
   {
    "duration": 17,
    "start_time": "2024-11-18T16:54:48.500Z"
   },
   {
    "duration": 43,
    "start_time": "2024-11-18T16:54:48.519Z"
   },
   {
    "duration": 9,
    "start_time": "2024-11-18T16:54:48.564Z"
   },
   {
    "duration": 165,
    "start_time": "2024-11-18T16:54:48.575Z"
   },
   {
    "duration": 24,
    "start_time": "2024-11-18T16:54:48.742Z"
   },
   {
    "duration": 239,
    "start_time": "2024-11-18T16:54:48.768Z"
   },
   {
    "duration": 9,
    "start_time": "2024-11-18T16:54:49.009Z"
   },
   {
    "duration": 12,
    "start_time": "2024-11-18T16:54:49.020Z"
   },
   {
    "duration": 312,
    "start_time": "2024-11-18T16:54:49.034Z"
   },
   {
    "duration": 1990,
    "start_time": "2024-11-18T16:54:49.351Z"
   },
   {
    "duration": 48,
    "start_time": "2024-11-18T16:54:51.343Z"
   },
   {
    "duration": 13106,
    "start_time": "2024-11-18T16:54:51.393Z"
   },
   {
    "duration": 311,
    "start_time": "2024-11-18T16:55:04.501Z"
   },
   {
    "duration": 0,
    "start_time": "2024-11-18T16:55:04.813Z"
   },
   {
    "duration": 0,
    "start_time": "2024-11-18T16:55:04.814Z"
   },
   {
    "duration": 0,
    "start_time": "2024-11-18T16:55:04.815Z"
   },
   {
    "duration": 0,
    "start_time": "2024-11-18T16:55:04.817Z"
   },
   {
    "duration": 0,
    "start_time": "2024-11-18T16:55:04.818Z"
   },
   {
    "duration": 0,
    "start_time": "2024-11-18T16:55:04.819Z"
   },
   {
    "duration": 26,
    "start_time": "2024-11-18T16:58:00.981Z"
   },
   {
    "duration": 18,
    "start_time": "2024-11-18T16:58:08.000Z"
   },
   {
    "duration": 17,
    "start_time": "2024-11-18T16:58:14.888Z"
   },
   {
    "duration": 6011,
    "start_time": "2024-11-18T16:58:26.181Z"
   },
   {
    "duration": 3209,
    "start_time": "2024-11-18T16:58:32.195Z"
   },
   {
    "duration": 77,
    "start_time": "2024-11-18T16:58:35.405Z"
   },
   {
    "duration": 13,
    "start_time": "2024-11-18T16:58:35.484Z"
   },
   {
    "duration": 189,
    "start_time": "2024-11-18T16:58:35.499Z"
   },
   {
    "duration": 198,
    "start_time": "2024-11-18T16:58:35.690Z"
   },
   {
    "duration": 194,
    "start_time": "2024-11-18T16:58:35.890Z"
   },
   {
    "duration": 201,
    "start_time": "2024-11-18T16:58:36.086Z"
   },
   {
    "duration": 194,
    "start_time": "2024-11-18T16:58:36.289Z"
   },
   {
    "duration": 192,
    "start_time": "2024-11-18T16:58:36.486Z"
   },
   {
    "duration": 9,
    "start_time": "2024-11-18T16:58:36.680Z"
   },
   {
    "duration": 285,
    "start_time": "2024-11-18T16:58:36.691Z"
   },
   {
    "duration": 14,
    "start_time": "2024-11-18T16:58:36.978Z"
   },
   {
    "duration": 24,
    "start_time": "2024-11-18T16:58:36.993Z"
   },
   {
    "duration": 37,
    "start_time": "2024-11-18T16:58:37.019Z"
   },
   {
    "duration": 144,
    "start_time": "2024-11-18T16:58:37.068Z"
   },
   {
    "duration": 412,
    "start_time": "2024-11-18T16:58:37.214Z"
   },
   {
    "duration": 17,
    "start_time": "2024-11-18T16:58:37.628Z"
   },
   {
    "duration": 20,
    "start_time": "2024-11-18T16:58:37.651Z"
   },
   {
    "duration": 23,
    "start_time": "2024-11-18T16:58:37.673Z"
   },
   {
    "duration": 383,
    "start_time": "2024-11-18T16:58:37.698Z"
   },
   {
    "duration": 8,
    "start_time": "2024-11-18T16:58:38.083Z"
   },
   {
    "duration": 382,
    "start_time": "2024-11-18T16:58:38.093Z"
   },
   {
    "duration": 12,
    "start_time": "2024-11-18T16:58:38.477Z"
   },
   {
    "duration": 7,
    "start_time": "2024-11-18T16:58:38.491Z"
   },
   {
    "duration": 346,
    "start_time": "2024-11-18T16:58:38.500Z"
   },
   {
    "duration": 2039,
    "start_time": "2024-11-18T16:58:38.853Z"
   },
   {
    "duration": 37,
    "start_time": "2024-11-18T16:58:40.896Z"
   },
   {
    "duration": 12810,
    "start_time": "2024-11-18T16:58:40.934Z"
   },
   {
    "duration": 367,
    "start_time": "2024-11-18T16:58:53.759Z"
   },
   {
    "duration": 0,
    "start_time": "2024-11-18T16:58:54.128Z"
   },
   {
    "duration": 0,
    "start_time": "2024-11-18T16:58:54.129Z"
   },
   {
    "duration": 0,
    "start_time": "2024-11-18T16:58:54.130Z"
   },
   {
    "duration": 0,
    "start_time": "2024-11-18T16:58:54.131Z"
   },
   {
    "duration": 0,
    "start_time": "2024-11-18T16:58:54.132Z"
   },
   {
    "duration": 0,
    "start_time": "2024-11-18T16:58:54.134Z"
   },
   {
    "duration": 21,
    "start_time": "2024-11-18T17:00:30.660Z"
   },
   {
    "duration": 646,
    "start_time": "2024-11-18T17:03:44.175Z"
   },
   {
    "duration": 6114,
    "start_time": "2024-11-18T17:03:52.697Z"
   },
   {
    "duration": 3135,
    "start_time": "2024-11-18T17:03:58.814Z"
   },
   {
    "duration": 72,
    "start_time": "2024-11-18T17:04:01.954Z"
   },
   {
    "duration": 16,
    "start_time": "2024-11-18T17:04:02.027Z"
   },
   {
    "duration": 160,
    "start_time": "2024-11-18T17:04:02.045Z"
   },
   {
    "duration": 206,
    "start_time": "2024-11-18T17:04:02.207Z"
   },
   {
    "duration": 182,
    "start_time": "2024-11-18T17:04:02.414Z"
   },
   {
    "duration": 203,
    "start_time": "2024-11-18T17:04:02.598Z"
   },
   {
    "duration": 186,
    "start_time": "2024-11-18T17:04:02.803Z"
   },
   {
    "duration": 176,
    "start_time": "2024-11-18T17:04:02.991Z"
   },
   {
    "duration": 7,
    "start_time": "2024-11-18T17:04:03.169Z"
   },
   {
    "duration": 262,
    "start_time": "2024-11-18T17:04:03.178Z"
   },
   {
    "duration": 20,
    "start_time": "2024-11-18T17:04:03.441Z"
   },
   {
    "duration": 10,
    "start_time": "2024-11-18T17:04:03.464Z"
   },
   {
    "duration": 10,
    "start_time": "2024-11-18T17:04:03.476Z"
   },
   {
    "duration": 147,
    "start_time": "2024-11-18T17:04:03.488Z"
   },
   {
    "duration": 402,
    "start_time": "2024-11-18T17:04:03.637Z"
   },
   {
    "duration": 32,
    "start_time": "2024-11-18T17:04:04.041Z"
   },
   {
    "duration": 17,
    "start_time": "2024-11-18T17:04:04.075Z"
   },
   {
    "duration": 9,
    "start_time": "2024-11-18T17:04:04.093Z"
   },
   {
    "duration": 186,
    "start_time": "2024-11-18T17:04:04.104Z"
   },
   {
    "duration": 7,
    "start_time": "2024-11-18T17:04:04.292Z"
   },
   {
    "duration": 200,
    "start_time": "2024-11-18T17:04:04.301Z"
   },
   {
    "duration": 8,
    "start_time": "2024-11-18T17:04:04.502Z"
   },
   {
    "duration": 9,
    "start_time": "2024-11-18T17:04:04.512Z"
   },
   {
    "duration": 319,
    "start_time": "2024-11-18T17:04:04.522Z"
   },
   {
    "duration": 2051,
    "start_time": "2024-11-18T17:04:04.842Z"
   },
   {
    "duration": 39,
    "start_time": "2024-11-18T17:04:06.894Z"
   },
   {
    "duration": 12864,
    "start_time": "2024-11-18T17:04:06.935Z"
   },
   {
    "duration": 684,
    "start_time": "2024-11-18T17:04:19.801Z"
   },
   {
    "duration": 269,
    "start_time": "2024-11-18T17:04:20.487Z"
   },
   {
    "duration": 605,
    "start_time": "2024-11-18T17:04:20.765Z"
   },
   {
    "duration": 384,
    "start_time": "2024-11-18T17:04:21.372Z"
   },
   {
    "duration": 0,
    "start_time": "2024-11-18T17:04:21.758Z"
   },
   {
    "duration": 0,
    "start_time": "2024-11-18T17:04:21.759Z"
   },
   {
    "duration": 0,
    "start_time": "2024-11-18T17:04:21.760Z"
   },
   {
    "duration": 31,
    "start_time": "2024-11-18T17:10:58.408Z"
   },
   {
    "duration": 5739,
    "start_time": "2024-11-18T17:11:08.544Z"
   },
   {
    "duration": 2991,
    "start_time": "2024-11-18T17:11:14.286Z"
   },
   {
    "duration": 76,
    "start_time": "2024-11-18T17:11:17.280Z"
   },
   {
    "duration": 14,
    "start_time": "2024-11-18T17:11:17.358Z"
   },
   {
    "duration": 169,
    "start_time": "2024-11-18T17:11:17.374Z"
   },
   {
    "duration": 170,
    "start_time": "2024-11-18T17:11:17.551Z"
   },
   {
    "duration": 176,
    "start_time": "2024-11-18T17:11:17.723Z"
   },
   {
    "duration": 199,
    "start_time": "2024-11-18T17:11:17.900Z"
   },
   {
    "duration": 180,
    "start_time": "2024-11-18T17:11:18.101Z"
   },
   {
    "duration": 163,
    "start_time": "2024-11-18T17:11:18.283Z"
   },
   {
    "duration": 8,
    "start_time": "2024-11-18T17:11:18.451Z"
   },
   {
    "duration": 249,
    "start_time": "2024-11-18T17:11:18.461Z"
   },
   {
    "duration": 13,
    "start_time": "2024-11-18T17:11:18.713Z"
   },
   {
    "duration": 27,
    "start_time": "2024-11-18T17:11:18.728Z"
   },
   {
    "duration": 39,
    "start_time": "2024-11-18T17:11:18.757Z"
   },
   {
    "duration": 210,
    "start_time": "2024-11-18T17:11:18.797Z"
   },
   {
    "duration": 361,
    "start_time": "2024-11-18T17:11:19.009Z"
   },
   {
    "duration": 16,
    "start_time": "2024-11-18T17:11:19.372Z"
   },
   {
    "duration": 79,
    "start_time": "2024-11-18T17:11:19.389Z"
   },
   {
    "duration": 9,
    "start_time": "2024-11-18T17:11:19.469Z"
   },
   {
    "duration": 176,
    "start_time": "2024-11-18T17:11:19.480Z"
   },
   {
    "duration": 8,
    "start_time": "2024-11-18T17:11:19.658Z"
   },
   {
    "duration": 195,
    "start_time": "2024-11-18T17:11:19.668Z"
   },
   {
    "duration": 8,
    "start_time": "2024-11-18T17:11:19.865Z"
   },
   {
    "duration": 8,
    "start_time": "2024-11-18T17:11:19.875Z"
   },
   {
    "duration": 334,
    "start_time": "2024-11-18T17:11:19.884Z"
   },
   {
    "duration": 1921,
    "start_time": "2024-11-18T17:11:20.220Z"
   },
   {
    "duration": 39,
    "start_time": "2024-11-18T17:11:22.143Z"
   },
   {
    "duration": 12847,
    "start_time": "2024-11-18T17:11:22.184Z"
   },
   {
    "duration": 642,
    "start_time": "2024-11-18T17:11:35.034Z"
   },
   {
    "duration": 255,
    "start_time": "2024-11-18T17:11:35.679Z"
   },
   {
    "duration": 546,
    "start_time": "2024-11-18T17:11:35.936Z"
   },
   {
    "duration": 307,
    "start_time": "2024-11-18T17:11:36.484Z"
   },
   {
    "duration": 0,
    "start_time": "2024-11-18T17:11:36.793Z"
   },
   {
    "duration": 0,
    "start_time": "2024-11-18T17:11:36.795Z"
   },
   {
    "duration": 0,
    "start_time": "2024-11-18T17:11:36.796Z"
   },
   {
    "duration": 0,
    "start_time": "2024-11-18T17:11:36.797Z"
   },
   {
    "duration": 5701,
    "start_time": "2024-11-18T17:13:40.800Z"
   },
   {
    "duration": 2928,
    "start_time": "2024-11-18T17:13:46.503Z"
   },
   {
    "duration": 71,
    "start_time": "2024-11-18T17:13:49.433Z"
   },
   {
    "duration": 13,
    "start_time": "2024-11-18T17:13:49.506Z"
   },
   {
    "duration": 158,
    "start_time": "2024-11-18T17:13:49.520Z"
   },
   {
    "duration": 174,
    "start_time": "2024-11-18T17:13:49.680Z"
   },
   {
    "duration": 180,
    "start_time": "2024-11-18T17:13:49.855Z"
   },
   {
    "duration": 191,
    "start_time": "2024-11-18T17:13:50.037Z"
   },
   {
    "duration": 174,
    "start_time": "2024-11-18T17:13:50.229Z"
   },
   {
    "duration": 162,
    "start_time": "2024-11-18T17:13:50.405Z"
   },
   {
    "duration": 7,
    "start_time": "2024-11-18T17:13:50.568Z"
   },
   {
    "duration": 245,
    "start_time": "2024-11-18T17:13:50.576Z"
   },
   {
    "duration": 11,
    "start_time": "2024-11-18T17:13:50.822Z"
   },
   {
    "duration": 51,
    "start_time": "2024-11-18T17:13:50.835Z"
   },
   {
    "duration": 14,
    "start_time": "2024-11-18T17:13:50.888Z"
   },
   {
    "duration": 130,
    "start_time": "2024-11-18T17:13:50.903Z"
   },
   {
    "duration": 336,
    "start_time": "2024-11-18T17:13:51.035Z"
   },
   {
    "duration": 15,
    "start_time": "2024-11-18T17:13:51.373Z"
   },
   {
    "duration": 91,
    "start_time": "2024-11-18T17:13:51.389Z"
   },
   {
    "duration": 8,
    "start_time": "2024-11-18T17:13:51.482Z"
   },
   {
    "duration": 177,
    "start_time": "2024-11-18T17:13:51.492Z"
   },
   {
    "duration": 7,
    "start_time": "2024-11-18T17:13:51.671Z"
   },
   {
    "duration": 184,
    "start_time": "2024-11-18T17:13:51.680Z"
   },
   {
    "duration": 9,
    "start_time": "2024-11-18T17:13:51.866Z"
   },
   {
    "duration": 7,
    "start_time": "2024-11-18T17:13:51.877Z"
   },
   {
    "duration": 336,
    "start_time": "2024-11-18T17:13:51.886Z"
   },
   {
    "duration": 2021,
    "start_time": "2024-11-18T17:13:52.224Z"
   },
   {
    "duration": 43,
    "start_time": "2024-11-18T17:13:54.248Z"
   },
   {
    "duration": 12782,
    "start_time": "2024-11-18T17:13:54.293Z"
   },
   {
    "duration": 415,
    "start_time": "2024-11-18T17:14:07.076Z"
   },
   {
    "duration": 0,
    "start_time": "2024-11-18T17:14:07.493Z"
   },
   {
    "duration": 0,
    "start_time": "2024-11-18T17:14:07.494Z"
   },
   {
    "duration": 0,
    "start_time": "2024-11-18T17:14:07.495Z"
   },
   {
    "duration": 0,
    "start_time": "2024-11-18T17:14:07.497Z"
   },
   {
    "duration": 0,
    "start_time": "2024-11-18T17:14:07.498Z"
   },
   {
    "duration": 0,
    "start_time": "2024-11-18T17:14:07.499Z"
   },
   {
    "duration": 541,
    "start_time": "2024-11-18T17:20:15.438Z"
   },
   {
    "duration": 704,
    "start_time": "2024-11-18T17:20:23.098Z"
   },
   {
    "duration": 69,
    "start_time": "2024-11-18T17:20:23.804Z"
   },
   {
    "duration": 582,
    "start_time": "2024-11-18T17:20:23.921Z"
   },
   {
    "duration": 80,
    "start_time": "2024-11-18T17:20:25.096Z"
   },
   {
    "duration": 599,
    "start_time": "2024-11-18T17:20:25.496Z"
   },
   {
    "duration": 4,
    "start_time": "2024-11-18T17:20:26.097Z"
   },
   {
    "duration": 701,
    "start_time": "2024-11-18T17:20:26.177Z"
   },
   {
    "duration": 78,
    "start_time": "2024-11-18T17:23:49.198Z"
   },
   {
    "duration": 5966,
    "start_time": "2024-11-18T17:24:02.288Z"
   },
   {
    "duration": 3296,
    "start_time": "2024-11-18T17:24:08.257Z"
   },
   {
    "duration": 74,
    "start_time": "2024-11-18T17:24:11.555Z"
   },
   {
    "duration": 13,
    "start_time": "2024-11-18T17:24:11.630Z"
   },
   {
    "duration": 153,
    "start_time": "2024-11-18T17:24:11.645Z"
   },
   {
    "duration": 175,
    "start_time": "2024-11-18T17:24:11.800Z"
   },
   {
    "duration": 185,
    "start_time": "2024-11-18T17:24:11.977Z"
   },
   {
    "duration": 195,
    "start_time": "2024-11-18T17:24:12.163Z"
   },
   {
    "duration": 175,
    "start_time": "2024-11-18T17:24:12.360Z"
   },
   {
    "duration": 159,
    "start_time": "2024-11-18T17:24:12.536Z"
   },
   {
    "duration": 7,
    "start_time": "2024-11-18T17:24:12.697Z"
   },
   {
    "duration": 258,
    "start_time": "2024-11-18T17:24:12.705Z"
   },
   {
    "duration": 11,
    "start_time": "2024-11-18T17:24:12.965Z"
   },
   {
    "duration": 10,
    "start_time": "2024-11-18T17:24:12.978Z"
   },
   {
    "duration": 23,
    "start_time": "2024-11-18T17:24:12.990Z"
   },
   {
    "duration": 148,
    "start_time": "2024-11-18T17:24:13.015Z"
   },
   {
    "duration": 351,
    "start_time": "2024-11-18T17:24:13.164Z"
   },
   {
    "duration": 16,
    "start_time": "2024-11-18T17:24:13.516Z"
   },
   {
    "duration": 33,
    "start_time": "2024-11-18T17:24:13.533Z"
   },
   {
    "duration": 8,
    "start_time": "2024-11-18T17:24:13.568Z"
   },
   {
    "duration": 179,
    "start_time": "2024-11-18T17:24:13.578Z"
   },
   {
    "duration": 8,
    "start_time": "2024-11-18T17:24:13.759Z"
   },
   {
    "duration": 229,
    "start_time": "2024-11-18T17:24:13.769Z"
   },
   {
    "duration": 11,
    "start_time": "2024-11-18T17:24:14.000Z"
   },
   {
    "duration": 7,
    "start_time": "2024-11-18T17:24:14.013Z"
   },
   {
    "duration": 304,
    "start_time": "2024-11-18T17:24:14.022Z"
   },
   {
    "duration": 1884,
    "start_time": "2024-11-18T17:24:14.329Z"
   },
   {
    "duration": 39,
    "start_time": "2024-11-18T17:24:16.215Z"
   },
   {
    "duration": 12682,
    "start_time": "2024-11-18T17:24:16.256Z"
   },
   {
    "duration": 639,
    "start_time": "2024-11-18T17:24:28.940Z"
   },
   {
    "duration": 238,
    "start_time": "2024-11-18T17:24:29.580Z"
   },
   {
    "duration": 583,
    "start_time": "2024-11-18T17:24:29.819Z"
   },
   {
    "duration": 366,
    "start_time": "2024-11-18T17:24:30.404Z"
   },
   {
    "duration": 0,
    "start_time": "2024-11-18T17:24:30.772Z"
   },
   {
    "duration": 0,
    "start_time": "2024-11-18T17:24:30.773Z"
   },
   {
    "duration": 0,
    "start_time": "2024-11-18T17:24:30.774Z"
   },
   {
    "duration": 0,
    "start_time": "2024-11-18T17:24:30.775Z"
   },
   {
    "duration": 38,
    "start_time": "2024-11-18T17:29:46.561Z"
   },
   {
    "duration": 38,
    "start_time": "2024-11-18T17:29:56.324Z"
   },
   {
    "duration": 5691,
    "start_time": "2024-11-18T17:30:12.479Z"
   },
   {
    "duration": 3100,
    "start_time": "2024-11-18T17:30:18.172Z"
   },
   {
    "duration": 74,
    "start_time": "2024-11-18T17:30:21.274Z"
   },
   {
    "duration": 21,
    "start_time": "2024-11-18T17:30:21.351Z"
   },
   {
    "duration": 167,
    "start_time": "2024-11-18T17:30:21.374Z"
   },
   {
    "duration": 183,
    "start_time": "2024-11-18T17:30:21.543Z"
   },
   {
    "duration": 177,
    "start_time": "2024-11-18T17:30:21.728Z"
   },
   {
    "duration": 203,
    "start_time": "2024-11-18T17:30:21.907Z"
   },
   {
    "duration": 181,
    "start_time": "2024-11-18T17:30:22.111Z"
   },
   {
    "duration": 166,
    "start_time": "2024-11-18T17:30:22.294Z"
   },
   {
    "duration": 8,
    "start_time": "2024-11-18T17:30:22.461Z"
   },
   {
    "duration": 263,
    "start_time": "2024-11-18T17:30:22.471Z"
   },
   {
    "duration": 20,
    "start_time": "2024-11-18T17:30:22.736Z"
   },
   {
    "duration": 9,
    "start_time": "2024-11-18T17:30:22.758Z"
   },
   {
    "duration": 9,
    "start_time": "2024-11-18T17:30:22.768Z"
   },
   {
    "duration": 160,
    "start_time": "2024-11-18T17:30:22.779Z"
   },
   {
    "duration": 341,
    "start_time": "2024-11-18T17:30:22.941Z"
   },
   {
    "duration": 16,
    "start_time": "2024-11-18T17:30:23.283Z"
   },
   {
    "duration": 16,
    "start_time": "2024-11-18T17:30:23.301Z"
   },
   {
    "duration": 9,
    "start_time": "2024-11-18T17:30:23.318Z"
   },
   {
    "duration": 180,
    "start_time": "2024-11-18T17:30:23.353Z"
   },
   {
    "duration": 8,
    "start_time": "2024-11-18T17:30:23.535Z"
   },
   {
    "duration": 190,
    "start_time": "2024-11-18T17:30:23.553Z"
   },
   {
    "duration": 12,
    "start_time": "2024-11-18T17:30:23.744Z"
   },
   {
    "duration": 12,
    "start_time": "2024-11-18T17:30:23.758Z"
   },
   {
    "duration": 352,
    "start_time": "2024-11-18T17:30:23.772Z"
   },
   {
    "duration": 1914,
    "start_time": "2024-11-18T17:30:24.125Z"
   },
   {
    "duration": 41,
    "start_time": "2024-11-18T17:30:26.044Z"
   },
   {
    "duration": 13106,
    "start_time": "2024-11-18T17:30:26.087Z"
   },
   {
    "duration": 637,
    "start_time": "2024-11-18T17:30:39.195Z"
   },
   {
    "duration": 253,
    "start_time": "2024-11-18T17:30:39.834Z"
   },
   {
    "duration": 586,
    "start_time": "2024-11-18T17:30:40.089Z"
   },
   {
    "duration": 324,
    "start_time": "2024-11-18T17:30:40.677Z"
   },
   {
    "duration": 0,
    "start_time": "2024-11-18T17:30:41.003Z"
   },
   {
    "duration": 0,
    "start_time": "2024-11-18T17:30:41.004Z"
   },
   {
    "duration": 0,
    "start_time": "2024-11-18T17:30:41.005Z"
   },
   {
    "duration": 0,
    "start_time": "2024-11-18T17:30:41.007Z"
   },
   {
    "duration": 88,
    "start_time": "2024-11-18T17:38:00.296Z"
   },
   {
    "duration": 60,
    "start_time": "2024-11-18T17:39:56.225Z"
   },
   {
    "duration": 92,
    "start_time": "2024-11-18T17:43:29.860Z"
   },
   {
    "duration": 6054,
    "start_time": "2024-11-18T17:43:43.456Z"
   },
   {
    "duration": 3170,
    "start_time": "2024-11-18T17:43:49.513Z"
   },
   {
    "duration": 74,
    "start_time": "2024-11-18T17:43:52.688Z"
   },
   {
    "duration": 15,
    "start_time": "2024-11-18T17:43:52.764Z"
   },
   {
    "duration": 176,
    "start_time": "2024-11-18T17:43:52.782Z"
   },
   {
    "duration": 186,
    "start_time": "2024-11-18T17:43:52.960Z"
   },
   {
    "duration": 179,
    "start_time": "2024-11-18T17:43:53.151Z"
   },
   {
    "duration": 202,
    "start_time": "2024-11-18T17:43:53.332Z"
   },
   {
    "duration": 189,
    "start_time": "2024-11-18T17:43:53.537Z"
   },
   {
    "duration": 179,
    "start_time": "2024-11-18T17:43:53.728Z"
   },
   {
    "duration": 11,
    "start_time": "2024-11-18T17:43:53.910Z"
   },
   {
    "duration": 285,
    "start_time": "2024-11-18T17:43:53.923Z"
   },
   {
    "duration": 14,
    "start_time": "2024-11-18T17:43:54.209Z"
   },
   {
    "duration": 28,
    "start_time": "2024-11-18T17:43:54.225Z"
   },
   {
    "duration": 10,
    "start_time": "2024-11-18T17:43:54.255Z"
   },
   {
    "duration": 168,
    "start_time": "2024-11-18T17:43:54.267Z"
   },
   {
    "duration": 356,
    "start_time": "2024-11-18T17:43:54.438Z"
   },
   {
    "duration": 18,
    "start_time": "2024-11-18T17:43:54.796Z"
   },
   {
    "duration": 37,
    "start_time": "2024-11-18T17:43:54.815Z"
   },
   {
    "duration": 10,
    "start_time": "2024-11-18T17:43:54.855Z"
   },
   {
    "duration": 185,
    "start_time": "2024-11-18T17:43:54.867Z"
   },
   {
    "duration": 8,
    "start_time": "2024-11-18T17:43:55.054Z"
   },
   {
    "duration": 193,
    "start_time": "2024-11-18T17:43:55.064Z"
   },
   {
    "duration": 8,
    "start_time": "2024-11-18T17:43:55.258Z"
   },
   {
    "duration": 13,
    "start_time": "2024-11-18T17:43:55.268Z"
   },
   {
    "duration": 340,
    "start_time": "2024-11-18T17:43:55.282Z"
   },
   {
    "duration": 1942,
    "start_time": "2024-11-18T17:43:55.626Z"
   },
   {
    "duration": 41,
    "start_time": "2024-11-18T17:43:57.571Z"
   },
   {
    "duration": 13106,
    "start_time": "2024-11-18T17:43:57.614Z"
   },
   {
    "duration": 685,
    "start_time": "2024-11-18T17:44:10.722Z"
   },
   {
    "duration": 261,
    "start_time": "2024-11-18T17:44:11.409Z"
   },
   {
    "duration": 621,
    "start_time": "2024-11-18T17:44:11.672Z"
   },
   {
    "duration": 361,
    "start_time": "2024-11-18T17:44:12.295Z"
   },
   {
    "duration": 0,
    "start_time": "2024-11-18T17:44:12.658Z"
   },
   {
    "duration": 0,
    "start_time": "2024-11-18T17:44:12.659Z"
   },
   {
    "duration": 0,
    "start_time": "2024-11-18T17:44:12.660Z"
   },
   {
    "duration": 0,
    "start_time": "2024-11-18T17:44:12.661Z"
   },
   {
    "duration": 88,
    "start_time": "2024-11-18T17:49:30.936Z"
   },
   {
    "duration": 41,
    "start_time": "2024-11-18T17:49:57.479Z"
   },
   {
    "duration": 8844,
    "start_time": "2024-11-18T17:50:09.272Z"
   },
   {
    "duration": 587,
    "start_time": "2024-11-18T17:50:18.118Z"
   },
   {
    "duration": 108,
    "start_time": "2024-11-18T17:50:18.707Z"
   },
   {
    "duration": 592,
    "start_time": "2024-11-18T17:50:18.818Z"
   },
   {
    "duration": 85,
    "start_time": "2024-11-18T17:50:19.698Z"
   },
   {
    "duration": 6214,
    "start_time": "2024-11-18T17:50:50.754Z"
   },
   {
    "duration": 3231,
    "start_time": "2024-11-18T17:50:56.970Z"
   },
   {
    "duration": 77,
    "start_time": "2024-11-18T17:51:00.203Z"
   },
   {
    "duration": 14,
    "start_time": "2024-11-18T17:51:00.282Z"
   },
   {
    "duration": 179,
    "start_time": "2024-11-18T17:51:00.298Z"
   },
   {
    "duration": 190,
    "start_time": "2024-11-18T17:51:00.479Z"
   },
   {
    "duration": 198,
    "start_time": "2024-11-18T17:51:00.670Z"
   },
   {
    "duration": 210,
    "start_time": "2024-11-18T17:51:00.870Z"
   },
   {
    "duration": 191,
    "start_time": "2024-11-18T17:51:01.081Z"
   },
   {
    "duration": 173,
    "start_time": "2024-11-18T17:51:01.274Z"
   },
   {
    "duration": 19,
    "start_time": "2024-11-18T17:51:01.452Z"
   },
   {
    "duration": 258,
    "start_time": "2024-11-18T17:51:01.473Z"
   },
   {
    "duration": 22,
    "start_time": "2024-11-18T17:51:01.733Z"
   },
   {
    "duration": 12,
    "start_time": "2024-11-18T17:51:01.761Z"
   },
   {
    "duration": 53,
    "start_time": "2024-11-18T17:51:01.774Z"
   },
   {
    "duration": 147,
    "start_time": "2024-11-18T17:51:01.829Z"
   },
   {
    "duration": 406,
    "start_time": "2024-11-18T17:51:01.978Z"
   },
   {
    "duration": 16,
    "start_time": "2024-11-18T17:51:02.386Z"
   },
   {
    "duration": 33,
    "start_time": "2024-11-18T17:51:02.404Z"
   },
   {
    "duration": 22,
    "start_time": "2024-11-18T17:51:02.439Z"
   },
   {
    "duration": 186,
    "start_time": "2024-11-18T17:51:02.463Z"
   },
   {
    "duration": 13,
    "start_time": "2024-11-18T17:51:02.651Z"
   },
   {
    "duration": 181,
    "start_time": "2024-11-18T17:51:02.669Z"
   },
   {
    "duration": 13,
    "start_time": "2024-11-18T17:51:02.855Z"
   },
   {
    "duration": 6,
    "start_time": "2024-11-18T17:51:02.870Z"
   },
   {
    "duration": 465,
    "start_time": "2024-11-18T17:51:02.877Z"
   },
   {
    "duration": 2059,
    "start_time": "2024-11-18T17:51:03.354Z"
   },
   {
    "duration": 44,
    "start_time": "2024-11-18T17:51:05.416Z"
   },
   {
    "duration": 9054,
    "start_time": "2024-11-18T17:51:05.466Z"
   },
   {
    "duration": 842,
    "start_time": "2024-11-18T17:51:14.521Z"
   },
   {
    "duration": 60,
    "start_time": "2024-11-18T17:51:15.365Z"
   },
   {
    "duration": 627,
    "start_time": "2024-11-18T17:51:15.427Z"
   },
   {
    "duration": 390,
    "start_time": "2024-11-18T17:51:16.057Z"
   },
   {
    "duration": 0,
    "start_time": "2024-11-18T17:51:16.456Z"
   },
   {
    "duration": 0,
    "start_time": "2024-11-18T17:51:16.457Z"
   },
   {
    "duration": 0,
    "start_time": "2024-11-18T17:51:16.457Z"
   },
   {
    "duration": 0,
    "start_time": "2024-11-18T17:51:16.461Z"
   },
   {
    "duration": 6152,
    "start_time": "2024-11-18T17:54:11.018Z"
   },
   {
    "duration": 3309,
    "start_time": "2024-11-18T17:54:17.174Z"
   },
   {
    "duration": 85,
    "start_time": "2024-11-18T17:54:20.485Z"
   },
   {
    "duration": 14,
    "start_time": "2024-11-18T17:54:20.572Z"
   },
   {
    "duration": 162,
    "start_time": "2024-11-18T17:54:20.588Z"
   },
   {
    "duration": 206,
    "start_time": "2024-11-18T17:54:20.752Z"
   },
   {
    "duration": 185,
    "start_time": "2024-11-18T17:54:20.964Z"
   },
   {
    "duration": 206,
    "start_time": "2024-11-18T17:54:21.153Z"
   },
   {
    "duration": 209,
    "start_time": "2024-11-18T17:54:21.367Z"
   },
   {
    "duration": 212,
    "start_time": "2024-11-18T17:54:21.579Z"
   },
   {
    "duration": 9,
    "start_time": "2024-11-18T17:54:21.793Z"
   },
   {
    "duration": 288,
    "start_time": "2024-11-18T17:54:21.804Z"
   },
   {
    "duration": 13,
    "start_time": "2024-11-18T17:54:22.093Z"
   },
   {
    "duration": 11,
    "start_time": "2024-11-18T17:54:22.107Z"
   },
   {
    "duration": 41,
    "start_time": "2024-11-18T17:54:22.120Z"
   },
   {
    "duration": 141,
    "start_time": "2024-11-18T17:54:22.170Z"
   },
   {
    "duration": 390,
    "start_time": "2024-11-18T17:54:22.313Z"
   },
   {
    "duration": 17,
    "start_time": "2024-11-18T17:54:22.706Z"
   },
   {
    "duration": 39,
    "start_time": "2024-11-18T17:54:22.725Z"
   },
   {
    "duration": 10,
    "start_time": "2024-11-18T17:54:22.766Z"
   },
   {
    "duration": 200,
    "start_time": "2024-11-18T17:54:22.778Z"
   },
   {
    "duration": 8,
    "start_time": "2024-11-18T17:54:22.980Z"
   },
   {
    "duration": 216,
    "start_time": "2024-11-18T17:54:22.989Z"
   },
   {
    "duration": 9,
    "start_time": "2024-11-18T17:54:23.207Z"
   },
   {
    "duration": 12,
    "start_time": "2024-11-18T17:54:23.218Z"
   },
   {
    "duration": 323,
    "start_time": "2024-11-18T17:54:23.232Z"
   },
   {
    "duration": 2126,
    "start_time": "2024-11-18T17:54:23.567Z"
   },
   {
    "duration": 39,
    "start_time": "2024-11-18T17:54:25.696Z"
   },
   {
    "duration": 11688,
    "start_time": "2024-11-18T17:54:25.737Z"
   },
   {
    "duration": 190,
    "start_time": "2024-11-18T17:54:37.427Z"
   },
   {
    "duration": 991,
    "start_time": "2024-11-18T17:54:37.619Z"
   },
   {
    "duration": 429,
    "start_time": "2024-11-18T17:54:38.612Z"
   },
   {
    "duration": 0,
    "start_time": "2024-11-18T17:54:39.043Z"
   },
   {
    "duration": 0,
    "start_time": "2024-11-18T17:54:39.045Z"
   },
   {
    "duration": 0,
    "start_time": "2024-11-18T17:54:39.046Z"
   },
   {
    "duration": 1,
    "start_time": "2024-11-18T17:54:39.046Z"
   },
   {
    "duration": 6188,
    "start_time": "2024-11-18T17:56:55.106Z"
   },
   {
    "duration": 3284,
    "start_time": "2024-11-18T17:57:01.298Z"
   },
   {
    "duration": 87,
    "start_time": "2024-11-18T17:57:04.584Z"
   },
   {
    "duration": 19,
    "start_time": "2024-11-18T17:57:04.675Z"
   },
   {
    "duration": 176,
    "start_time": "2024-11-18T17:57:04.696Z"
   },
   {
    "duration": 201,
    "start_time": "2024-11-18T17:57:04.873Z"
   },
   {
    "duration": 199,
    "start_time": "2024-11-18T17:57:05.077Z"
   },
   {
    "duration": 214,
    "start_time": "2024-11-18T17:57:05.278Z"
   },
   {
    "duration": 199,
    "start_time": "2024-11-18T17:57:05.494Z"
   },
   {
    "duration": 194,
    "start_time": "2024-11-18T17:57:05.696Z"
   },
   {
    "duration": 9,
    "start_time": "2024-11-18T17:57:05.892Z"
   },
   {
    "duration": 280,
    "start_time": "2024-11-18T17:57:05.903Z"
   },
   {
    "duration": 13,
    "start_time": "2024-11-18T17:57:06.185Z"
   },
   {
    "duration": 15,
    "start_time": "2024-11-18T17:57:06.200Z"
   },
   {
    "duration": 49,
    "start_time": "2024-11-18T17:57:06.216Z"
   },
   {
    "duration": 137,
    "start_time": "2024-11-18T17:57:06.267Z"
   },
   {
    "duration": 378,
    "start_time": "2024-11-18T17:57:06.406Z"
   },
   {
    "duration": 16,
    "start_time": "2024-11-18T17:57:06.786Z"
   },
   {
    "duration": 24,
    "start_time": "2024-11-18T17:57:06.804Z"
   },
   {
    "duration": 41,
    "start_time": "2024-11-18T17:57:06.830Z"
   },
   {
    "duration": 207,
    "start_time": "2024-11-18T17:57:06.873Z"
   },
   {
    "duration": 8,
    "start_time": "2024-11-18T17:57:07.082Z"
   },
   {
    "duration": 214,
    "start_time": "2024-11-18T17:57:07.092Z"
   },
   {
    "duration": 9,
    "start_time": "2024-11-18T17:57:07.307Z"
   },
   {
    "duration": 7,
    "start_time": "2024-11-18T17:57:07.318Z"
   },
   {
    "duration": 311,
    "start_time": "2024-11-18T17:57:07.327Z"
   },
   {
    "duration": 2205,
    "start_time": "2024-11-18T17:57:07.640Z"
   },
   {
    "duration": 63,
    "start_time": "2024-11-18T17:57:09.850Z"
   },
   {
    "duration": 10671,
    "start_time": "2024-11-18T17:57:09.916Z"
   },
   {
    "duration": 138,
    "start_time": "2024-11-18T17:57:20.589Z"
   },
   {
    "duration": 397,
    "start_time": "2024-11-18T17:57:20.729Z"
   },
   {
    "duration": 0,
    "start_time": "2024-11-18T17:57:21.129Z"
   },
   {
    "duration": 0,
    "start_time": "2024-11-18T17:57:21.131Z"
   },
   {
    "duration": 0,
    "start_time": "2024-11-18T17:57:21.132Z"
   },
   {
    "duration": 0,
    "start_time": "2024-11-18T17:57:21.134Z"
   },
   {
    "duration": 6205,
    "start_time": "2024-11-18T17:59:00.777Z"
   },
   {
    "duration": 3429,
    "start_time": "2024-11-18T17:59:06.985Z"
   },
   {
    "duration": 91,
    "start_time": "2024-11-18T17:59:10.416Z"
   },
   {
    "duration": 19,
    "start_time": "2024-11-18T17:59:10.509Z"
   },
   {
    "duration": 245,
    "start_time": "2024-11-18T17:59:10.531Z"
   },
   {
    "duration": 203,
    "start_time": "2024-11-18T17:59:10.782Z"
   },
   {
    "duration": 222,
    "start_time": "2024-11-18T17:59:10.987Z"
   },
   {
    "duration": 217,
    "start_time": "2024-11-18T17:59:11.211Z"
   },
   {
    "duration": 231,
    "start_time": "2024-11-18T17:59:11.430Z"
   },
   {
    "duration": 173,
    "start_time": "2024-11-18T17:59:11.663Z"
   },
   {
    "duration": 20,
    "start_time": "2024-11-18T17:59:11.837Z"
   },
   {
    "duration": 264,
    "start_time": "2024-11-18T17:59:11.859Z"
   },
   {
    "duration": 26,
    "start_time": "2024-11-18T17:59:12.126Z"
   },
   {
    "duration": 21,
    "start_time": "2024-11-18T17:59:12.158Z"
   },
   {
    "duration": 9,
    "start_time": "2024-11-18T17:59:12.181Z"
   },
   {
    "duration": 162,
    "start_time": "2024-11-18T17:59:12.192Z"
   },
   {
    "duration": 381,
    "start_time": "2024-11-18T17:59:12.362Z"
   },
   {
    "duration": 35,
    "start_time": "2024-11-18T17:59:12.744Z"
   },
   {
    "duration": 26,
    "start_time": "2024-11-18T17:59:12.781Z"
   },
   {
    "duration": 10,
    "start_time": "2024-11-18T17:59:12.810Z"
   },
   {
    "duration": 196,
    "start_time": "2024-11-18T17:59:12.822Z"
   },
   {
    "duration": 7,
    "start_time": "2024-11-18T17:59:13.020Z"
   },
   {
    "duration": 192,
    "start_time": "2024-11-18T17:59:13.029Z"
   },
   {
    "duration": 8,
    "start_time": "2024-11-18T17:59:13.223Z"
   },
   {
    "duration": 24,
    "start_time": "2024-11-18T17:59:13.232Z"
   },
   {
    "duration": 306,
    "start_time": "2024-11-18T17:59:13.257Z"
   },
   {
    "duration": 2006,
    "start_time": "2024-11-18T17:59:13.571Z"
   },
   {
    "duration": 38,
    "start_time": "2024-11-18T17:59:15.578Z"
   },
   {
    "duration": 9667,
    "start_time": "2024-11-18T17:59:15.617Z"
   },
   {
    "duration": 962,
    "start_time": "2024-11-18T17:59:25.286Z"
   },
   {
    "duration": 69,
    "start_time": "2024-11-18T17:59:26.250Z"
   },
   {
    "duration": 679,
    "start_time": "2024-11-18T17:59:26.322Z"
   },
   {
    "duration": 410,
    "start_time": "2024-11-18T17:59:27.003Z"
   },
   {
    "duration": 0,
    "start_time": "2024-11-18T17:59:27.415Z"
   },
   {
    "duration": 0,
    "start_time": "2024-11-18T17:59:27.417Z"
   },
   {
    "duration": 0,
    "start_time": "2024-11-18T17:59:27.418Z"
   },
   {
    "duration": 0,
    "start_time": "2024-11-18T17:59:27.419Z"
   },
   {
    "duration": 44,
    "start_time": "2024-11-18T18:01:48.244Z"
   },
   {
    "duration": 6211,
    "start_time": "2024-11-18T18:01:56.710Z"
   },
   {
    "duration": 3351,
    "start_time": "2024-11-18T18:02:02.925Z"
   },
   {
    "duration": 72,
    "start_time": "2024-11-18T18:02:06.277Z"
   },
   {
    "duration": 19,
    "start_time": "2024-11-18T18:02:06.358Z"
   },
   {
    "duration": 162,
    "start_time": "2024-11-18T18:02:06.379Z"
   },
   {
    "duration": 192,
    "start_time": "2024-11-18T18:02:06.542Z"
   },
   {
    "duration": 192,
    "start_time": "2024-11-18T18:02:06.735Z"
   },
   {
    "duration": 206,
    "start_time": "2024-11-18T18:02:06.929Z"
   },
   {
    "duration": 193,
    "start_time": "2024-11-18T18:02:07.137Z"
   },
   {
    "duration": 178,
    "start_time": "2024-11-18T18:02:07.333Z"
   },
   {
    "duration": 12,
    "start_time": "2024-11-18T18:02:07.513Z"
   },
   {
    "duration": 346,
    "start_time": "2024-11-18T18:02:07.527Z"
   },
   {
    "duration": 16,
    "start_time": "2024-11-18T18:02:07.875Z"
   },
   {
    "duration": 23,
    "start_time": "2024-11-18T18:02:07.893Z"
   },
   {
    "duration": 28,
    "start_time": "2024-11-18T18:02:07.918Z"
   },
   {
    "duration": 148,
    "start_time": "2024-11-18T18:02:07.953Z"
   },
   {
    "duration": 404,
    "start_time": "2024-11-18T18:02:08.103Z"
   },
   {
    "duration": 17,
    "start_time": "2024-11-18T18:02:08.509Z"
   },
   {
    "duration": 47,
    "start_time": "2024-11-18T18:02:08.527Z"
   },
   {
    "duration": 9,
    "start_time": "2024-11-18T18:02:08.575Z"
   },
   {
    "duration": 201,
    "start_time": "2024-11-18T18:02:08.586Z"
   },
   {
    "duration": 9,
    "start_time": "2024-11-18T18:02:08.788Z"
   },
   {
    "duration": 205,
    "start_time": "2024-11-18T18:02:08.798Z"
   },
   {
    "duration": 9,
    "start_time": "2024-11-18T18:02:09.004Z"
   },
   {
    "duration": 35,
    "start_time": "2024-11-18T18:02:09.015Z"
   },
   {
    "duration": 321,
    "start_time": "2024-11-18T18:02:09.052Z"
   },
   {
    "duration": 2059,
    "start_time": "2024-11-18T18:02:09.374Z"
   },
   {
    "duration": 58,
    "start_time": "2024-11-18T18:02:11.438Z"
   },
   {
    "duration": 10062,
    "start_time": "2024-11-18T18:02:11.498Z"
   },
   {
    "duration": 878,
    "start_time": "2024-11-18T18:02:21.562Z"
   },
   {
    "duration": 73,
    "start_time": "2024-11-18T18:02:22.443Z"
   },
   {
    "duration": 736,
    "start_time": "2024-11-18T18:02:22.518Z"
   },
   {
    "duration": 450,
    "start_time": "2024-11-18T18:02:23.256Z"
   },
   {
    "duration": 0,
    "start_time": "2024-11-18T18:02:23.708Z"
   },
   {
    "duration": 0,
    "start_time": "2024-11-18T18:02:23.709Z"
   },
   {
    "duration": 0,
    "start_time": "2024-11-18T18:02:23.711Z"
   },
   {
    "duration": 0,
    "start_time": "2024-11-18T18:02:23.712Z"
   },
   {
    "duration": 82,
    "start_time": "2024-11-18T18:04:50.918Z"
   },
   {
    "duration": 6209,
    "start_time": "2024-11-18T18:05:00.339Z"
   },
   {
    "duration": 3420,
    "start_time": "2024-11-18T18:05:06.551Z"
   },
   {
    "duration": 72,
    "start_time": "2024-11-18T18:05:09.972Z"
   },
   {
    "duration": 25,
    "start_time": "2024-11-18T18:05:10.046Z"
   },
   {
    "duration": 159,
    "start_time": "2024-11-18T18:05:10.072Z"
   },
   {
    "duration": 200,
    "start_time": "2024-11-18T18:05:10.232Z"
   },
   {
    "duration": 188,
    "start_time": "2024-11-18T18:05:10.434Z"
   },
   {
    "duration": 234,
    "start_time": "2024-11-18T18:05:10.624Z"
   },
   {
    "duration": 183,
    "start_time": "2024-11-18T18:05:10.861Z"
   },
   {
    "duration": 181,
    "start_time": "2024-11-18T18:05:11.051Z"
   },
   {
    "duration": 23,
    "start_time": "2024-11-18T18:05:11.233Z"
   },
   {
    "duration": 248,
    "start_time": "2024-11-18T18:05:11.261Z"
   },
   {
    "duration": 12,
    "start_time": "2024-11-18T18:05:11.511Z"
   },
   {
    "duration": 59,
    "start_time": "2024-11-18T18:05:11.524Z"
   },
   {
    "duration": 18,
    "start_time": "2024-11-18T18:05:11.585Z"
   },
   {
    "duration": 133,
    "start_time": "2024-11-18T18:05:11.604Z"
   },
   {
    "duration": 362,
    "start_time": "2024-11-18T18:05:11.739Z"
   },
   {
    "duration": 22,
    "start_time": "2024-11-18T18:05:12.103Z"
   },
   {
    "duration": 42,
    "start_time": "2024-11-18T18:05:12.127Z"
   },
   {
    "duration": 8,
    "start_time": "2024-11-18T18:05:12.175Z"
   },
   {
    "duration": 192,
    "start_time": "2024-11-18T18:05:12.185Z"
   },
   {
    "duration": 8,
    "start_time": "2024-11-18T18:05:12.378Z"
   },
   {
    "duration": 206,
    "start_time": "2024-11-18T18:05:12.388Z"
   },
   {
    "duration": 8,
    "start_time": "2024-11-18T18:05:12.595Z"
   },
   {
    "duration": 9,
    "start_time": "2024-11-18T18:05:12.605Z"
   },
   {
    "duration": 314,
    "start_time": "2024-11-18T18:05:12.616Z"
   },
   {
    "duration": 1961,
    "start_time": "2024-11-18T18:05:12.932Z"
   },
   {
    "duration": 37,
    "start_time": "2024-11-18T18:05:14.896Z"
   },
   {
    "duration": 8959,
    "start_time": "2024-11-18T18:05:14.935Z"
   },
   {
    "duration": 913,
    "start_time": "2024-11-18T18:05:23.897Z"
   },
   {
    "duration": 74,
    "start_time": "2024-11-18T18:05:24.812Z"
   },
   {
    "duration": 629,
    "start_time": "2024-11-18T18:05:24.888Z"
   },
   {
    "duration": 416,
    "start_time": "2024-11-18T18:05:25.519Z"
   },
   {
    "duration": 0,
    "start_time": "2024-11-18T18:05:25.938Z"
   },
   {
    "duration": 0,
    "start_time": "2024-11-18T18:05:25.939Z"
   },
   {
    "duration": 0,
    "start_time": "2024-11-18T18:05:25.954Z"
   },
   {
    "duration": 0,
    "start_time": "2024-11-18T18:05:25.959Z"
   },
   {
    "duration": 6006,
    "start_time": "2024-11-18T18:06:15.990Z"
   },
   {
    "duration": 3264,
    "start_time": "2024-11-18T18:06:21.998Z"
   },
   {
    "duration": 73,
    "start_time": "2024-11-18T18:06:25.266Z"
   },
   {
    "duration": 27,
    "start_time": "2024-11-18T18:06:25.340Z"
   },
   {
    "duration": 167,
    "start_time": "2024-11-18T18:06:25.371Z"
   },
   {
    "duration": 190,
    "start_time": "2024-11-18T18:06:25.540Z"
   },
   {
    "duration": 193,
    "start_time": "2024-11-18T18:06:25.731Z"
   },
   {
    "duration": 221,
    "start_time": "2024-11-18T18:06:25.926Z"
   },
   {
    "duration": 192,
    "start_time": "2024-11-18T18:06:26.149Z"
   },
   {
    "duration": 176,
    "start_time": "2024-11-18T18:06:26.343Z"
   },
   {
    "duration": 9,
    "start_time": "2024-11-18T18:06:26.521Z"
   },
   {
    "duration": 266,
    "start_time": "2024-11-18T18:06:26.532Z"
   },
   {
    "duration": 11,
    "start_time": "2024-11-18T18:06:26.800Z"
   },
   {
    "duration": 10,
    "start_time": "2024-11-18T18:06:26.814Z"
   },
   {
    "duration": 43,
    "start_time": "2024-11-18T18:06:26.825Z"
   },
   {
    "duration": 153,
    "start_time": "2024-11-18T18:06:26.869Z"
   },
   {
    "duration": 410,
    "start_time": "2024-11-18T18:06:27.023Z"
   },
   {
    "duration": 35,
    "start_time": "2024-11-18T18:06:27.435Z"
   },
   {
    "duration": 20,
    "start_time": "2024-11-18T18:06:27.474Z"
   },
   {
    "duration": 10,
    "start_time": "2024-11-18T18:06:27.495Z"
   },
   {
    "duration": 205,
    "start_time": "2024-11-18T18:06:27.507Z"
   },
   {
    "duration": 7,
    "start_time": "2024-11-18T18:06:27.714Z"
   },
   {
    "duration": 203,
    "start_time": "2024-11-18T18:06:27.723Z"
   },
   {
    "duration": 9,
    "start_time": "2024-11-18T18:06:27.928Z"
   },
   {
    "duration": 26,
    "start_time": "2024-11-18T18:06:27.938Z"
   },
   {
    "duration": 327,
    "start_time": "2024-11-18T18:06:27.971Z"
   },
   {
    "duration": 2002,
    "start_time": "2024-11-18T18:06:28.299Z"
   },
   {
    "duration": 39,
    "start_time": "2024-11-18T18:06:30.303Z"
   },
   {
    "duration": 9266,
    "start_time": "2024-11-18T18:06:30.343Z"
   },
   {
    "duration": 897,
    "start_time": "2024-11-18T18:06:39.610Z"
   },
   {
    "duration": 69,
    "start_time": "2024-11-18T18:06:40.509Z"
   },
   {
    "duration": 640,
    "start_time": "2024-11-18T18:06:40.579Z"
   },
   {
    "duration": 347,
    "start_time": "2024-11-18T18:06:41.221Z"
   },
   {
    "duration": 0,
    "start_time": "2024-11-18T18:06:41.570Z"
   },
   {
    "duration": 0,
    "start_time": "2024-11-18T18:06:41.572Z"
   },
   {
    "duration": 0,
    "start_time": "2024-11-18T18:06:41.573Z"
   },
   {
    "duration": 0,
    "start_time": "2024-11-18T18:06:41.575Z"
   },
   {
    "duration": 6164,
    "start_time": "2024-11-18T18:08:41.438Z"
   },
   {
    "duration": 3166,
    "start_time": "2024-11-18T18:08:47.605Z"
   },
   {
    "duration": 71,
    "start_time": "2024-11-18T18:08:50.772Z"
   },
   {
    "duration": 21,
    "start_time": "2024-11-18T18:08:50.845Z"
   },
   {
    "duration": 147,
    "start_time": "2024-11-18T18:08:50.868Z"
   },
   {
    "duration": 189,
    "start_time": "2024-11-18T18:08:51.017Z"
   },
   {
    "duration": 178,
    "start_time": "2024-11-18T18:08:51.208Z"
   },
   {
    "duration": 216,
    "start_time": "2024-11-18T18:08:51.388Z"
   },
   {
    "duration": 203,
    "start_time": "2024-11-18T18:08:51.606Z"
   },
   {
    "duration": 173,
    "start_time": "2024-11-18T18:08:51.812Z"
   },
   {
    "duration": 7,
    "start_time": "2024-11-18T18:08:51.987Z"
   },
   {
    "duration": 287,
    "start_time": "2024-11-18T18:08:51.995Z"
   },
   {
    "duration": 13,
    "start_time": "2024-11-18T18:08:52.283Z"
   },
   {
    "duration": 17,
    "start_time": "2024-11-18T18:08:52.297Z"
   },
   {
    "duration": 35,
    "start_time": "2024-11-18T18:08:52.316Z"
   },
   {
    "duration": 141,
    "start_time": "2024-11-18T18:08:52.359Z"
   },
   {
    "duration": 412,
    "start_time": "2024-11-18T18:08:52.502Z"
   },
   {
    "duration": 19,
    "start_time": "2024-11-18T18:08:52.916Z"
   },
   {
    "duration": 42,
    "start_time": "2024-11-18T18:08:52.937Z"
   },
   {
    "duration": 81,
    "start_time": "2024-11-18T18:08:52.981Z"
   },
   {
    "duration": 179,
    "start_time": "2024-11-18T18:08:53.065Z"
   },
   {
    "duration": 20,
    "start_time": "2024-11-18T18:08:53.245Z"
   },
   {
    "duration": 240,
    "start_time": "2024-11-18T18:08:53.274Z"
   },
   {
    "duration": 9,
    "start_time": "2024-11-18T18:08:53.517Z"
   },
   {
    "duration": 54,
    "start_time": "2024-11-18T18:08:53.528Z"
   },
   {
    "duration": 385,
    "start_time": "2024-11-18T18:08:53.584Z"
   },
   {
    "duration": 2034,
    "start_time": "2024-11-18T18:08:53.971Z"
   },
   {
    "duration": 39,
    "start_time": "2024-11-18T18:08:56.008Z"
   },
   {
    "duration": 8694,
    "start_time": "2024-11-18T18:08:56.048Z"
   },
   {
    "duration": 675,
    "start_time": "2024-11-18T18:09:04.744Z"
   },
   {
    "duration": 256,
    "start_time": "2024-11-18T18:09:05.421Z"
   },
   {
    "duration": 643,
    "start_time": "2024-11-18T18:09:05.679Z"
   },
   {
    "duration": 346,
    "start_time": "2024-11-18T18:09:06.324Z"
   },
   {
    "duration": 0,
    "start_time": "2024-11-18T18:09:06.672Z"
   },
   {
    "duration": 0,
    "start_time": "2024-11-18T18:09:06.673Z"
   },
   {
    "duration": 0,
    "start_time": "2024-11-18T18:09:06.674Z"
   },
   {
    "duration": 0,
    "start_time": "2024-11-18T18:09:06.675Z"
   },
   {
    "duration": 5927,
    "start_time": "2024-11-18T18:10:13.975Z"
   },
   {
    "duration": 3112,
    "start_time": "2024-11-18T18:10:19.905Z"
   },
   {
    "duration": 78,
    "start_time": "2024-11-18T18:10:23.019Z"
   },
   {
    "duration": 14,
    "start_time": "2024-11-18T18:10:23.098Z"
   },
   {
    "duration": 181,
    "start_time": "2024-11-18T18:10:23.114Z"
   },
   {
    "duration": 198,
    "start_time": "2024-11-18T18:10:23.297Z"
   },
   {
    "duration": 195,
    "start_time": "2024-11-18T18:10:23.497Z"
   },
   {
    "duration": 208,
    "start_time": "2024-11-18T18:10:23.694Z"
   },
   {
    "duration": 250,
    "start_time": "2024-11-18T18:10:23.905Z"
   },
   {
    "duration": 165,
    "start_time": "2024-11-18T18:10:24.164Z"
   },
   {
    "duration": 8,
    "start_time": "2024-11-18T18:10:24.331Z"
   },
   {
    "duration": 267,
    "start_time": "2024-11-18T18:10:24.352Z"
   },
   {
    "duration": 12,
    "start_time": "2024-11-18T18:10:24.621Z"
   },
   {
    "duration": 35,
    "start_time": "2024-11-18T18:10:24.636Z"
   },
   {
    "duration": 9,
    "start_time": "2024-11-18T18:10:24.673Z"
   },
   {
    "duration": 145,
    "start_time": "2024-11-18T18:10:24.684Z"
   },
   {
    "duration": 368,
    "start_time": "2024-11-18T18:10:24.831Z"
   },
   {
    "duration": 18,
    "start_time": "2024-11-18T18:10:25.201Z"
   },
   {
    "duration": 49,
    "start_time": "2024-11-18T18:10:25.221Z"
   },
   {
    "duration": 9,
    "start_time": "2024-11-18T18:10:25.272Z"
   },
   {
    "duration": 187,
    "start_time": "2024-11-18T18:10:25.283Z"
   },
   {
    "duration": 8,
    "start_time": "2024-11-18T18:10:25.472Z"
   },
   {
    "duration": 208,
    "start_time": "2024-11-18T18:10:25.481Z"
   },
   {
    "duration": 9,
    "start_time": "2024-11-18T18:10:25.690Z"
   },
   {
    "duration": 8,
    "start_time": "2024-11-18T18:10:25.701Z"
   },
   {
    "duration": 347,
    "start_time": "2024-11-18T18:10:25.711Z"
   },
   {
    "duration": 2025,
    "start_time": "2024-11-18T18:10:26.060Z"
   },
   {
    "duration": 40,
    "start_time": "2024-11-18T18:10:28.086Z"
   },
   {
    "duration": 9092,
    "start_time": "2024-11-18T18:10:28.128Z"
   },
   {
    "duration": 143,
    "start_time": "2024-11-18T18:10:37.222Z"
   },
   {
    "duration": 1044,
    "start_time": "2024-11-18T18:10:37.367Z"
   },
   {
    "duration": 351,
    "start_time": "2024-11-18T18:10:38.413Z"
   },
   {
    "duration": 0,
    "start_time": "2024-11-18T18:10:38.769Z"
   },
   {
    "duration": 0,
    "start_time": "2024-11-18T18:10:38.770Z"
   },
   {
    "duration": 0,
    "start_time": "2024-11-18T18:10:38.771Z"
   },
   {
    "duration": 0,
    "start_time": "2024-11-18T18:10:38.772Z"
   },
   {
    "duration": 87,
    "start_time": "2024-11-18T18:12:54.844Z"
   },
   {
    "duration": 6299,
    "start_time": "2024-11-18T18:13:10.278Z"
   },
   {
    "duration": 3306,
    "start_time": "2024-11-18T18:13:16.579Z"
   },
   {
    "duration": 84,
    "start_time": "2024-11-18T18:13:19.886Z"
   },
   {
    "duration": 14,
    "start_time": "2024-11-18T18:13:19.973Z"
   },
   {
    "duration": 185,
    "start_time": "2024-11-18T18:13:19.989Z"
   },
   {
    "duration": 202,
    "start_time": "2024-11-18T18:13:20.176Z"
   },
   {
    "duration": 209,
    "start_time": "2024-11-18T18:13:20.380Z"
   },
   {
    "duration": 205,
    "start_time": "2024-11-18T18:13:20.590Z"
   },
   {
    "duration": 197,
    "start_time": "2024-11-18T18:13:20.797Z"
   },
   {
    "duration": 182,
    "start_time": "2024-11-18T18:13:20.996Z"
   },
   {
    "duration": 7,
    "start_time": "2024-11-18T18:13:21.179Z"
   },
   {
    "duration": 291,
    "start_time": "2024-11-18T18:13:21.188Z"
   },
   {
    "duration": 13,
    "start_time": "2024-11-18T18:13:21.481Z"
   },
   {
    "duration": 10,
    "start_time": "2024-11-18T18:13:21.495Z"
   },
   {
    "duration": 51,
    "start_time": "2024-11-18T18:13:21.507Z"
   },
   {
    "duration": 153,
    "start_time": "2024-11-18T18:13:21.562Z"
   },
   {
    "duration": 396,
    "start_time": "2024-11-18T18:13:21.718Z"
   },
   {
    "duration": 18,
    "start_time": "2024-11-18T18:13:22.115Z"
   },
   {
    "duration": 43,
    "start_time": "2024-11-18T18:13:22.135Z"
   },
   {
    "duration": 13,
    "start_time": "2024-11-18T18:13:22.180Z"
   },
   {
    "duration": 196,
    "start_time": "2024-11-18T18:13:22.196Z"
   },
   {
    "duration": 9,
    "start_time": "2024-11-18T18:13:22.394Z"
   },
   {
    "duration": 206,
    "start_time": "2024-11-18T18:13:22.404Z"
   },
   {
    "duration": 9,
    "start_time": "2024-11-18T18:13:22.611Z"
   },
   {
    "duration": 23,
    "start_time": "2024-11-18T18:13:22.622Z"
   },
   {
    "duration": 310,
    "start_time": "2024-11-18T18:13:22.646Z"
   },
   {
    "duration": 2164,
    "start_time": "2024-11-18T18:13:22.957Z"
   },
   {
    "duration": 65,
    "start_time": "2024-11-18T18:13:25.127Z"
   },
   {
    "duration": 10642,
    "start_time": "2024-11-18T18:13:25.194Z"
   },
   {
    "duration": 149,
    "start_time": "2024-11-18T18:13:35.839Z"
   },
   {
    "duration": 881,
    "start_time": "2024-11-18T18:13:35.990Z"
   },
   {
    "duration": 394,
    "start_time": "2024-11-18T18:13:36.873Z"
   },
   {
    "duration": 0,
    "start_time": "2024-11-18T18:13:37.271Z"
   },
   {
    "duration": 0,
    "start_time": "2024-11-18T18:13:37.273Z"
   },
   {
    "duration": 0,
    "start_time": "2024-11-18T18:13:37.274Z"
   },
   {
    "duration": 0,
    "start_time": "2024-11-18T18:13:37.276Z"
   },
   {
    "duration": 6015,
    "start_time": "2024-11-18T18:17:59.225Z"
   },
   {
    "duration": 3230,
    "start_time": "2024-11-18T18:18:05.243Z"
   },
   {
    "duration": 82,
    "start_time": "2024-11-18T18:18:08.475Z"
   },
   {
    "duration": 15,
    "start_time": "2024-11-18T18:18:08.560Z"
   },
   {
    "duration": 178,
    "start_time": "2024-11-18T18:18:08.577Z"
   },
   {
    "duration": 204,
    "start_time": "2024-11-18T18:18:08.757Z"
   },
   {
    "duration": 180,
    "start_time": "2024-11-18T18:18:08.963Z"
   },
   {
    "duration": 209,
    "start_time": "2024-11-18T18:18:09.152Z"
   },
   {
    "duration": 191,
    "start_time": "2024-11-18T18:18:09.363Z"
   },
   {
    "duration": 175,
    "start_time": "2024-11-18T18:18:09.558Z"
   },
   {
    "duration": 19,
    "start_time": "2024-11-18T18:18:09.736Z"
   },
   {
    "duration": 295,
    "start_time": "2024-11-18T18:18:09.757Z"
   },
   {
    "duration": 13,
    "start_time": "2024-11-18T18:18:10.054Z"
   },
   {
    "duration": 24,
    "start_time": "2024-11-18T18:18:10.069Z"
   },
   {
    "duration": 14,
    "start_time": "2024-11-18T18:18:10.095Z"
   },
   {
    "duration": 183,
    "start_time": "2024-11-18T18:18:10.110Z"
   },
   {
    "duration": 435,
    "start_time": "2024-11-18T18:18:10.295Z"
   },
   {
    "duration": 35,
    "start_time": "2024-11-18T18:18:10.733Z"
   },
   {
    "duration": 20,
    "start_time": "2024-11-18T18:18:10.770Z"
   },
   {
    "duration": 9,
    "start_time": "2024-11-18T18:18:10.792Z"
   },
   {
    "duration": 224,
    "start_time": "2024-11-18T18:18:10.803Z"
   },
   {
    "duration": 11,
    "start_time": "2024-11-18T18:18:11.028Z"
   },
   {
    "duration": 196,
    "start_time": "2024-11-18T18:18:11.053Z"
   },
   {
    "duration": 10,
    "start_time": "2024-11-18T18:18:11.251Z"
   },
   {
    "duration": 13,
    "start_time": "2024-11-18T18:18:11.263Z"
   },
   {
    "duration": 359,
    "start_time": "2024-11-18T18:18:11.278Z"
   },
   {
    "duration": 1969,
    "start_time": "2024-11-18T18:18:11.640Z"
   },
   {
    "duration": 38,
    "start_time": "2024-11-18T18:18:13.614Z"
   },
   {
    "duration": 20081,
    "start_time": "2024-11-18T18:18:13.654Z"
   },
   {
    "duration": 62,
    "start_time": "2024-11-18T18:18:33.737Z"
   },
   {
    "duration": 704,
    "start_time": "2024-11-18T18:18:33.801Z"
   },
   {
    "duration": 427,
    "start_time": "2024-11-18T18:18:34.509Z"
   },
   {
    "duration": 0,
    "start_time": "2024-11-18T18:18:34.939Z"
   },
   {
    "duration": 0,
    "start_time": "2024-11-18T18:18:34.940Z"
   },
   {
    "duration": 0,
    "start_time": "2024-11-18T18:18:34.953Z"
   },
   {
    "duration": 0,
    "start_time": "2024-11-18T18:18:34.954Z"
   },
   {
    "duration": 5969,
    "start_time": "2024-11-18T18:20:05.191Z"
   },
   {
    "duration": 3223,
    "start_time": "2024-11-18T18:20:11.162Z"
   },
   {
    "duration": 82,
    "start_time": "2024-11-18T18:20:14.387Z"
   },
   {
    "duration": 16,
    "start_time": "2024-11-18T18:20:14.472Z"
   },
   {
    "duration": 188,
    "start_time": "2024-11-18T18:20:14.490Z"
   },
   {
    "duration": 243,
    "start_time": "2024-11-18T18:20:14.680Z"
   },
   {
    "duration": 195,
    "start_time": "2024-11-18T18:20:14.926Z"
   },
   {
    "duration": 224,
    "start_time": "2024-11-18T18:20:15.123Z"
   },
   {
    "duration": 180,
    "start_time": "2024-11-18T18:20:15.353Z"
   },
   {
    "duration": 163,
    "start_time": "2024-11-18T18:20:15.536Z"
   },
   {
    "duration": 11,
    "start_time": "2024-11-18T18:20:15.702Z"
   },
   {
    "duration": 280,
    "start_time": "2024-11-18T18:20:15.715Z"
   },
   {
    "duration": 14,
    "start_time": "2024-11-18T18:20:15.997Z"
   },
   {
    "duration": 12,
    "start_time": "2024-11-18T18:20:16.013Z"
   },
   {
    "duration": 32,
    "start_time": "2024-11-18T18:20:16.027Z"
   },
   {
    "duration": 145,
    "start_time": "2024-11-18T18:20:16.061Z"
   },
   {
    "duration": 385,
    "start_time": "2024-11-18T18:20:16.207Z"
   },
   {
    "duration": 17,
    "start_time": "2024-11-18T18:20:16.593Z"
   },
   {
    "duration": 37,
    "start_time": "2024-11-18T18:20:16.611Z"
   },
   {
    "duration": 10,
    "start_time": "2024-11-18T18:20:16.652Z"
   },
   {
    "duration": 207,
    "start_time": "2024-11-18T18:20:16.664Z"
   },
   {
    "duration": 8,
    "start_time": "2024-11-18T18:20:16.873Z"
   },
   {
    "duration": 184,
    "start_time": "2024-11-18T18:20:16.883Z"
   },
   {
    "duration": 9,
    "start_time": "2024-11-18T18:20:17.069Z"
   },
   {
    "duration": 18,
    "start_time": "2024-11-18T18:20:17.079Z"
   },
   {
    "duration": 343,
    "start_time": "2024-11-18T18:20:17.099Z"
   },
   {
    "duration": 1920,
    "start_time": "2024-11-18T18:20:17.452Z"
   },
   {
    "duration": 38,
    "start_time": "2024-11-18T18:20:19.376Z"
   },
   {
    "duration": 9571,
    "start_time": "2024-11-18T18:20:19.415Z"
   },
   {
    "duration": 150,
    "start_time": "2024-11-18T18:20:28.988Z"
   },
   {
    "duration": 762,
    "start_time": "2024-11-18T18:20:29.141Z"
   },
   {
    "duration": 340,
    "start_time": "2024-11-18T18:20:29.905Z"
   },
   {
    "duration": 0,
    "start_time": "2024-11-18T18:20:30.247Z"
   },
   {
    "duration": 0,
    "start_time": "2024-11-18T18:20:30.252Z"
   },
   {
    "duration": 0,
    "start_time": "2024-11-18T18:20:30.254Z"
   },
   {
    "duration": 0,
    "start_time": "2024-11-18T18:20:30.255Z"
   },
   {
    "duration": 5996,
    "start_time": "2024-11-18T18:28:33.713Z"
   },
   {
    "duration": 3169,
    "start_time": "2024-11-18T18:28:39.712Z"
   },
   {
    "duration": 71,
    "start_time": "2024-11-18T18:28:42.883Z"
   },
   {
    "duration": 14,
    "start_time": "2024-11-18T18:28:42.955Z"
   },
   {
    "duration": 184,
    "start_time": "2024-11-18T18:28:42.971Z"
   },
   {
    "duration": 194,
    "start_time": "2024-11-18T18:28:43.156Z"
   },
   {
    "duration": 178,
    "start_time": "2024-11-18T18:28:43.352Z"
   },
   {
    "duration": 220,
    "start_time": "2024-11-18T18:28:43.532Z"
   },
   {
    "duration": 229,
    "start_time": "2024-11-18T18:28:43.754Z"
   },
   {
    "duration": 177,
    "start_time": "2024-11-18T18:28:43.986Z"
   },
   {
    "duration": 7,
    "start_time": "2024-11-18T18:28:44.165Z"
   },
   {
    "duration": 261,
    "start_time": "2024-11-18T18:28:44.174Z"
   },
   {
    "duration": 18,
    "start_time": "2024-11-18T18:28:44.437Z"
   },
   {
    "duration": 12,
    "start_time": "2024-11-18T18:28:44.459Z"
   },
   {
    "duration": 11,
    "start_time": "2024-11-18T18:28:44.474Z"
   },
   {
    "duration": 178,
    "start_time": "2024-11-18T18:28:44.487Z"
   },
   {
    "duration": 422,
    "start_time": "2024-11-18T18:28:44.667Z"
   },
   {
    "duration": 16,
    "start_time": "2024-11-18T18:28:45.091Z"
   },
   {
    "duration": 39,
    "start_time": "2024-11-18T18:28:45.109Z"
   },
   {
    "duration": 11,
    "start_time": "2024-11-18T18:28:45.150Z"
   },
   {
    "duration": 202,
    "start_time": "2024-11-18T18:28:45.162Z"
   },
   {
    "duration": 8,
    "start_time": "2024-11-18T18:28:45.366Z"
   },
   {
    "duration": 193,
    "start_time": "2024-11-18T18:28:45.376Z"
   },
   {
    "duration": 9,
    "start_time": "2024-11-18T18:28:45.571Z"
   },
   {
    "duration": 14,
    "start_time": "2024-11-18T18:28:45.582Z"
   },
   {
    "duration": 325,
    "start_time": "2024-11-18T18:28:45.598Z"
   },
   {
    "duration": 1912,
    "start_time": "2024-11-18T18:28:45.925Z"
   },
   {
    "duration": 38,
    "start_time": "2024-11-18T18:28:47.838Z"
   },
   {
    "duration": 9200,
    "start_time": "2024-11-18T18:28:47.878Z"
   },
   {
    "duration": 135,
    "start_time": "2024-11-18T18:28:57.080Z"
   },
   {
    "duration": 769,
    "start_time": "2024-11-18T18:28:57.217Z"
   },
   {
    "duration": 365,
    "start_time": "2024-11-18T18:28:57.988Z"
   },
   {
    "duration": 0,
    "start_time": "2024-11-18T18:28:58.355Z"
   },
   {
    "duration": 0,
    "start_time": "2024-11-18T18:28:58.356Z"
   },
   {
    "duration": 0,
    "start_time": "2024-11-18T18:28:58.357Z"
   },
   {
    "duration": 0,
    "start_time": "2024-11-18T18:28:58.358Z"
   },
   {
    "duration": 5939,
    "start_time": "2024-11-18T18:33:18.792Z"
   },
   {
    "duration": 3423,
    "start_time": "2024-11-18T18:33:24.734Z"
   },
   {
    "duration": 75,
    "start_time": "2024-11-18T18:33:28.159Z"
   },
   {
    "duration": 12,
    "start_time": "2024-11-18T18:33:28.237Z"
   },
   {
    "duration": 154,
    "start_time": "2024-11-18T18:33:28.251Z"
   },
   {
    "duration": 206,
    "start_time": "2024-11-18T18:33:28.407Z"
   },
   {
    "duration": 179,
    "start_time": "2024-11-18T18:33:28.615Z"
   },
   {
    "duration": 215,
    "start_time": "2024-11-18T18:33:28.797Z"
   },
   {
    "duration": 187,
    "start_time": "2024-11-18T18:33:29.014Z"
   },
   {
    "duration": 178,
    "start_time": "2024-11-18T18:33:29.204Z"
   },
   {
    "duration": 7,
    "start_time": "2024-11-18T18:33:29.384Z"
   },
   {
    "duration": 253,
    "start_time": "2024-11-18T18:33:29.392Z"
   },
   {
    "duration": 19,
    "start_time": "2024-11-18T18:33:29.647Z"
   },
   {
    "duration": 47,
    "start_time": "2024-11-18T18:33:29.667Z"
   },
   {
    "duration": 9,
    "start_time": "2024-11-18T18:33:29.716Z"
   },
   {
    "duration": 132,
    "start_time": "2024-11-18T18:33:29.727Z"
   },
   {
    "duration": 347,
    "start_time": "2024-11-18T18:33:29.861Z"
   },
   {
    "duration": 18,
    "start_time": "2024-11-18T18:33:30.209Z"
   },
   {
    "duration": 41,
    "start_time": "2024-11-18T18:33:30.228Z"
   },
   {
    "duration": 15,
    "start_time": "2024-11-18T18:33:30.271Z"
   },
   {
    "duration": 202,
    "start_time": "2024-11-18T18:33:30.288Z"
   },
   {
    "duration": 12,
    "start_time": "2024-11-18T18:33:30.493Z"
   },
   {
    "duration": 189,
    "start_time": "2024-11-18T18:33:30.507Z"
   },
   {
    "duration": 11,
    "start_time": "2024-11-18T18:33:30.697Z"
   },
   {
    "duration": 6,
    "start_time": "2024-11-18T18:33:30.710Z"
   },
   {
    "duration": 351,
    "start_time": "2024-11-18T18:33:30.718Z"
   },
   {
    "duration": 1982,
    "start_time": "2024-11-18T18:33:31.071Z"
   },
   {
    "duration": 40,
    "start_time": "2024-11-18T18:33:33.057Z"
   },
   {
    "duration": 9603,
    "start_time": "2024-11-18T18:33:33.098Z"
   },
   {
    "duration": 132,
    "start_time": "2024-11-18T18:33:42.703Z"
   },
   {
    "duration": 746,
    "start_time": "2024-11-18T18:33:42.851Z"
   },
   {
    "duration": 355,
    "start_time": "2024-11-18T18:33:43.598Z"
   },
   {
    "duration": 0,
    "start_time": "2024-11-18T18:33:43.956Z"
   },
   {
    "duration": 0,
    "start_time": "2024-11-18T18:33:43.957Z"
   },
   {
    "duration": 0,
    "start_time": "2024-11-18T18:33:43.959Z"
   },
   {
    "duration": 0,
    "start_time": "2024-11-18T18:33:43.961Z"
   },
   {
    "duration": 5989,
    "start_time": "2024-11-18T18:39:40.424Z"
   },
   {
    "duration": 3123,
    "start_time": "2024-11-18T18:39:46.415Z"
   },
   {
    "duration": 77,
    "start_time": "2024-11-18T18:39:49.540Z"
   },
   {
    "duration": 14,
    "start_time": "2024-11-18T18:39:49.619Z"
   },
   {
    "duration": 151,
    "start_time": "2024-11-18T18:39:49.634Z"
   },
   {
    "duration": 181,
    "start_time": "2024-11-18T18:39:49.787Z"
   },
   {
    "duration": 184,
    "start_time": "2024-11-18T18:39:49.970Z"
   },
   {
    "duration": 203,
    "start_time": "2024-11-18T18:39:50.156Z"
   },
   {
    "duration": 176,
    "start_time": "2024-11-18T18:39:50.361Z"
   },
   {
    "duration": 160,
    "start_time": "2024-11-18T18:39:50.540Z"
   },
   {
    "duration": 8,
    "start_time": "2024-11-18T18:39:50.701Z"
   },
   {
    "duration": 255,
    "start_time": "2024-11-18T18:39:50.710Z"
   },
   {
    "duration": 12,
    "start_time": "2024-11-18T18:39:50.967Z"
   },
   {
    "duration": 30,
    "start_time": "2024-11-18T18:39:50.980Z"
   },
   {
    "duration": 28,
    "start_time": "2024-11-18T18:39:51.012Z"
   },
   {
    "duration": 139,
    "start_time": "2024-11-18T18:39:51.042Z"
   },
   {
    "duration": 396,
    "start_time": "2024-11-18T18:39:51.182Z"
   },
   {
    "duration": 15,
    "start_time": "2024-11-18T18:39:51.580Z"
   },
   {
    "duration": 24,
    "start_time": "2024-11-18T18:39:51.596Z"
   },
   {
    "duration": 9,
    "start_time": "2024-11-18T18:39:51.622Z"
   },
   {
    "duration": 165,
    "start_time": "2024-11-18T18:39:51.653Z"
   },
   {
    "duration": 8,
    "start_time": "2024-11-18T18:39:51.820Z"
   },
   {
    "duration": 198,
    "start_time": "2024-11-18T18:39:51.830Z"
   },
   {
    "duration": 8,
    "start_time": "2024-11-18T18:39:52.030Z"
   },
   {
    "duration": 23,
    "start_time": "2024-11-18T18:39:52.040Z"
   },
   {
    "duration": 341,
    "start_time": "2024-11-18T18:39:52.065Z"
   },
   {
    "duration": 1969,
    "start_time": "2024-11-18T18:39:52.408Z"
   },
   {
    "duration": 40,
    "start_time": "2024-11-18T18:39:54.380Z"
   },
   {
    "duration": 13852,
    "start_time": "2024-11-18T18:39:54.421Z"
   },
   {
    "duration": 127,
    "start_time": "2024-11-18T18:40:08.275Z"
   },
   {
    "duration": 783,
    "start_time": "2024-11-18T18:40:08.404Z"
   },
   {
    "duration": 369,
    "start_time": "2024-11-18T18:40:09.189Z"
   },
   {
    "duration": 0,
    "start_time": "2024-11-18T18:40:09.561Z"
   },
   {
    "duration": 0,
    "start_time": "2024-11-18T18:40:09.562Z"
   },
   {
    "duration": 0,
    "start_time": "2024-11-18T18:40:09.564Z"
   },
   {
    "duration": 0,
    "start_time": "2024-11-18T18:40:09.565Z"
   },
   {
    "duration": 81,
    "start_time": "2024-11-18T18:40:25.776Z"
   },
   {
    "duration": 76,
    "start_time": "2024-11-18T18:40:38.671Z"
   },
   {
    "duration": 5604,
    "start_time": "2024-11-18T18:45:43.953Z"
   },
   {
    "duration": 3022,
    "start_time": "2024-11-18T18:45:49.560Z"
   },
   {
    "duration": 74,
    "start_time": "2024-11-18T18:45:52.584Z"
   },
   {
    "duration": 14,
    "start_time": "2024-11-18T18:45:52.660Z"
   },
   {
    "duration": 164,
    "start_time": "2024-11-18T18:45:52.676Z"
   },
   {
    "duration": 182,
    "start_time": "2024-11-18T18:45:52.841Z"
   },
   {
    "duration": 185,
    "start_time": "2024-11-18T18:45:53.026Z"
   },
   {
    "duration": 196,
    "start_time": "2024-11-18T18:45:53.213Z"
   },
   {
    "duration": 183,
    "start_time": "2024-11-18T18:45:53.410Z"
   },
   {
    "duration": 170,
    "start_time": "2024-11-18T18:45:53.596Z"
   },
   {
    "duration": 8,
    "start_time": "2024-11-18T18:45:53.767Z"
   },
   {
    "duration": 298,
    "start_time": "2024-11-18T18:45:53.777Z"
   },
   {
    "duration": 12,
    "start_time": "2024-11-18T18:45:54.077Z"
   },
   {
    "duration": 9,
    "start_time": "2024-11-18T18:45:54.090Z"
   },
   {
    "duration": 25,
    "start_time": "2024-11-18T18:45:54.101Z"
   },
   {
    "duration": 141,
    "start_time": "2024-11-18T18:45:54.127Z"
   },
   {
    "duration": 385,
    "start_time": "2024-11-18T18:45:54.270Z"
   },
   {
    "duration": 16,
    "start_time": "2024-11-18T18:45:54.657Z"
   },
   {
    "duration": 17,
    "start_time": "2024-11-18T18:45:54.675Z"
   },
   {
    "duration": 8,
    "start_time": "2024-11-18T18:45:54.694Z"
   },
   {
    "duration": 192,
    "start_time": "2024-11-18T18:45:54.704Z"
   },
   {
    "duration": 8,
    "start_time": "2024-11-18T18:45:54.898Z"
   },
   {
    "duration": 187,
    "start_time": "2024-11-18T18:45:54.907Z"
   },
   {
    "duration": 9,
    "start_time": "2024-11-18T18:45:55.096Z"
   },
   {
    "duration": 77,
    "start_time": "2024-11-18T18:45:55.106Z"
   },
   {
    "duration": 332,
    "start_time": "2024-11-18T18:45:55.185Z"
   },
   {
    "duration": 1889,
    "start_time": "2024-11-18T18:45:55.520Z"
   },
   {
    "duration": 39,
    "start_time": "2024-11-18T18:45:57.413Z"
   },
   {
    "duration": 13464,
    "start_time": "2024-11-18T18:45:57.453Z"
   },
   {
    "duration": 403,
    "start_time": "2024-11-18T18:46:10.919Z"
   },
   {
    "duration": 0,
    "start_time": "2024-11-18T18:46:11.324Z"
   },
   {
    "duration": 0,
    "start_time": "2024-11-18T18:46:11.325Z"
   },
   {
    "duration": 0,
    "start_time": "2024-11-18T18:46:11.327Z"
   },
   {
    "duration": 10195,
    "start_time": "2024-11-19T12:29:41.904Z"
   },
   {
    "duration": 3519,
    "start_time": "2024-11-19T12:29:52.102Z"
   },
   {
    "duration": 113,
    "start_time": "2024-11-19T12:29:55.623Z"
   },
   {
    "duration": 14,
    "start_time": "2024-11-19T12:29:55.738Z"
   },
   {
    "duration": 152,
    "start_time": "2024-11-19T12:29:55.754Z"
   },
   {
    "duration": 177,
    "start_time": "2024-11-19T12:29:55.908Z"
   },
   {
    "duration": 166,
    "start_time": "2024-11-19T12:29:56.086Z"
   },
   {
    "duration": 214,
    "start_time": "2024-11-19T12:29:56.254Z"
   },
   {
    "duration": 197,
    "start_time": "2024-11-19T12:29:56.470Z"
   },
   {
    "duration": 161,
    "start_time": "2024-11-19T12:29:56.671Z"
   },
   {
    "duration": 17,
    "start_time": "2024-11-19T12:29:56.833Z"
   },
   {
    "duration": 242,
    "start_time": "2024-11-19T12:29:56.851Z"
   },
   {
    "duration": 11,
    "start_time": "2024-11-19T12:29:57.095Z"
   },
   {
    "duration": 68,
    "start_time": "2024-11-19T12:29:57.107Z"
   },
   {
    "duration": 27,
    "start_time": "2024-11-19T12:29:57.176Z"
   },
   {
    "duration": 128,
    "start_time": "2024-11-19T12:29:57.204Z"
   },
   {
    "duration": 366,
    "start_time": "2024-11-19T12:29:57.333Z"
   },
   {
    "duration": 16,
    "start_time": "2024-11-19T12:29:57.701Z"
   },
   {
    "duration": 34,
    "start_time": "2024-11-19T12:29:57.719Z"
   },
   {
    "duration": 7,
    "start_time": "2024-11-19T12:29:57.755Z"
   },
   {
    "duration": 181,
    "start_time": "2024-11-19T12:29:57.764Z"
   },
   {
    "duration": 8,
    "start_time": "2024-11-19T12:29:57.947Z"
   },
   {
    "duration": 196,
    "start_time": "2024-11-19T12:29:57.956Z"
   },
   {
    "duration": 9,
    "start_time": "2024-11-19T12:29:58.155Z"
   },
   {
    "duration": 126,
    "start_time": "2024-11-19T12:29:58.166Z"
   },
   {
    "duration": 302,
    "start_time": "2024-11-19T12:29:58.294Z"
   },
   {
    "duration": 1821,
    "start_time": "2024-11-19T12:29:58.598Z"
   },
   {
    "duration": 44,
    "start_time": "2024-11-19T12:30:00.423Z"
   },
   {
    "duration": 13637,
    "start_time": "2024-11-19T12:30:00.469Z"
   },
   {
    "duration": 136,
    "start_time": "2024-11-19T12:30:14.108Z"
   },
   {
    "duration": 737,
    "start_time": "2024-11-19T12:30:14.245Z"
   },
   {
    "duration": 338,
    "start_time": "2024-11-19T12:30:14.984Z"
   },
   {
    "duration": 0,
    "start_time": "2024-11-19T12:30:15.324Z"
   },
   {
    "duration": 0,
    "start_time": "2024-11-19T12:30:15.326Z"
   },
   {
    "duration": 0,
    "start_time": "2024-11-19T12:30:15.327Z"
   },
   {
    "duration": 15,
    "start_time": "2024-11-19T12:35:42.209Z"
   },
   {
    "duration": 5417,
    "start_time": "2024-11-19T12:36:18.195Z"
   },
   {
    "duration": 3093,
    "start_time": "2024-11-19T12:36:23.614Z"
   },
   {
    "duration": 69,
    "start_time": "2024-11-19T12:36:26.709Z"
   },
   {
    "duration": 14,
    "start_time": "2024-11-19T12:36:26.780Z"
   },
   {
    "duration": 165,
    "start_time": "2024-11-19T12:36:26.796Z"
   },
   {
    "duration": 169,
    "start_time": "2024-11-19T12:36:26.963Z"
   },
   {
    "duration": 159,
    "start_time": "2024-11-19T12:36:27.134Z"
   },
   {
    "duration": 177,
    "start_time": "2024-11-19T12:36:27.295Z"
   },
   {
    "duration": 162,
    "start_time": "2024-11-19T12:36:27.474Z"
   },
   {
    "duration": 153,
    "start_time": "2024-11-19T12:36:27.639Z"
   },
   {
    "duration": 8,
    "start_time": "2024-11-19T12:36:27.793Z"
   },
   {
    "duration": 257,
    "start_time": "2024-11-19T12:36:27.802Z"
   },
   {
    "duration": 11,
    "start_time": "2024-11-19T12:36:28.061Z"
   },
   {
    "duration": 12,
    "start_time": "2024-11-19T12:36:28.074Z"
   },
   {
    "duration": 14,
    "start_time": "2024-11-19T12:36:28.088Z"
   },
   {
    "duration": 168,
    "start_time": "2024-11-19T12:36:28.104Z"
   },
   {
    "duration": 371,
    "start_time": "2024-11-19T12:36:28.275Z"
   },
   {
    "duration": 15,
    "start_time": "2024-11-19T12:36:28.649Z"
   },
   {
    "duration": 21,
    "start_time": "2024-11-19T12:36:28.666Z"
   },
   {
    "duration": 12,
    "start_time": "2024-11-19T12:36:28.688Z"
   },
   {
    "duration": 188,
    "start_time": "2024-11-19T12:36:28.702Z"
   },
   {
    "duration": 8,
    "start_time": "2024-11-19T12:36:28.891Z"
   },
   {
    "duration": 178,
    "start_time": "2024-11-19T12:36:28.901Z"
   },
   {
    "duration": 8,
    "start_time": "2024-11-19T12:36:29.081Z"
   },
   {
    "duration": 9,
    "start_time": "2024-11-19T12:36:29.091Z"
   },
   {
    "duration": 307,
    "start_time": "2024-11-19T12:36:29.102Z"
   },
   {
    "duration": 1829,
    "start_time": "2024-11-19T12:36:29.411Z"
   },
   {
    "duration": 41,
    "start_time": "2024-11-19T12:36:31.244Z"
   },
   {
    "duration": 301,
    "start_time": "2024-11-19T12:36:31.287Z"
   },
   {
    "duration": 0,
    "start_time": "2024-11-19T12:36:31.590Z"
   },
   {
    "duration": 0,
    "start_time": "2024-11-19T12:36:31.591Z"
   },
   {
    "duration": 0,
    "start_time": "2024-11-19T12:36:31.592Z"
   },
   {
    "duration": 0,
    "start_time": "2024-11-19T12:36:31.593Z"
   },
   {
    "duration": 0,
    "start_time": "2024-11-19T12:36:31.594Z"
   },
   {
    "duration": 0,
    "start_time": "2024-11-19T12:36:31.596Z"
   },
   {
    "duration": 0,
    "start_time": "2024-11-19T12:36:31.597Z"
   },
   {
    "duration": 0,
    "start_time": "2024-11-19T12:36:31.598Z"
   },
   {
    "duration": 3,
    "start_time": "2024-11-19T12:36:45.871Z"
   },
   {
    "duration": 13374,
    "start_time": "2024-11-19T12:37:00.793Z"
   },
   {
    "duration": 16,
    "start_time": "2024-11-19T12:37:14.170Z"
   },
   {
    "duration": 3,
    "start_time": "2024-11-19T12:38:58.515Z"
   },
   {
    "duration": 111,
    "start_time": "2024-11-19T12:39:35.102Z"
   },
   {
    "duration": 738,
    "start_time": "2024-11-19T12:39:37.218Z"
   },
   {
    "duration": 69,
    "start_time": "2024-11-19T12:39:40.570Z"
   },
   {
    "duration": 3,
    "start_time": "2024-11-19T12:40:03.859Z"
   },
   {
    "duration": 5484,
    "start_time": "2024-11-19T12:40:52.180Z"
   },
   {
    "duration": 2990,
    "start_time": "2024-11-19T12:40:57.666Z"
   },
   {
    "duration": 68,
    "start_time": "2024-11-19T12:41:00.657Z"
   },
   {
    "duration": 17,
    "start_time": "2024-11-19T12:41:00.727Z"
   },
   {
    "duration": 165,
    "start_time": "2024-11-19T12:41:00.745Z"
   },
   {
    "duration": 170,
    "start_time": "2024-11-19T12:41:00.912Z"
   },
   {
    "duration": 174,
    "start_time": "2024-11-19T12:41:01.084Z"
   },
   {
    "duration": 183,
    "start_time": "2024-11-19T12:41:01.260Z"
   },
   {
    "duration": 179,
    "start_time": "2024-11-19T12:41:01.445Z"
   },
   {
    "duration": 158,
    "start_time": "2024-11-19T12:41:01.627Z"
   },
   {
    "duration": 7,
    "start_time": "2024-11-19T12:41:01.786Z"
   },
   {
    "duration": 263,
    "start_time": "2024-11-19T12:41:01.795Z"
   },
   {
    "duration": 11,
    "start_time": "2024-11-19T12:41:02.059Z"
   },
   {
    "duration": 20,
    "start_time": "2024-11-19T12:41:02.071Z"
   },
   {
    "duration": 20,
    "start_time": "2024-11-19T12:41:02.092Z"
   },
   {
    "duration": 135,
    "start_time": "2024-11-19T12:41:02.114Z"
   },
   {
    "duration": 325,
    "start_time": "2024-11-19T12:41:02.251Z"
   },
   {
    "duration": 15,
    "start_time": "2024-11-19T12:41:02.578Z"
   },
   {
    "duration": 21,
    "start_time": "2024-11-19T12:41:02.594Z"
   },
   {
    "duration": 29,
    "start_time": "2024-11-19T12:41:02.616Z"
   },
   {
    "duration": 188,
    "start_time": "2024-11-19T12:41:02.646Z"
   },
   {
    "duration": 14,
    "start_time": "2024-11-19T12:41:02.836Z"
   },
   {
    "duration": 220,
    "start_time": "2024-11-19T12:41:02.852Z"
   },
   {
    "duration": 9,
    "start_time": "2024-11-19T12:41:03.075Z"
   },
   {
    "duration": 35,
    "start_time": "2024-11-19T12:41:03.086Z"
   },
   {
    "duration": 295,
    "start_time": "2024-11-19T12:41:03.122Z"
   },
   {
    "duration": 1832,
    "start_time": "2024-11-19T12:41:03.418Z"
   },
   {
    "duration": 35,
    "start_time": "2024-11-19T12:41:05.254Z"
   },
   {
    "duration": 15781,
    "start_time": "2024-11-19T12:41:05.291Z"
   },
   {
    "duration": 3,
    "start_time": "2024-11-19T12:41:21.074Z"
   },
   {
    "duration": 130,
    "start_time": "2024-11-19T12:41:21.078Z"
   },
   {
    "duration": 589,
    "start_time": "2024-11-19T12:41:21.210Z"
   },
   {
    "duration": 4,
    "start_time": "2024-11-19T12:41:21.800Z"
   },
   {
    "duration": 521,
    "start_time": "2024-11-19T12:41:21.805Z"
   },
   {
    "duration": 0,
    "start_time": "2024-11-19T12:41:22.327Z"
   },
   {
    "duration": 0,
    "start_time": "2024-11-19T12:41:22.328Z"
   },
   {
    "duration": 0,
    "start_time": "2024-11-19T12:41:22.329Z"
   },
   {
    "duration": 3,
    "start_time": "2024-11-19T12:41:46.057Z"
   },
   {
    "duration": 4,
    "start_time": "2024-11-19T12:41:58.611Z"
   },
   {
    "duration": 5416,
    "start_time": "2024-11-19T12:42:12.841Z"
   },
   {
    "duration": 2979,
    "start_time": "2024-11-19T12:42:18.259Z"
   },
   {
    "duration": 67,
    "start_time": "2024-11-19T12:42:21.243Z"
   },
   {
    "duration": 12,
    "start_time": "2024-11-19T12:42:21.312Z"
   },
   {
    "duration": 176,
    "start_time": "2024-11-19T12:42:21.326Z"
   },
   {
    "duration": 168,
    "start_time": "2024-11-19T12:42:21.504Z"
   },
   {
    "duration": 176,
    "start_time": "2024-11-19T12:42:21.673Z"
   },
   {
    "duration": 184,
    "start_time": "2024-11-19T12:42:21.852Z"
   },
   {
    "duration": 172,
    "start_time": "2024-11-19T12:42:22.039Z"
   },
   {
    "duration": 162,
    "start_time": "2024-11-19T12:42:22.213Z"
   },
   {
    "duration": 8,
    "start_time": "2024-11-19T12:42:22.376Z"
   },
   {
    "duration": 262,
    "start_time": "2024-11-19T12:42:22.386Z"
   },
   {
    "duration": 11,
    "start_time": "2024-11-19T12:42:22.649Z"
   },
   {
    "duration": 30,
    "start_time": "2024-11-19T12:42:22.662Z"
   },
   {
    "duration": 36,
    "start_time": "2024-11-19T12:42:22.694Z"
   },
   {
    "duration": 143,
    "start_time": "2024-11-19T12:42:22.732Z"
   },
   {
    "duration": 394,
    "start_time": "2024-11-19T12:42:22.876Z"
   },
   {
    "duration": 15,
    "start_time": "2024-11-19T12:42:23.271Z"
   },
   {
    "duration": 15,
    "start_time": "2024-11-19T12:42:23.288Z"
   },
   {
    "duration": 18,
    "start_time": "2024-11-19T12:42:23.305Z"
   },
   {
    "duration": 184,
    "start_time": "2024-11-19T12:42:23.324Z"
   },
   {
    "duration": 7,
    "start_time": "2024-11-19T12:42:23.510Z"
   },
   {
    "duration": 186,
    "start_time": "2024-11-19T12:42:23.518Z"
   },
   {
    "duration": 8,
    "start_time": "2024-11-19T12:42:23.705Z"
   },
   {
    "duration": 29,
    "start_time": "2024-11-19T12:42:23.715Z"
   },
   {
    "duration": 316,
    "start_time": "2024-11-19T12:42:23.746Z"
   },
   {
    "duration": 1804,
    "start_time": "2024-11-19T12:42:24.065Z"
   },
   {
    "duration": 36,
    "start_time": "2024-11-19T12:42:25.871Z"
   },
   {
    "duration": 13450,
    "start_time": "2024-11-19T12:42:25.909Z"
   },
   {
    "duration": 4,
    "start_time": "2024-11-19T12:42:39.361Z"
   },
   {
    "duration": 141,
    "start_time": "2024-11-19T12:42:39.367Z"
   },
   {
    "duration": 741,
    "start_time": "2024-11-19T12:42:39.509Z"
   },
   {
    "duration": 4,
    "start_time": "2024-11-19T12:42:40.252Z"
   },
   {
    "duration": 30,
    "start_time": "2024-11-19T12:42:40.257Z"
   },
   {
    "duration": 359,
    "start_time": "2024-11-19T12:42:40.289Z"
   },
   {
    "duration": 0,
    "start_time": "2024-11-19T12:42:40.650Z"
   },
   {
    "duration": 0,
    "start_time": "2024-11-19T12:42:40.651Z"
   },
   {
    "duration": 0,
    "start_time": "2024-11-19T12:42:40.653Z"
   },
   {
    "duration": 5464,
    "start_time": "2024-11-19T12:44:40.721Z"
   },
   {
    "duration": 2960,
    "start_time": "2024-11-19T12:44:46.188Z"
   },
   {
    "duration": 66,
    "start_time": "2024-11-19T12:44:49.149Z"
   },
   {
    "duration": 33,
    "start_time": "2024-11-19T12:44:49.217Z"
   },
   {
    "duration": 148,
    "start_time": "2024-11-19T12:44:49.252Z"
   },
   {
    "duration": 175,
    "start_time": "2024-11-19T12:44:49.402Z"
   },
   {
    "duration": 171,
    "start_time": "2024-11-19T12:44:49.579Z"
   },
   {
    "duration": 196,
    "start_time": "2024-11-19T12:44:49.751Z"
   },
   {
    "duration": 208,
    "start_time": "2024-11-19T12:44:49.949Z"
   },
   {
    "duration": 161,
    "start_time": "2024-11-19T12:44:50.158Z"
   },
   {
    "duration": 8,
    "start_time": "2024-11-19T12:44:50.320Z"
   },
   {
    "duration": 247,
    "start_time": "2024-11-19T12:44:50.329Z"
   },
   {
    "duration": 11,
    "start_time": "2024-11-19T12:44:50.578Z"
   },
   {
    "duration": 18,
    "start_time": "2024-11-19T12:44:50.592Z"
   },
   {
    "duration": 32,
    "start_time": "2024-11-19T12:44:50.612Z"
   },
   {
    "duration": 131,
    "start_time": "2024-11-19T12:44:50.646Z"
   },
   {
    "duration": 383,
    "start_time": "2024-11-19T12:44:50.779Z"
   },
   {
    "duration": 15,
    "start_time": "2024-11-19T12:44:51.163Z"
   },
   {
    "duration": 92,
    "start_time": "2024-11-19T12:44:51.180Z"
   },
   {
    "duration": 10,
    "start_time": "2024-11-19T12:44:51.274Z"
   },
   {
    "duration": 187,
    "start_time": "2024-11-19T12:44:51.285Z"
   },
   {
    "duration": 7,
    "start_time": "2024-11-19T12:44:51.474Z"
   },
   {
    "duration": 252,
    "start_time": "2024-11-19T12:44:51.482Z"
   },
   {
    "duration": 18,
    "start_time": "2024-11-19T12:44:51.737Z"
   },
   {
    "duration": 12,
    "start_time": "2024-11-19T12:44:51.757Z"
   },
   {
    "duration": 349,
    "start_time": "2024-11-19T12:44:51.770Z"
   },
   {
    "duration": 1840,
    "start_time": "2024-11-19T12:44:52.121Z"
   },
   {
    "duration": 35,
    "start_time": "2024-11-19T12:44:53.962Z"
   },
   {
    "duration": 13583,
    "start_time": "2024-11-19T12:44:53.998Z"
   },
   {
    "duration": 3,
    "start_time": "2024-11-19T12:45:07.583Z"
   },
   {
    "duration": 58,
    "start_time": "2024-11-19T12:45:07.587Z"
   },
   {
    "duration": 120,
    "start_time": "2024-11-19T12:45:07.647Z"
   },
   {
    "duration": 775,
    "start_time": "2024-11-19T12:45:07.768Z"
   },
   {
    "duration": 4,
    "start_time": "2024-11-19T12:45:08.545Z"
   },
   {
    "duration": 345,
    "start_time": "2024-11-19T12:45:08.551Z"
   },
   {
    "duration": 0,
    "start_time": "2024-11-19T12:45:08.897Z"
   },
   {
    "duration": 0,
    "start_time": "2024-11-19T12:45:08.898Z"
   },
   {
    "duration": 0,
    "start_time": "2024-11-19T12:45:08.900Z"
   },
   {
    "duration": 6,
    "start_time": "2024-11-19T12:45:29.935Z"
   },
   {
    "duration": 5322,
    "start_time": "2024-11-19T12:45:37.438Z"
   },
   {
    "duration": 2982,
    "start_time": "2024-11-19T12:45:42.763Z"
   },
   {
    "duration": 67,
    "start_time": "2024-11-19T12:45:45.747Z"
   },
   {
    "duration": 13,
    "start_time": "2024-11-19T12:45:45.816Z"
   },
   {
    "duration": 148,
    "start_time": "2024-11-19T12:45:45.831Z"
   },
   {
    "duration": 169,
    "start_time": "2024-11-19T12:45:45.981Z"
   },
   {
    "duration": 170,
    "start_time": "2024-11-19T12:45:46.151Z"
   },
   {
    "duration": 175,
    "start_time": "2024-11-19T12:45:46.322Z"
   },
   {
    "duration": 175,
    "start_time": "2024-11-19T12:45:46.499Z"
   },
   {
    "duration": 172,
    "start_time": "2024-11-19T12:45:46.676Z"
   },
   {
    "duration": 9,
    "start_time": "2024-11-19T12:45:46.851Z"
   },
   {
    "duration": 259,
    "start_time": "2024-11-19T12:45:46.862Z"
   },
   {
    "duration": 11,
    "start_time": "2024-11-19T12:45:47.123Z"
   },
   {
    "duration": 13,
    "start_time": "2024-11-19T12:45:47.145Z"
   },
   {
    "duration": 111,
    "start_time": "2024-11-19T12:45:47.160Z"
   },
   {
    "duration": 143,
    "start_time": "2024-11-19T12:45:47.273Z"
   },
   {
    "duration": 345,
    "start_time": "2024-11-19T12:45:47.418Z"
   },
   {
    "duration": 17,
    "start_time": "2024-11-19T12:45:47.765Z"
   },
   {
    "duration": 21,
    "start_time": "2024-11-19T12:45:47.783Z"
   },
   {
    "duration": 38,
    "start_time": "2024-11-19T12:45:47.806Z"
   },
   {
    "duration": 242,
    "start_time": "2024-11-19T12:45:47.846Z"
   },
   {
    "duration": 9,
    "start_time": "2024-11-19T12:45:48.090Z"
   },
   {
    "duration": 202,
    "start_time": "2024-11-19T12:45:48.101Z"
   },
   {
    "duration": 9,
    "start_time": "2024-11-19T12:45:48.306Z"
   },
   {
    "duration": 29,
    "start_time": "2024-11-19T12:45:48.317Z"
   },
   {
    "duration": 358,
    "start_time": "2024-11-19T12:45:48.348Z"
   },
   {
    "duration": 1913,
    "start_time": "2024-11-19T12:45:48.708Z"
   },
   {
    "duration": 47,
    "start_time": "2024-11-19T12:45:50.623Z"
   },
   {
    "duration": 4,
    "start_time": "2024-11-19T12:45:50.672Z"
   },
   {
    "duration": 13807,
    "start_time": "2024-11-19T12:45:50.677Z"
   },
   {
    "duration": 3,
    "start_time": "2024-11-19T12:46:04.486Z"
   },
   {
    "duration": 86,
    "start_time": "2024-11-19T12:46:04.490Z"
   },
   {
    "duration": 127,
    "start_time": "2024-11-19T12:46:04.578Z"
   },
   {
    "duration": 762,
    "start_time": "2024-11-19T12:46:04.707Z"
   },
   {
    "duration": 5,
    "start_time": "2024-11-19T12:46:05.471Z"
   },
   {
    "duration": 429,
    "start_time": "2024-11-19T12:46:05.478Z"
   },
   {
    "duration": 0,
    "start_time": "2024-11-19T12:46:05.909Z"
   },
   {
    "duration": 0,
    "start_time": "2024-11-19T12:46:05.910Z"
   },
   {
    "duration": 0,
    "start_time": "2024-11-19T12:46:05.912Z"
   },
   {
    "duration": 5326,
    "start_time": "2024-11-19T12:50:54.821Z"
   },
   {
    "duration": 3080,
    "start_time": "2024-11-19T12:51:00.149Z"
   },
   {
    "duration": 66,
    "start_time": "2024-11-19T12:51:03.230Z"
   },
   {
    "duration": 12,
    "start_time": "2024-11-19T12:51:03.298Z"
   },
   {
    "duration": 153,
    "start_time": "2024-11-19T12:51:03.312Z"
   },
   {
    "duration": 165,
    "start_time": "2024-11-19T12:51:03.467Z"
   },
   {
    "duration": 184,
    "start_time": "2024-11-19T12:51:03.634Z"
   },
   {
    "duration": 197,
    "start_time": "2024-11-19T12:51:03.820Z"
   },
   {
    "duration": 196,
    "start_time": "2024-11-19T12:51:04.018Z"
   },
   {
    "duration": 169,
    "start_time": "2024-11-19T12:51:04.217Z"
   },
   {
    "duration": 8,
    "start_time": "2024-11-19T12:51:04.387Z"
   },
   {
    "duration": 235,
    "start_time": "2024-11-19T12:51:04.396Z"
   },
   {
    "duration": 16,
    "start_time": "2024-11-19T12:51:04.632Z"
   },
   {
    "duration": 24,
    "start_time": "2024-11-19T12:51:04.649Z"
   },
   {
    "duration": 31,
    "start_time": "2024-11-19T12:51:04.675Z"
   },
   {
    "duration": 127,
    "start_time": "2024-11-19T12:51:04.708Z"
   },
   {
    "duration": 327,
    "start_time": "2024-11-19T12:51:04.837Z"
   },
   {
    "duration": 15,
    "start_time": "2024-11-19T12:51:05.166Z"
   },
   {
    "duration": 96,
    "start_time": "2024-11-19T12:51:05.183Z"
   },
   {
    "duration": 16,
    "start_time": "2024-11-19T12:51:05.280Z"
   },
   {
    "duration": 173,
    "start_time": "2024-11-19T12:51:05.298Z"
   },
   {
    "duration": 8,
    "start_time": "2024-11-19T12:51:05.472Z"
   },
   {
    "duration": 262,
    "start_time": "2024-11-19T12:51:05.481Z"
   },
   {
    "duration": 9,
    "start_time": "2024-11-19T12:51:05.745Z"
   },
   {
    "duration": 24,
    "start_time": "2024-11-19T12:51:05.756Z"
   },
   {
    "duration": 329,
    "start_time": "2024-11-19T12:51:05.781Z"
   },
   {
    "duration": 1784,
    "start_time": "2024-11-19T12:51:06.112Z"
   },
   {
    "duration": 50,
    "start_time": "2024-11-19T12:51:07.900Z"
   },
   {
    "duration": 50,
    "start_time": "2024-11-19T12:51:07.951Z"
   },
   {
    "duration": 13649,
    "start_time": "2024-11-19T12:51:08.003Z"
   },
   {
    "duration": 3,
    "start_time": "2024-11-19T12:51:21.654Z"
   },
   {
    "duration": 43,
    "start_time": "2024-11-19T12:51:21.659Z"
   },
   {
    "duration": 309,
    "start_time": "2024-11-19T12:51:21.704Z"
   },
   {
    "duration": 0,
    "start_time": "2024-11-19T12:51:22.015Z"
   },
   {
    "duration": 0,
    "start_time": "2024-11-19T12:51:22.016Z"
   },
   {
    "duration": 0,
    "start_time": "2024-11-19T12:51:22.018Z"
   },
   {
    "duration": 0,
    "start_time": "2024-11-19T12:51:22.018Z"
   },
   {
    "duration": 0,
    "start_time": "2024-11-19T12:51:22.020Z"
   },
   {
    "duration": 0,
    "start_time": "2024-11-19T12:51:22.021Z"
   },
   {
    "duration": 21,
    "start_time": "2024-11-19T12:52:14.145Z"
   },
   {
    "duration": 642,
    "start_time": "2024-11-19T12:52:42.385Z"
   },
   {
    "duration": 5,
    "start_time": "2024-11-19T12:52:54.309Z"
   },
   {
    "duration": 251,
    "start_time": "2024-11-19T12:52:54.806Z"
   },
   {
    "duration": 5777,
    "start_time": "2024-11-19T12:56:04.977Z"
   },
   {
    "duration": 3036,
    "start_time": "2024-11-19T12:56:10.757Z"
   },
   {
    "duration": 71,
    "start_time": "2024-11-19T12:56:13.798Z"
   },
   {
    "duration": 12,
    "start_time": "2024-11-19T12:56:13.871Z"
   },
   {
    "duration": 205,
    "start_time": "2024-11-19T12:56:13.885Z"
   },
   {
    "duration": 173,
    "start_time": "2024-11-19T12:56:14.092Z"
   },
   {
    "duration": 177,
    "start_time": "2024-11-19T12:56:14.266Z"
   },
   {
    "duration": 192,
    "start_time": "2024-11-19T12:56:14.444Z"
   },
   {
    "duration": 177,
    "start_time": "2024-11-19T12:56:14.642Z"
   },
   {
    "duration": 169,
    "start_time": "2024-11-19T12:56:14.821Z"
   },
   {
    "duration": 9,
    "start_time": "2024-11-19T12:56:14.992Z"
   },
   {
    "duration": 363,
    "start_time": "2024-11-19T12:56:15.003Z"
   },
   {
    "duration": 13,
    "start_time": "2024-11-19T12:56:15.368Z"
   },
   {
    "duration": 25,
    "start_time": "2024-11-19T12:56:15.383Z"
   },
   {
    "duration": 34,
    "start_time": "2024-11-19T12:56:15.410Z"
   },
   {
    "duration": 144,
    "start_time": "2024-11-19T12:56:15.445Z"
   },
   {
    "duration": 384,
    "start_time": "2024-11-19T12:56:15.590Z"
   },
   {
    "duration": 16,
    "start_time": "2024-11-19T12:56:15.976Z"
   },
   {
    "duration": 18,
    "start_time": "2024-11-19T12:56:15.994Z"
   },
   {
    "duration": 34,
    "start_time": "2024-11-19T12:56:16.013Z"
   },
   {
    "duration": 172,
    "start_time": "2024-11-19T12:56:16.049Z"
   },
   {
    "duration": 8,
    "start_time": "2024-11-19T12:56:16.223Z"
   },
   {
    "duration": 179,
    "start_time": "2024-11-19T12:56:16.243Z"
   },
   {
    "duration": 9,
    "start_time": "2024-11-19T12:56:16.424Z"
   },
   {
    "duration": 9,
    "start_time": "2024-11-19T12:56:16.443Z"
   },
   {
    "duration": 326,
    "start_time": "2024-11-19T12:56:16.454Z"
   },
   {
    "duration": 1914,
    "start_time": "2024-11-19T12:56:16.783Z"
   },
   {
    "duration": 51,
    "start_time": "2024-11-19T12:56:18.698Z"
   },
   {
    "duration": 5,
    "start_time": "2024-11-19T12:56:18.751Z"
   },
   {
    "duration": 15811,
    "start_time": "2024-11-19T12:56:18.758Z"
   },
   {
    "duration": 4,
    "start_time": "2024-11-19T12:56:34.570Z"
   },
   {
    "duration": 87,
    "start_time": "2024-11-19T12:56:34.575Z"
   },
   {
    "duration": 642,
    "start_time": "2024-11-19T12:56:34.664Z"
   },
   {
    "duration": 5,
    "start_time": "2024-11-19T12:56:35.308Z"
   },
   {
    "duration": 315,
    "start_time": "2024-11-19T12:56:35.315Z"
   },
   {
    "duration": 0,
    "start_time": "2024-11-19T12:56:35.632Z"
   },
   {
    "duration": 0,
    "start_time": "2024-11-19T12:56:35.634Z"
   },
   {
    "duration": 0,
    "start_time": "2024-11-19T12:56:35.635Z"
   },
   {
    "duration": 0,
    "start_time": "2024-11-19T12:56:35.643Z"
   },
   {
    "duration": 20,
    "start_time": "2024-11-19T12:58:37.737Z"
   },
   {
    "duration": 5519,
    "start_time": "2024-11-19T12:58:48.597Z"
   },
   {
    "duration": 3020,
    "start_time": "2024-11-19T12:58:54.119Z"
   },
   {
    "duration": 73,
    "start_time": "2024-11-19T12:58:57.141Z"
   },
   {
    "duration": 17,
    "start_time": "2024-11-19T12:58:57.217Z"
   },
   {
    "duration": 158,
    "start_time": "2024-11-19T12:58:57.242Z"
   },
   {
    "duration": 175,
    "start_time": "2024-11-19T12:58:57.402Z"
   },
   {
    "duration": 180,
    "start_time": "2024-11-19T12:58:57.579Z"
   },
   {
    "duration": 190,
    "start_time": "2024-11-19T12:58:57.760Z"
   },
   {
    "duration": 175,
    "start_time": "2024-11-19T12:58:57.952Z"
   },
   {
    "duration": 155,
    "start_time": "2024-11-19T12:58:58.130Z"
   },
   {
    "duration": 7,
    "start_time": "2024-11-19T12:58:58.287Z"
   },
   {
    "duration": 319,
    "start_time": "2024-11-19T12:58:58.296Z"
   },
   {
    "duration": 13,
    "start_time": "2024-11-19T12:58:58.617Z"
   },
   {
    "duration": 11,
    "start_time": "2024-11-19T12:58:58.643Z"
   },
   {
    "duration": 32,
    "start_time": "2024-11-19T12:58:58.656Z"
   },
   {
    "duration": 140,
    "start_time": "2024-11-19T12:58:58.690Z"
   },
   {
    "duration": 366,
    "start_time": "2024-11-19T12:58:58.832Z"
   },
   {
    "duration": 16,
    "start_time": "2024-11-19T12:58:59.200Z"
   },
   {
    "duration": 68,
    "start_time": "2024-11-19T12:58:59.217Z"
   },
   {
    "duration": 22,
    "start_time": "2024-11-19T12:58:59.286Z"
   },
   {
    "duration": 157,
    "start_time": "2024-11-19T12:58:59.310Z"
   },
   {
    "duration": 8,
    "start_time": "2024-11-19T12:58:59.468Z"
   },
   {
    "duration": 175,
    "start_time": "2024-11-19T12:58:59.477Z"
   },
   {
    "duration": 8,
    "start_time": "2024-11-19T12:58:59.654Z"
   },
   {
    "duration": 7,
    "start_time": "2024-11-19T12:58:59.664Z"
   },
   {
    "duration": 372,
    "start_time": "2024-11-19T12:58:59.673Z"
   },
   {
    "duration": 1836,
    "start_time": "2024-11-19T12:59:00.047Z"
   },
   {
    "duration": 38,
    "start_time": "2024-11-19T12:59:01.887Z"
   },
   {
    "duration": 74,
    "start_time": "2024-11-19T12:59:01.927Z"
   },
   {
    "duration": 13789,
    "start_time": "2024-11-19T12:59:02.004Z"
   },
   {
    "duration": 4,
    "start_time": "2024-11-19T12:59:15.794Z"
   },
   {
    "duration": 26,
    "start_time": "2024-11-19T12:59:15.800Z"
   },
   {
    "duration": 626,
    "start_time": "2024-11-19T12:59:15.827Z"
   },
   {
    "duration": 4,
    "start_time": "2024-11-19T12:59:16.454Z"
   },
   {
    "duration": 311,
    "start_time": "2024-11-19T12:59:16.459Z"
   },
   {
    "duration": 0,
    "start_time": "2024-11-19T12:59:16.772Z"
   },
   {
    "duration": 0,
    "start_time": "2024-11-19T12:59:16.775Z"
   },
   {
    "duration": 0,
    "start_time": "2024-11-19T12:59:16.776Z"
   },
   {
    "duration": 0,
    "start_time": "2024-11-19T12:59:16.778Z"
   },
   {
    "duration": 5500,
    "start_time": "2024-11-19T13:04:31.431Z"
   },
   {
    "duration": 3062,
    "start_time": "2024-11-19T13:04:36.933Z"
   },
   {
    "duration": 71,
    "start_time": "2024-11-19T13:04:39.997Z"
   },
   {
    "duration": 14,
    "start_time": "2024-11-19T13:04:40.070Z"
   },
   {
    "duration": 179,
    "start_time": "2024-11-19T13:04:40.085Z"
   },
   {
    "duration": 208,
    "start_time": "2024-11-19T13:04:40.266Z"
   },
   {
    "duration": 197,
    "start_time": "2024-11-19T13:04:40.475Z"
   },
   {
    "duration": 231,
    "start_time": "2024-11-19T13:04:40.673Z"
   },
   {
    "duration": 191,
    "start_time": "2024-11-19T13:04:40.906Z"
   },
   {
    "duration": 173,
    "start_time": "2024-11-19T13:04:41.100Z"
   },
   {
    "duration": 8,
    "start_time": "2024-11-19T13:04:41.275Z"
   },
   {
    "duration": 303,
    "start_time": "2024-11-19T13:04:41.284Z"
   },
   {
    "duration": 11,
    "start_time": "2024-11-19T13:04:41.589Z"
   },
   {
    "duration": 50,
    "start_time": "2024-11-19T13:04:41.602Z"
   },
   {
    "duration": 23,
    "start_time": "2024-11-19T13:04:41.654Z"
   },
   {
    "duration": 127,
    "start_time": "2024-11-19T13:04:41.679Z"
   },
   {
    "duration": 354,
    "start_time": "2024-11-19T13:04:41.808Z"
   },
   {
    "duration": 16,
    "start_time": "2024-11-19T13:04:42.163Z"
   },
   {
    "duration": 20,
    "start_time": "2024-11-19T13:04:42.181Z"
   },
   {
    "duration": 15,
    "start_time": "2024-11-19T13:04:42.203Z"
   },
   {
    "duration": 197,
    "start_time": "2024-11-19T13:04:42.220Z"
   },
   {
    "duration": 8,
    "start_time": "2024-11-19T13:04:42.419Z"
   },
   {
    "duration": 211,
    "start_time": "2024-11-19T13:04:42.429Z"
   },
   {
    "duration": 9,
    "start_time": "2024-11-19T13:04:42.642Z"
   },
   {
    "duration": 22,
    "start_time": "2024-11-19T13:04:42.653Z"
   },
   {
    "duration": 347,
    "start_time": "2024-11-19T13:04:42.677Z"
   },
   {
    "duration": 1914,
    "start_time": "2024-11-19T13:04:43.026Z"
   },
   {
    "duration": 36,
    "start_time": "2024-11-19T13:04:44.944Z"
   },
   {
    "duration": 18,
    "start_time": "2024-11-19T13:04:44.982Z"
   },
   {
    "duration": 13718,
    "start_time": "2024-11-19T13:04:45.002Z"
   },
   {
    "duration": 4,
    "start_time": "2024-11-19T13:04:58.721Z"
   },
   {
    "duration": 19,
    "start_time": "2024-11-19T13:04:58.727Z"
   },
   {
    "duration": 635,
    "start_time": "2024-11-19T13:04:58.749Z"
   },
   {
    "duration": 5,
    "start_time": "2024-11-19T13:04:59.385Z"
   },
   {
    "duration": 198,
    "start_time": "2024-11-19T13:04:59.391Z"
   },
   {
    "duration": 297,
    "start_time": "2024-11-19T13:04:59.591Z"
   },
   {
    "duration": 0,
    "start_time": "2024-11-19T13:04:59.890Z"
   },
   {
    "duration": 0,
    "start_time": "2024-11-19T13:04:59.892Z"
   },
   {
    "duration": 0,
    "start_time": "2024-11-19T13:04:59.893Z"
   },
   {
    "duration": 0,
    "start_time": "2024-11-19T13:04:59.894Z"
   },
   {
    "duration": 0,
    "start_time": "2024-11-19T13:04:59.896Z"
   },
   {
    "duration": 22,
    "start_time": "2024-11-19T13:06:54.043Z"
   },
   {
    "duration": 5665,
    "start_time": "2024-11-19T13:07:02.067Z"
   },
   {
    "duration": 3019,
    "start_time": "2024-11-19T13:07:07.735Z"
   },
   {
    "duration": 75,
    "start_time": "2024-11-19T13:07:10.756Z"
   },
   {
    "duration": 15,
    "start_time": "2024-11-19T13:07:10.834Z"
   },
   {
    "duration": 153,
    "start_time": "2024-11-19T13:07:10.851Z"
   },
   {
    "duration": 175,
    "start_time": "2024-11-19T13:07:11.006Z"
   },
   {
    "duration": 175,
    "start_time": "2024-11-19T13:07:11.183Z"
   },
   {
    "duration": 204,
    "start_time": "2024-11-19T13:07:11.360Z"
   },
   {
    "duration": 183,
    "start_time": "2024-11-19T13:07:11.566Z"
   },
   {
    "duration": 156,
    "start_time": "2024-11-19T13:07:11.753Z"
   },
   {
    "duration": 10,
    "start_time": "2024-11-19T13:07:11.911Z"
   },
   {
    "duration": 281,
    "start_time": "2024-11-19T13:07:11.942Z"
   },
   {
    "duration": 18,
    "start_time": "2024-11-19T13:07:12.225Z"
   },
   {
    "duration": 8,
    "start_time": "2024-11-19T13:07:12.245Z"
   },
   {
    "duration": 30,
    "start_time": "2024-11-19T13:07:12.255Z"
   },
   {
    "duration": 132,
    "start_time": "2024-11-19T13:07:12.287Z"
   },
   {
    "duration": 341,
    "start_time": "2024-11-19T13:07:12.421Z"
   },
   {
    "duration": 20,
    "start_time": "2024-11-19T13:07:12.764Z"
   },
   {
    "duration": 18,
    "start_time": "2024-11-19T13:07:12.785Z"
   },
   {
    "duration": 40,
    "start_time": "2024-11-19T13:07:12.805Z"
   },
   {
    "duration": 181,
    "start_time": "2024-11-19T13:07:12.847Z"
   },
   {
    "duration": 14,
    "start_time": "2024-11-19T13:07:13.029Z"
   },
   {
    "duration": 175,
    "start_time": "2024-11-19T13:07:13.044Z"
   },
   {
    "duration": 9,
    "start_time": "2024-11-19T13:07:13.220Z"
   },
   {
    "duration": 17,
    "start_time": "2024-11-19T13:07:13.230Z"
   },
   {
    "duration": 351,
    "start_time": "2024-11-19T13:07:13.249Z"
   },
   {
    "duration": 1794,
    "start_time": "2024-11-19T13:07:13.602Z"
   },
   {
    "duration": 44,
    "start_time": "2024-11-19T13:07:15.400Z"
   },
   {
    "duration": 20,
    "start_time": "2024-11-19T13:07:15.445Z"
   },
   {
    "duration": 13663,
    "start_time": "2024-11-19T13:07:15.467Z"
   },
   {
    "duration": 12,
    "start_time": "2024-11-19T13:07:29.132Z"
   },
   {
    "duration": 17,
    "start_time": "2024-11-19T13:07:29.146Z"
   },
   {
    "duration": 820,
    "start_time": "2024-11-19T13:07:29.164Z"
   },
   {
    "duration": 5,
    "start_time": "2024-11-19T13:07:29.985Z"
   },
   {
    "duration": 17,
    "start_time": "2024-11-19T13:07:29.991Z"
   },
   {
    "duration": 316,
    "start_time": "2024-11-19T13:07:30.011Z"
   },
   {
    "duration": 0,
    "start_time": "2024-11-19T13:07:30.329Z"
   },
   {
    "duration": 0,
    "start_time": "2024-11-19T13:07:30.331Z"
   },
   {
    "duration": 0,
    "start_time": "2024-11-19T13:07:30.332Z"
   },
   {
    "duration": 0,
    "start_time": "2024-11-19T13:07:30.333Z"
   },
   {
    "duration": 0,
    "start_time": "2024-11-19T13:07:30.334Z"
   },
   {
    "duration": 5970,
    "start_time": "2024-11-19T14:21:42.920Z"
   },
   {
    "duration": 3259,
    "start_time": "2024-11-19T14:21:48.892Z"
   },
   {
    "duration": 71,
    "start_time": "2024-11-19T14:21:52.153Z"
   },
   {
    "duration": 19,
    "start_time": "2024-11-19T14:21:52.226Z"
   },
   {
    "duration": 155,
    "start_time": "2024-11-19T14:21:52.247Z"
   },
   {
    "duration": 174,
    "start_time": "2024-11-19T14:21:52.404Z"
   },
   {
    "duration": 188,
    "start_time": "2024-11-19T14:21:52.579Z"
   },
   {
    "duration": 212,
    "start_time": "2024-11-19T14:21:52.770Z"
   },
   {
    "duration": 168,
    "start_time": "2024-11-19T14:21:52.984Z"
   },
   {
    "duration": 156,
    "start_time": "2024-11-19T14:21:53.154Z"
   },
   {
    "duration": 7,
    "start_time": "2024-11-19T14:21:53.312Z"
   },
   {
    "duration": 296,
    "start_time": "2024-11-19T14:21:53.320Z"
   },
   {
    "duration": 11,
    "start_time": "2024-11-19T14:21:53.617Z"
   },
   {
    "duration": 65,
    "start_time": "2024-11-19T14:21:53.630Z"
   },
   {
    "duration": 12,
    "start_time": "2024-11-19T14:21:53.697Z"
   },
   {
    "duration": 141,
    "start_time": "2024-11-19T14:21:53.710Z"
   },
   {
    "duration": 341,
    "start_time": "2024-11-19T14:21:53.853Z"
   },
   {
    "duration": 15,
    "start_time": "2024-11-19T14:21:54.196Z"
   },
   {
    "duration": 75,
    "start_time": "2024-11-19T14:21:54.212Z"
   },
   {
    "duration": 9,
    "start_time": "2024-11-19T14:21:54.289Z"
   },
   {
    "duration": 215,
    "start_time": "2024-11-19T14:21:54.300Z"
   },
   {
    "duration": 9,
    "start_time": "2024-11-19T14:21:54.517Z"
   },
   {
    "duration": 173,
    "start_time": "2024-11-19T14:21:54.528Z"
   },
   {
    "duration": 8,
    "start_time": "2024-11-19T14:21:54.703Z"
   },
   {
    "duration": 123,
    "start_time": "2024-11-19T14:21:54.713Z"
   },
   {
    "duration": 270,
    "start_time": "2024-11-19T14:21:54.838Z"
   },
   {
    "duration": 1826,
    "start_time": "2024-11-19T14:21:55.110Z"
   },
   {
    "duration": 34,
    "start_time": "2024-11-19T14:21:56.944Z"
   },
   {
    "duration": 9,
    "start_time": "2024-11-19T14:21:56.979Z"
   },
   {
    "duration": 13698,
    "start_time": "2024-11-19T14:21:56.989Z"
   },
   {
    "duration": 3,
    "start_time": "2024-11-19T14:22:10.689Z"
   },
   {
    "duration": 60,
    "start_time": "2024-11-19T14:22:10.694Z"
   },
   {
    "duration": 753,
    "start_time": "2024-11-19T14:22:10.756Z"
   },
   {
    "duration": 4,
    "start_time": "2024-11-19T14:22:11.511Z"
   },
   {
    "duration": 204,
    "start_time": "2024-11-19T14:22:11.517Z"
   },
   {
    "duration": 325,
    "start_time": "2024-11-19T14:22:11.723Z"
   },
   {
    "duration": 0,
    "start_time": "2024-11-19T14:22:12.050Z"
   },
   {
    "duration": 0,
    "start_time": "2024-11-19T14:22:12.052Z"
   },
   {
    "duration": 0,
    "start_time": "2024-11-19T14:22:12.053Z"
   },
   {
    "duration": 0,
    "start_time": "2024-11-19T14:22:12.054Z"
   },
   {
    "duration": 0,
    "start_time": "2024-11-19T14:22:12.055Z"
   },
   {
    "duration": 5538,
    "start_time": "2024-11-19T14:29:56.710Z"
   },
   {
    "duration": 3015,
    "start_time": "2024-11-19T14:30:02.250Z"
   },
   {
    "duration": 68,
    "start_time": "2024-11-19T14:30:05.267Z"
   },
   {
    "duration": 13,
    "start_time": "2024-11-19T14:30:05.337Z"
   },
   {
    "duration": 222,
    "start_time": "2024-11-19T14:30:05.352Z"
   },
   {
    "duration": 172,
    "start_time": "2024-11-19T14:30:05.575Z"
   },
   {
    "duration": 175,
    "start_time": "2024-11-19T14:30:05.749Z"
   },
   {
    "duration": 189,
    "start_time": "2024-11-19T14:30:05.927Z"
   },
   {
    "duration": 189,
    "start_time": "2024-11-19T14:30:06.117Z"
   },
   {
    "duration": 154,
    "start_time": "2024-11-19T14:30:06.309Z"
   },
   {
    "duration": 7,
    "start_time": "2024-11-19T14:30:06.465Z"
   },
   {
    "duration": 285,
    "start_time": "2024-11-19T14:30:06.473Z"
   },
   {
    "duration": 11,
    "start_time": "2024-11-19T14:30:06.760Z"
   },
   {
    "duration": 187,
    "start_time": "2024-11-19T14:30:06.773Z"
   },
   {
    "duration": 49,
    "start_time": "2024-11-19T14:30:06.962Z"
   },
   {
    "duration": 133,
    "start_time": "2024-11-19T14:30:07.013Z"
   },
   {
    "duration": 324,
    "start_time": "2024-11-19T14:30:07.148Z"
   },
   {
    "duration": 15,
    "start_time": "2024-11-19T14:30:07.473Z"
   },
   {
    "duration": 36,
    "start_time": "2024-11-19T14:30:07.489Z"
   },
   {
    "duration": 27,
    "start_time": "2024-11-19T14:30:07.527Z"
   },
   {
    "duration": 201,
    "start_time": "2024-11-19T14:30:07.556Z"
   },
   {
    "duration": 7,
    "start_time": "2024-11-19T14:30:07.759Z"
   },
   {
    "duration": 217,
    "start_time": "2024-11-19T14:30:07.768Z"
   },
   {
    "duration": 8,
    "start_time": "2024-11-19T14:30:07.987Z"
   },
   {
    "duration": 49,
    "start_time": "2024-11-19T14:30:07.996Z"
   },
   {
    "duration": 302,
    "start_time": "2024-11-19T14:30:08.046Z"
   },
   {
    "duration": 1839,
    "start_time": "2024-11-19T14:30:08.350Z"
   },
   {
    "duration": 33,
    "start_time": "2024-11-19T14:30:10.193Z"
   },
   {
    "duration": 48,
    "start_time": "2024-11-19T14:30:10.228Z"
   },
   {
    "duration": 289,
    "start_time": "2024-11-19T14:30:10.278Z"
   },
   {
    "duration": 0,
    "start_time": "2024-11-19T14:30:10.569Z"
   },
   {
    "duration": 0,
    "start_time": "2024-11-19T14:30:10.570Z"
   },
   {
    "duration": 0,
    "start_time": "2024-11-19T14:30:10.571Z"
   },
   {
    "duration": 0,
    "start_time": "2024-11-19T14:30:10.572Z"
   },
   {
    "duration": 0,
    "start_time": "2024-11-19T14:30:10.573Z"
   },
   {
    "duration": 0,
    "start_time": "2024-11-19T14:30:10.574Z"
   },
   {
    "duration": 0,
    "start_time": "2024-11-19T14:30:10.575Z"
   },
   {
    "duration": 0,
    "start_time": "2024-11-19T14:30:10.576Z"
   },
   {
    "duration": 0,
    "start_time": "2024-11-19T14:30:10.577Z"
   },
   {
    "duration": 0,
    "start_time": "2024-11-19T14:30:10.578Z"
   },
   {
    "duration": 0,
    "start_time": "2024-11-19T14:30:10.579Z"
   },
   {
    "duration": 0,
    "start_time": "2024-11-19T14:30:10.580Z"
   },
   {
    "duration": 0,
    "start_time": "2024-11-19T14:30:10.581Z"
   },
   {
    "duration": 5561,
    "start_time": "2024-11-19T14:32:58.088Z"
   },
   {
    "duration": 3072,
    "start_time": "2024-11-19T14:33:03.652Z"
   },
   {
    "duration": 76,
    "start_time": "2024-11-19T14:33:06.726Z"
   },
   {
    "duration": 107,
    "start_time": "2024-11-19T14:33:06.804Z"
   },
   {
    "duration": 167,
    "start_time": "2024-11-19T14:33:06.912Z"
   },
   {
    "duration": 201,
    "start_time": "2024-11-19T14:33:07.081Z"
   },
   {
    "duration": 168,
    "start_time": "2024-11-19T14:33:07.283Z"
   },
   {
    "duration": 180,
    "start_time": "2024-11-19T14:33:07.453Z"
   },
   {
    "duration": 171,
    "start_time": "2024-11-19T14:33:07.635Z"
   },
   {
    "duration": 158,
    "start_time": "2024-11-19T14:33:07.809Z"
   },
   {
    "duration": 8,
    "start_time": "2024-11-19T14:33:07.968Z"
   },
   {
    "duration": 241,
    "start_time": "2024-11-19T14:33:07.978Z"
   },
   {
    "duration": 11,
    "start_time": "2024-11-19T14:33:08.220Z"
   },
   {
    "duration": 55,
    "start_time": "2024-11-19T14:33:08.233Z"
   },
   {
    "duration": 36,
    "start_time": "2024-11-19T14:33:08.289Z"
   },
   {
    "duration": 163,
    "start_time": "2024-11-19T14:33:08.327Z"
   },
   {
    "duration": 373,
    "start_time": "2024-11-19T14:33:08.492Z"
   },
   {
    "duration": 15,
    "start_time": "2024-11-19T14:33:08.867Z"
   },
   {
    "duration": 43,
    "start_time": "2024-11-19T14:33:08.884Z"
   },
   {
    "duration": 28,
    "start_time": "2024-11-19T14:33:08.928Z"
   },
   {
    "duration": 184,
    "start_time": "2024-11-19T14:33:08.957Z"
   },
   {
    "duration": 7,
    "start_time": "2024-11-19T14:33:09.143Z"
   },
   {
    "duration": 180,
    "start_time": "2024-11-19T14:33:09.152Z"
   },
   {
    "duration": 9,
    "start_time": "2024-11-19T14:33:09.334Z"
   },
   {
    "duration": 80,
    "start_time": "2024-11-19T14:33:09.345Z"
   },
   {
    "duration": 283,
    "start_time": "2024-11-19T14:33:09.427Z"
   },
   {
    "duration": 1830,
    "start_time": "2024-11-19T14:33:09.711Z"
   },
   {
    "duration": 36,
    "start_time": "2024-11-19T14:33:11.544Z"
   },
   {
    "duration": 31,
    "start_time": "2024-11-19T14:33:11.582Z"
   },
   {
    "duration": 298,
    "start_time": "2024-11-19T14:33:11.615Z"
   },
   {
    "duration": 0,
    "start_time": "2024-11-19T14:33:11.914Z"
   },
   {
    "duration": 0,
    "start_time": "2024-11-19T14:33:11.916Z"
   },
   {
    "duration": 0,
    "start_time": "2024-11-19T14:33:11.917Z"
   },
   {
    "duration": 0,
    "start_time": "2024-11-19T14:33:11.918Z"
   },
   {
    "duration": 0,
    "start_time": "2024-11-19T14:33:11.919Z"
   },
   {
    "duration": 0,
    "start_time": "2024-11-19T14:33:11.920Z"
   },
   {
    "duration": 0,
    "start_time": "2024-11-19T14:33:11.921Z"
   },
   {
    "duration": 0,
    "start_time": "2024-11-19T14:33:11.942Z"
   },
   {
    "duration": 0,
    "start_time": "2024-11-19T14:33:11.944Z"
   },
   {
    "duration": 0,
    "start_time": "2024-11-19T14:33:11.944Z"
   },
   {
    "duration": 0,
    "start_time": "2024-11-19T14:33:11.945Z"
   },
   {
    "duration": 0,
    "start_time": "2024-11-19T14:33:11.946Z"
   },
   {
    "duration": 0,
    "start_time": "2024-11-19T14:33:11.948Z"
   },
   {
    "duration": 61,
    "start_time": "2024-11-19T14:34:26.714Z"
   },
   {
    "duration": 13702,
    "start_time": "2024-11-19T14:43:50.925Z"
   },
   {
    "duration": 14,
    "start_time": "2024-11-19T14:44:04.629Z"
   },
   {
    "duration": 16,
    "start_time": "2024-11-19T14:44:04.645Z"
   },
   {
    "duration": 5474,
    "start_time": "2024-11-19T14:45:56.917Z"
   },
   {
    "duration": 3902,
    "start_time": "2024-11-19T14:46:02.394Z"
   },
   {
    "duration": 66,
    "start_time": "2024-11-19T14:46:06.298Z"
   },
   {
    "duration": 13,
    "start_time": "2024-11-19T14:46:06.366Z"
   },
   {
    "duration": 163,
    "start_time": "2024-11-19T14:46:06.380Z"
   },
   {
    "duration": 179,
    "start_time": "2024-11-19T14:46:06.545Z"
   },
   {
    "duration": 202,
    "start_time": "2024-11-19T14:46:06.726Z"
   },
   {
    "duration": 183,
    "start_time": "2024-11-19T14:46:06.930Z"
   },
   {
    "duration": 169,
    "start_time": "2024-11-19T14:46:07.114Z"
   },
   {
    "duration": 155,
    "start_time": "2024-11-19T14:46:07.286Z"
   },
   {
    "duration": 7,
    "start_time": "2024-11-19T14:46:07.442Z"
   },
   {
    "duration": 317,
    "start_time": "2024-11-19T14:46:07.451Z"
   },
   {
    "duration": 10,
    "start_time": "2024-11-19T14:46:07.770Z"
   },
   {
    "duration": 33,
    "start_time": "2024-11-19T14:46:07.781Z"
   },
   {
    "duration": 27,
    "start_time": "2024-11-19T14:46:07.815Z"
   },
   {
    "duration": 134,
    "start_time": "2024-11-19T14:46:07.844Z"
   },
   {
    "duration": 369,
    "start_time": "2024-11-19T14:46:07.980Z"
   },
   {
    "duration": 17,
    "start_time": "2024-11-19T14:46:08.351Z"
   },
   {
    "duration": 16,
    "start_time": "2024-11-19T14:46:08.370Z"
   },
   {
    "duration": 8,
    "start_time": "2024-11-19T14:46:08.387Z"
   },
   {
    "duration": 200,
    "start_time": "2024-11-19T14:46:08.397Z"
   },
   {
    "duration": 7,
    "start_time": "2024-11-19T14:46:08.599Z"
   },
   {
    "duration": 185,
    "start_time": "2024-11-19T14:46:08.607Z"
   },
   {
    "duration": 11,
    "start_time": "2024-11-19T14:46:08.794Z"
   },
   {
    "duration": 131,
    "start_time": "2024-11-19T14:46:08.807Z"
   },
   {
    "duration": 306,
    "start_time": "2024-11-19T14:46:08.940Z"
   },
   {
    "duration": 1794,
    "start_time": "2024-11-19T14:46:09.248Z"
   },
   {
    "duration": 35,
    "start_time": "2024-11-19T14:46:11.046Z"
   },
   {
    "duration": 4,
    "start_time": "2024-11-19T14:46:11.083Z"
   },
   {
    "duration": 304,
    "start_time": "2024-11-19T14:46:11.089Z"
   },
   {
    "duration": 0,
    "start_time": "2024-11-19T14:46:11.395Z"
   },
   {
    "duration": 0,
    "start_time": "2024-11-19T14:46:11.396Z"
   },
   {
    "duration": 0,
    "start_time": "2024-11-19T14:46:11.397Z"
   },
   {
    "duration": 0,
    "start_time": "2024-11-19T14:46:11.398Z"
   },
   {
    "duration": 0,
    "start_time": "2024-11-19T14:46:11.399Z"
   },
   {
    "duration": 0,
    "start_time": "2024-11-19T14:46:11.401Z"
   },
   {
    "duration": 0,
    "start_time": "2024-11-19T14:46:11.402Z"
   },
   {
    "duration": 0,
    "start_time": "2024-11-19T14:46:11.403Z"
   },
   {
    "duration": 0,
    "start_time": "2024-11-19T14:46:11.404Z"
   },
   {
    "duration": 0,
    "start_time": "2024-11-19T14:46:11.405Z"
   },
   {
    "duration": 0,
    "start_time": "2024-11-19T14:46:11.406Z"
   },
   {
    "duration": 5484,
    "start_time": "2024-11-19T14:50:09.051Z"
   },
   {
    "duration": 3089,
    "start_time": "2024-11-19T14:50:14.537Z"
   },
   {
    "duration": 68,
    "start_time": "2024-11-19T14:50:17.628Z"
   },
   {
    "duration": 14,
    "start_time": "2024-11-19T14:50:17.699Z"
   },
   {
    "duration": 165,
    "start_time": "2024-11-19T14:50:17.715Z"
   },
   {
    "duration": 166,
    "start_time": "2024-11-19T14:50:17.883Z"
   },
   {
    "duration": 169,
    "start_time": "2024-11-19T14:50:18.051Z"
   },
   {
    "duration": 202,
    "start_time": "2024-11-19T14:50:18.221Z"
   },
   {
    "duration": 164,
    "start_time": "2024-11-19T14:50:18.425Z"
   },
   {
    "duration": 157,
    "start_time": "2024-11-19T14:50:18.592Z"
   },
   {
    "duration": 7,
    "start_time": "2024-11-19T14:50:18.751Z"
   },
   {
    "duration": 246,
    "start_time": "2024-11-19T14:50:18.759Z"
   },
   {
    "duration": 14,
    "start_time": "2024-11-19T14:50:19.007Z"
   },
   {
    "duration": 10,
    "start_time": "2024-11-19T14:50:19.042Z"
   },
   {
    "duration": 20,
    "start_time": "2024-11-19T14:50:19.054Z"
   },
   {
    "duration": 139,
    "start_time": "2024-11-19T14:50:19.076Z"
   },
   {
    "duration": 361,
    "start_time": "2024-11-19T14:50:19.217Z"
   },
   {
    "duration": 18,
    "start_time": "2024-11-19T14:50:19.580Z"
   },
   {
    "duration": 43,
    "start_time": "2024-11-19T14:50:19.600Z"
   },
   {
    "duration": 9,
    "start_time": "2024-11-19T14:50:19.645Z"
   },
   {
    "duration": 184,
    "start_time": "2024-11-19T14:50:19.656Z"
   },
   {
    "duration": 7,
    "start_time": "2024-11-19T14:50:19.843Z"
   },
   {
    "duration": 219,
    "start_time": "2024-11-19T14:50:19.852Z"
   },
   {
    "duration": 11,
    "start_time": "2024-11-19T14:50:20.073Z"
   },
   {
    "duration": 12,
    "start_time": "2024-11-19T14:50:20.086Z"
   },
   {
    "duration": 306,
    "start_time": "2024-11-19T14:50:20.099Z"
   },
   {
    "duration": 1815,
    "start_time": "2024-11-19T14:50:20.407Z"
   },
   {
    "duration": 45,
    "start_time": "2024-11-19T14:50:22.227Z"
   },
   {
    "duration": 36,
    "start_time": "2024-11-19T14:50:22.273Z"
   },
   {
    "duration": 450,
    "start_time": "2024-11-19T14:50:22.310Z"
   },
   {
    "duration": 0,
    "start_time": "2024-11-19T14:50:22.762Z"
   },
   {
    "duration": 0,
    "start_time": "2024-11-19T14:50:22.763Z"
   },
   {
    "duration": 0,
    "start_time": "2024-11-19T14:50:22.763Z"
   },
   {
    "duration": 0,
    "start_time": "2024-11-19T14:50:22.764Z"
   },
   {
    "duration": 0,
    "start_time": "2024-11-19T14:50:22.765Z"
   },
   {
    "duration": 0,
    "start_time": "2024-11-19T14:50:22.766Z"
   },
   {
    "duration": 0,
    "start_time": "2024-11-19T14:50:22.766Z"
   },
   {
    "duration": 0,
    "start_time": "2024-11-19T14:50:22.767Z"
   },
   {
    "duration": 0,
    "start_time": "2024-11-19T14:50:22.768Z"
   },
   {
    "duration": 0,
    "start_time": "2024-11-19T14:50:22.769Z"
   },
   {
    "duration": 0,
    "start_time": "2024-11-19T14:50:22.769Z"
   },
   {
    "duration": 91,
    "start_time": "2024-11-19T14:53:09.185Z"
   },
   {
    "duration": 71,
    "start_time": "2024-11-19T14:53:37.091Z"
   },
   {
    "duration": 4,
    "start_time": "2024-11-19T14:55:00.532Z"
   },
   {
    "duration": 82,
    "start_time": "2024-11-19T14:55:15.285Z"
   },
   {
    "duration": 5471,
    "start_time": "2024-11-19T14:56:08.828Z"
   },
   {
    "duration": 2990,
    "start_time": "2024-11-19T14:56:14.301Z"
   },
   {
    "duration": 66,
    "start_time": "2024-11-19T14:56:17.293Z"
   },
   {
    "duration": 12,
    "start_time": "2024-11-19T14:56:17.361Z"
   },
   {
    "duration": 177,
    "start_time": "2024-11-19T14:56:17.375Z"
   },
   {
    "duration": 168,
    "start_time": "2024-11-19T14:56:17.554Z"
   },
   {
    "duration": 162,
    "start_time": "2024-11-19T14:56:17.723Z"
   },
   {
    "duration": 196,
    "start_time": "2024-11-19T14:56:17.886Z"
   },
   {
    "duration": 175,
    "start_time": "2024-11-19T14:56:18.083Z"
   },
   {
    "duration": 180,
    "start_time": "2024-11-19T14:56:18.261Z"
   },
   {
    "duration": 7,
    "start_time": "2024-11-19T14:56:18.443Z"
   },
   {
    "duration": 252,
    "start_time": "2024-11-19T14:56:18.452Z"
   },
   {
    "duration": 11,
    "start_time": "2024-11-19T14:56:18.705Z"
   },
   {
    "duration": 27,
    "start_time": "2024-11-19T14:56:18.717Z"
   },
   {
    "duration": 9,
    "start_time": "2024-11-19T14:56:18.746Z"
   },
   {
    "duration": 153,
    "start_time": "2024-11-19T14:56:18.757Z"
   },
   {
    "duration": 349,
    "start_time": "2024-11-19T14:56:18.912Z"
   },
   {
    "duration": 16,
    "start_time": "2024-11-19T14:56:19.262Z"
   },
   {
    "duration": 15,
    "start_time": "2024-11-19T14:56:19.280Z"
   },
   {
    "duration": 13,
    "start_time": "2024-11-19T14:56:19.297Z"
   },
   {
    "duration": 181,
    "start_time": "2024-11-19T14:56:19.311Z"
   },
   {
    "duration": 8,
    "start_time": "2024-11-19T14:56:19.493Z"
   },
   {
    "duration": 191,
    "start_time": "2024-11-19T14:56:19.502Z"
   },
   {
    "duration": 9,
    "start_time": "2024-11-19T14:56:19.695Z"
   },
   {
    "duration": 13,
    "start_time": "2024-11-19T14:56:19.706Z"
   },
   {
    "duration": 306,
    "start_time": "2024-11-19T14:56:19.721Z"
   },
   {
    "duration": 1799,
    "start_time": "2024-11-19T14:56:20.029Z"
   },
   {
    "duration": 41,
    "start_time": "2024-11-19T14:56:21.832Z"
   },
   {
    "duration": 17,
    "start_time": "2024-11-19T14:56:21.875Z"
   },
   {
    "duration": 6,
    "start_time": "2024-11-19T14:56:21.893Z"
   },
   {
    "duration": 286,
    "start_time": "2024-11-19T14:56:21.901Z"
   },
   {
    "duration": 0,
    "start_time": "2024-11-19T14:56:22.189Z"
   },
   {
    "duration": 0,
    "start_time": "2024-11-19T14:56:22.190Z"
   },
   {
    "duration": 0,
    "start_time": "2024-11-19T14:56:22.191Z"
   },
   {
    "duration": 0,
    "start_time": "2024-11-19T14:56:22.192Z"
   },
   {
    "duration": 0,
    "start_time": "2024-11-19T14:56:22.193Z"
   },
   {
    "duration": 0,
    "start_time": "2024-11-19T14:56:22.194Z"
   },
   {
    "duration": 0,
    "start_time": "2024-11-19T14:56:22.196Z"
   },
   {
    "duration": 0,
    "start_time": "2024-11-19T14:56:22.197Z"
   },
   {
    "duration": 0,
    "start_time": "2024-11-19T14:56:22.198Z"
   },
   {
    "duration": 0,
    "start_time": "2024-11-19T14:56:22.199Z"
   },
   {
    "duration": 0,
    "start_time": "2024-11-19T14:56:22.200Z"
   },
   {
    "duration": 0,
    "start_time": "2024-11-19T14:56:22.201Z"
   },
   {
    "duration": 658,
    "start_time": "2024-11-19T14:57:15.345Z"
   },
   {
    "duration": 5510,
    "start_time": "2024-11-19T14:57:29.550Z"
   },
   {
    "duration": 2931,
    "start_time": "2024-11-19T14:57:35.062Z"
   },
   {
    "duration": 70,
    "start_time": "2024-11-19T14:57:37.995Z"
   },
   {
    "duration": 12,
    "start_time": "2024-11-19T14:57:38.067Z"
   },
   {
    "duration": 153,
    "start_time": "2024-11-19T14:57:38.080Z"
   },
   {
    "duration": 167,
    "start_time": "2024-11-19T14:57:38.242Z"
   },
   {
    "duration": 167,
    "start_time": "2024-11-19T14:57:38.411Z"
   },
   {
    "duration": 193,
    "start_time": "2024-11-19T14:57:38.579Z"
   },
   {
    "duration": 194,
    "start_time": "2024-11-19T14:57:38.774Z"
   },
   {
    "duration": 165,
    "start_time": "2024-11-19T14:57:38.971Z"
   },
   {
    "duration": 10,
    "start_time": "2024-11-19T14:57:39.138Z"
   },
   {
    "duration": 253,
    "start_time": "2024-11-19T14:57:39.150Z"
   },
   {
    "duration": 11,
    "start_time": "2024-11-19T14:57:39.404Z"
   },
   {
    "duration": 28,
    "start_time": "2024-11-19T14:57:39.416Z"
   },
   {
    "duration": 9,
    "start_time": "2024-11-19T14:57:39.445Z"
   },
   {
    "duration": 141,
    "start_time": "2024-11-19T14:57:39.456Z"
   },
   {
    "duration": 382,
    "start_time": "2024-11-19T14:57:39.599Z"
   },
   {
    "duration": 18,
    "start_time": "2024-11-19T14:57:39.982Z"
   },
   {
    "duration": 23,
    "start_time": "2024-11-19T14:57:40.001Z"
   },
   {
    "duration": 20,
    "start_time": "2024-11-19T14:57:40.025Z"
   },
   {
    "duration": 175,
    "start_time": "2024-11-19T14:57:40.047Z"
   },
   {
    "duration": 7,
    "start_time": "2024-11-19T14:57:40.224Z"
   },
   {
    "duration": 170,
    "start_time": "2024-11-19T14:57:40.233Z"
   },
   {
    "duration": 8,
    "start_time": "2024-11-19T14:57:40.405Z"
   },
   {
    "duration": 14,
    "start_time": "2024-11-19T14:57:40.415Z"
   },
   {
    "duration": 297,
    "start_time": "2024-11-19T14:57:40.430Z"
   },
   {
    "duration": 1840,
    "start_time": "2024-11-19T14:57:40.729Z"
   },
   {
    "duration": 36,
    "start_time": "2024-11-19T14:57:42.574Z"
   },
   {
    "duration": 4,
    "start_time": "2024-11-19T14:57:42.612Z"
   },
   {
    "duration": 925,
    "start_time": "2024-11-19T14:57:42.642Z"
   },
   {
    "duration": 0,
    "start_time": "2024-11-19T14:57:43.569Z"
   },
   {
    "duration": 0,
    "start_time": "2024-11-19T14:57:43.570Z"
   },
   {
    "duration": 0,
    "start_time": "2024-11-19T14:57:43.572Z"
   },
   {
    "duration": 0,
    "start_time": "2024-11-19T14:57:43.573Z"
   },
   {
    "duration": 0,
    "start_time": "2024-11-19T14:57:43.574Z"
   },
   {
    "duration": 0,
    "start_time": "2024-11-19T14:57:43.575Z"
   },
   {
    "duration": 0,
    "start_time": "2024-11-19T14:57:43.576Z"
   },
   {
    "duration": 0,
    "start_time": "2024-11-19T14:57:43.577Z"
   },
   {
    "duration": 0,
    "start_time": "2024-11-19T14:57:43.578Z"
   },
   {
    "duration": 0,
    "start_time": "2024-11-19T14:57:43.579Z"
   },
   {
    "duration": 0,
    "start_time": "2024-11-19T14:57:43.580Z"
   },
   {
    "duration": 1,
    "start_time": "2024-11-19T14:57:43.581Z"
   },
   {
    "duration": 0,
    "start_time": "2024-11-19T14:57:43.582Z"
   },
   {
    "duration": 13667,
    "start_time": "2024-11-19T15:05:30.285Z"
   },
   {
    "duration": 72,
    "start_time": "2024-11-19T15:05:50.873Z"
   },
   {
    "duration": 5,
    "start_time": "2024-11-19T15:05:55.032Z"
   },
   {
    "duration": 36,
    "start_time": "2024-11-19T15:08:55.365Z"
   },
   {
    "duration": 5703,
    "start_time": "2024-11-19T15:09:04.462Z"
   },
   {
    "duration": 3118,
    "start_time": "2024-11-19T15:09:10.167Z"
   },
   {
    "duration": 67,
    "start_time": "2024-11-19T15:09:13.287Z"
   },
   {
    "duration": 12,
    "start_time": "2024-11-19T15:09:13.356Z"
   },
   {
    "duration": 154,
    "start_time": "2024-11-19T15:09:13.370Z"
   },
   {
    "duration": 196,
    "start_time": "2024-11-19T15:09:13.526Z"
   },
   {
    "duration": 196,
    "start_time": "2024-11-19T15:09:13.724Z"
   },
   {
    "duration": 240,
    "start_time": "2024-11-19T15:09:13.922Z"
   },
   {
    "duration": 181,
    "start_time": "2024-11-19T15:09:14.164Z"
   },
   {
    "duration": 162,
    "start_time": "2024-11-19T15:09:14.348Z"
   },
   {
    "duration": 8,
    "start_time": "2024-11-19T15:09:14.512Z"
   },
   {
    "duration": 256,
    "start_time": "2024-11-19T15:09:14.521Z"
   },
   {
    "duration": 15,
    "start_time": "2024-11-19T15:09:14.780Z"
   },
   {
    "duration": 15,
    "start_time": "2024-11-19T15:09:14.797Z"
   },
   {
    "duration": 11,
    "start_time": "2024-11-19T15:09:14.843Z"
   },
   {
    "duration": 189,
    "start_time": "2024-11-19T15:09:14.855Z"
   },
   {
    "duration": 409,
    "start_time": "2024-11-19T15:09:15.045Z"
   },
   {
    "duration": 25,
    "start_time": "2024-11-19T15:09:15.457Z"
   },
   {
    "duration": 36,
    "start_time": "2024-11-19T15:09:15.484Z"
   },
   {
    "duration": 29,
    "start_time": "2024-11-19T15:09:15.522Z"
   },
   {
    "duration": 284,
    "start_time": "2024-11-19T15:09:15.554Z"
   },
   {
    "duration": 8,
    "start_time": "2024-11-19T15:09:15.840Z"
   },
   {
    "duration": 208,
    "start_time": "2024-11-19T15:09:15.850Z"
   },
   {
    "duration": 9,
    "start_time": "2024-11-19T15:09:16.059Z"
   },
   {
    "duration": 31,
    "start_time": "2024-11-19T15:09:16.070Z"
   },
   {
    "duration": 307,
    "start_time": "2024-11-19T15:09:16.103Z"
   },
   {
    "duration": 1885,
    "start_time": "2024-11-19T15:09:16.412Z"
   },
   {
    "duration": 51,
    "start_time": "2024-11-19T15:09:18.301Z"
   },
   {
    "duration": 51,
    "start_time": "2024-11-19T15:09:18.354Z"
   },
   {
    "duration": 288,
    "start_time": "2024-11-19T15:09:18.406Z"
   },
   {
    "duration": 0,
    "start_time": "2024-11-19T15:09:18.696Z"
   },
   {
    "duration": 0,
    "start_time": "2024-11-19T15:09:18.697Z"
   },
   {
    "duration": 0,
    "start_time": "2024-11-19T15:09:18.698Z"
   },
   {
    "duration": 0,
    "start_time": "2024-11-19T15:09:18.699Z"
   },
   {
    "duration": 0,
    "start_time": "2024-11-19T15:09:18.701Z"
   },
   {
    "duration": 0,
    "start_time": "2024-11-19T15:09:18.701Z"
   },
   {
    "duration": 0,
    "start_time": "2024-11-19T15:09:18.703Z"
   },
   {
    "duration": 0,
    "start_time": "2024-11-19T15:09:18.704Z"
   },
   {
    "duration": 0,
    "start_time": "2024-11-19T15:09:18.705Z"
   },
   {
    "duration": 0,
    "start_time": "2024-11-19T15:09:18.707Z"
   },
   {
    "duration": 0,
    "start_time": "2024-11-19T15:09:18.708Z"
   },
   {
    "duration": 0,
    "start_time": "2024-11-19T15:09:18.709Z"
   },
   {
    "duration": 0,
    "start_time": "2024-11-19T15:09:18.710Z"
   },
   {
    "duration": 154,
    "start_time": "2024-11-19T15:12:21.386Z"
   },
   {
    "duration": 5469,
    "start_time": "2024-11-19T15:12:42.705Z"
   },
   {
    "duration": 3018,
    "start_time": "2024-11-19T15:12:48.176Z"
   },
   {
    "duration": 66,
    "start_time": "2024-11-19T15:12:51.196Z"
   },
   {
    "duration": 12,
    "start_time": "2024-11-19T15:12:51.264Z"
   },
   {
    "duration": 158,
    "start_time": "2024-11-19T15:12:51.277Z"
   },
   {
    "duration": 180,
    "start_time": "2024-11-19T15:12:51.437Z"
   },
   {
    "duration": 180,
    "start_time": "2024-11-19T15:12:51.618Z"
   },
   {
    "duration": 206,
    "start_time": "2024-11-19T15:12:51.799Z"
   },
   {
    "duration": 184,
    "start_time": "2024-11-19T15:12:52.007Z"
   },
   {
    "duration": 154,
    "start_time": "2024-11-19T15:12:52.194Z"
   },
   {
    "duration": 7,
    "start_time": "2024-11-19T15:12:52.349Z"
   },
   {
    "duration": 318,
    "start_time": "2024-11-19T15:12:52.357Z"
   },
   {
    "duration": 10,
    "start_time": "2024-11-19T15:12:52.677Z"
   },
   {
    "duration": 9,
    "start_time": "2024-11-19T15:12:52.689Z"
   },
   {
    "duration": 17,
    "start_time": "2024-11-19T15:12:52.699Z"
   },
   {
    "duration": 160,
    "start_time": "2024-11-19T15:12:52.717Z"
   },
   {
    "duration": 388,
    "start_time": "2024-11-19T15:12:52.879Z"
   },
   {
    "duration": 15,
    "start_time": "2024-11-19T15:12:53.269Z"
   },
   {
    "duration": 16,
    "start_time": "2024-11-19T15:12:53.286Z"
   },
   {
    "duration": 8,
    "start_time": "2024-11-19T15:12:53.304Z"
   },
   {
    "duration": 198,
    "start_time": "2024-11-19T15:12:53.313Z"
   },
   {
    "duration": 8,
    "start_time": "2024-11-19T15:12:53.512Z"
   },
   {
    "duration": 228,
    "start_time": "2024-11-19T15:12:53.521Z"
   },
   {
    "duration": 8,
    "start_time": "2024-11-19T15:12:53.751Z"
   },
   {
    "duration": 8,
    "start_time": "2024-11-19T15:12:53.760Z"
   },
   {
    "duration": 323,
    "start_time": "2024-11-19T15:12:53.770Z"
   },
   {
    "duration": 1775,
    "start_time": "2024-11-19T15:12:54.095Z"
   },
   {
    "duration": 36,
    "start_time": "2024-11-19T15:12:55.874Z"
   },
   {
    "duration": 4,
    "start_time": "2024-11-19T15:12:55.912Z"
   },
   {
    "duration": 313,
    "start_time": "2024-11-19T15:12:55.918Z"
   },
   {
    "duration": 0,
    "start_time": "2024-11-19T15:12:56.232Z"
   },
   {
    "duration": 0,
    "start_time": "2024-11-19T15:12:56.233Z"
   },
   {
    "duration": 0,
    "start_time": "2024-11-19T15:12:56.243Z"
   },
   {
    "duration": 0,
    "start_time": "2024-11-19T15:12:56.244Z"
   },
   {
    "duration": 0,
    "start_time": "2024-11-19T15:12:56.245Z"
   },
   {
    "duration": 0,
    "start_time": "2024-11-19T15:12:56.246Z"
   },
   {
    "duration": 0,
    "start_time": "2024-11-19T15:12:56.247Z"
   },
   {
    "duration": 0,
    "start_time": "2024-11-19T15:12:56.248Z"
   },
   {
    "duration": 0,
    "start_time": "2024-11-19T15:12:56.250Z"
   },
   {
    "duration": 0,
    "start_time": "2024-11-19T15:12:56.251Z"
   },
   {
    "duration": 0,
    "start_time": "2024-11-19T15:12:56.253Z"
   },
   {
    "duration": 0,
    "start_time": "2024-11-19T15:12:56.254Z"
   },
   {
    "duration": 0,
    "start_time": "2024-11-19T15:12:56.255Z"
   },
   {
    "duration": 198,
    "start_time": "2024-11-19T15:13:24.881Z"
   },
   {
    "duration": 5548,
    "start_time": "2024-11-19T15:13:33.861Z"
   },
   {
    "duration": 3069,
    "start_time": "2024-11-19T15:13:39.411Z"
   },
   {
    "duration": 67,
    "start_time": "2024-11-19T15:13:42.482Z"
   },
   {
    "duration": 12,
    "start_time": "2024-11-19T15:13:42.552Z"
   },
   {
    "duration": 168,
    "start_time": "2024-11-19T15:13:42.566Z"
   },
   {
    "duration": 183,
    "start_time": "2024-11-19T15:13:42.736Z"
   },
   {
    "duration": 169,
    "start_time": "2024-11-19T15:13:42.920Z"
   },
   {
    "duration": 187,
    "start_time": "2024-11-19T15:13:43.091Z"
   },
   {
    "duration": 171,
    "start_time": "2024-11-19T15:13:43.280Z"
   },
   {
    "duration": 159,
    "start_time": "2024-11-19T15:13:43.454Z"
   },
   {
    "duration": 7,
    "start_time": "2024-11-19T15:13:43.615Z"
   },
   {
    "duration": 298,
    "start_time": "2024-11-19T15:13:43.624Z"
   },
   {
    "duration": 20,
    "start_time": "2024-11-19T15:13:43.923Z"
   },
   {
    "duration": 19,
    "start_time": "2024-11-19T15:13:43.944Z"
   },
   {
    "duration": 85,
    "start_time": "2024-11-19T15:13:43.965Z"
   },
   {
    "duration": 174,
    "start_time": "2024-11-19T15:13:44.052Z"
   },
   {
    "duration": 352,
    "start_time": "2024-11-19T15:13:44.229Z"
   },
   {
    "duration": 15,
    "start_time": "2024-11-19T15:13:44.582Z"
   },
   {
    "duration": 56,
    "start_time": "2024-11-19T15:13:44.599Z"
   },
   {
    "duration": 16,
    "start_time": "2024-11-19T15:13:44.656Z"
   },
   {
    "duration": 211,
    "start_time": "2024-11-19T15:13:44.674Z"
   },
   {
    "duration": 8,
    "start_time": "2024-11-19T15:13:44.887Z"
   },
   {
    "duration": 295,
    "start_time": "2024-11-19T15:13:44.898Z"
   },
   {
    "duration": 8,
    "start_time": "2024-11-19T15:13:45.195Z"
   },
   {
    "duration": 55,
    "start_time": "2024-11-19T15:13:45.205Z"
   },
   {
    "duration": 366,
    "start_time": "2024-11-19T15:13:45.261Z"
   },
   {
    "duration": 1876,
    "start_time": "2024-11-19T15:13:45.629Z"
   },
   {
    "duration": 51,
    "start_time": "2024-11-19T15:13:47.508Z"
   },
   {
    "duration": 4,
    "start_time": "2024-11-19T15:13:47.561Z"
   },
   {
    "duration": 460,
    "start_time": "2024-11-19T15:13:47.567Z"
   },
   {
    "duration": 0,
    "start_time": "2024-11-19T15:13:48.029Z"
   },
   {
    "duration": 0,
    "start_time": "2024-11-19T15:13:48.030Z"
   },
   {
    "duration": 0,
    "start_time": "2024-11-19T15:13:48.031Z"
   },
   {
    "duration": 0,
    "start_time": "2024-11-19T15:13:48.032Z"
   },
   {
    "duration": 0,
    "start_time": "2024-11-19T15:13:48.033Z"
   },
   {
    "duration": 0,
    "start_time": "2024-11-19T15:13:48.042Z"
   },
   {
    "duration": 0,
    "start_time": "2024-11-19T15:13:48.044Z"
   },
   {
    "duration": 0,
    "start_time": "2024-11-19T15:13:48.044Z"
   },
   {
    "duration": 0,
    "start_time": "2024-11-19T15:13:48.045Z"
   },
   {
    "duration": 0,
    "start_time": "2024-11-19T15:13:48.047Z"
   },
   {
    "duration": 0,
    "start_time": "2024-11-19T15:13:48.048Z"
   },
   {
    "duration": 0,
    "start_time": "2024-11-19T15:13:48.048Z"
   },
   {
    "duration": 0,
    "start_time": "2024-11-19T15:13:48.049Z"
   },
   {
    "duration": 15024,
    "start_time": "2024-11-19T15:15:41.037Z"
   },
   {
    "duration": 743,
    "start_time": "2024-11-19T15:17:42.741Z"
   },
   {
    "duration": 5498,
    "start_time": "2024-11-19T15:20:18.460Z"
   },
   {
    "duration": 2972,
    "start_time": "2024-11-19T15:20:23.960Z"
   },
   {
    "duration": 68,
    "start_time": "2024-11-19T15:20:26.934Z"
   },
   {
    "duration": 75,
    "start_time": "2024-11-19T15:20:27.005Z"
   },
   {
    "duration": 139,
    "start_time": "2024-11-19T15:20:27.082Z"
   },
   {
    "duration": 163,
    "start_time": "2024-11-19T15:20:27.223Z"
   },
   {
    "duration": 172,
    "start_time": "2024-11-19T15:20:27.388Z"
   },
   {
    "duration": 187,
    "start_time": "2024-11-19T15:20:27.562Z"
   },
   {
    "duration": 169,
    "start_time": "2024-11-19T15:20:27.751Z"
   },
   {
    "duration": 186,
    "start_time": "2024-11-19T15:20:27.923Z"
   },
   {
    "duration": 9,
    "start_time": "2024-11-19T15:20:28.111Z"
   },
   {
    "duration": 243,
    "start_time": "2024-11-19T15:20:28.122Z"
   },
   {
    "duration": 13,
    "start_time": "2024-11-19T15:20:28.367Z"
   },
   {
    "duration": 62,
    "start_time": "2024-11-19T15:20:28.382Z"
   },
   {
    "duration": 23,
    "start_time": "2024-11-19T15:20:28.445Z"
   },
   {
    "duration": 149,
    "start_time": "2024-11-19T15:20:28.469Z"
   },
   {
    "duration": 358,
    "start_time": "2024-11-19T15:20:28.620Z"
   },
   {
    "duration": 16,
    "start_time": "2024-11-19T15:20:28.979Z"
   },
   {
    "duration": 89,
    "start_time": "2024-11-19T15:20:28.996Z"
   },
   {
    "duration": 8,
    "start_time": "2024-11-19T15:20:29.087Z"
   },
   {
    "duration": 155,
    "start_time": "2024-11-19T15:20:29.097Z"
   },
   {
    "duration": 8,
    "start_time": "2024-11-19T15:20:29.253Z"
   },
   {
    "duration": 186,
    "start_time": "2024-11-19T15:20:29.262Z"
   },
   {
    "duration": 8,
    "start_time": "2024-11-19T15:20:29.449Z"
   },
   {
    "duration": 6,
    "start_time": "2024-11-19T15:20:29.459Z"
   },
   {
    "duration": 352,
    "start_time": "2024-11-19T15:20:29.467Z"
   },
   {
    "duration": 1833,
    "start_time": "2024-11-19T15:20:29.821Z"
   },
   {
    "duration": 35,
    "start_time": "2024-11-19T15:20:31.658Z"
   },
   {
    "duration": 22,
    "start_time": "2024-11-19T15:20:31.695Z"
   },
   {
    "duration": 14357,
    "start_time": "2024-11-19T15:20:31.719Z"
   },
   {
    "duration": 905,
    "start_time": "2024-11-19T15:20:46.078Z"
   },
   {
    "duration": 4,
    "start_time": "2024-11-19T15:20:46.984Z"
   },
   {
    "duration": 42,
    "start_time": "2024-11-19T15:20:46.989Z"
   },
   {
    "duration": 541,
    "start_time": "2024-11-19T15:20:47.033Z"
   },
   {
    "duration": 4,
    "start_time": "2024-11-19T15:20:47.576Z"
   },
   {
    "duration": 13,
    "start_time": "2024-11-19T15:20:47.582Z"
   },
   {
    "duration": 852,
    "start_time": "2024-11-19T15:20:47.597Z"
   },
   {
    "duration": 0,
    "start_time": "2024-11-19T15:20:48.451Z"
   },
   {
    "duration": 0,
    "start_time": "2024-11-19T15:20:48.453Z"
   },
   {
    "duration": 0,
    "start_time": "2024-11-19T15:20:48.454Z"
   },
   {
    "duration": 0,
    "start_time": "2024-11-19T15:20:48.455Z"
   },
   {
    "duration": 0,
    "start_time": "2024-11-19T15:20:48.456Z"
   },
   {
    "duration": 19324,
    "start_time": "2024-11-19T15:21:32.636Z"
   },
   {
    "duration": 480,
    "start_time": "2024-11-19T15:22:04.498Z"
   },
   {
    "duration": 263,
    "start_time": "2024-11-19T15:22:35.121Z"
   },
   {
    "duration": 4,
    "start_time": "2024-11-19T15:23:06.597Z"
   },
   {
    "duration": 957,
    "start_time": "2024-11-19T15:23:06.866Z"
   },
   {
    "duration": 562,
    "start_time": "2024-11-19T15:23:14.900Z"
   },
   {
    "duration": 593,
    "start_time": "2024-11-19T15:23:45.543Z"
   },
   {
    "duration": 5639,
    "start_time": "2024-11-19T15:24:03.565Z"
   },
   {
    "duration": 3092,
    "start_time": "2024-11-19T15:24:09.207Z"
   },
   {
    "duration": 68,
    "start_time": "2024-11-19T15:24:12.300Z"
   },
   {
    "duration": 14,
    "start_time": "2024-11-19T15:24:12.370Z"
   },
   {
    "duration": 253,
    "start_time": "2024-11-19T15:24:12.385Z"
   },
   {
    "duration": 217,
    "start_time": "2024-11-19T15:24:12.640Z"
   },
   {
    "duration": 198,
    "start_time": "2024-11-19T15:24:12.859Z"
   },
   {
    "duration": 187,
    "start_time": "2024-11-19T15:24:13.059Z"
   },
   {
    "duration": 200,
    "start_time": "2024-11-19T15:24:13.248Z"
   },
   {
    "duration": 156,
    "start_time": "2024-11-19T15:24:13.450Z"
   },
   {
    "duration": 7,
    "start_time": "2024-11-19T15:24:13.608Z"
   },
   {
    "duration": 334,
    "start_time": "2024-11-19T15:24:13.617Z"
   },
   {
    "duration": 14,
    "start_time": "2024-11-19T15:24:13.953Z"
   },
   {
    "duration": 11,
    "start_time": "2024-11-19T15:24:13.969Z"
   },
   {
    "duration": 13,
    "start_time": "2024-11-19T15:24:13.982Z"
   },
   {
    "duration": 171,
    "start_time": "2024-11-19T15:24:13.996Z"
   },
   {
    "duration": 422,
    "start_time": "2024-11-19T15:24:14.169Z"
   },
   {
    "duration": 17,
    "start_time": "2024-11-19T15:24:14.594Z"
   },
   {
    "duration": 40,
    "start_time": "2024-11-19T15:24:14.613Z"
   },
   {
    "duration": 9,
    "start_time": "2024-11-19T15:24:14.656Z"
   },
   {
    "duration": 184,
    "start_time": "2024-11-19T15:24:14.667Z"
   },
   {
    "duration": 10,
    "start_time": "2024-11-19T15:24:14.854Z"
   },
   {
    "duration": 198,
    "start_time": "2024-11-19T15:24:14.866Z"
   },
   {
    "duration": 8,
    "start_time": "2024-11-19T15:24:15.066Z"
   },
   {
    "duration": 77,
    "start_time": "2024-11-19T15:24:15.075Z"
   },
   {
    "duration": 367,
    "start_time": "2024-11-19T15:24:15.153Z"
   },
   {
    "duration": 1846,
    "start_time": "2024-11-19T15:24:15.522Z"
   },
   {
    "duration": 37,
    "start_time": "2024-11-19T15:24:17.372Z"
   },
   {
    "duration": 4,
    "start_time": "2024-11-19T15:24:17.411Z"
   },
   {
    "duration": 14540,
    "start_time": "2024-11-19T15:24:17.416Z"
   },
   {
    "duration": 835,
    "start_time": "2024-11-19T15:24:31.957Z"
   },
   {
    "duration": 4,
    "start_time": "2024-11-19T15:24:32.794Z"
   },
   {
    "duration": 20,
    "start_time": "2024-11-19T15:24:32.800Z"
   },
   {
    "duration": 560,
    "start_time": "2024-11-19T15:24:32.822Z"
   },
   {
    "duration": 4,
    "start_time": "2024-11-19T15:24:33.384Z"
   },
   {
    "duration": 18953,
    "start_time": "2024-11-19T15:24:33.390Z"
   },
   {
    "duration": 629,
    "start_time": "2024-11-19T15:24:52.345Z"
   },
   {
    "duration": 814,
    "start_time": "2024-11-19T15:24:52.976Z"
   },
   {
    "duration": 5,
    "start_time": "2024-11-19T15:24:53.791Z"
   },
   {
    "duration": 689,
    "start_time": "2024-11-19T15:24:53.798Z"
   },
   {
    "duration": 5502,
    "start_time": "2024-11-19T15:25:06.363Z"
   },
   {
    "duration": 2909,
    "start_time": "2024-11-19T15:25:11.868Z"
   },
   {
    "duration": 69,
    "start_time": "2024-11-19T15:25:14.779Z"
   },
   {
    "duration": 21,
    "start_time": "2024-11-19T15:25:14.850Z"
   },
   {
    "duration": 161,
    "start_time": "2024-11-19T15:25:14.873Z"
   },
   {
    "duration": 171,
    "start_time": "2024-11-19T15:25:15.035Z"
   },
   {
    "duration": 165,
    "start_time": "2024-11-19T15:25:15.208Z"
   },
   {
    "duration": 186,
    "start_time": "2024-11-19T15:25:15.375Z"
   },
   {
    "duration": 177,
    "start_time": "2024-11-19T15:25:15.563Z"
   },
   {
    "duration": 155,
    "start_time": "2024-11-19T15:25:15.743Z"
   },
   {
    "duration": 7,
    "start_time": "2024-11-19T15:25:15.899Z"
   },
   {
    "duration": 296,
    "start_time": "2024-11-19T15:25:15.908Z"
   },
   {
    "duration": 11,
    "start_time": "2024-11-19T15:25:16.206Z"
   },
   {
    "duration": 31,
    "start_time": "2024-11-19T15:25:16.219Z"
   },
   {
    "duration": 42,
    "start_time": "2024-11-19T15:25:16.252Z"
   },
   {
    "duration": 155,
    "start_time": "2024-11-19T15:25:16.296Z"
   },
   {
    "duration": 386,
    "start_time": "2024-11-19T15:25:16.453Z"
   },
   {
    "duration": 16,
    "start_time": "2024-11-19T15:25:16.841Z"
   },
   {
    "duration": 31,
    "start_time": "2024-11-19T15:25:16.859Z"
   },
   {
    "duration": 7,
    "start_time": "2024-11-19T15:25:16.892Z"
   },
   {
    "duration": 191,
    "start_time": "2024-11-19T15:25:16.901Z"
   },
   {
    "duration": 8,
    "start_time": "2024-11-19T15:25:17.093Z"
   },
   {
    "duration": 180,
    "start_time": "2024-11-19T15:25:17.103Z"
   },
   {
    "duration": 8,
    "start_time": "2024-11-19T15:25:17.284Z"
   },
   {
    "duration": 11,
    "start_time": "2024-11-19T15:25:17.294Z"
   },
   {
    "duration": 315,
    "start_time": "2024-11-19T15:25:17.306Z"
   },
   {
    "duration": 1844,
    "start_time": "2024-11-19T15:25:17.623Z"
   },
   {
    "duration": 55,
    "start_time": "2024-11-19T15:25:19.470Z"
   },
   {
    "duration": 18,
    "start_time": "2024-11-19T15:25:19.527Z"
   },
   {
    "duration": 14732,
    "start_time": "2024-11-19T15:25:19.547Z"
   },
   {
    "duration": 914,
    "start_time": "2024-11-19T15:25:34.281Z"
   },
   {
    "duration": 4,
    "start_time": "2024-11-19T15:25:35.197Z"
   },
   {
    "duration": 562,
    "start_time": "2024-11-19T15:25:35.202Z"
   },
   {
    "duration": 5,
    "start_time": "2024-11-19T15:25:35.766Z"
   },
   {
    "duration": 19388,
    "start_time": "2024-11-19T15:25:35.773Z"
   },
   {
    "duration": 620,
    "start_time": "2024-11-19T15:25:55.163Z"
   },
   {
    "duration": 761,
    "start_time": "2024-11-19T15:25:55.784Z"
   },
   {
    "duration": 5,
    "start_time": "2024-11-19T15:25:56.546Z"
   },
   {
    "duration": 779,
    "start_time": "2024-11-19T15:25:56.553Z"
   },
   {
    "duration": 5430,
    "start_time": "2024-11-19T15:27:52.370Z"
   },
   {
    "duration": 2976,
    "start_time": "2024-11-19T15:27:57.802Z"
   },
   {
    "duration": 75,
    "start_time": "2024-11-19T15:28:00.779Z"
   },
   {
    "duration": 15,
    "start_time": "2024-11-19T15:28:00.856Z"
   },
   {
    "duration": 173,
    "start_time": "2024-11-19T15:28:00.872Z"
   },
   {
    "duration": 168,
    "start_time": "2024-11-19T15:28:01.047Z"
   },
   {
    "duration": 169,
    "start_time": "2024-11-19T15:28:01.217Z"
   },
   {
    "duration": 190,
    "start_time": "2024-11-19T15:28:01.387Z"
   },
   {
    "duration": 168,
    "start_time": "2024-11-19T15:28:01.579Z"
   },
   {
    "duration": 155,
    "start_time": "2024-11-19T15:28:01.750Z"
   },
   {
    "duration": 6,
    "start_time": "2024-11-19T15:28:01.907Z"
   },
   {
    "duration": 306,
    "start_time": "2024-11-19T15:28:01.915Z"
   },
   {
    "duration": 21,
    "start_time": "2024-11-19T15:28:02.223Z"
   },
   {
    "duration": 47,
    "start_time": "2024-11-19T15:28:02.245Z"
   },
   {
    "duration": 19,
    "start_time": "2024-11-19T15:28:02.294Z"
   },
   {
    "duration": 152,
    "start_time": "2024-11-19T15:28:02.314Z"
   },
   {
    "duration": 390,
    "start_time": "2024-11-19T15:28:02.467Z"
   },
   {
    "duration": 16,
    "start_time": "2024-11-19T15:28:02.859Z"
   },
   {
    "duration": 32,
    "start_time": "2024-11-19T15:28:02.876Z"
   },
   {
    "duration": 8,
    "start_time": "2024-11-19T15:28:02.910Z"
   },
   {
    "duration": 266,
    "start_time": "2024-11-19T15:28:02.920Z"
   },
   {
    "duration": 8,
    "start_time": "2024-11-19T15:28:03.188Z"
   },
   {
    "duration": 180,
    "start_time": "2024-11-19T15:28:03.198Z"
   },
   {
    "duration": 8,
    "start_time": "2024-11-19T15:28:03.380Z"
   },
   {
    "duration": 13,
    "start_time": "2024-11-19T15:28:03.390Z"
   },
   {
    "duration": 309,
    "start_time": "2024-11-19T15:28:03.405Z"
   },
   {
    "duration": 1875,
    "start_time": "2024-11-19T15:28:03.716Z"
   },
   {
    "duration": 55,
    "start_time": "2024-11-19T15:28:05.595Z"
   },
   {
    "duration": 14626,
    "start_time": "2024-11-19T15:28:05.651Z"
   },
   {
    "duration": 907,
    "start_time": "2024-11-19T15:28:20.279Z"
   },
   {
    "duration": 18984,
    "start_time": "2024-11-19T15:28:21.188Z"
   },
   {
    "duration": 697,
    "start_time": "2024-11-19T15:28:40.174Z"
   },
   {
    "duration": 584,
    "start_time": "2024-11-19T15:28:40.872Z"
   },
   {
    "duration": 5,
    "start_time": "2024-11-19T15:28:41.457Z"
   },
   {
    "duration": 962,
    "start_time": "2024-11-19T15:28:41.464Z"
   },
   {
    "duration": 5506,
    "start_time": "2024-11-19T15:35:02.231Z"
   },
   {
    "duration": 3098,
    "start_time": "2024-11-19T15:35:07.740Z"
   },
   {
    "duration": 72,
    "start_time": "2024-11-19T15:35:10.840Z"
   },
   {
    "duration": 14,
    "start_time": "2024-11-19T15:35:10.915Z"
   },
   {
    "duration": 230,
    "start_time": "2024-11-19T15:35:10.943Z"
   },
   {
    "duration": 179,
    "start_time": "2024-11-19T15:35:11.175Z"
   },
   {
    "duration": 184,
    "start_time": "2024-11-19T15:35:11.356Z"
   },
   {
    "duration": 225,
    "start_time": "2024-11-19T15:35:11.543Z"
   },
   {
    "duration": 197,
    "start_time": "2024-11-19T15:35:11.769Z"
   },
   {
    "duration": 157,
    "start_time": "2024-11-19T15:35:11.968Z"
   },
   {
    "duration": 17,
    "start_time": "2024-11-19T15:35:12.127Z"
   },
   {
    "duration": 263,
    "start_time": "2024-11-19T15:35:12.145Z"
   },
   {
    "duration": 11,
    "start_time": "2024-11-19T15:35:12.410Z"
   },
   {
    "duration": 94,
    "start_time": "2024-11-19T15:35:12.423Z"
   },
   {
    "duration": 13,
    "start_time": "2024-11-19T15:35:12.519Z"
   },
   {
    "duration": 126,
    "start_time": "2024-11-19T15:35:12.534Z"
   },
   {
    "duration": 397,
    "start_time": "2024-11-19T15:35:12.662Z"
   },
   {
    "duration": 15,
    "start_time": "2024-11-19T15:35:13.061Z"
   },
   {
    "duration": 58,
    "start_time": "2024-11-19T15:35:13.078Z"
   },
   {
    "duration": 16,
    "start_time": "2024-11-19T15:35:13.137Z"
   },
   {
    "duration": 168,
    "start_time": "2024-11-19T15:35:13.155Z"
   },
   {
    "duration": 19,
    "start_time": "2024-11-19T15:35:13.325Z"
   },
   {
    "duration": 184,
    "start_time": "2024-11-19T15:35:13.345Z"
   },
   {
    "duration": 21,
    "start_time": "2024-11-19T15:35:13.531Z"
   },
   {
    "duration": 6,
    "start_time": "2024-11-19T15:35:13.554Z"
   },
   {
    "duration": 339,
    "start_time": "2024-11-19T15:35:13.562Z"
   },
   {
    "duration": 1896,
    "start_time": "2024-11-19T15:35:13.903Z"
   },
   {
    "duration": 45,
    "start_time": "2024-11-19T15:35:15.803Z"
   },
   {
    "duration": 14996,
    "start_time": "2024-11-19T15:35:15.850Z"
   },
   {
    "duration": 954,
    "start_time": "2024-11-19T15:35:30.848Z"
   },
   {
    "duration": 20366,
    "start_time": "2024-11-19T15:35:31.804Z"
   },
   {
    "duration": 719,
    "start_time": "2024-11-19T15:35:52.172Z"
   },
   {
    "duration": 5,
    "start_time": "2024-11-19T15:35:52.893Z"
   },
   {
    "duration": 702,
    "start_time": "2024-11-19T15:35:52.900Z"
   },
   {
    "duration": 6579,
    "start_time": "2024-11-19T15:43:04.917Z"
   },
   {
    "duration": 2945,
    "start_time": "2024-11-19T15:43:11.498Z"
   },
   {
    "duration": 70,
    "start_time": "2024-11-19T15:43:14.445Z"
   },
   {
    "duration": 13,
    "start_time": "2024-11-19T15:43:14.518Z"
   },
   {
    "duration": 153,
    "start_time": "2024-11-19T15:43:14.532Z"
   },
   {
    "duration": 202,
    "start_time": "2024-11-19T15:43:14.687Z"
   },
   {
    "duration": 174,
    "start_time": "2024-11-19T15:43:14.891Z"
   },
   {
    "duration": 192,
    "start_time": "2024-11-19T15:43:15.066Z"
   },
   {
    "duration": 188,
    "start_time": "2024-11-19T15:43:15.260Z"
   },
   {
    "duration": 159,
    "start_time": "2024-11-19T15:43:15.451Z"
   },
   {
    "duration": 7,
    "start_time": "2024-11-19T15:43:15.612Z"
   },
   {
    "duration": 265,
    "start_time": "2024-11-19T15:43:15.621Z"
   },
   {
    "duration": 11,
    "start_time": "2024-11-19T15:43:15.888Z"
   },
   {
    "duration": 16,
    "start_time": "2024-11-19T15:43:15.901Z"
   },
   {
    "duration": 90,
    "start_time": "2024-11-19T15:43:15.919Z"
   },
   {
    "duration": 136,
    "start_time": "2024-11-19T15:43:16.011Z"
   },
   {
    "duration": 363,
    "start_time": "2024-11-19T15:43:16.148Z"
   },
   {
    "duration": 31,
    "start_time": "2024-11-19T15:43:16.513Z"
   },
   {
    "duration": 17,
    "start_time": "2024-11-19T15:43:16.547Z"
   },
   {
    "duration": 18,
    "start_time": "2024-11-19T15:43:16.566Z"
   },
   {
    "duration": 204,
    "start_time": "2024-11-19T15:43:16.585Z"
   },
   {
    "duration": 11,
    "start_time": "2024-11-19T15:43:16.791Z"
   },
   {
    "duration": 210,
    "start_time": "2024-11-19T15:43:16.804Z"
   },
   {
    "duration": 8,
    "start_time": "2024-11-19T15:43:17.016Z"
   },
   {
    "duration": 145,
    "start_time": "2024-11-19T15:43:17.025Z"
   },
   {
    "duration": 303,
    "start_time": "2024-11-19T15:43:17.172Z"
   },
   {
    "duration": 1878,
    "start_time": "2024-11-19T15:43:17.477Z"
   },
   {
    "duration": 38,
    "start_time": "2024-11-19T15:43:19.358Z"
   },
   {
    "duration": 15153,
    "start_time": "2024-11-19T15:43:19.398Z"
   },
   {
    "duration": 1050,
    "start_time": "2024-11-19T15:43:34.553Z"
   },
   {
    "duration": 20102,
    "start_time": "2024-11-19T15:43:35.605Z"
   },
   {
    "duration": 678,
    "start_time": "2024-11-19T15:43:55.709Z"
   },
   {
    "duration": 4,
    "start_time": "2024-11-19T15:43:56.388Z"
   },
   {
    "duration": 700,
    "start_time": "2024-11-19T15:43:56.394Z"
   },
   {
    "duration": 7224,
    "start_time": "2024-11-19T15:47:43.568Z"
   },
   {
    "duration": 3116,
    "start_time": "2024-11-19T15:47:50.795Z"
   },
   {
    "duration": 66,
    "start_time": "2024-11-19T15:47:53.912Z"
   },
   {
    "duration": 13,
    "start_time": "2024-11-19T15:47:53.980Z"
   },
   {
    "duration": 163,
    "start_time": "2024-11-19T15:47:53.995Z"
   },
   {
    "duration": 176,
    "start_time": "2024-11-19T15:47:54.160Z"
   },
   {
    "duration": 165,
    "start_time": "2024-11-19T15:47:54.337Z"
   },
   {
    "duration": 185,
    "start_time": "2024-11-19T15:47:54.503Z"
   },
   {
    "duration": 176,
    "start_time": "2024-11-19T15:47:54.690Z"
   },
   {
    "duration": 161,
    "start_time": "2024-11-19T15:47:54.869Z"
   },
   {
    "duration": 21,
    "start_time": "2024-11-19T15:47:55.032Z"
   },
   {
    "duration": 364,
    "start_time": "2024-11-19T15:47:55.055Z"
   },
   {
    "duration": 23,
    "start_time": "2024-11-19T15:47:55.421Z"
   },
   {
    "duration": 9,
    "start_time": "2024-11-19T15:47:55.445Z"
   },
   {
    "duration": 9,
    "start_time": "2024-11-19T15:47:55.455Z"
   },
   {
    "duration": 151,
    "start_time": "2024-11-19T15:47:55.466Z"
   },
   {
    "duration": 360,
    "start_time": "2024-11-19T15:47:55.618Z"
   },
   {
    "duration": 15,
    "start_time": "2024-11-19T15:47:55.980Z"
   },
   {
    "duration": 33,
    "start_time": "2024-11-19T15:47:55.996Z"
   },
   {
    "duration": 17,
    "start_time": "2024-11-19T15:47:56.031Z"
   },
   {
    "duration": 171,
    "start_time": "2024-11-19T15:47:56.049Z"
   },
   {
    "duration": 7,
    "start_time": "2024-11-19T15:47:56.222Z"
   },
   {
    "duration": 177,
    "start_time": "2024-11-19T15:47:56.242Z"
   },
   {
    "duration": 9,
    "start_time": "2024-11-19T15:47:56.420Z"
   },
   {
    "duration": 6,
    "start_time": "2024-11-19T15:47:56.443Z"
   },
   {
    "duration": 371,
    "start_time": "2024-11-19T15:47:56.451Z"
   },
   {
    "duration": 1826,
    "start_time": "2024-11-19T15:47:56.824Z"
   },
   {
    "duration": 34,
    "start_time": "2024-11-19T15:47:58.654Z"
   },
   {
    "duration": 230224,
    "start_time": "2024-11-19T15:47:58.690Z"
   },
   {
    "duration": 0,
    "start_time": "2024-11-19T15:51:48.958Z"
   },
   {
    "duration": 0,
    "start_time": "2024-11-19T15:51:48.959Z"
   },
   {
    "duration": 0,
    "start_time": "2024-11-19T15:51:48.960Z"
   },
   {
    "duration": 0,
    "start_time": "2024-11-19T15:51:48.961Z"
   },
   {
    "duration": 0,
    "start_time": "2024-11-19T15:51:48.962Z"
   },
   {
    "duration": 5632,
    "start_time": "2024-11-19T15:52:52.217Z"
   },
   {
    "duration": 3125,
    "start_time": "2024-11-19T15:52:57.852Z"
   },
   {
    "duration": 68,
    "start_time": "2024-11-19T15:53:00.978Z"
   },
   {
    "duration": 12,
    "start_time": "2024-11-19T15:53:01.048Z"
   },
   {
    "duration": 171,
    "start_time": "2024-11-19T15:53:01.062Z"
   },
   {
    "duration": 170,
    "start_time": "2024-11-19T15:53:01.235Z"
   },
   {
    "duration": 172,
    "start_time": "2024-11-19T15:53:01.407Z"
   },
   {
    "duration": 231,
    "start_time": "2024-11-19T15:53:01.581Z"
   },
   {
    "duration": 184,
    "start_time": "2024-11-19T15:53:01.813Z"
   },
   {
    "duration": 164,
    "start_time": "2024-11-19T15:53:02.000Z"
   },
   {
    "duration": 10,
    "start_time": "2024-11-19T15:53:02.166Z"
   },
   {
    "duration": 275,
    "start_time": "2024-11-19T15:53:02.178Z"
   },
   {
    "duration": 14,
    "start_time": "2024-11-19T15:53:02.455Z"
   },
   {
    "duration": 87,
    "start_time": "2024-11-19T15:53:02.471Z"
   },
   {
    "duration": 46,
    "start_time": "2024-11-19T15:53:02.560Z"
   },
   {
    "duration": 148,
    "start_time": "2024-11-19T15:53:02.608Z"
   },
   {
    "duration": 386,
    "start_time": "2024-11-19T15:53:02.759Z"
   },
   {
    "duration": 16,
    "start_time": "2024-11-19T15:53:03.147Z"
   },
   {
    "duration": 53,
    "start_time": "2024-11-19T15:53:03.165Z"
   },
   {
    "duration": 9,
    "start_time": "2024-11-19T15:53:03.219Z"
   },
   {
    "duration": 178,
    "start_time": "2024-11-19T15:53:03.230Z"
   },
   {
    "duration": 8,
    "start_time": "2024-11-19T15:53:03.410Z"
   },
   {
    "duration": 198,
    "start_time": "2024-11-19T15:53:03.419Z"
   },
   {
    "duration": 11,
    "start_time": "2024-11-19T15:53:03.619Z"
   },
   {
    "duration": 7,
    "start_time": "2024-11-19T15:53:03.644Z"
   },
   {
    "duration": 299,
    "start_time": "2024-11-19T15:53:03.652Z"
   },
   {
    "duration": 1837,
    "start_time": "2024-11-19T15:53:03.953Z"
   },
   {
    "duration": 50,
    "start_time": "2024-11-19T15:53:05.793Z"
   },
   {
    "duration": 275,
    "start_time": "2024-11-19T15:53:05.844Z"
   },
   {
    "duration": 0,
    "start_time": "2024-11-19T15:53:06.121Z"
   },
   {
    "duration": 0,
    "start_time": "2024-11-19T15:53:06.123Z"
   },
   {
    "duration": 0,
    "start_time": "2024-11-19T15:53:06.123Z"
   },
   {
    "duration": 0,
    "start_time": "2024-11-19T15:53:06.124Z"
   },
   {
    "duration": 5781,
    "start_time": "2024-11-19T15:54:39.913Z"
   },
   {
    "duration": 2950,
    "start_time": "2024-11-19T15:54:45.696Z"
   },
   {
    "duration": 68,
    "start_time": "2024-11-19T15:54:48.648Z"
   },
   {
    "duration": 13,
    "start_time": "2024-11-19T15:54:48.719Z"
   },
   {
    "duration": 203,
    "start_time": "2024-11-19T15:54:48.742Z"
   },
   {
    "duration": 181,
    "start_time": "2024-11-19T15:54:48.948Z"
   },
   {
    "duration": 179,
    "start_time": "2024-11-19T15:54:49.131Z"
   },
   {
    "duration": 190,
    "start_time": "2024-11-19T15:54:49.312Z"
   },
   {
    "duration": 184,
    "start_time": "2024-11-19T15:54:49.504Z"
   },
   {
    "duration": 170,
    "start_time": "2024-11-19T15:54:49.692Z"
   },
   {
    "duration": 10,
    "start_time": "2024-11-19T15:54:49.864Z"
   },
   {
    "duration": 304,
    "start_time": "2024-11-19T15:54:49.876Z"
   },
   {
    "duration": 11,
    "start_time": "2024-11-19T15:54:50.182Z"
   },
   {
    "duration": 25,
    "start_time": "2024-11-19T15:54:50.195Z"
   },
   {
    "duration": 31,
    "start_time": "2024-11-19T15:54:50.222Z"
   },
   {
    "duration": 166,
    "start_time": "2024-11-19T15:54:50.255Z"
   },
   {
    "duration": 374,
    "start_time": "2024-11-19T15:54:50.423Z"
   },
   {
    "duration": 20,
    "start_time": "2024-11-19T15:54:50.799Z"
   },
   {
    "duration": 43,
    "start_time": "2024-11-19T15:54:50.821Z"
   },
   {
    "duration": 39,
    "start_time": "2024-11-19T15:54:50.866Z"
   },
   {
    "duration": 193,
    "start_time": "2024-11-19T15:54:50.907Z"
   },
   {
    "duration": 8,
    "start_time": "2024-11-19T15:54:51.101Z"
   },
   {
    "duration": 256,
    "start_time": "2024-11-19T15:54:51.110Z"
   },
   {
    "duration": 11,
    "start_time": "2024-11-19T15:54:51.368Z"
   },
   {
    "duration": 19,
    "start_time": "2024-11-19T15:54:51.381Z"
   },
   {
    "duration": 315,
    "start_time": "2024-11-19T15:54:51.402Z"
   },
   {
    "duration": 1896,
    "start_time": "2024-11-19T15:54:51.718Z"
   },
   {
    "duration": 55,
    "start_time": "2024-11-19T15:54:53.618Z"
   },
   {
    "duration": 1021,
    "start_time": "2024-11-19T15:54:53.675Z"
   },
   {
    "duration": 0,
    "start_time": "2024-11-19T15:54:54.698Z"
   },
   {
    "duration": 0,
    "start_time": "2024-11-19T15:54:54.700Z"
   },
   {
    "duration": 0,
    "start_time": "2024-11-19T15:54:54.703Z"
   },
   {
    "duration": 0,
    "start_time": "2024-11-19T15:54:54.704Z"
   },
   {
    "duration": 0,
    "start_time": "2024-11-19T15:54:54.705Z"
   },
   {
    "duration": 5619,
    "start_time": "2024-11-19T15:57:34.966Z"
   },
   {
    "duration": 3064,
    "start_time": "2024-11-19T15:57:40.588Z"
   },
   {
    "duration": 68,
    "start_time": "2024-11-19T15:57:43.654Z"
   },
   {
    "duration": 13,
    "start_time": "2024-11-19T15:57:43.724Z"
   },
   {
    "duration": 166,
    "start_time": "2024-11-19T15:57:43.743Z"
   },
   {
    "duration": 174,
    "start_time": "2024-11-19T15:57:43.911Z"
   },
   {
    "duration": 192,
    "start_time": "2024-11-19T15:57:44.087Z"
   },
   {
    "duration": 188,
    "start_time": "2024-11-19T15:57:44.280Z"
   },
   {
    "duration": 177,
    "start_time": "2024-11-19T15:57:44.470Z"
   },
   {
    "duration": 176,
    "start_time": "2024-11-19T15:57:44.651Z"
   },
   {
    "duration": 19,
    "start_time": "2024-11-19T15:57:44.829Z"
   },
   {
    "duration": 269,
    "start_time": "2024-11-19T15:57:44.851Z"
   },
   {
    "duration": 22,
    "start_time": "2024-11-19T15:57:45.121Z"
   },
   {
    "duration": 84,
    "start_time": "2024-11-19T15:57:45.145Z"
   },
   {
    "duration": 40,
    "start_time": "2024-11-19T15:57:45.230Z"
   },
   {
    "duration": 168,
    "start_time": "2024-11-19T15:57:45.272Z"
   },
   {
    "duration": 361,
    "start_time": "2024-11-19T15:57:45.442Z"
   },
   {
    "duration": 22,
    "start_time": "2024-11-19T15:57:45.805Z"
   },
   {
    "duration": 31,
    "start_time": "2024-11-19T15:57:45.847Z"
   },
   {
    "duration": 14,
    "start_time": "2024-11-19T15:57:45.880Z"
   },
   {
    "duration": 212,
    "start_time": "2024-11-19T15:57:45.896Z"
   },
   {
    "duration": 8,
    "start_time": "2024-11-19T15:57:46.109Z"
   },
   {
    "duration": 291,
    "start_time": "2024-11-19T15:57:46.119Z"
   },
   {
    "duration": 10,
    "start_time": "2024-11-19T15:57:46.412Z"
   },
   {
    "duration": 29,
    "start_time": "2024-11-19T15:57:46.424Z"
   },
   {
    "duration": 369,
    "start_time": "2024-11-19T15:57:46.455Z"
   },
   {
    "duration": 2235,
    "start_time": "2024-11-19T15:57:46.826Z"
   },
   {
    "duration": 43,
    "start_time": "2024-11-19T15:57:49.065Z"
   },
   {
    "duration": 5941,
    "start_time": "2024-11-19T16:03:16.544Z"
   },
   {
    "duration": 3101,
    "start_time": "2024-11-19T16:03:22.487Z"
   },
   {
    "duration": 83,
    "start_time": "2024-11-19T16:03:25.590Z"
   },
   {
    "duration": 14,
    "start_time": "2024-11-19T16:03:25.676Z"
   },
   {
    "duration": 188,
    "start_time": "2024-11-19T16:03:25.692Z"
   },
   {
    "duration": 184,
    "start_time": "2024-11-19T16:03:25.882Z"
   },
   {
    "duration": 176,
    "start_time": "2024-11-19T16:03:26.068Z"
   },
   {
    "duration": 194,
    "start_time": "2024-11-19T16:03:26.246Z"
   },
   {
    "duration": 182,
    "start_time": "2024-11-19T16:03:26.442Z"
   },
   {
    "duration": 166,
    "start_time": "2024-11-19T16:03:26.627Z"
   },
   {
    "duration": 13,
    "start_time": "2024-11-19T16:03:26.795Z"
   },
   {
    "duration": 279,
    "start_time": "2024-11-19T16:03:26.811Z"
   },
   {
    "duration": 14,
    "start_time": "2024-11-19T16:03:27.092Z"
   },
   {
    "duration": 142,
    "start_time": "2024-11-19T16:03:27.108Z"
   },
   {
    "duration": 38,
    "start_time": "2024-11-19T16:03:27.251Z"
   },
   {
    "duration": 139,
    "start_time": "2024-11-19T16:03:27.292Z"
   },
   {
    "duration": 357,
    "start_time": "2024-11-19T16:03:27.433Z"
   },
   {
    "duration": 23,
    "start_time": "2024-11-19T16:03:27.792Z"
   },
   {
    "duration": 71,
    "start_time": "2024-11-19T16:03:27.817Z"
   },
   {
    "duration": 17,
    "start_time": "2024-11-19T16:03:27.889Z"
   },
   {
    "duration": 204,
    "start_time": "2024-11-19T16:03:27.908Z"
   },
   {
    "duration": 9,
    "start_time": "2024-11-19T16:03:28.114Z"
   },
   {
    "duration": 205,
    "start_time": "2024-11-19T16:03:28.125Z"
   },
   {
    "duration": 15,
    "start_time": "2024-11-19T16:03:28.331Z"
   },
   {
    "duration": 17,
    "start_time": "2024-11-19T16:03:28.347Z"
   },
   {
    "duration": 355,
    "start_time": "2024-11-19T16:03:28.365Z"
   },
   {
    "duration": 1984,
    "start_time": "2024-11-19T16:03:28.722Z"
   },
   {
    "duration": 63,
    "start_time": "2024-11-19T16:03:30.711Z"
   },
   {
    "duration": 12085,
    "start_time": "2024-11-19T16:03:30.777Z"
   },
   {
    "duration": 338,
    "start_time": "2024-11-19T16:03:42.865Z"
   },
   {
    "duration": 0,
    "start_time": "2024-11-19T16:03:43.205Z"
   },
   {
    "duration": 0,
    "start_time": "2024-11-19T16:03:43.207Z"
   },
   {
    "duration": 0,
    "start_time": "2024-11-19T16:03:43.208Z"
   },
   {
    "duration": 0,
    "start_time": "2024-11-19T16:03:43.209Z"
   },
   {
    "duration": 20718,
    "start_time": "2024-11-19T16:04:11.186Z"
   },
   {
    "duration": 708,
    "start_time": "2024-11-19T16:04:31.906Z"
   },
   {
    "duration": 5,
    "start_time": "2024-11-19T16:04:32.616Z"
   },
   {
    "duration": 822,
    "start_time": "2024-11-19T16:04:32.623Z"
   },
   {
    "duration": 5679,
    "start_time": "2024-11-19T16:06:21.331Z"
   },
   {
    "duration": 3200,
    "start_time": "2024-11-19T16:06:27.013Z"
   },
   {
    "duration": 69,
    "start_time": "2024-11-19T16:06:30.218Z"
   },
   {
    "duration": 49,
    "start_time": "2024-11-19T16:06:30.289Z"
   },
   {
    "duration": 169,
    "start_time": "2024-11-19T16:06:30.340Z"
   },
   {
    "duration": 181,
    "start_time": "2024-11-19T16:06:30.510Z"
   },
   {
    "duration": 192,
    "start_time": "2024-11-19T16:06:30.692Z"
   },
   {
    "duration": 205,
    "start_time": "2024-11-19T16:06:30.887Z"
   },
   {
    "duration": 184,
    "start_time": "2024-11-19T16:06:31.094Z"
   },
   {
    "duration": 169,
    "start_time": "2024-11-19T16:06:31.280Z"
   },
   {
    "duration": 9,
    "start_time": "2024-11-19T16:06:31.451Z"
   },
   {
    "duration": 289,
    "start_time": "2024-11-19T16:06:31.462Z"
   },
   {
    "duration": 13,
    "start_time": "2024-11-19T16:06:31.753Z"
   },
   {
    "duration": 14,
    "start_time": "2024-11-19T16:06:31.768Z"
   },
   {
    "duration": 102,
    "start_time": "2024-11-19T16:06:31.783Z"
   },
   {
    "duration": 153,
    "start_time": "2024-11-19T16:06:31.886Z"
   },
   {
    "duration": 325,
    "start_time": "2024-11-19T16:06:32.040Z"
   },
   {
    "duration": 16,
    "start_time": "2024-11-19T16:06:32.367Z"
   },
   {
    "duration": 16,
    "start_time": "2024-11-19T16:06:32.384Z"
   },
   {
    "duration": 8,
    "start_time": "2024-11-19T16:06:32.401Z"
   },
   {
    "duration": 167,
    "start_time": "2024-11-19T16:06:32.443Z"
   },
   {
    "duration": 7,
    "start_time": "2024-11-19T16:06:32.612Z"
   },
   {
    "duration": 191,
    "start_time": "2024-11-19T16:06:32.621Z"
   },
   {
    "duration": 10,
    "start_time": "2024-11-19T16:06:32.814Z"
   },
   {
    "duration": 17,
    "start_time": "2024-11-19T16:06:32.842Z"
   },
   {
    "duration": 335,
    "start_time": "2024-11-19T16:06:32.864Z"
   },
   {
    "duration": 1938,
    "start_time": "2024-11-19T16:06:33.201Z"
   },
   {
    "duration": 35,
    "start_time": "2024-11-19T16:06:35.142Z"
   },
   {
    "duration": 11626,
    "start_time": "2024-11-19T16:06:35.179Z"
   },
   {
    "duration": 19888,
    "start_time": "2024-11-19T16:06:46.808Z"
   },
   {
    "duration": 681,
    "start_time": "2024-11-19T16:07:06.699Z"
   },
   {
    "duration": 4,
    "start_time": "2024-11-19T16:07:07.382Z"
   },
   {
    "duration": 717,
    "start_time": "2024-11-19T16:07:07.388Z"
   },
   {
    "duration": 5791,
    "start_time": "2024-11-19T16:24:37.078Z"
   },
   {
    "duration": 3175,
    "start_time": "2024-11-19T16:24:42.872Z"
   },
   {
    "duration": 68,
    "start_time": "2024-11-19T16:24:46.049Z"
   },
   {
    "duration": 13,
    "start_time": "2024-11-19T16:24:46.119Z"
   },
   {
    "duration": 169,
    "start_time": "2024-11-19T16:24:46.133Z"
   },
   {
    "duration": 187,
    "start_time": "2024-11-19T16:24:46.304Z"
   },
   {
    "duration": 187,
    "start_time": "2024-11-19T16:24:46.492Z"
   },
   {
    "duration": 236,
    "start_time": "2024-11-19T16:24:46.681Z"
   },
   {
    "duration": 195,
    "start_time": "2024-11-19T16:24:46.920Z"
   },
   {
    "duration": 156,
    "start_time": "2024-11-19T16:24:47.119Z"
   },
   {
    "duration": 7,
    "start_time": "2024-11-19T16:24:47.276Z"
   },
   {
    "duration": 275,
    "start_time": "2024-11-19T16:24:47.285Z"
   },
   {
    "duration": 11,
    "start_time": "2024-11-19T16:24:47.562Z"
   },
   {
    "duration": 11,
    "start_time": "2024-11-19T16:24:47.575Z"
   },
   {
    "duration": 9,
    "start_time": "2024-11-19T16:24:47.588Z"
   },
   {
    "duration": 183,
    "start_time": "2024-11-19T16:24:47.598Z"
   },
   {
    "duration": 397,
    "start_time": "2024-11-19T16:24:47.783Z"
   },
   {
    "duration": 20,
    "start_time": "2024-11-19T16:24:48.182Z"
   },
   {
    "duration": 42,
    "start_time": "2024-11-19T16:24:48.204Z"
   },
   {
    "duration": 56,
    "start_time": "2024-11-19T16:24:48.248Z"
   },
   {
    "duration": 199,
    "start_time": "2024-11-19T16:24:48.306Z"
   },
   {
    "duration": 7,
    "start_time": "2024-11-19T16:24:48.507Z"
   },
   {
    "duration": 205,
    "start_time": "2024-11-19T16:24:48.515Z"
   },
   {
    "duration": 8,
    "start_time": "2024-11-19T16:24:48.722Z"
   },
   {
    "duration": 14,
    "start_time": "2024-11-19T16:24:48.732Z"
   },
   {
    "duration": 383,
    "start_time": "2024-11-19T16:24:48.751Z"
   },
   {
    "duration": 1882,
    "start_time": "2024-11-19T16:24:49.142Z"
   },
   {
    "duration": 44,
    "start_time": "2024-11-19T16:24:51.027Z"
   },
   {
    "duration": 12028,
    "start_time": "2024-11-19T16:24:51.073Z"
   },
   {
    "duration": 19509,
    "start_time": "2024-11-19T16:25:03.103Z"
   },
   {
    "duration": 724,
    "start_time": "2024-11-19T16:25:22.614Z"
   },
   {
    "duration": 4,
    "start_time": "2024-11-19T16:25:23.340Z"
   },
   {
    "duration": 757,
    "start_time": "2024-11-19T16:25:23.346Z"
   },
   {
    "duration": 65,
    "start_time": "2024-11-19T16:34:43.521Z"
   },
   {
    "duration": 0,
    "start_time": "2024-11-19T16:34:43.588Z"
   },
   {
    "duration": 0,
    "start_time": "2024-11-19T16:34:43.589Z"
   },
   {
    "duration": 0,
    "start_time": "2024-11-19T16:34:43.591Z"
   },
   {
    "duration": 0,
    "start_time": "2024-11-19T16:34:43.592Z"
   },
   {
    "duration": 0,
    "start_time": "2024-11-19T16:34:43.593Z"
   },
   {
    "duration": 0,
    "start_time": "2024-11-19T16:34:43.594Z"
   },
   {
    "duration": 0,
    "start_time": "2024-11-19T16:34:43.595Z"
   },
   {
    "duration": 0,
    "start_time": "2024-11-19T16:34:43.596Z"
   },
   {
    "duration": 0,
    "start_time": "2024-11-19T16:34:43.597Z"
   },
   {
    "duration": 0,
    "start_time": "2024-11-19T16:34:43.599Z"
   },
   {
    "duration": 0,
    "start_time": "2024-11-19T16:34:43.600Z"
   },
   {
    "duration": 0,
    "start_time": "2024-11-19T16:34:43.601Z"
   },
   {
    "duration": 0,
    "start_time": "2024-11-19T16:34:43.603Z"
   },
   {
    "duration": 0,
    "start_time": "2024-11-19T16:34:43.604Z"
   },
   {
    "duration": 0,
    "start_time": "2024-11-19T16:34:43.605Z"
   },
   {
    "duration": 0,
    "start_time": "2024-11-19T16:34:43.606Z"
   },
   {
    "duration": 0,
    "start_time": "2024-11-19T16:34:43.608Z"
   },
   {
    "duration": 0,
    "start_time": "2024-11-19T16:34:43.609Z"
   },
   {
    "duration": 0,
    "start_time": "2024-11-19T16:34:43.610Z"
   },
   {
    "duration": 0,
    "start_time": "2024-11-19T16:34:43.611Z"
   },
   {
    "duration": 0,
    "start_time": "2024-11-19T16:34:43.612Z"
   },
   {
    "duration": 0,
    "start_time": "2024-11-19T16:34:43.614Z"
   },
   {
    "duration": 0,
    "start_time": "2024-11-19T16:34:43.615Z"
   },
   {
    "duration": 0,
    "start_time": "2024-11-19T16:34:43.616Z"
   },
   {
    "duration": 0,
    "start_time": "2024-11-19T16:34:43.617Z"
   },
   {
    "duration": 0,
    "start_time": "2024-11-19T16:34:43.642Z"
   },
   {
    "duration": 0,
    "start_time": "2024-11-19T16:34:43.644Z"
   },
   {
    "duration": 0,
    "start_time": "2024-11-19T16:34:43.645Z"
   },
   {
    "duration": 0,
    "start_time": "2024-11-19T16:34:43.646Z"
   },
   {
    "duration": 0,
    "start_time": "2024-11-19T16:34:43.647Z"
   },
   {
    "duration": 0,
    "start_time": "2024-11-19T16:34:43.649Z"
   },
   {
    "duration": 0,
    "start_time": "2024-11-19T16:34:43.650Z"
   },
   {
    "duration": 0,
    "start_time": "2024-11-19T16:34:43.651Z"
   },
   {
    "duration": 6579,
    "start_time": "2024-11-19T16:35:23.952Z"
   },
   {
    "duration": 3248,
    "start_time": "2024-11-19T16:35:30.534Z"
   },
   {
    "duration": 72,
    "start_time": "2024-11-19T16:35:33.785Z"
   },
   {
    "duration": 15,
    "start_time": "2024-11-19T16:35:33.860Z"
   },
   {
    "duration": 260,
    "start_time": "2024-11-19T16:35:33.877Z"
   },
   {
    "duration": 231,
    "start_time": "2024-11-19T16:35:34.139Z"
   },
   {
    "duration": 200,
    "start_time": "2024-11-19T16:35:34.372Z"
   },
   {
    "duration": 237,
    "start_time": "2024-11-19T16:35:34.574Z"
   },
   {
    "duration": 211,
    "start_time": "2024-11-19T16:35:34.814Z"
   },
   {
    "duration": 163,
    "start_time": "2024-11-19T16:35:35.029Z"
   },
   {
    "duration": 10,
    "start_time": "2024-11-19T16:35:35.194Z"
   },
   {
    "duration": 331,
    "start_time": "2024-11-19T16:35:35.206Z"
   },
   {
    "duration": 13,
    "start_time": "2024-11-19T16:35:35.538Z"
   },
   {
    "duration": 27,
    "start_time": "2024-11-19T16:35:35.552Z"
   },
   {
    "duration": 49,
    "start_time": "2024-11-19T16:35:35.580Z"
   },
   {
    "duration": 134,
    "start_time": "2024-11-19T16:35:35.631Z"
   },
   {
    "duration": 388,
    "start_time": "2024-11-19T16:35:35.767Z"
   },
   {
    "duration": 17,
    "start_time": "2024-11-19T16:35:36.157Z"
   },
   {
    "duration": 64,
    "start_time": "2024-11-19T16:35:36.176Z"
   },
   {
    "duration": 11,
    "start_time": "2024-11-19T16:35:36.242Z"
   },
   {
    "duration": 285,
    "start_time": "2024-11-19T16:35:36.255Z"
   },
   {
    "duration": 9,
    "start_time": "2024-11-19T16:35:36.543Z"
   },
   {
    "duration": 190,
    "start_time": "2024-11-19T16:35:36.553Z"
   },
   {
    "duration": 12,
    "start_time": "2024-11-19T16:35:36.745Z"
   },
   {
    "duration": 11,
    "start_time": "2024-11-19T16:35:36.759Z"
   },
   {
    "duration": 338,
    "start_time": "2024-11-19T16:35:36.772Z"
   },
   {
    "duration": 1888,
    "start_time": "2024-11-19T16:35:37.112Z"
   },
   {
    "duration": 55,
    "start_time": "2024-11-19T16:35:39.003Z"
   },
   {
    "duration": 12605,
    "start_time": "2024-11-19T16:35:39.060Z"
   },
   {
    "duration": 20422,
    "start_time": "2024-11-19T16:35:51.674Z"
   },
   {
    "duration": 708,
    "start_time": "2024-11-19T16:36:12.098Z"
   },
   {
    "duration": 4,
    "start_time": "2024-11-19T16:36:12.808Z"
   },
   {
    "duration": 842,
    "start_time": "2024-11-19T16:36:12.814Z"
   }
  ],
  "kernelspec": {
   "display_name": "Python 3 (ipykernel)",
   "language": "python",
   "name": "python3"
  },
  "language_info": {
   "codemirror_mode": {
    "name": "ipython",
    "version": 3
   },
   "file_extension": ".py",
   "mimetype": "text/x-python",
   "name": "python",
   "nbconvert_exporter": "python",
   "pygments_lexer": "ipython3",
   "version": "3.9.5"
  },
  "toc": {
   "base_numbering": 1,
   "nav_menu": {},
   "number_sections": false,
   "sideBar": true,
   "skip_h1_title": false,
   "title_cell": "Table of Contents",
   "title_sidebar": "Contents",
   "toc_cell": false,
   "toc_position": {
    "height": "calc(100% - 180px)",
    "left": "10px",
    "top": "150px",
    "width": "165px"
   },
   "toc_section_display": true,
   "toc_window_display": true
  },
  "varInspector": {
   "cols": {
    "lenName": 16,
    "lenType": 16,
    "lenVar": 40
   },
   "kernels_config": {
    "python": {
     "delete_cmd_postfix": "",
     "delete_cmd_prefix": "del ",
     "library": "var_list.py",
     "varRefreshCmd": "print(var_dic_list())"
    },
    "r": {
     "delete_cmd_postfix": ") ",
     "delete_cmd_prefix": "rm(",
     "library": "var_list.r",
     "varRefreshCmd": "cat(var_dic_list()) "
    }
   },
   "types_to_exclude": [
    "module",
    "function",
    "builtin_function_or_method",
    "instance",
    "_Feature"
   ],
   "window_display": false
  }
 },
 "nbformat": 4,
 "nbformat_minor": 5
}
