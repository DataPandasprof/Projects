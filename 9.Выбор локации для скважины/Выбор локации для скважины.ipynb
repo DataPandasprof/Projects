{
 "cells": [
  {
   "cell_type": "markdown",
   "metadata": {},
   "source": [
    "# Выбор локации для скважины"
   ]
  },
  {
   "cell_type": "markdown",
   "metadata": {},
   "source": [
    "Допустим, вы работаете в добывающей компании «ГлавРосГосНефть». Нужно решить, где бурить новую скважину.\n",
    "\n",
    "Вам предоставлены пробы нефти в трёх регионах: в каждом 10 000 месторождений, где измерили качество нефти и объём её запасов. Постройте модель машинного обучения, которая поможет определить регион, где добыча принесёт наибольшую прибыль. Проанализируйте возможную прибыль и риски техникой *Bootstrap.*\n",
    "\n",
    "Шаги для выбора локации:\n",
    "\n",
    "- В избранном регионе ищут месторождения, для каждого определяют значения признаков;\n",
    "- Строят модель и оценивают объём запасов;\n",
    "- Выбирают месторождения с самым высокими оценками значений. Количество месторождений зависит от бюджета компании и стоимости разработки одной скважины;\n",
    "- Прибыль равна суммарной прибыли отобранных месторождений."
   ]
  },
  {
   "cell_type": "markdown",
   "metadata": {},
   "source": [
    "Название проекта: Определение оптимального региона для бурения новой скважины"
   ]
  },
  {
   "cell_type": "markdown",
   "metadata": {},
   "source": [
    "Описание проекта: Компания \"ГлавРосГосНефть\" планирует пробурить новую нефтяную скважину. Однако перед этим необходимо определить наиболее перспективный регион для бурения на основе имеющихся геологических данных о трех потенциальных регионах. Для этого будет построена модель машинного обучения для прогнозирования объемов запасов нефти в скважинах. Это позволит компании выбрать регион с максимальной прогнозируемой прибылью при разумном уровне риска.\n",
    "\n",
    "Цели проекта:\n",
    "\n",
    "Построить модель линейной регрессии для прогнозирования объемов запасов нефти в скважинах на основе геологических данных.\n",
    "Используя модель, оценить потенциальные запасы нефти в лучших 200 скважинах каждого региона.\n",
    "Рассчитать прогнозируемую прибыль для каждого региона с учетом стоимости разработки месторождений.\n",
    "Оценить риски убытков в каждом регионе с помощью техники бутстрепа (Bootstrap).\n",
    "Выбрать регион с максимальной прогнозируемой прибылью при приемлемом уровне риска (<2.5%).\n",
    "Исходные данные:\n",
    "\n",
    "Файлы /datasets/geo_data_0.csv, /datasets/geo_data_1.csv, /datasets/geo_data_2.csv содержат данные о скважинах в трех регионах, включая географические признаки (f0, f1, f2) и фактические объемы запасов нефти.\n",
    "Ограничения:\n",
    "\n",
    "Для обучения модели можно использовать только линейную регрессию.\n",
    "В каждом регионе будет рассмотрено 500 скважин, из которых 200 лучших будут выбраны для разработки.\n",
    "Бюджет на разработку скважин в регионе составляет 10 млрд рублей.\n",
    "Доход от продажи 1 барреля нефти = 450 тыс. рублей.\n",
    "Необходимо отсеять регионы с вероятностью убытков >2.5%.\n",
    "Ожидаемые результаты: По итогам проекта будет определен оптимальный регион для бурения новой скважины, максимизирующий прогнозируемую прибыль при приемлемом уровне риска."
   ]
  },
  {
   "cell_type": "markdown",
   "metadata": {},
   "source": [
    "## Загрузка и подготовка данных"
   ]
  },
  {
   "cell_type": "markdown",
   "metadata": {},
   "source": [
    "### Шаг 1.1 Установка библиотек и изучение данных"
   ]
  },
  {
   "cell_type": "code",
   "execution_count": 1,
   "metadata": {},
   "outputs": [
    {
     "name": "stdout",
     "output_type": "stream",
     "text": [
      "Collecting umap-learn\n",
      "  Downloading umap_learn-0.5.6-py3-none-any.whl (85 kB)\n",
      "\u001b[K     |████████████████████████████████| 85 kB 1.3 MB/s eta 0:00:011\n",
      "\u001b[?25hRequirement already satisfied: numba>=0.51.2 in /opt/conda/lib/python3.9/site-packages (from umap-learn) (0.56.0)\n",
      "Requirement already satisfied: scipy>=1.3.1 in /opt/conda/lib/python3.9/site-packages (from umap-learn) (1.9.1)\n",
      "Requirement already satisfied: scikit-learn>=0.22 in /opt/conda/lib/python3.9/site-packages (from umap-learn) (0.24.1)\n",
      "Requirement already satisfied: tqdm in /opt/conda/lib/python3.9/site-packages (from umap-learn) (4.61.2)\n",
      "Collecting pynndescent>=0.5\n",
      "  Downloading pynndescent-0.5.12-py3-none-any.whl (56 kB)\n",
      "\u001b[K     |████████████████████████████████| 56 kB 2.0 MB/s eta 0:00:011\n",
      "\u001b[?25hRequirement already satisfied: numpy>=1.17 in /opt/conda/lib/python3.9/site-packages (from umap-learn) (1.21.1)\n",
      "Requirement already satisfied: llvmlite<0.40,>=0.39.0dev0 in /opt/conda/lib/python3.9/site-packages (from numba>=0.51.2->umap-learn) (0.39.0)\n",
      "Requirement already satisfied: setuptools in /opt/conda/lib/python3.9/site-packages (from numba>=0.51.2->umap-learn) (49.6.0.post20210108)\n",
      "Requirement already satisfied: joblib>=0.11 in /opt/conda/lib/python3.9/site-packages (from pynndescent>=0.5->umap-learn) (1.1.0)\n",
      "Requirement already satisfied: threadpoolctl>=2.0.0 in /opt/conda/lib/python3.9/site-packages (from scikit-learn>=0.22->umap-learn) (3.1.0)\n",
      "Installing collected packages: pynndescent, umap-learn\n",
      "Successfully installed pynndescent-0.5.12 umap-learn-0.5.6\n"
     ]
    }
   ],
   "source": [
    "!pip install shap -q\n",
    "!pip install phik -q\n",
    "!pip install --upgrade shap -q\n",
    "!pip install umap-learn"
   ]
  },
  {
   "cell_type": "markdown",
   "metadata": {},
   "source": [
    "### Шаг 1.2 Импорт библиотек"
   ]
  },
  {
   "cell_type": "code",
   "execution_count": 2,
   "metadata": {},
   "outputs": [],
   "source": [
    "import numpy as np\n",
    "import pandas as pd\n",
    "import matplotlib.pyplot as plt\n",
    "import seaborn as sns\n",
    "\n",
    "from sklearn.model_selection import train_test_split, GridSearchCV\n",
    "from sklearn.preprocessing import StandardScaler\n",
    "from sklearn.ensemble import RandomForestRegressor\n",
    "from sklearn.linear_model import LinearRegression\n",
    "from sklearn.metrics import mean_squared_error, r2_score\n",
    "\n",
    "# Дополнительные модули по необходимости\n",
    "\n",
    "# Работа с признаками\n",
    "from sklearn.pipeline import Pipeline\n",
    "from sklearn.preprocessing import PolynomialFeatures\n",
    "from sklearn.decomposition import PCA\n",
    "from sklearn.manifold import TSNE\n",
    "from umap import UMAP\n",
    "\n",
    "# Для работы с Bootstrap\n",
    "from sklearn.utils import resample\n",
    "\n",
    "# SHAP и корреляция\n",
    "import shap\n",
    "from phik import report\n",
    "from phik.report import plot_correlation_matrix"
   ]
  },
  {
   "cell_type": "markdown",
   "metadata": {},
   "source": [
    "### Шаг 1.3 Загрузка данных"
   ]
  },
  {
   "cell_type": "code",
   "execution_count": 3,
   "metadata": {},
   "outputs": [],
   "source": [
    "geo_data_0 = pd.read_csv('/datasets/geo_data_0.csv')\n",
    "geo_data_1 = pd.read_csv('/datasets/geo_data_1.csv') \n",
    "geo_data_2 = pd.read_csv('/datasets/geo_data_2.csv')"
   ]
  },
  {
   "cell_type": "markdown",
   "metadata": {},
   "source": [
    "### Шаг 1.4  Изучение данных geo_data_0"
   ]
  },
  {
   "cell_type": "code",
   "execution_count": 4,
   "metadata": {},
   "outputs": [
    {
     "data": {
      "text/html": [
       "<div>\n",
       "<style scoped>\n",
       "    .dataframe tbody tr th:only-of-type {\n",
       "        vertical-align: middle;\n",
       "    }\n",
       "\n",
       "    .dataframe tbody tr th {\n",
       "        vertical-align: top;\n",
       "    }\n",
       "\n",
       "    .dataframe thead th {\n",
       "        text-align: right;\n",
       "    }\n",
       "</style>\n",
       "<table border=\"1\" class=\"dataframe\">\n",
       "  <thead>\n",
       "    <tr style=\"text-align: right;\">\n",
       "      <th></th>\n",
       "      <th>id</th>\n",
       "      <th>f0</th>\n",
       "      <th>f1</th>\n",
       "      <th>f2</th>\n",
       "      <th>product</th>\n",
       "    </tr>\n",
       "  </thead>\n",
       "  <tbody>\n",
       "    <tr>\n",
       "      <th>0</th>\n",
       "      <td>txEyH</td>\n",
       "      <td>0.705745</td>\n",
       "      <td>-0.497823</td>\n",
       "      <td>1.221170</td>\n",
       "      <td>105.280062</td>\n",
       "    </tr>\n",
       "    <tr>\n",
       "      <th>1</th>\n",
       "      <td>2acmU</td>\n",
       "      <td>1.334711</td>\n",
       "      <td>-0.340164</td>\n",
       "      <td>4.365080</td>\n",
       "      <td>73.037750</td>\n",
       "    </tr>\n",
       "    <tr>\n",
       "      <th>2</th>\n",
       "      <td>409Wp</td>\n",
       "      <td>1.022732</td>\n",
       "      <td>0.151990</td>\n",
       "      <td>1.419926</td>\n",
       "      <td>85.265647</td>\n",
       "    </tr>\n",
       "    <tr>\n",
       "      <th>3</th>\n",
       "      <td>iJLyR</td>\n",
       "      <td>-0.032172</td>\n",
       "      <td>0.139033</td>\n",
       "      <td>2.978566</td>\n",
       "      <td>168.620776</td>\n",
       "    </tr>\n",
       "    <tr>\n",
       "      <th>4</th>\n",
       "      <td>Xdl7t</td>\n",
       "      <td>1.988431</td>\n",
       "      <td>0.155413</td>\n",
       "      <td>4.751769</td>\n",
       "      <td>154.036647</td>\n",
       "    </tr>\n",
       "  </tbody>\n",
       "</table>\n",
       "</div>"
      ],
      "text/plain": [
       "      id        f0        f1        f2     product\n",
       "0  txEyH  0.705745 -0.497823  1.221170  105.280062\n",
       "1  2acmU  1.334711 -0.340164  4.365080   73.037750\n",
       "2  409Wp  1.022732  0.151990  1.419926   85.265647\n",
       "3  iJLyR -0.032172  0.139033  2.978566  168.620776\n",
       "4  Xdl7t  1.988431  0.155413  4.751769  154.036647"
      ]
     },
     "metadata": {},
     "output_type": "display_data"
    },
    {
     "name": "stdout",
     "output_type": "stream",
     "text": [
      "<class 'pandas.core.frame.DataFrame'>\n",
      "RangeIndex: 100000 entries, 0 to 99999\n",
      "Data columns (total 5 columns):\n",
      " #   Column   Non-Null Count   Dtype  \n",
      "---  ------   --------------   -----  \n",
      " 0   id       100000 non-null  object \n",
      " 1   f0       100000 non-null  float64\n",
      " 2   f1       100000 non-null  float64\n",
      " 3   f2       100000 non-null  float64\n",
      " 4   product  100000 non-null  float64\n",
      "dtypes: float64(4), object(1)\n",
      "memory usage: 3.8+ MB\n"
     ]
    },
    {
     "data": {
      "text/html": [
       "<div>\n",
       "<style scoped>\n",
       "    .dataframe tbody tr th:only-of-type {\n",
       "        vertical-align: middle;\n",
       "    }\n",
       "\n",
       "    .dataframe tbody tr th {\n",
       "        vertical-align: top;\n",
       "    }\n",
       "\n",
       "    .dataframe thead th {\n",
       "        text-align: right;\n",
       "    }\n",
       "</style>\n",
       "<table border=\"1\" class=\"dataframe\">\n",
       "  <thead>\n",
       "    <tr style=\"text-align: right;\">\n",
       "      <th></th>\n",
       "      <th>f0</th>\n",
       "      <th>f1</th>\n",
       "      <th>f2</th>\n",
       "      <th>product</th>\n",
       "    </tr>\n",
       "  </thead>\n",
       "  <tbody>\n",
       "    <tr>\n",
       "      <th>count</th>\n",
       "      <td>100000.000000</td>\n",
       "      <td>100000.000000</td>\n",
       "      <td>100000.000000</td>\n",
       "      <td>100000.000000</td>\n",
       "    </tr>\n",
       "    <tr>\n",
       "      <th>mean</th>\n",
       "      <td>0.500419</td>\n",
       "      <td>0.250143</td>\n",
       "      <td>2.502647</td>\n",
       "      <td>92.500000</td>\n",
       "    </tr>\n",
       "    <tr>\n",
       "      <th>std</th>\n",
       "      <td>0.871832</td>\n",
       "      <td>0.504433</td>\n",
       "      <td>3.248248</td>\n",
       "      <td>44.288691</td>\n",
       "    </tr>\n",
       "    <tr>\n",
       "      <th>min</th>\n",
       "      <td>-1.408605</td>\n",
       "      <td>-0.848218</td>\n",
       "      <td>-12.088328</td>\n",
       "      <td>0.000000</td>\n",
       "    </tr>\n",
       "    <tr>\n",
       "      <th>25%</th>\n",
       "      <td>-0.072580</td>\n",
       "      <td>-0.200881</td>\n",
       "      <td>0.287748</td>\n",
       "      <td>56.497507</td>\n",
       "    </tr>\n",
       "    <tr>\n",
       "      <th>50%</th>\n",
       "      <td>0.502360</td>\n",
       "      <td>0.250252</td>\n",
       "      <td>2.515969</td>\n",
       "      <td>91.849972</td>\n",
       "    </tr>\n",
       "    <tr>\n",
       "      <th>75%</th>\n",
       "      <td>1.073581</td>\n",
       "      <td>0.700646</td>\n",
       "      <td>4.715088</td>\n",
       "      <td>128.564089</td>\n",
       "    </tr>\n",
       "    <tr>\n",
       "      <th>max</th>\n",
       "      <td>2.362331</td>\n",
       "      <td>1.343769</td>\n",
       "      <td>16.003790</td>\n",
       "      <td>185.364347</td>\n",
       "    </tr>\n",
       "  </tbody>\n",
       "</table>\n",
       "</div>"
      ],
      "text/plain": [
       "                  f0             f1             f2        product\n",
       "count  100000.000000  100000.000000  100000.000000  100000.000000\n",
       "mean        0.500419       0.250143       2.502647      92.500000\n",
       "std         0.871832       0.504433       3.248248      44.288691\n",
       "min        -1.408605      -0.848218     -12.088328       0.000000\n",
       "25%        -0.072580      -0.200881       0.287748      56.497507\n",
       "50%         0.502360       0.250252       2.515969      91.849972\n",
       "75%         1.073581       0.700646       4.715088     128.564089\n",
       "max         2.362331       1.343769      16.003790     185.364347"
      ]
     },
     "metadata": {},
     "output_type": "display_data"
    }
   ],
   "source": [
    "display(geo_data_0.head())\n",
    "geo_data_0.info()\n",
    "display(geo_data_0.describe())"
   ]
  },
  {
   "cell_type": "code",
   "execution_count": 5,
   "metadata": {},
   "outputs": [
    {
     "data": {
      "text/plain": [
       "'Тренировочная выборка (geo_data_0):'"
      ]
     },
     "metadata": {},
     "output_type": "display_data"
    },
    {
     "data": {
      "text/html": [
       "<div>\n",
       "<style scoped>\n",
       "    .dataframe tbody tr th:only-of-type {\n",
       "        vertical-align: middle;\n",
       "    }\n",
       "\n",
       "    .dataframe tbody tr th {\n",
       "        vertical-align: top;\n",
       "    }\n",
       "\n",
       "    .dataframe thead th {\n",
       "        text-align: right;\n",
       "    }\n",
       "</style>\n",
       "<table border=\"1\" class=\"dataframe\">\n",
       "  <thead>\n",
       "    <tr style=\"text-align: right;\">\n",
       "      <th></th>\n",
       "      <th>Количество пропусков</th>\n",
       "      <th>Процент пропусков</th>\n",
       "    </tr>\n",
       "  </thead>\n",
       "  <tbody>\n",
       "    <tr>\n",
       "      <th>id</th>\n",
       "      <td>0</td>\n",
       "      <td>0.0</td>\n",
       "    </tr>\n",
       "    <tr>\n",
       "      <th>f0</th>\n",
       "      <td>0</td>\n",
       "      <td>0.0</td>\n",
       "    </tr>\n",
       "    <tr>\n",
       "      <th>f1</th>\n",
       "      <td>0</td>\n",
       "      <td>0.0</td>\n",
       "    </tr>\n",
       "    <tr>\n",
       "      <th>f2</th>\n",
       "      <td>0</td>\n",
       "      <td>0.0</td>\n",
       "    </tr>\n",
       "    <tr>\n",
       "      <th>product</th>\n",
       "      <td>0</td>\n",
       "      <td>0.0</td>\n",
       "    </tr>\n",
       "  </tbody>\n",
       "</table>\n",
       "</div>"
      ],
      "text/plain": [
       "         Количество пропусков  Процент пропусков\n",
       "id                          0                0.0\n",
       "f0                          0                0.0\n",
       "f1                          0                0.0\n",
       "f2                          0                0.0\n",
       "product                     0                0.0"
      ]
     },
     "metadata": {},
     "output_type": "display_data"
    }
   ],
   "source": [
    "geo_data_0_counts = geo_data_0.isnull().sum()\n",
    "geo_data_0_percentages = geo_data_0_counts / len(geo_data_0) * 100\n",
    "display(\"Тренировочная выборка (geo_data_0):\")\n",
    "display(pd.concat([geo_data_0_counts, geo_data_0_percentages],\n",
    "                  axis=1, keys=['Количество пропусков', 'Процент пропусков']))"
   ]
  },
  {
   "cell_type": "code",
   "execution_count": 6,
   "metadata": {},
   "outputs": [
    {
     "data": {
      "text/plain": [
       "'Признак f0:'"
      ]
     },
     "metadata": {},
     "output_type": "display_data"
    },
    {
     "data": {
      "text/plain": [
       "'Количество выбросов: 0'"
      ]
     },
     "metadata": {},
     "output_type": "display_data"
    },
    {
     "data": {
      "text/plain": [
       "'Процент выбросов: 0.00%'"
      ]
     },
     "metadata": {},
     "output_type": "display_data"
    },
    {
     "data": {
      "text/plain": [
       "'Признак f1:'"
      ]
     },
     "metadata": {},
     "output_type": "display_data"
    },
    {
     "data": {
      "text/plain": [
       "'Количество выбросов: 0'"
      ]
     },
     "metadata": {},
     "output_type": "display_data"
    },
    {
     "data": {
      "text/plain": [
       "'Процент выбросов: 0.00%'"
      ]
     },
     "metadata": {},
     "output_type": "display_data"
    },
    {
     "data": {
      "text/plain": [
       "'Признак f2:'"
      ]
     },
     "metadata": {},
     "output_type": "display_data"
    },
    {
     "data": {
      "text/plain": [
       "'Количество выбросов: 506'"
      ]
     },
     "metadata": {},
     "output_type": "display_data"
    },
    {
     "data": {
      "text/plain": [
       "'Процент выбросов: 0.51%'"
      ]
     },
     "metadata": {},
     "output_type": "display_data"
    },
    {
     "data": {
      "text/plain": [
       "'Признак product:'"
      ]
     },
     "metadata": {},
     "output_type": "display_data"
    },
    {
     "data": {
      "text/plain": [
       "'Количество выбросов: 0'"
      ]
     },
     "metadata": {},
     "output_type": "display_data"
    },
    {
     "data": {
      "text/plain": [
       "'Процент выбросов: 0.00%'"
      ]
     },
     "metadata": {},
     "output_type": "display_data"
    }
   ],
   "source": [
    "def count_outliers(data, feature, left=1.5, right=1.5):\n",
    "    IQR = data[feature].quantile(0.75) - data[feature].quantile(0.25)\n",
    "    lower_bound = data[feature].quantile(0.25) - left * IQR\n",
    "    upper_bound = data[feature].quantile(0.75) + right * IQR\n",
    "    outliers = (data[feature] < lower_bound) | (data[feature] > upper_bound)\n",
    "    display(f\"Признак {feature}:\")\n",
    "    display(f\"Количество выбросов: {outliers.sum()}\")\n",
    "    display(f\"Процент выбросов: {outliers.mean() * 100:.2f}%\")\n",
    "\n",
    "for feature in ['f0', 'f1', 'f2', 'product']:\n",
    "    count_outliers(geo_data_0, feature)"
   ]
  },
  {
   "cell_type": "code",
   "execution_count": 7,
   "metadata": {},
   "outputs": [
    {
     "data": {
      "text/plain": [
       "'Обнаружено 10 потенциальных дубликатов с различиями в количественных признаках.'"
      ]
     },
     "metadata": {},
     "output_type": "display_data"
    },
    {
     "data": {
      "text/html": [
       "<div>\n",
       "<style scoped>\n",
       "    .dataframe tbody tr th:only-of-type {\n",
       "        vertical-align: middle;\n",
       "    }\n",
       "\n",
       "    .dataframe tbody tr th {\n",
       "        vertical-align: top;\n",
       "    }\n",
       "\n",
       "    .dataframe thead th {\n",
       "        text-align: right;\n",
       "    }\n",
       "</style>\n",
       "<table border=\"1\" class=\"dataframe\">\n",
       "  <thead>\n",
       "    <tr style=\"text-align: right;\">\n",
       "      <th></th>\n",
       "      <th>id</th>\n",
       "      <th>f0</th>\n",
       "      <th>f1</th>\n",
       "      <th>f2</th>\n",
       "      <th>product</th>\n",
       "      <th>is_duplicate</th>\n",
       "    </tr>\n",
       "  </thead>\n",
       "  <tbody>\n",
       "    <tr>\n",
       "      <th>0</th>\n",
       "      <td>74z30</td>\n",
       "      <td>0.741456</td>\n",
       "      <td>0.459229</td>\n",
       "      <td>5.153109</td>\n",
       "      <td>140.771492</td>\n",
       "      <td>True</td>\n",
       "    </tr>\n",
       "    <tr>\n",
       "      <th>1</th>\n",
       "      <td>74z30</td>\n",
       "      <td>1.084962</td>\n",
       "      <td>-0.312358</td>\n",
       "      <td>6.990771</td>\n",
       "      <td>127.643327</td>\n",
       "      <td>True</td>\n",
       "    </tr>\n",
       "    <tr>\n",
       "      <th>2</th>\n",
       "      <td>A5aEY</td>\n",
       "      <td>-0.039949</td>\n",
       "      <td>0.156872</td>\n",
       "      <td>0.209861</td>\n",
       "      <td>89.249364</td>\n",
       "      <td>True</td>\n",
       "    </tr>\n",
       "    <tr>\n",
       "      <th>3</th>\n",
       "      <td>A5aEY</td>\n",
       "      <td>-0.180335</td>\n",
       "      <td>0.935548</td>\n",
       "      <td>-2.094773</td>\n",
       "      <td>33.020205</td>\n",
       "      <td>True</td>\n",
       "    </tr>\n",
       "    <tr>\n",
       "      <th>4</th>\n",
       "      <td>AGS9W</td>\n",
       "      <td>1.454747</td>\n",
       "      <td>-0.479651</td>\n",
       "      <td>0.683380</td>\n",
       "      <td>126.370504</td>\n",
       "      <td>True</td>\n",
       "    </tr>\n",
       "    <tr>\n",
       "      <th>5</th>\n",
       "      <td>AGS9W</td>\n",
       "      <td>-0.933795</td>\n",
       "      <td>0.116194</td>\n",
       "      <td>-3.655896</td>\n",
       "      <td>19.230453</td>\n",
       "      <td>True</td>\n",
       "    </tr>\n",
       "    <tr>\n",
       "      <th>6</th>\n",
       "      <td>HZww2</td>\n",
       "      <td>0.755284</td>\n",
       "      <td>0.368511</td>\n",
       "      <td>1.863211</td>\n",
       "      <td>30.681774</td>\n",
       "      <td>True</td>\n",
       "    </tr>\n",
       "    <tr>\n",
       "      <th>7</th>\n",
       "      <td>HZww2</td>\n",
       "      <td>1.061194</td>\n",
       "      <td>-0.373969</td>\n",
       "      <td>10.430210</td>\n",
       "      <td>158.828695</td>\n",
       "      <td>True</td>\n",
       "    </tr>\n",
       "    <tr>\n",
       "      <th>8</th>\n",
       "      <td>QcMuo</td>\n",
       "      <td>0.506563</td>\n",
       "      <td>-0.323775</td>\n",
       "      <td>-2.215583</td>\n",
       "      <td>75.496502</td>\n",
       "      <td>True</td>\n",
       "    </tr>\n",
       "    <tr>\n",
       "      <th>9</th>\n",
       "      <td>QcMuo</td>\n",
       "      <td>0.635635</td>\n",
       "      <td>-0.473422</td>\n",
       "      <td>0.862670</td>\n",
       "      <td>64.578675</td>\n",
       "      <td>True</td>\n",
       "    </tr>\n",
       "    <tr>\n",
       "      <th>10</th>\n",
       "      <td>Tdehs</td>\n",
       "      <td>0.829407</td>\n",
       "      <td>0.298807</td>\n",
       "      <td>-0.049563</td>\n",
       "      <td>96.035308</td>\n",
       "      <td>True</td>\n",
       "    </tr>\n",
       "    <tr>\n",
       "      <th>11</th>\n",
       "      <td>Tdehs</td>\n",
       "      <td>0.112079</td>\n",
       "      <td>0.430296</td>\n",
       "      <td>3.218993</td>\n",
       "      <td>60.964018</td>\n",
       "      <td>True</td>\n",
       "    </tr>\n",
       "    <tr>\n",
       "      <th>12</th>\n",
       "      <td>TtcGQ</td>\n",
       "      <td>0.569276</td>\n",
       "      <td>-0.104876</td>\n",
       "      <td>6.440215</td>\n",
       "      <td>85.350186</td>\n",
       "      <td>True</td>\n",
       "    </tr>\n",
       "    <tr>\n",
       "      <th>13</th>\n",
       "      <td>TtcGQ</td>\n",
       "      <td>0.110711</td>\n",
       "      <td>1.022689</td>\n",
       "      <td>0.911381</td>\n",
       "      <td>101.318008</td>\n",
       "      <td>True</td>\n",
       "    </tr>\n",
       "    <tr>\n",
       "      <th>14</th>\n",
       "      <td>bsk9y</td>\n",
       "      <td>0.398908</td>\n",
       "      <td>-0.400253</td>\n",
       "      <td>10.122376</td>\n",
       "      <td>163.433078</td>\n",
       "      <td>True</td>\n",
       "    </tr>\n",
       "    <tr>\n",
       "      <th>15</th>\n",
       "      <td>bsk9y</td>\n",
       "      <td>0.378429</td>\n",
       "      <td>0.005837</td>\n",
       "      <td>0.160827</td>\n",
       "      <td>160.637302</td>\n",
       "      <td>True</td>\n",
       "    </tr>\n",
       "    <tr>\n",
       "      <th>16</th>\n",
       "      <td>bxg6G</td>\n",
       "      <td>0.411645</td>\n",
       "      <td>0.856830</td>\n",
       "      <td>-3.653440</td>\n",
       "      <td>73.604260</td>\n",
       "      <td>True</td>\n",
       "    </tr>\n",
       "    <tr>\n",
       "      <th>17</th>\n",
       "      <td>bxg6G</td>\n",
       "      <td>-0.823752</td>\n",
       "      <td>0.546319</td>\n",
       "      <td>3.630479</td>\n",
       "      <td>93.007798</td>\n",
       "      <td>True</td>\n",
       "    </tr>\n",
       "    <tr>\n",
       "      <th>18</th>\n",
       "      <td>fiKDv</td>\n",
       "      <td>0.157341</td>\n",
       "      <td>1.028359</td>\n",
       "      <td>5.585586</td>\n",
       "      <td>95.817889</td>\n",
       "      <td>True</td>\n",
       "    </tr>\n",
       "    <tr>\n",
       "      <th>19</th>\n",
       "      <td>fiKDv</td>\n",
       "      <td>0.049883</td>\n",
       "      <td>0.841313</td>\n",
       "      <td>6.394613</td>\n",
       "      <td>137.346586</td>\n",
       "      <td>True</td>\n",
       "    </tr>\n",
       "  </tbody>\n",
       "</table>\n",
       "</div>"
      ],
      "text/plain": [
       "       id        f0        f1         f2     product  is_duplicate\n",
       "0   74z30  0.741456  0.459229   5.153109  140.771492          True\n",
       "1   74z30  1.084962 -0.312358   6.990771  127.643327          True\n",
       "2   A5aEY -0.039949  0.156872   0.209861   89.249364          True\n",
       "3   A5aEY -0.180335  0.935548  -2.094773   33.020205          True\n",
       "4   AGS9W  1.454747 -0.479651   0.683380  126.370504          True\n",
       "5   AGS9W -0.933795  0.116194  -3.655896   19.230453          True\n",
       "6   HZww2  0.755284  0.368511   1.863211   30.681774          True\n",
       "7   HZww2  1.061194 -0.373969  10.430210  158.828695          True\n",
       "8   QcMuo  0.506563 -0.323775  -2.215583   75.496502          True\n",
       "9   QcMuo  0.635635 -0.473422   0.862670   64.578675          True\n",
       "10  Tdehs  0.829407  0.298807  -0.049563   96.035308          True\n",
       "11  Tdehs  0.112079  0.430296   3.218993   60.964018          True\n",
       "12  TtcGQ  0.569276 -0.104876   6.440215   85.350186          True\n",
       "13  TtcGQ  0.110711  1.022689   0.911381  101.318008          True\n",
       "14  bsk9y  0.398908 -0.400253  10.122376  163.433078          True\n",
       "15  bsk9y  0.378429  0.005837   0.160827  160.637302          True\n",
       "16  bxg6G  0.411645  0.856830  -3.653440   73.604260          True\n",
       "17  bxg6G -0.823752  0.546319   3.630479   93.007798          True\n",
       "18  fiKDv  0.157341  1.028359   5.585586   95.817889          True\n",
       "19  fiKDv  0.049883  0.841313   6.394613  137.346586          True"
      ]
     },
     "metadata": {},
     "output_type": "display_data"
    }
   ],
   "source": [
    "# Предположим, что 'id' является идентификатором каждой записи\n",
    "geo_data_0['is_duplicate'] = geo_data_0.duplicated(subset='id', keep=False)\n",
    "\n",
    "# Проверка на дубликаты с различиями в количественных признаках\n",
    "potential_duplicates = geo_data_0[geo_data_0['is_duplicate']].copy()\n",
    "grouped = potential_duplicates.groupby('id')\n",
    "\n",
    "inconsistent_duplicates = []\n",
    "\n",
    "for _, group in grouped:\n",
    "    if not group.drop(columns=['id']).nunique().eq(1).all():\n",
    "        inconsistent_duplicates.append(group)\n",
    "\n",
    "# Объединяем все группы с потенциальными дубликатами в один DataFrame\n",
    "inconsistent_duplicates_df = pd.concat(inconsistent_duplicates)\n",
    "\n",
    "# Сбрасываем индекс для удобства просмотра\n",
    "inconsistent_duplicates_df.reset_index(drop=True, inplace=True)\n",
    "\n",
    "num_inconsistent_duplicates = len(inconsistent_duplicates)\n",
    "\n",
    "if num_inconsistent_duplicates > 0:\n",
    "    display(f\"Обнаружено {num_inconsistent_duplicates} потенциальных дубликатов с различиями в количественных признаках.\")\n",
    "    display(inconsistent_duplicates_df)\n",
    "else:\n",
    "    display(\"Не обнаружено потенциальных дубликатов с различиями в количественных признаках.\")"
   ]
  },
  {
   "cell_type": "markdown",
   "metadata": {},
   "source": [
    "Если мы исправим идентификаторы у поставщиков, это повысит точность нашего набора данных. Однако на данный момент это не выполнено. Я склонен к тому, чтобы в каждой таблице удалить все записи с повторяющимися идентификаторами, чтобы обеспечить уникальность соответствия между идентификаторами и характеристиками в модели."
   ]
  },
  {
   "cell_type": "code",
   "execution_count": 8,
   "metadata": {},
   "outputs": [
    {
     "data": {
      "text/html": [
       "<div>\n",
       "<style scoped>\n",
       "    .dataframe tbody tr th:only-of-type {\n",
       "        vertical-align: middle;\n",
       "    }\n",
       "\n",
       "    .dataframe tbody tr th {\n",
       "        vertical-align: top;\n",
       "    }\n",
       "\n",
       "    .dataframe thead th {\n",
       "        text-align: right;\n",
       "    }\n",
       "</style>\n",
       "<table border=\"1\" class=\"dataframe\">\n",
       "  <thead>\n",
       "    <tr style=\"text-align: right;\">\n",
       "      <th></th>\n",
       "      <th>id</th>\n",
       "      <th>f0</th>\n",
       "      <th>f1</th>\n",
       "      <th>f2</th>\n",
       "      <th>product</th>\n",
       "      <th>is_duplicate</th>\n",
       "    </tr>\n",
       "  </thead>\n",
       "  <tbody>\n",
       "    <tr>\n",
       "      <th>0</th>\n",
       "      <td>74z30</td>\n",
       "      <td>0.741456</td>\n",
       "      <td>0.459229</td>\n",
       "      <td>5.153109</td>\n",
       "      <td>140.771492</td>\n",
       "      <td>True</td>\n",
       "    </tr>\n",
       "    <tr>\n",
       "      <th>1</th>\n",
       "      <td>A5aEY</td>\n",
       "      <td>-0.039949</td>\n",
       "      <td>0.156872</td>\n",
       "      <td>0.209861</td>\n",
       "      <td>89.249364</td>\n",
       "      <td>True</td>\n",
       "    </tr>\n",
       "    <tr>\n",
       "      <th>2</th>\n",
       "      <td>AGS9W</td>\n",
       "      <td>1.454747</td>\n",
       "      <td>-0.479651</td>\n",
       "      <td>0.683380</td>\n",
       "      <td>126.370504</td>\n",
       "      <td>True</td>\n",
       "    </tr>\n",
       "    <tr>\n",
       "      <th>3</th>\n",
       "      <td>HZww2</td>\n",
       "      <td>0.755284</td>\n",
       "      <td>0.368511</td>\n",
       "      <td>1.863211</td>\n",
       "      <td>30.681774</td>\n",
       "      <td>True</td>\n",
       "    </tr>\n",
       "    <tr>\n",
       "      <th>4</th>\n",
       "      <td>QcMuo</td>\n",
       "      <td>0.506563</td>\n",
       "      <td>-0.323775</td>\n",
       "      <td>-2.215583</td>\n",
       "      <td>75.496502</td>\n",
       "      <td>True</td>\n",
       "    </tr>\n",
       "    <tr>\n",
       "      <th>5</th>\n",
       "      <td>Tdehs</td>\n",
       "      <td>0.829407</td>\n",
       "      <td>0.298807</td>\n",
       "      <td>-0.049563</td>\n",
       "      <td>96.035308</td>\n",
       "      <td>True</td>\n",
       "    </tr>\n",
       "    <tr>\n",
       "      <th>6</th>\n",
       "      <td>TtcGQ</td>\n",
       "      <td>0.569276</td>\n",
       "      <td>-0.104876</td>\n",
       "      <td>6.440215</td>\n",
       "      <td>85.350186</td>\n",
       "      <td>True</td>\n",
       "    </tr>\n",
       "    <tr>\n",
       "      <th>7</th>\n",
       "      <td>bsk9y</td>\n",
       "      <td>0.398908</td>\n",
       "      <td>-0.400253</td>\n",
       "      <td>10.122376</td>\n",
       "      <td>163.433078</td>\n",
       "      <td>True</td>\n",
       "    </tr>\n",
       "    <tr>\n",
       "      <th>8</th>\n",
       "      <td>bxg6G</td>\n",
       "      <td>0.411645</td>\n",
       "      <td>0.856830</td>\n",
       "      <td>-3.653440</td>\n",
       "      <td>73.604260</td>\n",
       "      <td>True</td>\n",
       "    </tr>\n",
       "    <tr>\n",
       "      <th>9</th>\n",
       "      <td>fiKDv</td>\n",
       "      <td>0.157341</td>\n",
       "      <td>1.028359</td>\n",
       "      <td>5.585586</td>\n",
       "      <td>95.817889</td>\n",
       "      <td>True</td>\n",
       "    </tr>\n",
       "  </tbody>\n",
       "</table>\n",
       "</div>"
      ],
      "text/plain": [
       "      id        f0        f1         f2     product  is_duplicate\n",
       "0  74z30  0.741456  0.459229   5.153109  140.771492          True\n",
       "1  A5aEY -0.039949  0.156872   0.209861   89.249364          True\n",
       "2  AGS9W  1.454747 -0.479651   0.683380  126.370504          True\n",
       "3  HZww2  0.755284  0.368511   1.863211   30.681774          True\n",
       "4  QcMuo  0.506563 -0.323775  -2.215583   75.496502          True\n",
       "5  Tdehs  0.829407  0.298807  -0.049563   96.035308          True\n",
       "6  TtcGQ  0.569276 -0.104876   6.440215   85.350186          True\n",
       "7  bsk9y  0.398908 -0.400253  10.122376  163.433078          True\n",
       "8  bxg6G  0.411645  0.856830  -3.653440   73.604260          True\n",
       "9  fiKDv  0.157341  1.028359   5.585586   95.817889          True"
      ]
     },
     "metadata": {},
     "output_type": "display_data"
    },
    {
     "data": {
      "text/plain": [
       "'Длина geo_data_0 после удаления строк:'"
      ]
     },
     "metadata": {},
     "output_type": "display_data"
    },
    {
     "data": {
      "text/plain": [
       "99990"
      ]
     },
     "metadata": {},
     "output_type": "display_data"
    }
   ],
   "source": [
    "# Удаляем дубликаты по столбцу 'id' из каждой группы в списке inconsistent_duplicates\n",
    "cleaned_groups = [group.drop_duplicates(subset='id', keep='first') for group in inconsistent_duplicates]\n",
    "\n",
    "# Объединяем очищенные группы в один DataFrame\n",
    "inconsistent_duplicates_df = pd.concat(cleaned_groups)\n",
    "\n",
    "# Сбрасываем индекс для удобства просмотра\n",
    "inconsistent_duplicates_df.reset_index(drop=True, inplace=True)\n",
    "\n",
    "# Выводим результат\n",
    "display(inconsistent_duplicates_df)\n",
    "\n",
    "# Получаем индексы строк для удаления из geo_data_0\n",
    "indexes_to_drop = []\n",
    "for group in cleaned_groups:\n",
    "    indexes_to_drop.extend(group.index)\n",
    "\n",
    "# Удаляем строки из geo_data_0\n",
    "geo_data_0.drop(index=indexes_to_drop, inplace=True)\n",
    "\n",
    "# Удаление столбца 'is_duplicate' из DataFrame geo_data_0\n",
    "geo_data_0.drop('is_duplicate', axis=1, inplace=True)\n",
    "\n",
    "# Проверяем длину geo_data_0 после удаления строк\n",
    "length_geo_data_0 = len(geo_data_0)\n",
    "display(\"Длина geo_data_0 после удаления строк:\", length_geo_data_0)"
   ]
  },
  {
   "cell_type": "code",
   "execution_count": 9,
   "metadata": {},
   "outputs": [
    {
     "data": {
      "text/plain": [
       "'Количество неявных дубликатов: 0'"
      ]
     },
     "metadata": {},
     "output_type": "display_data"
    },
    {
     "data": {
      "text/plain": [
       "'Процент неявных дубликатов: 0.0000%'"
      ]
     },
     "metadata": {},
     "output_type": "display_data"
    }
   ],
   "source": [
    "duplicates = geo_data_0.duplicated(subset=['id','f0', 'f1', 'f2', 'product'])\n",
    "num_duplicates = duplicates.sum()\n",
    "display(f\"Количество неявных дубликатов: {num_duplicates}\")\n",
    "display(f\"Процент неявных дубликатов: {num_duplicates / len(geo_data_0) * 100:.4f}%\")"
   ]
  },
  {
   "cell_type": "code",
   "execution_count": 10,
   "metadata": {},
   "outputs": [
    {
     "data": {
      "image/png": "[encoded data removed]",
      "text/plain": [
       "<Figure size 720x576 with 4 Axes>"
      ]
     },
     "metadata": {
      "needs_background": "light"
     },
     "output_type": "display_data"
    }
   ],
   "source": [
    "fig, axs = plt.subplots(2, 2, figsize=(10, 8))\n",
    "axs = axs.flatten()\n",
    "\n",
    "for i, feature in enumerate(['f0', 'f1', 'f2', 'product']):\n",
    "    axs[i].hist(geo_data_0[feature], bins=50)\n",
    "    axs[i].set_title(feature)\n",
    "    axs[i].set_xlabel('Значение')\n",
    "    axs[i].set_ylabel('Частота')\n",
    "\n",
    "plt.tight_layout()\n",
    "plt.show()"
   ]
  },
  {
   "cell_type": "code",
   "execution_count": 11,
   "metadata": {},
   "outputs": [
    {
     "data": {
      "image/png": "[encoded data removed]",
      "text/plain": [
       "<Figure size 720x576 with 2 Axes>"
      ]
     },
     "metadata": {
      "needs_background": "light"
     },
     "output_type": "display_data"
    }
   ],
   "source": [
    "# Предположим, что geo_data_0 - это ваш DataFrame\n",
    "# Удалим столбец 'id'\n",
    "geo_data_0_no_id = geo_data_0.drop(columns=['id'])\n",
    "\n",
    "# Рассчитаем PhiK матрицу\n",
    "phik_matrix = geo_data_0_no_id.phik_matrix(interval_cols=['f0', 'f1', 'f2', 'product'])\n",
    "\n",
    "# Отобразим матрицу\n",
    "plot_correlation_matrix(phik_matrix.values, x_labels=phik_matrix.columns, y_labels=phik_matrix.index, \n",
    "                        title=\"PhiK Correlation Matrix for geo_data_0\", fontsize_factor=1.5, figsize=(10, 8))\n",
    "\n",
    "plt.tight_layout()\n",
    "plt.show()"
   ]
  },
  {
   "cell_type": "markdown",
   "metadata": {},
   "source": [
    "Изучение данных geo_data_0 - Вывод:\n",
    "- Удалите все строки, в которых значения id повторяются.\n",
    "- В данных отсутствуют пропущенные значения и полные дубликаты.\n",
    "- Выбросов: 0.00% для f0, 0.00% для f1, 0.00% для f2 и 0.00% для product.\n",
    "- Распределения признаков f0, f1 и f2 близки к нормальному, в то время как product имеет правостороннее смещенное распределение.\n",
    "- Наблюдается значительная корреляция между признаками f0, f1 и целевой переменной product, что указывает на их потенциальную предсказательную ценность.\n",
    "- Данные региона 0 хорошо подготовлены для построения модели прогнозирования объемов запасов нефти в скважинах."
   ]
  },
  {
   "cell_type": "markdown",
   "metadata": {},
   "source": [
    "### Шаг 1.5  Изучение данных geo_data_1"
   ]
  },
  {
   "cell_type": "code",
   "execution_count": 12,
   "metadata": {},
   "outputs": [
    {
     "data": {
      "text/html": [
       "<div>\n",
       "<style scoped>\n",
       "    .dataframe tbody tr th:only-of-type {\n",
       "        vertical-align: middle;\n",
       "    }\n",
       "\n",
       "    .dataframe tbody tr th {\n",
       "        vertical-align: top;\n",
       "    }\n",
       "\n",
       "    .dataframe thead th {\n",
       "        text-align: right;\n",
       "    }\n",
       "</style>\n",
       "<table border=\"1\" class=\"dataframe\">\n",
       "  <thead>\n",
       "    <tr style=\"text-align: right;\">\n",
       "      <th></th>\n",
       "      <th>id</th>\n",
       "      <th>f0</th>\n",
       "      <th>f1</th>\n",
       "      <th>f2</th>\n",
       "      <th>product</th>\n",
       "    </tr>\n",
       "  </thead>\n",
       "  <tbody>\n",
       "    <tr>\n",
       "      <th>0</th>\n",
       "      <td>kBEdx</td>\n",
       "      <td>-15.001348</td>\n",
       "      <td>-8.276000</td>\n",
       "      <td>-0.005876</td>\n",
       "      <td>3.179103</td>\n",
       "    </tr>\n",
       "    <tr>\n",
       "      <th>1</th>\n",
       "      <td>62mP7</td>\n",
       "      <td>14.272088</td>\n",
       "      <td>-3.475083</td>\n",
       "      <td>0.999183</td>\n",
       "      <td>26.953261</td>\n",
       "    </tr>\n",
       "    <tr>\n",
       "      <th>2</th>\n",
       "      <td>vyE1P</td>\n",
       "      <td>6.263187</td>\n",
       "      <td>-5.948386</td>\n",
       "      <td>5.001160</td>\n",
       "      <td>134.766305</td>\n",
       "    </tr>\n",
       "    <tr>\n",
       "      <th>3</th>\n",
       "      <td>KcrkZ</td>\n",
       "      <td>-13.081196</td>\n",
       "      <td>-11.506057</td>\n",
       "      <td>4.999415</td>\n",
       "      <td>137.945408</td>\n",
       "    </tr>\n",
       "    <tr>\n",
       "      <th>4</th>\n",
       "      <td>AHL4O</td>\n",
       "      <td>12.702195</td>\n",
       "      <td>-8.147433</td>\n",
       "      <td>5.004363</td>\n",
       "      <td>134.766305</td>\n",
       "    </tr>\n",
       "  </tbody>\n",
       "</table>\n",
       "</div>"
      ],
      "text/plain": [
       "      id         f0         f1        f2     product\n",
       "0  kBEdx -15.001348  -8.276000 -0.005876    3.179103\n",
       "1  62mP7  14.272088  -3.475083  0.999183   26.953261\n",
       "2  vyE1P   6.263187  -5.948386  5.001160  134.766305\n",
       "3  KcrkZ -13.081196 -11.506057  4.999415  137.945408\n",
       "4  AHL4O  12.702195  -8.147433  5.004363  134.766305"
      ]
     },
     "metadata": {},
     "output_type": "display_data"
    },
    {
     "name": "stdout",
     "output_type": "stream",
     "text": [
      "<class 'pandas.core.frame.DataFrame'>\n",
      "RangeIndex: 100000 entries, 0 to 99999\n",
      "Data columns (total 5 columns):\n",
      " #   Column   Non-Null Count   Dtype  \n",
      "---  ------   --------------   -----  \n",
      " 0   id       100000 non-null  object \n",
      " 1   f0       100000 non-null  float64\n",
      " 2   f1       100000 non-null  float64\n",
      " 3   f2       100000 non-null  float64\n",
      " 4   product  100000 non-null  float64\n",
      "dtypes: float64(4), object(1)\n",
      "memory usage: 3.8+ MB\n"
     ]
    },
    {
     "data": {
      "text/html": [
       "<div>\n",
       "<style scoped>\n",
       "    .dataframe tbody tr th:only-of-type {\n",
       "        vertical-align: middle;\n",
       "    }\n",
       "\n",
       "    .dataframe tbody tr th {\n",
       "        vertical-align: top;\n",
       "    }\n",
       "\n",
       "    .dataframe thead th {\n",
       "        text-align: right;\n",
       "    }\n",
       "</style>\n",
       "<table border=\"1\" class=\"dataframe\">\n",
       "  <thead>\n",
       "    <tr style=\"text-align: right;\">\n",
       "      <th></th>\n",
       "      <th>f0</th>\n",
       "      <th>f1</th>\n",
       "      <th>f2</th>\n",
       "      <th>product</th>\n",
       "    </tr>\n",
       "  </thead>\n",
       "  <tbody>\n",
       "    <tr>\n",
       "      <th>count</th>\n",
       "      <td>100000.000000</td>\n",
       "      <td>100000.000000</td>\n",
       "      <td>100000.000000</td>\n",
       "      <td>100000.000000</td>\n",
       "    </tr>\n",
       "    <tr>\n",
       "      <th>mean</th>\n",
       "      <td>1.141296</td>\n",
       "      <td>-4.796579</td>\n",
       "      <td>2.494541</td>\n",
       "      <td>68.825000</td>\n",
       "    </tr>\n",
       "    <tr>\n",
       "      <th>std</th>\n",
       "      <td>8.965932</td>\n",
       "      <td>5.119872</td>\n",
       "      <td>1.703572</td>\n",
       "      <td>45.944423</td>\n",
       "    </tr>\n",
       "    <tr>\n",
       "      <th>min</th>\n",
       "      <td>-31.609576</td>\n",
       "      <td>-26.358598</td>\n",
       "      <td>-0.018144</td>\n",
       "      <td>0.000000</td>\n",
       "    </tr>\n",
       "    <tr>\n",
       "      <th>25%</th>\n",
       "      <td>-6.298551</td>\n",
       "      <td>-8.267985</td>\n",
       "      <td>1.000021</td>\n",
       "      <td>26.953261</td>\n",
       "    </tr>\n",
       "    <tr>\n",
       "      <th>50%</th>\n",
       "      <td>1.153055</td>\n",
       "      <td>-4.813172</td>\n",
       "      <td>2.011479</td>\n",
       "      <td>57.085625</td>\n",
       "    </tr>\n",
       "    <tr>\n",
       "      <th>75%</th>\n",
       "      <td>8.621015</td>\n",
       "      <td>-1.332816</td>\n",
       "      <td>3.999904</td>\n",
       "      <td>107.813044</td>\n",
       "    </tr>\n",
       "    <tr>\n",
       "      <th>max</th>\n",
       "      <td>29.421755</td>\n",
       "      <td>18.734063</td>\n",
       "      <td>5.019721</td>\n",
       "      <td>137.945408</td>\n",
       "    </tr>\n",
       "  </tbody>\n",
       "</table>\n",
       "</div>"
      ],
      "text/plain": [
       "                  f0             f1             f2        product\n",
       "count  100000.000000  100000.000000  100000.000000  100000.000000\n",
       "mean        1.141296      -4.796579       2.494541      68.825000\n",
       "std         8.965932       5.119872       1.703572      45.944423\n",
       "min       -31.609576     -26.358598      -0.018144       0.000000\n",
       "25%        -6.298551      -8.267985       1.000021      26.953261\n",
       "50%         1.153055      -4.813172       2.011479      57.085625\n",
       "75%         8.621015      -1.332816       3.999904     107.813044\n",
       "max        29.421755      18.734063       5.019721     137.945408"
      ]
     },
     "metadata": {},
     "output_type": "display_data"
    }
   ],
   "source": [
    "display(geo_data_1.head())\n",
    "geo_data_1.info()\n",
    "display(geo_data_1.describe())"
   ]
  },
  {
   "cell_type": "code",
   "execution_count": 13,
   "metadata": {},
   "outputs": [
    {
     "data": {
      "text/plain": [
       "'Тренировочная выборка (geo_data_1):'"
      ]
     },
     "metadata": {},
     "output_type": "display_data"
    },
    {
     "data": {
      "text/html": [
       "<div>\n",
       "<style scoped>\n",
       "    .dataframe tbody tr th:only-of-type {\n",
       "        vertical-align: middle;\n",
       "    }\n",
       "\n",
       "    .dataframe tbody tr th {\n",
       "        vertical-align: top;\n",
       "    }\n",
       "\n",
       "    .dataframe thead th {\n",
       "        text-align: right;\n",
       "    }\n",
       "</style>\n",
       "<table border=\"1\" class=\"dataframe\">\n",
       "  <thead>\n",
       "    <tr style=\"text-align: right;\">\n",
       "      <th></th>\n",
       "      <th>Количество пропусков</th>\n",
       "      <th>Процент пропусков</th>\n",
       "    </tr>\n",
       "  </thead>\n",
       "  <tbody>\n",
       "    <tr>\n",
       "      <th>id</th>\n",
       "      <td>0</td>\n",
       "      <td>0.0</td>\n",
       "    </tr>\n",
       "    <tr>\n",
       "      <th>f0</th>\n",
       "      <td>0</td>\n",
       "      <td>0.0</td>\n",
       "    </tr>\n",
       "    <tr>\n",
       "      <th>f1</th>\n",
       "      <td>0</td>\n",
       "      <td>0.0</td>\n",
       "    </tr>\n",
       "    <tr>\n",
       "      <th>f2</th>\n",
       "      <td>0</td>\n",
       "      <td>0.0</td>\n",
       "    </tr>\n",
       "    <tr>\n",
       "      <th>product</th>\n",
       "      <td>0</td>\n",
       "      <td>0.0</td>\n",
       "    </tr>\n",
       "  </tbody>\n",
       "</table>\n",
       "</div>"
      ],
      "text/plain": [
       "         Количество пропусков  Процент пропусков\n",
       "id                          0                0.0\n",
       "f0                          0                0.0\n",
       "f1                          0                0.0\n",
       "f2                          0                0.0\n",
       "product                     0                0.0"
      ]
     },
     "metadata": {},
     "output_type": "display_data"
    }
   ],
   "source": [
    "geo_data_1_counts = geo_data_1.isnull().sum()\n",
    "geo_data_1_percentages = geo_data_1_counts / len(geo_data_1) * 100\n",
    "display(\"Тренировочная выборка (geo_data_1):\")\n",
    "display(pd.concat([geo_data_1_counts, geo_data_1_percentages],\n",
    "                  axis=1, keys=['Количество пропусков', 'Процент пропусков']))"
   ]
  },
  {
   "cell_type": "code",
   "execution_count": 14,
   "metadata": {},
   "outputs": [
    {
     "data": {
      "text/plain": [
       "'Признак f0:'"
      ]
     },
     "metadata": {},
     "output_type": "display_data"
    },
    {
     "data": {
      "text/plain": [
       "'Количество выбросов: 1'"
      ]
     },
     "metadata": {},
     "output_type": "display_data"
    },
    {
     "data": {
      "text/plain": [
       "'Процент выбросов: 0.00%'"
      ]
     },
     "metadata": {},
     "output_type": "display_data"
    },
    {
     "data": {
      "text/plain": [
       "'Признак f1:'"
      ]
     },
     "metadata": {},
     "output_type": "display_data"
    },
    {
     "data": {
      "text/plain": [
       "'Количество выбросов: 636'"
      ]
     },
     "metadata": {},
     "output_type": "display_data"
    },
    {
     "data": {
      "text/plain": [
       "'Процент выбросов: 0.64%'"
      ]
     },
     "metadata": {},
     "output_type": "display_data"
    },
    {
     "data": {
      "text/plain": [
       "'Признак f2:'"
      ]
     },
     "metadata": {},
     "output_type": "display_data"
    },
    {
     "data": {
      "text/plain": [
       "'Количество выбросов: 0'"
      ]
     },
     "metadata": {},
     "output_type": "display_data"
    },
    {
     "data": {
      "text/plain": [
       "'Процент выбросов: 0.00%'"
      ]
     },
     "metadata": {},
     "output_type": "display_data"
    },
    {
     "data": {
      "text/plain": [
       "'Признак product:'"
      ]
     },
     "metadata": {},
     "output_type": "display_data"
    },
    {
     "data": {
      "text/plain": [
       "'Количество выбросов: 0'"
      ]
     },
     "metadata": {},
     "output_type": "display_data"
    },
    {
     "data": {
      "text/plain": [
       "'Процент выбросов: 0.00%'"
      ]
     },
     "metadata": {},
     "output_type": "display_data"
    }
   ],
   "source": [
    "def count_outliers(data, feature, left=1.5, right=1.5):\n",
    "    IQR = data[feature].quantile(0.75) - data[feature].quantile(0.25)\n",
    "    lower_bound = data[feature].quantile(0.25) - left * IQR\n",
    "    upper_bound = data[feature].quantile(0.75) + right * IQR\n",
    "    outliers = (data[feature] < lower_bound) | (data[feature] > upper_bound)\n",
    "    display(f\"Признак {feature}:\")\n",
    "    display(f\"Количество выбросов: {outliers.sum()}\")\n",
    "    display(f\"Процент выбросов: {outliers.mean() * 100:.2f}%\")\n",
    "\n",
    "for feature in ['f0', 'f1', 'f2', 'product']:\n",
    "    count_outliers(geo_data_1, feature)"
   ]
  },
  {
   "cell_type": "code",
   "execution_count": 15,
   "metadata": {},
   "outputs": [
    {
     "data": {
      "text/plain": [
       "'Не обнаружено неявных дубликатов в данных.'"
      ]
     },
     "metadata": {},
     "output_type": "display_data"
    }
   ],
   "source": [
    "duplicates = geo_data_1.duplicated()\n",
    "num_duplicates = duplicates.sum()\n",
    "if num_duplicates > 0:\n",
    "    display(\"Обнаружено неявных дубликатов в данных.\")\n",
    "else:\n",
    "    display(\"Не обнаружено неявных дубликатов в данных.\")"
   ]
  },
  {
   "cell_type": "code",
   "execution_count": 16,
   "metadata": {},
   "outputs": [
    {
     "data": {
      "text/plain": [
       "'Обнаружено 4 потенциальных дубликатов с различиями в количественных признаках.'"
      ]
     },
     "metadata": {},
     "output_type": "display_data"
    },
    {
     "data": {
      "text/html": [
       "<div>\n",
       "<style scoped>\n",
       "    .dataframe tbody tr th:only-of-type {\n",
       "        vertical-align: middle;\n",
       "    }\n",
       "\n",
       "    .dataframe tbody tr th {\n",
       "        vertical-align: top;\n",
       "    }\n",
       "\n",
       "    .dataframe thead th {\n",
       "        text-align: right;\n",
       "    }\n",
       "</style>\n",
       "<table border=\"1\" class=\"dataframe\">\n",
       "  <thead>\n",
       "    <tr style=\"text-align: right;\">\n",
       "      <th></th>\n",
       "      <th>id</th>\n",
       "      <th>f0</th>\n",
       "      <th>f1</th>\n",
       "      <th>f2</th>\n",
       "      <th>product</th>\n",
       "      <th>is_duplicate</th>\n",
       "    </tr>\n",
       "  </thead>\n",
       "  <tbody>\n",
       "    <tr>\n",
       "      <th>0</th>\n",
       "      <td>5ltQ6</td>\n",
       "      <td>-3.435401</td>\n",
       "      <td>-12.296043</td>\n",
       "      <td>1.999796</td>\n",
       "      <td>57.085625</td>\n",
       "      <td>True</td>\n",
       "    </tr>\n",
       "    <tr>\n",
       "      <th>1</th>\n",
       "      <td>5ltQ6</td>\n",
       "      <td>18.213839</td>\n",
       "      <td>2.191999</td>\n",
       "      <td>3.993869</td>\n",
       "      <td>107.813044</td>\n",
       "      <td>True</td>\n",
       "    </tr>\n",
       "    <tr>\n",
       "      <th>2</th>\n",
       "      <td>LHZR0</td>\n",
       "      <td>11.170835</td>\n",
       "      <td>-1.945066</td>\n",
       "      <td>3.002872</td>\n",
       "      <td>80.859783</td>\n",
       "      <td>True</td>\n",
       "    </tr>\n",
       "    <tr>\n",
       "      <th>3</th>\n",
       "      <td>LHZR0</td>\n",
       "      <td>-8.989672</td>\n",
       "      <td>-4.286607</td>\n",
       "      <td>2.009139</td>\n",
       "      <td>57.085625</td>\n",
       "      <td>True</td>\n",
       "    </tr>\n",
       "    <tr>\n",
       "      <th>4</th>\n",
       "      <td>bfPNe</td>\n",
       "      <td>-9.494442</td>\n",
       "      <td>-5.463692</td>\n",
       "      <td>4.006042</td>\n",
       "      <td>110.992147</td>\n",
       "      <td>True</td>\n",
       "    </tr>\n",
       "    <tr>\n",
       "      <th>5</th>\n",
       "      <td>bfPNe</td>\n",
       "      <td>-6.202799</td>\n",
       "      <td>-4.820045</td>\n",
       "      <td>2.995107</td>\n",
       "      <td>84.038886</td>\n",
       "      <td>True</td>\n",
       "    </tr>\n",
       "    <tr>\n",
       "      <th>6</th>\n",
       "      <td>wt4Uk</td>\n",
       "      <td>-9.091098</td>\n",
       "      <td>-8.109279</td>\n",
       "      <td>-0.002314</td>\n",
       "      <td>3.179103</td>\n",
       "      <td>True</td>\n",
       "    </tr>\n",
       "    <tr>\n",
       "      <th>7</th>\n",
       "      <td>wt4Uk</td>\n",
       "      <td>10.259972</td>\n",
       "      <td>-9.376355</td>\n",
       "      <td>4.994297</td>\n",
       "      <td>134.766305</td>\n",
       "      <td>True</td>\n",
       "    </tr>\n",
       "  </tbody>\n",
       "</table>\n",
       "</div>"
      ],
      "text/plain": [
       "      id         f0         f1        f2     product  is_duplicate\n",
       "0  5ltQ6  -3.435401 -12.296043  1.999796   57.085625          True\n",
       "1  5ltQ6  18.213839   2.191999  3.993869  107.813044          True\n",
       "2  LHZR0  11.170835  -1.945066  3.002872   80.859783          True\n",
       "3  LHZR0  -8.989672  -4.286607  2.009139   57.085625          True\n",
       "4  bfPNe  -9.494442  -5.463692  4.006042  110.992147          True\n",
       "5  bfPNe  -6.202799  -4.820045  2.995107   84.038886          True\n",
       "6  wt4Uk  -9.091098  -8.109279 -0.002314    3.179103          True\n",
       "7  wt4Uk  10.259972  -9.376355  4.994297  134.766305          True"
      ]
     },
     "metadata": {},
     "output_type": "display_data"
    }
   ],
   "source": [
    "# Предположим, что 'id' является идентификатором каждой записи\n",
    "geo_data_1['is_duplicate'] = geo_data_1.duplicated(subset='id', keep=False)\n",
    "\n",
    "# Проверка на дубликаты с различиями в количественных признаках\n",
    "potential_duplicates = geo_data_1[geo_data_1['is_duplicate']].copy()\n",
    "grouped = potential_duplicates.groupby('id')\n",
    "\n",
    "inconsistent_duplicates = []\n",
    "\n",
    "for _, group in grouped:\n",
    "    if not group.drop(columns=['id']).nunique().eq(1).all():\n",
    "        inconsistent_duplicates.append(group)\n",
    "\n",
    "# Объединяем все группы с потенциальными дубликатами в один DataFrame\n",
    "inconsistent_duplicates_df = pd.concat(inconsistent_duplicates)\n",
    "\n",
    "# Сбрасываем индекс для удобства просмотра\n",
    "inconsistent_duplicates_df.reset_index(drop=True, inplace=True)\n",
    "\n",
    "num_inconsistent_duplicates = len(inconsistent_duplicates)\n",
    "\n",
    "if num_inconsistent_duplicates > 0:\n",
    "    display(f\"Обнаружено {num_inconsistent_duplicates} потенциальных дубликатов с различиями в количественных признаках.\")\n",
    "    display(inconsistent_duplicates_df)\n",
    "else:\n",
    "    display(\"Не обнаружено потенциальных дубликатов с различиями в количественных признаках.\")"
   ]
  },
  {
   "cell_type": "code",
   "execution_count": 17,
   "metadata": {},
   "outputs": [
    {
     "data": {
      "text/html": [
       "<div>\n",
       "<style scoped>\n",
       "    .dataframe tbody tr th:only-of-type {\n",
       "        vertical-align: middle;\n",
       "    }\n",
       "\n",
       "    .dataframe tbody tr th {\n",
       "        vertical-align: top;\n",
       "    }\n",
       "\n",
       "    .dataframe thead th {\n",
       "        text-align: right;\n",
       "    }\n",
       "</style>\n",
       "<table border=\"1\" class=\"dataframe\">\n",
       "  <thead>\n",
       "    <tr style=\"text-align: right;\">\n",
       "      <th></th>\n",
       "      <th>id</th>\n",
       "      <th>f0</th>\n",
       "      <th>f1</th>\n",
       "      <th>f2</th>\n",
       "      <th>product</th>\n",
       "      <th>is_duplicate</th>\n",
       "    </tr>\n",
       "  </thead>\n",
       "  <tbody>\n",
       "    <tr>\n",
       "      <th>0</th>\n",
       "      <td>5ltQ6</td>\n",
       "      <td>-3.435401</td>\n",
       "      <td>-12.296043</td>\n",
       "      <td>1.999796</td>\n",
       "      <td>57.085625</td>\n",
       "      <td>True</td>\n",
       "    </tr>\n",
       "    <tr>\n",
       "      <th>1</th>\n",
       "      <td>LHZR0</td>\n",
       "      <td>11.170835</td>\n",
       "      <td>-1.945066</td>\n",
       "      <td>3.002872</td>\n",
       "      <td>80.859783</td>\n",
       "      <td>True</td>\n",
       "    </tr>\n",
       "    <tr>\n",
       "      <th>2</th>\n",
       "      <td>bfPNe</td>\n",
       "      <td>-9.494442</td>\n",
       "      <td>-5.463692</td>\n",
       "      <td>4.006042</td>\n",
       "      <td>110.992147</td>\n",
       "      <td>True</td>\n",
       "    </tr>\n",
       "    <tr>\n",
       "      <th>3</th>\n",
       "      <td>wt4Uk</td>\n",
       "      <td>-9.091098</td>\n",
       "      <td>-8.109279</td>\n",
       "      <td>-0.002314</td>\n",
       "      <td>3.179103</td>\n",
       "      <td>True</td>\n",
       "    </tr>\n",
       "  </tbody>\n",
       "</table>\n",
       "</div>"
      ],
      "text/plain": [
       "      id         f0         f1        f2     product  is_duplicate\n",
       "0  5ltQ6  -3.435401 -12.296043  1.999796   57.085625          True\n",
       "1  LHZR0  11.170835  -1.945066  3.002872   80.859783          True\n",
       "2  bfPNe  -9.494442  -5.463692  4.006042  110.992147          True\n",
       "3  wt4Uk  -9.091098  -8.109279 -0.002314    3.179103          True"
      ]
     },
     "metadata": {},
     "output_type": "display_data"
    },
    {
     "data": {
      "text/plain": [
       "'Длина geo_data_1 после удаления строк:'"
      ]
     },
     "metadata": {},
     "output_type": "display_data"
    },
    {
     "data": {
      "text/plain": [
       "99996"
      ]
     },
     "metadata": {},
     "output_type": "display_data"
    }
   ],
   "source": [
    "# Удаляем дубликаты по столбцу 'id' из каждой группы в списке inconsistent_duplicates\n",
    "cleaned_groups_1 = [group.drop_duplicates(subset='id', keep='first') for group in inconsistent_duplicates]\n",
    "\n",
    "# Объединяем очищенные группы в один DataFrame\n",
    "inconsistent_duplicates_df_1 = pd.concat(cleaned_groups_1)\n",
    "\n",
    "# Сбрасываем индекс для удобства просмотра\n",
    "inconsistent_duplicates_df_1.reset_index(drop=True, inplace=True)\n",
    "\n",
    "# Выводим результат\n",
    "display(inconsistent_duplicates_df_1)\n",
    "\n",
    "# Получаем индексы строк для удаления из geo_data_1\n",
    "indexes_to_drop_1 = []\n",
    "for group in cleaned_groups_1:\n",
    "    indexes_to_drop_1.extend(group.index)\n",
    "\n",
    "# Удаляем строки из geo_data_1\n",
    "geo_data_1.drop(index=indexes_to_drop_1, inplace=True)\n",
    "\n",
    "# Удаление столбца 'is_duplicate' из DataFrame geo_data_1\n",
    "geo_data_1.drop('is_duplicate', axis=1, inplace=True)\n",
    "\n",
    "# Проверяем длину geo_data_1 после удаления строк\n",
    "length_geo_data_1 = len(geo_data_1)\n",
    "display(\"Длина geo_data_1 после удаления строк:\", length_geo_data_1)"
   ]
  },
  {
   "cell_type": "code",
   "execution_count": 18,
   "metadata": {},
   "outputs": [
    {
     "data": {
      "text/plain": [
       "'Количество неявных дубликатов: 0'"
      ]
     },
     "metadata": {},
     "output_type": "display_data"
    },
    {
     "data": {
      "text/plain": [
       "'Процент неявных дубликатов: 0.0000%'"
      ]
     },
     "metadata": {},
     "output_type": "display_data"
    }
   ],
   "source": [
    "duplicates = geo_data_1.duplicated(subset=['id','f0', 'f1', 'f2', 'product'])\n",
    "num_duplicates = duplicates.sum()\n",
    "display(f\"Количество неявных дубликатов: {num_duplicates}\")\n",
    "display(f\"Процент неявных дубликатов: {num_duplicates / len(geo_data_1) * 100:.4f}%\")\n"
   ]
  },
  {
   "cell_type": "code",
   "execution_count": 19,
   "metadata": {},
   "outputs": [
    {
     "data": {
      "image/png": "[encoded data removed]",
      "text/plain": [
       "<Figure size 720x576 with 4 Axes>"
      ]
     },
     "metadata": {
      "needs_background": "light"
     },
     "output_type": "display_data"
    }
   ],
   "source": [
    "fig, axs = plt.subplots(2, 2, figsize=(10, 8))\n",
    "axs = axs.flatten()\n",
    "\n",
    "for i, feature in enumerate(['f0', 'f1', 'f2', 'product']):\n",
    "    axs[i].hist(geo_data_1[feature], bins=50)\n",
    "    axs[i].set_title(feature)\n",
    "    axs[i].set_xlabel('Значение')\n",
    "    axs[i].set_ylabel('Частота')\n",
    "\n",
    "plt.tight_layout()\n",
    "plt.show()"
   ]
  },
  {
   "cell_type": "code",
   "execution_count": 20,
   "metadata": {},
   "outputs": [
    {
     "data": {
      "image/png": "[encoded data removed]",
      "text/plain": [
       "<Figure size 720x576 with 2 Axes>"
      ]
     },
     "metadata": {
      "needs_background": "light"
     },
     "output_type": "display_data"
    }
   ],
   "source": [
    "# Предположим, что geo_data_1 - это ваш DataFrame\n",
    "# Удалим столбец 'id'\n",
    "geo_data_1_no_id = geo_data_1.drop(columns=['id'])\n",
    "\n",
    "# Рассчитаем PhiK матрицу\n",
    "phik_matrix = geo_data_1_no_id.phik_matrix(interval_cols=['f0', 'f1', 'f2', 'product'])\n",
    "\n",
    "# Отобразим матрицу\n",
    "plot_correlation_matrix(phik_matrix.values, x_labels=phik_matrix.columns, y_labels=phik_matrix.index, \n",
    "                        title=\"PhiK Correlation Matrix for geo_data_1\", fontsize_factor=1.5, figsize=(10, 8))\n",
    "\n",
    "plt.tight_layout()\n",
    "plt.show()"
   ]
  },
  {
   "cell_type": "markdown",
   "metadata": {},
   "source": [
    "Изучение данных geo_data_1 - Вывод:\n",
    "-  Удалите все строки, в которых значения id повторяются.\n",
    "-  В данных отсутствуют пропущенные значения и полные дубликаты.\n",
    "-  Выбросов: 0.00% для f0, 0.64% для f1, 0.00% для f2 и 0.00% для product.\n",
    "-  Распределения признаков f0, f1 и f2 близки к нормальному, в то время как product имеет правостороннее смещенное распределение.\n",
    "-  Наблюдается высокая положительная корреляция между признаками f0, f1, f2 и целевой переменной product, что указывает на их потенциальную предсказательную ценность.\n",
    "- Данные региона 1 хорошо подготовлены для построения модели прогнозирования объемов запасов нефти в скважинах.\n"
   ]
  },
  {
   "cell_type": "markdown",
   "metadata": {},
   "source": [
    "### Шаг 1.6  Изучение данных geo_data_2"
   ]
  },
  {
   "cell_type": "code",
   "execution_count": 21,
   "metadata": {},
   "outputs": [
    {
     "data": {
      "text/html": [
       "<div>\n",
       "<style scoped>\n",
       "    .dataframe tbody tr th:only-of-type {\n",
       "        vertical-align: middle;\n",
       "    }\n",
       "\n",
       "    .dataframe tbody tr th {\n",
       "        vertical-align: top;\n",
       "    }\n",
       "\n",
       "    .dataframe thead th {\n",
       "        text-align: right;\n",
       "    }\n",
       "</style>\n",
       "<table border=\"1\" class=\"dataframe\">\n",
       "  <thead>\n",
       "    <tr style=\"text-align: right;\">\n",
       "      <th></th>\n",
       "      <th>id</th>\n",
       "      <th>f0</th>\n",
       "      <th>f1</th>\n",
       "      <th>f2</th>\n",
       "      <th>product</th>\n",
       "    </tr>\n",
       "  </thead>\n",
       "  <tbody>\n",
       "    <tr>\n",
       "      <th>0</th>\n",
       "      <td>fwXo0</td>\n",
       "      <td>-1.146987</td>\n",
       "      <td>0.963328</td>\n",
       "      <td>-0.828965</td>\n",
       "      <td>27.758673</td>\n",
       "    </tr>\n",
       "    <tr>\n",
       "      <th>1</th>\n",
       "      <td>WJtFt</td>\n",
       "      <td>0.262778</td>\n",
       "      <td>0.269839</td>\n",
       "      <td>-2.530187</td>\n",
       "      <td>56.069697</td>\n",
       "    </tr>\n",
       "    <tr>\n",
       "      <th>2</th>\n",
       "      <td>ovLUW</td>\n",
       "      <td>0.194587</td>\n",
       "      <td>0.289035</td>\n",
       "      <td>-5.586433</td>\n",
       "      <td>62.871910</td>\n",
       "    </tr>\n",
       "    <tr>\n",
       "      <th>3</th>\n",
       "      <td>q6cA6</td>\n",
       "      <td>2.236060</td>\n",
       "      <td>-0.553760</td>\n",
       "      <td>0.930038</td>\n",
       "      <td>114.572842</td>\n",
       "    </tr>\n",
       "    <tr>\n",
       "      <th>4</th>\n",
       "      <td>WPMUX</td>\n",
       "      <td>-0.515993</td>\n",
       "      <td>1.716266</td>\n",
       "      <td>5.899011</td>\n",
       "      <td>149.600746</td>\n",
       "    </tr>\n",
       "  </tbody>\n",
       "</table>\n",
       "</div>"
      ],
      "text/plain": [
       "      id        f0        f1        f2     product\n",
       "0  fwXo0 -1.146987  0.963328 -0.828965   27.758673\n",
       "1  WJtFt  0.262778  0.269839 -2.530187   56.069697\n",
       "2  ovLUW  0.194587  0.289035 -5.586433   62.871910\n",
       "3  q6cA6  2.236060 -0.553760  0.930038  114.572842\n",
       "4  WPMUX -0.515993  1.716266  5.899011  149.600746"
      ]
     },
     "metadata": {},
     "output_type": "display_data"
    },
    {
     "name": "stdout",
     "output_type": "stream",
     "text": [
      "<class 'pandas.core.frame.DataFrame'>\n",
      "RangeIndex: 100000 entries, 0 to 99999\n",
      "Data columns (total 5 columns):\n",
      " #   Column   Non-Null Count   Dtype  \n",
      "---  ------   --------------   -----  \n",
      " 0   id       100000 non-null  object \n",
      " 1   f0       100000 non-null  float64\n",
      " 2   f1       100000 non-null  float64\n",
      " 3   f2       100000 non-null  float64\n",
      " 4   product  100000 non-null  float64\n",
      "dtypes: float64(4), object(1)\n",
      "memory usage: 3.8+ MB\n"
     ]
    },
    {
     "data": {
      "text/html": [
       "<div>\n",
       "<style scoped>\n",
       "    .dataframe tbody tr th:only-of-type {\n",
       "        vertical-align: middle;\n",
       "    }\n",
       "\n",
       "    .dataframe tbody tr th {\n",
       "        vertical-align: top;\n",
       "    }\n",
       "\n",
       "    .dataframe thead th {\n",
       "        text-align: right;\n",
       "    }\n",
       "</style>\n",
       "<table border=\"1\" class=\"dataframe\">\n",
       "  <thead>\n",
       "    <tr style=\"text-align: right;\">\n",
       "      <th></th>\n",
       "      <th>f0</th>\n",
       "      <th>f1</th>\n",
       "      <th>f2</th>\n",
       "      <th>product</th>\n",
       "    </tr>\n",
       "  </thead>\n",
       "  <tbody>\n",
       "    <tr>\n",
       "      <th>count</th>\n",
       "      <td>100000.000000</td>\n",
       "      <td>100000.000000</td>\n",
       "      <td>100000.000000</td>\n",
       "      <td>100000.000000</td>\n",
       "    </tr>\n",
       "    <tr>\n",
       "      <th>mean</th>\n",
       "      <td>0.002023</td>\n",
       "      <td>-0.002081</td>\n",
       "      <td>2.495128</td>\n",
       "      <td>95.000000</td>\n",
       "    </tr>\n",
       "    <tr>\n",
       "      <th>std</th>\n",
       "      <td>1.732045</td>\n",
       "      <td>1.730417</td>\n",
       "      <td>3.473445</td>\n",
       "      <td>44.749921</td>\n",
       "    </tr>\n",
       "    <tr>\n",
       "      <th>min</th>\n",
       "      <td>-8.760004</td>\n",
       "      <td>-7.084020</td>\n",
       "      <td>-11.970335</td>\n",
       "      <td>0.000000</td>\n",
       "    </tr>\n",
       "    <tr>\n",
       "      <th>25%</th>\n",
       "      <td>-1.162288</td>\n",
       "      <td>-1.174820</td>\n",
       "      <td>0.130359</td>\n",
       "      <td>59.450441</td>\n",
       "    </tr>\n",
       "    <tr>\n",
       "      <th>50%</th>\n",
       "      <td>0.009424</td>\n",
       "      <td>-0.009482</td>\n",
       "      <td>2.484236</td>\n",
       "      <td>94.925613</td>\n",
       "    </tr>\n",
       "    <tr>\n",
       "      <th>75%</th>\n",
       "      <td>1.158535</td>\n",
       "      <td>1.163678</td>\n",
       "      <td>4.858794</td>\n",
       "      <td>130.595027</td>\n",
       "    </tr>\n",
       "    <tr>\n",
       "      <th>max</th>\n",
       "      <td>7.238262</td>\n",
       "      <td>7.844801</td>\n",
       "      <td>16.739402</td>\n",
       "      <td>190.029838</td>\n",
       "    </tr>\n",
       "  </tbody>\n",
       "</table>\n",
       "</div>"
      ],
      "text/plain": [
       "                  f0             f1             f2        product\n",
       "count  100000.000000  100000.000000  100000.000000  100000.000000\n",
       "mean        0.002023      -0.002081       2.495128      95.000000\n",
       "std         1.732045       1.730417       3.473445      44.749921\n",
       "min        -8.760004      -7.084020     -11.970335       0.000000\n",
       "25%        -1.162288      -1.174820       0.130359      59.450441\n",
       "50%         0.009424      -0.009482       2.484236      94.925613\n",
       "75%         1.158535       1.163678       4.858794     130.595027\n",
       "max         7.238262       7.844801      16.739402     190.029838"
      ]
     },
     "metadata": {},
     "output_type": "display_data"
    }
   ],
   "source": [
    "display(geo_data_2.head())\n",
    "geo_data_2.info()\n",
    "display(geo_data_2.describe())"
   ]
  },
  {
   "cell_type": "code",
   "execution_count": 22,
   "metadata": {},
   "outputs": [
    {
     "data": {
      "text/plain": [
       "'Тренировочная выборка (geo_data_2):'"
      ]
     },
     "metadata": {},
     "output_type": "display_data"
    },
    {
     "data": {
      "text/html": [
       "<div>\n",
       "<style scoped>\n",
       "    .dataframe tbody tr th:only-of-type {\n",
       "        vertical-align: middle;\n",
       "    }\n",
       "\n",
       "    .dataframe tbody tr th {\n",
       "        vertical-align: top;\n",
       "    }\n",
       "\n",
       "    .dataframe thead th {\n",
       "        text-align: right;\n",
       "    }\n",
       "</style>\n",
       "<table border=\"1\" class=\"dataframe\">\n",
       "  <thead>\n",
       "    <tr style=\"text-align: right;\">\n",
       "      <th></th>\n",
       "      <th>Количество пропусков</th>\n",
       "      <th>Процент пропусков</th>\n",
       "    </tr>\n",
       "  </thead>\n",
       "  <tbody>\n",
       "    <tr>\n",
       "      <th>id</th>\n",
       "      <td>0</td>\n",
       "      <td>0.0</td>\n",
       "    </tr>\n",
       "    <tr>\n",
       "      <th>f0</th>\n",
       "      <td>0</td>\n",
       "      <td>0.0</td>\n",
       "    </tr>\n",
       "    <tr>\n",
       "      <th>f1</th>\n",
       "      <td>0</td>\n",
       "      <td>0.0</td>\n",
       "    </tr>\n",
       "    <tr>\n",
       "      <th>f2</th>\n",
       "      <td>0</td>\n",
       "      <td>0.0</td>\n",
       "    </tr>\n",
       "    <tr>\n",
       "      <th>product</th>\n",
       "      <td>0</td>\n",
       "      <td>0.0</td>\n",
       "    </tr>\n",
       "  </tbody>\n",
       "</table>\n",
       "</div>"
      ],
      "text/plain": [
       "         Количество пропусков  Процент пропусков\n",
       "id                          0                0.0\n",
       "f0                          0                0.0\n",
       "f1                          0                0.0\n",
       "f2                          0                0.0\n",
       "product                     0                0.0"
      ]
     },
     "metadata": {},
     "output_type": "display_data"
    }
   ],
   "source": [
    "geo_data_2_counts = geo_data_2.isnull().sum()\n",
    "geo_data_2_percentages = geo_data_2_counts / len(geo_data_2) * 100\n",
    "display(\"Тренировочная выборка (geo_data_2):\")\n",
    "display(pd.concat([geo_data_2_counts, geo_data_2_percentages],\n",
    "                  axis=1, keys=['Количество пропусков', 'Процент пропусков']))"
   ]
  },
  {
   "cell_type": "code",
   "execution_count": 23,
   "metadata": {},
   "outputs": [
    {
     "data": {
      "text/plain": [
       "'Обнаружено 4 потенциальных дубликатов с различиями в количественных признаках.'"
      ]
     },
     "metadata": {},
     "output_type": "display_data"
    },
    {
     "data": {
      "text/html": [
       "<div>\n",
       "<style scoped>\n",
       "    .dataframe tbody tr th:only-of-type {\n",
       "        vertical-align: middle;\n",
       "    }\n",
       "\n",
       "    .dataframe tbody tr th {\n",
       "        vertical-align: top;\n",
       "    }\n",
       "\n",
       "    .dataframe thead th {\n",
       "        text-align: right;\n",
       "    }\n",
       "</style>\n",
       "<table border=\"1\" class=\"dataframe\">\n",
       "  <thead>\n",
       "    <tr style=\"text-align: right;\">\n",
       "      <th></th>\n",
       "      <th>id</th>\n",
       "      <th>f0</th>\n",
       "      <th>f1</th>\n",
       "      <th>f2</th>\n",
       "      <th>product</th>\n",
       "      <th>is_duplicate</th>\n",
       "    </tr>\n",
       "  </thead>\n",
       "  <tbody>\n",
       "    <tr>\n",
       "      <th>0</th>\n",
       "      <td>KUPhW</td>\n",
       "      <td>0.231846</td>\n",
       "      <td>-1.698941</td>\n",
       "      <td>4.990775</td>\n",
       "      <td>11.716299</td>\n",
       "      <td>True</td>\n",
       "    </tr>\n",
       "    <tr>\n",
       "      <th>1</th>\n",
       "      <td>KUPhW</td>\n",
       "      <td>1.211150</td>\n",
       "      <td>3.176408</td>\n",
       "      <td>5.543540</td>\n",
       "      <td>132.831802</td>\n",
       "      <td>True</td>\n",
       "    </tr>\n",
       "    <tr>\n",
       "      <th>2</th>\n",
       "      <td>VF7Jo</td>\n",
       "      <td>2.122656</td>\n",
       "      <td>-0.858275</td>\n",
       "      <td>5.746001</td>\n",
       "      <td>181.716817</td>\n",
       "      <td>True</td>\n",
       "    </tr>\n",
       "    <tr>\n",
       "      <th>3</th>\n",
       "      <td>VF7Jo</td>\n",
       "      <td>-0.883115</td>\n",
       "      <td>0.560537</td>\n",
       "      <td>0.723601</td>\n",
       "      <td>136.233420</td>\n",
       "      <td>True</td>\n",
       "    </tr>\n",
       "    <tr>\n",
       "      <th>4</th>\n",
       "      <td>Vcm5J</td>\n",
       "      <td>-1.229484</td>\n",
       "      <td>-2.439204</td>\n",
       "      <td>1.222909</td>\n",
       "      <td>137.968290</td>\n",
       "      <td>True</td>\n",
       "    </tr>\n",
       "    <tr>\n",
       "      <th>5</th>\n",
       "      <td>Vcm5J</td>\n",
       "      <td>2.587702</td>\n",
       "      <td>1.986875</td>\n",
       "      <td>2.482245</td>\n",
       "      <td>92.327572</td>\n",
       "      <td>True</td>\n",
       "    </tr>\n",
       "    <tr>\n",
       "      <th>6</th>\n",
       "      <td>xCHr8</td>\n",
       "      <td>1.633027</td>\n",
       "      <td>0.368135</td>\n",
       "      <td>-2.378367</td>\n",
       "      <td>6.120525</td>\n",
       "      <td>True</td>\n",
       "    </tr>\n",
       "    <tr>\n",
       "      <th>7</th>\n",
       "      <td>xCHr8</td>\n",
       "      <td>-0.847066</td>\n",
       "      <td>2.101796</td>\n",
       "      <td>5.597130</td>\n",
       "      <td>184.388641</td>\n",
       "      <td>True</td>\n",
       "    </tr>\n",
       "  </tbody>\n",
       "</table>\n",
       "</div>"
      ],
      "text/plain": [
       "      id        f0        f1        f2     product  is_duplicate\n",
       "0  KUPhW  0.231846 -1.698941  4.990775   11.716299          True\n",
       "1  KUPhW  1.211150  3.176408  5.543540  132.831802          True\n",
       "2  VF7Jo  2.122656 -0.858275  5.746001  181.716817          True\n",
       "3  VF7Jo -0.883115  0.560537  0.723601  136.233420          True\n",
       "4  Vcm5J -1.229484 -2.439204  1.222909  137.968290          True\n",
       "5  Vcm5J  2.587702  1.986875  2.482245   92.327572          True\n",
       "6  xCHr8  1.633027  0.368135 -2.378367    6.120525          True\n",
       "7  xCHr8 -0.847066  2.101796  5.597130  184.388641          True"
      ]
     },
     "metadata": {},
     "output_type": "display_data"
    }
   ],
   "source": [
    "# Предположим, что 'id' является идентификатором каждой записи\n",
    "geo_data_2['is_duplicate'] = geo_data_2.duplicated(subset='id', keep=False)\n",
    "\n",
    "# Проверка на дубликаты с различиями в количественных признаках\n",
    "potential_duplicates_2 = geo_data_2[geo_data_2['is_duplicate']].copy()\n",
    "grouped_2 = potential_duplicates_2.groupby('id')\n",
    "\n",
    "inconsistent_duplicates_2 = []\n",
    "\n",
    "for _, group in grouped_2:\n",
    "    if not group.drop(columns=['id']).nunique().eq(1).all():\n",
    "        inconsistent_duplicates_2.append(group)\n",
    "\n",
    "# Объединяем все группы с потенциальными дубликатами в один DataFrame\n",
    "inconsistent_duplicates_df_2 = pd.concat(inconsistent_duplicates_2)\n",
    "\n",
    "# Сбрасываем индекс для удобства просмотра\n",
    "inconsistent_duplicates_df_2.reset_index(drop=True, inplace=True)\n",
    "\n",
    "num_inconsistent_duplicates_2 = len(inconsistent_duplicates_2)\n",
    "\n",
    "if num_inconsistent_duplicates_2 > 0:\n",
    "    display(f\"Обнаружено {num_inconsistent_duplicates_2} потенциальных дубликатов с различиями в количественных признаках.\")\n",
    "    display(inconsistent_duplicates_df_2)\n",
    "else:\n",
    "    display(\"Не обнаружено потенциальных дубликатов с различиями в количественных признаках.\")"
   ]
  },
  {
   "cell_type": "code",
   "execution_count": 24,
   "metadata": {},
   "outputs": [
    {
     "data": {
      "text/html": [
       "<div>\n",
       "<style scoped>\n",
       "    .dataframe tbody tr th:only-of-type {\n",
       "        vertical-align: middle;\n",
       "    }\n",
       "\n",
       "    .dataframe tbody tr th {\n",
       "        vertical-align: top;\n",
       "    }\n",
       "\n",
       "    .dataframe thead th {\n",
       "        text-align: right;\n",
       "    }\n",
       "</style>\n",
       "<table border=\"1\" class=\"dataframe\">\n",
       "  <thead>\n",
       "    <tr style=\"text-align: right;\">\n",
       "      <th></th>\n",
       "      <th>id</th>\n",
       "      <th>f0</th>\n",
       "      <th>f1</th>\n",
       "      <th>f2</th>\n",
       "      <th>product</th>\n",
       "      <th>is_duplicate</th>\n",
       "    </tr>\n",
       "  </thead>\n",
       "  <tbody>\n",
       "    <tr>\n",
       "      <th>0</th>\n",
       "      <td>KUPhW</td>\n",
       "      <td>0.231846</td>\n",
       "      <td>-1.698941</td>\n",
       "      <td>4.990775</td>\n",
       "      <td>11.716299</td>\n",
       "      <td>True</td>\n",
       "    </tr>\n",
       "    <tr>\n",
       "      <th>1</th>\n",
       "      <td>VF7Jo</td>\n",
       "      <td>2.122656</td>\n",
       "      <td>-0.858275</td>\n",
       "      <td>5.746001</td>\n",
       "      <td>181.716817</td>\n",
       "      <td>True</td>\n",
       "    </tr>\n",
       "    <tr>\n",
       "      <th>2</th>\n",
       "      <td>Vcm5J</td>\n",
       "      <td>-1.229484</td>\n",
       "      <td>-2.439204</td>\n",
       "      <td>1.222909</td>\n",
       "      <td>137.968290</td>\n",
       "      <td>True</td>\n",
       "    </tr>\n",
       "    <tr>\n",
       "      <th>3</th>\n",
       "      <td>xCHr8</td>\n",
       "      <td>1.633027</td>\n",
       "      <td>0.368135</td>\n",
       "      <td>-2.378367</td>\n",
       "      <td>6.120525</td>\n",
       "      <td>True</td>\n",
       "    </tr>\n",
       "  </tbody>\n",
       "</table>\n",
       "</div>"
      ],
      "text/plain": [
       "      id        f0        f1        f2     product  is_duplicate\n",
       "0  KUPhW  0.231846 -1.698941  4.990775   11.716299          True\n",
       "1  VF7Jo  2.122656 -0.858275  5.746001  181.716817          True\n",
       "2  Vcm5J -1.229484 -2.439204  1.222909  137.968290          True\n",
       "3  xCHr8  1.633027  0.368135 -2.378367    6.120525          True"
      ]
     },
     "metadata": {},
     "output_type": "display_data"
    },
    {
     "data": {
      "text/plain": [
       "'Длина geo_data_2 после удаления строк:'"
      ]
     },
     "metadata": {},
     "output_type": "display_data"
    },
    {
     "data": {
      "text/plain": [
       "99996"
      ]
     },
     "metadata": {},
     "output_type": "display_data"
    }
   ],
   "source": [
    "# Удаляем дубликаты по столбцу 'id' из каждой группы в списке inconsistent_duplicates для geo_data_2\n",
    "cleaned_groups_2 = [group.drop_duplicates(subset='id', keep='first') for group in inconsistent_duplicates_2]\n",
    "\n",
    "# Объединяем очищенные группы в один DataFrame\n",
    "inconsistent_duplicates_df_2 = pd.concat(cleaned_groups_2)\n",
    "\n",
    "# Сбрасываем индекс для удобства просмотра\n",
    "inconsistent_duplicates_df_2.reset_index(drop=True, inplace=True)\n",
    "\n",
    "# Выводим результат\n",
    "display(inconsistent_duplicates_df_2)\n",
    "\n",
    "# Получаем индексы строк для удаления из geo_data_2\n",
    "indexes_to_drop_2 = []\n",
    "for group in cleaned_groups_2:\n",
    "    indexes_to_drop_2.extend(group.index)\n",
    "\n",
    "# Удаляем строки из geo_data_2\n",
    "geo_data_2.drop(index=indexes_to_drop_2, inplace=True)\n",
    "# Удаление столбца 'is_duplicate' из DataFrame geo_data_2\n",
    "geo_data_2.drop('is_duplicate', axis=1, inplace=True)\n",
    "\n",
    "# Проверяем длину geo_data_2 после удаления строк\n",
    "length_geo_data_2 = len(geo_data_2)\n",
    "display(\"Длина geo_data_2 после удаления строк:\", length_geo_data_2)"
   ]
  },
  {
   "cell_type": "code",
   "execution_count": 25,
   "metadata": {},
   "outputs": [
    {
     "data": {
      "text/plain": [
       "'Не обнаружено неявных дубликатов в данных.'"
      ]
     },
     "metadata": {},
     "output_type": "display_data"
    }
   ],
   "source": [
    "duplicates = geo_data_2.duplicated()\n",
    "num_duplicates = duplicates.sum()\n",
    "if num_duplicates > 0:\n",
    "    display(\"Обнаружено неявных дубликатов в данных.\")\n",
    "else:\n",
    "    display(\"Не обнаружено неявных дубликатов в данных.\")\n"
   ]
  },
  {
   "cell_type": "code",
   "execution_count": 26,
   "metadata": {},
   "outputs": [
    {
     "data": {
      "text/plain": [
       "'Количество неявных дубликатов: 0'"
      ]
     },
     "metadata": {},
     "output_type": "display_data"
    },
    {
     "data": {
      "text/plain": [
       "'Процент неявных дубликатов: 0.0000%'"
      ]
     },
     "metadata": {},
     "output_type": "display_data"
    }
   ],
   "source": [
    "duplicates = geo_data_2.duplicated(subset=['id','f0', 'f1', 'f2', 'product'])\n",
    "num_duplicates = duplicates.sum()\n",
    "display(f\"Количество неявных дубликатов: {num_duplicates}\")\n",
    "display(f\"Процент неявных дубликатов: {num_duplicates / len(geo_data_2) * 100:.4f}%\")"
   ]
  },
  {
   "cell_type": "code",
   "execution_count": 27,
   "metadata": {},
   "outputs": [
    {
     "data": {
      "image/png": "[encoded data removed]",
      "text/plain": [
       "<Figure size 720x576 with 4 Axes>"
      ]
     },
     "metadata": {
      "needs_background": "light"
     },
     "output_type": "display_data"
    }
   ],
   "source": [
    "fig, axs = plt.subplots(2, 2, figsize=(10, 8))\n",
    "axs = axs.flatten()\n",
    "\n",
    "for i, feature in enumerate(['f0', 'f1', 'f2', 'product']):\n",
    "    axs[i].hist(geo_data_2[feature], bins=50)\n",
    "    axs[i].set_title(feature)\n",
    "    axs[i].set_xlabel('Значение')\n",
    "    axs[i].set_ylabel('Частота')\n",
    "\n",
    "plt.tight_layout()\n",
    "plt.show()\n"
   ]
  },
  {
   "cell_type": "code",
   "execution_count": 28,
   "metadata": {},
   "outputs": [
    {
     "data": {
      "image/png": "[encoded data removed]",
      "text/plain": [
       "<Figure size 720x576 with 2 Axes>"
      ]
     },
     "metadata": {
      "needs_background": "light"
     },
     "output_type": "display_data"
    }
   ],
   "source": [
    "# Предположим, что geo_data_2 - это ваш DataFrame\n",
    "# Удалим столбец 'id'\n",
    "geo_data_2_no_id = geo_data_2.drop(columns=['id'])\n",
    "\n",
    "# Рассчитаем PhiK матрицу\n",
    "phik_matrix = geo_data_2_no_id.phik_matrix(interval_cols=['f0', 'f1', 'f2', 'product'])\n",
    "\n",
    "# Отобразим матрицу\n",
    "plot_correlation_matrix(phik_matrix.values, x_labels=phik_matrix.columns, y_labels=phik_matrix.index, \n",
    "                        title=\"PhiK Correlation Matrix\", fontsize_factor=1.5, figsize=(10, 8))\n",
    "\n",
    "plt.tight_layout()\n",
    "plt.show()"
   ]
  },
  {
   "cell_type": "markdown",
   "metadata": {},
   "source": [
    "Изучение данных geo_data_2 - Вывод:\n",
    "\n",
    "- В данных отсутствуют пропущенные значения.\n",
    "- Удалите все строки, в которых значения id повторяются.\n",
    "\n",
    "- Признаки f0, f1, f2 имеют приблизительно нормальное распределение, в то время как целевая переменная product (объем запасов нефти) имеет правостороннее смещенное распределение.\n",
    "\n",
    "- Выбросов: 0.73% для f0, 0.68% для f1, 0.58% для f2 и отсутствие выбросов для product.\n",
    "\n",
    "- Исходя из этого, данные региона 2 хорошо подготовлены для дальнейшего моделирования и прогнозирования объемов запасов нефти в скважинах.\n",
    "\n",
    "- На основе визуального анализа распределений признаков и матрицы корреляций можно сделать вывод, что признаки f0, f1 и f2 имеют приблизительно нормальное распределение, в то время как признак product (объем запасов нефти) имеет правостороннее смещенное распределение. Также наблюдается умеренная положительная корреляция между признаками f0, f1, f2 и целевой переменной product, что указывает на их потенциальную предсказательную ценность для задачи прогнозирования объемов запасов нефти."
   ]
  },
  {
   "cell_type": "markdown",
   "metadata": {},
   "source": [
    "Вывод по разделу:\n",
    "- Удалите все строки, в которых значения id повторяются.\n",
    "- Исходя из анализа данных по трем геологическим регионам, все три набора данных хорошо подготовлены и не содержат пропущенных значений или полных дубликатов. \n",
    "- Несмотря на наличие небольшого процента выбросов для некоторых признаков в регионах 1 и 2, эти данные представляют собой потенциально надежную основу для построения моделей прогнозирования объемов запасов нефти благодаря приблизительно нормальному распределению основных признаков и их умеренной корреляции с целевой переменной."
   ]
  },
  {
   "cell_type": "markdown",
   "metadata": {},
   "source": [
    "## Шаг 2 Обучение и проверка модели"
   ]
  },
  {
   "cell_type": "code",
   "execution_count": 29,
   "metadata": {},
   "outputs": [
    {
     "data": {
      "text/plain": [
       "'Регион 0: RMSE = 37.80659070512707'"
      ]
     },
     "metadata": {},
     "output_type": "display_data"
    },
    {
     "data": {
      "text/plain": [
       "'Регион 1: RMSE = 0.8907546230101845'"
      ]
     },
     "metadata": {},
     "output_type": "display_data"
    },
    {
     "data": {
      "text/plain": [
       "'Регион 2: RMSE = 40.13849714263183'"
      ]
     },
     "metadata": {},
     "output_type": "display_data"
    }
   ],
   "source": [
    "RANDOM_STATE = 42\n",
    "TEST_SIZE = 0.25\n",
    "\n",
    "# Разделение данных на признаки и целевую переменную\n",
    "X0 = geo_data_0[['f0', 'f1', 'f2']]\n",
    "y0 = geo_data_0['product']\n",
    "X1 = geo_data_1[['f0', 'f1', 'f2']]\n",
    "y1 = geo_data_1['product']\n",
    "X2 = geo_data_2[['f0', 'f1', 'f2']]\n",
    "y2 = geo_data_2['product']\n",
    "\n",
    "# Масштабирование признаков\n",
    "scaler = StandardScaler()\n",
    "X0_scaled = scaler.fit_transform(X0)\n",
    "X1_scaled = scaler.fit_transform(X1)\n",
    "X2_scaled = scaler.fit_transform(X2)\n",
    "\n",
    "# Разделение данных на обучающую и валидационную выборки\n",
    "X0_train, X0_valid, y0_train, y0_valid = train_test_split(X0_scaled, y0, test_size=TEST_SIZE,\n",
    "                                                          random_state=RANDOM_STATE)\n",
    "X1_train, X1_valid, y1_train, y1_valid = train_test_split(X1_scaled, y1, test_size=TEST_SIZE,\n",
    "                                                          random_state=RANDOM_STATE)\n",
    "X2_train, X2_valid, y2_train, y2_valid = train_test_split(X2_scaled, y2, test_size=TEST_SIZE,\n",
    "                                                          random_state=RANDOM_STATE)\n",
    "\n",
    "# Обучение модели линейной регрессии для каждого региона\n",
    "model0 = LinearRegression().fit(X0_train, y0_train)\n",
    "model1 = LinearRegression().fit(X1_train, y1_train)\n",
    "model2 = LinearRegression().fit(X2_train, y2_train)\n",
    "\n",
    "# Предсказания на валидационных выборках\n",
    "y0_pred = model0.predict(X0_valid)\n",
    "y1_pred = model1.predict(X1_valid)\n",
    "y2_pred = model2.predict(X2_valid)\n",
    "\n",
    "# Расчет RMSE для каждого региона\n",
    "rmse0 = np.sqrt(mean_squared_error(y0_valid, y0_pred))\n",
    "rmse1 = np.sqrt(mean_squared_error(y1_valid, y1_pred))\n",
    "rmse2 = np.sqrt(mean_squared_error(y2_valid, y2_pred))\n",
    "\n",
    "display(f'Регион 0: RMSE = {rmse0}')\n",
    "display(f'Регион 1: RMSE = {rmse1}')\n",
    "display(f'Регион 2: RMSE = {rmse2}')"
   ]
  },
  {
   "cell_type": "markdown",
   "metadata": {},
   "source": [
    "Выводы:\n",
    "\n",
    "- Модель показывает выдающуюся точность в регионе 1 с RMSE всего 0.89 тыс. баррелей, что указывает на высокую предсказательную способность модели для данного региона.\n",
    "- В регионах 0 и 2, где RMSE составляет 37.82 и 40.13 тыс. баррелей соответственно, модель демонстрирует существенно меньшую точность. Это может свидетельствовать о сложности структур данных в этих регионах или об отсутствии явных линейных зависимостей между признаками и целевой переменной.\n",
    "- Несмотря на высокую точность прогнозов в регионе 1, общие результаты указывают на то, что линейная регрессия может не являться оптимальным выбором для всех регионов. Возможно, использование более сложных моделей или дополнительный анализ признаков позволит улучшить результаты прогнозирования в регионах 0 и 2.\n",
    "\n",
    "- Таким образом, при выборе региона для разработки необходимо учитывать не только средние запасы сырья, но и точность модельных прогнозов, что может существенно повлиять на экономическую эффективность решений."
   ]
  },
  {
   "cell_type": "markdown",
   "metadata": {},
   "source": [
    "## Подготовка к расчёту прибыли"
   ]
  },
  {
   "cell_type": "code",
   "execution_count": 30,
   "metadata": {},
   "outputs": [
    {
     "data": {
      "text/plain": [
       "'Достаточный объём сырья для безубыточной разработки новой скважины: 111.11 тыс. баррелей'"
      ]
     },
     "metadata": {},
     "output_type": "display_data"
    },
    {
     "data": {
      "text/plain": [
       "'Средний запас в регионе 0: 92.50 тыс. баррелей'"
      ]
     },
     "metadata": {},
     "output_type": "display_data"
    },
    {
     "data": {
      "text/plain": [
       "'Средний запас в регионе 1: 68.83 тыс. баррелей'"
      ]
     },
     "metadata": {},
     "output_type": "display_data"
    },
    {
     "data": {
      "text/plain": [
       "'Средний запас в регионе 2: 95.00 тыс. баррелей'"
      ]
     },
     "metadata": {},
     "output_type": "display_data"
    },
    {
     "data": {
      "text/plain": [
       "'Достаточный объём сырья (тыс. баррелей): 111.11'"
      ]
     },
     "metadata": {},
     "output_type": "display_data"
    }
   ],
   "source": [
    "# Ключевые значения для расчетов\n",
    "BUDGET = 10e9  # Бюджет на разработку скважин в регионе\n",
    "PRODUCT_UNIT_PROFIT = 450e3  # Доход с каждой единицы продукта (тыс. баррелей)\n",
    "NUM_WELLS = 200  # Количество лучших скважин для разработки\n",
    "\n",
    "\n",
    "# Достаточный объём сырья для безубыточной разработки новой скважины\n",
    "sufficient_product_volume = BUDGET / (NUM_WELLS * PRODUCT_UNIT_PROFIT)\n",
    "display(f'Достаточный объём сырья для безубыточной разработки новой скважины: {sufficient_product_volume:.2f} тыс. баррелей')\n",
    "\n",
    "# Средний запас в каждом регионе\n",
    "mean_product_0 = geo_data_0['product'].mean()\n",
    "mean_product_1 = geo_data_1['product'].mean()\n",
    "mean_product_2 = geo_data_2['product'].mean()\n",
    "\n",
    "display(f'Средний запас в регионе 0: {mean_product_0:.2f} тыс. баррелей')\n",
    "display(f'Средний запас в регионе 1: {mean_product_1:.2f} тыс. баррелей')\n",
    "display(f'Средний запас в регионе 2: {mean_product_2:.2f} тыс. баррелей')\n",
    "\n",
    "# Сравнение достаточного объёма сырья со средними запасами\n",
    "display(f'Достаточный объём сырья (тыс. баррелей): {sufficient_product_volume:.2f}')"
   ]
  },
  {
   "cell_type": "code",
   "execution_count": 31,
   "metadata": {},
   "outputs": [
    {
     "data": {
      "image/png": "[encoded data removed]",
      "text/plain": [
       "<Figure size 720x432 with 1 Axes>"
      ]
     },
     "metadata": {
      "needs_background": "light"
     },
     "output_type": "display_data"
    }
   ],
   "source": [
    "# Значения для графика\n",
    "regions = ['Регион 0', 'Регион 1', 'Регион 2', 'Безубыточный уровень']\n",
    "mean_products = [mean_product_0, mean_product_1, mean_product_2]\n",
    "colors = ['blue', 'green', 'red', 'grey']\n",
    "\n",
    "# Так как безубыточный уровень одинаков для всех регионов, добавляем его в список средних запасов\n",
    "mean_products.append(sufficient_product_volume)  \n",
    "\n",
    "plt.figure(figsize=(10, 6))\n",
    "barlist = plt.bar(regions, mean_products, color=colors)\n",
    "\n",
    "plt.title('Сравнение средних запасов сырья с достаточным объёмом для безубыточной разработки')\n",
    "plt.ylabel('Тыс. баррелей')\n",
    "plt.xlabel('Категория')\n",
    "\n",
    "# Подписи данных\n",
    "for i, bar in enumerate(barlist):\n",
    "    height = bar.get_height()\n",
    "    plt.text(bar.get_x() + bar.get_width()/2.0, height, f'{mean_products[i]:.2f}', ha='center', va='bottom')\n",
    "\n",
    "plt.tight_layout()\n",
    "plt.show()"
   ]
  },
  {
   "cell_type": "markdown",
   "metadata": {},
   "source": [
    "Вывод:\n",
    "- При подготовке к расчёту прибыли были определены ключевые значения: бюджет на разработку составляет 10 млрд рублей, доход с каждой единицы продукта (тыс. баррелей) — 450 тыс. рублей, количество лучших скважин для разработки 200. \n",
    "- Для безубыточной разработки новой скважины необходим объём сырья в 111.11 тыс. баррелей. Сравнение этого показателя со средними запасами в регионах показывает, что все три региона имеют средние запасы ниже необходимого для безубыточной разработки уровня, что ставит под сомнение их экономическую привлекательность без дополнительного анализа потенциальной прибыльности лучших скважин.\n",
    "        "
   ]
  },
  {
   "cell_type": "markdown",
   "metadata": {},
   "source": [
    "## Расчёт прибыли и рисков "
   ]
  },
  {
   "cell_type": "code",
   "execution_count": 39,
   "metadata": {},
   "outputs": [
    {
     "data": {
      "text/plain": [
       "'Прибыль региона 0: 3594247240.81 рублей'"
      ]
     },
     "metadata": {},
     "output_type": "display_data"
    },
    {
     "data": {
      "text/plain": [
       "'Прибыль региона 1: 2415086696.68 рублей'"
      ]
     },
     "metadata": {},
     "output_type": "display_data"
    },
    {
     "data": {
      "text/plain": [
       "'Прибыль региона 2: 2427999783.94 рублей'"
      ]
     },
     "metadata": {},
     "output_type": "display_data"
    }
   ],
   "source": [
    "# Функция для расчета прибыли по выбранным скважинам и предсказаниям модели\n",
    "def calculate_profit(predictions, true_values):\n",
    "    selected_indices = predictions.argsort()[-NUM_WELLS:]\n",
    "    selected_true_values = true_values[selected_indices]\n",
    "    total_product = selected_true_values.sum()\n",
    "    profit = total_product * PRODUCT_UNIT_PROFIT - BUDGET\n",
    "    return profit\n",
    "\n",
    "# Расчет прибыли для каждого региона\n",
    "profit0 = calculate_profit(y0_pred, y0_valid.values)\n",
    "profit1 = calculate_profit(y1_pred, y1_valid.values)\n",
    "profit2 = calculate_profit(y2_pred, y2_valid.values)\n",
    "\n",
    "display(f'Прибыль региона 0: {profit0:.2f} рублей')\n",
    "display(f'Прибыль региона 1: {profit1:.2f} рублей')\n",
    "display(f'Прибыль региона 2: {profit2:.2f} рублей')\n"
   ]
  },
  {
   "cell_type": "code",
   "execution_count": 40,
   "metadata": {},
   "outputs": [
    {
     "data": {
      "image/png": "[encoded data removed]",
      "text/plain": [
       "<Figure size 576x432 with 1 Axes>"
      ]
     },
     "metadata": {
      "needs_background": "light"
     },
     "output_type": "display_data"
    }
   ],
   "source": [
    "# Прибыли по регионам\n",
    "profits = [profit0, profit1, profit2]\n",
    "regions = ['Регион 0', 'Регион 1', 'Регион 2']\n",
    "colors = ['blue', 'green', 'red']\n",
    "\n",
    "plt.figure(figsize=(8, 6))\n",
    "plt.bar(regions, profits, color=colors)\n",
    "plt.title('Прибыль по регионам')\n",
    "plt.ylabel('Прибыль (рубли)')\n",
    "plt.xlabel('Регион')\n",
    "plt.tight_layout() # Это убедится что все подписи полностью видны\n",
    "plt.show()"
   ]
  },
  {
   "cell_type": "markdown",
   "metadata": {},
   "source": [
    "Вывод: \n",
    "- В результате расчёта прибыли по трем регионам на основе выборки лучших скважин согласно предсказаниям модели были получены следующие значения: регион 0 демонстрирует наибольшую потенциальную прибыль в размере 3,59 млрд рублей, за ним следует регион 2 с прибылью 2,43 млрд рублей, и регион 1 замыкает тройку с прибылью 2,42 млрд рублей. \n",
    "- Эти данные позволяют сделать вывод о том, что, несмотря на различия в средних запасах сырья между регионами, выбор оптимальных скважин на основе модельных предсказаний может обеспечить прибыльное развитие проекта в каждом из рассмотренных регионов."
   ]
  },
  {
   "cell_type": "markdown",
   "metadata": {},
   "source": [
    "## Чек-лист готовности проекта"
   ]
  },
  {
   "cell_type": "code",
   "execution_count": 41,
   "metadata": {},
   "outputs": [
    {
     "data": {
      "text/plain": [
       "'Регион 0: Средняя прибыль = 393134327.81 рублей'"
      ]
     },
     "metadata": {},
     "output_type": "display_data"
    },
    {
     "data": {
      "text/plain": [
       "'Доверительный интервал = от -97768866.49 до 928918269.72 рублей, Риск убытков = 5.70%'"
      ]
     },
     "metadata": {},
     "output_type": "display_data"
    },
    {
     "data": {
      "text/plain": [
       "'Регион 1: Средняя прибыль = 464885443.67 рублей'"
      ]
     },
     "metadata": {},
     "output_type": "display_data"
    },
    {
     "data": {
      "text/plain": [
       "'Доверительный интервал = от 60236778.54 до 852992311.98 рублей, Риск убытков = 1.10%'"
      ]
     },
     "metadata": {},
     "output_type": "display_data"
    },
    {
     "data": {
      "text/plain": [
       "'Регион 2: Средняя прибыль = 338920158.72 рублей'"
      ]
     },
     "metadata": {},
     "output_type": "display_data"
    },
    {
     "data": {
      "text/plain": [
       "'Доверительный интервал = от -157201249.43 до 812827504.76 рублей, Риск убытков = 9.60%'"
      ]
     },
     "metadata": {},
     "output_type": "display_data"
    },
    {
     "data": {
      "text/plain": [
       "'Регион 1 подходит для разработки с средней прибылью 464885443.67 рублей и риском убытков 1.10%'"
      ]
     },
     "metadata": {},
     "output_type": "display_data"
    },
    {
     "data": {
      "text/plain": [
       "'Наилучший регион для разработки: Регион 1'"
      ]
     },
     "metadata": {},
     "output_type": "display_data"
    },
    {
     "data": {
      "image/png": "[encoded data removed]",
      "text/plain": [
       "<Figure size 720x432 with 1 Axes>"
      ]
     },
     "metadata": {
      "needs_background": "light"
     },
     "output_type": "display_data"
    }
   ],
   "source": [
    "# Функция для бутстрап-анализа\n",
    "def bootstrap_profit(predictions, true_values, n_samples=1000, sample_size=500, random_state=None):\n",
    "    np.random.seed(random_state)\n",
    "    values = []\n",
    "    lost = 0\n",
    "    for _ in range(n_samples):\n",
    "        sample_indices = np.random.choice(range(len(predictions)), size=sample_size, replace=True)\n",
    "        sample_predictions = predictions[sample_indices]\n",
    "        sample_true_values = true_values[sample_indices]\n",
    "        profit = calculate_profit(sample_predictions, sample_true_values)\n",
    "        if profit < 0:\n",
    "            lost += 1\n",
    "        values.append(profit)\n",
    "    \n",
    "    values = np.array(values)\n",
    "    lower = np.percentile(values, 2.5)\n",
    "    upper = np.percentile(values, 97.5)\n",
    "    average = values.mean()\n",
    "    risk = lost / n_samples\n",
    "    return average, lower, upper, risk\n",
    "\n",
    "# Расчет рисков и прибыли для каждого региона\n",
    "RANDOM_STATE = 42\n",
    "mean_profit0, lower_bound0, upper_bound0, risk0 = bootstrap_profit(y0_pred, y0_valid.values,\n",
    "                                                                   random_state=RANDOM_STATE)\n",
    "mean_profit1, lower_bound1, upper_bound1, risk1 = bootstrap_profit(y1_pred, y1_valid.values,\n",
    "                                                                   random_state=RANDOM_STATE)\n",
    "mean_profit2, lower_bound2, upper_bound2, risk2 = bootstrap_profit(y2_pred, y2_valid.values,\n",
    "                                                                   random_state=RANDOM_STATE)\n",
    "\n",
    "# Для Региона 0\n",
    "display(f'Регион 0: Средняя прибыль = {mean_profit0:.2f} рублей')\n",
    "display(f'Доверительный интервал = от {lower_bound0:.2f} до {upper_bound0:.2f} рублей, Риск убытков = {risk0:.2%}')\n",
    "\n",
    "# Для Региона 1\n",
    "display(f'Регион 1: Средняя прибыль = {mean_profit1:.2f} рублей')\n",
    "display(f'Доверительный интервал = от {lower_bound1:.2f} до {upper_bound1:.2f} рублей, Риск убытков = {risk1:.2%}')\n",
    "\n",
    "# Для Региона 2\n",
    "display(f'Регион 2: Средняя прибыль = {mean_profit2:.2f} рублей')\n",
    "display(f'Доверительный интервал = от {lower_bound2:.2f} до {upper_bound2:.2f} рублей, Риск убытков = {risk2:.2%}')\n",
    "\n",
    "# Выводы\n",
    "regions = [0, 1, 2]\n",
    "mean_profits = [mean_profit0, mean_profit1, mean_profit2]\n",
    "risks = [risk0, risk1, risk2]\n",
    "\n",
    "for i, (mean_profit, risk) in enumerate(zip(mean_profits, risks)):\n",
    "    if risk < 0.025:\n",
    "        display(f'Регион {i} подходит для разработки с средней прибылью {mean_profit:.2f} рублей и риском убытков {risk:.2%}')\n",
    "\n",
    "best_region = regions[np.argmax(mean_profits)]\n",
    "display(f'Наилучший регион для разработки: Регион {best_region}')\n",
    "\n",
    "# Функция для генерации бутстрапированных выборок\n",
    "def bootstrap_profit_samples(predictions, true_values, n_samples=1000, sample_size=500, random_state=None):\n",
    "    np.random.seed(random_state)\n",
    "    samples = []\n",
    "    for _ in range(n_samples):\n",
    "        sample_indices = np.random.choice(range(len(predictions)), size=sample_size, replace=True)\n",
    "        sample_predictions = predictions[sample_indices]\n",
    "        sample_true_values = true_values[sample_indices]\n",
    "        profit = calculate_profit(sample_predictions, sample_true_values)\n",
    "        samples.append(profit)\n",
    "    return samples\n",
    "\n",
    "# Генерация бутстрапированных выборок для визуализации\n",
    "profit_samples0 = bootstrap_profit_samples(y0_pred, y0_valid.values, random_state=RANDOM_STATE)\n",
    "profit_samples1 = bootstrap_profit_samples(y1_pred, y1_valid.values, random_state=RANDOM_STATE)\n",
    "profit_samples2 = bootstrap_profit_samples(y2_pred, y2_valid.values, random_state=RANDOM_STATE)\n",
    "\n",
    "# Визуализация боксплотов\n",
    "profit_samples = [profit_samples0, profit_samples1, profit_samples2]\n",
    "regions = ['Регион 0', 'Регион 1', 'Регион 2']\n",
    "\n",
    "plt.figure(figsize=(10, 6))\n",
    "sns.boxplot(data=profit_samples)\n",
    "plt.xticks(ticks=range(len(regions)), labels=regions)\n",
    "\n",
    "plt.title('Боксплоты бутстрапированных прибылей по регионам')\n",
    "plt.ylabel('Прибыль (руб.)')\n",
    "plt.xlabel('Регион')\n",
    "\n",
    "plt.tight_layout()\n",
    "plt.show()"
   ]
  },
  {
   "cell_type": "markdown",
   "metadata": {},
   "source": [
    "Выводы:\n",
    "\n",
    "На основе анализа оценки рисков и прибыли с использованием техники Bootstrap для трех геологических регионов были получены следующие результаты:\n",
    "\n",
    "- Регион 1 демонстрирует наибольшую среднюю прибыль в размере 464,9 млн рублей и имеет наименьший риск убытков на уровне 1,1%, что делает его наиболее привлекательным для разработки согласно данному анализу.\n",
    "\n",
    "- Регион 0 показывает среднюю прибыль в 393,1 млн рублей, но имеет более высокий риск убытков в 5,7% по сравнению с Регионом 1.\n",
    "\n",
    "- Регион 2 имеет наименьшую среднюю прибыль в 338,9 млн рублей и наибольший риск убытков в 9,6%, что делает его наименее привлекательным для разработки среди рассматриваемых регионов.\n",
    "\n",
    "Доверительные интервалы для средней прибыли достаточно широкие для всех регионов, что указывает на высокую неопределенность в оценке ожидаемой прибыли.\n",
    "\n",
    "Таким образом, данный анализ позволяет сделать вывод о том, что инвестирование в разработку нефтяных скважин в Регионе 1 является наиболее предпочтительным вариантом, учитывая более высокий уровень средней прибыли и наименьший риск получения убытков. Регион 0 также может представлять интерес с точки зрения инвестиций, но с более высоким риском убытков. Регион 2, несмотря на относительно высокую ожидаемую прибыль, имеет наибольший риск убытков, что делает его наименее привлекательным для разработки."
   ]
  },
  {
   "cell_type": "markdown",
   "metadata": {},
   "source": [
    " Суммарные выводы по проекту:\n",
    "\n",
    "- Исходя из анализа данных по трем геологическим регионам, все три набора данных хорошо подготовлены, эти данные представляют собой потенциально надежную основу для построения моделей прогнозирования объемов запасов нефти благодаря приблизительно нормальному распределению основных признаков и их умеренной корреляции с целевой переменной.\n",
    "\n",
    "- Регион 1 показал выдающуюся точность модели линейной регрессии (RMSE = 0.89), в то время как регионы 0 и 2 характеризовались существенно более низкой точностью предсказаний (RMSE 37.82 и 40.13 соответственно). Это говорит о целесообразности использования более сложных моделей или дополнительного анализа признаков для улучшения прогнозов в регионах 0 и 2.\n",
    "\n",
    "- Анализ экономической составляющей проекта показал, что для безубыточной разработки новой скважины необходим объём сырья в 111.11 тыс. баррелей. Средние запасы во всех трех регионах оказались ниже этого порога, что вызывает сомнения в их экономической привлекательности без дополнительного анализа потенциальной прибыльности лучших скважин.\n",
    "\n",
    "- Расчет прибыли по трем регионам на основе выборки 200 лучших скважин согласно предсказаниям модели показал, что регион 0 имеет наибольшую потенциальную прибыль (3.25 млрд руб.), затем следуют регион 1 (2.42 млрд руб.) и регион 2 (2.39 млрд руб.). Таким образом, выбор оптимальных скважин на основе модельных предсказаний может обеспечить прибыльность во всех рассмотренных регионах.\n",
    "\n",
    "- Анализ рисков и прибыли с помощью техники Bootstrap показал, что регион 1 обеспечивает наименьший риск убытков (1.1%) и наибольшую среднюю прибыль (464.9 млн руб.). Регион 0 имеет среднюю прибыль 393.1 млн руб. при риске убытков 5.7%. Регион 2 характеризуется наименьшей средней прибылью 338.9 млн руб. и наибольшим риском убытков 9.6%.\n",
    "\n",
    "Вывод в целом:\n",
    "\n",
    "    - Результаты анализа указывают на регион 1 как на наиболее перспективный для разработки с учетом высокой точности прогнозов, низких рисков и хорошей потенциальной прибыльности. Однако для принятия окончательного инвестиционного решения рекомендуется провести дополнительные исследования, направленные на повышение качества прогнозирования в регионах 0 и 2, а также детальный анализ геологических и инфраструктурных рисков."
   ]
  }
 ],
 "metadata": {
  "ExecuteTimeLog": [
   {
    "duration": 324,
    "start_time": "2024-06-05T14:51:44.853Z"
   },
   {
    "duration": 1854,
    "start_time": "2024-06-05T14:51:54.962Z"
   },
   {
    "duration": 7,
    "start_time": "2024-06-05T14:52:04.168Z"
   },
   {
    "duration": 12,
    "start_time": "2024-06-05T14:53:07.088Z"
   },
   {
    "duration": 12,
    "start_time": "2024-06-05T14:53:22.714Z"
   },
   {
    "duration": 11,
    "start_time": "2024-06-05T14:53:22.913Z"
   },
   {
    "duration": 47,
    "start_time": "2024-06-05T14:54:58.836Z"
   },
   {
    "duration": 41,
    "start_time": "2024-06-05T14:55:20.964Z"
   },
   {
    "duration": 40,
    "start_time": "2024-06-05T14:55:21.170Z"
   },
   {
    "duration": 57,
    "start_time": "2024-06-05T15:03:21.852Z"
   },
   {
    "duration": 10,
    "start_time": "2024-06-05T15:03:36.697Z"
   },
   {
    "duration": 13,
    "start_time": "2024-06-05T15:04:14.048Z"
   },
   {
    "duration": 12,
    "start_time": "2024-06-05T15:04:47.146Z"
   },
   {
    "duration": 12,
    "start_time": "2024-06-05T15:04:57.387Z"
   },
   {
    "duration": 11,
    "start_time": "2024-06-05T15:05:29.844Z"
   },
   {
    "duration": 13,
    "start_time": "2024-06-05T15:11:33.000Z"
   },
   {
    "duration": 39,
    "start_time": "2024-06-05T15:12:02.434Z"
   },
   {
    "duration": 20,
    "start_time": "2024-06-05T15:12:27.337Z"
   },
   {
    "duration": 39,
    "start_time": "2024-06-05T15:13:05.339Z"
   },
   {
    "duration": 25,
    "start_time": "2024-06-05T15:18:19.732Z"
   },
   {
    "duration": 37,
    "start_time": "2024-06-05T15:18:47.531Z"
   },
   {
    "duration": 7,
    "start_time": "2024-06-05T15:22:39.084Z"
   },
   {
    "duration": 9421,
    "start_time": "2024-06-05T15:23:17.989Z"
   },
   {
    "duration": 1754,
    "start_time": "2024-06-05T15:23:27.412Z"
   },
   {
    "duration": 295,
    "start_time": "2024-06-05T15:23:29.167Z"
   },
   {
    "duration": 8,
    "start_time": "2024-06-05T15:23:29.463Z"
   },
   {
    "duration": 49,
    "start_time": "2024-06-05T15:23:29.473Z"
   },
   {
    "duration": 13,
    "start_time": "2024-06-05T15:23:29.524Z"
   },
   {
    "duration": 52,
    "start_time": "2024-06-05T15:23:29.538Z"
   },
   {
    "duration": 35,
    "start_time": "2024-06-05T15:23:29.592Z"
   },
   {
    "duration": 40,
    "start_time": "2024-06-05T15:23:29.628Z"
   },
   {
    "duration": 734,
    "start_time": "2024-06-05T15:23:29.670Z"
   },
   {
    "duration": 49,
    "start_time": "2024-06-05T15:23:30.406Z"
   },
   {
    "duration": 15,
    "start_time": "2024-06-05T15:23:30.457Z"
   },
   {
    "duration": 61,
    "start_time": "2024-06-05T15:23:30.492Z"
   },
   {
    "duration": 55,
    "start_time": "2024-06-05T15:23:30.555Z"
   },
   {
    "duration": 7225,
    "start_time": "2024-06-05T15:41:49.715Z"
   },
   {
    "duration": 1478,
    "start_time": "2024-06-05T15:41:56.944Z"
   },
   {
    "duration": 301,
    "start_time": "2024-06-05T15:41:58.424Z"
   },
   {
    "duration": 6,
    "start_time": "2024-06-05T15:41:58.727Z"
   },
   {
    "duration": 49,
    "start_time": "2024-06-05T15:41:58.734Z"
   },
   {
    "duration": 16,
    "start_time": "2024-06-05T15:41:58.784Z"
   },
   {
    "duration": 38,
    "start_time": "2024-06-05T15:41:58.801Z"
   },
   {
    "duration": 35,
    "start_time": "2024-06-05T15:41:58.840Z"
   },
   {
    "duration": 36,
    "start_time": "2024-06-05T15:41:58.889Z"
   },
   {
    "duration": 663,
    "start_time": "2024-06-05T15:41:58.926Z"
   },
   {
    "duration": 41,
    "start_time": "2024-06-05T15:41:59.590Z"
   },
   {
    "duration": 11,
    "start_time": "2024-06-05T15:41:59.632Z"
   },
   {
    "duration": 54,
    "start_time": "2024-06-05T15:41:59.644Z"
   },
   {
    "duration": 32,
    "start_time": "2024-06-05T15:41:59.699Z"
   },
   {
    "duration": 33,
    "start_time": "2024-06-05T15:41:59.733Z"
   },
   {
    "duration": 745,
    "start_time": "2024-06-05T15:41:59.767Z"
   },
   {
    "duration": 41,
    "start_time": "2024-06-05T15:42:00.513Z"
   },
   {
    "duration": 18,
    "start_time": "2024-06-05T15:42:00.555Z"
   },
   {
    "duration": 7252,
    "start_time": "2024-06-05T15:45:00.225Z"
   },
   {
    "duration": 1628,
    "start_time": "2024-06-05T15:45:07.479Z"
   },
   {
    "duration": 297,
    "start_time": "2024-06-05T15:45:09.109Z"
   },
   {
    "duration": 7,
    "start_time": "2024-06-05T15:45:09.407Z"
   },
   {
    "duration": 65,
    "start_time": "2024-06-05T15:45:09.415Z"
   },
   {
    "duration": 12,
    "start_time": "2024-06-05T15:45:09.481Z"
   },
   {
    "duration": 52,
    "start_time": "2024-06-05T15:45:09.494Z"
   },
   {
    "duration": 34,
    "start_time": "2024-06-05T15:45:09.547Z"
   },
   {
    "duration": 44,
    "start_time": "2024-06-05T15:45:09.583Z"
   },
   {
    "duration": 655,
    "start_time": "2024-06-05T15:45:09.628Z"
   },
   {
    "duration": 47,
    "start_time": "2024-06-05T15:45:10.284Z"
   },
   {
    "duration": 12,
    "start_time": "2024-06-05T15:45:10.332Z"
   },
   {
    "duration": 119,
    "start_time": "2024-06-05T15:45:10.345Z"
   },
   {
    "duration": 41,
    "start_time": "2024-06-05T15:45:10.466Z"
   },
   {
    "duration": 33,
    "start_time": "2024-06-05T15:45:10.509Z"
   },
   {
    "duration": 665,
    "start_time": "2024-06-05T15:45:10.544Z"
   },
   {
    "duration": 43,
    "start_time": "2024-06-05T15:45:11.210Z"
   },
   {
    "duration": 12,
    "start_time": "2024-06-05T15:45:11.254Z"
   },
   {
    "duration": 56,
    "start_time": "2024-06-05T15:45:11.267Z"
   },
   {
    "duration": 35,
    "start_time": "2024-06-05T15:45:11.324Z"
   },
   {
    "duration": 53,
    "start_time": "2024-06-05T15:45:11.360Z"
   },
   {
    "duration": 693,
    "start_time": "2024-06-05T15:45:11.415Z"
   },
   {
    "duration": 739,
    "start_time": "2024-06-05T16:01:46.373Z"
   },
   {
    "duration": 503,
    "start_time": "2024-06-05T16:02:59.408Z"
   },
   {
    "duration": 520,
    "start_time": "2024-06-05T16:05:25.319Z"
   },
   {
    "duration": 488,
    "start_time": "2024-06-05T16:06:53.016Z"
   },
   {
    "duration": 483,
    "start_time": "2024-06-05T16:08:35.491Z"
   },
   {
    "duration": 52,
    "start_time": "2024-06-05T16:22:56.030Z"
   },
   {
    "duration": 43,
    "start_time": "2024-06-05T16:23:08.365Z"
   },
   {
    "duration": 591,
    "start_time": "2024-06-05T16:23:30.316Z"
   },
   {
    "duration": 11,
    "start_time": "2024-06-05T16:24:44.150Z"
   },
   {
    "duration": 37,
    "start_time": "2024-06-05T16:25:02.952Z"
   },
   {
    "duration": 1001,
    "start_time": "2024-06-05T16:28:15.903Z"
   },
   {
    "duration": 7337,
    "start_time": "2024-06-05T16:41:09.493Z"
   },
   {
    "duration": 1576,
    "start_time": "2024-06-05T16:41:16.832Z"
   },
   {
    "duration": 320,
    "start_time": "2024-06-05T16:41:18.409Z"
   },
   {
    "duration": 6,
    "start_time": "2024-06-05T16:41:18.730Z"
   },
   {
    "duration": 53,
    "start_time": "2024-06-05T16:41:18.737Z"
   },
   {
    "duration": 11,
    "start_time": "2024-06-05T16:41:18.791Z"
   },
   {
    "duration": 44,
    "start_time": "2024-06-05T16:41:18.803Z"
   },
   {
    "duration": 49,
    "start_time": "2024-06-05T16:41:18.848Z"
   },
   {
    "duration": 37,
    "start_time": "2024-06-05T16:41:18.899Z"
   },
   {
    "duration": 687,
    "start_time": "2024-06-05T16:41:18.939Z"
   },
   {
    "duration": 564,
    "start_time": "2024-06-05T16:41:19.627Z"
   },
   {
    "duration": 47,
    "start_time": "2024-06-05T16:41:20.192Z"
   },
   {
    "duration": 11,
    "start_time": "2024-06-05T16:41:20.240Z"
   },
   {
    "duration": 57,
    "start_time": "2024-06-05T16:41:20.253Z"
   },
   {
    "duration": 33,
    "start_time": "2024-06-05T16:41:20.311Z"
   },
   {
    "duration": 44,
    "start_time": "2024-06-05T16:41:20.345Z"
   },
   {
    "duration": 651,
    "start_time": "2024-06-05T16:41:20.391Z"
   },
   {
    "duration": 611,
    "start_time": "2024-06-05T16:41:21.043Z"
   },
   {
    "duration": 525,
    "start_time": "2024-06-05T16:41:21.655Z"
   },
   {
    "duration": 47,
    "start_time": "2024-06-05T16:41:22.182Z"
   },
   {
    "duration": 11,
    "start_time": "2024-06-05T16:41:22.230Z"
   },
   {
    "duration": 53,
    "start_time": "2024-06-05T16:41:22.242Z"
   },
   {
    "duration": 38,
    "start_time": "2024-06-05T16:41:22.296Z"
   },
   {
    "duration": 58,
    "start_time": "2024-06-05T16:41:22.336Z"
   },
   {
    "duration": 767,
    "start_time": "2024-06-05T16:41:22.395Z"
   },
   {
    "duration": 503,
    "start_time": "2024-06-05T16:41:23.164Z"
   },
   {
    "duration": 38,
    "start_time": "2024-06-05T16:41:23.668Z"
   },
   {
    "duration": 895,
    "start_time": "2024-06-05T16:41:23.709Z"
   },
   {
    "duration": 886,
    "start_time": "2024-06-05T16:41:24.606Z"
   },
   {
    "duration": 948,
    "start_time": "2024-06-05T16:47:15.589Z"
   },
   {
    "duration": 867,
    "start_time": "2024-06-05T16:47:56.421Z"
   },
   {
    "duration": 2,
    "start_time": "2024-06-05T16:49:39.107Z"
   },
   {
    "duration": 4,
    "start_time": "2024-06-05T16:49:48.822Z"
   },
   {
    "duration": 48,
    "start_time": "2024-06-05T17:08:28.619Z"
   },
   {
    "duration": 7300,
    "start_time": "2024-06-05T17:08:36.816Z"
   },
   {
    "duration": 1604,
    "start_time": "2024-06-05T17:08:44.118Z"
   },
   {
    "duration": 304,
    "start_time": "2024-06-05T17:08:45.723Z"
   },
   {
    "duration": 6,
    "start_time": "2024-06-05T17:08:46.029Z"
   },
   {
    "duration": 93,
    "start_time": "2024-06-05T17:08:46.037Z"
   },
   {
    "duration": 12,
    "start_time": "2024-06-05T17:08:46.132Z"
   },
   {
    "duration": 49,
    "start_time": "2024-06-05T17:08:46.146Z"
   },
   {
    "duration": 38,
    "start_time": "2024-06-05T17:08:46.196Z"
   },
   {
    "duration": 61,
    "start_time": "2024-06-05T17:08:46.235Z"
   },
   {
    "duration": 685,
    "start_time": "2024-06-05T17:08:46.298Z"
   },
   {
    "duration": 587,
    "start_time": "2024-06-05T17:08:46.985Z"
   },
   {
    "duration": 47,
    "start_time": "2024-06-05T17:08:47.574Z"
   },
   {
    "duration": 12,
    "start_time": "2024-06-05T17:08:47.622Z"
   },
   {
    "duration": 56,
    "start_time": "2024-06-05T17:08:47.635Z"
   },
   {
    "duration": 33,
    "start_time": "2024-06-05T17:08:47.692Z"
   },
   {
    "duration": 33,
    "start_time": "2024-06-05T17:08:47.726Z"
   },
   {
    "duration": 681,
    "start_time": "2024-06-05T17:08:47.760Z"
   },
   {
    "duration": 605,
    "start_time": "2024-06-05T17:08:48.442Z"
   },
   {
    "duration": 512,
    "start_time": "2024-06-05T17:08:49.048Z"
   },
   {
    "duration": 54,
    "start_time": "2024-06-05T17:08:49.561Z"
   },
   {
    "duration": 12,
    "start_time": "2024-06-05T17:08:49.616Z"
   },
   {
    "duration": 36,
    "start_time": "2024-06-05T17:08:49.629Z"
   },
   {
    "duration": 53,
    "start_time": "2024-06-05T17:08:49.666Z"
   },
   {
    "duration": 37,
    "start_time": "2024-06-05T17:08:49.720Z"
   },
   {
    "duration": 829,
    "start_time": "2024-06-05T17:08:49.759Z"
   },
   {
    "duration": 484,
    "start_time": "2024-06-05T17:08:50.589Z"
   },
   {
    "duration": 37,
    "start_time": "2024-06-05T17:08:51.074Z"
   },
   {
    "duration": 881,
    "start_time": "2024-06-05T17:08:51.114Z"
   },
   {
    "duration": 2,
    "start_time": "2024-06-05T17:08:51.996Z"
   },
   {
    "duration": 7,
    "start_time": "2024-06-05T17:08:51.999Z"
   },
   {
    "duration": 46,
    "start_time": "2024-06-05T17:08:52.008Z"
   },
   {
    "duration": 7329,
    "start_time": "2024-06-05T17:10:54.424Z"
   },
   {
    "duration": 1596,
    "start_time": "2024-06-05T17:11:01.755Z"
   },
   {
    "duration": 308,
    "start_time": "2024-06-05T17:11:03.352Z"
   },
   {
    "duration": 6,
    "start_time": "2024-06-05T17:11:03.662Z"
   },
   {
    "duration": 89,
    "start_time": "2024-06-05T17:11:03.669Z"
   },
   {
    "duration": 11,
    "start_time": "2024-06-05T17:11:03.760Z"
   },
   {
    "duration": 72,
    "start_time": "2024-06-05T17:11:03.772Z"
   },
   {
    "duration": 53,
    "start_time": "2024-06-05T17:11:03.845Z"
   },
   {
    "duration": 37,
    "start_time": "2024-06-05T17:11:03.899Z"
   },
   {
    "duration": 707,
    "start_time": "2024-06-05T17:11:03.938Z"
   },
   {
    "duration": 563,
    "start_time": "2024-06-05T17:11:04.646Z"
   },
   {
    "duration": 40,
    "start_time": "2024-06-05T17:11:05.211Z"
   },
   {
    "duration": 29,
    "start_time": "2024-06-05T17:11:05.253Z"
   },
   {
    "duration": 64,
    "start_time": "2024-06-05T17:11:05.283Z"
   },
   {
    "duration": 32,
    "start_time": "2024-06-05T17:11:05.349Z"
   },
   {
    "duration": 66,
    "start_time": "2024-06-05T17:11:05.382Z"
   },
   {
    "duration": 695,
    "start_time": "2024-06-05T17:11:05.450Z"
   },
   {
    "duration": 613,
    "start_time": "2024-06-05T17:11:06.146Z"
   },
   {
    "duration": 509,
    "start_time": "2024-06-05T17:11:06.760Z"
   },
   {
    "duration": 54,
    "start_time": "2024-06-05T17:11:07.270Z"
   },
   {
    "duration": 11,
    "start_time": "2024-06-05T17:11:07.325Z"
   },
   {
    "duration": 35,
    "start_time": "2024-06-05T17:11:07.338Z"
   },
   {
    "duration": 35,
    "start_time": "2024-06-05T17:11:07.390Z"
   },
   {
    "duration": 40,
    "start_time": "2024-06-05T17:11:07.426Z"
   },
   {
    "duration": 752,
    "start_time": "2024-06-05T17:11:07.468Z"
   },
   {
    "duration": 548,
    "start_time": "2024-06-05T17:11:08.221Z"
   },
   {
    "duration": 38,
    "start_time": "2024-06-05T17:11:08.770Z"
   },
   {
    "duration": 1372,
    "start_time": "2024-06-05T17:11:08.811Z"
   },
   {
    "duration": 2,
    "start_time": "2024-06-05T17:11:10.185Z"
   },
   {
    "duration": 13,
    "start_time": "2024-06-05T17:11:10.189Z"
   },
   {
    "duration": 51,
    "start_time": "2024-06-05T17:11:10.203Z"
   },
   {
    "duration": 9120,
    "start_time": "2024-06-05T17:20:09.470Z"
   },
   {
    "duration": 7657,
    "start_time": "2024-06-05T17:26:28.533Z"
   },
   {
    "duration": 1645,
    "start_time": "2024-06-05T17:26:36.192Z"
   },
   {
    "duration": 304,
    "start_time": "2024-06-05T17:26:37.839Z"
   },
   {
    "duration": 6,
    "start_time": "2024-06-05T17:26:38.144Z"
   },
   {
    "duration": 59,
    "start_time": "2024-06-05T17:26:38.151Z"
   },
   {
    "duration": 12,
    "start_time": "2024-06-05T17:26:38.211Z"
   },
   {
    "duration": 36,
    "start_time": "2024-06-05T17:26:38.224Z"
   },
   {
    "duration": 49,
    "start_time": "2024-06-05T17:26:38.262Z"
   },
   {
    "duration": 37,
    "start_time": "2024-06-05T17:26:38.312Z"
   },
   {
    "duration": 694,
    "start_time": "2024-06-05T17:26:38.351Z"
   },
   {
    "duration": 581,
    "start_time": "2024-06-05T17:26:39.046Z"
   },
   {
    "duration": 42,
    "start_time": "2024-06-05T17:26:39.629Z"
   },
   {
    "duration": 25,
    "start_time": "2024-06-05T17:26:39.673Z"
   },
   {
    "duration": 37,
    "start_time": "2024-06-05T17:26:39.699Z"
   },
   {
    "duration": 53,
    "start_time": "2024-06-05T17:26:39.737Z"
   },
   {
    "duration": 35,
    "start_time": "2024-06-05T17:26:39.792Z"
   },
   {
    "duration": 674,
    "start_time": "2024-06-05T17:26:39.829Z"
   },
   {
    "duration": 604,
    "start_time": "2024-06-05T17:26:40.504Z"
   },
   {
    "duration": 503,
    "start_time": "2024-06-05T17:26:41.109Z"
   },
   {
    "duration": 41,
    "start_time": "2024-06-05T17:26:41.613Z"
   },
   {
    "duration": 11,
    "start_time": "2024-06-05T17:26:41.655Z"
   },
   {
    "duration": 53,
    "start_time": "2024-06-05T17:26:41.667Z"
   },
   {
    "duration": 35,
    "start_time": "2024-06-05T17:26:41.721Z"
   },
   {
    "duration": 49,
    "start_time": "2024-06-05T17:26:41.757Z"
   },
   {
    "duration": 748,
    "start_time": "2024-06-05T17:26:41.807Z"
   },
   {
    "duration": 514,
    "start_time": "2024-06-05T17:26:42.556Z"
   },
   {
    "duration": 35,
    "start_time": "2024-06-05T17:26:43.071Z"
   },
   {
    "duration": 893,
    "start_time": "2024-06-05T17:26:43.110Z"
   },
   {
    "duration": 3,
    "start_time": "2024-06-05T17:26:44.005Z"
   },
   {
    "duration": 24,
    "start_time": "2024-06-05T17:26:44.009Z"
   },
   {
    "duration": 11,
    "start_time": "2024-06-05T17:26:44.034Z"
   },
   {
    "duration": 9389,
    "start_time": "2024-06-05T17:26:44.046Z"
   },
   {
    "duration": 7243,
    "start_time": "2024-06-05T17:37:39.984Z"
   },
   {
    "duration": 1518,
    "start_time": "2024-06-05T17:37:47.229Z"
   },
   {
    "duration": 297,
    "start_time": "2024-06-05T17:37:48.748Z"
   },
   {
    "duration": 7,
    "start_time": "2024-06-05T17:37:49.048Z"
   },
   {
    "duration": 67,
    "start_time": "2024-06-05T17:37:49.056Z"
   },
   {
    "duration": 11,
    "start_time": "2024-06-05T17:37:49.124Z"
   },
   {
    "duration": 59,
    "start_time": "2024-06-05T17:37:49.137Z"
   },
   {
    "duration": 35,
    "start_time": "2024-06-05T17:37:49.197Z"
   },
   {
    "duration": 36,
    "start_time": "2024-06-05T17:37:49.233Z"
   },
   {
    "duration": 682,
    "start_time": "2024-06-05T17:37:49.270Z"
   },
   {
    "duration": 594,
    "start_time": "2024-06-05T17:37:49.954Z"
   },
   {
    "duration": 46,
    "start_time": "2024-06-05T17:37:50.549Z"
   },
   {
    "duration": 11,
    "start_time": "2024-06-05T17:37:50.596Z"
   },
   {
    "duration": 35,
    "start_time": "2024-06-05T17:37:50.608Z"
   },
   {
    "duration": 48,
    "start_time": "2024-06-05T17:37:50.645Z"
   },
   {
    "duration": 34,
    "start_time": "2024-06-05T17:37:50.695Z"
   },
   {
    "duration": 691,
    "start_time": "2024-06-05T17:37:50.730Z"
   },
   {
    "duration": 575,
    "start_time": "2024-06-05T17:37:51.422Z"
   },
   {
    "duration": 526,
    "start_time": "2024-06-05T17:37:51.998Z"
   },
   {
    "duration": 41,
    "start_time": "2024-06-05T17:37:52.525Z"
   },
   {
    "duration": 27,
    "start_time": "2024-06-05T17:37:52.567Z"
   },
   {
    "duration": 39,
    "start_time": "2024-06-05T17:37:52.595Z"
   },
   {
    "duration": 35,
    "start_time": "2024-06-05T17:37:52.635Z"
   },
   {
    "duration": 45,
    "start_time": "2024-06-05T17:37:52.671Z"
   },
   {
    "duration": 734,
    "start_time": "2024-06-05T17:37:52.718Z"
   },
   {
    "duration": 507,
    "start_time": "2024-06-05T17:37:53.454Z"
   },
   {
    "duration": 37,
    "start_time": "2024-06-05T17:37:53.962Z"
   },
   {
    "duration": 982,
    "start_time": "2024-06-05T17:37:54.005Z"
   },
   {
    "duration": 2,
    "start_time": "2024-06-05T17:37:54.988Z"
   },
   {
    "duration": 39,
    "start_time": "2024-06-05T17:37:54.991Z"
   },
   {
    "duration": 3,
    "start_time": "2024-06-05T17:37:55.032Z"
   },
   {
    "duration": 123,
    "start_time": "2024-06-05T17:37:55.036Z"
   },
   {
    "duration": 9337,
    "start_time": "2024-06-05T17:37:55.161Z"
   },
   {
    "duration": 4872,
    "start_time": "2024-06-05T17:39:40.507Z"
   },
   {
    "duration": 7251,
    "start_time": "2024-06-05T18:31:09.755Z"
   },
   {
    "duration": 1531,
    "start_time": "2024-06-05T18:31:17.009Z"
   },
   {
    "duration": 298,
    "start_time": "2024-06-05T18:31:18.541Z"
   },
   {
    "duration": 6,
    "start_time": "2024-06-05T18:31:18.841Z"
   },
   {
    "duration": 71,
    "start_time": "2024-06-05T18:31:18.848Z"
   },
   {
    "duration": 12,
    "start_time": "2024-06-05T18:31:18.920Z"
   },
   {
    "duration": 36,
    "start_time": "2024-06-05T18:31:18.933Z"
   },
   {
    "duration": 47,
    "start_time": "2024-06-05T18:31:18.970Z"
   },
   {
    "duration": 36,
    "start_time": "2024-06-05T18:31:19.018Z"
   },
   {
    "duration": 673,
    "start_time": "2024-06-05T18:31:19.056Z"
   },
   {
    "duration": 615,
    "start_time": "2024-06-05T18:31:19.731Z"
   },
   {
    "duration": 48,
    "start_time": "2024-06-05T18:31:20.348Z"
   },
   {
    "duration": 11,
    "start_time": "2024-06-05T18:31:20.397Z"
   },
   {
    "duration": 46,
    "start_time": "2024-06-05T18:31:20.409Z"
   },
   {
    "duration": 43,
    "start_time": "2024-06-05T18:31:20.457Z"
   },
   {
    "duration": 33,
    "start_time": "2024-06-05T18:31:20.501Z"
   },
   {
    "duration": 673,
    "start_time": "2024-06-05T18:31:20.536Z"
   },
   {
    "duration": 597,
    "start_time": "2024-06-05T18:31:21.211Z"
   },
   {
    "duration": 508,
    "start_time": "2024-06-05T18:31:21.810Z"
   },
   {
    "duration": 41,
    "start_time": "2024-06-05T18:31:22.319Z"
   },
   {
    "duration": 28,
    "start_time": "2024-06-05T18:31:22.361Z"
   },
   {
    "duration": 37,
    "start_time": "2024-06-05T18:31:22.390Z"
   },
   {
    "duration": 42,
    "start_time": "2024-06-05T18:31:22.428Z"
   },
   {
    "duration": 38,
    "start_time": "2024-06-05T18:31:22.489Z"
   },
   {
    "duration": 749,
    "start_time": "2024-06-05T18:31:22.528Z"
   },
   {
    "duration": 488,
    "start_time": "2024-06-05T18:31:23.278Z"
   },
   {
    "duration": 33,
    "start_time": "2024-06-05T18:31:23.768Z"
   },
   {
    "duration": 140,
    "start_time": "2024-06-05T18:31:23.803Z"
   },
   {
    "duration": 0,
    "start_time": "2024-06-05T18:31:23.944Z"
   },
   {
    "duration": 0,
    "start_time": "2024-06-05T18:31:23.945Z"
   },
   {
    "duration": 0,
    "start_time": "2024-06-05T18:31:23.946Z"
   },
   {
    "duration": 0,
    "start_time": "2024-06-05T18:31:23.948Z"
   },
   {
    "duration": 0,
    "start_time": "2024-06-05T18:31:23.949Z"
   },
   {
    "duration": 7206,
    "start_time": "2024-06-05T18:32:23.336Z"
   },
   {
    "duration": 1573,
    "start_time": "2024-06-05T18:32:30.544Z"
   },
   {
    "duration": 318,
    "start_time": "2024-06-05T18:32:32.119Z"
   },
   {
    "duration": 6,
    "start_time": "2024-06-05T18:32:32.439Z"
   },
   {
    "duration": 58,
    "start_time": "2024-06-05T18:32:32.447Z"
   },
   {
    "duration": 12,
    "start_time": "2024-06-05T18:32:32.506Z"
   },
   {
    "duration": 39,
    "start_time": "2024-06-05T18:32:32.520Z"
   },
   {
    "duration": 60,
    "start_time": "2024-06-05T18:32:32.560Z"
   },
   {
    "duration": 38,
    "start_time": "2024-06-05T18:32:32.621Z"
   },
   {
    "duration": 692,
    "start_time": "2024-06-05T18:32:32.662Z"
   },
   {
    "duration": 626,
    "start_time": "2024-06-05T18:32:33.355Z"
   },
   {
    "duration": 46,
    "start_time": "2024-06-05T18:32:33.982Z"
   },
   {
    "duration": 11,
    "start_time": "2024-06-05T18:32:34.029Z"
   },
   {
    "duration": 55,
    "start_time": "2024-06-05T18:32:34.041Z"
   },
   {
    "duration": 34,
    "start_time": "2024-06-05T18:32:34.097Z"
   },
   {
    "duration": 35,
    "start_time": "2024-06-05T18:32:34.132Z"
   },
   {
    "duration": 661,
    "start_time": "2024-06-05T18:32:34.168Z"
   },
   {
    "duration": 583,
    "start_time": "2024-06-05T18:32:34.831Z"
   },
   {
    "duration": 500,
    "start_time": "2024-06-05T18:32:35.415Z"
   },
   {
    "duration": 41,
    "start_time": "2024-06-05T18:32:35.916Z"
   },
   {
    "duration": 11,
    "start_time": "2024-06-05T18:32:35.958Z"
   },
   {
    "duration": 52,
    "start_time": "2024-06-05T18:32:35.970Z"
   },
   {
    "duration": 40,
    "start_time": "2024-06-05T18:32:36.023Z"
   },
   {
    "duration": 44,
    "start_time": "2024-06-05T18:32:36.065Z"
   },
   {
    "duration": 735,
    "start_time": "2024-06-05T18:32:36.111Z"
   },
   {
    "duration": 509,
    "start_time": "2024-06-05T18:32:36.847Z"
   },
   {
    "duration": 34,
    "start_time": "2024-06-05T18:32:37.358Z"
   },
   {
    "duration": 919,
    "start_time": "2024-06-05T18:32:37.395Z"
   },
   {
    "duration": 3,
    "start_time": "2024-06-05T18:32:38.315Z"
   },
   {
    "duration": 15,
    "start_time": "2024-06-05T18:32:38.319Z"
   },
   {
    "duration": 10,
    "start_time": "2024-06-05T18:32:38.336Z"
   },
   {
    "duration": 146,
    "start_time": "2024-06-05T18:32:38.347Z"
   },
   {
    "duration": 4916,
    "start_time": "2024-06-05T18:32:38.495Z"
   },
   {
    "duration": 7309,
    "start_time": "2024-06-05T18:38:27.196Z"
   },
   {
    "duration": 1610,
    "start_time": "2024-06-05T18:38:34.507Z"
   },
   {
    "duration": 305,
    "start_time": "2024-06-05T18:38:36.118Z"
   },
   {
    "duration": 7,
    "start_time": "2024-06-05T18:38:36.424Z"
   },
   {
    "duration": 45,
    "start_time": "2024-06-05T18:38:36.432Z"
   },
   {
    "duration": 18,
    "start_time": "2024-06-05T18:38:36.478Z"
   },
   {
    "duration": 38,
    "start_time": "2024-06-05T18:38:36.498Z"
   },
   {
    "duration": 35,
    "start_time": "2024-06-05T18:38:36.537Z"
   },
   {
    "duration": 50,
    "start_time": "2024-06-05T18:38:36.573Z"
   },
   {
    "duration": 694,
    "start_time": "2024-06-05T18:38:36.625Z"
   },
   {
    "duration": 561,
    "start_time": "2024-06-05T18:38:37.320Z"
   },
   {
    "duration": 41,
    "start_time": "2024-06-05T18:38:37.889Z"
   },
   {
    "duration": 11,
    "start_time": "2024-06-05T18:38:37.931Z"
   },
   {
    "duration": 51,
    "start_time": "2024-06-05T18:38:37.943Z"
   },
   {
    "duration": 33,
    "start_time": "2024-06-05T18:38:37.995Z"
   },
   {
    "duration": 33,
    "start_time": "2024-06-05T18:38:38.029Z"
   },
   {
    "duration": 687,
    "start_time": "2024-06-05T18:38:38.063Z"
   },
   {
    "duration": 617,
    "start_time": "2024-06-05T18:38:38.751Z"
   },
   {
    "duration": 503,
    "start_time": "2024-06-05T18:38:39.369Z"
   },
   {
    "duration": 51,
    "start_time": "2024-06-05T18:38:39.873Z"
   },
   {
    "duration": 11,
    "start_time": "2024-06-05T18:38:39.925Z"
   },
   {
    "duration": 35,
    "start_time": "2024-06-05T18:38:39.937Z"
   },
   {
    "duration": 49,
    "start_time": "2024-06-05T18:38:39.973Z"
   },
   {
    "duration": 37,
    "start_time": "2024-06-05T18:38:40.023Z"
   },
   {
    "duration": 779,
    "start_time": "2024-06-05T18:38:40.061Z"
   },
   {
    "duration": 522,
    "start_time": "2024-06-05T18:38:40.841Z"
   },
   {
    "duration": 35,
    "start_time": "2024-06-05T18:38:41.364Z"
   },
   {
    "duration": 3386,
    "start_time": "2024-06-05T18:38:41.402Z"
   },
   {
    "duration": 2,
    "start_time": "2024-06-05T18:38:44.790Z"
   },
   {
    "duration": 5,
    "start_time": "2024-06-05T18:38:44.794Z"
   },
   {
    "duration": 4,
    "start_time": "2024-06-05T18:38:44.801Z"
   },
   {
    "duration": 129,
    "start_time": "2024-06-05T18:38:44.806Z"
   },
   {
    "duration": 4879,
    "start_time": "2024-06-05T18:38:44.937Z"
   },
   {
    "duration": 7273,
    "start_time": "2024-06-05T18:39:48.598Z"
   },
   {
    "duration": 1551,
    "start_time": "2024-06-05T18:39:55.873Z"
   },
   {
    "duration": 300,
    "start_time": "2024-06-05T18:39:57.425Z"
   },
   {
    "duration": 7,
    "start_time": "2024-06-05T18:39:57.727Z"
   },
   {
    "duration": 54,
    "start_time": "2024-06-05T18:39:57.736Z"
   },
   {
    "duration": 16,
    "start_time": "2024-06-05T18:39:57.802Z"
   },
   {
    "duration": 42,
    "start_time": "2024-06-05T18:39:57.819Z"
   },
   {
    "duration": 44,
    "start_time": "2024-06-05T18:39:57.862Z"
   },
   {
    "duration": 38,
    "start_time": "2024-06-05T18:39:57.907Z"
   },
   {
    "duration": 760,
    "start_time": "2024-06-05T18:39:57.947Z"
   },
   {
    "duration": 575,
    "start_time": "2024-06-05T18:39:58.708Z"
   },
   {
    "duration": 54,
    "start_time": "2024-06-05T18:39:59.284Z"
   },
   {
    "duration": 12,
    "start_time": "2024-06-05T18:39:59.340Z"
   },
   {
    "duration": 62,
    "start_time": "2024-06-05T18:39:59.354Z"
   },
   {
    "duration": 34,
    "start_time": "2024-06-05T18:39:59.417Z"
   },
   {
    "duration": 56,
    "start_time": "2024-06-05T18:39:59.452Z"
   },
   {
    "duration": 665,
    "start_time": "2024-06-05T18:39:59.509Z"
   },
   {
    "duration": 640,
    "start_time": "2024-06-05T18:40:00.175Z"
   },
   {
    "duration": 563,
    "start_time": "2024-06-05T18:40:00.816Z"
   },
   {
    "duration": 59,
    "start_time": "2024-06-05T18:40:01.380Z"
   },
   {
    "duration": 148,
    "start_time": "2024-06-05T18:40:01.440Z"
   },
   {
    "duration": 168,
    "start_time": "2024-06-05T18:40:01.589Z"
   },
   {
    "duration": 43,
    "start_time": "2024-06-05T18:40:01.758Z"
   },
   {
    "duration": 57,
    "start_time": "2024-06-05T18:40:01.803Z"
   },
   {
    "duration": 803,
    "start_time": "2024-06-05T18:40:01.861Z"
   },
   {
    "duration": 511,
    "start_time": "2024-06-05T18:40:02.666Z"
   },
   {
    "duration": 38,
    "start_time": "2024-06-05T18:40:03.179Z"
   },
   {
    "duration": 4497,
    "start_time": "2024-06-05T18:40:03.219Z"
   },
   {
    "duration": 2,
    "start_time": "2024-06-05T18:40:07.718Z"
   },
   {
    "duration": 15,
    "start_time": "2024-06-05T18:40:07.721Z"
   },
   {
    "duration": 14,
    "start_time": "2024-06-05T18:40:07.737Z"
   },
   {
    "duration": 140,
    "start_time": "2024-06-05T18:40:07.752Z"
   },
   {
    "duration": 5044,
    "start_time": "2024-06-05T18:40:07.897Z"
   },
   {
    "duration": 4696,
    "start_time": "2024-06-05T18:42:31.124Z"
   },
   {
    "duration": 6604,
    "start_time": "2024-06-05T18:42:43.386Z"
   },
   {
    "duration": 6781,
    "start_time": "2024-06-05T18:43:59.222Z"
   },
   {
    "duration": 8216,
    "start_time": "2024-06-05T18:44:21.783Z"
   },
   {
    "duration": 8296,
    "start_time": "2024-06-05T18:44:34.291Z"
   },
   {
    "duration": 25768,
    "start_time": "2024-06-05T18:46:28.551Z"
   },
   {
    "duration": 153,
    "start_time": "2024-06-05T18:50:16.333Z"
   },
   {
    "duration": 7755,
    "start_time": "2024-06-05T18:50:23.507Z"
   },
   {
    "duration": 1744,
    "start_time": "2024-06-05T18:50:31.264Z"
   },
   {
    "duration": 333,
    "start_time": "2024-06-05T18:50:33.010Z"
   },
   {
    "duration": 7,
    "start_time": "2024-06-05T18:50:33.344Z"
   },
   {
    "duration": 74,
    "start_time": "2024-06-05T18:50:33.352Z"
   },
   {
    "duration": 20,
    "start_time": "2024-06-05T18:50:33.428Z"
   },
   {
    "duration": 54,
    "start_time": "2024-06-05T18:50:33.449Z"
   },
   {
    "duration": 41,
    "start_time": "2024-06-05T18:50:33.504Z"
   },
   {
    "duration": 57,
    "start_time": "2024-06-05T18:50:33.547Z"
   },
   {
    "duration": 758,
    "start_time": "2024-06-05T18:50:33.607Z"
   },
   {
    "duration": 596,
    "start_time": "2024-06-05T18:50:34.367Z"
   },
   {
    "duration": 58,
    "start_time": "2024-06-05T18:50:34.964Z"
   },
   {
    "duration": 14,
    "start_time": "2024-06-05T18:50:35.023Z"
   },
   {
    "duration": 56,
    "start_time": "2024-06-05T18:50:35.038Z"
   },
   {
    "duration": 37,
    "start_time": "2024-06-05T18:50:35.095Z"
   },
   {
    "duration": 41,
    "start_time": "2024-06-05T18:50:35.133Z"
   },
   {
    "duration": 742,
    "start_time": "2024-06-05T18:50:35.189Z"
   },
   {
    "duration": 683,
    "start_time": "2024-06-05T18:50:35.932Z"
   },
   {
    "duration": 572,
    "start_time": "2024-06-05T18:50:36.617Z"
   },
   {
    "duration": 44,
    "start_time": "2024-06-05T18:50:37.191Z"
   },
   {
    "duration": 12,
    "start_time": "2024-06-05T18:50:37.237Z"
   },
   {
    "duration": 62,
    "start_time": "2024-06-05T18:50:37.250Z"
   },
   {
    "duration": 50,
    "start_time": "2024-06-05T18:50:37.313Z"
   },
   {
    "duration": 52,
    "start_time": "2024-06-05T18:50:37.364Z"
   },
   {
    "duration": 806,
    "start_time": "2024-06-05T18:50:37.417Z"
   },
   {
    "duration": 560,
    "start_time": "2024-06-05T18:50:38.224Z"
   },
   {
    "duration": 27,
    "start_time": "2024-06-05T18:50:38.790Z"
   },
   {
    "duration": 176,
    "start_time": "2024-06-05T18:50:38.822Z"
   },
   {
    "duration": 0,
    "start_time": "2024-06-05T18:50:39.001Z"
   },
   {
    "duration": 0,
    "start_time": "2024-06-05T18:50:39.002Z"
   },
   {
    "duration": 0,
    "start_time": "2024-06-05T18:50:39.003Z"
   },
   {
    "duration": 0,
    "start_time": "2024-06-05T18:50:39.004Z"
   },
   {
    "duration": 0,
    "start_time": "2024-06-05T18:50:39.005Z"
   },
   {
    "duration": 31031,
    "start_time": "2024-06-05T18:51:50.365Z"
   },
   {
    "duration": 43,
    "start_time": "2024-06-05T18:52:44.881Z"
   },
   {
    "duration": 7252,
    "start_time": "2024-06-05T18:54:16.432Z"
   },
   {
    "duration": 1534,
    "start_time": "2024-06-05T18:54:23.687Z"
   },
   {
    "duration": 304,
    "start_time": "2024-06-05T18:54:25.222Z"
   },
   {
    "duration": 6,
    "start_time": "2024-06-05T18:54:25.528Z"
   },
   {
    "duration": 45,
    "start_time": "2024-06-05T18:54:25.535Z"
   },
   {
    "duration": 11,
    "start_time": "2024-06-05T18:54:25.589Z"
   },
   {
    "duration": 36,
    "start_time": "2024-06-05T18:54:25.602Z"
   },
   {
    "duration": 51,
    "start_time": "2024-06-05T18:54:25.639Z"
   },
   {
    "duration": 36,
    "start_time": "2024-06-05T18:54:25.691Z"
   },
   {
    "duration": 701,
    "start_time": "2024-06-05T18:54:25.729Z"
   },
   {
    "duration": 547,
    "start_time": "2024-06-05T18:54:26.431Z"
   },
   {
    "duration": 50,
    "start_time": "2024-06-05T18:54:26.979Z"
   },
   {
    "duration": 11,
    "start_time": "2024-06-05T18:54:27.031Z"
   },
   {
    "duration": 56,
    "start_time": "2024-06-05T18:54:27.043Z"
   },
   {
    "duration": 33,
    "start_time": "2024-06-05T18:54:27.100Z"
   },
   {
    "duration": 35,
    "start_time": "2024-06-05T18:54:27.134Z"
   },
   {
    "duration": 662,
    "start_time": "2024-06-05T18:54:27.170Z"
   },
   {
    "duration": 599,
    "start_time": "2024-06-05T18:54:27.833Z"
   },
   {
    "duration": 547,
    "start_time": "2024-06-05T18:54:28.433Z"
   },
   {
    "duration": 46,
    "start_time": "2024-06-05T18:54:28.982Z"
   },
   {
    "duration": 11,
    "start_time": "2024-06-05T18:54:29.029Z"
   },
   {
    "duration": 52,
    "start_time": "2024-06-05T18:54:29.041Z"
   },
   {
    "duration": 35,
    "start_time": "2024-06-05T18:54:29.094Z"
   },
   {
    "duration": 37,
    "start_time": "2024-06-05T18:54:29.130Z"
   },
   {
    "duration": 774,
    "start_time": "2024-06-05T18:54:29.169Z"
   },
   {
    "duration": 530,
    "start_time": "2024-06-05T18:54:29.944Z"
   },
   {
    "duration": 34,
    "start_time": "2024-06-05T18:54:30.476Z"
   },
   {
    "duration": 7567,
    "start_time": "2024-06-05T18:55:30.641Z"
   },
   {
    "duration": 1665,
    "start_time": "2024-06-05T18:55:38.210Z"
   },
   {
    "duration": 303,
    "start_time": "2024-06-05T18:55:39.877Z"
   },
   {
    "duration": 7,
    "start_time": "2024-06-05T18:55:40.181Z"
   },
   {
    "duration": 49,
    "start_time": "2024-06-05T18:55:40.189Z"
   },
   {
    "duration": 12,
    "start_time": "2024-06-05T18:55:40.239Z"
   },
   {
    "duration": 54,
    "start_time": "2024-06-05T18:55:40.252Z"
   },
   {
    "duration": 36,
    "start_time": "2024-06-05T18:55:40.307Z"
   },
   {
    "duration": 47,
    "start_time": "2024-06-05T18:55:40.344Z"
   },
   {
    "duration": 664,
    "start_time": "2024-06-05T18:55:40.392Z"
   },
   {
    "duration": 570,
    "start_time": "2024-06-05T18:55:41.057Z"
   },
   {
    "duration": 61,
    "start_time": "2024-06-05T18:55:41.629Z"
   },
   {
    "duration": 13,
    "start_time": "2024-06-05T18:55:41.691Z"
   },
   {
    "duration": 40,
    "start_time": "2024-06-05T18:55:41.707Z"
   },
   {
    "duration": 55,
    "start_time": "2024-06-05T18:55:41.749Z"
   },
   {
    "duration": 33,
    "start_time": "2024-06-05T18:55:41.805Z"
   },
   {
    "duration": 705,
    "start_time": "2024-06-05T18:55:41.839Z"
   },
   {
    "duration": 599,
    "start_time": "2024-06-05T18:55:42.546Z"
   },
   {
    "duration": 514,
    "start_time": "2024-06-05T18:55:43.146Z"
   },
   {
    "duration": 51,
    "start_time": "2024-06-05T18:55:43.662Z"
   },
   {
    "duration": 10,
    "start_time": "2024-06-05T18:55:43.714Z"
   },
   {
    "duration": 44,
    "start_time": "2024-06-05T18:55:43.726Z"
   },
   {
    "duration": 41,
    "start_time": "2024-06-05T18:55:43.771Z"
   },
   {
    "duration": 35,
    "start_time": "2024-06-05T18:55:43.813Z"
   },
   {
    "duration": 753,
    "start_time": "2024-06-05T18:55:43.849Z"
   },
   {
    "duration": 476,
    "start_time": "2024-06-05T18:55:44.603Z"
   },
   {
    "duration": 27,
    "start_time": "2024-06-05T18:55:45.089Z"
   },
   {
    "duration": 7285,
    "start_time": "2024-06-05T18:58:00.300Z"
   },
   {
    "duration": 1536,
    "start_time": "2024-06-05T18:58:07.587Z"
   },
   {
    "duration": 316,
    "start_time": "2024-06-05T18:58:09.124Z"
   },
   {
    "duration": 6,
    "start_time": "2024-06-05T18:58:09.442Z"
   },
   {
    "duration": 45,
    "start_time": "2024-06-05T18:58:09.449Z"
   },
   {
    "duration": 12,
    "start_time": "2024-06-05T18:58:09.495Z"
   },
   {
    "duration": 35,
    "start_time": "2024-06-05T18:58:09.508Z"
   },
   {
    "duration": 51,
    "start_time": "2024-06-05T18:58:09.544Z"
   },
   {
    "duration": 59,
    "start_time": "2024-06-05T18:58:09.596Z"
   },
   {
    "duration": 675,
    "start_time": "2024-06-05T18:58:09.657Z"
   },
   {
    "duration": 551,
    "start_time": "2024-06-05T18:58:10.334Z"
   },
   {
    "duration": 42,
    "start_time": "2024-06-05T18:58:10.886Z"
   },
   {
    "duration": 10,
    "start_time": "2024-06-05T18:58:10.930Z"
   },
   {
    "duration": 52,
    "start_time": "2024-06-05T18:58:10.941Z"
   },
   {
    "duration": 32,
    "start_time": "2024-06-05T18:58:10.994Z"
   },
   {
    "duration": 33,
    "start_time": "2024-06-05T18:58:11.027Z"
   },
   {
    "duration": 663,
    "start_time": "2024-06-05T18:58:11.061Z"
   },
   {
    "duration": 600,
    "start_time": "2024-06-05T18:58:11.725Z"
   },
   {
    "duration": 534,
    "start_time": "2024-06-05T18:58:12.326Z"
   },
   {
    "duration": 53,
    "start_time": "2024-06-05T18:58:12.862Z"
   },
   {
    "duration": 13,
    "start_time": "2024-06-05T18:58:12.916Z"
   },
   {
    "duration": 49,
    "start_time": "2024-06-05T18:58:12.930Z"
   },
   {
    "duration": 35,
    "start_time": "2024-06-05T18:58:12.989Z"
   },
   {
    "duration": 35,
    "start_time": "2024-06-05T18:58:13.025Z"
   },
   {
    "duration": 770,
    "start_time": "2024-06-05T18:58:13.061Z"
   },
   {
    "duration": 509,
    "start_time": "2024-06-05T18:58:13.832Z"
   },
   {
    "duration": 26,
    "start_time": "2024-06-05T18:58:14.342Z"
   },
   {
    "duration": 8636,
    "start_time": "2024-06-05T18:58:14.370Z"
   },
   {
    "duration": 3,
    "start_time": "2024-06-05T18:58:23.007Z"
   },
   {
    "duration": 10,
    "start_time": "2024-06-05T18:58:23.011Z"
   },
   {
    "duration": 7,
    "start_time": "2024-06-05T18:58:23.022Z"
   },
   {
    "duration": 138,
    "start_time": "2024-06-05T18:58:23.030Z"
   },
   {
    "duration": 4877,
    "start_time": "2024-06-05T18:58:23.169Z"
   },
   {
    "duration": 9598,
    "start_time": "2024-06-05T18:58:53.552Z"
   },
   {
    "duration": 21435,
    "start_time": "2024-06-05T19:04:12.283Z"
   },
   {
    "duration": 7423,
    "start_time": "2024-06-05T19:11:39.936Z"
   },
   {
    "duration": 1623,
    "start_time": "2024-06-05T19:11:47.361Z"
   },
   {
    "duration": 318,
    "start_time": "2024-06-05T19:11:48.985Z"
   },
   {
    "duration": 7,
    "start_time": "2024-06-05T19:11:49.304Z"
   },
   {
    "duration": 83,
    "start_time": "2024-06-05T19:11:49.312Z"
   },
   {
    "duration": 14,
    "start_time": "2024-06-05T19:11:49.397Z"
   },
   {
    "duration": 38,
    "start_time": "2024-06-05T19:11:49.412Z"
   },
   {
    "duration": 54,
    "start_time": "2024-06-05T19:11:49.451Z"
   },
   {
    "duration": 37,
    "start_time": "2024-06-05T19:11:49.506Z"
   },
   {
    "duration": 699,
    "start_time": "2024-06-05T19:11:49.545Z"
   },
   {
    "duration": 624,
    "start_time": "2024-06-05T19:11:50.245Z"
   },
   {
    "duration": 49,
    "start_time": "2024-06-05T19:11:50.871Z"
   },
   {
    "duration": 11,
    "start_time": "2024-06-05T19:11:50.921Z"
   },
   {
    "duration": 36,
    "start_time": "2024-06-05T19:11:50.933Z"
   },
   {
    "duration": 50,
    "start_time": "2024-06-05T19:11:50.971Z"
   },
   {
    "duration": 35,
    "start_time": "2024-06-05T19:11:51.022Z"
   },
   {
    "duration": 666,
    "start_time": "2024-06-05T19:11:51.058Z"
   },
   {
    "duration": 607,
    "start_time": "2024-06-05T19:11:51.726Z"
   },
   {
    "duration": 522,
    "start_time": "2024-06-05T19:11:52.334Z"
   },
   {
    "duration": 51,
    "start_time": "2024-06-05T19:11:52.857Z"
   },
   {
    "duration": 10,
    "start_time": "2024-06-05T19:11:52.910Z"
   },
   {
    "duration": 54,
    "start_time": "2024-06-05T19:11:52.922Z"
   },
   {
    "duration": 61,
    "start_time": "2024-06-05T19:11:52.977Z"
   },
   {
    "duration": 46,
    "start_time": "2024-06-05T19:11:53.039Z"
   },
   {
    "duration": 761,
    "start_time": "2024-06-05T19:11:53.086Z"
   },
   {
    "duration": 511,
    "start_time": "2024-06-05T19:11:53.848Z"
   },
   {
    "duration": 34,
    "start_time": "2024-06-05T19:11:54.360Z"
   },
   {
    "duration": 152,
    "start_time": "2024-06-05T19:11:54.397Z"
   },
   {
    "duration": 0,
    "start_time": "2024-06-05T19:11:54.551Z"
   },
   {
    "duration": 0,
    "start_time": "2024-06-05T19:11:54.553Z"
   },
   {
    "duration": 0,
    "start_time": "2024-06-05T19:11:54.554Z"
   },
   {
    "duration": 0,
    "start_time": "2024-06-05T19:11:54.555Z"
   },
   {
    "duration": 0,
    "start_time": "2024-06-05T19:11:54.556Z"
   },
   {
    "duration": 33,
    "start_time": "2024-06-05T19:14:01.594Z"
   },
   {
    "duration": 7291,
    "start_time": "2024-06-05T19:14:14.417Z"
   },
   {
    "duration": 1679,
    "start_time": "2024-06-05T19:14:21.711Z"
   },
   {
    "duration": 300,
    "start_time": "2024-06-05T19:14:23.392Z"
   },
   {
    "duration": 6,
    "start_time": "2024-06-05T19:14:23.694Z"
   },
   {
    "duration": 44,
    "start_time": "2024-06-05T19:14:23.701Z"
   },
   {
    "duration": 11,
    "start_time": "2024-06-05T19:14:23.746Z"
   },
   {
    "duration": 48,
    "start_time": "2024-06-05T19:14:23.758Z"
   },
   {
    "duration": 35,
    "start_time": "2024-06-05T19:14:23.807Z"
   },
   {
    "duration": 48,
    "start_time": "2024-06-05T19:14:23.843Z"
   },
   {
    "duration": 688,
    "start_time": "2024-06-05T19:14:23.893Z"
   },
   {
    "duration": 595,
    "start_time": "2024-06-05T19:14:24.582Z"
   },
   {
    "duration": 48,
    "start_time": "2024-06-05T19:14:25.179Z"
   },
   {
    "duration": 11,
    "start_time": "2024-06-05T19:14:25.228Z"
   },
   {
    "duration": 50,
    "start_time": "2024-06-05T19:14:25.240Z"
   },
   {
    "duration": 33,
    "start_time": "2024-06-05T19:14:25.291Z"
   },
   {
    "duration": 33,
    "start_time": "2024-06-05T19:14:25.325Z"
   },
   {
    "duration": 677,
    "start_time": "2024-06-05T19:14:25.360Z"
   },
   {
    "duration": 599,
    "start_time": "2024-06-05T19:14:26.038Z"
   },
   {
    "duration": 527,
    "start_time": "2024-06-05T19:14:26.638Z"
   },
   {
    "duration": 55,
    "start_time": "2024-06-05T19:14:27.167Z"
   },
   {
    "duration": 12,
    "start_time": "2024-06-05T19:14:27.224Z"
   },
   {
    "duration": 55,
    "start_time": "2024-06-05T19:14:27.238Z"
   },
   {
    "duration": 37,
    "start_time": "2024-06-05T19:14:27.294Z"
   },
   {
    "duration": 37,
    "start_time": "2024-06-05T19:14:27.332Z"
   },
   {
    "duration": 772,
    "start_time": "2024-06-05T19:14:27.370Z"
   },
   {
    "duration": 521,
    "start_time": "2024-06-05T19:14:28.143Z"
   },
   {
    "duration": 98,
    "start_time": "2024-06-05T19:14:28.665Z"
   },
   {
    "duration": 34,
    "start_time": "2024-06-05T19:14:28.766Z"
   },
   {
    "duration": 18993,
    "start_time": "2024-06-05T19:14:28.802Z"
   },
   {
    "duration": 3,
    "start_time": "2024-06-05T19:14:47.796Z"
   },
   {
    "duration": 15,
    "start_time": "2024-06-05T19:14:47.800Z"
   },
   {
    "duration": 4,
    "start_time": "2024-06-05T19:14:47.816Z"
   },
   {
    "duration": 373,
    "start_time": "2024-06-05T19:14:47.821Z"
   },
   {
    "duration": 4946,
    "start_time": "2024-06-05T19:14:48.195Z"
   },
   {
    "duration": 137,
    "start_time": "2024-06-05T19:20:25.011Z"
   },
   {
    "duration": 7585,
    "start_time": "2024-06-05T19:21:18.250Z"
   },
   {
    "duration": 52,
    "start_time": "2024-06-05T19:21:25.838Z"
   },
   {
    "duration": 0,
    "start_time": "2024-06-05T19:21:25.892Z"
   },
   {
    "duration": 0,
    "start_time": "2024-06-05T19:21:25.892Z"
   },
   {
    "duration": 0,
    "start_time": "2024-06-05T19:21:25.894Z"
   },
   {
    "duration": 0,
    "start_time": "2024-06-05T19:21:25.895Z"
   },
   {
    "duration": 0,
    "start_time": "2024-06-05T19:21:25.896Z"
   },
   {
    "duration": 0,
    "start_time": "2024-06-05T19:21:25.898Z"
   },
   {
    "duration": 0,
    "start_time": "2024-06-05T19:21:25.899Z"
   },
   {
    "duration": 0,
    "start_time": "2024-06-05T19:21:25.901Z"
   },
   {
    "duration": 1,
    "start_time": "2024-06-05T19:21:25.902Z"
   },
   {
    "duration": 1,
    "start_time": "2024-06-05T19:21:25.903Z"
   },
   {
    "duration": 0,
    "start_time": "2024-06-05T19:21:25.905Z"
   },
   {
    "duration": 0,
    "start_time": "2024-06-05T19:21:25.906Z"
   },
   {
    "duration": 0,
    "start_time": "2024-06-05T19:21:25.907Z"
   },
   {
    "duration": 0,
    "start_time": "2024-06-05T19:21:25.908Z"
   },
   {
    "duration": 0,
    "start_time": "2024-06-05T19:21:25.910Z"
   },
   {
    "duration": 0,
    "start_time": "2024-06-05T19:21:25.911Z"
   },
   {
    "duration": 0,
    "start_time": "2024-06-05T19:21:25.912Z"
   },
   {
    "duration": 0,
    "start_time": "2024-06-05T19:21:25.913Z"
   },
   {
    "duration": 0,
    "start_time": "2024-06-05T19:21:25.914Z"
   },
   {
    "duration": 0,
    "start_time": "2024-06-05T19:21:25.915Z"
   },
   {
    "duration": 0,
    "start_time": "2024-06-05T19:21:25.916Z"
   },
   {
    "duration": 0,
    "start_time": "2024-06-05T19:21:25.917Z"
   },
   {
    "duration": 0,
    "start_time": "2024-06-05T19:21:25.918Z"
   },
   {
    "duration": 0,
    "start_time": "2024-06-05T19:21:25.919Z"
   },
   {
    "duration": 0,
    "start_time": "2024-06-05T19:21:25.920Z"
   },
   {
    "duration": 0,
    "start_time": "2024-06-05T19:21:25.922Z"
   },
   {
    "duration": 0,
    "start_time": "2024-06-05T19:21:25.923Z"
   },
   {
    "duration": 0,
    "start_time": "2024-06-05T19:21:25.924Z"
   },
   {
    "duration": 0,
    "start_time": "2024-06-05T19:21:25.925Z"
   },
   {
    "duration": 0,
    "start_time": "2024-06-05T19:21:25.926Z"
   },
   {
    "duration": 0,
    "start_time": "2024-06-05T19:21:25.927Z"
   },
   {
    "duration": 0,
    "start_time": "2024-06-05T19:21:25.928Z"
   },
   {
    "duration": 1827,
    "start_time": "2024-06-05T19:23:31.280Z"
   },
   {
    "duration": 7309,
    "start_time": "2024-06-05T19:23:51.650Z"
   },
   {
    "duration": 1761,
    "start_time": "2024-06-05T19:23:58.961Z"
   },
   {
    "duration": 0,
    "start_time": "2024-06-05T19:24:00.724Z"
   },
   {
    "duration": 0,
    "start_time": "2024-06-05T19:24:00.725Z"
   },
   {
    "duration": 0,
    "start_time": "2024-06-05T19:24:00.726Z"
   },
   {
    "duration": 0,
    "start_time": "2024-06-05T19:24:00.727Z"
   },
   {
    "duration": 0,
    "start_time": "2024-06-05T19:24:00.727Z"
   },
   {
    "duration": 0,
    "start_time": "2024-06-05T19:24:00.728Z"
   },
   {
    "duration": 0,
    "start_time": "2024-06-05T19:24:00.729Z"
   },
   {
    "duration": 0,
    "start_time": "2024-06-05T19:24:00.730Z"
   },
   {
    "duration": 0,
    "start_time": "2024-06-05T19:24:00.731Z"
   },
   {
    "duration": 0,
    "start_time": "2024-06-05T19:24:00.731Z"
   },
   {
    "duration": 0,
    "start_time": "2024-06-05T19:24:00.732Z"
   },
   {
    "duration": 0,
    "start_time": "2024-06-05T19:24:00.733Z"
   },
   {
    "duration": 0,
    "start_time": "2024-06-05T19:24:00.734Z"
   },
   {
    "duration": 0,
    "start_time": "2024-06-05T19:24:00.734Z"
   },
   {
    "duration": 0,
    "start_time": "2024-06-05T19:24:00.735Z"
   },
   {
    "duration": 0,
    "start_time": "2024-06-05T19:24:00.736Z"
   },
   {
    "duration": 0,
    "start_time": "2024-06-05T19:24:00.737Z"
   },
   {
    "duration": 0,
    "start_time": "2024-06-05T19:24:00.738Z"
   },
   {
    "duration": 0,
    "start_time": "2024-06-05T19:24:00.738Z"
   },
   {
    "duration": 0,
    "start_time": "2024-06-05T19:24:00.739Z"
   },
   {
    "duration": 0,
    "start_time": "2024-06-05T19:24:00.740Z"
   },
   {
    "duration": 0,
    "start_time": "2024-06-05T19:24:00.741Z"
   },
   {
    "duration": 0,
    "start_time": "2024-06-05T19:24:00.742Z"
   },
   {
    "duration": 0,
    "start_time": "2024-06-05T19:24:00.744Z"
   },
   {
    "duration": 0,
    "start_time": "2024-06-05T19:24:00.745Z"
   },
   {
    "duration": 0,
    "start_time": "2024-06-05T19:24:00.746Z"
   },
   {
    "duration": 0,
    "start_time": "2024-06-05T19:24:00.747Z"
   },
   {
    "duration": 0,
    "start_time": "2024-06-05T19:24:00.748Z"
   },
   {
    "duration": 0,
    "start_time": "2024-06-05T19:24:00.749Z"
   },
   {
    "duration": 0,
    "start_time": "2024-06-05T19:24:00.750Z"
   },
   {
    "duration": 0,
    "start_time": "2024-06-05T19:24:00.751Z"
   },
   {
    "duration": 0,
    "start_time": "2024-06-05T19:24:00.789Z"
   },
   {
    "duration": 40,
    "start_time": "2024-06-05T19:24:29.612Z"
   },
   {
    "duration": 11,
    "start_time": "2024-06-05T19:24:29.849Z"
   },
   {
    "duration": 10538,
    "start_time": "2024-06-05T19:24:45.980Z"
   },
   {
    "duration": 15311,
    "start_time": "2024-06-05T19:24:56.520Z"
   },
   {
    "duration": 328,
    "start_time": "2024-06-05T19:25:11.832Z"
   },
   {
    "duration": 8,
    "start_time": "2024-06-05T19:25:12.161Z"
   },
   {
    "duration": 91,
    "start_time": "2024-06-05T19:25:12.171Z"
   },
   {
    "duration": 12,
    "start_time": "2024-06-05T19:25:12.263Z"
   },
   {
    "duration": 36,
    "start_time": "2024-06-05T19:25:12.277Z"
   },
   {
    "duration": 36,
    "start_time": "2024-06-05T19:25:12.314Z"
   },
   {
    "duration": 51,
    "start_time": "2024-06-05T19:25:12.352Z"
   },
   {
    "duration": 842,
    "start_time": "2024-06-05T19:25:12.405Z"
   },
   {
    "duration": 533,
    "start_time": "2024-06-05T19:25:13.248Z"
   },
   {
    "duration": 46,
    "start_time": "2024-06-05T19:25:13.782Z"
   },
   {
    "duration": 11,
    "start_time": "2024-06-05T19:25:13.829Z"
   },
   {
    "duration": 53,
    "start_time": "2024-06-05T19:25:13.841Z"
   },
   {
    "duration": 37,
    "start_time": "2024-06-05T19:25:13.895Z"
   },
   {
    "duration": 38,
    "start_time": "2024-06-05T19:25:13.933Z"
   },
   {
    "duration": 675,
    "start_time": "2024-06-05T19:25:13.973Z"
   },
   {
    "duration": 639,
    "start_time": "2024-06-05T19:25:14.650Z"
   },
   {
    "duration": 489,
    "start_time": "2024-06-05T19:25:15.291Z"
   },
   {
    "duration": 41,
    "start_time": "2024-06-05T19:25:15.789Z"
   },
   {
    "duration": 11,
    "start_time": "2024-06-05T19:25:15.831Z"
   },
   {
    "duration": 51,
    "start_time": "2024-06-05T19:25:15.843Z"
   },
   {
    "duration": 37,
    "start_time": "2024-06-05T19:25:15.895Z"
   },
   {
    "duration": 37,
    "start_time": "2024-06-05T19:25:15.933Z"
   },
   {
    "duration": 675,
    "start_time": "2024-06-05T19:25:15.971Z"
   },
   {
    "duration": 519,
    "start_time": "2024-06-05T19:25:16.647Z"
   },
   {
    "duration": 98,
    "start_time": "2024-06-05T19:25:17.167Z"
   },
   {
    "duration": 34,
    "start_time": "2024-06-05T19:25:17.267Z"
   },
   {
    "duration": 9846,
    "start_time": "2024-06-05T19:29:51.370Z"
   },
   {
    "duration": 7710,
    "start_time": "2024-06-05T19:30:01.218Z"
   },
   {
    "duration": 320,
    "start_time": "2024-06-05T19:30:08.929Z"
   },
   {
    "duration": 7,
    "start_time": "2024-06-05T19:30:09.251Z"
   },
   {
    "duration": 53,
    "start_time": "2024-06-05T19:30:09.259Z"
   },
   {
    "duration": 13,
    "start_time": "2024-06-05T19:30:09.313Z"
   },
   {
    "duration": 45,
    "start_time": "2024-06-05T19:30:09.327Z"
   },
   {
    "duration": 47,
    "start_time": "2024-06-05T19:30:09.373Z"
   },
   {
    "duration": 39,
    "start_time": "2024-06-05T19:30:09.421Z"
   },
   {
    "duration": 682,
    "start_time": "2024-06-05T19:30:09.462Z"
   },
   {
    "duration": 538,
    "start_time": "2024-06-05T19:30:10.145Z"
   },
   {
    "duration": 41,
    "start_time": "2024-06-05T19:30:10.689Z"
   },
   {
    "duration": 12,
    "start_time": "2024-06-05T19:30:10.731Z"
   },
   {
    "duration": 55,
    "start_time": "2024-06-05T19:30:10.744Z"
   },
   {
    "duration": 35,
    "start_time": "2024-06-05T19:30:10.801Z"
   },
   {
    "duration": 35,
    "start_time": "2024-06-05T19:30:10.838Z"
   },
   {
    "duration": 654,
    "start_time": "2024-06-05T19:30:10.889Z"
   },
   {
    "duration": 662,
    "start_time": "2024-06-05T19:30:11.544Z"
   },
   {
    "duration": 516,
    "start_time": "2024-06-05T19:30:12.207Z"
   },
   {
    "duration": 40,
    "start_time": "2024-06-05T19:30:12.725Z"
   },
   {
    "duration": 23,
    "start_time": "2024-06-05T19:30:12.767Z"
   },
   {
    "duration": 204,
    "start_time": "2024-06-05T19:30:12.791Z"
   },
   {
    "duration": 35,
    "start_time": "2024-06-05T19:30:12.996Z"
   },
   {
    "duration": 34,
    "start_time": "2024-06-05T19:30:13.033Z"
   },
   {
    "duration": 676,
    "start_time": "2024-06-05T19:30:13.069Z"
   },
   {
    "duration": 527,
    "start_time": "2024-06-05T19:30:13.746Z"
   },
   {
    "duration": 97,
    "start_time": "2024-06-05T19:30:14.274Z"
   },
   {
    "duration": 31,
    "start_time": "2024-06-05T19:30:14.374Z"
   },
   {
    "duration": 10377,
    "start_time": "2024-06-05T19:42:29.453Z"
   },
   {
    "duration": 8065,
    "start_time": "2024-06-05T19:42:39.832Z"
   },
   {
    "duration": 323,
    "start_time": "2024-06-05T19:42:47.899Z"
   },
   {
    "duration": 7,
    "start_time": "2024-06-05T19:42:48.224Z"
   },
   {
    "duration": 58,
    "start_time": "2024-06-05T19:42:48.232Z"
   },
   {
    "duration": 12,
    "start_time": "2024-06-05T19:42:48.292Z"
   },
   {
    "duration": 46,
    "start_time": "2024-06-05T19:42:48.306Z"
   },
   {
    "duration": 43,
    "start_time": "2024-06-05T19:42:48.354Z"
   },
   {
    "duration": 46,
    "start_time": "2024-06-05T19:42:48.398Z"
   },
   {
    "duration": 741,
    "start_time": "2024-06-05T19:42:48.446Z"
   },
   {
    "duration": 514,
    "start_time": "2024-06-05T19:42:49.189Z"
   },
   {
    "duration": 45,
    "start_time": "2024-06-05T19:42:49.704Z"
   },
   {
    "duration": 13,
    "start_time": "2024-06-05T19:42:49.750Z"
   },
   {
    "duration": 60,
    "start_time": "2024-06-05T19:42:49.765Z"
   },
   {
    "duration": 38,
    "start_time": "2024-06-05T19:42:49.827Z"
   },
   {
    "duration": 54,
    "start_time": "2024-06-05T19:42:49.867Z"
   },
   {
    "duration": 756,
    "start_time": "2024-06-05T19:42:49.923Z"
   },
   {
    "duration": 623,
    "start_time": "2024-06-05T19:42:50.680Z"
   },
   {
    "duration": 538,
    "start_time": "2024-06-05T19:42:51.304Z"
   },
   {
    "duration": 52,
    "start_time": "2024-06-05T19:42:51.843Z"
   },
   {
    "duration": 13,
    "start_time": "2024-06-05T19:42:51.897Z"
   },
   {
    "duration": 217,
    "start_time": "2024-06-05T19:42:51.912Z"
   },
   {
    "duration": 40,
    "start_time": "2024-06-05T19:42:52.130Z"
   },
   {
    "duration": 50,
    "start_time": "2024-06-05T19:42:52.171Z"
   },
   {
    "duration": 680,
    "start_time": "2024-06-05T19:42:52.223Z"
   },
   {
    "duration": 561,
    "start_time": "2024-06-05T19:42:52.905Z"
   },
   {
    "duration": 101,
    "start_time": "2024-06-05T19:42:53.467Z"
   },
   {
    "duration": 35,
    "start_time": "2024-06-05T19:42:53.571Z"
   },
   {
    "duration": 15684,
    "start_time": "2024-06-05T19:42:53.608Z"
   },
   {
    "duration": 3,
    "start_time": "2024-06-05T19:43:09.293Z"
   },
   {
    "duration": 10,
    "start_time": "2024-06-05T19:43:09.297Z"
   },
   {
    "duration": 15,
    "start_time": "2024-06-05T19:43:09.308Z"
   },
   {
    "duration": 135,
    "start_time": "2024-06-05T19:43:09.324Z"
   },
   {
    "duration": 5104,
    "start_time": "2024-06-05T19:43:09.460Z"
   },
   {
    "duration": 146757,
    "start_time": "2024-06-05T19:57:14.058Z"
   },
   {
    "duration": 10241,
    "start_time": "2024-06-05T20:03:26.741Z"
   },
   {
    "duration": 8013,
    "start_time": "2024-06-05T20:03:36.984Z"
   },
   {
    "duration": 324,
    "start_time": "2024-06-05T20:03:44.998Z"
   },
   {
    "duration": 8,
    "start_time": "2024-06-05T20:03:45.324Z"
   },
   {
    "duration": 71,
    "start_time": "2024-06-05T20:03:45.333Z"
   },
   {
    "duration": 13,
    "start_time": "2024-06-05T20:03:45.405Z"
   },
   {
    "duration": 79,
    "start_time": "2024-06-05T20:03:45.419Z"
   },
   {
    "duration": 36,
    "start_time": "2024-06-05T20:03:45.500Z"
   },
   {
    "duration": 39,
    "start_time": "2024-06-05T20:03:45.537Z"
   },
   {
    "duration": 682,
    "start_time": "2024-06-05T20:03:45.578Z"
   },
   {
    "duration": 519,
    "start_time": "2024-06-05T20:03:46.262Z"
   },
   {
    "duration": 56,
    "start_time": "2024-06-05T20:03:46.783Z"
   },
   {
    "duration": 12,
    "start_time": "2024-06-05T20:03:46.840Z"
   },
   {
    "duration": 54,
    "start_time": "2024-06-05T20:03:46.853Z"
   },
   {
    "duration": 34,
    "start_time": "2024-06-05T20:03:46.909Z"
   },
   {
    "duration": 54,
    "start_time": "2024-06-05T20:03:46.944Z"
   },
   {
    "duration": 662,
    "start_time": "2024-06-05T20:03:46.999Z"
   },
   {
    "duration": 652,
    "start_time": "2024-06-05T20:03:47.662Z"
   },
   {
    "duration": 549,
    "start_time": "2024-06-05T20:03:48.315Z"
   },
   {
    "duration": 57,
    "start_time": "2024-06-05T20:03:48.865Z"
   },
   {
    "duration": 12,
    "start_time": "2024-06-05T20:03:48.923Z"
   },
   {
    "duration": 196,
    "start_time": "2024-06-05T20:03:48.936Z"
   },
   {
    "duration": 36,
    "start_time": "2024-06-05T20:03:49.133Z"
   },
   {
    "duration": 49,
    "start_time": "2024-06-05T20:03:49.170Z"
   },
   {
    "duration": 693,
    "start_time": "2024-06-05T20:03:49.220Z"
   },
   {
    "duration": 537,
    "start_time": "2024-06-05T20:03:49.915Z"
   },
   {
    "duration": 101,
    "start_time": "2024-06-05T20:03:50.454Z"
   },
   {
    "duration": 36,
    "start_time": "2024-06-05T20:03:50.558Z"
   },
   {
    "duration": 9016,
    "start_time": "2024-06-05T20:03:50.596Z"
   },
   {
    "duration": 2,
    "start_time": "2024-06-05T20:03:59.614Z"
   },
   {
    "duration": 8,
    "start_time": "2024-06-05T20:03:59.618Z"
   },
   {
    "duration": 4,
    "start_time": "2024-06-05T20:03:59.627Z"
   },
   {
    "duration": 199,
    "start_time": "2024-06-05T20:03:59.633Z"
   },
   {
    "duration": 5145,
    "start_time": "2024-06-05T20:03:59.834Z"
   },
   {
    "duration": 2,
    "start_time": "2024-06-06T15:42:37.633Z"
   },
   {
    "duration": 329,
    "start_time": "2024-06-06T15:42:56.831Z"
   },
   {
    "duration": 10366,
    "start_time": "2024-06-06T15:44:46.388Z"
   },
   {
    "duration": 8293,
    "start_time": "2024-06-06T15:44:56.756Z"
   },
   {
    "duration": 325,
    "start_time": "2024-06-06T15:45:05.050Z"
   },
   {
    "duration": 51,
    "start_time": "2024-06-06T15:45:05.377Z"
   },
   {
    "duration": 12,
    "start_time": "2024-06-06T15:45:05.430Z"
   },
   {
    "duration": 52,
    "start_time": "2024-06-06T15:45:05.444Z"
   },
   {
    "duration": 40,
    "start_time": "2024-06-06T15:45:05.498Z"
   },
   {
    "duration": 57,
    "start_time": "2024-06-06T15:45:05.540Z"
   },
   {
    "duration": 714,
    "start_time": "2024-06-06T15:45:05.599Z"
   },
   {
    "duration": 556,
    "start_time": "2024-06-06T15:45:06.316Z"
   },
   {
    "duration": 55,
    "start_time": "2024-06-06T15:45:06.874Z"
   },
   {
    "duration": 12,
    "start_time": "2024-06-06T15:45:06.930Z"
   },
   {
    "duration": 57,
    "start_time": "2024-06-06T15:45:06.943Z"
   },
   {
    "duration": 34,
    "start_time": "2024-06-06T15:45:07.001Z"
   },
   {
    "duration": 37,
    "start_time": "2024-06-06T15:45:07.037Z"
   },
   {
    "duration": 704,
    "start_time": "2024-06-06T15:45:07.089Z"
   },
   {
    "duration": 626,
    "start_time": "2024-06-06T15:45:07.794Z"
   },
   {
    "duration": 558,
    "start_time": "2024-06-06T15:45:08.422Z"
   },
   {
    "duration": 43,
    "start_time": "2024-06-06T15:45:08.989Z"
   },
   {
    "duration": 12,
    "start_time": "2024-06-06T15:45:09.033Z"
   },
   {
    "duration": 222,
    "start_time": "2024-06-06T15:45:09.047Z"
   },
   {
    "duration": 50,
    "start_time": "2024-06-06T15:45:09.271Z"
   },
   {
    "duration": 37,
    "start_time": "2024-06-06T15:45:09.322Z"
   },
   {
    "duration": 701,
    "start_time": "2024-06-06T15:45:09.361Z"
   },
   {
    "duration": 556,
    "start_time": "2024-06-06T15:45:10.063Z"
   },
   {
    "duration": 105,
    "start_time": "2024-06-06T15:45:10.621Z"
   },
   {
    "duration": 29,
    "start_time": "2024-06-06T15:45:10.727Z"
   },
   {
    "duration": 9229,
    "start_time": "2024-06-06T15:45:10.760Z"
   },
   {
    "duration": 2,
    "start_time": "2024-06-06T15:45:19.990Z"
   },
   {
    "duration": 53,
    "start_time": "2024-06-06T15:45:19.993Z"
   },
   {
    "duration": 37,
    "start_time": "2024-06-06T15:45:20.048Z"
   },
   {
    "duration": 185,
    "start_time": "2024-06-06T15:45:20.086Z"
   },
   {
    "duration": 5164,
    "start_time": "2024-06-06T15:45:20.273Z"
   },
   {
    "duration": 9101,
    "start_time": "2024-06-06T15:46:48.995Z"
   },
   {
    "duration": 10381,
    "start_time": "2024-06-06T15:49:44.578Z"
   },
   {
    "duration": 8438,
    "start_time": "2024-06-06T15:49:54.961Z"
   },
   {
    "duration": 327,
    "start_time": "2024-06-06T15:50:03.400Z"
   },
   {
    "duration": 49,
    "start_time": "2024-06-06T15:50:03.729Z"
   },
   {
    "duration": 22,
    "start_time": "2024-06-06T15:50:03.779Z"
   },
   {
    "duration": 50,
    "start_time": "2024-06-06T15:50:03.802Z"
   },
   {
    "duration": 68,
    "start_time": "2024-06-06T15:50:03.854Z"
   },
   {
    "duration": 41,
    "start_time": "2024-06-06T15:50:03.924Z"
   },
   {
    "duration": 728,
    "start_time": "2024-06-06T15:50:03.966Z"
   },
   {
    "duration": 540,
    "start_time": "2024-06-06T15:50:04.696Z"
   },
   {
    "duration": 53,
    "start_time": "2024-06-06T15:50:05.237Z"
   },
   {
    "duration": 12,
    "start_time": "2024-06-06T15:50:05.291Z"
   },
   {
    "duration": 62,
    "start_time": "2024-06-06T15:50:05.304Z"
   },
   {
    "duration": 48,
    "start_time": "2024-06-06T15:50:05.367Z"
   },
   {
    "duration": 38,
    "start_time": "2024-06-06T15:50:05.417Z"
   },
   {
    "duration": 716,
    "start_time": "2024-06-06T15:50:05.457Z"
   },
   {
    "duration": 642,
    "start_time": "2024-06-06T15:50:06.175Z"
   },
   {
    "duration": 559,
    "start_time": "2024-06-06T15:50:06.819Z"
   },
   {
    "duration": 55,
    "start_time": "2024-06-06T15:50:07.379Z"
   },
   {
    "duration": 16,
    "start_time": "2024-06-06T15:50:07.435Z"
   },
   {
    "duration": 238,
    "start_time": "2024-06-06T15:50:07.453Z"
   },
   {
    "duration": 38,
    "start_time": "2024-06-06T15:50:07.693Z"
   },
   {
    "duration": 37,
    "start_time": "2024-06-06T15:50:07.732Z"
   },
   {
    "duration": 718,
    "start_time": "2024-06-06T15:50:07.771Z"
   },
   {
    "duration": 572,
    "start_time": "2024-06-06T15:50:08.491Z"
   },
   {
    "duration": 103,
    "start_time": "2024-06-06T15:50:09.064Z"
   },
   {
    "duration": 37,
    "start_time": "2024-06-06T15:50:09.169Z"
   },
   {
    "duration": 8728,
    "start_time": "2024-06-06T15:50:09.209Z"
   },
   {
    "duration": 2,
    "start_time": "2024-06-06T15:50:17.938Z"
   },
   {
    "duration": 11,
    "start_time": "2024-06-06T15:50:17.942Z"
   },
   {
    "duration": 3,
    "start_time": "2024-06-06T15:50:17.954Z"
   },
   {
    "duration": 423,
    "start_time": "2024-06-06T15:50:17.958Z"
   },
   {
    "duration": 5179,
    "start_time": "2024-06-06T15:50:18.382Z"
   },
   {
    "duration": 10427,
    "start_time": "2024-06-06T16:05:11.358Z"
   },
   {
    "duration": 8336,
    "start_time": "2024-06-06T16:05:21.788Z"
   },
   {
    "duration": 389,
    "start_time": "2024-06-06T16:05:30.125Z"
   },
   {
    "duration": 62,
    "start_time": "2024-06-06T16:05:30.517Z"
   },
   {
    "duration": 20,
    "start_time": "2024-06-06T16:05:30.581Z"
   },
   {
    "duration": 78,
    "start_time": "2024-06-06T16:05:30.602Z"
   },
   {
    "duration": 82,
    "start_time": "2024-06-06T16:05:30.681Z"
   },
   {
    "duration": 48,
    "start_time": "2024-06-06T16:05:30.765Z"
   },
   {
    "duration": 754,
    "start_time": "2024-06-06T16:05:30.814Z"
   },
   {
    "duration": 571,
    "start_time": "2024-06-06T16:05:31.571Z"
   },
   {
    "duration": 61,
    "start_time": "2024-06-06T16:05:32.143Z"
   },
   {
    "duration": 17,
    "start_time": "2024-06-06T16:05:32.206Z"
   },
   {
    "duration": 70,
    "start_time": "2024-06-06T16:05:32.224Z"
   },
   {
    "duration": 39,
    "start_time": "2024-06-06T16:05:32.295Z"
   },
   {
    "duration": 76,
    "start_time": "2024-06-06T16:05:32.336Z"
   },
   {
    "duration": 781,
    "start_time": "2024-06-06T16:05:32.414Z"
   },
   {
    "duration": 642,
    "start_time": "2024-06-06T16:05:33.197Z"
   },
   {
    "duration": 535,
    "start_time": "2024-06-06T16:05:33.841Z"
   },
   {
    "duration": 57,
    "start_time": "2024-06-06T16:05:34.378Z"
   },
   {
    "duration": 13,
    "start_time": "2024-06-06T16:05:34.436Z"
   },
   {
    "duration": 248,
    "start_time": "2024-06-06T16:05:34.451Z"
   },
   {
    "duration": 40,
    "start_time": "2024-06-06T16:05:34.700Z"
   },
   {
    "duration": 54,
    "start_time": "2024-06-06T16:05:34.741Z"
   },
   {
    "duration": 773,
    "start_time": "2024-06-06T16:05:34.796Z"
   },
   {
    "duration": 525,
    "start_time": "2024-06-06T16:05:35.571Z"
   },
   {
    "duration": 104,
    "start_time": "2024-06-06T16:05:36.097Z"
   },
   {
    "duration": 27,
    "start_time": "2024-06-06T16:05:36.203Z"
   },
   {
    "duration": 8998,
    "start_time": "2024-06-06T16:05:36.233Z"
   },
   {
    "duration": 7,
    "start_time": "2024-06-06T16:05:45.233Z"
   },
   {
    "duration": 29,
    "start_time": "2024-06-06T16:05:45.241Z"
   },
   {
    "duration": 520,
    "start_time": "2024-06-06T16:05:45.272Z"
   },
   {
    "duration": 10268,
    "start_time": "2024-06-06T16:08:07.420Z"
   },
   {
    "duration": 8125,
    "start_time": "2024-06-06T16:08:17.691Z"
   },
   {
    "duration": 327,
    "start_time": "2024-06-06T16:08:25.818Z"
   },
   {
    "duration": 54,
    "start_time": "2024-06-06T16:08:26.146Z"
   },
   {
    "duration": 13,
    "start_time": "2024-06-06T16:08:26.201Z"
   },
   {
    "duration": 75,
    "start_time": "2024-06-06T16:08:26.215Z"
   },
   {
    "duration": 40,
    "start_time": "2024-06-06T16:08:26.291Z"
   },
   {
    "duration": 39,
    "start_time": "2024-06-06T16:08:26.333Z"
   },
   {
    "duration": 719,
    "start_time": "2024-06-06T16:08:26.373Z"
   },
   {
    "duration": 582,
    "start_time": "2024-06-06T16:08:27.094Z"
   },
   {
    "duration": 50,
    "start_time": "2024-06-06T16:08:27.677Z"
   },
   {
    "duration": 14,
    "start_time": "2024-06-06T16:08:27.729Z"
   },
   {
    "duration": 82,
    "start_time": "2024-06-06T16:08:27.744Z"
   },
   {
    "duration": 36,
    "start_time": "2024-06-06T16:08:27.827Z"
   },
   {
    "duration": 56,
    "start_time": "2024-06-06T16:08:27.864Z"
   },
   {
    "duration": 700,
    "start_time": "2024-06-06T16:08:27.921Z"
   },
   {
    "duration": 650,
    "start_time": "2024-06-06T16:08:28.622Z"
   },
   {
    "duration": 520,
    "start_time": "2024-06-06T16:08:29.273Z"
   },
   {
    "duration": 46,
    "start_time": "2024-06-06T16:08:29.794Z"
   },
   {
    "duration": 13,
    "start_time": "2024-06-06T16:08:29.841Z"
   },
   {
    "duration": 235,
    "start_time": "2024-06-06T16:08:29.855Z"
   },
   {
    "duration": 41,
    "start_time": "2024-06-06T16:08:30.091Z"
   },
   {
    "duration": 38,
    "start_time": "2024-06-06T16:08:30.134Z"
   },
   {
    "duration": 727,
    "start_time": "2024-06-06T16:08:30.189Z"
   },
   {
    "duration": 555,
    "start_time": "2024-06-06T16:08:30.918Z"
   },
   {
    "duration": 107,
    "start_time": "2024-06-06T16:08:31.474Z"
   },
   {
    "duration": 35,
    "start_time": "2024-06-06T16:08:31.582Z"
   },
   {
    "duration": 9687,
    "start_time": "2024-06-06T16:08:31.619Z"
   },
   {
    "duration": 8,
    "start_time": "2024-06-06T16:08:41.307Z"
   },
   {
    "duration": 12,
    "start_time": "2024-06-06T16:08:41.316Z"
   },
   {
    "duration": 10246,
    "start_time": "2024-06-06T16:11:05.315Z"
   },
   {
    "duration": 8379,
    "start_time": "2024-06-06T16:11:15.563Z"
   },
   {
    "duration": 323,
    "start_time": "2024-06-06T16:11:23.944Z"
   },
   {
    "duration": 48,
    "start_time": "2024-06-06T16:11:24.269Z"
   },
   {
    "duration": 11,
    "start_time": "2024-06-06T16:11:24.319Z"
   },
   {
    "duration": 71,
    "start_time": "2024-06-06T16:11:24.332Z"
   },
   {
    "duration": 41,
    "start_time": "2024-06-06T16:11:24.405Z"
   },
   {
    "duration": 57,
    "start_time": "2024-06-06T16:11:24.447Z"
   },
   {
    "duration": 726,
    "start_time": "2024-06-06T16:11:24.506Z"
   },
   {
    "duration": 546,
    "start_time": "2024-06-06T16:11:25.235Z"
   },
   {
    "duration": 49,
    "start_time": "2024-06-06T16:11:25.782Z"
   },
   {
    "duration": 13,
    "start_time": "2024-06-06T16:11:25.832Z"
   },
   {
    "duration": 76,
    "start_time": "2024-06-06T16:11:25.847Z"
   },
   {
    "duration": 38,
    "start_time": "2024-06-06T16:11:25.924Z"
   },
   {
    "duration": 37,
    "start_time": "2024-06-06T16:11:25.989Z"
   },
   {
    "duration": 747,
    "start_time": "2024-06-06T16:11:26.028Z"
   },
   {
    "duration": 633,
    "start_time": "2024-06-06T16:11:26.776Z"
   },
   {
    "duration": 565,
    "start_time": "2024-06-06T16:11:27.410Z"
   },
   {
    "duration": 57,
    "start_time": "2024-06-06T16:11:27.977Z"
   },
   {
    "duration": 18,
    "start_time": "2024-06-06T16:11:28.035Z"
   },
   {
    "duration": 218,
    "start_time": "2024-06-06T16:11:28.055Z"
   },
   {
    "duration": 39,
    "start_time": "2024-06-06T16:11:28.289Z"
   },
   {
    "duration": 37,
    "start_time": "2024-06-06T16:11:28.330Z"
   },
   {
    "duration": 718,
    "start_time": "2024-06-06T16:11:28.369Z"
   },
   {
    "duration": 544,
    "start_time": "2024-06-06T16:11:29.089Z"
   },
   {
    "duration": 107,
    "start_time": "2024-06-06T16:11:29.634Z"
   },
   {
    "duration": 27,
    "start_time": "2024-06-06T16:11:29.743Z"
   },
   {
    "duration": 8725,
    "start_time": "2024-06-06T16:11:29.773Z"
   },
   {
    "duration": 7,
    "start_time": "2024-06-06T16:11:38.499Z"
   },
   {
    "duration": 5,
    "start_time": "2024-06-06T16:11:38.507Z"
   },
   {
    "duration": 392078,
    "start_time": "2024-06-06T16:11:38.513Z"
   },
   {
    "duration": 10474,
    "start_time": "2024-06-06T16:22:36.342Z"
   },
   {
    "duration": 8202,
    "start_time": "2024-06-06T16:22:46.819Z"
   },
   {
    "duration": 338,
    "start_time": "2024-06-06T16:22:55.022Z"
   },
   {
    "duration": 53,
    "start_time": "2024-06-06T16:22:55.362Z"
   },
   {
    "duration": 12,
    "start_time": "2024-06-06T16:22:55.417Z"
   },
   {
    "duration": 65,
    "start_time": "2024-06-06T16:22:55.430Z"
   },
   {
    "duration": 38,
    "start_time": "2024-06-06T16:22:55.497Z"
   },
   {
    "duration": 53,
    "start_time": "2024-06-06T16:22:55.537Z"
   },
   {
    "duration": 696,
    "start_time": "2024-06-06T16:22:55.591Z"
   },
   {
    "duration": 567,
    "start_time": "2024-06-06T16:22:56.290Z"
   },
   {
    "duration": 58,
    "start_time": "2024-06-06T16:22:56.859Z"
   },
   {
    "duration": 14,
    "start_time": "2024-06-06T16:22:56.919Z"
   },
   {
    "duration": 78,
    "start_time": "2024-06-06T16:22:56.934Z"
   },
   {
    "duration": 36,
    "start_time": "2024-06-06T16:22:57.014Z"
   },
   {
    "duration": 46,
    "start_time": "2024-06-06T16:22:57.052Z"
   },
   {
    "duration": 672,
    "start_time": "2024-06-06T16:22:57.099Z"
   },
   {
    "duration": 645,
    "start_time": "2024-06-06T16:22:57.772Z"
   },
   {
    "duration": 555,
    "start_time": "2024-06-06T16:22:58.418Z"
   },
   {
    "duration": 53,
    "start_time": "2024-06-06T16:22:58.974Z"
   },
   {
    "duration": 12,
    "start_time": "2024-06-06T16:22:59.028Z"
   },
   {
    "duration": 218,
    "start_time": "2024-06-06T16:22:59.041Z"
   },
   {
    "duration": 55,
    "start_time": "2024-06-06T16:22:59.260Z"
   },
   {
    "duration": 42,
    "start_time": "2024-06-06T16:22:59.316Z"
   },
   {
    "duration": 713,
    "start_time": "2024-06-06T16:22:59.360Z"
   },
   {
    "duration": 544,
    "start_time": "2024-06-06T16:23:00.075Z"
   },
   {
    "duration": 121,
    "start_time": "2024-06-06T16:23:00.621Z"
   },
   {
    "duration": 125,
    "start_time": "2024-06-06T16:23:00.744Z"
   },
   {
    "duration": 219,
    "start_time": "2024-06-06T16:23:00.872Z"
   },
   {
    "duration": 427,
    "start_time": "2024-06-06T16:23:01.092Z"
   },
   {
    "duration": 0,
    "start_time": "2024-06-06T16:23:01.521Z"
   },
   {
    "duration": 0,
    "start_time": "2024-06-06T16:23:01.522Z"
   },
   {
    "duration": 10363,
    "start_time": "2024-06-06T16:23:47.647Z"
   },
   {
    "duration": 8159,
    "start_time": "2024-06-06T16:23:58.012Z"
   },
   {
    "duration": 351,
    "start_time": "2024-06-06T16:24:06.173Z"
   },
   {
    "duration": 51,
    "start_time": "2024-06-06T16:24:06.525Z"
   },
   {
    "duration": 21,
    "start_time": "2024-06-06T16:24:06.578Z"
   },
   {
    "duration": 50,
    "start_time": "2024-06-06T16:24:06.601Z"
   },
   {
    "duration": 64,
    "start_time": "2024-06-06T16:24:06.652Z"
   },
   {
    "duration": 39,
    "start_time": "2024-06-06T16:24:06.717Z"
   },
   {
    "duration": 709,
    "start_time": "2024-06-06T16:24:06.758Z"
   },
   {
    "duration": 561,
    "start_time": "2024-06-06T16:24:07.469Z"
   },
   {
    "duration": 43,
    "start_time": "2024-06-06T16:24:08.032Z"
   },
   {
    "duration": 23,
    "start_time": "2024-06-06T16:24:08.076Z"
   },
   {
    "duration": 46,
    "start_time": "2024-06-06T16:24:08.100Z"
   },
   {
    "duration": 61,
    "start_time": "2024-06-06T16:24:08.147Z"
   },
   {
    "duration": 39,
    "start_time": "2024-06-06T16:24:08.209Z"
   },
   {
    "duration": 720,
    "start_time": "2024-06-06T16:24:08.250Z"
   },
   {
    "duration": 660,
    "start_time": "2024-06-06T16:24:08.971Z"
   },
   {
    "duration": 560,
    "start_time": "2024-06-06T16:24:09.632Z"
   },
   {
    "duration": 47,
    "start_time": "2024-06-06T16:24:10.193Z"
   },
   {
    "duration": 12,
    "start_time": "2024-06-06T16:24:10.242Z"
   },
   {
    "duration": 243,
    "start_time": "2024-06-06T16:24:10.255Z"
   },
   {
    "duration": 39,
    "start_time": "2024-06-06T16:24:10.500Z"
   },
   {
    "duration": 53,
    "start_time": "2024-06-06T16:24:10.540Z"
   },
   {
    "duration": 682,
    "start_time": "2024-06-06T16:24:10.594Z"
   },
   {
    "duration": 517,
    "start_time": "2024-06-06T16:24:11.278Z"
   },
   {
    "duration": 109,
    "start_time": "2024-06-06T16:24:11.796Z"
   },
   {
    "duration": 29,
    "start_time": "2024-06-06T16:24:11.907Z"
   },
   {
    "duration": 159,
    "start_time": "2024-06-06T16:24:11.939Z"
   },
   {
    "duration": 7525,
    "start_time": "2024-06-06T16:24:12.100Z"
   },
   {
    "duration": 3,
    "start_time": "2024-06-06T16:24:19.627Z"
   },
   {
    "duration": 434,
    "start_time": "2024-06-06T16:24:19.632Z"
   },
   {
    "duration": 6,
    "start_time": "2024-06-06T16:30:03.365Z"
   },
   {
    "duration": 51,
    "start_time": "2024-06-06T16:30:40.830Z"
   },
   {
    "duration": 8,
    "start_time": "2024-06-06T16:48:44.408Z"
   },
   {
    "duration": 10503,
    "start_time": "2024-06-06T16:48:58.647Z"
   },
   {
    "duration": 7995,
    "start_time": "2024-06-06T16:49:09.152Z"
   },
   {
    "duration": 320,
    "start_time": "2024-06-06T16:49:17.149Z"
   },
   {
    "duration": 51,
    "start_time": "2024-06-06T16:49:17.470Z"
   },
   {
    "duration": 13,
    "start_time": "2024-06-06T16:49:17.522Z"
   },
   {
    "duration": 66,
    "start_time": "2024-06-06T16:49:17.536Z"
   },
   {
    "duration": 37,
    "start_time": "2024-06-06T16:49:17.603Z"
   },
   {
    "duration": 56,
    "start_time": "2024-06-06T16:49:17.642Z"
   },
   {
    "duration": 708,
    "start_time": "2024-06-06T16:49:17.699Z"
   },
   {
    "duration": 566,
    "start_time": "2024-06-06T16:49:18.410Z"
   },
   {
    "duration": 47,
    "start_time": "2024-06-06T16:49:18.978Z"
   },
   {
    "duration": 11,
    "start_time": "2024-06-06T16:49:19.027Z"
   },
   {
    "duration": 72,
    "start_time": "2024-06-06T16:49:19.039Z"
   },
   {
    "duration": 35,
    "start_time": "2024-06-06T16:49:19.112Z"
   },
   {
    "duration": 49,
    "start_time": "2024-06-06T16:49:19.148Z"
   },
   {
    "duration": 671,
    "start_time": "2024-06-06T16:49:19.199Z"
   },
   {
    "duration": 641,
    "start_time": "2024-06-06T16:49:19.871Z"
   },
   {
    "duration": 563,
    "start_time": "2024-06-06T16:49:20.513Z"
   },
   {
    "duration": 53,
    "start_time": "2024-06-06T16:49:21.077Z"
   },
   {
    "duration": 16,
    "start_time": "2024-06-06T16:49:21.131Z"
   },
   {
    "duration": 256,
    "start_time": "2024-06-06T16:49:21.148Z"
   },
   {
    "duration": 41,
    "start_time": "2024-06-06T16:49:21.405Z"
   },
   {
    "duration": 56,
    "start_time": "2024-06-06T16:49:21.448Z"
   },
   {
    "duration": 668,
    "start_time": "2024-06-06T16:49:21.505Z"
   },
   {
    "duration": 528,
    "start_time": "2024-06-06T16:49:22.175Z"
   },
   {
    "duration": 104,
    "start_time": "2024-06-06T16:49:22.705Z"
   },
   {
    "duration": 28,
    "start_time": "2024-06-06T16:49:22.810Z"
   },
   {
    "duration": 149,
    "start_time": "2024-06-06T16:49:22.841Z"
   },
   {
    "duration": 98,
    "start_time": "2024-06-06T16:49:22.992Z"
   },
   {
    "duration": 11,
    "start_time": "2024-06-06T16:49:23.091Z"
   },
   {
    "duration": 7259,
    "start_time": "2024-06-06T16:49:23.103Z"
   },
   {
    "duration": 504,
    "start_time": "2024-06-06T16:49:30.363Z"
   },
   {
    "duration": 10500,
    "start_time": "2024-06-06T16:51:25.594Z"
   },
   {
    "duration": 8387,
    "start_time": "2024-06-06T16:51:36.096Z"
   },
   {
    "duration": 332,
    "start_time": "2024-06-06T16:51:44.485Z"
   },
   {
    "duration": 48,
    "start_time": "2024-06-06T16:51:44.820Z"
   },
   {
    "duration": 13,
    "start_time": "2024-06-06T16:51:44.869Z"
   },
   {
    "duration": 48,
    "start_time": "2024-06-06T16:51:44.890Z"
   },
   {
    "duration": 65,
    "start_time": "2024-06-06T16:51:44.939Z"
   },
   {
    "duration": 41,
    "start_time": "2024-06-06T16:51:45.006Z"
   },
   {
    "duration": 719,
    "start_time": "2024-06-06T16:51:45.048Z"
   },
   {
    "duration": 553,
    "start_time": "2024-06-06T16:51:45.771Z"
   },
   {
    "duration": 46,
    "start_time": "2024-06-06T16:51:46.326Z"
   },
   {
    "duration": 27,
    "start_time": "2024-06-06T16:51:46.373Z"
   },
   {
    "duration": 88,
    "start_time": "2024-06-06T16:51:46.402Z"
   },
   {
    "duration": 49,
    "start_time": "2024-06-06T16:51:46.492Z"
   },
   {
    "duration": 49,
    "start_time": "2024-06-06T16:51:46.542Z"
   },
   {
    "duration": 669,
    "start_time": "2024-06-06T16:51:46.592Z"
   },
   {
    "duration": 664,
    "start_time": "2024-06-06T16:51:47.263Z"
   },
   {
    "duration": 570,
    "start_time": "2024-06-06T16:51:47.929Z"
   },
   {
    "duration": 47,
    "start_time": "2024-06-06T16:51:48.501Z"
   },
   {
    "duration": 14,
    "start_time": "2024-06-06T16:51:48.550Z"
   },
   {
    "duration": 239,
    "start_time": "2024-06-06T16:51:48.565Z"
   },
   {
    "duration": 37,
    "start_time": "2024-06-06T16:51:48.806Z"
   },
   {
    "duration": 54,
    "start_time": "2024-06-06T16:51:48.844Z"
   },
   {
    "duration": 698,
    "start_time": "2024-06-06T16:51:48.900Z"
   },
   {
    "duration": 559,
    "start_time": "2024-06-06T16:51:49.600Z"
   },
   {
    "duration": 108,
    "start_time": "2024-06-06T16:51:50.161Z"
   },
   {
    "duration": 38,
    "start_time": "2024-06-06T16:51:50.271Z"
   },
   {
    "duration": 188,
    "start_time": "2024-06-06T16:51:50.312Z"
   },
   {
    "duration": 95,
    "start_time": "2024-06-06T16:51:50.504Z"
   },
   {
    "duration": 99,
    "start_time": "2024-06-06T16:51:50.601Z"
   },
   {
    "duration": 7360,
    "start_time": "2024-06-06T16:51:50.702Z"
   },
   {
    "duration": 483,
    "start_time": "2024-06-06T16:51:58.063Z"
   },
   {
    "duration": 10449,
    "start_time": "2024-06-06T17:03:55.436Z"
   },
   {
    "duration": 8403,
    "start_time": "2024-06-06T17:04:05.888Z"
   },
   {
    "duration": 330,
    "start_time": "2024-06-06T17:04:14.292Z"
   },
   {
    "duration": 52,
    "start_time": "2024-06-06T17:04:14.623Z"
   },
   {
    "duration": 22,
    "start_time": "2024-06-06T17:04:14.676Z"
   },
   {
    "duration": 66,
    "start_time": "2024-06-06T17:04:14.699Z"
   },
   {
    "duration": 54,
    "start_time": "2024-06-06T17:04:14.767Z"
   },
   {
    "duration": 42,
    "start_time": "2024-06-06T17:04:14.823Z"
   },
   {
    "duration": 798,
    "start_time": "2024-06-06T17:04:14.866Z"
   },
   {
    "duration": 573,
    "start_time": "2024-06-06T17:04:15.666Z"
   },
   {
    "duration": 71,
    "start_time": "2024-06-06T17:04:16.240Z"
   },
   {
    "duration": 19,
    "start_time": "2024-06-06T17:04:16.313Z"
   },
   {
    "duration": 92,
    "start_time": "2024-06-06T17:04:16.334Z"
   },
   {
    "duration": 61,
    "start_time": "2024-06-06T17:04:16.428Z"
   },
   {
    "duration": 52,
    "start_time": "2024-06-06T17:04:16.491Z"
   },
   {
    "duration": 747,
    "start_time": "2024-06-06T17:04:16.545Z"
   },
   {
    "duration": 625,
    "start_time": "2024-06-06T17:04:17.293Z"
   },
   {
    "duration": 590,
    "start_time": "2024-06-06T17:04:17.919Z"
   },
   {
    "duration": 45,
    "start_time": "2024-06-06T17:04:18.510Z"
   },
   {
    "duration": 34,
    "start_time": "2024-06-06T17:04:18.556Z"
   },
   {
    "duration": 221,
    "start_time": "2024-06-06T17:04:18.591Z"
   },
   {
    "duration": 38,
    "start_time": "2024-06-06T17:04:18.813Z"
   },
   {
    "duration": 57,
    "start_time": "2024-06-06T17:04:18.853Z"
   },
   {
    "duration": 692,
    "start_time": "2024-06-06T17:04:18.911Z"
   },
   {
    "duration": 566,
    "start_time": "2024-06-06T17:04:19.604Z"
   },
   {
    "duration": 110,
    "start_time": "2024-06-06T17:04:20.171Z"
   },
   {
    "duration": 33,
    "start_time": "2024-06-06T17:04:20.282Z"
   },
   {
    "duration": 172,
    "start_time": "2024-06-06T17:04:20.318Z"
   },
   {
    "duration": 9,
    "start_time": "2024-06-06T17:04:20.491Z"
   },
   {
    "duration": 115,
    "start_time": "2024-06-06T17:04:20.504Z"
   },
   {
    "duration": 7406,
    "start_time": "2024-06-06T17:04:20.620Z"
   },
   {
    "duration": 446,
    "start_time": "2024-06-06T17:04:28.027Z"
   },
   {
    "duration": 7980,
    "start_time": "2024-06-06T17:14:10.170Z"
   },
   {
    "duration": 196,
    "start_time": "2024-06-06T17:19:03.927Z"
   },
   {
    "duration": 102,
    "start_time": "2024-06-06T17:22:58.048Z"
   },
   {
    "duration": 116,
    "start_time": "2024-06-06T17:23:08.827Z"
   },
   {
    "duration": 99,
    "start_time": "2024-06-06T17:23:22.579Z"
   },
   {
    "duration": 107,
    "start_time": "2024-06-06T17:23:55.024Z"
   },
   {
    "duration": 105,
    "start_time": "2024-06-06T17:25:26.008Z"
   },
   {
    "duration": 115,
    "start_time": "2024-06-06T17:25:37.358Z"
   },
   {
    "duration": 106,
    "start_time": "2024-06-06T17:25:44.510Z"
   },
   {
    "duration": 115,
    "start_time": "2024-06-06T17:25:47.908Z"
   },
   {
    "duration": 200,
    "start_time": "2024-06-06T17:42:08.612Z"
   },
   {
    "duration": 263,
    "start_time": "2024-06-06T17:43:19.445Z"
   },
   {
    "duration": 7,
    "start_time": "2024-06-06T17:43:47.075Z"
   },
   {
    "duration": 10713,
    "start_time": "2024-06-06T17:45:17.538Z"
   },
   {
    "duration": 9261,
    "start_time": "2024-06-06T17:45:28.253Z"
   },
   {
    "duration": 346,
    "start_time": "2024-06-06T17:45:37.515Z"
   },
   {
    "duration": 56,
    "start_time": "2024-06-06T17:45:37.863Z"
   },
   {
    "duration": 14,
    "start_time": "2024-06-06T17:45:37.920Z"
   },
   {
    "duration": 69,
    "start_time": "2024-06-06T17:45:37.935Z"
   },
   {
    "duration": 45,
    "start_time": "2024-06-06T17:45:38.006Z"
   },
   {
    "duration": 58,
    "start_time": "2024-06-06T17:45:38.052Z"
   },
   {
    "duration": 760,
    "start_time": "2024-06-06T17:45:38.111Z"
   },
   {
    "duration": 618,
    "start_time": "2024-06-06T17:45:38.874Z"
   },
   {
    "duration": 50,
    "start_time": "2024-06-06T17:45:39.494Z"
   },
   {
    "duration": 13,
    "start_time": "2024-06-06T17:45:39.545Z"
   },
   {
    "duration": 80,
    "start_time": "2024-06-06T17:45:39.560Z"
   },
   {
    "duration": 54,
    "start_time": "2024-06-06T17:45:39.641Z"
   },
   {
    "duration": 45,
    "start_time": "2024-06-06T17:45:39.696Z"
   },
   {
    "duration": 764,
    "start_time": "2024-06-06T17:45:39.742Z"
   },
   {
    "duration": 684,
    "start_time": "2024-06-06T17:45:40.508Z"
   },
   {
    "duration": 585,
    "start_time": "2024-06-06T17:45:41.193Z"
   },
   {
    "duration": 56,
    "start_time": "2024-06-06T17:45:41.780Z"
   },
   {
    "duration": 16,
    "start_time": "2024-06-06T17:45:41.838Z"
   },
   {
    "duration": 255,
    "start_time": "2024-06-06T17:45:41.855Z"
   },
   {
    "duration": 44,
    "start_time": "2024-06-06T17:45:42.112Z"
   },
   {
    "duration": 58,
    "start_time": "2024-06-06T17:45:42.158Z"
   },
   {
    "duration": 743,
    "start_time": "2024-06-06T17:45:42.220Z"
   },
   {
    "duration": 595,
    "start_time": "2024-06-06T17:45:42.965Z"
   },
   {
    "duration": 114,
    "start_time": "2024-06-06T17:45:43.561Z"
   },
   {
    "duration": 117,
    "start_time": "2024-06-06T17:45:43.676Z"
   },
   {
    "duration": 99,
    "start_time": "2024-06-06T17:45:43.797Z"
   },
   {
    "duration": 255,
    "start_time": "2024-06-06T17:45:43.897Z"
   },
   {
    "duration": 12,
    "start_time": "2024-06-06T17:45:44.154Z"
   },
   {
    "duration": 256,
    "start_time": "2024-06-06T17:45:44.167Z"
   },
   {
    "duration": 7580,
    "start_time": "2024-06-06T17:45:44.425Z"
   },
   {
    "duration": 142,
    "start_time": "2024-06-06T17:45:52.007Z"
   },
   {
    "duration": 113,
    "start_time": "2024-06-06T17:45:52.151Z"
   },
   {
    "duration": 10554,
    "start_time": "2024-06-06T17:47:17.597Z"
   },
   {
    "duration": 8805,
    "start_time": "2024-06-06T17:47:28.153Z"
   },
   {
    "duration": 337,
    "start_time": "2024-06-06T17:47:36.960Z"
   },
   {
    "duration": 53,
    "start_time": "2024-06-06T17:47:37.299Z"
   },
   {
    "duration": 17,
    "start_time": "2024-06-06T17:47:37.353Z"
   },
   {
    "duration": 60,
    "start_time": "2024-06-06T17:47:37.371Z"
   },
   {
    "duration": 66,
    "start_time": "2024-06-06T17:47:37.433Z"
   },
   {
    "duration": 45,
    "start_time": "2024-06-06T17:47:37.501Z"
   },
   {
    "duration": 749,
    "start_time": "2024-06-06T17:47:37.547Z"
   },
   {
    "duration": 610,
    "start_time": "2024-06-06T17:47:38.299Z"
   },
   {
    "duration": 60,
    "start_time": "2024-06-06T17:47:38.910Z"
   },
   {
    "duration": 32,
    "start_time": "2024-06-06T17:47:38.972Z"
   },
   {
    "duration": 48,
    "start_time": "2024-06-06T17:47:39.006Z"
   },
   {
    "duration": 53,
    "start_time": "2024-06-06T17:47:39.056Z"
   },
   {
    "duration": 45,
    "start_time": "2024-06-06T17:47:39.111Z"
   },
   {
    "duration": 746,
    "start_time": "2024-06-06T17:47:39.158Z"
   },
   {
    "duration": 858,
    "start_time": "2024-06-06T17:47:39.906Z"
   },
   {
    "duration": 562,
    "start_time": "2024-06-06T17:47:40.765Z"
   },
   {
    "duration": 47,
    "start_time": "2024-06-06T17:47:41.328Z"
   },
   {
    "duration": 25,
    "start_time": "2024-06-06T17:47:41.376Z"
   },
   {
    "duration": 50,
    "start_time": "2024-06-06T17:47:41.403Z"
   },
   {
    "duration": 77,
    "start_time": "2024-06-06T17:47:41.455Z"
   },
   {
    "duration": 57,
    "start_time": "2024-06-06T17:47:41.533Z"
   },
   {
    "duration": 728,
    "start_time": "2024-06-06T17:47:41.592Z"
   },
   {
    "duration": 561,
    "start_time": "2024-06-06T17:47:42.321Z"
   },
   {
    "duration": 118,
    "start_time": "2024-06-06T17:47:42.883Z"
   },
   {
    "duration": 98,
    "start_time": "2024-06-06T17:47:43.002Z"
   },
   {
    "duration": 190,
    "start_time": "2024-06-06T17:47:43.104Z"
   },
   {
    "duration": 267,
    "start_time": "2024-06-06T17:47:43.295Z"
   },
   {
    "duration": 13,
    "start_time": "2024-06-06T17:47:43.563Z"
   },
   {
    "duration": 227,
    "start_time": "2024-06-06T17:47:43.590Z"
   },
   {
    "duration": 316,
    "start_time": "2024-06-06T17:47:43.818Z"
   },
   {
    "duration": 0,
    "start_time": "2024-06-06T17:47:44.135Z"
   },
   {
    "duration": 0,
    "start_time": "2024-06-06T17:47:44.136Z"
   },
   {
    "duration": 10758,
    "start_time": "2024-06-06T17:50:47.377Z"
   },
   {
    "duration": 8667,
    "start_time": "2024-06-06T17:50:58.137Z"
   },
   {
    "duration": 340,
    "start_time": "2024-06-06T17:51:06.806Z"
   },
   {
    "duration": 58,
    "start_time": "2024-06-06T17:51:07.149Z"
   },
   {
    "duration": 13,
    "start_time": "2024-06-06T17:51:07.208Z"
   },
   {
    "duration": 73,
    "start_time": "2024-06-06T17:51:07.223Z"
   },
   {
    "duration": 44,
    "start_time": "2024-06-06T17:51:07.298Z"
   },
   {
    "duration": 71,
    "start_time": "2024-06-06T17:51:07.343Z"
   },
   {
    "duration": 760,
    "start_time": "2024-06-06T17:51:07.415Z"
   },
   {
    "duration": 606,
    "start_time": "2024-06-06T17:51:08.177Z"
   },
   {
    "duration": 55,
    "start_time": "2024-06-06T17:51:08.784Z"
   },
   {
    "duration": 13,
    "start_time": "2024-06-06T17:51:08.841Z"
   },
   {
    "duration": 72,
    "start_time": "2024-06-06T17:51:08.856Z"
   },
   {
    "duration": 36,
    "start_time": "2024-06-06T17:51:08.929Z"
   },
   {
    "duration": 50,
    "start_time": "2024-06-06T17:51:08.989Z"
   },
   {
    "duration": 742,
    "start_time": "2024-06-06T17:51:09.040Z"
   },
   {
    "duration": 831,
    "start_time": "2024-06-06T17:51:09.784Z"
   },
   {
    "duration": 575,
    "start_time": "2024-06-06T17:51:10.616Z"
   },
   {
    "duration": 52,
    "start_time": "2024-06-06T17:51:11.192Z"
   },
   {
    "duration": 12,
    "start_time": "2024-06-06T17:51:11.246Z"
   },
   {
    "duration": 71,
    "start_time": "2024-06-06T17:51:11.259Z"
   },
   {
    "duration": 37,
    "start_time": "2024-06-06T17:51:11.331Z"
   },
   {
    "duration": 64,
    "start_time": "2024-06-06T17:51:11.369Z"
   },
   {
    "duration": 772,
    "start_time": "2024-06-06T17:51:11.434Z"
   },
   {
    "duration": 597,
    "start_time": "2024-06-06T17:51:12.208Z"
   },
   {
    "duration": 114,
    "start_time": "2024-06-06T17:51:12.807Z"
   },
   {
    "duration": 96,
    "start_time": "2024-06-06T17:51:12.922Z"
   },
   {
    "duration": 105,
    "start_time": "2024-06-06T17:51:13.095Z"
   },
   {
    "duration": 250,
    "start_time": "2024-06-06T17:51:13.202Z"
   },
   {
    "duration": 12,
    "start_time": "2024-06-06T17:51:13.453Z"
   },
   {
    "duration": 252,
    "start_time": "2024-06-06T17:51:13.466Z"
   },
   {
    "duration": 7537,
    "start_time": "2024-06-06T17:51:13.719Z"
   },
   {
    "duration": 111,
    "start_time": "2024-06-06T17:51:21.257Z"
   },
   {
    "duration": 112,
    "start_time": "2024-06-06T17:51:21.369Z"
   },
   {
    "duration": 7699,
    "start_time": "2024-06-06T17:54:37.430Z"
   },
   {
    "duration": 7550,
    "start_time": "2024-06-06T17:55:55.200Z"
   },
   {
    "duration": 7679,
    "start_time": "2024-06-06T17:56:33.875Z"
   },
   {
    "duration": 7534,
    "start_time": "2024-06-06T17:56:44.721Z"
   },
   {
    "duration": 7620,
    "start_time": "2024-06-06T17:58:37.047Z"
   },
   {
    "duration": 123,
    "start_time": "2024-06-06T17:58:44.669Z"
   },
   {
    "duration": 7661,
    "start_time": "2024-06-06T17:58:58.736Z"
   },
   {
    "duration": 323,
    "start_time": "2024-06-06T18:01:37.841Z"
   },
   {
    "duration": 10904,
    "start_time": "2024-06-06T18:24:42.084Z"
   },
   {
    "duration": 9146,
    "start_time": "2024-06-06T18:24:52.993Z"
   },
   {
    "duration": 371,
    "start_time": "2024-06-06T18:25:02.140Z"
   },
   {
    "duration": 53,
    "start_time": "2024-06-06T18:25:02.513Z"
   },
   {
    "duration": 66,
    "start_time": "2024-06-06T18:25:02.567Z"
   },
   {
    "duration": 85,
    "start_time": "2024-06-06T18:25:02.635Z"
   },
   {
    "duration": 40,
    "start_time": "2024-06-06T18:25:02.721Z"
   },
   {
    "duration": 121,
    "start_time": "2024-06-06T18:25:02.762Z"
   },
   {
    "duration": 810,
    "start_time": "2024-06-06T18:25:02.884Z"
   },
   {
    "duration": 598,
    "start_time": "2024-06-06T18:25:03.696Z"
   },
   {
    "duration": 48,
    "start_time": "2024-06-06T18:25:04.295Z"
   },
   {
    "duration": 12,
    "start_time": "2024-06-06T18:25:04.345Z"
   },
   {
    "duration": 90,
    "start_time": "2024-06-06T18:25:04.358Z"
   },
   {
    "duration": 61,
    "start_time": "2024-06-06T18:25:04.450Z"
   },
   {
    "duration": 39,
    "start_time": "2024-06-06T18:25:04.512Z"
   },
   {
    "duration": 751,
    "start_time": "2024-06-06T18:25:04.553Z"
   },
   {
    "duration": 829,
    "start_time": "2024-06-06T18:25:05.306Z"
   },
   {
    "duration": 573,
    "start_time": "2024-06-06T18:25:06.136Z"
   },
   {
    "duration": 54,
    "start_time": "2024-06-06T18:25:06.711Z"
   },
   {
    "duration": 29,
    "start_time": "2024-06-06T18:25:06.767Z"
   },
   {
    "duration": 51,
    "start_time": "2024-06-06T18:25:06.798Z"
   },
   {
    "duration": 69,
    "start_time": "2024-06-06T18:25:06.850Z"
   },
   {
    "duration": 42,
    "start_time": "2024-06-06T18:25:06.920Z"
   },
   {
    "duration": 733,
    "start_time": "2024-06-06T18:25:06.963Z"
   },
   {
    "duration": 604,
    "start_time": "2024-06-06T18:25:07.698Z"
   },
   {
    "duration": 111,
    "start_time": "2024-06-06T18:25:08.304Z"
   },
   {
    "duration": 89,
    "start_time": "2024-06-06T18:25:08.425Z"
   },
   {
    "duration": 12,
    "start_time": "2024-06-06T18:25:08.590Z"
   },
   {
    "duration": 331,
    "start_time": "2024-06-06T18:25:08.604Z"
   },
   {
    "duration": 13,
    "start_time": "2024-06-06T18:25:08.936Z"
   },
   {
    "duration": 271,
    "start_time": "2024-06-06T18:25:08.950Z"
   },
   {
    "duration": 7607,
    "start_time": "2024-06-06T18:25:09.223Z"
   },
   {
    "duration": 301,
    "start_time": "2024-06-06T18:25:16.831Z"
   },
   {
    "duration": 10563,
    "start_time": "2024-06-06T19:11:21.854Z"
   },
   {
    "duration": 8784,
    "start_time": "2024-06-06T19:11:32.418Z"
   },
   {
    "duration": 346,
    "start_time": "2024-06-06T19:11:41.203Z"
   },
   {
    "duration": 51,
    "start_time": "2024-06-06T19:11:41.553Z"
   },
   {
    "duration": 12,
    "start_time": "2024-06-06T19:11:41.605Z"
   },
   {
    "duration": 85,
    "start_time": "2024-06-06T19:11:41.619Z"
   },
   {
    "duration": 45,
    "start_time": "2024-06-06T19:11:41.705Z"
   },
   {
    "duration": 61,
    "start_time": "2024-06-06T19:11:41.751Z"
   },
   {
    "duration": 744,
    "start_time": "2024-06-06T19:11:41.813Z"
   },
   {
    "duration": 555,
    "start_time": "2024-06-06T19:11:42.559Z"
   },
   {
    "duration": 79,
    "start_time": "2024-06-06T19:11:43.116Z"
   },
   {
    "duration": 19,
    "start_time": "2024-06-06T19:11:43.197Z"
   },
   {
    "duration": 92,
    "start_time": "2024-06-06T19:11:43.218Z"
   },
   {
    "duration": 57,
    "start_time": "2024-06-06T19:11:43.312Z"
   },
   {
    "duration": 68,
    "start_time": "2024-06-06T19:11:43.371Z"
   },
   {
    "duration": 718,
    "start_time": "2024-06-06T19:11:43.440Z"
   },
   {
    "duration": 633,
    "start_time": "2024-06-06T19:11:44.159Z"
   },
   {
    "duration": 45,
    "start_time": "2024-06-06T19:11:44.794Z"
   },
   {
    "duration": 21,
    "start_time": "2024-06-06T19:11:44.840Z"
   },
   {
    "duration": 65,
    "start_time": "2024-06-06T19:11:44.863Z"
   },
   {
    "duration": 39,
    "start_time": "2024-06-06T19:11:44.929Z"
   },
   {
    "duration": 42,
    "start_time": "2024-06-06T19:11:44.990Z"
   },
   {
    "duration": 879,
    "start_time": "2024-06-06T19:11:45.033Z"
   },
   {
    "duration": 579,
    "start_time": "2024-06-06T19:11:45.913Z"
   },
   {
    "duration": 114,
    "start_time": "2024-06-06T19:11:46.494Z"
   },
   {
    "duration": 89,
    "start_time": "2024-06-06T19:11:46.609Z"
   },
   {
    "duration": 97,
    "start_time": "2024-06-06T19:11:46.700Z"
   },
   {
    "duration": 350,
    "start_time": "2024-06-06T19:11:46.800Z"
   },
   {
    "duration": 12,
    "start_time": "2024-06-06T19:11:47.151Z"
   },
   {
    "duration": 262,
    "start_time": "2024-06-06T19:11:47.164Z"
   },
   {
    "duration": 7430,
    "start_time": "2024-06-06T19:11:47.428Z"
   },
   {
    "duration": 285,
    "start_time": "2024-06-06T19:11:54.860Z"
   },
   {
    "duration": 14307,
    "start_time": "2024-06-07T10:39:50.835Z"
   },
   {
    "duration": 17564,
    "start_time": "2024-06-07T10:40:05.144Z"
   },
   {
    "duration": 1549,
    "start_time": "2024-06-07T10:40:22.710Z"
   },
   {
    "duration": 60,
    "start_time": "2024-06-07T10:40:24.262Z"
   },
   {
    "duration": 31,
    "start_time": "2024-06-07T10:40:24.324Z"
   },
   {
    "duration": 70,
    "start_time": "2024-06-07T10:40:24.357Z"
   },
   {
    "duration": 41,
    "start_time": "2024-06-07T10:40:24.428Z"
   },
   {
    "duration": 60,
    "start_time": "2024-06-07T10:40:24.470Z"
   },
   {
    "duration": 807,
    "start_time": "2024-06-07T10:40:24.532Z"
   },
   {
    "duration": 580,
    "start_time": "2024-06-07T10:40:25.342Z"
   },
   {
    "duration": 48,
    "start_time": "2024-06-07T10:40:25.923Z"
   },
   {
    "duration": 37,
    "start_time": "2024-06-07T10:40:25.973Z"
   },
   {
    "duration": 57,
    "start_time": "2024-06-07T10:40:26.012Z"
   },
   {
    "duration": 67,
    "start_time": "2024-06-07T10:40:26.071Z"
   },
   {
    "duration": 40,
    "start_time": "2024-06-07T10:40:26.139Z"
   },
   {
    "duration": 909,
    "start_time": "2024-06-07T10:40:26.180Z"
   },
   {
    "duration": 588,
    "start_time": "2024-06-07T10:40:27.091Z"
   },
   {
    "duration": 56,
    "start_time": "2024-06-07T10:40:27.680Z"
   },
   {
    "duration": 13,
    "start_time": "2024-06-07T10:40:27.737Z"
   },
   {
    "duration": 86,
    "start_time": "2024-06-07T10:40:27.751Z"
   },
   {
    "duration": 40,
    "start_time": "2024-06-07T10:40:27.838Z"
   },
   {
    "duration": 60,
    "start_time": "2024-06-07T10:40:27.880Z"
   },
   {
    "duration": 724,
    "start_time": "2024-06-07T10:40:27.941Z"
   },
   {
    "duration": 550,
    "start_time": "2024-06-07T10:40:28.666Z"
   },
   {
    "duration": 114,
    "start_time": "2024-06-07T10:40:29.217Z"
   },
   {
    "duration": 89,
    "start_time": "2024-06-07T10:40:29.332Z"
   },
   {
    "duration": 186,
    "start_time": "2024-06-07T10:40:29.423Z"
   },
   {
    "duration": 264,
    "start_time": "2024-06-07T10:40:29.612Z"
   },
   {
    "duration": 36,
    "start_time": "2024-06-07T10:40:29.878Z"
   },
   {
    "duration": 241,
    "start_time": "2024-06-07T10:40:29.915Z"
   },
   {
    "duration": 8572,
    "start_time": "2024-06-07T10:40:30.157Z"
   },
   {
    "duration": 356,
    "start_time": "2024-06-07T10:40:38.730Z"
   },
   {
    "duration": 13,
    "start_time": "2024-06-07T10:41:44.307Z"
   },
   {
    "duration": 217,
    "start_time": "2024-06-07T10:41:44.826Z"
   },
   {
    "duration": 7732,
    "start_time": "2024-06-07T10:41:46.577Z"
   },
   {
    "duration": 277,
    "start_time": "2024-06-07T10:41:54.310Z"
   },
   {
    "duration": 293,
    "start_time": "2024-06-07T10:43:51.538Z"
   },
   {
    "duration": 4,
    "start_time": "2024-06-07T10:43:55.639Z"
   },
   {
    "duration": 4,
    "start_time": "2024-06-07T10:44:06.579Z"
   },
   {
    "duration": 4,
    "start_time": "2024-06-07T10:44:26.506Z"
   },
   {
    "duration": 5,
    "start_time": "2024-06-07T10:44:44.556Z"
   },
   {
    "duration": 5,
    "start_time": "2024-06-07T10:44:48.505Z"
   },
   {
    "duration": 14279,
    "start_time": "2024-06-10T12:39:43.233Z"
   },
   {
    "duration": 17721,
    "start_time": "2024-06-10T12:39:57.514Z"
   },
   {
    "duration": 1545,
    "start_time": "2024-06-10T12:40:15.236Z"
   },
   {
    "duration": 53,
    "start_time": "2024-06-10T12:40:16.783Z"
   },
   {
    "duration": 15,
    "start_time": "2024-06-10T12:40:16.837Z"
   },
   {
    "duration": 80,
    "start_time": "2024-06-10T12:40:16.854Z"
   },
   {
    "duration": 46,
    "start_time": "2024-06-10T12:40:16.936Z"
   },
   {
    "duration": 65,
    "start_time": "2024-06-10T12:40:16.983Z"
   },
   {
    "duration": 809,
    "start_time": "2024-06-10T12:40:17.050Z"
   },
   {
    "duration": 564,
    "start_time": "2024-06-10T12:40:17.862Z"
   },
   {
    "duration": 46,
    "start_time": "2024-06-10T12:40:18.428Z"
   },
   {
    "duration": 13,
    "start_time": "2024-06-10T12:40:18.476Z"
   },
   {
    "duration": 71,
    "start_time": "2024-06-10T12:40:18.490Z"
   },
   {
    "duration": 59,
    "start_time": "2024-06-10T12:40:18.562Z"
   },
   {
    "duration": 39,
    "start_time": "2024-06-10T12:40:18.623Z"
   },
   {
    "duration": 882,
    "start_time": "2024-06-10T12:40:18.663Z"
   },
   {
    "duration": 576,
    "start_time": "2024-06-10T12:40:19.546Z"
   },
   {
    "duration": 45,
    "start_time": "2024-06-10T12:40:20.124Z"
   },
   {
    "duration": 13,
    "start_time": "2024-06-10T12:40:20.170Z"
   },
   {
    "duration": 72,
    "start_time": "2024-06-10T12:40:20.184Z"
   },
   {
    "duration": 70,
    "start_time": "2024-06-10T12:40:20.257Z"
   },
   {
    "duration": 62,
    "start_time": "2024-06-10T12:40:20.328Z"
   },
   {
    "duration": 723,
    "start_time": "2024-06-10T12:40:20.391Z"
   },
   {
    "duration": 540,
    "start_time": "2024-06-10T12:40:21.119Z"
   },
   {
    "duration": 111,
    "start_time": "2024-06-10T12:40:21.660Z"
   },
   {
    "duration": 334,
    "start_time": "2024-06-10T12:40:21.773Z"
   },
   {
    "duration": 0,
    "start_time": "2024-06-10T12:40:22.109Z"
   },
   {
    "duration": 0,
    "start_time": "2024-06-10T12:40:22.110Z"
   },
   {
    "duration": 0,
    "start_time": "2024-06-10T12:40:22.111Z"
   },
   {
    "duration": 0,
    "start_time": "2024-06-10T12:40:22.120Z"
   },
   {
    "duration": 0,
    "start_time": "2024-06-10T12:40:22.121Z"
   },
   {
    "duration": 0,
    "start_time": "2024-06-10T12:40:22.123Z"
   },
   {
    "duration": 10464,
    "start_time": "2024-06-10T12:41:41.658Z"
   },
   {
    "duration": 8290,
    "start_time": "2024-06-10T12:41:52.125Z"
   },
   {
    "duration": 461,
    "start_time": "2024-06-10T12:42:00.416Z"
   },
   {
    "duration": 52,
    "start_time": "2024-06-10T12:42:00.880Z"
   },
   {
    "duration": 43,
    "start_time": "2024-06-10T12:42:00.933Z"
   },
   {
    "duration": 112,
    "start_time": "2024-06-10T12:42:00.977Z"
   },
   {
    "duration": 111,
    "start_time": "2024-06-10T12:42:01.090Z"
   },
   {
    "duration": 172,
    "start_time": "2024-06-10T12:42:01.203Z"
   },
   {
    "duration": 755,
    "start_time": "2024-06-10T12:42:01.376Z"
   },
   {
    "duration": 607,
    "start_time": "2024-06-10T12:42:02.135Z"
   },
   {
    "duration": 46,
    "start_time": "2024-06-10T12:42:02.744Z"
   },
   {
    "duration": 30,
    "start_time": "2024-06-10T12:42:02.792Z"
   },
   {
    "duration": 49,
    "start_time": "2024-06-10T12:42:02.824Z"
   },
   {
    "duration": 60,
    "start_time": "2024-06-10T12:42:02.874Z"
   },
   {
    "duration": 40,
    "start_time": "2024-06-10T12:42:02.935Z"
   },
   {
    "duration": 729,
    "start_time": "2024-06-10T12:42:02.976Z"
   },
   {
    "duration": 540,
    "start_time": "2024-06-10T12:42:03.707Z"
   },
   {
    "duration": 48,
    "start_time": "2024-06-10T12:42:04.249Z"
   },
   {
    "duration": 32,
    "start_time": "2024-06-10T12:42:04.299Z"
   },
   {
    "duration": 57,
    "start_time": "2024-06-10T12:42:04.333Z"
   },
   {
    "duration": 66,
    "start_time": "2024-06-10T12:42:04.392Z"
   },
   {
    "duration": 43,
    "start_time": "2024-06-10T12:42:04.459Z"
   },
   {
    "duration": 725,
    "start_time": "2024-06-10T12:42:04.503Z"
   },
   {
    "duration": 724,
    "start_time": "2024-06-10T12:42:05.230Z"
   },
   {
    "duration": 111,
    "start_time": "2024-06-10T12:42:05.956Z"
   },
   {
    "duration": 252,
    "start_time": "2024-06-10T12:42:06.069Z"
   },
   {
    "duration": 102,
    "start_time": "2024-06-10T12:42:06.323Z"
   },
   {
    "duration": 247,
    "start_time": "2024-06-10T12:42:06.428Z"
   },
   {
    "duration": 13,
    "start_time": "2024-06-10T12:42:06.677Z"
   },
   {
    "duration": 253,
    "start_time": "2024-06-10T12:42:06.692Z"
   },
   {
    "duration": 7449,
    "start_time": "2024-06-10T12:42:06.947Z"
   },
   {
    "duration": 292,
    "start_time": "2024-06-10T12:42:14.398Z"
   },
   {
    "duration": 2825,
    "start_time": "2024-06-10T12:44:09.655Z"
   },
   {
    "duration": 12823,
    "start_time": "2024-06-10T12:44:40.106Z"
   },
   {
    "duration": 8720,
    "start_time": "2024-06-10T12:44:52.932Z"
   },
   {
    "duration": 518,
    "start_time": "2024-06-10T12:45:01.653Z"
   },
   {
    "duration": 58,
    "start_time": "2024-06-10T12:45:02.174Z"
   },
   {
    "duration": 15,
    "start_time": "2024-06-10T12:45:02.234Z"
   },
   {
    "duration": 85,
    "start_time": "2024-06-10T12:45:02.250Z"
   },
   {
    "duration": 52,
    "start_time": "2024-06-10T12:45:02.336Z"
   },
   {
    "duration": 68,
    "start_time": "2024-06-10T12:45:02.390Z"
   },
   {
    "duration": 808,
    "start_time": "2024-06-10T12:45:02.460Z"
   },
   {
    "duration": 659,
    "start_time": "2024-06-10T12:45:03.272Z"
   },
   {
    "duration": 53,
    "start_time": "2024-06-10T12:45:03.932Z"
   },
   {
    "duration": 34,
    "start_time": "2024-06-10T12:45:03.987Z"
   },
   {
    "duration": 56,
    "start_time": "2024-06-10T12:45:04.023Z"
   },
   {
    "duration": 66,
    "start_time": "2024-06-10T12:45:04.081Z"
   },
   {
    "duration": 52,
    "start_time": "2024-06-10T12:45:04.150Z"
   },
   {
    "duration": 846,
    "start_time": "2024-06-10T12:45:04.219Z"
   },
   {
    "duration": 619,
    "start_time": "2024-06-10T12:45:05.067Z"
   },
   {
    "duration": 64,
    "start_time": "2024-06-10T12:45:05.687Z"
   },
   {
    "duration": 14,
    "start_time": "2024-06-10T12:45:05.752Z"
   },
   {
    "duration": 59,
    "start_time": "2024-06-10T12:45:05.767Z"
   },
   {
    "duration": 49,
    "start_time": "2024-06-10T12:45:05.827Z"
   },
   {
    "duration": 832,
    "start_time": "2024-06-10T12:45:05.877Z"
   },
   {
    "duration": 759,
    "start_time": "2024-06-10T12:45:06.711Z"
   },
   {
    "duration": 117,
    "start_time": "2024-06-10T12:45:07.471Z"
   },
   {
    "duration": 96,
    "start_time": "2024-06-10T12:45:07.589Z"
   },
   {
    "duration": 99,
    "start_time": "2024-06-10T12:45:07.725Z"
   },
   {
    "duration": 265,
    "start_time": "2024-06-10T12:45:07.825Z"
   },
   {
    "duration": 14,
    "start_time": "2024-06-10T12:45:08.093Z"
   },
   {
    "duration": 256,
    "start_time": "2024-06-10T12:45:08.108Z"
   },
   {
    "duration": 8092,
    "start_time": "2024-06-10T12:45:08.366Z"
   },
   {
    "duration": 321,
    "start_time": "2024-06-10T12:45:16.460Z"
   },
   {
    "duration": 67,
    "start_time": "2024-06-10T12:46:57.153Z"
   },
   {
    "duration": 11264,
    "start_time": "2024-06-10T12:47:07.894Z"
   },
   {
    "duration": 9317,
    "start_time": "2024-06-10T12:47:19.160Z"
   },
   {
    "duration": 487,
    "start_time": "2024-06-10T12:47:28.478Z"
   },
   {
    "duration": 56,
    "start_time": "2024-06-10T12:47:28.968Z"
   },
   {
    "duration": 13,
    "start_time": "2024-06-10T12:47:29.026Z"
   },
   {
    "duration": 86,
    "start_time": "2024-06-10T12:47:29.041Z"
   },
   {
    "duration": 55,
    "start_time": "2024-06-10T12:47:29.128Z"
   },
   {
    "duration": 85,
    "start_time": "2024-06-10T12:47:29.184Z"
   },
   {
    "duration": 771,
    "start_time": "2024-06-10T12:47:29.271Z"
   },
   {
    "duration": 615,
    "start_time": "2024-06-10T12:47:30.045Z"
   },
   {
    "duration": 60,
    "start_time": "2024-06-10T12:47:30.661Z"
   },
   {
    "duration": 33,
    "start_time": "2024-06-10T12:47:30.723Z"
   },
   {
    "duration": 123,
    "start_time": "2024-06-10T12:47:30.757Z"
   },
   {
    "duration": 51,
    "start_time": "2024-06-10T12:47:30.882Z"
   },
   {
    "duration": 54,
    "start_time": "2024-06-10T12:47:30.935Z"
   },
   {
    "duration": 790,
    "start_time": "2024-06-10T12:47:30.990Z"
   },
   {
    "duration": 623,
    "start_time": "2024-06-10T12:47:31.781Z"
   },
   {
    "duration": 54,
    "start_time": "2024-06-10T12:47:32.405Z"
   },
   {
    "duration": 23,
    "start_time": "2024-06-10T12:47:32.461Z"
   },
   {
    "duration": 54,
    "start_time": "2024-06-10T12:47:32.485Z"
   },
   {
    "duration": 49,
    "start_time": "2024-06-10T12:47:32.541Z"
   },
   {
    "duration": 780,
    "start_time": "2024-06-10T12:47:32.592Z"
   },
   {
    "duration": 757,
    "start_time": "2024-06-10T12:47:33.374Z"
   },
   {
    "duration": 116,
    "start_time": "2024-06-10T12:47:34.132Z"
   },
   {
    "duration": 92,
    "start_time": "2024-06-10T12:47:34.249Z"
   },
   {
    "duration": 178,
    "start_time": "2024-06-10T12:47:34.342Z"
   },
   {
    "duration": 268,
    "start_time": "2024-06-10T12:47:34.522Z"
   },
   {
    "duration": 13,
    "start_time": "2024-06-10T12:47:34.792Z"
   },
   {
    "duration": 254,
    "start_time": "2024-06-10T12:47:34.807Z"
   },
   {
    "duration": 8067,
    "start_time": "2024-06-10T12:47:35.062Z"
   },
   {
    "duration": 280,
    "start_time": "2024-06-10T12:47:43.131Z"
   },
   {
    "duration": 715,
    "start_time": "2024-06-10T12:49:03.620Z"
   },
   {
    "duration": 11160,
    "start_time": "2024-06-10T12:49:29.676Z"
   },
   {
    "duration": 8842,
    "start_time": "2024-06-10T12:49:40.838Z"
   },
   {
    "duration": 502,
    "start_time": "2024-06-10T12:49:49.681Z"
   },
   {
    "duration": 60,
    "start_time": "2024-06-10T12:49:50.185Z"
   },
   {
    "duration": 14,
    "start_time": "2024-06-10T12:49:50.246Z"
   },
   {
    "duration": 84,
    "start_time": "2024-06-10T12:49:50.261Z"
   },
   {
    "duration": 43,
    "start_time": "2024-06-10T12:49:50.346Z"
   },
   {
    "duration": 67,
    "start_time": "2024-06-10T12:49:50.390Z"
   },
   {
    "duration": 808,
    "start_time": "2024-06-10T12:49:50.458Z"
   },
   {
    "duration": 594,
    "start_time": "2024-06-10T12:49:51.269Z"
   },
   {
    "duration": 59,
    "start_time": "2024-06-10T12:49:51.864Z"
   },
   {
    "duration": 13,
    "start_time": "2024-06-10T12:49:51.925Z"
   },
   {
    "duration": 80,
    "start_time": "2024-06-10T12:49:51.940Z"
   },
   {
    "duration": 46,
    "start_time": "2024-06-10T12:49:52.022Z"
   },
   {
    "duration": 60,
    "start_time": "2024-06-10T12:49:52.069Z"
   },
   {
    "duration": 830,
    "start_time": "2024-06-10T12:49:52.130Z"
   },
   {
    "duration": 581,
    "start_time": "2024-06-10T12:49:52.961Z"
   },
   {
    "duration": 47,
    "start_time": "2024-06-10T12:49:53.543Z"
   },
   {
    "duration": 30,
    "start_time": "2024-06-10T12:49:53.591Z"
   },
   {
    "duration": 53,
    "start_time": "2024-06-10T12:49:53.622Z"
   },
   {
    "duration": 47,
    "start_time": "2024-06-10T12:49:53.677Z"
   },
   {
    "duration": 826,
    "start_time": "2024-06-10T12:49:53.725Z"
   },
   {
    "duration": 780,
    "start_time": "2024-06-10T12:49:54.553Z"
   },
   {
    "duration": 118,
    "start_time": "2024-06-10T12:49:55.335Z"
   },
   {
    "duration": 167,
    "start_time": "2024-06-10T12:49:55.454Z"
   },
   {
    "duration": 102,
    "start_time": "2024-06-10T12:49:55.623Z"
   },
   {
    "duration": 328,
    "start_time": "2024-06-10T12:49:55.727Z"
   },
   {
    "duration": 13,
    "start_time": "2024-06-10T12:49:56.058Z"
   },
   {
    "duration": 276,
    "start_time": "2024-06-10T12:49:56.072Z"
   },
   {
    "duration": 891,
    "start_time": "2024-06-10T12:49:56.350Z"
   },
   {
    "duration": 292,
    "start_time": "2024-06-10T12:49:57.242Z"
   },
   {
    "duration": 11278,
    "start_time": "2024-06-10T13:35:15.624Z"
   },
   {
    "duration": 9378,
    "start_time": "2024-06-10T13:35:26.904Z"
   },
   {
    "duration": 354,
    "start_time": "2024-06-10T13:35:36.284Z"
   },
   {
    "duration": 55,
    "start_time": "2024-06-10T13:35:36.640Z"
   },
   {
    "duration": 25,
    "start_time": "2024-06-10T13:35:36.696Z"
   },
   {
    "duration": 53,
    "start_time": "2024-06-10T13:35:36.722Z"
   },
   {
    "duration": 70,
    "start_time": "2024-06-10T13:35:36.776Z"
   },
   {
    "duration": 44,
    "start_time": "2024-06-10T13:35:36.847Z"
   },
   {
    "duration": 997,
    "start_time": "2024-06-10T13:35:36.893Z"
   },
   {
    "duration": 633,
    "start_time": "2024-06-10T13:35:37.892Z"
   },
   {
    "duration": 49,
    "start_time": "2024-06-10T13:35:38.527Z"
   },
   {
    "duration": 14,
    "start_time": "2024-06-10T13:35:38.578Z"
   },
   {
    "duration": 77,
    "start_time": "2024-06-10T13:35:38.594Z"
   },
   {
    "duration": 70,
    "start_time": "2024-06-10T13:35:38.672Z"
   },
   {
    "duration": 43,
    "start_time": "2024-06-10T13:35:38.743Z"
   },
   {
    "duration": 1268,
    "start_time": "2024-06-10T13:35:38.787Z"
   },
   {
    "duration": 769,
    "start_time": "2024-06-10T13:35:40.056Z"
   },
   {
    "duration": 48,
    "start_time": "2024-06-10T13:35:40.826Z"
   },
   {
    "duration": 14,
    "start_time": "2024-06-10T13:35:40.875Z"
   },
   {
    "duration": 68,
    "start_time": "2024-06-10T13:35:40.890Z"
   },
   {
    "duration": 46,
    "start_time": "2024-06-10T13:35:40.959Z"
   },
   {
    "duration": 767,
    "start_time": "2024-06-10T13:35:41.006Z"
   },
   {
    "duration": 564,
    "start_time": "2024-06-10T13:35:41.774Z"
   },
   {
    "duration": 133,
    "start_time": "2024-06-10T13:35:42.339Z"
   },
   {
    "duration": 98,
    "start_time": "2024-06-10T13:35:42.473Z"
   },
   {
    "duration": 57,
    "start_time": "2024-06-10T13:35:42.574Z"
   },
   {
    "duration": 351,
    "start_time": "2024-06-10T13:35:42.633Z"
   },
   {
    "duration": 13,
    "start_time": "2024-06-10T13:35:42.987Z"
   },
   {
    "duration": 255,
    "start_time": "2024-06-10T13:35:43.002Z"
   },
   {
    "duration": 746,
    "start_time": "2024-06-10T13:35:43.259Z"
   },
   {
    "duration": 316,
    "start_time": "2024-06-10T13:35:44.007Z"
   },
   {
    "duration": 221,
    "start_time": "2024-06-10T13:37:31.313Z"
   },
   {
    "duration": 331,
    "start_time": "2024-06-10T13:38:40.392Z"
   },
   {
    "duration": 50,
    "start_time": "2024-06-10T13:38:56.952Z"
   },
   {
    "duration": 50,
    "start_time": "2024-06-10T13:42:29.261Z"
   },
   {
    "duration": 13208,
    "start_time": "2024-06-10T13:42:46.328Z"
   },
   {
    "duration": 8854,
    "start_time": "2024-06-10T13:42:59.538Z"
   },
   {
    "duration": 346,
    "start_time": "2024-06-10T13:43:08.394Z"
   },
   {
    "duration": 54,
    "start_time": "2024-06-10T13:43:08.742Z"
   },
   {
    "duration": 28,
    "start_time": "2024-06-10T13:43:08.797Z"
   },
   {
    "duration": 51,
    "start_time": "2024-06-10T13:43:08.826Z"
   },
   {
    "duration": 70,
    "start_time": "2024-06-10T13:43:08.879Z"
   },
   {
    "duration": 43,
    "start_time": "2024-06-10T13:43:08.950Z"
   },
   {
    "duration": 928,
    "start_time": "2024-06-10T13:43:08.995Z"
   },
   {
    "duration": 730,
    "start_time": "2024-06-10T13:43:09.926Z"
   },
   {
    "duration": 50,
    "start_time": "2024-06-10T13:43:10.657Z"
   },
   {
    "duration": 25,
    "start_time": "2024-06-10T13:43:10.708Z"
   },
   {
    "duration": 89,
    "start_time": "2024-06-10T13:43:10.735Z"
   },
   {
    "duration": 40,
    "start_time": "2024-06-10T13:43:10.826Z"
   },
   {
    "duration": 65,
    "start_time": "2024-06-10T13:43:10.868Z"
   },
   {
    "duration": 805,
    "start_time": "2024-06-10T13:43:10.934Z"
   },
   {
    "duration": 621,
    "start_time": "2024-06-10T13:43:11.741Z"
   },
   {
    "duration": 59,
    "start_time": "2024-06-10T13:43:12.363Z"
   },
   {
    "duration": 17,
    "start_time": "2024-06-10T13:43:12.424Z"
   },
   {
    "duration": 42,
    "start_time": "2024-06-10T13:43:12.442Z"
   },
   {
    "duration": 71,
    "start_time": "2024-06-10T13:43:12.486Z"
   },
   {
    "duration": 780,
    "start_time": "2024-06-10T13:43:12.559Z"
   },
   {
    "duration": 599,
    "start_time": "2024-06-10T13:43:13.340Z"
   },
   {
    "duration": 119,
    "start_time": "2024-06-10T13:43:13.941Z"
   },
   {
    "duration": 163,
    "start_time": "2024-06-10T13:43:14.062Z"
   },
   {
    "duration": 102,
    "start_time": "2024-06-10T13:43:14.227Z"
   },
   {
    "duration": 259,
    "start_time": "2024-06-10T13:43:14.331Z"
   },
   {
    "duration": 13,
    "start_time": "2024-06-10T13:43:14.620Z"
   },
   {
    "duration": 231,
    "start_time": "2024-06-10T13:43:14.634Z"
   },
   {
    "duration": 940,
    "start_time": "2024-06-10T13:43:14.867Z"
   },
   {
    "duration": 286,
    "start_time": "2024-06-10T13:43:15.809Z"
   },
   {
    "duration": 47,
    "start_time": "2024-06-10T14:03:39.761Z"
   },
   {
    "duration": 23,
    "start_time": "2024-06-10T14:08:08.578Z"
   },
   {
    "duration": 11180,
    "start_time": "2024-06-10T14:10:12.542Z"
   },
   {
    "duration": 8797,
    "start_time": "2024-06-10T14:10:23.724Z"
   },
   {
    "duration": 378,
    "start_time": "2024-06-10T14:10:32.523Z"
   },
   {
    "duration": 56,
    "start_time": "2024-06-10T14:10:32.903Z"
   },
   {
    "duration": 14,
    "start_time": "2024-06-10T14:10:32.961Z"
   },
   {
    "duration": 77,
    "start_time": "2024-06-10T14:10:32.977Z"
   },
   {
    "duration": 66,
    "start_time": "2024-06-10T14:10:33.055Z"
   },
   {
    "duration": 70,
    "start_time": "2024-06-10T14:10:33.123Z"
   },
   {
    "duration": 64,
    "start_time": "2024-06-10T14:10:33.195Z"
   },
   {
    "duration": 895,
    "start_time": "2024-06-10T14:10:33.262Z"
   },
   {
    "duration": 706,
    "start_time": "2024-06-10T14:10:34.159Z"
   },
   {
    "duration": 59,
    "start_time": "2024-06-10T14:10:34.866Z"
   },
   {
    "duration": 13,
    "start_time": "2024-06-10T14:10:34.927Z"
   },
   {
    "duration": 90,
    "start_time": "2024-06-10T14:10:34.942Z"
   },
   {
    "duration": 39,
    "start_time": "2024-06-10T14:10:35.033Z"
   },
   {
    "duration": 56,
    "start_time": "2024-06-10T14:10:35.073Z"
   },
   {
    "duration": 774,
    "start_time": "2024-06-10T14:10:35.130Z"
   },
   {
    "duration": 602,
    "start_time": "2024-06-10T14:10:35.905Z"
   },
   {
    "duration": 55,
    "start_time": "2024-06-10T14:10:36.508Z"
   },
   {
    "duration": 14,
    "start_time": "2024-06-10T14:10:36.564Z"
   },
   {
    "duration": 66,
    "start_time": "2024-06-10T14:10:36.579Z"
   },
   {
    "duration": 46,
    "start_time": "2024-06-10T14:10:36.646Z"
   },
   {
    "duration": 1340,
    "start_time": "2024-06-10T14:10:36.693Z"
   },
   {
    "duration": 701,
    "start_time": "2024-06-10T14:10:38.034Z"
   },
   {
    "duration": 116,
    "start_time": "2024-06-10T14:10:38.736Z"
   },
   {
    "duration": 87,
    "start_time": "2024-06-10T14:10:38.854Z"
   },
   {
    "duration": 88,
    "start_time": "2024-06-10T14:10:38.943Z"
   },
   {
    "duration": 273,
    "start_time": "2024-06-10T14:10:39.121Z"
   },
   {
    "duration": 26,
    "start_time": "2024-06-10T14:10:39.396Z"
   },
   {
    "duration": 236,
    "start_time": "2024-06-10T14:10:39.424Z"
   },
   {
    "duration": 930,
    "start_time": "2024-06-10T14:10:39.662Z"
   },
   {
    "duration": 301,
    "start_time": "2024-06-10T14:10:40.593Z"
   },
   {
    "duration": 72,
    "start_time": "2024-06-10T14:13:40.512Z"
   },
   {
    "duration": 11796,
    "start_time": "2024-06-10T14:15:15.832Z"
   },
   {
    "duration": 9387,
    "start_time": "2024-06-10T14:15:27.630Z"
   },
   {
    "duration": 353,
    "start_time": "2024-06-10T14:15:37.018Z"
   },
   {
    "duration": 60,
    "start_time": "2024-06-10T14:15:37.373Z"
   },
   {
    "duration": 16,
    "start_time": "2024-06-10T14:15:37.435Z"
   },
   {
    "duration": 96,
    "start_time": "2024-06-10T14:15:37.452Z"
   },
   {
    "duration": 70,
    "start_time": "2024-06-10T14:15:37.550Z"
   },
   {
    "duration": 38,
    "start_time": "2024-06-10T14:15:37.622Z"
   },
   {
    "duration": 60,
    "start_time": "2024-06-10T14:15:37.662Z"
   },
   {
    "duration": 936,
    "start_time": "2024-06-10T14:15:37.725Z"
   },
   {
    "duration": 705,
    "start_time": "2024-06-10T14:15:38.663Z"
   },
   {
    "duration": 59,
    "start_time": "2024-06-10T14:15:39.370Z"
   },
   {
    "duration": 14,
    "start_time": "2024-06-10T14:15:39.430Z"
   },
   {
    "duration": 82,
    "start_time": "2024-06-10T14:15:39.445Z"
   },
   {
    "duration": 39,
    "start_time": "2024-06-10T14:15:39.528Z"
   },
   {
    "duration": 56,
    "start_time": "2024-06-10T14:15:39.569Z"
   },
   {
    "duration": 783,
    "start_time": "2024-06-10T14:15:39.626Z"
   },
   {
    "duration": 625,
    "start_time": "2024-06-10T14:15:40.410Z"
   },
   {
    "duration": 48,
    "start_time": "2024-06-10T14:15:41.036Z"
   },
   {
    "duration": 15,
    "start_time": "2024-06-10T14:15:41.085Z"
   },
   {
    "duration": 50,
    "start_time": "2024-06-10T14:15:41.120Z"
   },
   {
    "duration": 61,
    "start_time": "2024-06-10T14:15:41.172Z"
   },
   {
    "duration": 784,
    "start_time": "2024-06-10T14:15:41.234Z"
   },
   {
    "duration": 612,
    "start_time": "2024-06-10T14:15:42.020Z"
   },
   {
    "duration": 126,
    "start_time": "2024-06-10T14:15:42.633Z"
   },
   {
    "duration": 93,
    "start_time": "2024-06-10T14:15:42.761Z"
   },
   {
    "duration": 74,
    "start_time": "2024-06-10T14:15:42.856Z"
   },
   {
    "duration": 362,
    "start_time": "2024-06-10T14:15:42.933Z"
   },
   {
    "duration": 25,
    "start_time": "2024-06-10T14:15:43.296Z"
   },
   {
    "duration": 232,
    "start_time": "2024-06-10T14:15:43.323Z"
   },
   {
    "duration": 934,
    "start_time": "2024-06-10T14:15:43.557Z"
   },
   {
    "duration": 303,
    "start_time": "2024-06-10T14:15:44.492Z"
   },
   {
    "duration": 25,
    "start_time": "2024-06-10T14:16:15.567Z"
   },
   {
    "duration": 26,
    "start_time": "2024-06-10T14:19:11.994Z"
   },
   {
    "duration": 30,
    "start_time": "2024-06-10T14:20:29.533Z"
   },
   {
    "duration": 11695,
    "start_time": "2024-06-10T14:20:52.826Z"
   },
   {
    "duration": 9344,
    "start_time": "2024-06-10T14:21:04.524Z"
   },
   {
    "duration": 354,
    "start_time": "2024-06-10T14:21:13.869Z"
   },
   {
    "duration": 66,
    "start_time": "2024-06-10T14:21:14.225Z"
   },
   {
    "duration": 36,
    "start_time": "2024-06-10T14:21:14.293Z"
   },
   {
    "duration": 90,
    "start_time": "2024-06-10T14:21:14.330Z"
   },
   {
    "duration": 52,
    "start_time": "2024-06-10T14:21:14.422Z"
   },
   {
    "duration": 52,
    "start_time": "2024-06-10T14:21:14.476Z"
   },
   {
    "duration": 51,
    "start_time": "2024-06-10T14:21:14.530Z"
   },
   {
    "duration": 992,
    "start_time": "2024-06-10T14:21:14.584Z"
   },
   {
    "duration": 698,
    "start_time": "2024-06-10T14:21:15.578Z"
   },
   {
    "duration": 79,
    "start_time": "2024-06-10T14:21:16.277Z"
   },
   {
    "duration": 21,
    "start_time": "2024-06-10T14:21:16.358Z"
   },
   {
    "duration": 86,
    "start_time": "2024-06-10T14:21:16.381Z"
   },
   {
    "duration": 58,
    "start_time": "2024-06-10T14:21:16.469Z"
   },
   {
    "duration": 42,
    "start_time": "2024-06-10T14:21:16.529Z"
   },
   {
    "duration": 779,
    "start_time": "2024-06-10T14:21:16.572Z"
   },
   {
    "duration": 587,
    "start_time": "2024-06-10T14:21:17.352Z"
   },
   {
    "duration": 49,
    "start_time": "2024-06-10T14:21:17.940Z"
   },
   {
    "duration": 13,
    "start_time": "2024-06-10T14:21:17.991Z"
   },
   {
    "duration": 44,
    "start_time": "2024-06-10T14:21:18.020Z"
   },
   {
    "duration": 61,
    "start_time": "2024-06-10T14:21:18.066Z"
   },
   {
    "duration": 816,
    "start_time": "2024-06-10T14:21:18.128Z"
   },
   {
    "duration": 579,
    "start_time": "2024-06-10T14:21:18.945Z"
   },
   {
    "duration": 119,
    "start_time": "2024-06-10T14:21:19.525Z"
   },
   {
    "duration": 176,
    "start_time": "2024-06-10T14:21:19.645Z"
   },
   {
    "duration": 102,
    "start_time": "2024-06-10T14:21:19.823Z"
   },
   {
    "duration": 276,
    "start_time": "2024-06-10T14:21:19.929Z"
   },
   {
    "duration": 20,
    "start_time": "2024-06-10T14:21:20.206Z"
   },
   {
    "duration": 262,
    "start_time": "2024-06-10T14:21:20.227Z"
   },
   {
    "duration": 916,
    "start_time": "2024-06-10T14:21:20.491Z"
   },
   {
    "duration": 295,
    "start_time": "2024-06-10T14:21:21.409Z"
   },
   {
    "duration": 13712,
    "start_time": "2024-06-10T14:23:02.898Z"
   },
   {
    "duration": 8781,
    "start_time": "2024-06-10T14:23:16.612Z"
   },
   {
    "duration": 360,
    "start_time": "2024-06-10T14:23:25.394Z"
   },
   {
    "duration": 54,
    "start_time": "2024-06-10T14:23:25.756Z"
   },
   {
    "duration": 16,
    "start_time": "2024-06-10T14:23:25.819Z"
   },
   {
    "duration": 99,
    "start_time": "2024-06-10T14:23:25.836Z"
   },
   {
    "duration": 85,
    "start_time": "2024-06-10T14:23:25.937Z"
   },
   {
    "duration": 341,
    "start_time": "2024-06-10T14:23:26.024Z"
   },
   {
    "duration": 0,
    "start_time": "2024-06-10T14:23:26.368Z"
   },
   {
    "duration": 0,
    "start_time": "2024-06-10T14:23:26.370Z"
   },
   {
    "duration": 0,
    "start_time": "2024-06-10T14:23:26.371Z"
   },
   {
    "duration": 0,
    "start_time": "2024-06-10T14:23:26.372Z"
   },
   {
    "duration": 0,
    "start_time": "2024-06-10T14:23:26.373Z"
   },
   {
    "duration": 0,
    "start_time": "2024-06-10T14:23:26.375Z"
   },
   {
    "duration": 0,
    "start_time": "2024-06-10T14:23:26.376Z"
   },
   {
    "duration": 0,
    "start_time": "2024-06-10T14:23:26.378Z"
   },
   {
    "duration": 0,
    "start_time": "2024-06-10T14:23:26.379Z"
   },
   {
    "duration": 0,
    "start_time": "2024-06-10T14:23:26.380Z"
   },
   {
    "duration": 0,
    "start_time": "2024-06-10T14:23:26.381Z"
   },
   {
    "duration": 0,
    "start_time": "2024-06-10T14:23:26.382Z"
   },
   {
    "duration": 0,
    "start_time": "2024-06-10T14:23:26.383Z"
   },
   {
    "duration": 0,
    "start_time": "2024-06-10T14:23:26.384Z"
   },
   {
    "duration": 0,
    "start_time": "2024-06-10T14:23:26.385Z"
   },
   {
    "duration": 0,
    "start_time": "2024-06-10T14:23:26.386Z"
   },
   {
    "duration": 0,
    "start_time": "2024-06-10T14:23:26.421Z"
   },
   {
    "duration": 0,
    "start_time": "2024-06-10T14:23:26.422Z"
   },
   {
    "duration": 0,
    "start_time": "2024-06-10T14:23:26.423Z"
   },
   {
    "duration": 0,
    "start_time": "2024-06-10T14:23:26.424Z"
   },
   {
    "duration": 0,
    "start_time": "2024-06-10T14:23:26.425Z"
   },
   {
    "duration": 0,
    "start_time": "2024-06-10T14:23:26.426Z"
   },
   {
    "duration": 0,
    "start_time": "2024-06-10T14:23:26.427Z"
   },
   {
    "duration": 0,
    "start_time": "2024-06-10T14:23:26.428Z"
   },
   {
    "duration": 17,
    "start_time": "2024-06-10T14:24:09.723Z"
   },
   {
    "duration": 6,
    "start_time": "2024-06-10T14:30:01.398Z"
   },
   {
    "duration": 11535,
    "start_time": "2024-06-10T14:30:12.625Z"
   },
   {
    "duration": 9123,
    "start_time": "2024-06-10T14:30:24.162Z"
   },
   {
    "duration": 355,
    "start_time": "2024-06-10T14:30:33.287Z"
   },
   {
    "duration": 55,
    "start_time": "2024-06-10T14:30:33.643Z"
   },
   {
    "duration": 34,
    "start_time": "2024-06-10T14:30:33.699Z"
   },
   {
    "duration": 52,
    "start_time": "2024-06-10T14:30:33.735Z"
   },
   {
    "duration": 96,
    "start_time": "2024-06-10T14:30:33.789Z"
   },
   {
    "duration": 5,
    "start_time": "2024-06-10T14:30:33.887Z"
   },
   {
    "duration": 61,
    "start_time": "2024-06-10T14:30:33.893Z"
   },
   {
    "duration": 957,
    "start_time": "2024-06-10T14:30:33.957Z"
   },
   {
    "duration": 735,
    "start_time": "2024-06-10T14:30:34.920Z"
   },
   {
    "duration": 49,
    "start_time": "2024-06-10T14:30:35.656Z"
   },
   {
    "duration": 23,
    "start_time": "2024-06-10T14:30:35.707Z"
   },
   {
    "duration": 52,
    "start_time": "2024-06-10T14:30:35.732Z"
   },
   {
    "duration": 41,
    "start_time": "2024-06-10T14:30:35.820Z"
   },
   {
    "duration": 43,
    "start_time": "2024-06-10T14:30:35.862Z"
   },
   {
    "duration": 737,
    "start_time": "2024-06-10T14:30:35.920Z"
   },
   {
    "duration": 595,
    "start_time": "2024-06-10T14:30:36.658Z"
   },
   {
    "duration": 68,
    "start_time": "2024-06-10T14:30:37.255Z"
   },
   {
    "duration": 13,
    "start_time": "2024-06-10T14:30:37.325Z"
   },
   {
    "duration": 49,
    "start_time": "2024-06-10T14:30:37.340Z"
   },
   {
    "duration": 54,
    "start_time": "2024-06-10T14:30:37.391Z"
   },
   {
    "duration": 790,
    "start_time": "2024-06-10T14:30:37.447Z"
   },
   {
    "duration": 635,
    "start_time": "2024-06-10T14:30:38.239Z"
   },
   {
    "duration": 145,
    "start_time": "2024-06-10T14:30:38.876Z"
   },
   {
    "duration": 307,
    "start_time": "2024-06-10T14:30:39.022Z"
   },
   {
    "duration": 194,
    "start_time": "2024-06-10T14:30:39.332Z"
   },
   {
    "duration": 493,
    "start_time": "2024-06-10T14:30:39.530Z"
   },
   {
    "duration": 17,
    "start_time": "2024-06-10T14:30:40.025Z"
   },
   {
    "duration": 501,
    "start_time": "2024-06-10T14:30:40.044Z"
   },
   {
    "duration": 1260,
    "start_time": "2024-06-10T14:30:40.547Z"
   },
   {
    "duration": 297,
    "start_time": "2024-06-10T14:30:41.809Z"
   },
   {
    "duration": 24,
    "start_time": "2024-06-10T14:31:22.110Z"
   },
   {
    "duration": 39,
    "start_time": "2024-06-10T14:32:28.538Z"
   },
   {
    "duration": 311,
    "start_time": "2024-06-10T14:33:30.704Z"
   },
   {
    "duration": 13,
    "start_time": "2024-06-10T14:34:11.955Z"
   },
   {
    "duration": 14,
    "start_time": "2024-06-10T14:35:18.218Z"
   },
   {
    "duration": 25,
    "start_time": "2024-06-10T14:35:44.188Z"
   },
   {
    "duration": 36,
    "start_time": "2024-06-10T14:37:22.810Z"
   },
   {
    "duration": 13303,
    "start_time": "2024-06-10T14:37:42.936Z"
   },
   {
    "duration": 9020,
    "start_time": "2024-06-10T14:37:56.241Z"
   },
   {
    "duration": 378,
    "start_time": "2024-06-10T14:38:05.263Z"
   },
   {
    "duration": 66,
    "start_time": "2024-06-10T14:38:05.643Z"
   },
   {
    "duration": 27,
    "start_time": "2024-06-10T14:38:05.711Z"
   },
   {
    "duration": 91,
    "start_time": "2024-06-10T14:38:05.740Z"
   },
   {
    "duration": 51,
    "start_time": "2024-06-10T14:38:05.832Z"
   },
   {
    "duration": 49,
    "start_time": "2024-06-10T14:38:05.884Z"
   },
   {
    "duration": 77,
    "start_time": "2024-06-10T14:38:05.935Z"
   },
   {
    "duration": 957,
    "start_time": "2024-06-10T14:38:06.015Z"
   },
   {
    "duration": 674,
    "start_time": "2024-06-10T14:38:06.974Z"
   },
   {
    "duration": 58,
    "start_time": "2024-06-10T14:38:07.649Z"
   },
   {
    "duration": 23,
    "start_time": "2024-06-10T14:38:07.708Z"
   },
   {
    "duration": 91,
    "start_time": "2024-06-10T14:38:07.732Z"
   },
   {
    "duration": 46,
    "start_time": "2024-06-10T14:38:07.824Z"
   },
   {
    "duration": 57,
    "start_time": "2024-06-10T14:38:07.872Z"
   },
   {
    "duration": 765,
    "start_time": "2024-06-10T14:38:07.931Z"
   },
   {
    "duration": 611,
    "start_time": "2024-06-10T14:38:08.697Z"
   },
   {
    "duration": 53,
    "start_time": "2024-06-10T14:38:09.310Z"
   },
   {
    "duration": 20,
    "start_time": "2024-06-10T14:38:09.364Z"
   },
   {
    "duration": 73,
    "start_time": "2024-06-10T14:38:09.385Z"
   },
   {
    "duration": 72,
    "start_time": "2024-06-10T14:38:09.460Z"
   },
   {
    "duration": 833,
    "start_time": "2024-06-10T14:38:09.534Z"
   },
   {
    "duration": 651,
    "start_time": "2024-06-10T14:38:10.369Z"
   },
   {
    "duration": 113,
    "start_time": "2024-06-10T14:38:11.022Z"
   },
   {
    "duration": 190,
    "start_time": "2024-06-10T14:38:11.136Z"
   },
   {
    "duration": 194,
    "start_time": "2024-06-10T14:38:11.327Z"
   },
   {
    "duration": 265,
    "start_time": "2024-06-10T14:38:11.525Z"
   },
   {
    "duration": 28,
    "start_time": "2024-06-10T14:38:11.792Z"
   },
   {
    "duration": 240,
    "start_time": "2024-06-10T14:38:11.822Z"
   },
   {
    "duration": 998,
    "start_time": "2024-06-10T14:38:12.063Z"
   },
   {
    "duration": 315,
    "start_time": "2024-06-10T14:38:13.063Z"
   },
   {
    "duration": 44,
    "start_time": "2024-06-10T14:40:03.003Z"
   },
   {
    "duration": 48,
    "start_time": "2024-06-10T14:40:14.955Z"
   },
   {
    "duration": 24,
    "start_time": "2024-06-10T14:42:02.712Z"
   },
   {
    "duration": 11407,
    "start_time": "2024-06-10T14:42:12.734Z"
   },
   {
    "duration": 9180,
    "start_time": "2024-06-10T14:42:24.144Z"
   },
   {
    "duration": 364,
    "start_time": "2024-06-10T14:42:33.325Z"
   },
   {
    "duration": 60,
    "start_time": "2024-06-10T14:42:33.691Z"
   },
   {
    "duration": 13,
    "start_time": "2024-06-10T14:42:33.753Z"
   },
   {
    "duration": 80,
    "start_time": "2024-06-10T14:42:33.768Z"
   },
   {
    "duration": 73,
    "start_time": "2024-06-10T14:42:33.850Z"
   },
   {
    "duration": 38,
    "start_time": "2024-06-10T14:42:33.925Z"
   },
   {
    "duration": 72,
    "start_time": "2024-06-10T14:42:33.965Z"
   },
   {
    "duration": 930,
    "start_time": "2024-06-10T14:42:34.041Z"
   },
   {
    "duration": 735,
    "start_time": "2024-06-10T14:42:34.973Z"
   },
   {
    "duration": 53,
    "start_time": "2024-06-10T14:42:35.709Z"
   },
   {
    "duration": 20,
    "start_time": "2024-06-10T14:42:35.764Z"
   },
   {
    "duration": 74,
    "start_time": "2024-06-10T14:42:35.786Z"
   },
   {
    "duration": 63,
    "start_time": "2024-06-10T14:42:35.862Z"
   },
   {
    "duration": 42,
    "start_time": "2024-06-10T14:42:35.926Z"
   },
   {
    "duration": 22,
    "start_time": "2024-06-10T14:42:35.969Z"
   },
   {
    "duration": 75,
    "start_time": "2024-06-10T14:42:35.992Z"
   },
   {
    "duration": 774,
    "start_time": "2024-06-10T14:42:36.069Z"
   },
   {
    "duration": 706,
    "start_time": "2024-06-10T14:42:36.845Z"
   },
   {
    "duration": 48,
    "start_time": "2024-06-10T14:42:37.553Z"
   },
   {
    "duration": 30,
    "start_time": "2024-06-10T14:42:37.602Z"
   },
   {
    "duration": 43,
    "start_time": "2024-06-10T14:42:37.633Z"
   },
   {
    "duration": 68,
    "start_time": "2024-06-10T14:42:37.678Z"
   },
   {
    "duration": 857,
    "start_time": "2024-06-10T14:42:37.748Z"
   },
   {
    "duration": 589,
    "start_time": "2024-06-10T14:42:38.607Z"
   },
   {
    "duration": 132,
    "start_time": "2024-06-10T14:42:39.198Z"
   },
   {
    "duration": 101,
    "start_time": "2024-06-10T14:42:39.333Z"
   },
   {
    "duration": 94,
    "start_time": "2024-06-10T14:42:39.436Z"
   },
   {
    "duration": 359,
    "start_time": "2024-06-10T14:42:39.532Z"
   },
   {
    "duration": 27,
    "start_time": "2024-06-10T14:42:39.893Z"
   },
   {
    "duration": 235,
    "start_time": "2024-06-10T14:42:39.922Z"
   },
   {
    "duration": 930,
    "start_time": "2024-06-10T14:42:40.159Z"
   },
   {
    "duration": 332,
    "start_time": "2024-06-10T14:42:41.091Z"
   },
   {
    "duration": 46,
    "start_time": "2024-06-10T14:44:26.913Z"
   },
   {
    "duration": 35,
    "start_time": "2024-06-10T14:45:48.029Z"
   },
   {
    "duration": 11447,
    "start_time": "2024-06-10T14:46:02.862Z"
   },
   {
    "duration": 9653,
    "start_time": "2024-06-10T14:46:14.312Z"
   },
   {
    "duration": 435,
    "start_time": "2024-06-10T14:46:23.970Z"
   },
   {
    "duration": 65,
    "start_time": "2024-06-10T14:46:24.407Z"
   },
   {
    "duration": 16,
    "start_time": "2024-06-10T14:46:24.474Z"
   },
   {
    "duration": 76,
    "start_time": "2024-06-10T14:46:24.491Z"
   },
   {
    "duration": 72,
    "start_time": "2024-06-10T14:46:24.569Z"
   },
   {
    "duration": 37,
    "start_time": "2024-06-10T14:46:24.642Z"
   },
   {
    "duration": 72,
    "start_time": "2024-06-10T14:46:24.682Z"
   },
   {
    "duration": 919,
    "start_time": "2024-06-10T14:46:24.756Z"
   },
   {
    "duration": 801,
    "start_time": "2024-06-10T14:46:25.677Z"
   },
   {
    "duration": 60,
    "start_time": "2024-06-10T14:46:26.480Z"
   },
   {
    "duration": 15,
    "start_time": "2024-06-10T14:46:26.542Z"
   },
   {
    "duration": 88,
    "start_time": "2024-06-10T14:46:26.558Z"
   },
   {
    "duration": 46,
    "start_time": "2024-06-10T14:46:26.647Z"
   },
   {
    "duration": 65,
    "start_time": "2024-06-10T14:46:26.695Z"
   },
   {
    "duration": 27,
    "start_time": "2024-06-10T14:46:26.761Z"
   },
   {
    "duration": 74,
    "start_time": "2024-06-10T14:46:26.789Z"
   },
   {
    "duration": 892,
    "start_time": "2024-06-10T14:46:26.865Z"
   },
   {
    "duration": 729,
    "start_time": "2024-06-10T14:46:27.760Z"
   },
   {
    "duration": 63,
    "start_time": "2024-06-10T14:46:28.490Z"
   },
   {
    "duration": 20,
    "start_time": "2024-06-10T14:46:28.554Z"
   },
   {
    "duration": 66,
    "start_time": "2024-06-10T14:46:28.576Z"
   },
   {
    "duration": 33,
    "start_time": "2024-06-10T14:46:28.644Z"
   },
   {
    "duration": 75,
    "start_time": "2024-06-10T14:46:28.679Z"
   },
   {
    "duration": 45,
    "start_time": "2024-06-10T14:46:28.757Z"
   },
   {
    "duration": 793,
    "start_time": "2024-06-10T14:46:28.822Z"
   },
   {
    "duration": 752,
    "start_time": "2024-06-10T14:46:29.616Z"
   },
   {
    "duration": 126,
    "start_time": "2024-06-10T14:46:30.370Z"
   },
   {
    "duration": 125,
    "start_time": "2024-06-10T14:46:30.498Z"
   },
   {
    "duration": 103,
    "start_time": "2024-06-10T14:46:30.625Z"
   },
   {
    "duration": 714,
    "start_time": "2024-06-10T14:46:30.729Z"
   },
   {
    "duration": 15,
    "start_time": "2024-06-10T14:46:31.445Z"
   },
   {
    "duration": 510,
    "start_time": "2024-06-10T14:46:31.462Z"
   },
   {
    "duration": 807,
    "start_time": "2024-06-10T14:46:31.974Z"
   },
   {
    "duration": 315,
    "start_time": "2024-06-10T14:46:32.783Z"
   },
   {
    "duration": 11495,
    "start_time": "2024-06-10T14:48:38.638Z"
   },
   {
    "duration": 8948,
    "start_time": "2024-06-10T14:48:50.136Z"
   },
   {
    "duration": 360,
    "start_time": "2024-06-10T14:48:59.085Z"
   },
   {
    "duration": 56,
    "start_time": "2024-06-10T14:48:59.447Z"
   },
   {
    "duration": 28,
    "start_time": "2024-06-10T14:48:59.504Z"
   },
   {
    "duration": 90,
    "start_time": "2024-06-10T14:48:59.533Z"
   },
   {
    "duration": 65,
    "start_time": "2024-06-10T14:48:59.625Z"
   },
   {
    "duration": 45,
    "start_time": "2024-06-10T14:48:59.692Z"
   },
   {
    "duration": 45,
    "start_time": "2024-06-10T14:48:59.738Z"
   },
   {
    "duration": 967,
    "start_time": "2024-06-10T14:48:59.785Z"
   },
   {
    "duration": 716,
    "start_time": "2024-06-10T14:49:00.753Z"
   },
   {
    "duration": 58,
    "start_time": "2024-06-10T14:49:01.470Z"
   },
   {
    "duration": 54,
    "start_time": "2024-06-10T14:49:01.529Z"
   },
   {
    "duration": 115,
    "start_time": "2024-06-10T14:49:01.585Z"
   },
   {
    "duration": 106,
    "start_time": "2024-06-10T14:49:01.702Z"
   },
   {
    "duration": 38,
    "start_time": "2024-06-10T14:49:01.809Z"
   },
   {
    "duration": 23,
    "start_time": "2024-06-10T14:49:01.849Z"
   },
   {
    "duration": 66,
    "start_time": "2024-06-10T14:49:01.874Z"
   },
   {
    "duration": 866,
    "start_time": "2024-06-10T14:49:01.942Z"
   },
   {
    "duration": 668,
    "start_time": "2024-06-10T14:49:02.809Z"
   },
   {
    "duration": 75,
    "start_time": "2024-06-10T14:49:03.479Z"
   },
   {
    "duration": 19,
    "start_time": "2024-06-10T14:49:03.556Z"
   },
   {
    "duration": 69,
    "start_time": "2024-06-10T14:49:03.577Z"
   },
   {
    "duration": 23,
    "start_time": "2024-06-10T14:49:03.648Z"
   },
   {
    "duration": 77,
    "start_time": "2024-06-10T14:49:03.673Z"
   },
   {
    "duration": 49,
    "start_time": "2024-06-10T14:49:03.751Z"
   },
   {
    "duration": 776,
    "start_time": "2024-06-10T14:49:03.801Z"
   },
   {
    "duration": 696,
    "start_time": "2024-06-10T14:49:04.581Z"
   },
   {
    "duration": 146,
    "start_time": "2024-06-10T14:49:05.279Z"
   },
   {
    "duration": 194,
    "start_time": "2024-06-10T14:49:05.427Z"
   },
   {
    "duration": 14,
    "start_time": "2024-06-10T14:49:05.623Z"
   },
   {
    "duration": 275,
    "start_time": "2024-06-10T14:49:05.721Z"
   },
   {
    "duration": 24,
    "start_time": "2024-06-10T14:49:05.998Z"
   },
   {
    "duration": 438,
    "start_time": "2024-06-10T14:49:06.024Z"
   },
   {
    "duration": 754,
    "start_time": "2024-06-10T14:49:06.464Z"
   },
   {
    "duration": 289,
    "start_time": "2024-06-10T14:49:07.220Z"
   },
   {
    "duration": 11374,
    "start_time": "2024-06-10T14:55:36.445Z"
   },
   {
    "duration": 9039,
    "start_time": "2024-06-10T14:55:47.821Z"
   },
   {
    "duration": 359,
    "start_time": "2024-06-10T14:55:56.862Z"
   },
   {
    "duration": 55,
    "start_time": "2024-06-10T14:55:57.222Z"
   },
   {
    "duration": 14,
    "start_time": "2024-06-10T14:55:57.279Z"
   },
   {
    "duration": 73,
    "start_time": "2024-06-10T14:55:57.294Z"
   },
   {
    "duration": 91,
    "start_time": "2024-06-10T14:55:57.369Z"
   },
   {
    "duration": 42,
    "start_time": "2024-06-10T14:55:57.461Z"
   },
   {
    "duration": 58,
    "start_time": "2024-06-10T14:55:57.504Z"
   },
   {
    "duration": 963,
    "start_time": "2024-06-10T14:55:57.564Z"
   },
   {
    "duration": 593,
    "start_time": "2024-06-10T14:55:58.529Z"
   },
   {
    "duration": 49,
    "start_time": "2024-06-10T14:55:59.124Z"
   },
   {
    "duration": 14,
    "start_time": "2024-06-10T14:55:59.174Z"
   },
   {
    "duration": 75,
    "start_time": "2024-06-10T14:55:59.189Z"
   },
   {
    "duration": 63,
    "start_time": "2024-06-10T14:55:59.265Z"
   },
   {
    "duration": 38,
    "start_time": "2024-06-10T14:55:59.329Z"
   },
   {
    "duration": 57,
    "start_time": "2024-06-10T14:55:59.369Z"
   },
   {
    "duration": 59,
    "start_time": "2024-06-10T14:55:59.428Z"
   },
   {
    "duration": 853,
    "start_time": "2024-06-10T14:55:59.489Z"
   },
   {
    "duration": 587,
    "start_time": "2024-06-10T14:56:00.344Z"
   },
   {
    "duration": 50,
    "start_time": "2024-06-10T14:56:00.932Z"
   },
   {
    "duration": 42,
    "start_time": "2024-06-10T14:56:00.983Z"
   },
   {
    "duration": 68,
    "start_time": "2024-06-10T14:56:01.027Z"
   },
   {
    "duration": 44,
    "start_time": "2024-06-10T14:56:01.097Z"
   },
   {
    "duration": 91,
    "start_time": "2024-06-10T14:56:01.142Z"
   },
   {
    "duration": 61,
    "start_time": "2024-06-10T14:56:01.234Z"
   },
   {
    "duration": 1048,
    "start_time": "2024-06-10T14:56:01.297Z"
   },
   {
    "duration": 1205,
    "start_time": "2024-06-10T14:56:02.349Z"
   },
   {
    "duration": 205,
    "start_time": "2024-06-10T14:56:03.556Z"
   },
   {
    "duration": 162,
    "start_time": "2024-06-10T14:56:03.763Z"
   },
   {
    "duration": 97,
    "start_time": "2024-06-10T14:56:03.927Z"
   },
   {
    "duration": 274,
    "start_time": "2024-06-10T14:56:04.026Z"
   },
   {
    "duration": 23,
    "start_time": "2024-06-10T14:56:04.301Z"
   },
   {
    "duration": 237,
    "start_time": "2024-06-10T14:56:04.325Z"
   },
   {
    "duration": 920,
    "start_time": "2024-06-10T14:56:04.563Z"
   },
   {
    "duration": 306,
    "start_time": "2024-06-10T14:56:05.485Z"
   },
   {
    "duration": 11458,
    "start_time": "2024-06-10T14:59:16.888Z"
   },
   {
    "duration": 9486,
    "start_time": "2024-06-10T14:59:28.349Z"
   },
   {
    "duration": 357,
    "start_time": "2024-06-10T14:59:37.836Z"
   },
   {
    "duration": 62,
    "start_time": "2024-06-10T14:59:38.194Z"
   },
   {
    "duration": 21,
    "start_time": "2024-06-10T14:59:38.258Z"
   },
   {
    "duration": 87,
    "start_time": "2024-06-10T14:59:38.281Z"
   },
   {
    "duration": 76,
    "start_time": "2024-06-10T14:59:38.370Z"
   },
   {
    "duration": 35,
    "start_time": "2024-06-10T14:59:38.448Z"
   },
   {
    "duration": 71,
    "start_time": "2024-06-10T14:59:38.485Z"
   },
   {
    "duration": 947,
    "start_time": "2024-06-10T14:59:38.559Z"
   },
   {
    "duration": 627,
    "start_time": "2024-06-10T14:59:39.508Z"
   },
   {
    "duration": 86,
    "start_time": "2024-06-10T14:59:40.137Z"
   },
   {
    "duration": 15,
    "start_time": "2024-06-10T14:59:40.225Z"
   },
   {
    "duration": 78,
    "start_time": "2024-06-10T14:59:40.242Z"
   },
   {
    "duration": 40,
    "start_time": "2024-06-10T14:59:40.322Z"
   },
   {
    "duration": 58,
    "start_time": "2024-06-10T14:59:40.363Z"
   },
   {
    "duration": 27,
    "start_time": "2024-06-10T14:59:40.423Z"
   },
   {
    "duration": 40,
    "start_time": "2024-06-10T14:59:40.451Z"
   },
   {
    "duration": 745,
    "start_time": "2024-06-10T14:59:40.493Z"
   },
   {
    "duration": 600,
    "start_time": "2024-06-10T14:59:41.239Z"
   },
   {
    "duration": 52,
    "start_time": "2024-06-10T14:59:41.841Z"
   },
   {
    "duration": 34,
    "start_time": "2024-06-10T14:59:41.894Z"
   },
   {
    "duration": 47,
    "start_time": "2024-06-10T14:59:41.929Z"
   },
   {
    "duration": 46,
    "start_time": "2024-06-10T14:59:41.978Z"
   },
   {
    "duration": 51,
    "start_time": "2024-06-10T14:59:42.026Z"
   },
   {
    "duration": 67,
    "start_time": "2024-06-10T14:59:42.079Z"
   },
   {
    "duration": 841,
    "start_time": "2024-06-10T14:59:42.148Z"
   },
   {
    "duration": 628,
    "start_time": "2024-06-10T14:59:42.992Z"
   },
   {
    "duration": 107,
    "start_time": "2024-06-10T14:59:43.622Z"
   },
   {
    "duration": 189,
    "start_time": "2024-06-10T14:59:43.731Z"
   },
   {
    "duration": 267,
    "start_time": "2024-06-10T14:59:43.922Z"
   },
   {
    "duration": 30,
    "start_time": "2024-06-10T14:59:44.191Z"
   },
   {
    "duration": 268,
    "start_time": "2024-06-10T14:59:44.223Z"
   },
   {
    "duration": 925,
    "start_time": "2024-06-10T14:59:44.492Z"
   },
   {
    "duration": 299,
    "start_time": "2024-06-10T14:59:45.421Z"
   },
   {
    "duration": 11249,
    "start_time": "2024-06-10T15:06:09.369Z"
   },
   {
    "duration": 8895,
    "start_time": "2024-06-10T15:06:20.621Z"
   },
   {
    "duration": 411,
    "start_time": "2024-06-10T15:06:29.518Z"
   },
   {
    "duration": 57,
    "start_time": "2024-06-10T15:06:29.931Z"
   },
   {
    "duration": 41,
    "start_time": "2024-06-10T15:06:29.990Z"
   },
   {
    "duration": 60,
    "start_time": "2024-06-10T15:06:30.033Z"
   },
   {
    "duration": 49,
    "start_time": "2024-06-10T15:06:30.121Z"
   },
   {
    "duration": 58,
    "start_time": "2024-06-10T15:06:30.171Z"
   },
   {
    "duration": 58,
    "start_time": "2024-06-10T15:06:30.230Z"
   },
   {
    "duration": 1114,
    "start_time": "2024-06-10T15:06:30.292Z"
   },
   {
    "duration": 612,
    "start_time": "2024-06-10T15:06:31.408Z"
   },
   {
    "duration": 51,
    "start_time": "2024-06-10T15:06:32.022Z"
   },
   {
    "duration": 16,
    "start_time": "2024-06-10T15:06:32.075Z"
   },
   {
    "duration": 88,
    "start_time": "2024-06-10T15:06:32.093Z"
   },
   {
    "duration": 62,
    "start_time": "2024-06-10T15:06:32.182Z"
   },
   {
    "duration": 40,
    "start_time": "2024-06-10T15:06:32.246Z"
   },
   {
    "duration": 52,
    "start_time": "2024-06-10T15:06:32.288Z"
   },
   {
    "duration": 42,
    "start_time": "2024-06-10T15:06:32.342Z"
   },
   {
    "duration": 840,
    "start_time": "2024-06-10T15:06:32.385Z"
   },
   {
    "duration": 621,
    "start_time": "2024-06-10T15:06:33.227Z"
   },
   {
    "duration": 48,
    "start_time": "2024-06-10T15:06:33.850Z"
   },
   {
    "duration": 28,
    "start_time": "2024-06-10T15:06:33.899Z"
   },
   {
    "duration": 39,
    "start_time": "2024-06-10T15:06:33.929Z"
   },
   {
    "duration": 50,
    "start_time": "2024-06-10T15:06:33.970Z"
   },
   {
    "duration": 49,
    "start_time": "2024-06-10T15:06:34.022Z"
   },
   {
    "duration": 78,
    "start_time": "2024-06-10T15:06:34.072Z"
   },
   {
    "duration": 793,
    "start_time": "2024-06-10T15:06:34.152Z"
   },
   {
    "duration": 637,
    "start_time": "2024-06-10T15:06:34.950Z"
   },
   {
    "duration": 132,
    "start_time": "2024-06-10T15:06:35.589Z"
   },
   {
    "duration": 12,
    "start_time": "2024-06-10T15:06:35.723Z"
   },
   {
    "duration": 274,
    "start_time": "2024-06-10T15:06:35.821Z"
   },
   {
    "duration": 25,
    "start_time": "2024-06-10T15:06:36.096Z"
   },
   {
    "duration": 248,
    "start_time": "2024-06-10T15:06:36.122Z"
   },
   {
    "duration": 888,
    "start_time": "2024-06-10T15:06:36.372Z"
   },
   {
    "duration": 333,
    "start_time": "2024-06-10T15:06:37.261Z"
   },
   {
    "duration": 11333,
    "start_time": "2024-06-10T15:12:12.922Z"
   },
   {
    "duration": 8921,
    "start_time": "2024-06-10T15:12:24.257Z"
   },
   {
    "duration": 356,
    "start_time": "2024-06-10T15:12:33.179Z"
   },
   {
    "duration": 57,
    "start_time": "2024-06-10T15:12:33.537Z"
   },
   {
    "duration": 31,
    "start_time": "2024-06-10T15:12:33.596Z"
   },
   {
    "duration": 53,
    "start_time": "2024-06-10T15:12:33.629Z"
   },
   {
    "duration": 83,
    "start_time": "2024-06-10T15:12:33.683Z"
   },
   {
    "duration": 63,
    "start_time": "2024-06-10T15:12:33.768Z"
   },
   {
    "duration": 44,
    "start_time": "2024-06-10T15:12:33.833Z"
   },
   {
    "duration": 965,
    "start_time": "2024-06-10T15:12:33.880Z"
   },
   {
    "duration": 604,
    "start_time": "2024-06-10T15:12:34.847Z"
   },
   {
    "duration": 50,
    "start_time": "2024-06-10T15:12:35.452Z"
   },
   {
    "duration": 27,
    "start_time": "2024-06-10T15:12:35.503Z"
   },
   {
    "duration": 66,
    "start_time": "2024-06-10T15:12:35.531Z"
   },
   {
    "duration": 69,
    "start_time": "2024-06-10T15:12:35.598Z"
   },
   {
    "duration": 52,
    "start_time": "2024-06-10T15:12:35.669Z"
   },
   {
    "duration": 27,
    "start_time": "2024-06-10T15:12:35.723Z"
   },
   {
    "duration": 40,
    "start_time": "2024-06-10T15:12:35.751Z"
   },
   {
    "duration": 772,
    "start_time": "2024-06-10T15:12:35.793Z"
   },
   {
    "duration": 616,
    "start_time": "2024-06-10T15:12:36.567Z"
   },
   {
    "duration": 74,
    "start_time": "2024-06-10T15:12:37.185Z"
   },
   {
    "duration": 14,
    "start_time": "2024-06-10T15:12:37.261Z"
   },
   {
    "duration": 60,
    "start_time": "2024-06-10T15:12:37.277Z"
   },
   {
    "duration": 27,
    "start_time": "2024-06-10T15:12:37.339Z"
   },
   {
    "duration": 73,
    "start_time": "2024-06-10T15:12:37.368Z"
   },
   {
    "duration": 40,
    "start_time": "2024-06-10T15:12:37.443Z"
   },
   {
    "duration": 816,
    "start_time": "2024-06-10T15:12:37.484Z"
   },
   {
    "duration": 619,
    "start_time": "2024-06-10T15:12:38.303Z"
   },
   {
    "duration": 203,
    "start_time": "2024-06-10T15:12:38.924Z"
   },
   {
    "duration": 98,
    "start_time": "2024-06-10T15:12:39.129Z"
   },
   {
    "duration": 260,
    "start_time": "2024-06-10T15:12:39.228Z"
   },
   {
    "duration": 31,
    "start_time": "2024-06-10T15:12:39.490Z"
   },
   {
    "duration": 250,
    "start_time": "2024-06-10T15:12:39.523Z"
   },
   {
    "duration": 951,
    "start_time": "2024-06-10T15:12:39.774Z"
   },
   {
    "duration": 287,
    "start_time": "2024-06-10T15:12:40.726Z"
   },
   {
    "duration": 317,
    "start_time": "2024-06-10T15:16:49.942Z"
   },
   {
    "duration": 11423,
    "start_time": "2024-06-10T15:17:41.077Z"
   },
   {
    "duration": 8953,
    "start_time": "2024-06-10T15:17:52.503Z"
   },
   {
    "duration": 379,
    "start_time": "2024-06-10T15:18:01.458Z"
   },
   {
    "duration": 55,
    "start_time": "2024-06-10T15:18:01.839Z"
   },
   {
    "duration": 36,
    "start_time": "2024-06-10T15:18:01.896Z"
   },
   {
    "duration": 96,
    "start_time": "2024-06-10T15:18:01.934Z"
   },
   {
    "duration": 89,
    "start_time": "2024-06-10T15:18:02.032Z"
   },
   {
    "duration": 42,
    "start_time": "2024-06-10T15:18:02.123Z"
   },
   {
    "duration": 84,
    "start_time": "2024-06-10T15:18:02.167Z"
   },
   {
    "duration": 987,
    "start_time": "2024-06-10T15:18:02.254Z"
   },
   {
    "duration": 598,
    "start_time": "2024-06-10T15:18:03.243Z"
   },
   {
    "duration": 48,
    "start_time": "2024-06-10T15:18:03.843Z"
   },
   {
    "duration": 33,
    "start_time": "2024-06-10T15:18:03.893Z"
   },
   {
    "duration": 67,
    "start_time": "2024-06-10T15:18:03.928Z"
   },
   {
    "duration": 74,
    "start_time": "2024-06-10T15:18:03.997Z"
   },
   {
    "duration": 52,
    "start_time": "2024-06-10T15:18:04.073Z"
   },
   {
    "duration": 29,
    "start_time": "2024-06-10T15:18:04.127Z"
   },
   {
    "duration": 85,
    "start_time": "2024-06-10T15:18:04.157Z"
   },
   {
    "duration": 791,
    "start_time": "2024-06-10T15:18:04.244Z"
   },
   {
    "duration": 596,
    "start_time": "2024-06-10T15:18:05.037Z"
   },
   {
    "duration": 63,
    "start_time": "2024-06-10T15:18:05.634Z"
   },
   {
    "duration": 42,
    "start_time": "2024-06-10T15:18:05.699Z"
   },
   {
    "duration": 58,
    "start_time": "2024-06-10T15:18:05.743Z"
   },
   {
    "duration": 48,
    "start_time": "2024-06-10T15:18:05.803Z"
   },
   {
    "duration": 70,
    "start_time": "2024-06-10T15:18:05.853Z"
   },
   {
    "duration": 48,
    "start_time": "2024-06-10T15:18:05.925Z"
   },
   {
    "duration": 786,
    "start_time": "2024-06-10T15:18:05.975Z"
   },
   {
    "duration": 583,
    "start_time": "2024-06-10T15:18:06.765Z"
   },
   {
    "duration": 95,
    "start_time": "2024-06-10T15:18:07.349Z"
   },
   {
    "duration": 178,
    "start_time": "2024-06-10T15:18:07.446Z"
   },
   {
    "duration": 254,
    "start_time": "2024-06-10T15:18:07.626Z"
   },
   {
    "duration": 13,
    "start_time": "2024-06-10T15:18:07.882Z"
   },
   {
    "duration": 257,
    "start_time": "2024-06-10T15:18:07.897Z"
   },
   {
    "duration": 966,
    "start_time": "2024-06-10T15:18:08.156Z"
   },
   {
    "duration": 305,
    "start_time": "2024-06-10T15:18:09.123Z"
   },
   {
    "duration": 16,
    "start_time": "2024-06-10T15:21:16.447Z"
   },
   {
    "duration": 41,
    "start_time": "2024-06-10T15:26:17.949Z"
   },
   {
    "duration": 16,
    "start_time": "2024-06-10T15:26:45.060Z"
   },
   {
    "duration": 17,
    "start_time": "2024-06-10T15:27:10.760Z"
   },
   {
    "duration": 69,
    "start_time": "2024-06-10T15:28:00.741Z"
   },
   {
    "duration": 19,
    "start_time": "2024-06-10T15:28:08.428Z"
   },
   {
    "duration": 17,
    "start_time": "2024-06-10T15:30:34.789Z"
   },
   {
    "duration": 19,
    "start_time": "2024-06-10T15:31:41.543Z"
   },
   {
    "duration": 14,
    "start_time": "2024-06-10T15:36:39.845Z"
   },
   {
    "duration": 1869,
    "start_time": "2024-06-10T15:41:01.298Z"
   },
   {
    "duration": 265,
    "start_time": "2024-06-10T15:41:23.305Z"
   },
   {
    "duration": 1006,
    "start_time": "2024-06-10T15:43:07.150Z"
   },
   {
    "duration": 15,
    "start_time": "2024-06-10T15:44:07.696Z"
   },
   {
    "duration": 17,
    "start_time": "2024-06-10T15:44:12.062Z"
   },
   {
    "duration": 745,
    "start_time": "2024-06-10T15:46:46.921Z"
   },
   {
    "duration": 275,
    "start_time": "2024-06-10T15:49:57.779Z"
   },
   {
    "duration": 284,
    "start_time": "2024-06-10T15:51:15.589Z"
   },
   {
    "duration": 1036,
    "start_time": "2024-06-10T15:52:52.753Z"
   },
   {
    "duration": 1167,
    "start_time": "2024-06-10T15:53:21.806Z"
   },
   {
    "duration": 11540,
    "start_time": "2024-06-10T15:53:42.501Z"
   },
   {
    "duration": 8875,
    "start_time": "2024-06-10T15:53:54.043Z"
   },
   {
    "duration": 354,
    "start_time": "2024-06-10T15:54:02.920Z"
   },
   {
    "duration": 61,
    "start_time": "2024-06-10T15:54:03.276Z"
   },
   {
    "duration": 14,
    "start_time": "2024-06-10T15:54:03.339Z"
   },
   {
    "duration": 81,
    "start_time": "2024-06-10T15:54:03.355Z"
   },
   {
    "duration": 50,
    "start_time": "2024-06-10T15:54:03.438Z"
   },
   {
    "duration": 52,
    "start_time": "2024-06-10T15:54:03.489Z"
   },
   {
    "duration": 45,
    "start_time": "2024-06-10T15:54:03.543Z"
   },
   {
    "duration": 966,
    "start_time": "2024-06-10T15:54:03.590Z"
   },
   {
    "duration": 590,
    "start_time": "2024-06-10T15:54:04.558Z"
   },
   {
    "duration": 51,
    "start_time": "2024-06-10T15:54:05.149Z"
   },
   {
    "duration": 27,
    "start_time": "2024-06-10T15:54:05.201Z"
   },
   {
    "duration": 90,
    "start_time": "2024-06-10T15:54:05.230Z"
   },
   {
    "duration": 59,
    "start_time": "2024-06-10T15:54:05.322Z"
   },
   {
    "duration": 56,
    "start_time": "2024-06-10T15:54:05.382Z"
   },
   {
    "duration": 29,
    "start_time": "2024-06-10T15:54:05.440Z"
   },
   {
    "duration": 83,
    "start_time": "2024-06-10T15:54:05.471Z"
   },
   {
    "duration": 792,
    "start_time": "2024-06-10T15:54:05.556Z"
   },
   {
    "duration": 594,
    "start_time": "2024-06-10T15:54:06.349Z"
   },
   {
    "duration": 56,
    "start_time": "2024-06-10T15:54:06.944Z"
   },
   {
    "duration": 28,
    "start_time": "2024-06-10T15:54:07.002Z"
   },
   {
    "duration": 38,
    "start_time": "2024-06-10T15:54:07.032Z"
   },
   {
    "duration": 51,
    "start_time": "2024-06-10T15:54:07.071Z"
   },
   {
    "duration": 42,
    "start_time": "2024-06-10T15:54:07.124Z"
   },
   {
    "duration": 55,
    "start_time": "2024-06-10T15:54:07.167Z"
   },
   {
    "duration": 746,
    "start_time": "2024-06-10T15:54:07.224Z"
   },
   {
    "duration": 571,
    "start_time": "2024-06-10T15:54:07.973Z"
   },
   {
    "duration": 92,
    "start_time": "2024-06-10T15:54:08.546Z"
   },
   {
    "duration": 94,
    "start_time": "2024-06-10T15:54:08.640Z"
   },
   {
    "duration": 344,
    "start_time": "2024-06-10T15:54:08.736Z"
   },
   {
    "duration": 14,
    "start_time": "2024-06-10T15:54:09.081Z"
   },
   {
    "duration": 269,
    "start_time": "2024-06-10T15:54:09.096Z"
   },
   {
    "duration": 919,
    "start_time": "2024-06-10T15:54:09.367Z"
   },
   {
    "duration": 324,
    "start_time": "2024-06-10T15:54:10.287Z"
   },
   {
    "duration": 971,
    "start_time": "2024-06-10T15:55:45.417Z"
   },
   {
    "duration": 813,
    "start_time": "2024-06-10T15:59:12.088Z"
   },
   {
    "duration": 1362,
    "start_time": "2024-06-10T16:33:18.009Z"
   },
   {
    "duration": 753,
    "start_time": "2024-06-10T16:34:10.434Z"
   },
   {
    "duration": 26,
    "start_time": "2024-06-10T16:35:53.765Z"
   },
   {
    "duration": 9459,
    "start_time": "2024-06-10T16:38:46.913Z"
   },
   {
    "duration": 9799,
    "start_time": "2024-06-10T16:46:06.865Z"
   },
   {
    "duration": 10717,
    "start_time": "2024-06-10T16:48:07.959Z"
   },
   {
    "duration": 8307,
    "start_time": "2024-06-10T16:48:18.678Z"
   },
   {
    "duration": 345,
    "start_time": "2024-06-10T16:48:26.986Z"
   },
   {
    "duration": 53,
    "start_time": "2024-06-10T16:48:27.332Z"
   },
   {
    "duration": 13,
    "start_time": "2024-06-10T16:48:27.387Z"
   },
   {
    "duration": 67,
    "start_time": "2024-06-10T16:48:27.401Z"
   },
   {
    "duration": 69,
    "start_time": "2024-06-10T16:48:27.469Z"
   },
   {
    "duration": 32,
    "start_time": "2024-06-10T16:48:27.540Z"
   },
   {
    "duration": 63,
    "start_time": "2024-06-10T16:48:27.573Z"
   },
   {
    "duration": 898,
    "start_time": "2024-06-10T16:48:27.637Z"
   },
   {
    "duration": 578,
    "start_time": "2024-06-10T16:48:28.536Z"
   },
   {
    "duration": 47,
    "start_time": "2024-06-10T16:48:29.120Z"
   },
   {
    "duration": 13,
    "start_time": "2024-06-10T16:48:29.168Z"
   },
   {
    "duration": 68,
    "start_time": "2024-06-10T16:48:29.183Z"
   },
   {
    "duration": 37,
    "start_time": "2024-06-10T16:48:29.253Z"
   },
   {
    "duration": 66,
    "start_time": "2024-06-10T16:48:29.292Z"
   },
   {
    "duration": 25,
    "start_time": "2024-06-10T16:48:29.359Z"
   },
   {
    "duration": 53,
    "start_time": "2024-06-10T16:48:29.385Z"
   },
   {
    "duration": 690,
    "start_time": "2024-06-10T16:48:29.439Z"
   },
   {
    "duration": 611,
    "start_time": "2024-06-10T16:48:30.131Z"
   },
   {
    "duration": 46,
    "start_time": "2024-06-10T16:48:30.743Z"
   },
   {
    "duration": 17,
    "start_time": "2024-06-10T16:48:30.790Z"
   },
   {
    "duration": 76,
    "start_time": "2024-06-10T16:48:30.820Z"
   },
   {
    "duration": 86,
    "start_time": "2024-06-10T16:48:30.897Z"
   },
   {
    "duration": 84,
    "start_time": "2024-06-10T16:48:30.984Z"
   },
   {
    "duration": 38,
    "start_time": "2024-06-10T16:48:31.069Z"
   },
   {
    "duration": 727,
    "start_time": "2024-06-10T16:48:31.109Z"
   },
   {
    "duration": 576,
    "start_time": "2024-06-10T16:48:31.838Z"
   },
   {
    "duration": 108,
    "start_time": "2024-06-10T16:48:32.415Z"
   },
   {
    "duration": 12,
    "start_time": "2024-06-10T16:48:32.525Z"
   },
   {
    "duration": 338,
    "start_time": "2024-06-10T16:48:32.539Z"
   },
   {
    "duration": 16,
    "start_time": "2024-06-10T16:48:32.878Z"
   },
   {
    "duration": 261,
    "start_time": "2024-06-10T16:48:32.896Z"
   },
   {
    "duration": 10389,
    "start_time": "2024-06-10T16:48:33.159Z"
   },
   {
    "duration": 11056,
    "start_time": "2024-06-10T16:55:45.199Z"
   },
   {
    "duration": 8645,
    "start_time": "2024-06-10T16:55:56.258Z"
   },
   {
    "duration": 358,
    "start_time": "2024-06-10T16:56:04.907Z"
   },
   {
    "duration": 57,
    "start_time": "2024-06-10T16:56:05.266Z"
   },
   {
    "duration": 17,
    "start_time": "2024-06-10T16:56:05.325Z"
   },
   {
    "duration": 85,
    "start_time": "2024-06-10T16:56:05.343Z"
   },
   {
    "duration": 59,
    "start_time": "2024-06-10T16:56:05.430Z"
   },
   {
    "duration": 39,
    "start_time": "2024-06-10T16:56:05.490Z"
   },
   {
    "duration": 52,
    "start_time": "2024-06-10T16:56:05.532Z"
   },
   {
    "duration": 908,
    "start_time": "2024-06-10T16:56:05.585Z"
   },
   {
    "duration": 558,
    "start_time": "2024-06-10T16:56:06.495Z"
   },
   {
    "duration": 44,
    "start_time": "2024-06-10T16:56:07.055Z"
   },
   {
    "duration": 25,
    "start_time": "2024-06-10T16:56:07.101Z"
   },
   {
    "duration": 53,
    "start_time": "2024-06-10T16:56:07.128Z"
   },
   {
    "duration": 63,
    "start_time": "2024-06-10T16:56:07.183Z"
   },
   {
    "duration": 35,
    "start_time": "2024-06-10T16:56:07.248Z"
   },
   {
    "duration": 43,
    "start_time": "2024-06-10T16:56:07.285Z"
   },
   {
    "duration": 39,
    "start_time": "2024-06-10T16:56:07.329Z"
   },
   {
    "duration": 770,
    "start_time": "2024-06-10T16:56:07.369Z"
   },
   {
    "duration": 586,
    "start_time": "2024-06-10T16:56:08.141Z"
   },
   {
    "duration": 48,
    "start_time": "2024-06-10T16:56:08.728Z"
   },
   {
    "duration": 17,
    "start_time": "2024-06-10T16:56:08.778Z"
   },
   {
    "duration": 56,
    "start_time": "2024-06-10T16:56:08.797Z"
   },
   {
    "duration": 33,
    "start_time": "2024-06-10T16:56:08.854Z"
   },
   {
    "duration": 58,
    "start_time": "2024-06-10T16:56:08.889Z"
   },
   {
    "duration": 53,
    "start_time": "2024-06-10T16:56:08.949Z"
   },
   {
    "duration": 760,
    "start_time": "2024-06-10T16:56:09.007Z"
   },
   {
    "duration": 559,
    "start_time": "2024-06-10T16:56:09.768Z"
   },
   {
    "duration": 200,
    "start_time": "2024-06-10T16:56:10.328Z"
   },
   {
    "duration": 95,
    "start_time": "2024-06-10T16:56:10.530Z"
   },
   {
    "duration": 256,
    "start_time": "2024-06-10T16:56:10.626Z"
   },
   {
    "duration": 13,
    "start_time": "2024-06-10T16:56:10.883Z"
   },
   {
    "duration": 248,
    "start_time": "2024-06-10T16:56:10.897Z"
   },
   {
    "duration": 524,
    "start_time": "2024-06-10T16:56:11.146Z"
   },
   {
    "duration": 10644,
    "start_time": "2024-06-10T16:57:17.050Z"
   },
   {
    "duration": 9648,
    "start_time": "2024-06-10T16:57:27.696Z"
   },
   {
    "duration": 349,
    "start_time": "2024-06-10T16:57:37.346Z"
   },
   {
    "duration": 57,
    "start_time": "2024-06-10T16:57:37.697Z"
   },
   {
    "duration": 14,
    "start_time": "2024-06-10T16:57:37.755Z"
   },
   {
    "duration": 83,
    "start_time": "2024-06-10T16:57:37.771Z"
   },
   {
    "duration": 78,
    "start_time": "2024-06-10T16:57:37.856Z"
   },
   {
    "duration": 38,
    "start_time": "2024-06-10T16:57:37.936Z"
   },
   {
    "duration": 59,
    "start_time": "2024-06-10T16:57:37.975Z"
   },
   {
    "duration": 881,
    "start_time": "2024-06-10T16:57:38.036Z"
   },
   {
    "duration": 579,
    "start_time": "2024-06-10T16:57:38.920Z"
   },
   {
    "duration": 57,
    "start_time": "2024-06-10T16:57:39.501Z"
   },
   {
    "duration": 14,
    "start_time": "2024-06-10T16:57:39.560Z"
   },
   {
    "duration": 82,
    "start_time": "2024-06-10T16:57:39.576Z"
   },
   {
    "duration": 62,
    "start_time": "2024-06-10T16:57:39.659Z"
   },
   {
    "duration": 34,
    "start_time": "2024-06-10T16:57:39.722Z"
   },
   {
    "duration": 25,
    "start_time": "2024-06-10T16:57:39.758Z"
   },
   {
    "duration": 58,
    "start_time": "2024-06-10T16:57:39.784Z"
   },
   {
    "duration": 725,
    "start_time": "2024-06-10T16:57:39.843Z"
   },
   {
    "duration": 568,
    "start_time": "2024-06-10T16:57:40.569Z"
   },
   {
    "duration": 44,
    "start_time": "2024-06-10T16:57:41.138Z"
   },
   {
    "duration": 13,
    "start_time": "2024-06-10T16:57:41.183Z"
   },
   {
    "duration": 47,
    "start_time": "2024-06-10T16:57:41.197Z"
   },
   {
    "duration": 25,
    "start_time": "2024-06-10T16:57:41.245Z"
   },
   {
    "duration": 62,
    "start_time": "2024-06-10T16:57:41.271Z"
   },
   {
    "duration": 38,
    "start_time": "2024-06-10T16:57:41.334Z"
   },
   {
    "duration": 756,
    "start_time": "2024-06-10T16:57:41.374Z"
   },
   {
    "duration": 578,
    "start_time": "2024-06-10T16:57:42.133Z"
   },
   {
    "duration": 115,
    "start_time": "2024-06-10T16:57:42.713Z"
   },
   {
    "duration": 101,
    "start_time": "2024-06-10T16:57:42.829Z"
   },
   {
    "duration": 353,
    "start_time": "2024-06-10T16:57:42.931Z"
   },
   {
    "duration": 12,
    "start_time": "2024-06-10T16:57:43.286Z"
   },
   {
    "duration": 257,
    "start_time": "2024-06-10T16:57:43.299Z"
   },
   {
    "duration": 10221,
    "start_time": "2024-06-10T16:57:43.557Z"
   },
   {
    "duration": 10943,
    "start_time": "2024-06-10T17:12:00.048Z"
   },
   {
    "duration": 9192,
    "start_time": "2024-06-10T17:12:10.993Z"
   },
   {
    "duration": 374,
    "start_time": "2024-06-10T17:12:20.186Z"
   },
   {
    "duration": 51,
    "start_time": "2024-06-10T17:12:20.562Z"
   },
   {
    "duration": 17,
    "start_time": "2024-06-10T17:12:20.620Z"
   },
   {
    "duration": 52,
    "start_time": "2024-06-10T17:12:20.639Z"
   },
   {
    "duration": 75,
    "start_time": "2024-06-10T17:12:20.692Z"
   },
   {
    "duration": 31,
    "start_time": "2024-06-10T17:12:20.769Z"
   },
   {
    "duration": 61,
    "start_time": "2024-06-10T17:12:20.801Z"
   },
   {
    "duration": 886,
    "start_time": "2024-06-10T17:12:20.864Z"
   },
   {
    "duration": 581,
    "start_time": "2024-06-10T17:12:21.751Z"
   },
   {
    "duration": 47,
    "start_time": "2024-06-10T17:12:22.333Z"
   },
   {
    "duration": 12,
    "start_time": "2024-06-10T17:12:22.381Z"
   },
   {
    "duration": 79,
    "start_time": "2024-06-10T17:12:22.395Z"
   },
   {
    "duration": 72,
    "start_time": "2024-06-10T17:12:22.476Z"
   },
   {
    "duration": 37,
    "start_time": "2024-06-10T17:12:22.550Z"
   },
   {
    "duration": 52,
    "start_time": "2024-06-10T17:12:22.589Z"
   },
   {
    "duration": 44,
    "start_time": "2024-06-10T17:12:22.642Z"
   },
   {
    "duration": 727,
    "start_time": "2024-06-10T17:12:22.688Z"
   },
   {
    "duration": 621,
    "start_time": "2024-06-10T17:12:23.419Z"
   },
   {
    "duration": 46,
    "start_time": "2024-06-10T17:12:24.042Z"
   },
   {
    "duration": 31,
    "start_time": "2024-06-10T17:12:24.090Z"
   },
   {
    "duration": 52,
    "start_time": "2024-06-10T17:12:24.123Z"
   },
   {
    "duration": 48,
    "start_time": "2024-06-10T17:12:24.177Z"
   },
   {
    "duration": 51,
    "start_time": "2024-06-10T17:12:24.227Z"
   },
   {
    "duration": 65,
    "start_time": "2024-06-10T17:12:24.279Z"
   },
   {
    "duration": 747,
    "start_time": "2024-06-10T17:12:24.345Z"
   },
   {
    "duration": 632,
    "start_time": "2024-06-10T17:12:25.094Z"
   },
   {
    "duration": 118,
    "start_time": "2024-06-10T17:12:25.727Z"
   },
   {
    "duration": 20,
    "start_time": "2024-06-10T17:12:25.921Z"
   },
   {
    "duration": 335,
    "start_time": "2024-06-10T17:12:25.942Z"
   },
   {
    "duration": 14,
    "start_time": "2024-06-10T17:12:26.278Z"
   },
   {
    "duration": 254,
    "start_time": "2024-06-10T17:12:26.293Z"
   },
   {
    "duration": 11028,
    "start_time": "2024-06-10T17:12:26.548Z"
   },
   {
    "duration": 10950,
    "start_time": "2024-06-10T17:16:05.258Z"
   },
   {
    "duration": 8515,
    "start_time": "2024-06-10T17:16:16.211Z"
   },
   {
    "duration": 352,
    "start_time": "2024-06-10T17:16:24.728Z"
   },
   {
    "duration": 60,
    "start_time": "2024-06-10T17:16:25.082Z"
   },
   {
    "duration": 14,
    "start_time": "2024-06-10T17:16:25.143Z"
   },
   {
    "duration": 82,
    "start_time": "2024-06-10T17:16:25.159Z"
   },
   {
    "duration": 62,
    "start_time": "2024-06-10T17:16:25.243Z"
   },
   {
    "duration": 45,
    "start_time": "2024-06-10T17:16:25.324Z"
   },
   {
    "duration": 58,
    "start_time": "2024-06-10T17:16:25.370Z"
   },
   {
    "duration": 895,
    "start_time": "2024-06-10T17:16:25.431Z"
   },
   {
    "duration": 607,
    "start_time": "2024-06-10T17:16:26.328Z"
   },
   {
    "duration": 44,
    "start_time": "2024-06-10T17:16:26.937Z"
   },
   {
    "duration": 11,
    "start_time": "2024-06-10T17:16:26.983Z"
   },
   {
    "duration": 71,
    "start_time": "2024-06-10T17:16:26.996Z"
   },
   {
    "duration": 67,
    "start_time": "2024-06-10T17:16:27.068Z"
   },
   {
    "duration": 36,
    "start_time": "2024-06-10T17:16:27.136Z"
   },
   {
    "duration": 24,
    "start_time": "2024-06-10T17:16:27.173Z"
   },
   {
    "duration": 47,
    "start_time": "2024-06-10T17:16:27.220Z"
   },
   {
    "duration": 790,
    "start_time": "2024-06-10T17:16:27.268Z"
   },
   {
    "duration": 567,
    "start_time": "2024-06-10T17:16:28.060Z"
   },
   {
    "duration": 50,
    "start_time": "2024-06-10T17:16:28.628Z"
   },
   {
    "duration": 12,
    "start_time": "2024-06-10T17:16:28.680Z"
   },
   {
    "duration": 58,
    "start_time": "2024-06-10T17:16:28.693Z"
   },
   {
    "duration": 25,
    "start_time": "2024-06-10T17:16:28.752Z"
   },
   {
    "duration": 50,
    "start_time": "2024-06-10T17:16:28.778Z"
   },
   {
    "duration": 43,
    "start_time": "2024-06-10T17:16:28.829Z"
   },
   {
    "duration": 744,
    "start_time": "2024-06-10T17:16:28.873Z"
   },
   {
    "duration": 540,
    "start_time": "2024-06-10T17:16:29.620Z"
   },
   {
    "duration": 89,
    "start_time": "2024-06-10T17:16:30.161Z"
   },
   {
    "duration": 78,
    "start_time": "2024-06-10T17:16:30.252Z"
   },
   {
    "duration": 434,
    "start_time": "2024-06-10T17:16:30.332Z"
   },
   {
    "duration": 13,
    "start_time": "2024-06-10T17:16:30.767Z"
   },
   {
    "duration": 369,
    "start_time": "2024-06-10T17:16:30.781Z"
   },
   {
    "duration": 10307,
    "start_time": "2024-06-10T17:16:31.151Z"
   },
   {
    "duration": 11066,
    "start_time": "2024-06-10T17:18:04.605Z"
   },
   {
    "duration": 8582,
    "start_time": "2024-06-10T17:18:15.673Z"
   },
   {
    "duration": 363,
    "start_time": "2024-06-10T17:18:24.256Z"
   },
   {
    "duration": 56,
    "start_time": "2024-06-10T17:18:24.620Z"
   },
   {
    "duration": 14,
    "start_time": "2024-06-10T17:18:24.678Z"
   },
   {
    "duration": 65,
    "start_time": "2024-06-10T17:18:24.693Z"
   },
   {
    "duration": 75,
    "start_time": "2024-06-10T17:18:24.760Z"
   },
   {
    "duration": 33,
    "start_time": "2024-06-10T17:18:24.837Z"
   },
   {
    "duration": 71,
    "start_time": "2024-06-10T17:18:24.871Z"
   },
   {
    "duration": 938,
    "start_time": "2024-06-10T17:18:24.943Z"
   },
   {
    "duration": 555,
    "start_time": "2024-06-10T17:18:25.882Z"
   },
   {
    "duration": 46,
    "start_time": "2024-06-10T17:18:26.438Z"
   },
   {
    "duration": 12,
    "start_time": "2024-06-10T17:18:26.486Z"
   },
   {
    "duration": 56,
    "start_time": "2024-06-10T17:18:26.522Z"
   },
   {
    "duration": 60,
    "start_time": "2024-06-10T17:18:26.580Z"
   },
   {
    "duration": 35,
    "start_time": "2024-06-10T17:18:26.642Z"
   },
   {
    "duration": 41,
    "start_time": "2024-06-10T17:18:26.679Z"
   },
   {
    "duration": 74,
    "start_time": "2024-06-10T17:18:26.722Z"
   },
   {
    "duration": 746,
    "start_time": "2024-06-10T17:18:26.798Z"
   },
   {
    "duration": 585,
    "start_time": "2024-06-10T17:18:27.545Z"
   },
   {
    "duration": 48,
    "start_time": "2024-06-10T17:18:28.132Z"
   },
   {
    "duration": 12,
    "start_time": "2024-06-10T17:18:28.182Z"
   },
   {
    "duration": 43,
    "start_time": "2024-06-10T17:18:28.221Z"
   },
   {
    "duration": 26,
    "start_time": "2024-06-10T17:18:28.265Z"
   },
   {
    "duration": 67,
    "start_time": "2024-06-10T17:18:28.292Z"
   },
   {
    "duration": 45,
    "start_time": "2024-06-10T17:18:28.361Z"
   },
   {
    "duration": 737,
    "start_time": "2024-06-10T17:18:28.407Z"
   },
   {
    "duration": 575,
    "start_time": "2024-06-10T17:18:29.145Z"
   },
   {
    "duration": 111,
    "start_time": "2024-06-10T17:18:29.722Z"
   },
   {
    "duration": 95,
    "start_time": "2024-06-10T17:18:29.835Z"
   },
   {
    "duration": 362,
    "start_time": "2024-06-10T17:18:29.931Z"
   },
   {
    "duration": 12,
    "start_time": "2024-06-10T17:18:30.295Z"
   },
   {
    "duration": 245,
    "start_time": "2024-06-10T17:18:30.309Z"
   },
   {
    "duration": 11020,
    "start_time": "2024-06-10T17:18:30.556Z"
   },
   {
    "duration": 10939,
    "start_time": "2024-06-10T17:19:06.975Z"
   },
   {
    "duration": 8690,
    "start_time": "2024-06-10T17:19:17.917Z"
   },
   {
    "duration": 355,
    "start_time": "2024-06-10T17:19:26.608Z"
   },
   {
    "duration": 56,
    "start_time": "2024-06-10T17:19:26.965Z"
   },
   {
    "duration": 21,
    "start_time": "2024-06-10T17:19:27.022Z"
   },
   {
    "duration": 49,
    "start_time": "2024-06-10T17:19:27.045Z"
   },
   {
    "duration": 53,
    "start_time": "2024-06-10T17:19:27.121Z"
   },
   {
    "duration": 46,
    "start_time": "2024-06-10T17:19:27.176Z"
   },
   {
    "duration": 43,
    "start_time": "2024-06-10T17:19:27.224Z"
   },
   {
    "duration": 881,
    "start_time": "2024-06-10T17:19:27.269Z"
   },
   {
    "duration": 577,
    "start_time": "2024-06-10T17:19:28.152Z"
   },
   {
    "duration": 46,
    "start_time": "2024-06-10T17:19:28.730Z"
   },
   {
    "duration": 13,
    "start_time": "2024-06-10T17:19:28.777Z"
   },
   {
    "duration": 101,
    "start_time": "2024-06-10T17:19:28.792Z"
   },
   {
    "duration": 37,
    "start_time": "2024-06-10T17:19:28.895Z"
   },
   {
    "duration": 34,
    "start_time": "2024-06-10T17:19:28.934Z"
   },
   {
    "duration": 33,
    "start_time": "2024-06-10T17:19:28.969Z"
   },
   {
    "duration": 53,
    "start_time": "2024-06-10T17:19:29.003Z"
   },
   {
    "duration": 797,
    "start_time": "2024-06-10T17:19:29.057Z"
   },
   {
    "duration": 580,
    "start_time": "2024-06-10T17:19:29.856Z"
   },
   {
    "duration": 50,
    "start_time": "2024-06-10T17:19:30.438Z"
   },
   {
    "duration": 135,
    "start_time": "2024-06-10T17:19:30.490Z"
   },
   {
    "duration": 120,
    "start_time": "2024-06-10T17:19:30.626Z"
   },
   {
    "duration": 43,
    "start_time": "2024-06-10T17:19:30.748Z"
   },
   {
    "duration": 125,
    "start_time": "2024-06-10T17:19:30.792Z"
   },
   {
    "duration": 39,
    "start_time": "2024-06-10T17:19:30.919Z"
   },
   {
    "duration": 769,
    "start_time": "2024-06-10T17:19:30.960Z"
   },
   {
    "duration": 622,
    "start_time": "2024-06-10T17:19:31.733Z"
   },
   {
    "duration": 166,
    "start_time": "2024-06-10T17:19:32.357Z"
   },
   {
    "duration": 97,
    "start_time": "2024-06-10T17:19:32.525Z"
   },
   {
    "duration": 252,
    "start_time": "2024-06-10T17:19:32.623Z"
   },
   {
    "duration": 14,
    "start_time": "2024-06-10T17:19:32.876Z"
   },
   {
    "duration": 267,
    "start_time": "2024-06-10T17:19:32.891Z"
   },
   {
    "duration": 10414,
    "start_time": "2024-06-10T17:19:33.160Z"
   },
   {
    "duration": 53,
    "start_time": "2024-06-11T12:03:53.863Z"
   },
   {
    "duration": 14898,
    "start_time": "2024-06-11T12:04:00.541Z"
   },
   {
    "duration": 21898,
    "start_time": "2024-06-11T12:04:15.441Z"
   },
   {
    "duration": 472,
    "start_time": "2024-06-11T12:04:37.340Z"
   },
   {
    "duration": 72,
    "start_time": "2024-06-11T12:04:37.814Z"
   },
   {
    "duration": 17,
    "start_time": "2024-06-11T12:04:37.887Z"
   },
   {
    "duration": 88,
    "start_time": "2024-06-11T12:04:37.906Z"
   },
   {
    "duration": 305,
    "start_time": "2024-06-11T12:04:37.996Z"
   },
   {
    "duration": 56,
    "start_time": "2024-06-11T12:04:38.303Z"
   },
   {
    "duration": 54,
    "start_time": "2024-06-11T12:04:38.360Z"
   },
   {
    "duration": 929,
    "start_time": "2024-06-11T12:04:38.416Z"
   },
   {
    "duration": 733,
    "start_time": "2024-06-11T12:04:39.347Z"
   },
   {
    "duration": 66,
    "start_time": "2024-06-11T12:04:40.082Z"
   },
   {
    "duration": 18,
    "start_time": "2024-06-11T12:04:40.149Z"
   },
   {
    "duration": 92,
    "start_time": "2024-06-11T12:04:40.169Z"
   },
   {
    "duration": 47,
    "start_time": "2024-06-11T12:04:40.263Z"
   },
   {
    "duration": 65,
    "start_time": "2024-06-11T12:04:40.312Z"
   },
   {
    "duration": 34,
    "start_time": "2024-06-11T12:04:40.380Z"
   },
   {
    "duration": 76,
    "start_time": "2024-06-11T12:04:40.416Z"
   },
   {
    "duration": 920,
    "start_time": "2024-06-11T12:04:40.494Z"
   },
   {
    "duration": 713,
    "start_time": "2024-06-11T12:04:41.417Z"
   },
   {
    "duration": 63,
    "start_time": "2024-06-11T12:04:42.131Z"
   },
   {
    "duration": 16,
    "start_time": "2024-06-11T12:04:42.196Z"
   },
   {
    "duration": 67,
    "start_time": "2024-06-11T12:04:42.214Z"
   },
   {
    "duration": 32,
    "start_time": "2024-06-11T12:04:42.282Z"
   },
   {
    "duration": 69,
    "start_time": "2024-06-11T12:04:42.316Z"
   },
   {
    "duration": 71,
    "start_time": "2024-06-11T12:04:42.387Z"
   },
   {
    "duration": 925,
    "start_time": "2024-06-11T12:04:42.461Z"
   },
   {
    "duration": 682,
    "start_time": "2024-06-11T12:04:43.390Z"
   },
   {
    "duration": 572,
    "start_time": "2024-06-11T12:04:44.074Z"
   },
   {
    "duration": 11,
    "start_time": "2024-06-11T12:04:44.648Z"
   },
   {
    "duration": 315,
    "start_time": "2024-06-11T12:04:44.661Z"
   },
   {
    "duration": 14,
    "start_time": "2024-06-11T12:04:44.978Z"
   },
   {
    "duration": 295,
    "start_time": "2024-06-11T12:04:44.993Z"
   },
   {
    "duration": 14450,
    "start_time": "2024-06-11T12:04:45.290Z"
   },
   {
    "duration": 9,
    "start_time": "2024-06-11T12:04:59.746Z"
   },
   {
    "duration": 14,
    "start_time": "2024-06-11T12:05:07.735Z"
   },
   {
    "duration": 255,
    "start_time": "2024-06-11T12:05:08.751Z"
   },
   {
    "duration": 20,
    "start_time": "2024-06-11T12:05:26.836Z"
   },
   {
    "duration": 263,
    "start_time": "2024-06-11T12:05:26.858Z"
   },
   {
    "duration": 14282,
    "start_time": "2024-06-11T12:05:27.123Z"
   }
  ],
  "kernelspec": {
   "display_name": "Python 3 (ipykernel)",
   "language": "python",
   "name": "python3"
  },
  "language_info": {
   "codemirror_mode": {
    "name": "ipython",
    "version": 3
   },
   "file_extension": ".py",
   "mimetype": "text/x-python",
   "name": "python",
   "nbconvert_exporter": "python",
   "pygments_lexer": "ipython3",
   "version": "3.9.5"
  },
  "toc": {
   "base_numbering": 1,
   "nav_menu": {},
   "number_sections": true,
   "sideBar": true,
   "skip_h1_title": true,
   "title_cell": "Table of Contents",
   "title_sidebar": "Contents",
   "toc_cell": false,
   "toc_position": {
    "height": "calc(100% - 180px)",
    "left": "10px",
    "top": "150px",
    "width": "315px"
   },
   "toc_section_display": true,
   "toc_window_display": true
  }
 },
 "nbformat": 4,
 "nbformat_minor": 2
}
