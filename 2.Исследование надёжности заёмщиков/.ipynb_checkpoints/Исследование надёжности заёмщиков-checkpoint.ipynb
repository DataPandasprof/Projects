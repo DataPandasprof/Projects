{
 "cells": [
  {
   "cell_type": "markdown",
   "id": "881ac15d",
   "metadata": {
    "deletable": false,
    "editable": false,
    "id": "c81daeeb"
   },
   "source": [
    "# Исследование надежности заемщиков\n"
   ]
  },
  {
   "cell_type": "markdown",
   "id": "017ec960",
   "metadata": {
    "deletable": false,
    "editable": false,
    "id": "827c20bf"
   },
   "source": [
    "Во второй части проекта вы выполните шаги 3 и 4. Их вручную проверит ревьюер.\n",
    "Чтобы вам не пришлось писать код заново для шагов 1 и 2, мы добавили авторские решения в ячейки с кодом. \n",
    "\n"
   ]
  },
  {
   "cell_type": "markdown",
   "id": "0dbf35a0",
   "metadata": {
    "deletable": false,
    "editable": false,
    "id": "744d7639"
   },
   "source": [
    "## Откройте таблицу и изучите общую информацию о данных"
   ]
  },
  {
   "cell_type": "markdown",
   "id": "dfce7886",
   "metadata": {
    "deletable": false,
    "editable": false,
    "id": "e7a14c31"
   },
   "source": [
    "**Задание 1. Импортируйте библиотеку pandas. Считайте данные из csv-файла в датафрейм и сохраните в переменную `data`. Путь к файлу:**\n",
    "\n",
    "`/datasets/data.csv`"
   ]
  },
  {
   "cell_type": "code",
   "execution_count": 238,
   "id": "d7dc2db5",
   "metadata": {
    "deletable": false,
    "id": "7bcf75c9"
   },
   "outputs": [],
   "source": [
    "import pandas as pd\n",
    "\n",
    "try:\n",
    "    data = pd.read_csv('/datasets/data.csv')\n",
    "except:\n",
    "    data = pd.read_csv('https://code.s3.yandex.net/datasets/data.csv')"
   ]
  },
  {
   "cell_type": "markdown",
   "id": "b933128a",
   "metadata": {
    "deletable": false,
    "editable": false,
    "id": "b8038fe3"
   },
   "source": [
    "**Задание 2. Выведите первые 20 строчек датафрейма `data` на экран.**"
   ]
  },
  {
   "cell_type": "code",
   "execution_count": 239,
   "id": "bf5e3823",
   "metadata": {
    "deletable": false,
    "id": "2a7cab99",
    "outputId": "1a8f3ef2-d323-4ec2-ddf7-89670b5944c4"
   },
   "outputs": [
    {
     "data": {
      "text/html": [
       "<div>\n",
       "<style scoped>\n",
       "    .dataframe tbody tr th:only-of-type {\n",
       "        vertical-align: middle;\n",
       "    }\n",
       "\n",
       "    .dataframe tbody tr th {\n",
       "        vertical-align: top;\n",
       "    }\n",
       "\n",
       "    .dataframe thead th {\n",
       "        text-align: right;\n",
       "    }\n",
       "</style>\n",
       "<table border=\"1\" class=\"dataframe\">\n",
       "  <thead>\n",
       "    <tr style=\"text-align: right;\">\n",
       "      <th></th>\n",
       "      <th>children</th>\n",
       "      <th>days_employed</th>\n",
       "      <th>dob_years</th>\n",
       "      <th>education</th>\n",
       "      <th>education_id</th>\n",
       "      <th>family_status</th>\n",
       "      <th>family_status_id</th>\n",
       "      <th>gender</th>\n",
       "      <th>income_type</th>\n",
       "      <th>debt</th>\n",
       "      <th>total_income</th>\n",
       "      <th>purpose</th>\n",
       "    </tr>\n",
       "  </thead>\n",
       "  <tbody>\n",
       "    <tr>\n",
       "      <th>0</th>\n",
       "      <td>1</td>\n",
       "      <td>-8437.673028</td>\n",
       "      <td>42</td>\n",
       "      <td>высшее</td>\n",
       "      <td>0</td>\n",
       "      <td>женат / замужем</td>\n",
       "      <td>0</td>\n",
       "      <td>F</td>\n",
       "      <td>сотрудник</td>\n",
       "      <td>0</td>\n",
       "      <td>253875.639453</td>\n",
       "      <td>покупка жилья</td>\n",
       "    </tr>\n",
       "    <tr>\n",
       "      <th>1</th>\n",
       "      <td>1</td>\n",
       "      <td>-4024.803754</td>\n",
       "      <td>36</td>\n",
       "      <td>среднее</td>\n",
       "      <td>1</td>\n",
       "      <td>женат / замужем</td>\n",
       "      <td>0</td>\n",
       "      <td>F</td>\n",
       "      <td>сотрудник</td>\n",
       "      <td>0</td>\n",
       "      <td>112080.014102</td>\n",
       "      <td>приобретение автомобиля</td>\n",
       "    </tr>\n",
       "    <tr>\n",
       "      <th>2</th>\n",
       "      <td>0</td>\n",
       "      <td>-5623.422610</td>\n",
       "      <td>33</td>\n",
       "      <td>Среднее</td>\n",
       "      <td>1</td>\n",
       "      <td>женат / замужем</td>\n",
       "      <td>0</td>\n",
       "      <td>M</td>\n",
       "      <td>сотрудник</td>\n",
       "      <td>0</td>\n",
       "      <td>145885.952297</td>\n",
       "      <td>покупка жилья</td>\n",
       "    </tr>\n",
       "    <tr>\n",
       "      <th>3</th>\n",
       "      <td>3</td>\n",
       "      <td>-4124.747207</td>\n",
       "      <td>32</td>\n",
       "      <td>среднее</td>\n",
       "      <td>1</td>\n",
       "      <td>женат / замужем</td>\n",
       "      <td>0</td>\n",
       "      <td>M</td>\n",
       "      <td>сотрудник</td>\n",
       "      <td>0</td>\n",
       "      <td>267628.550329</td>\n",
       "      <td>дополнительное образование</td>\n",
       "    </tr>\n",
       "    <tr>\n",
       "      <th>4</th>\n",
       "      <td>0</td>\n",
       "      <td>340266.072047</td>\n",
       "      <td>53</td>\n",
       "      <td>среднее</td>\n",
       "      <td>1</td>\n",
       "      <td>гражданский брак</td>\n",
       "      <td>1</td>\n",
       "      <td>F</td>\n",
       "      <td>пенсионер</td>\n",
       "      <td>0</td>\n",
       "      <td>158616.077870</td>\n",
       "      <td>сыграть свадьбу</td>\n",
       "    </tr>\n",
       "    <tr>\n",
       "      <th>5</th>\n",
       "      <td>0</td>\n",
       "      <td>-926.185831</td>\n",
       "      <td>27</td>\n",
       "      <td>высшее</td>\n",
       "      <td>0</td>\n",
       "      <td>гражданский брак</td>\n",
       "      <td>1</td>\n",
       "      <td>M</td>\n",
       "      <td>компаньон</td>\n",
       "      <td>0</td>\n",
       "      <td>255763.565419</td>\n",
       "      <td>покупка жилья</td>\n",
       "    </tr>\n",
       "    <tr>\n",
       "      <th>6</th>\n",
       "      <td>0</td>\n",
       "      <td>-2879.202052</td>\n",
       "      <td>43</td>\n",
       "      <td>высшее</td>\n",
       "      <td>0</td>\n",
       "      <td>женат / замужем</td>\n",
       "      <td>0</td>\n",
       "      <td>F</td>\n",
       "      <td>компаньон</td>\n",
       "      <td>0</td>\n",
       "      <td>240525.971920</td>\n",
       "      <td>операции с жильем</td>\n",
       "    </tr>\n",
       "    <tr>\n",
       "      <th>7</th>\n",
       "      <td>0</td>\n",
       "      <td>-152.779569</td>\n",
       "      <td>50</td>\n",
       "      <td>СРЕДНЕЕ</td>\n",
       "      <td>1</td>\n",
       "      <td>женат / замужем</td>\n",
       "      <td>0</td>\n",
       "      <td>M</td>\n",
       "      <td>сотрудник</td>\n",
       "      <td>0</td>\n",
       "      <td>135823.934197</td>\n",
       "      <td>образование</td>\n",
       "    </tr>\n",
       "    <tr>\n",
       "      <th>8</th>\n",
       "      <td>2</td>\n",
       "      <td>-6929.865299</td>\n",
       "      <td>35</td>\n",
       "      <td>ВЫСШЕЕ</td>\n",
       "      <td>0</td>\n",
       "      <td>гражданский брак</td>\n",
       "      <td>1</td>\n",
       "      <td>F</td>\n",
       "      <td>сотрудник</td>\n",
       "      <td>0</td>\n",
       "      <td>95856.832424</td>\n",
       "      <td>на проведение свадьбы</td>\n",
       "    </tr>\n",
       "    <tr>\n",
       "      <th>9</th>\n",
       "      <td>0</td>\n",
       "      <td>-2188.756445</td>\n",
       "      <td>41</td>\n",
       "      <td>среднее</td>\n",
       "      <td>1</td>\n",
       "      <td>женат / замужем</td>\n",
       "      <td>0</td>\n",
       "      <td>M</td>\n",
       "      <td>сотрудник</td>\n",
       "      <td>0</td>\n",
       "      <td>144425.938277</td>\n",
       "      <td>покупка жилья для семьи</td>\n",
       "    </tr>\n",
       "    <tr>\n",
       "      <th>10</th>\n",
       "      <td>2</td>\n",
       "      <td>-4171.483647</td>\n",
       "      <td>36</td>\n",
       "      <td>высшее</td>\n",
       "      <td>0</td>\n",
       "      <td>женат / замужем</td>\n",
       "      <td>0</td>\n",
       "      <td>M</td>\n",
       "      <td>компаньон</td>\n",
       "      <td>0</td>\n",
       "      <td>113943.491460</td>\n",
       "      <td>покупка недвижимости</td>\n",
       "    </tr>\n",
       "    <tr>\n",
       "      <th>11</th>\n",
       "      <td>0</td>\n",
       "      <td>-792.701887</td>\n",
       "      <td>40</td>\n",
       "      <td>среднее</td>\n",
       "      <td>1</td>\n",
       "      <td>женат / замужем</td>\n",
       "      <td>0</td>\n",
       "      <td>F</td>\n",
       "      <td>сотрудник</td>\n",
       "      <td>0</td>\n",
       "      <td>77069.234271</td>\n",
       "      <td>покупка коммерческой недвижимости</td>\n",
       "    </tr>\n",
       "    <tr>\n",
       "      <th>12</th>\n",
       "      <td>0</td>\n",
       "      <td>NaN</td>\n",
       "      <td>65</td>\n",
       "      <td>среднее</td>\n",
       "      <td>1</td>\n",
       "      <td>гражданский брак</td>\n",
       "      <td>1</td>\n",
       "      <td>M</td>\n",
       "      <td>пенсионер</td>\n",
       "      <td>0</td>\n",
       "      <td>NaN</td>\n",
       "      <td>сыграть свадьбу</td>\n",
       "    </tr>\n",
       "    <tr>\n",
       "      <th>13</th>\n",
       "      <td>0</td>\n",
       "      <td>-1846.641941</td>\n",
       "      <td>54</td>\n",
       "      <td>неоконченное высшее</td>\n",
       "      <td>2</td>\n",
       "      <td>женат / замужем</td>\n",
       "      <td>0</td>\n",
       "      <td>F</td>\n",
       "      <td>сотрудник</td>\n",
       "      <td>0</td>\n",
       "      <td>130458.228857</td>\n",
       "      <td>приобретение автомобиля</td>\n",
       "    </tr>\n",
       "    <tr>\n",
       "      <th>14</th>\n",
       "      <td>0</td>\n",
       "      <td>-1844.956182</td>\n",
       "      <td>56</td>\n",
       "      <td>высшее</td>\n",
       "      <td>0</td>\n",
       "      <td>гражданский брак</td>\n",
       "      <td>1</td>\n",
       "      <td>F</td>\n",
       "      <td>компаньон</td>\n",
       "      <td>1</td>\n",
       "      <td>165127.911772</td>\n",
       "      <td>покупка жилой недвижимости</td>\n",
       "    </tr>\n",
       "    <tr>\n",
       "      <th>15</th>\n",
       "      <td>1</td>\n",
       "      <td>-972.364419</td>\n",
       "      <td>26</td>\n",
       "      <td>среднее</td>\n",
       "      <td>1</td>\n",
       "      <td>женат / замужем</td>\n",
       "      <td>0</td>\n",
       "      <td>F</td>\n",
       "      <td>сотрудник</td>\n",
       "      <td>0</td>\n",
       "      <td>116820.904450</td>\n",
       "      <td>строительство собственной недвижимости</td>\n",
       "    </tr>\n",
       "    <tr>\n",
       "      <th>16</th>\n",
       "      <td>0</td>\n",
       "      <td>-1719.934226</td>\n",
       "      <td>35</td>\n",
       "      <td>среднее</td>\n",
       "      <td>1</td>\n",
       "      <td>женат / замужем</td>\n",
       "      <td>0</td>\n",
       "      <td>F</td>\n",
       "      <td>сотрудник</td>\n",
       "      <td>0</td>\n",
       "      <td>289202.704229</td>\n",
       "      <td>недвижимость</td>\n",
       "    </tr>\n",
       "    <tr>\n",
       "      <th>17</th>\n",
       "      <td>0</td>\n",
       "      <td>-2369.999720</td>\n",
       "      <td>33</td>\n",
       "      <td>высшее</td>\n",
       "      <td>0</td>\n",
       "      <td>гражданский брак</td>\n",
       "      <td>1</td>\n",
       "      <td>M</td>\n",
       "      <td>сотрудник</td>\n",
       "      <td>0</td>\n",
       "      <td>90410.586745</td>\n",
       "      <td>строительство недвижимости</td>\n",
       "    </tr>\n",
       "    <tr>\n",
       "      <th>18</th>\n",
       "      <td>0</td>\n",
       "      <td>400281.136913</td>\n",
       "      <td>53</td>\n",
       "      <td>среднее</td>\n",
       "      <td>1</td>\n",
       "      <td>вдовец / вдова</td>\n",
       "      <td>2</td>\n",
       "      <td>F</td>\n",
       "      <td>пенсионер</td>\n",
       "      <td>0</td>\n",
       "      <td>56823.777243</td>\n",
       "      <td>на покупку подержанного автомобиля</td>\n",
       "    </tr>\n",
       "    <tr>\n",
       "      <th>19</th>\n",
       "      <td>0</td>\n",
       "      <td>-10038.818549</td>\n",
       "      <td>48</td>\n",
       "      <td>СРЕДНЕЕ</td>\n",
       "      <td>1</td>\n",
       "      <td>в разводе</td>\n",
       "      <td>3</td>\n",
       "      <td>F</td>\n",
       "      <td>сотрудник</td>\n",
       "      <td>0</td>\n",
       "      <td>242831.107982</td>\n",
       "      <td>на покупку своего автомобиля</td>\n",
       "    </tr>\n",
       "  </tbody>\n",
       "</table>\n",
       "</div>"
      ],
      "text/plain": [
       "    children  days_employed  dob_years            education  education_id  \\\n",
       "0          1   -8437.673028         42               высшее             0   \n",
       "1          1   -4024.803754         36              среднее             1   \n",
       "2          0   -5623.422610         33              Среднее             1   \n",
       "3          3   -4124.747207         32              среднее             1   \n",
       "4          0  340266.072047         53              среднее             1   \n",
       "5          0    -926.185831         27               высшее             0   \n",
       "6          0   -2879.202052         43               высшее             0   \n",
       "7          0    -152.779569         50              СРЕДНЕЕ             1   \n",
       "8          2   -6929.865299         35               ВЫСШЕЕ             0   \n",
       "9          0   -2188.756445         41              среднее             1   \n",
       "10         2   -4171.483647         36               высшее             0   \n",
       "11         0    -792.701887         40              среднее             1   \n",
       "12         0            NaN         65              среднее             1   \n",
       "13         0   -1846.641941         54  неоконченное высшее             2   \n",
       "14         0   -1844.956182         56               высшее             0   \n",
       "15         1    -972.364419         26              среднее             1   \n",
       "16         0   -1719.934226         35              среднее             1   \n",
       "17         0   -2369.999720         33               высшее             0   \n",
       "18         0  400281.136913         53              среднее             1   \n",
       "19         0  -10038.818549         48              СРЕДНЕЕ             1   \n",
       "\n",
       "       family_status  family_status_id gender income_type  debt  \\\n",
       "0    женат / замужем                 0      F   сотрудник     0   \n",
       "1    женат / замужем                 0      F   сотрудник     0   \n",
       "2    женат / замужем                 0      M   сотрудник     0   \n",
       "3    женат / замужем                 0      M   сотрудник     0   \n",
       "4   гражданский брак                 1      F   пенсионер     0   \n",
       "5   гражданский брак                 1      M   компаньон     0   \n",
       "6    женат / замужем                 0      F   компаньон     0   \n",
       "7    женат / замужем                 0      M   сотрудник     0   \n",
       "8   гражданский брак                 1      F   сотрудник     0   \n",
       "9    женат / замужем                 0      M   сотрудник     0   \n",
       "10   женат / замужем                 0      M   компаньон     0   \n",
       "11   женат / замужем                 0      F   сотрудник     0   \n",
       "12  гражданский брак                 1      M   пенсионер     0   \n",
       "13   женат / замужем                 0      F   сотрудник     0   \n",
       "14  гражданский брак                 1      F   компаньон     1   \n",
       "15   женат / замужем                 0      F   сотрудник     0   \n",
       "16   женат / замужем                 0      F   сотрудник     0   \n",
       "17  гражданский брак                 1      M   сотрудник     0   \n",
       "18    вдовец / вдова                 2      F   пенсионер     0   \n",
       "19         в разводе                 3      F   сотрудник     0   \n",
       "\n",
       "     total_income                                 purpose  \n",
       "0   253875.639453                           покупка жилья  \n",
       "1   112080.014102                 приобретение автомобиля  \n",
       "2   145885.952297                           покупка жилья  \n",
       "3   267628.550329              дополнительное образование  \n",
       "4   158616.077870                         сыграть свадьбу  \n",
       "5   255763.565419                           покупка жилья  \n",
       "6   240525.971920                       операции с жильем  \n",
       "7   135823.934197                             образование  \n",
       "8    95856.832424                   на проведение свадьбы  \n",
       "9   144425.938277                 покупка жилья для семьи  \n",
       "10  113943.491460                    покупка недвижимости  \n",
       "11   77069.234271       покупка коммерческой недвижимости  \n",
       "12            NaN                         сыграть свадьбу  \n",
       "13  130458.228857                 приобретение автомобиля  \n",
       "14  165127.911772              покупка жилой недвижимости  \n",
       "15  116820.904450  строительство собственной недвижимости  \n",
       "16  289202.704229                            недвижимость  \n",
       "17   90410.586745              строительство недвижимости  \n",
       "18   56823.777243      на покупку подержанного автомобиля  \n",
       "19  242831.107982            на покупку своего автомобиля  "
      ]
     },
     "execution_count": 239,
     "metadata": {},
     "output_type": "execute_result"
    }
   ],
   "source": [
    "data.head(20)"
   ]
  },
  {
   "cell_type": "markdown",
   "id": "fd9a8f43",
   "metadata": {
    "deletable": false,
    "editable": false,
    "id": "1c12e233"
   },
   "source": [
    "**Задание 3. Выведите основную информацию о датафрейме с помощью метода `info()`.**"
   ]
  },
  {
   "cell_type": "code",
   "execution_count": 240,
   "id": "6743ed0f",
   "metadata": {
    "deletable": false,
    "id": "2b757bca",
    "outputId": "15376089-8dad-46c9-b520-c05248d43158"
   },
   "outputs": [
    {
     "name": "stdout",
     "output_type": "stream",
     "text": [
      "<class 'pandas.core.frame.DataFrame'>\n",
      "RangeIndex: 21525 entries, 0 to 21524\n",
      "Data columns (total 12 columns):\n",
      " #   Column            Non-Null Count  Dtype  \n",
      "---  ------            --------------  -----  \n",
      " 0   children          21525 non-null  int64  \n",
      " 1   days_employed     19351 non-null  float64\n",
      " 2   dob_years         21525 non-null  int64  \n",
      " 3   education         21525 non-null  object \n",
      " 4   education_id      21525 non-null  int64  \n",
      " 5   family_status     21525 non-null  object \n",
      " 6   family_status_id  21525 non-null  int64  \n",
      " 7   gender            21525 non-null  object \n",
      " 8   income_type       21525 non-null  object \n",
      " 9   debt              21525 non-null  int64  \n",
      " 10  total_income      19351 non-null  float64\n",
      " 11  purpose           21525 non-null  object \n",
      "dtypes: float64(2), int64(5), object(5)\n",
      "memory usage: 2.0+ MB\n"
     ]
    }
   ],
   "source": [
    "data.info()"
   ]
  },
  {
   "cell_type": "markdown",
   "id": "39bcbde8",
   "metadata": {
    "deletable": false,
    "editable": false,
    "id": "333ec665"
   },
   "source": [
    "## Предобработка данных"
   ]
  },
  {
   "cell_type": "markdown",
   "id": "2dd3e140",
   "metadata": {
    "deletable": false,
    "editable": false,
    "id": "02d92d53"
   },
   "source": [
    "### Удаление пропусков"
   ]
  },
  {
   "cell_type": "markdown",
   "id": "0995f96e",
   "metadata": {
    "deletable": false,
    "editable": false,
    "id": "cd84967c"
   },
   "source": [
    "**Задание 4. Выведите количество пропущенных значений для каждого столбца. Используйте комбинацию двух методов.**"
   ]
  },
  {
   "cell_type": "code",
   "execution_count": 241,
   "id": "528b957c",
   "metadata": {
    "deletable": false,
    "id": "7f9b2309",
    "outputId": "81f4d817-781c-465c-ed15-91ce4446810d"
   },
   "outputs": [
    {
     "data": {
      "text/plain": [
       "children               0\n",
       "days_employed       2174\n",
       "dob_years              0\n",
       "education              0\n",
       "education_id           0\n",
       "family_status          0\n",
       "family_status_id       0\n",
       "gender                 0\n",
       "income_type            0\n",
       "debt                   0\n",
       "total_income        2174\n",
       "purpose                0\n",
       "dtype: int64"
      ]
     },
     "execution_count": 241,
     "metadata": {},
     "output_type": "execute_result"
    }
   ],
   "source": [
    "data.isna().sum()"
   ]
  },
  {
   "cell_type": "markdown",
   "id": "6486f32e",
   "metadata": {
    "deletable": false,
    "editable": false,
    "id": "db86e27b"
   },
   "source": [
    "**Задание 5. В двух столбцах есть пропущенные значения. Один из них — `days_employed`. Пропуски в этом столбце вы обработаете на следующем этапе. Другой столбец с пропущенными значениями — `total_income` — хранит данные о доходах. На сумму дохода сильнее всего влияет тип занятости, поэтому заполнить пропуски в этом столбце нужно медианным значением по каждому типу из столбца `income_type`. Например, у человека с типом занятости `сотрудник` пропуск в столбце `total_income` должен быть заполнен медианным доходом среди всех записей с тем же типом.**"
   ]
  },
  {
   "cell_type": "code",
   "execution_count": 242,
   "id": "6f414899",
   "metadata": {
    "deletable": false,
    "id": "42006a93"
   },
   "outputs": [],
   "source": [
    "for t in data['income_type'].unique():\n",
    "    data.loc[(data['income_type'] == t) & (data['total_income'].isna()), 'total_income'] = \\\n",
    "    data.loc[(data['income_type'] == t), 'total_income'].median()"
   ]
  },
  {
   "cell_type": "markdown",
   "id": "3cf7176d",
   "metadata": {
    "deletable": false,
    "editable": false,
    "id": "89da5ece"
   },
   "source": [
    "### Обработка аномальных значений"
   ]
  },
  {
   "cell_type": "markdown",
   "id": "eb83a695",
   "metadata": {
    "deletable": false,
    "editable": false,
    "id": "57964554"
   },
   "source": [
    "**Задание 6. В данных могут встречаться артефакты (аномалии) — значения, которые не отражают действительность и появились по какой-то ошибке. таким артефактом будет отрицательное количество дней трудового стажа в столбце `days_employed`. Для реальных данных это нормально. Обработайте значения в этом столбце: замените все отрицательные значения положительными с помощью метода `abs()`.**"
   ]
  },
  {
   "cell_type": "code",
   "execution_count": 243,
   "id": "1b2f5f35",
   "metadata": {
    "deletable": false,
    "id": "f6f055bf"
   },
   "outputs": [],
   "source": [
    "data['days_employed'] = data['days_employed'].abs()"
   ]
  },
  {
   "cell_type": "markdown",
   "id": "caff2d0d",
   "metadata": {
    "deletable": false,
    "editable": false,
    "id": "6107dd2f"
   },
   "source": [
    "**Задание 7. Для каждого типа занятости выведите медианное значение трудового стажа `days_employed` в днях.**"
   ]
  },
  {
   "cell_type": "code",
   "execution_count": 244,
   "id": "86066e63",
   "metadata": {
    "deletable": false,
    "id": "85a5faf6",
    "outputId": "801ef80e-522b-4668-f34e-565af7432bcf"
   },
   "outputs": [
    {
     "data": {
      "text/plain": [
       "income_type\n",
       "безработный        366413.652744\n",
       "в декрете            3296.759962\n",
       "госслужащий          2689.368353\n",
       "компаньон            1547.382223\n",
       "пенсионер          365213.306266\n",
       "предприниматель       520.848083\n",
       "сотрудник            1574.202821\n",
       "студент               578.751554\n",
       "Name: days_employed, dtype: float64"
      ]
     },
     "execution_count": 244,
     "metadata": {},
     "output_type": "execute_result"
    }
   ],
   "source": [
    "data.groupby('income_type')['days_employed'].agg('median')"
   ]
  },
  {
   "cell_type": "markdown",
   "id": "4f6c1fde",
   "metadata": {
    "deletable": false,
    "editable": false,
    "id": "38d1a030"
   },
   "source": [
    "У двух типов (безработные и пенсионеры) получатся аномально большие значения. Исправить такие значения сложно, поэтому оставьте их как есть. Тем более этот столбец не понадобится вам для исследования."
   ]
  },
  {
   "cell_type": "markdown",
   "id": "602c19d6",
   "metadata": {
    "deletable": false,
    "editable": false,
    "id": "d8a9f147"
   },
   "source": [
    "**Задание 8. Выведите перечень уникальных значений столбца `children`.**"
   ]
  },
  {
   "cell_type": "code",
   "execution_count": 245,
   "id": "9db50b7e",
   "metadata": {
    "deletable": false,
    "id": "ef5056eb",
    "outputId": "6975b15c-7f95-4697-d16d-a0c79b657b03"
   },
   "outputs": [
    {
     "data": {
      "text/plain": [
       "array([ 1,  0,  3,  2, -1,  4, 20,  5])"
      ]
     },
     "execution_count": 245,
     "metadata": {},
     "output_type": "execute_result"
    }
   ],
   "source": [
    "data['children'].unique()"
   ]
  },
  {
   "cell_type": "markdown",
   "id": "6831eb2b",
   "metadata": {
    "deletable": false,
    "editable": false,
    "id": "40b9ebf2"
   },
   "source": [
    "**Задание 9. В столбце `children` есть два аномальных значения. Удалите строки, в которых встречаются такие аномальные значения из датафрейма `data`.**"
   ]
  },
  {
   "cell_type": "code",
   "execution_count": 246,
   "id": "127cf343",
   "metadata": {
    "deletable": false,
    "id": "3ff9801d"
   },
   "outputs": [],
   "source": [
    "data = data[(data['children'] != -1) & (data['children'] != 20)]"
   ]
  },
  {
   "cell_type": "markdown",
   "id": "2c0a7ca5",
   "metadata": {
    "deletable": false,
    "editable": false,
    "id": "bbc4d0ce"
   },
   "source": [
    "**Задание 10. Ещё раз выведите перечень уникальных значений столбца `children`, чтобы убедиться, что артефакты удалены.**"
   ]
  },
  {
   "cell_type": "code",
   "execution_count": 247,
   "id": "140eca50",
   "metadata": {
    "deletable": false,
    "id": "ad4fa8b7",
    "outputId": "b2097101-d49d-44d9-901b-32a65c9463d1"
   },
   "outputs": [
    {
     "data": {
      "text/plain": [
       "array([1, 0, 3, 2, 4, 5])"
      ]
     },
     "execution_count": 247,
     "metadata": {},
     "output_type": "execute_result"
    }
   ],
   "source": [
    "data['children'].unique()"
   ]
  },
  {
   "cell_type": "markdown",
   "id": "e677572a",
   "metadata": {
    "deletable": false,
    "editable": false,
    "id": "75440b63"
   },
   "source": [
    "### Удаление пропусков (продолжение)"
   ]
  },
  {
   "cell_type": "markdown",
   "id": "3084f24d",
   "metadata": {
    "deletable": false,
    "editable": false,
    "id": "f4ea573f"
   },
   "source": [
    "**Задание 11. Заполните пропуски в столбце `days_employed` медианными значениями по каждого типа занятости `income_type`.**"
   ]
  },
  {
   "cell_type": "code",
   "execution_count": 248,
   "id": "1b34508e",
   "metadata": {
    "deletable": false,
    "id": "af6b1a7e"
   },
   "outputs": [],
   "source": [
    "for t in data['income_type'].unique():\n",
    "    data.loc[(data['income_type'] == t) & (data['days_employed'].isna()), 'days_employed'] = \\\n",
    "    data.loc[(data['income_type'] == t), 'days_employed'].median()"
   ]
  },
  {
   "cell_type": "markdown",
   "id": "c435ae47",
   "metadata": {
    "deletable": false,
    "editable": false,
    "id": "2753f40d"
   },
   "source": [
    "**Задание 12. Убедитесь, что все пропуски заполнены. Проверьте себя и ещё раз выведите количество пропущенных значений для каждого столбца с помощью двух методов.**"
   ]
  },
  {
   "cell_type": "code",
   "execution_count": 249,
   "id": "6da6561f",
   "metadata": {
    "deletable": false,
    "id": "55f78bc2",
    "outputId": "8da1e4e1-358e-4e87-98c9-f261bce0a7b2"
   },
   "outputs": [
    {
     "data": {
      "text/plain": [
       "children            0\n",
       "days_employed       0\n",
       "dob_years           0\n",
       "education           0\n",
       "education_id        0\n",
       "family_status       0\n",
       "family_status_id    0\n",
       "gender              0\n",
       "income_type         0\n",
       "debt                0\n",
       "total_income        0\n",
       "purpose             0\n",
       "dtype: int64"
      ]
     },
     "execution_count": 249,
     "metadata": {},
     "output_type": "execute_result"
    }
   ],
   "source": [
    "data.isna().sum()"
   ]
  },
  {
   "cell_type": "markdown",
   "id": "f89d7a30",
   "metadata": {
    "deletable": false,
    "editable": false,
    "id": "ddc81e43"
   },
   "source": [
    "### Изменение типов данных"
   ]
  },
  {
   "cell_type": "markdown",
   "id": "679719f9",
   "metadata": {
    "deletable": false,
    "editable": false,
    "id": "42d19d24"
   },
   "source": [
    "**Задание 13. Замените вещественный тип данных в столбце `total_income` на целочисленный с помощью метода `astype()`.**"
   ]
  },
  {
   "cell_type": "code",
   "execution_count": 250,
   "id": "79372acb",
   "metadata": {
    "deletable": false,
    "id": "920b65ad"
   },
   "outputs": [],
   "source": [
    "data['total_income'] = data['total_income'].astype(int)"
   ]
  },
  {
   "cell_type": "markdown",
   "id": "e301c93c",
   "metadata": {
    "deletable": false,
    "editable": false,
    "id": "80c420ba"
   },
   "source": [
    "### Обработка дубликатов"
   ]
  },
  {
   "cell_type": "markdown",
   "id": "2efa84d6",
   "metadata": {
    "deletable": false,
    "editable": false
   },
   "source": [
    "**Задание 14. Обработайте неявные дубликаты в столбце `education`. В этом столбце есть одни и те же значения, но записанные по-разному: с использованием заглавных и строчных букв. Приведите их к нижнему регистру. Проверьте остальные столбцы.**"
   ]
  },
  {
   "cell_type": "code",
   "execution_count": 251,
   "id": "e89af068",
   "metadata": {
    "deletable": false
   },
   "outputs": [],
   "source": [
    "data['education'] = data['education'].str.lower()"
   ]
  },
  {
   "cell_type": "markdown",
   "id": "ce4212e7",
   "metadata": {
    "deletable": false,
    "editable": false,
    "id": "dc587695"
   },
   "source": [
    "**Задание 15. Выведите на экран количество строк-дубликатов в данных. Если такие строки присутствуют, удалите их.**"
   ]
  },
  {
   "cell_type": "code",
   "execution_count": 252,
   "id": "a5e63946",
   "metadata": {
    "deletable": false,
    "id": "3ee445e4",
    "outputId": "9684deba-1934-42d1-99e1-cda61740f822"
   },
   "outputs": [
    {
     "data": {
      "text/plain": [
       "71"
      ]
     },
     "execution_count": 252,
     "metadata": {},
     "output_type": "execute_result"
    }
   ],
   "source": [
    "data.duplicated().sum()"
   ]
  },
  {
   "cell_type": "code",
   "execution_count": 253,
   "id": "8bf1380d",
   "metadata": {
    "deletable": false,
    "id": "8575fe05"
   },
   "outputs": [],
   "source": [
    "data = data.drop_duplicates()"
   ]
  },
  {
   "cell_type": "markdown",
   "id": "d016e58f",
   "metadata": {
    "deletable": false,
    "editable": false,
    "id": "9904cf55"
   },
   "source": [
    "### Категоризация данных"
   ]
  },
  {
   "cell_type": "markdown",
   "id": "6f1f8b9c",
   "metadata": {
    "deletable": false,
    "editable": false,
    "id": "72fcc8a2"
   },
   "source": [
    "**Задание 16. На основании диапазонов, указанных ниже, создайте в датафрейме `data` столбец `total_income_category` с категориями:**\n",
    "\n",
    "- 0–30000 — `'E'`;\n",
    "- 30001–50000 — `'D'`;\n",
    "- 50001–200000 — `'C'`;\n",
    "- 200001–1000000 — `'B'`;\n",
    "- 1000001 и выше — `'A'`.\n",
    "\n",
    "\n",
    "**Например, кредитополучателю с доходом 25000 нужно назначить категорию `'E'`, а клиенту, получающему 235000, — `'B'`. Используйте собственную функцию с именем `categorize_income()` и метод `apply()`.**"
   ]
  },
  {
   "cell_type": "code",
   "execution_count": 254,
   "id": "72f9aec8",
   "metadata": {
    "deletable": false,
    "id": "e1771346"
   },
   "outputs": [],
   "source": [
    "def categorize_income(income):\n",
    "    try:\n",
    "        if 0 <= income <= 30000:\n",
    "            return 'E'\n",
    "        elif 30001 <= income <= 50000:\n",
    "            return 'D'\n",
    "        elif 50001 <= income <= 200000:\n",
    "            return 'C'\n",
    "        elif 200001 <= income <= 1000000:\n",
    "            return 'B'\n",
    "        elif income >= 1000001:\n",
    "            return 'A'\n",
    "    except:\n",
    "        pass\n",
    "    "
   ]
  },
  {
   "cell_type": "code",
   "execution_count": 255,
   "id": "bc933533",
   "metadata": {
    "deletable": false,
    "id": "d5f3586d"
   },
   "outputs": [],
   "source": [
    "data['total_income_category'] = data['total_income'].apply(categorize_income)"
   ]
  },
  {
   "cell_type": "markdown",
   "id": "df110e3e",
   "metadata": {
    "deletable": false,
    "editable": false,
    "id": "dde49b5c"
   },
   "source": [
    "**Задание 17. Выведите на экран перечень уникальных целей взятия кредита из столбца `purpose`.**"
   ]
  },
  {
   "cell_type": "code",
   "execution_count": 256,
   "id": "edc45cc6",
   "metadata": {
    "deletable": false,
    "id": "f67ce9b3",
    "outputId": "673c12d9-7d7e-4ae0-9812-c622c89dd244"
   },
   "outputs": [
    {
     "data": {
      "text/plain": [
       "array(['покупка жилья', 'приобретение автомобиля',\n",
       "       'дополнительное образование', 'сыграть свадьбу',\n",
       "       'операции с жильем', 'образование', 'на проведение свадьбы',\n",
       "       'покупка жилья для семьи', 'покупка недвижимости',\n",
       "       'покупка коммерческой недвижимости', 'покупка жилой недвижимости',\n",
       "       'строительство собственной недвижимости', 'недвижимость',\n",
       "       'строительство недвижимости', 'на покупку подержанного автомобиля',\n",
       "       'на покупку своего автомобиля',\n",
       "       'операции с коммерческой недвижимостью',\n",
       "       'строительство жилой недвижимости', 'жилье',\n",
       "       'операции со своей недвижимостью', 'автомобили',\n",
       "       'заняться образованием', 'сделка с подержанным автомобилем',\n",
       "       'получение образования', 'автомобиль', 'свадьба',\n",
       "       'получение дополнительного образования', 'покупка своего жилья',\n",
       "       'операции с недвижимостью', 'получение высшего образования',\n",
       "       'свой автомобиль', 'сделка с автомобилем',\n",
       "       'профильное образование', 'высшее образование',\n",
       "       'покупка жилья для сдачи', 'на покупку автомобиля', 'ремонт жилью',\n",
       "       'заняться высшим образованием'], dtype=object)"
      ]
     },
     "execution_count": 256,
     "metadata": {},
     "output_type": "execute_result"
    }
   ],
   "source": [
    "data['purpose'].unique()"
   ]
  },
  {
   "cell_type": "markdown",
   "id": "ea9a9204",
   "metadata": {
    "deletable": false,
    "editable": false,
    "id": "85d0aef0"
   },
   "source": [
    "**Задание 18. Создайте функцию, которая на основании данных из столбца `purpose` сформирует новый столбец `purpose_category`, в который войдут следующие категории:**\n",
    "\n",
    "- `'операции с автомобилем'`,\n",
    "- `'операции с недвижимостью'`,\n",
    "- `'проведение свадьбы'`,\n",
    "- `'получение образования'`.\n",
    "\n",
    "**Например, если в столбце `purpose` находится подстрока `'на покупку автомобиля'`, то в столбце `purpose_category` должна появиться строка `'операции с автомобилем'`.**\n",
    "\n",
    "**Используйте собственную функцию с именем `categorize_purpose()` и метод `apply()`. Изучите данные в столбце `purpose` и определите, какие подстроки помогут вам правильно определить категорию.**"
   ]
  },
  {
   "cell_type": "code",
   "execution_count": 257,
   "id": "d583b33a",
   "metadata": {
    "deletable": false,
    "id": "e149fab4"
   },
   "outputs": [],
   "source": [
    "def categorize_purpose(row):\n",
    "    try:\n",
    "        if 'автом' in row:\n",
    "            return 'операции с автомобилем'\n",
    "        elif 'жил' in row or 'недвиж' in row:\n",
    "            return 'операции с недвижимостью'\n",
    "        elif 'свад' in row:\n",
    "            return 'проведение свадьбы'\n",
    "        elif 'образов' in row:\n",
    "            return 'получение образования'\n",
    "    except:\n",
    "        return 'нет категории'"
   ]
  },
  {
   "cell_type": "code",
   "execution_count": 258,
   "id": "9948d46f",
   "metadata": {
    "deletable": false,
    "id": "bf36e69b"
   },
   "outputs": [],
   "source": [
    "data['purpose_category'] = data['purpose'].apply(categorize_purpose)"
   ]
  },
  {
   "cell_type": "markdown",
   "id": "d37facfe",
   "metadata": {
    "deletable": false,
    "editable": false,
    "id": "09b242bf"
   },
   "source": [
    "### Шаг 3. Исследуйте данные и ответьте на вопросы"
   ]
  },
  {
   "cell_type": "markdown",
   "id": "915e082a",
   "metadata": {
    "deletable": false,
    "editable": false,
    "id": "c5d66278"
   },
   "source": [
    "#### 3.1 Есть ли зависимость между количеством детей и возвратом кредита в срок?"
   ]
  },
  {
   "cell_type": "code",
   "execution_count": 259,
   "id": "14add10a",
   "metadata": {
    "deletable": false,
    "id": "2cacfc4a"
   },
   "outputs": [
    {
     "name": "stdout",
     "output_type": "stream",
     "text": [
      "                 % задолженности по кредиту  количество записей\n",
      "Количество детей                                               \n",
      "0                                     7.54%               14091\n",
      "1                                     9.23%                4808\n",
      "2                                     9.45%                2052\n",
      "3                                     8.18%                 330\n",
      "4                                     9.76%                  41\n",
      "5                                     0.00%                   9\n"
     ]
    }
   ],
   "source": [
    "def calculate(data, column):\n",
    "    debt_mean = data.groupby(column)['debt'].mean()\n",
    "    value = data[column].value_counts()\n",
    "    def percent(x):\n",
    "        return \"{0:.2%}\".format(x)\n",
    "    debt_mean = debt_mean.apply(percent)\n",
    "    result = pd.concat([debt_mean, value], axis=1)\n",
    "    result.columns = ['% задолженности по кредиту', 'количество записей']\n",
    "    return result\n",
    "\n",
    "result = calculate(data, 'children')\n",
    "result.index.name = 'Количество детей'\n",
    "\n",
    "print(result)\n",
    "\n",
    "# Ваш код будет здесь. Вы можете создавать новые ячейки."
   ]
  },
  {
   "cell_type": "markdown",
   "id": "a54fbc7a",
   "metadata": {
    "deletable": false,
    "id": "3a6b99ec"
   },
   "source": [
    "**Вывод:** Наличие детей может влиять на вероятность задолженности по кредиту. \n",
    "Заемщики без детей имеют задолженность реже всех 7.54%, это может быть связано с меньшей финансовой нагрузкой на данную группу.\n",
    "Заемщики с тремя детьми имеют задолженность в 8.18% случаев, что может быть связано с высокой осознанностью в обращении с финансами, и возможными льготами для многодетных семей.\n",
    "Заемщики с одним или двумя детьми имеют задолженность в 9.23% и 9.45% случаев, что на 22% и на 25% соответственно выше чем у заемщиков без детей, возможно на это влияет высокая финансовая нагрузка и снижена осознанность в обращении с финансами.\n",
    "Обратим внимание, данные по семьям с четырьмя и пятью детьми недостаточно репрезентативные для окончательных выводов из-за малого размера выборки. \n",
    "Общий вывод: с увеличением количества детей в семье процент задолженности по кредитам в целом имеет тенденцию к росту, это мы видим на примере заемщиков без детей, с одним и двумя детьми, что может быть связано с увеличением финансовой нагрузки. Однако семьи с тремя детьми имеют задолженность в 8.18%, возможно это связано с высокой осознанностью в обращении с финансами, и возможными льготами для многодетных семей.\n",
    "\n"
   ]
  },
  {
   "cell_type": "markdown",
   "id": "7e88be95",
   "metadata": {
    "deletable": false,
    "editable": false,
    "id": "97be82ca"
   },
   "source": [
    "#### 3.2 Есть ли зависимость между семейным положением и возвратом кредита в срок?"
   ]
  },
  {
   "cell_type": "code",
   "execution_count": 310,
   "id": "85cd4321",
   "metadata": {
    "deletable": false,
    "id": "dc3f7ee8",
    "scrolled": true
   },
   "outputs": [
    {
     "name": "stdout",
     "output_type": "stream",
     "text": [
      "                      % задолженности по кредиту  количество записей\n",
      "Семейное положение                                                  \n",
      "Не женат / не замужем                      9.76%                2796\n",
      "в разводе                                  7.06%                1189\n",
      "вдовец / вдова                             6.62%                 951\n",
      "гражданский брак                           9.31%                4134\n",
      "женат / замужем                            7.56%               12261\n"
     ]
    }
   ],
   "source": [
    "family_result = calculate(data, 'family_status')\n",
    "family_result.index.name = 'Семейное положение'\n",
    "\n",
    "print(family_result)\n",
    "\n",
    "\n",
    "# Ваш код будет здесь. Вы можете создавать новые ячейки."
   ]
  },
  {
   "cell_type": "markdown",
   "id": "6c5446ae",
   "metadata": {
    "deletable": false,
    "id": "1cef7837"
   },
   "source": [
    "**Вывод:** Семейное положение явно влияет на возврат кредита в срок. Одинокие люди и люди в браке вынуждены больше уделять внимания  к финансам и кредитным обязательствам\n",
    "Самый низкий процент задолженности 6.62% у группы \"вдовец / вдова\", за ними идут две группы \"в разводе\" и \"женат / замужем\" с  7.06% и 7.56% соответственно.  \n",
    "С большим отрывом от них в негативном смысле идут группы с наибольшим процентом имевших задолженности по кредиту, группы \"гражданский брак\" и \"Не женат / не замужем\", с 9.31% и 9.76% соответственно."
   ]
  },
  {
   "cell_type": "markdown",
   "id": "643f8dcb",
   "metadata": {
    "deletable": false,
    "editable": false,
    "id": "1e8b2fca"
   },
   "source": [
    "#### 3.3 Есть ли зависимость между уровнем дохода и возвратом кредита в срок?"
   ]
  },
  {
   "cell_type": "code",
   "execution_count": 318,
   "id": "dc766635",
   "metadata": {
    "deletable": false,
    "id": "cd7e3720"
   },
   "outputs": [
    {
     "name": "stdout",
     "output_type": "stream",
     "text": [
      "                     % задолженности по кредиту  количество записей\n",
      "Доход                                                              \n",
      "от 0 до 30000                             9.09%                  22\n",
      "от 30001 до 50000                         6.02%                 349\n",
      "от 50001 до 100000                        8.13%                4073\n",
      "от 100001 до 150000                       8.71%                7110\n",
      "от 150001 до 200000                       8.51%                4738\n",
      "от 200001 до 400000                       7.20%                4511\n",
      "от 400001 до 1000000                      5.77%                 503\n",
      "выше 1000000                              8.00%                  25\n"
     ]
    }
   ],
   "source": [
    "def categorize_income2(income):\n",
    "    if 0 <= income <= 30000:\n",
    "        return 'от 0 до 30000'\n",
    "    elif 30001 <= income <= 50000:\n",
    "        return 'от 30001 до 50000'\n",
    "    elif 50001 <= income <= 100000:\n",
    "        return 'от 50001 до 100000'\n",
    "    elif 100001 <= income <= 150000:\n",
    "        return 'от 100001 до 150000'\n",
    "    elif 150001 <= income <= 200000:\n",
    "        return 'от 150001 до 200000'\n",
    "    elif 200001 <= income <= 400000:\n",
    "        return 'от 200001 до 400000'\n",
    "    elif 400001 <= income <= 1000000:\n",
    "        return 'от 400001 до 1000000'\n",
    "    elif income >= 1000001:\n",
    "        return 'выше 1000000'\n",
    "\n",
    "data['new_total_income_category'] = data['total_income'].apply(categorize_income2)\n",
    "\n",
    "\n",
    "new_total_income_category_ordered = calculate(data,'new_total_income_category')\n",
    "new_total_income_category_ordered = new_total_income_category_ordered.rename_axis('Доход')\n",
    "desired_order = ['от 0 до 30000','от 30001 до 50000','от 50001 до 100000','от 100001 до 150000',\n",
    "                    'от 150001 до 200000','от 200001 до 400000','от 400001 до 1000000','выше 1000000']\n",
    "\n",
    "new_total_income_category_ordered = new_total_income_category_ordered.reindex(desired_order)\n",
    "\n",
    "print(new_total_income_category_ordered)"
   ]
  },
  {
   "cell_type": "markdown",
   "id": "ba82e2fb",
   "metadata": {
    "deletable": false,
    "id": "e8593def"
   },
   "source": [
    "**Вывод:** Для увелечения наглядности выполнена разделение выборок на новые категории по уровню дохода. Так же обратим внимание, категория с доходом от 0 до 30000 и выше 1000000 недостаточно репрезентативные для окончательных выводов из-за малого размера выборки. \n",
    "Общий вывод: уровень дохода влияет на  возврат кредита в срок, самый низкий процент задолженности, наблюдается у группы с доходом от 30001 до 50000 и у группы с доходом от 400001 до 1000000.\n",
    "Лучшие показатели у категории от 400001 до 1000000 - 5.77%, так же хороший показатель у категории от 200001 до 400000 - 7.20%, высокие доходы помогают отдать кредит в срок, на удивление категория с доходом от 30001 до 50000 имеет за должность по кредитам в 6.02% случая, что является тоже хорошим показателем. Самая многочисленная группа заемщиков с доходом от 50001 до 200000 имеет задолженность от 8.13% до 8.71% случаев, что можно считать средним уровнем задолженности, эти группы испытывают наибольшею финансовую нагрузку.\n",
    "\n",
    "\n"
   ]
  },
  {
   "cell_type": "markdown",
   "id": "45b68cf2",
   "metadata": {
    "deletable": false,
    "editable": false,
    "id": "99ecbd1f"
   },
   "source": [
    "#### 3.4 Как разные цели кредита влияют на его возврат в срок?"
   ]
  },
  {
   "cell_type": "code",
   "execution_count": 1,
   "id": "970af81e",
   "metadata": {
    "deletable": false,
    "id": "2b687290"
   },
   "outputs": [
    {
     "ename": "NameError",
     "evalue": "name 'calculate' is not defined",
     "output_type": "error",
     "traceback": [
      "\u001b[0;31m---------------------------------------------------------------------------\u001b[0m",
      "\u001b[0;31mNameError\u001b[0m                                 Traceback (most recent call last)",
      "\u001b[0;32m/tmp/ipykernel_31/4072977838.py\u001b[0m in \u001b[0;36m<module>\u001b[0;34m\u001b[0m\n\u001b[0;32m----> 1\u001b[0;31m \u001b[0mpurpose_category_result\u001b[0m \u001b[0;34m=\u001b[0m \u001b[0mcalculate\u001b[0m\u001b[0;34m(\u001b[0m\u001b[0mdata\u001b[0m\u001b[0;34m,\u001b[0m \u001b[0;34m'purpose_category'\u001b[0m\u001b[0;34m)\u001b[0m\u001b[0;34m\u001b[0m\u001b[0;34m\u001b[0m\u001b[0m\n\u001b[0m\u001b[1;32m      2\u001b[0m \u001b[0mpurpose_category_result\u001b[0m\u001b[0;34m.\u001b[0m\u001b[0mindex\u001b[0m\u001b[0;34m.\u001b[0m\u001b[0mname\u001b[0m \u001b[0;34m=\u001b[0m \u001b[0;34m'Цель получения кредита'\u001b[0m\u001b[0;34m\u001b[0m\u001b[0;34m\u001b[0m\u001b[0m\n\u001b[1;32m      3\u001b[0m \u001b[0mdisplay\u001b[0m\u001b[0;34m(\u001b[0m\u001b[0mpurpose_category_result\u001b[0m\u001b[0;34m)\u001b[0m\u001b[0;34m\u001b[0m\u001b[0;34m\u001b[0m\u001b[0m\n\u001b[1;32m      4\u001b[0m \u001b[0mprint\u001b[0m\u001b[0;34m(\u001b[0m\u001b[0mpurpose_category_result\u001b[0m\u001b[0;34m)\u001b[0m\u001b[0;34m\u001b[0m\u001b[0;34m\u001b[0m\u001b[0m\n\u001b[1;32m      5\u001b[0m \u001b[0;34m\u001b[0m\u001b[0m\n",
      "\u001b[0;31mNameError\u001b[0m: name 'calculate' is not defined"
     ]
    }
   ],
   "source": [
    "purpose_category_result = calculate(data, 'purpose_category')\n",
    "purpose_category_result.index.name = 'Цель получения кредита'\n",
    "print(purpose_category_result)\n",
    "\n",
    "# Ваш код будет здесь. Вы можете создавать новые ячейки."
   ]
  },
  {
   "cell_type": "markdown",
   "id": "792c780b",
   "metadata": {
    "deletable": false,
    "id": "b4bb2ce6"
   },
   "source": [
    "**Вывод:**  В этой части мы тоже видим зависимость.\n",
    "Самый низкий процент задолженности у группы \"операции с недвижимостью\" и \"проведение свадьбы\", что составляет 7.26% и 7.91% соответственно , эти кредиты берутся наиболее обдуманно и взвешенно. Кредиты на покупку недвижимости часто имеют залог в виде самой недвижимости, что снижает риск.\n",
    "Так же мы видим, что у группы \"получение образования\" и \"операции с автомобилем\" довольно высокий процент задолженности по кредиту, 9.25% и 9.35% соответственно."
   ]
  },
  {
   "cell_type": "markdown",
   "id": "0e48ef9e",
   "metadata": {
    "deletable": false,
    "editable": false,
    "id": "09c3ac4c"
   },
   "source": [
    "#### 3.5 Приведите возможные причины появления пропусков в исходных данных."
   ]
  },
  {
   "cell_type": "markdown",
   "id": "fa42f992",
   "metadata": {
    "deletable": false,
    "id": "9da2ceda"
   },
   "source": [
    "*Ответ: Пропуски в данных могут возникать по различным причинам, включая отсутствие информации, ошибки ввода данных, технические проблемы, неправильное представление данных, отсутствие ответов и случайные факторы. "
   ]
  },
  {
   "cell_type": "markdown",
   "id": "5dd1c564",
   "metadata": {
    "deletable": false,
    "editable": false,
    "id": "7b0487d6"
   },
   "source": [
    "#### 3.6 Объясните, почему заполнить пропуски медианным значением — лучшее решение для количественных переменных."
   ]
  },
  {
   "cell_type": "markdown",
   "id": "21bc30a1",
   "metadata": {
    "deletable": false,
    "id": "7ecf2b8e"
   },
   "source": [
    "*Ответ:* Заполнение пропусков медианным значением для количественных переменных рекомендуется из-за его устойчивости к выбросам, способности сохранять распределение данных, незначительного влияния на ключевые статистические показатели и простоты применения, что делает его эффективным и универсальным методом для обработки недостающих данных."
   ]
  },
  {
   "cell_type": "markdown",
   "id": "07090ef3",
   "metadata": {
    "deletable": false,
    "editable": false,
    "id": "6db5255a"
   },
   "source": [
    "### Шаг 4: общий вывод."
   ]
  },
  {
   "cell_type": "markdown",
   "id": "e6c8a32f",
   "metadata": {
    "deletable": false,
    "id": "bad65432"
   },
   "source": [
    "Напишите ваш общий вывод."
   ]
  },
  {
   "cell_type": "markdown",
   "id": "0f5f6179",
   "metadata": {},
   "source": [
    "На этапе  предобработки, мы заполнили пропуски, исключили и переработали аномалии значения, которые не отражают действительность и появились по какой-то ошибке. Пропуски  с данными о доходах в столбце `total_income` и с днями трудового стажа в столбце  `days_employed`  заполнены медианным значением с группировкой по типу дохда из столбца `income_type`,  как наиболее влияющее на результат. Для большей дитализации, и уменьшения несбалансированности выборок все заемщики  разделены на 8 категорий по уровнем дохода. Кредит разделены на 4 категории, согласно назначению кредита. \n",
    "    В процессе исследования мы отвечали на следующие вопросы:\n",
    "    1. Есть ли зависимость между количеством детей и возвратом кредита в срок?\n",
    "Зависимость есть, с увеличением количества детей в семье процент задолженности по кредитам в целом имеет тенденцию к росту! Что возможно связано увеличивающийся финансовой нагрузкой. Заемщики без детей имеют задолженность реже всех в 7.54% случаях, с одним ребенком в 9.23% случаях и двумя детьми имеют задолженность в 9.45%, что является самым большим результатом и на 25% больше чем у заемщиков без детей. Однако семьи с тремя детьми имеют задолженность в 8.18%, что возможно связано с субсидиями для многодетных семей и высокой финансовой ответственностью. Обратим внимание, данные по семьям с четырьмя и пятью детьми недостаточно репрезентативные для окончательных выводов из-за малого размера выборки. \n",
    "    2. Есть ли зависимость между семейным положением и возвратом кредита в срок?\n",
    "Семейное положение влияет на возврат кредита в срок. Лучше всех относятся к кредитным обязательствам одинокие люди после брака и лица находящиеся в браке. Самый низкий процент не возврата у группы людей \"вдовец / вдова\" 6.62%, за ними следуют \"в разводе\" 7.06%, \"женат / замужем\" 7.56%. Что возможно связано с грамотным управлением финансами и высокой финансовой ответственностью. С большим отрывом от них в негативном смысле идут группы с наибольшим процентом имевших задолженности по кредиту, группы \"гражданский брак\" и \"Не женат / не замужем\", с 9.31% и 9.76% соответственно. Разница между  группой с меньшим процентом задолженности \"вдовец / вдова\"  и  группами с самым большим долгом \"гражданский брак\" и \"Не женат / не замужем\" составляет 40% и 47% соответственно.\n",
    "    3. Есть ли зависимость между уровнем дохода и возвратом кредита в срок?\n",
    "Уровень дохода влияет на возврат кредита в срок, самый низкий процент задолженности, наблюдается у группы с доходом  от 400001 до 1000000 5.77% не возврата, с уменьшением дохода есть тенденция к увеличению процента не возврата кредитов. Что связано с увеличением финансовой нагрузки. Есть одно исключение из этой закономерности лица с доходом от 30001 до 50000 с 6.02% не возврата, что возможно связано с высокой финансовой ответственностью и грамотностью. Самая многочисленная группа заемщиков с доходом от 50001 до 200000 имеет задолженность от 8.13% до 8.71% случаев. Разница по проценту не возврата между самой лучшей группой с доходом от 400001 до 1000000  и худшей с доходом от 100001 до 150000 составляет 51%. Так же обратим внимание, категория с доходом от 0 до 30000 и выше 1000000 недостаточно репрезентативные для окончательных выводов из-за малого размера выборки.\n",
    "    4. Как разные цели кредита влияют на его возврат в срок?\n",
    "Цель кредита влияет на процент не возврата. Ниже всего процент не возврата группы \"операции с недвижимостью\"  7.26% и \"проведение свадьбы\" 7.91%, эти цели являются, как правило, наиболее обдуманные и взвешенными. Не мало важно, что обе этих группы является наименее рискованными так как, кредиты на покупку недвижимости часто имеют залог в виде самой недвижимости и более низкий процент, а сумма кредита на свадьбу самая низкой по сравнению с другими группами. Так же мы видим, довольно высокий процент задолженности по кредиту у групп \"получение образования\" 9.25% и \"операции с автомобилем\" 9.35%, это на 25% и на 28% выше самой низкой группы.\n",
    "    Подведем итог из данных которые мы проанализировали:\n",
    "Прослеживается закономерность, увеличение финансовой нагрузки на заемщика негативно сказывается на возврате кредита в срок. \n",
    "Идеальный \"портрет\" заемщика - заемщик состоявший в официальном браке или бывший в браке, без детей, который берет кредит с целью покупки квартиры или брака, с доходом от 400001 до 1000000.\n",
    "Заемщик  с самой низкой финансовой ответственностью - заемщик ни когда не состоявший в браке, с одним или двумя детьми, который берет кредит с целью покупки машины или на образование, с доходом от 50000 до 200000.\n",
    "    Для дальнейшего исследования необходимо проверить как оставшиеся категории, такие как общий трудовой стаж, возраст, уровень образования, пол клиента, тип занятости, и их комбинации влияют на возврат кредита в срок."
   ]
  },
  {
   "cell_type": "code",
   "execution_count": null,
   "id": "641dc9be",
   "metadata": {},
   "outputs": [],
   "source": []
  },
  {
   "cell_type": "code",
   "execution_count": null,
   "id": "7001ae8a",
   "metadata": {},
   "outputs": [],
   "source": []
  }
 ],
 "metadata": {
  "ExecuteTimeLog": [
   {
    "duration": 538,
    "start_time": "2023-12-23T13:03:30.427Z"
   },
   {
    "duration": 23,
    "start_time": "2023-12-23T13:03:30.966Z"
   },
   {
    "duration": 18,
    "start_time": "2023-12-23T13:03:31.162Z"
   },
   {
    "duration": 11,
    "start_time": "2023-12-23T13:03:31.871Z"
   },
   {
    "duration": 34,
    "start_time": "2023-12-23T13:03:32.213Z"
   },
   {
    "duration": 4,
    "start_time": "2023-12-23T13:03:32.770Z"
   },
   {
    "duration": 7,
    "start_time": "2023-12-23T13:03:33.114Z"
   },
   {
    "duration": 4,
    "start_time": "2023-12-23T13:03:33.683Z"
   },
   {
    "duration": 7,
    "start_time": "2023-12-23T13:03:34.061Z"
   },
   {
    "duration": 4,
    "start_time": "2023-12-23T13:03:34.443Z"
   },
   {
    "duration": 35,
    "start_time": "2023-12-23T13:03:35.024Z"
   },
   {
    "duration": 12,
    "start_time": "2023-12-23T13:03:35.409Z"
   },
   {
    "duration": 3,
    "start_time": "2023-12-23T13:03:35.978Z"
   },
   {
    "duration": 12,
    "start_time": "2023-12-23T13:03:36.549Z"
   },
   {
    "duration": 19,
    "start_time": "2023-12-23T13:03:36.945Z"
   },
   {
    "duration": 17,
    "start_time": "2023-12-23T13:03:37.153Z"
   },
   {
    "duration": 3,
    "start_time": "2023-12-23T13:03:37.733Z"
   },
   {
    "duration": 17,
    "start_time": "2023-12-23T13:03:37.925Z"
   },
   {
    "duration": 5,
    "start_time": "2023-12-23T13:03:38.727Z"
   },
   {
    "duration": 3,
    "start_time": "2023-12-23T13:03:39.294Z"
   },
   {
    "duration": 9,
    "start_time": "2023-12-23T13:03:39.585Z"
   },
   {
    "duration": 2,
    "start_time": "2023-12-23T13:03:40.649Z"
   },
   {
    "duration": 2,
    "start_time": "2023-12-23T13:03:41.730Z"
   },
   {
    "duration": 2,
    "start_time": "2023-12-23T13:03:42.733Z"
   },
   {
    "duration": 2,
    "start_time": "2023-12-23T13:03:43.549Z"
   },
   {
    "duration": 64,
    "start_time": "2023-12-23T13:18:27.924Z"
   },
   {
    "duration": 3,
    "start_time": "2023-12-23T13:18:54.202Z"
   },
   {
    "duration": 4,
    "start_time": "2023-12-23T13:20:09.694Z"
   },
   {
    "duration": 5,
    "start_time": "2023-12-23T13:25:00.961Z"
   },
   {
    "duration": 27,
    "start_time": "2023-12-23T13:46:38.023Z"
   },
   {
    "duration": 8,
    "start_time": "2023-12-23T13:51:11.557Z"
   },
   {
    "duration": 8,
    "start_time": "2023-12-23T14:00:05.664Z"
   },
   {
    "duration": 8,
    "start_time": "2023-12-23T14:02:45.320Z"
   },
   {
    "duration": 7,
    "start_time": "2023-12-23T14:03:04.990Z"
   },
   {
    "duration": 8,
    "start_time": "2023-12-23T14:06:24.379Z"
   },
   {
    "duration": 13,
    "start_time": "2023-12-23T14:08:47.066Z"
   },
   {
    "duration": 6,
    "start_time": "2023-12-23T14:09:26.694Z"
   },
   {
    "duration": 10,
    "start_time": "2023-12-23T14:13:29.483Z"
   },
   {
    "duration": 8,
    "start_time": "2023-12-23T14:13:35.178Z"
   },
   {
    "duration": 9,
    "start_time": "2023-12-23T14:13:43.917Z"
   },
   {
    "duration": 5,
    "start_time": "2023-12-23T14:15:42.976Z"
   },
   {
    "duration": 302,
    "start_time": "2023-12-23T14:18:29.544Z"
   },
   {
    "duration": 279,
    "start_time": "2023-12-23T14:19:13.690Z"
   },
   {
    "duration": 73,
    "start_time": "2023-12-23T14:21:21.125Z"
   },
   {
    "duration": 8,
    "start_time": "2023-12-23T14:21:41.042Z"
   },
   {
    "duration": 8,
    "start_time": "2023-12-23T14:21:48.898Z"
   },
   {
    "duration": 10,
    "start_time": "2023-12-23T14:22:37.171Z"
   },
   {
    "duration": 10,
    "start_time": "2023-12-23T14:22:40.782Z"
   },
   {
    "duration": 6,
    "start_time": "2023-12-23T14:24:17.011Z"
   },
   {
    "duration": 7,
    "start_time": "2023-12-23T14:25:57.378Z"
   },
   {
    "duration": 684,
    "start_time": "2023-12-23T18:25:20.103Z"
   },
   {
    "duration": 21,
    "start_time": "2023-12-23T18:25:20.788Z"
   },
   {
    "duration": 15,
    "start_time": "2023-12-23T18:25:20.915Z"
   },
   {
    "duration": 11,
    "start_time": "2023-12-23T18:25:21.819Z"
   },
   {
    "duration": 33,
    "start_time": "2023-12-23T18:25:22.215Z"
   },
   {
    "duration": 4,
    "start_time": "2023-12-23T18:25:22.809Z"
   },
   {
    "duration": 8,
    "start_time": "2023-12-23T18:25:23.214Z"
   },
   {
    "duration": 4,
    "start_time": "2023-12-23T18:25:23.824Z"
   },
   {
    "duration": 7,
    "start_time": "2023-12-23T18:25:24.242Z"
   },
   {
    "duration": 5,
    "start_time": "2023-12-23T18:25:24.702Z"
   },
   {
    "duration": 36,
    "start_time": "2023-12-23T18:25:25.322Z"
   },
   {
    "duration": 12,
    "start_time": "2023-12-23T18:25:25.727Z"
   },
   {
    "duration": 4,
    "start_time": "2023-12-23T18:25:26.330Z"
   },
   {
    "duration": 13,
    "start_time": "2023-12-23T18:25:26.956Z"
   },
   {
    "duration": 20,
    "start_time": "2023-12-23T18:25:27.358Z"
   },
   {
    "duration": 17,
    "start_time": "2023-12-23T18:25:27.562Z"
   },
   {
    "duration": 3,
    "start_time": "2023-12-23T18:25:28.607Z"
   },
   {
    "duration": 11,
    "start_time": "2023-12-23T18:25:28.872Z"
   },
   {
    "duration": 6,
    "start_time": "2023-12-23T18:25:29.344Z"
   },
   {
    "duration": 3,
    "start_time": "2023-12-23T18:25:29.760Z"
   },
   {
    "duration": 8,
    "start_time": "2023-12-23T18:25:29.959Z"
   },
   {
    "duration": 6,
    "start_time": "2023-12-23T18:25:30.850Z"
   },
   {
    "duration": 7,
    "start_time": "2023-12-23T18:25:46.159Z"
   },
   {
    "duration": 9,
    "start_time": "2023-12-23T18:26:46.769Z"
   },
   {
    "duration": 7,
    "start_time": "2023-12-23T18:29:15.793Z"
   },
   {
    "duration": 18,
    "start_time": "2023-12-23T18:40:23.360Z"
   },
   {
    "duration": 15,
    "start_time": "2023-12-23T18:42:46.935Z"
   },
   {
    "duration": 46,
    "start_time": "2023-12-24T10:00:44.554Z"
   },
   {
    "duration": 505,
    "start_time": "2023-12-24T10:00:50.165Z"
   },
   {
    "duration": 21,
    "start_time": "2023-12-24T10:00:50.672Z"
   },
   {
    "duration": 16,
    "start_time": "2023-12-24T10:00:50.838Z"
   },
   {
    "duration": 10,
    "start_time": "2023-12-24T10:00:51.490Z"
   },
   {
    "duration": 35,
    "start_time": "2023-12-24T10:00:51.854Z"
   },
   {
    "duration": 4,
    "start_time": "2023-12-24T10:00:52.366Z"
   },
   {
    "duration": 7,
    "start_time": "2023-12-24T10:00:52.714Z"
   },
   {
    "duration": 4,
    "start_time": "2023-12-24T10:00:53.218Z"
   },
   {
    "duration": 7,
    "start_time": "2023-12-24T10:00:53.874Z"
   },
   {
    "duration": 5,
    "start_time": "2023-12-24T10:00:54.042Z"
   },
   {
    "duration": 40,
    "start_time": "2023-12-24T10:00:54.294Z"
   },
   {
    "duration": 11,
    "start_time": "2023-12-24T10:00:54.463Z"
   },
   {
    "duration": 4,
    "start_time": "2023-12-24T10:00:54.714Z"
   },
   {
    "duration": 12,
    "start_time": "2023-12-24T10:00:54.967Z"
   },
   {
    "duration": 20,
    "start_time": "2023-12-24T10:00:55.134Z"
   },
   {
    "duration": 16,
    "start_time": "2023-12-24T10:00:55.216Z"
   },
   {
    "duration": 5,
    "start_time": "2023-12-24T10:00:55.470Z"
   },
   {
    "duration": 15,
    "start_time": "2023-12-24T10:00:55.556Z"
   },
   {
    "duration": 7,
    "start_time": "2023-12-24T10:00:55.723Z"
   },
   {
    "duration": 3,
    "start_time": "2023-12-24T10:00:55.890Z"
   },
   {
    "duration": 8,
    "start_time": "2023-12-24T10:00:55.975Z"
   },
   {
    "duration": 30,
    "start_time": "2023-12-24T10:00:56.228Z"
   },
   {
    "duration": 6,
    "start_time": "2023-12-24T10:00:56.478Z"
   },
   {
    "duration": 11,
    "start_time": "2023-12-24T10:00:56.733Z"
   },
   {
    "duration": 18,
    "start_time": "2023-12-24T10:00:56.984Z"
   },
   {
    "duration": 8,
    "start_time": "2023-12-24T10:01:14.698Z"
   },
   {
    "duration": 9,
    "start_time": "2023-12-24T10:01:15.336Z"
   },
   {
    "duration": 16,
    "start_time": "2023-12-24T10:02:17.350Z"
   },
   {
    "duration": 10,
    "start_time": "2023-12-24T10:03:04.034Z"
   },
   {
    "duration": 8,
    "start_time": "2023-12-24T10:03:26.981Z"
   },
   {
    "duration": 11,
    "start_time": "2023-12-24T10:33:52.816Z"
   },
   {
    "duration": 12,
    "start_time": "2023-12-24T10:38:52.089Z"
   },
   {
    "duration": 209,
    "start_time": "2023-12-24T10:42:44.048Z"
   },
   {
    "duration": 9,
    "start_time": "2023-12-24T10:43:47.937Z"
   },
   {
    "duration": 7,
    "start_time": "2023-12-24T10:43:58.400Z"
   },
   {
    "duration": 7,
    "start_time": "2023-12-24T10:44:11.857Z"
   },
   {
    "duration": 10,
    "start_time": "2023-12-24T10:44:18.471Z"
   },
   {
    "duration": 8,
    "start_time": "2023-12-24T10:47:44.294Z"
   },
   {
    "duration": 8,
    "start_time": "2023-12-24T10:48:02.539Z"
   },
   {
    "duration": 189,
    "start_time": "2023-12-24T10:50:01.488Z"
   },
   {
    "duration": 9,
    "start_time": "2023-12-24T10:50:32.249Z"
   },
   {
    "duration": 12,
    "start_time": "2023-12-24T10:52:35.962Z"
   },
   {
    "duration": 26,
    "start_time": "2023-12-24T10:56:35.472Z"
   },
   {
    "duration": 29,
    "start_time": "2023-12-24T10:56:57.998Z"
   },
   {
    "duration": 15,
    "start_time": "2023-12-24T10:59:47.431Z"
   },
   {
    "duration": 14,
    "start_time": "2023-12-24T11:15:59.984Z"
   },
   {
    "duration": 16,
    "start_time": "2023-12-24T11:18:40.471Z"
   },
   {
    "duration": 15,
    "start_time": "2023-12-24T11:18:47.281Z"
   },
   {
    "duration": 15,
    "start_time": "2023-12-24T11:19:05.415Z"
   },
   {
    "duration": 13,
    "start_time": "2023-12-24T11:19:33.101Z"
   },
   {
    "duration": 17,
    "start_time": "2023-12-24T11:20:16.700Z"
   },
   {
    "duration": 9,
    "start_time": "2023-12-24T11:20:30.244Z"
   },
   {
    "duration": 14,
    "start_time": "2023-12-24T11:20:35.510Z"
   },
   {
    "duration": 10,
    "start_time": "2023-12-24T11:20:38.697Z"
   },
   {
    "duration": 86,
    "start_time": "2023-12-24T11:21:02.896Z"
   },
   {
    "duration": 15,
    "start_time": "2023-12-24T11:21:03.079Z"
   },
   {
    "duration": 16,
    "start_time": "2023-12-24T11:21:03.233Z"
   },
   {
    "duration": 10,
    "start_time": "2023-12-24T11:21:03.573Z"
   },
   {
    "duration": 56,
    "start_time": "2023-12-24T11:21:03.731Z"
   },
   {
    "duration": 4,
    "start_time": "2023-12-24T11:21:03.983Z"
   },
   {
    "duration": 8,
    "start_time": "2023-12-24T11:21:04.151Z"
   },
   {
    "duration": 4,
    "start_time": "2023-12-24T11:21:04.405Z"
   },
   {
    "duration": 6,
    "start_time": "2023-12-24T11:21:04.573Z"
   },
   {
    "duration": 4,
    "start_time": "2023-12-24T11:21:04.742Z"
   },
   {
    "duration": 39,
    "start_time": "2023-12-24T11:21:04.994Z"
   },
   {
    "duration": 10,
    "start_time": "2023-12-24T11:21:05.160Z"
   },
   {
    "duration": 5,
    "start_time": "2023-12-24T11:21:05.413Z"
   },
   {
    "duration": 11,
    "start_time": "2023-12-24T11:21:05.665Z"
   },
   {
    "duration": 19,
    "start_time": "2023-12-24T11:21:05.831Z"
   },
   {
    "duration": 17,
    "start_time": "2023-12-24T11:21:05.914Z"
   },
   {
    "duration": 4,
    "start_time": "2023-12-24T11:21:06.165Z"
   },
   {
    "duration": 10,
    "start_time": "2023-12-24T11:21:06.250Z"
   },
   {
    "duration": 5,
    "start_time": "2023-12-24T11:21:06.420Z"
   },
   {
    "duration": 3,
    "start_time": "2023-12-24T11:21:06.586Z"
   },
   {
    "duration": 9,
    "start_time": "2023-12-24T11:21:06.668Z"
   },
   {
    "duration": 15,
    "start_time": "2023-12-24T11:21:06.924Z"
   },
   {
    "duration": 9,
    "start_time": "2023-12-24T11:21:07.171Z"
   },
   {
    "duration": 15,
    "start_time": "2023-12-24T11:21:07.423Z"
   },
   {
    "duration": 17,
    "start_time": "2023-12-24T11:21:07.674Z"
   },
   {
    "duration": 10,
    "start_time": "2023-12-24T11:21:42.393Z"
   },
   {
    "duration": 18,
    "start_time": "2023-12-24T11:22:12.457Z"
   },
   {
    "duration": 19,
    "start_time": "2023-12-24T11:22:25.780Z"
   },
   {
    "duration": 25,
    "start_time": "2023-12-24T11:23:30.372Z"
   },
   {
    "duration": 11,
    "start_time": "2023-12-24T11:23:59.750Z"
   },
   {
    "duration": 19,
    "start_time": "2023-12-24T11:24:15.717Z"
   },
   {
    "duration": 12,
    "start_time": "2023-12-24T11:24:16.258Z"
   },
   {
    "duration": 12,
    "start_time": "2023-12-24T11:24:16.773Z"
   },
   {
    "duration": 10,
    "start_time": "2023-12-24T11:24:20.735Z"
   },
   {
    "duration": 9,
    "start_time": "2023-12-24T11:28:16.851Z"
   },
   {
    "duration": 9,
    "start_time": "2023-12-24T11:28:17.885Z"
   },
   {
    "duration": 9,
    "start_time": "2023-12-24T11:34:27.646Z"
   },
   {
    "duration": 43,
    "start_time": "2023-12-24T11:35:39.931Z"
   },
   {
    "duration": 10,
    "start_time": "2023-12-24T11:35:53.590Z"
   },
   {
    "duration": 15,
    "start_time": "2023-12-24T11:36:33.271Z"
   },
   {
    "duration": 8,
    "start_time": "2023-12-24T11:36:47.148Z"
   },
   {
    "duration": 9,
    "start_time": "2023-12-24T11:37:09.770Z"
   },
   {
    "duration": 11,
    "start_time": "2023-12-24T11:38:53.245Z"
   },
   {
    "duration": 10,
    "start_time": "2023-12-24T11:39:06.459Z"
   },
   {
    "duration": 14,
    "start_time": "2023-12-24T11:39:27.000Z"
   },
   {
    "duration": 11,
    "start_time": "2023-12-24T11:40:22.674Z"
   },
   {
    "duration": 13,
    "start_time": "2023-12-24T11:40:31.121Z"
   },
   {
    "duration": 13,
    "start_time": "2023-12-24T11:41:08.521Z"
   },
   {
    "duration": 11,
    "start_time": "2023-12-24T11:43:39.179Z"
   },
   {
    "duration": 11,
    "start_time": "2023-12-24T11:46:11.823Z"
   },
   {
    "duration": 21,
    "start_time": "2023-12-24T11:46:24.808Z"
   },
   {
    "duration": 702,
    "start_time": "2023-12-26T16:07:15.378Z"
   },
   {
    "duration": 21,
    "start_time": "2023-12-26T16:07:16.082Z"
   },
   {
    "duration": 17,
    "start_time": "2023-12-26T16:07:16.676Z"
   },
   {
    "duration": 11,
    "start_time": "2023-12-26T16:07:17.014Z"
   },
   {
    "duration": 34,
    "start_time": "2023-12-26T16:07:17.178Z"
   },
   {
    "duration": 3,
    "start_time": "2023-12-26T16:07:17.427Z"
   },
   {
    "duration": 7,
    "start_time": "2023-12-26T16:07:17.599Z"
   },
   {
    "duration": 4,
    "start_time": "2023-12-26T16:07:17.856Z"
   },
   {
    "duration": 6,
    "start_time": "2023-12-26T16:07:18.020Z"
   },
   {
    "duration": 4,
    "start_time": "2023-12-26T16:07:18.188Z"
   },
   {
    "duration": 35,
    "start_time": "2023-12-26T16:07:18.439Z"
   },
   {
    "duration": 10,
    "start_time": "2023-12-26T16:07:18.605Z"
   },
   {
    "duration": 4,
    "start_time": "2023-12-26T16:07:18.859Z"
   },
   {
    "duration": 12,
    "start_time": "2023-12-26T16:07:19.113Z"
   },
   {
    "duration": 20,
    "start_time": "2023-12-26T16:07:19.277Z"
   },
   {
    "duration": 17,
    "start_time": "2023-12-26T16:07:19.359Z"
   },
   {
    "duration": 5,
    "start_time": "2023-12-26T16:07:19.612Z"
   },
   {
    "duration": 66,
    "start_time": "2023-12-26T16:07:19.696Z"
   },
   {
    "duration": 6,
    "start_time": "2023-12-26T16:07:19.865Z"
   },
   {
    "duration": 3,
    "start_time": "2023-12-26T16:07:20.034Z"
   },
   {
    "duration": 10,
    "start_time": "2023-12-26T16:07:20.116Z"
   },
   {
    "duration": 9,
    "start_time": "2023-12-26T16:07:21.337Z"
   },
   {
    "duration": 11,
    "start_time": "2023-12-26T16:07:22.598Z"
   },
   {
    "duration": 17,
    "start_time": "2023-12-26T16:07:23.448Z"
   },
   {
    "duration": 11,
    "start_time": "2023-12-26T16:07:24.291Z"
   },
   {
    "duration": 5,
    "start_time": "2023-12-26T16:08:23.808Z"
   },
   {
    "duration": 5,
    "start_time": "2023-12-26T16:08:32.588Z"
   },
   {
    "duration": 17,
    "start_time": "2023-12-26T16:08:32.767Z"
   },
   {
    "duration": 6,
    "start_time": "2023-12-26T16:08:34.620Z"
   },
   {
    "duration": 3,
    "start_time": "2023-12-26T16:08:34.788Z"
   },
   {
    "duration": 7,
    "start_time": "2023-12-26T16:08:34.873Z"
   },
   {
    "duration": 10,
    "start_time": "2023-12-26T16:08:35.207Z"
   },
   {
    "duration": 11,
    "start_time": "2023-12-26T16:08:36.247Z"
   },
   {
    "duration": 11,
    "start_time": "2023-12-26T16:08:37.875Z"
   },
   {
    "duration": 10,
    "start_time": "2023-12-26T16:09:07.434Z"
   },
   {
    "duration": 5,
    "start_time": "2023-12-26T16:09:55.436Z"
   },
   {
    "duration": 17,
    "start_time": "2023-12-26T16:09:55.629Z"
   },
   {
    "duration": 6,
    "start_time": "2023-12-26T16:09:56.701Z"
   },
   {
    "duration": 4,
    "start_time": "2023-12-26T16:09:57.466Z"
   },
   {
    "duration": 8,
    "start_time": "2023-12-26T16:09:57.636Z"
   },
   {
    "duration": 9,
    "start_time": "2023-12-26T16:09:58.389Z"
   },
   {
    "duration": 12,
    "start_time": "2023-12-26T16:09:59.332Z"
   },
   {
    "duration": 11,
    "start_time": "2023-12-26T16:10:00.137Z"
   },
   {
    "duration": 12,
    "start_time": "2023-12-26T16:10:00.964Z"
   },
   {
    "duration": 4,
    "start_time": "2023-12-26T16:14:13.023Z"
   },
   {
    "duration": 29,
    "start_time": "2023-12-26T16:14:13.208Z"
   },
   {
    "duration": 6,
    "start_time": "2023-12-26T16:14:15.554Z"
   },
   {
    "duration": 3,
    "start_time": "2023-12-26T16:14:16.156Z"
   },
   {
    "duration": 8,
    "start_time": "2023-12-26T16:14:16.222Z"
   },
   {
    "duration": 10,
    "start_time": "2023-12-26T16:14:16.557Z"
   },
   {
    "duration": 11,
    "start_time": "2023-12-26T16:14:16.977Z"
   },
   {
    "duration": 10,
    "start_time": "2023-12-26T16:14:17.321Z"
   },
   {
    "duration": 12,
    "start_time": "2023-12-26T16:14:17.651Z"
   },
   {
    "duration": 84,
    "start_time": "2023-12-26T16:15:01.214Z"
   },
   {
    "duration": 14,
    "start_time": "2023-12-26T16:15:01.383Z"
   },
   {
    "duration": 17,
    "start_time": "2023-12-26T16:15:01.544Z"
   },
   {
    "duration": 10,
    "start_time": "2023-12-26T16:15:01.881Z"
   },
   {
    "duration": 35,
    "start_time": "2023-12-26T16:15:02.048Z"
   },
   {
    "duration": 3,
    "start_time": "2023-12-26T16:15:02.295Z"
   },
   {
    "duration": 7,
    "start_time": "2023-12-26T16:15:02.462Z"
   },
   {
    "duration": 4,
    "start_time": "2023-12-26T16:15:02.720Z"
   },
   {
    "duration": 6,
    "start_time": "2023-12-26T16:15:02.881Z"
   },
   {
    "duration": 4,
    "start_time": "2023-12-26T16:15:03.076Z"
   },
   {
    "duration": 34,
    "start_time": "2023-12-26T16:15:03.305Z"
   },
   {
    "duration": 14,
    "start_time": "2023-12-26T16:15:03.473Z"
   },
   {
    "duration": 3,
    "start_time": "2023-12-26T16:15:03.739Z"
   },
   {
    "duration": 13,
    "start_time": "2023-12-26T16:15:03.978Z"
   },
   {
    "duration": 19,
    "start_time": "2023-12-26T16:15:04.479Z"
   },
   {
    "duration": 16,
    "start_time": "2023-12-26T16:15:04.500Z"
   },
   {
    "duration": 4,
    "start_time": "2023-12-26T16:15:04.518Z"
   },
   {
    "duration": 29,
    "start_time": "2023-12-26T16:15:04.563Z"
   },
   {
    "duration": 5,
    "start_time": "2023-12-26T16:15:04.733Z"
   },
   {
    "duration": 3,
    "start_time": "2023-12-26T16:15:04.904Z"
   },
   {
    "duration": 8,
    "start_time": "2023-12-26T16:15:04.986Z"
   },
   {
    "duration": 10,
    "start_time": "2023-12-26T16:15:05.405Z"
   },
   {
    "duration": 12,
    "start_time": "2023-12-26T16:15:07.260Z"
   },
   {
    "duration": 15,
    "start_time": "2023-12-26T16:15:07.596Z"
   },
   {
    "duration": 11,
    "start_time": "2023-12-26T16:15:12.628Z"
   },
   {
    "duration": 7,
    "start_time": "2023-12-26T16:15:56.254Z"
   },
   {
    "duration": 22,
    "start_time": "2023-12-26T16:16:47.544Z"
   },
   {
    "duration": 8,
    "start_time": "2023-12-26T16:17:42.128Z"
   },
   {
    "duration": 11,
    "start_time": "2023-12-26T16:18:04.712Z"
   },
   {
    "duration": 9,
    "start_time": "2023-12-26T16:18:15.683Z"
   },
   {
    "duration": 8,
    "start_time": "2023-12-26T16:18:38.172Z"
   },
   {
    "duration": 9,
    "start_time": "2023-12-26T16:18:44.146Z"
   },
   {
    "duration": 10,
    "start_time": "2023-12-26T16:19:27.311Z"
   },
   {
    "duration": 9,
    "start_time": "2023-12-26T16:20:49.148Z"
   },
   {
    "duration": 8,
    "start_time": "2023-12-26T16:21:10.686Z"
   },
   {
    "duration": 30,
    "start_time": "2023-12-26T16:21:24.669Z"
   },
   {
    "duration": 4,
    "start_time": "2023-12-26T16:22:07.120Z"
   },
   {
    "duration": 20,
    "start_time": "2023-12-26T16:22:07.568Z"
   },
   {
    "duration": 6,
    "start_time": "2023-12-26T16:22:08.472Z"
   },
   {
    "duration": 23,
    "start_time": "2023-12-26T16:23:34.817Z"
   },
   {
    "duration": 13,
    "start_time": "2023-12-26T16:23:35.567Z"
   },
   {
    "duration": 70,
    "start_time": "2023-12-26T16:23:44.492Z"
   },
   {
    "duration": 15,
    "start_time": "2023-12-26T16:23:44.672Z"
   },
   {
    "duration": 15,
    "start_time": "2023-12-26T16:23:44.849Z"
   },
   {
    "duration": 10,
    "start_time": "2023-12-26T16:23:45.165Z"
   },
   {
    "duration": 35,
    "start_time": "2023-12-26T16:23:45.332Z"
   },
   {
    "duration": 4,
    "start_time": "2023-12-26T16:23:45.584Z"
   },
   {
    "duration": 9,
    "start_time": "2023-12-26T16:23:45.752Z"
   },
   {
    "duration": 4,
    "start_time": "2023-12-26T16:23:46.004Z"
   },
   {
    "duration": 6,
    "start_time": "2023-12-26T16:23:46.170Z"
   },
   {
    "duration": 5,
    "start_time": "2023-12-26T16:23:46.339Z"
   },
   {
    "duration": 34,
    "start_time": "2023-12-26T16:23:46.593Z"
   },
   {
    "duration": 10,
    "start_time": "2023-12-26T16:23:46.759Z"
   },
   {
    "duration": 4,
    "start_time": "2023-12-26T16:23:47.013Z"
   },
   {
    "duration": 12,
    "start_time": "2023-12-26T16:23:47.266Z"
   },
   {
    "duration": 19,
    "start_time": "2023-12-26T16:23:47.434Z"
   },
   {
    "duration": 17,
    "start_time": "2023-12-26T16:23:47.517Z"
   },
   {
    "duration": 5,
    "start_time": "2023-12-26T16:23:47.782Z"
   },
   {
    "duration": 18,
    "start_time": "2023-12-26T16:23:47.852Z"
   },
   {
    "duration": 6,
    "start_time": "2023-12-26T16:23:48.023Z"
   },
   {
    "duration": 4,
    "start_time": "2023-12-26T16:23:53.903Z"
   },
   {
    "duration": 8,
    "start_time": "2023-12-26T16:23:54.405Z"
   },
   {
    "duration": 12,
    "start_time": "2023-12-26T16:23:54.741Z"
   },
   {
    "duration": 10,
    "start_time": "2023-12-26T16:23:55.162Z"
   },
   {
    "duration": 28,
    "start_time": "2023-12-26T16:23:55.501Z"
   },
   {
    "duration": 12,
    "start_time": "2023-12-26T16:23:55.835Z"
   },
   {
    "duration": 13,
    "start_time": "2023-12-26T16:25:01.152Z"
   },
   {
    "duration": 12,
    "start_time": "2023-12-26T16:25:20.664Z"
   },
   {
    "duration": 23,
    "start_time": "2023-12-26T16:26:22.148Z"
   },
   {
    "duration": 11,
    "start_time": "2023-12-26T16:26:42.864Z"
   },
   {
    "duration": 29,
    "start_time": "2023-12-26T16:30:18.967Z"
   },
   {
    "duration": 5,
    "start_time": "2023-12-26T16:30:39.926Z"
   },
   {
    "duration": 5,
    "start_time": "2023-12-26T16:31:11.184Z"
   },
   {
    "duration": 23,
    "start_time": "2023-12-26T16:31:11.399Z"
   },
   {
    "duration": 6,
    "start_time": "2023-12-26T16:31:12.450Z"
   },
   {
    "duration": 4,
    "start_time": "2023-12-26T16:31:12.818Z"
   },
   {
    "duration": 9,
    "start_time": "2023-12-26T16:31:13.010Z"
   },
   {
    "duration": 10,
    "start_time": "2023-12-26T16:31:13.814Z"
   },
   {
    "duration": 14,
    "start_time": "2023-12-26T16:31:14.830Z"
   },
   {
    "duration": 14,
    "start_time": "2023-12-26T16:31:15.690Z"
   },
   {
    "duration": 4,
    "start_time": "2023-12-26T16:32:20.149Z"
   },
   {
    "duration": 17,
    "start_time": "2023-12-26T16:32:20.332Z"
   },
   {
    "duration": 6,
    "start_time": "2023-12-26T16:32:20.717Z"
   },
   {
    "duration": 3,
    "start_time": "2023-12-26T16:32:21.084Z"
   },
   {
    "duration": 8,
    "start_time": "2023-12-26T16:32:21.284Z"
   },
   {
    "duration": 10,
    "start_time": "2023-12-26T16:32:22.124Z"
   },
   {
    "duration": 12,
    "start_time": "2023-12-26T16:32:23.256Z"
   },
   {
    "duration": 15,
    "start_time": "2023-12-26T16:32:26.595Z"
   },
   {
    "duration": 4,
    "start_time": "2023-12-26T16:33:05.227Z"
   },
   {
    "duration": 17,
    "start_time": "2023-12-26T16:33:05.309Z"
   },
   {
    "duration": 6,
    "start_time": "2023-12-26T16:33:05.477Z"
   },
   {
    "duration": 3,
    "start_time": "2023-12-26T16:33:05.653Z"
   },
   {
    "duration": 9,
    "start_time": "2023-12-26T16:33:05.730Z"
   },
   {
    "duration": 9,
    "start_time": "2023-12-26T16:33:06.067Z"
   },
   {
    "duration": 11,
    "start_time": "2023-12-26T16:33:06.487Z"
   },
   {
    "duration": 14,
    "start_time": "2023-12-26T16:33:06.823Z"
   },
   {
    "duration": 12,
    "start_time": "2023-12-26T16:33:07.160Z"
   },
   {
    "duration": 15,
    "start_time": "2023-12-26T16:33:31.842Z"
   },
   {
    "duration": 85,
    "start_time": "2023-12-26T16:34:01.385Z"
   },
   {
    "duration": 0,
    "start_time": "2023-12-26T16:34:01.471Z"
   },
   {
    "duration": 6,
    "start_time": "2023-12-26T16:34:01.637Z"
   },
   {
    "duration": 3,
    "start_time": "2023-12-26T16:34:01.805Z"
   },
   {
    "duration": 8,
    "start_time": "2023-12-26T16:34:01.889Z"
   },
   {
    "duration": 10,
    "start_time": "2023-12-26T16:34:02.225Z"
   },
   {
    "duration": 11,
    "start_time": "2023-12-26T16:34:02.643Z"
   },
   {
    "duration": 15,
    "start_time": "2023-12-26T16:34:02.980Z"
   },
   {
    "duration": 11,
    "start_time": "2023-12-26T16:34:03.317Z"
   },
   {
    "duration": 85,
    "start_time": "2023-12-26T16:34:53.552Z"
   },
   {
    "duration": 0,
    "start_time": "2023-12-26T16:34:53.639Z"
   },
   {
    "duration": 5,
    "start_time": "2023-12-26T16:34:53.803Z"
   },
   {
    "duration": 3,
    "start_time": "2023-12-26T16:34:53.971Z"
   },
   {
    "duration": 8,
    "start_time": "2023-12-26T16:34:54.055Z"
   },
   {
    "duration": 10,
    "start_time": "2023-12-26T16:34:54.390Z"
   },
   {
    "duration": 16,
    "start_time": "2023-12-26T16:34:54.808Z"
   },
   {
    "duration": 14,
    "start_time": "2023-12-26T16:34:55.147Z"
   },
   {
    "duration": 11,
    "start_time": "2023-12-26T16:34:55.482Z"
   },
   {
    "duration": 75,
    "start_time": "2023-12-26T16:35:44.536Z"
   },
   {
    "duration": 20,
    "start_time": "2023-12-26T16:35:44.618Z"
   },
   {
    "duration": 6,
    "start_time": "2023-12-26T16:35:44.788Z"
   },
   {
    "duration": 4,
    "start_time": "2023-12-26T16:35:44.954Z"
   },
   {
    "duration": 8,
    "start_time": "2023-12-26T16:35:45.040Z"
   },
   {
    "duration": 10,
    "start_time": "2023-12-26T16:35:45.375Z"
   },
   {
    "duration": 12,
    "start_time": "2023-12-26T16:35:45.796Z"
   },
   {
    "duration": 15,
    "start_time": "2023-12-26T16:35:46.133Z"
   },
   {
    "duration": 12,
    "start_time": "2023-12-26T16:35:46.469Z"
   },
   {
    "duration": 6,
    "start_time": "2023-12-26T16:36:18.848Z"
   },
   {
    "duration": 24,
    "start_time": "2023-12-26T16:36:18.924Z"
   },
   {
    "duration": 5,
    "start_time": "2023-12-26T16:36:19.094Z"
   },
   {
    "duration": 4,
    "start_time": "2023-12-26T16:36:19.264Z"
   },
   {
    "duration": 8,
    "start_time": "2023-12-26T16:36:19.346Z"
   },
   {
    "duration": 9,
    "start_time": "2023-12-26T16:36:19.680Z"
   },
   {
    "duration": 11,
    "start_time": "2023-12-26T16:36:20.094Z"
   },
   {
    "duration": 8,
    "start_time": "2023-12-26T16:36:20.430Z"
   },
   {
    "duration": 11,
    "start_time": "2023-12-26T16:36:20.765Z"
   },
   {
    "duration": 5,
    "start_time": "2023-12-26T16:38:16.057Z"
   },
   {
    "duration": 22,
    "start_time": "2023-12-26T16:38:16.212Z"
   },
   {
    "duration": 5,
    "start_time": "2023-12-26T16:38:16.604Z"
   },
   {
    "duration": 3,
    "start_time": "2023-12-26T16:38:17.333Z"
   },
   {
    "duration": 9,
    "start_time": "2023-12-26T16:38:17.417Z"
   },
   {
    "duration": 10,
    "start_time": "2023-12-26T16:38:17.752Z"
   },
   {
    "duration": 11,
    "start_time": "2023-12-26T16:38:18.172Z"
   },
   {
    "duration": 10,
    "start_time": "2023-12-26T16:38:18.911Z"
   },
   {
    "duration": 13,
    "start_time": "2023-12-26T16:38:20.275Z"
   },
   {
    "duration": 5,
    "start_time": "2023-12-26T16:39:33.761Z"
   },
   {
    "duration": 20,
    "start_time": "2023-12-26T16:39:33.946Z"
   },
   {
    "duration": 5,
    "start_time": "2023-12-26T16:39:34.631Z"
   },
   {
    "duration": 3,
    "start_time": "2023-12-26T16:39:34.800Z"
   },
   {
    "duration": 8,
    "start_time": "2023-12-26T16:39:34.884Z"
   },
   {
    "duration": 10,
    "start_time": "2023-12-26T16:39:35.220Z"
   },
   {
    "duration": 12,
    "start_time": "2023-12-26T16:39:35.637Z"
   },
   {
    "duration": 9,
    "start_time": "2023-12-26T16:39:35.975Z"
   },
   {
    "duration": 11,
    "start_time": "2023-12-26T16:39:36.311Z"
   },
   {
    "duration": 5,
    "start_time": "2023-12-26T16:40:38.154Z"
   },
   {
    "duration": 21,
    "start_time": "2023-12-26T16:40:38.236Z"
   },
   {
    "duration": 6,
    "start_time": "2023-12-26T16:40:38.404Z"
   },
   {
    "duration": 3,
    "start_time": "2023-12-26T16:40:38.571Z"
   },
   {
    "duration": 8,
    "start_time": "2023-12-26T16:40:38.657Z"
   },
   {
    "duration": 10,
    "start_time": "2023-12-26T16:40:38.993Z"
   },
   {
    "duration": 11,
    "start_time": "2023-12-26T16:40:39.413Z"
   },
   {
    "duration": 12,
    "start_time": "2023-12-26T16:40:39.749Z"
   },
   {
    "duration": 11,
    "start_time": "2023-12-26T16:40:40.087Z"
   },
   {
    "duration": 9,
    "start_time": "2023-12-26T16:41:33.636Z"
   },
   {
    "duration": 7,
    "start_time": "2023-12-26T16:41:48.640Z"
   },
   {
    "duration": 8,
    "start_time": "2023-12-26T16:44:16.599Z"
   },
   {
    "duration": 4,
    "start_time": "2023-12-26T16:44:17.267Z"
   },
   {
    "duration": 7,
    "start_time": "2023-12-26T16:44:17.437Z"
   },
   {
    "duration": 4,
    "start_time": "2023-12-26T16:44:17.602Z"
   },
   {
    "duration": 39,
    "start_time": "2023-12-26T16:44:17.857Z"
   },
   {
    "duration": 14,
    "start_time": "2023-12-26T16:44:18.022Z"
   },
   {
    "duration": 3,
    "start_time": "2023-12-26T16:44:18.275Z"
   },
   {
    "duration": 13,
    "start_time": "2023-12-26T16:44:18.528Z"
   },
   {
    "duration": 23,
    "start_time": "2023-12-26T16:44:18.696Z"
   },
   {
    "duration": 28,
    "start_time": "2023-12-26T16:44:18.950Z"
   },
   {
    "duration": 3,
    "start_time": "2023-12-26T16:44:19.030Z"
   },
   {
    "duration": 22,
    "start_time": "2023-12-26T16:44:19.117Z"
   },
   {
    "duration": 6,
    "start_time": "2023-12-26T16:44:19.285Z"
   },
   {
    "duration": 3,
    "start_time": "2023-12-26T16:44:19.451Z"
   },
   {
    "duration": 8,
    "start_time": "2023-12-26T16:44:19.534Z"
   },
   {
    "duration": 10,
    "start_time": "2023-12-26T16:44:19.869Z"
   },
   {
    "duration": 11,
    "start_time": "2023-12-26T16:44:20.290Z"
   },
   {
    "duration": 10,
    "start_time": "2023-12-26T16:44:20.791Z"
   },
   {
    "duration": 11,
    "start_time": "2023-12-26T16:44:22.264Z"
   },
   {
    "duration": 78,
    "start_time": "2023-12-26T16:46:01.753Z"
   },
   {
    "duration": 10,
    "start_time": "2023-12-26T16:47:20.936Z"
   },
   {
    "duration": 73,
    "start_time": "2023-12-26T16:47:34.587Z"
   },
   {
    "duration": 15,
    "start_time": "2023-12-26T16:47:34.767Z"
   },
   {
    "duration": 15,
    "start_time": "2023-12-26T16:47:34.919Z"
   },
   {
    "duration": 10,
    "start_time": "2023-12-26T16:47:35.260Z"
   },
   {
    "duration": 34,
    "start_time": "2023-12-26T16:47:35.427Z"
   },
   {
    "duration": 3,
    "start_time": "2023-12-26T16:47:35.679Z"
   },
   {
    "duration": 9,
    "start_time": "2023-12-26T16:47:35.846Z"
   },
   {
    "duration": 4,
    "start_time": "2023-12-26T16:47:36.104Z"
   },
   {
    "duration": 5,
    "start_time": "2023-12-26T16:47:36.263Z"
   },
   {
    "duration": 4,
    "start_time": "2023-12-26T16:47:36.431Z"
   },
   {
    "duration": 35,
    "start_time": "2023-12-26T16:47:36.693Z"
   },
   {
    "duration": 10,
    "start_time": "2023-12-26T16:47:36.853Z"
   },
   {
    "duration": 4,
    "start_time": "2023-12-26T16:47:37.105Z"
   },
   {
    "duration": 11,
    "start_time": "2023-12-26T16:47:37.356Z"
   },
   {
    "duration": 19,
    "start_time": "2023-12-26T16:47:37.523Z"
   },
   {
    "duration": 18,
    "start_time": "2023-12-26T16:47:37.604Z"
   },
   {
    "duration": 3,
    "start_time": "2023-12-26T16:47:37.857Z"
   },
   {
    "duration": 17,
    "start_time": "2023-12-26T16:47:37.942Z"
   },
   {
    "duration": 5,
    "start_time": "2023-12-26T16:47:38.109Z"
   },
   {
    "duration": 3,
    "start_time": "2023-12-26T16:47:38.278Z"
   },
   {
    "duration": 8,
    "start_time": "2023-12-26T16:47:38.358Z"
   },
   {
    "duration": 9,
    "start_time": "2023-12-26T16:47:38.698Z"
   },
   {
    "duration": 11,
    "start_time": "2023-12-26T16:47:39.118Z"
   },
   {
    "duration": 12,
    "start_time": "2023-12-26T16:47:39.455Z"
   },
   {
    "duration": 12,
    "start_time": "2023-12-26T16:47:39.790Z"
   },
   {
    "duration": 14,
    "start_time": "2023-12-26T16:50:59.360Z"
   },
   {
    "duration": 13,
    "start_time": "2023-12-26T16:52:03.223Z"
   },
   {
    "duration": 16,
    "start_time": "2023-12-26T16:52:21.904Z"
   },
   {
    "duration": 14,
    "start_time": "2023-12-26T16:52:36.018Z"
   },
   {
    "duration": 14,
    "start_time": "2023-12-26T16:56:28.886Z"
   },
   {
    "duration": 9,
    "start_time": "2023-12-26T17:00:20.709Z"
   },
   {
    "duration": 20,
    "start_time": "2023-12-26T17:01:04.754Z"
   },
   {
    "duration": 20,
    "start_time": "2023-12-26T17:01:58.794Z"
   },
   {
    "duration": 87,
    "start_time": "2023-12-26T17:02:19.124Z"
   },
   {
    "duration": 16,
    "start_time": "2023-12-26T17:02:38.291Z"
   },
   {
    "duration": 43,
    "start_time": "2023-12-26T17:03:33.360Z"
   },
   {
    "duration": 25,
    "start_time": "2023-12-26T17:07:41.424Z"
   },
   {
    "duration": 22,
    "start_time": "2023-12-26T17:08:25.244Z"
   },
   {
    "duration": 25,
    "start_time": "2023-12-26T17:10:21.609Z"
   },
   {
    "duration": 26,
    "start_time": "2023-12-26T17:12:14.171Z"
   },
   {
    "duration": 21,
    "start_time": "2023-12-26T17:14:05.581Z"
   },
   {
    "duration": 21,
    "start_time": "2023-12-26T17:14:39.742Z"
   },
   {
    "duration": 21,
    "start_time": "2023-12-26T17:25:22.851Z"
   },
   {
    "duration": 22,
    "start_time": "2023-12-26T17:25:48.422Z"
   },
   {
    "duration": 22,
    "start_time": "2023-12-26T17:26:09.395Z"
   },
   {
    "duration": 32,
    "start_time": "2023-12-26T17:26:40.781Z"
   },
   {
    "duration": 21,
    "start_time": "2023-12-26T17:27:44.868Z"
   },
   {
    "duration": 16,
    "start_time": "2023-12-26T17:30:15.416Z"
   },
   {
    "duration": 28,
    "start_time": "2023-12-26T17:31:47.261Z"
   },
   {
    "duration": 22,
    "start_time": "2023-12-26T17:33:57.120Z"
   },
   {
    "duration": 299,
    "start_time": "2023-12-26T17:34:15.555Z"
   },
   {
    "duration": 324,
    "start_time": "2023-12-26T17:36:44.586Z"
   },
   {
    "duration": 15,
    "start_time": "2023-12-26T17:39:12.729Z"
   },
   {
    "duration": 23,
    "start_time": "2023-12-26T17:41:14.913Z"
   },
   {
    "duration": 21,
    "start_time": "2023-12-26T17:42:37.750Z"
   },
   {
    "duration": 17,
    "start_time": "2023-12-26T17:44:05.860Z"
   },
   {
    "duration": 30,
    "start_time": "2023-12-26T17:45:58.931Z"
   },
   {
    "duration": 23,
    "start_time": "2023-12-26T17:46:14.851Z"
   },
   {
    "duration": 23,
    "start_time": "2023-12-26T17:46:42.219Z"
   },
   {
    "duration": 21,
    "start_time": "2023-12-26T17:47:54.838Z"
   },
   {
    "duration": 22,
    "start_time": "2023-12-26T17:49:30.514Z"
   },
   {
    "duration": 20,
    "start_time": "2023-12-26T17:49:52.203Z"
   },
   {
    "duration": 22,
    "start_time": "2023-12-26T17:50:16.112Z"
   },
   {
    "duration": 24,
    "start_time": "2023-12-26T17:53:46.382Z"
   },
   {
    "duration": 23,
    "start_time": "2023-12-26T17:54:35.640Z"
   },
   {
    "duration": 2,
    "start_time": "2023-12-26T17:56:20.858Z"
   },
   {
    "duration": 25,
    "start_time": "2023-12-26T17:56:48.836Z"
   },
   {
    "duration": 20,
    "start_time": "2023-12-26T17:57:00.161Z"
   },
   {
    "duration": 10,
    "start_time": "2023-12-26T17:57:35.357Z"
   },
   {
    "duration": 20,
    "start_time": "2023-12-26T17:57:36.514Z"
   },
   {
    "duration": 17,
    "start_time": "2023-12-26T17:57:47.350Z"
   },
   {
    "duration": 11,
    "start_time": "2023-12-26T17:58:34.892Z"
   },
   {
    "duration": 21,
    "start_time": "2023-12-26T17:58:36.033Z"
   },
   {
    "duration": 24,
    "start_time": "2023-12-26T17:59:04.053Z"
   },
   {
    "duration": 20,
    "start_time": "2023-12-26T17:59:36.619Z"
   },
   {
    "duration": 1197,
    "start_time": "2023-12-26T18:03:03.756Z"
   },
   {
    "duration": 24,
    "start_time": "2023-12-26T18:05:03.554Z"
   },
   {
    "duration": 21,
    "start_time": "2023-12-26T18:06:10.352Z"
   },
   {
    "duration": 23,
    "start_time": "2023-12-26T18:07:09.059Z"
   },
   {
    "duration": 23,
    "start_time": "2023-12-26T18:07:56.454Z"
   },
   {
    "duration": 47,
    "start_time": "2023-12-27T18:46:57.145Z"
   }
  ],
  "colab": {
   "name": "dpp_template_part2.ipynb",
   "provenance": []
  },
  "kernelspec": {
   "display_name": "Python [conda env:base] *",
   "language": "python",
   "name": "conda-base-py"
  },
  "language_info": {
   "codemirror_mode": {
    "name": "ipython",
    "version": 3
   },
   "file_extension": ".py",
   "mimetype": "text/x-python",
   "name": "python",
   "nbconvert_exporter": "python",
   "pygments_lexer": "ipython3",
   "version": "3.12.7"
  },
  "toc": {
   "base_numbering": 1,
   "nav_menu": {},
   "number_sections": true,
   "sideBar": true,
   "skip_h1_title": true,
   "title_cell": "Table of Contents",
   "title_sidebar": "Contents",
   "toc_cell": false,
   "toc_position": {},
   "toc_section_display": true,
   "toc_window_display": false
  }
 },
 "nbformat": 4,
 "nbformat_minor": 5
}
