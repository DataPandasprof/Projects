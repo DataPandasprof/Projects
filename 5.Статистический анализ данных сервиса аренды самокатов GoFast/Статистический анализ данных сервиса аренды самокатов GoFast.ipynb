{
 "cells": [
  {
   "cell_type": "markdown",
   "id": "92450c97",
   "metadata": {},
   "source": [
    "# Для твоих вопросов или комментариев оставлю такую ячейку, чтобы было удобнее взаимодействовать на проекте"
   ]
  },
  {
   "cell_type": "markdown",
   "id": "0b6c2a16",
   "metadata": {},
   "source": [
    "# Проект: Статистический анализ данных\n"
   ]
  },
  {
   "cell_type": "markdown",
   "id": "545a97aa",
   "metadata": {},
   "source": [
    "Вы аналитик популярного сервиса аренды самокатов GoFast. Вам передали данные о некоторых пользователях из нескольких городов, а также об их поездках. Проанализируйте данные и проверьте некоторые гипотезы, которые могут помочь бизнесу вырасти.\n",
    "Чтобы совершать поездки по городу, пользователи сервиса GoFast пользуются мобильным приложением. Сервисом можно пользоваться:\n",
    "без подписки абонентская плата отсутствует;\n",
    "Описание данных\n",
    "В основных данных есть информация о пользователях, их поездках и подписках.\n",
    "Пользователи — users_go.csv\n",
    "user_id\tуникальный идентификатор пользователя\n",
    "name\tимя пользователя\n",
    "age\tвозраст\n",
    "city\tгород\n",
    "subscription_type\tтип подписки (free, ultra)\n",
    "Поездки — rides_go.csv\n",
    "user_id\tуникальный идентификатор пользователя\n",
    "distance\tрасстояние, которое пользователь проехал в текущей сессии (в метрах)\n",
    "duration\tпродолжительность сессии (в минутах) — время с того момента, как пользователь нажал кнопку «Начать поездку» до момента, как он нажал кнопку «Завершить поездку»\n",
    "date\tдата совершения поездки\n",
    "Подписки — subscriptions_go.csv\n",
    "subscription_type\tтип подписки\n",
    "minute_price\tстоимость одной минуты поездки по данной подписке\n",
    "start_ride_price\tстоимость начала поездки\n",
    "subscription_fee\tстоимость ежемесячного платежа"
   ]
  },
  {
   "cell_type": "code",
   "execution_count": 1,
   "id": "1f17b96d",
   "metadata": {},
   "outputs": [],
   "source": [
    "import pandas as pd\n",
    "import matplotlib.pyplot as plt\n",
    "import numpy as np\n",
    "from scipy import stats\n",
    "import seaborn as sns\n",
    "import scipy.stats as st\n"
   ]
  },
  {
   "cell_type": "markdown",
   "id": "c42cbe00",
   "metadata": {},
   "source": [
    "#### Шаг 1. Загрузка данных"
   ]
  },
  {
   "cell_type": "markdown",
   "id": "2c321cdc",
   "metadata": {},
   "source": [
    "##### Шаг 1.1 Считываем CSV-файлы"
   ]
  },
  {
   "cell_type": "code",
   "execution_count": 2,
   "id": "eff9f206",
   "metadata": {},
   "outputs": [],
   "source": [
    "users_df = pd.read_csv('/datasets/users_go.csv')\n",
    "rides_df = pd.read_csv('/datasets/rides_go.csv', parse_dates=['date'])\n",
    "subscriptions_df = pd.read_csv('/datasets/subscriptions_go.csv')"
   ]
  },
  {
   "cell_type": "markdown",
   "id": "af1a3e45",
   "metadata": {},
   "source": [
    "##### Шаг 1.2 Выведите первые строки каждого набора данных.\n",
    "#Изучите общую информацию о каждом датафрейме."
   ]
  },
  {
   "cell_type": "code",
   "execution_count": 3,
   "id": "b1269482",
   "metadata": {
    "scrolled": false
   },
   "outputs": [
    {
     "data": {
      "text/html": [
       "<div>\n",
       "<style scoped>\n",
       "    .dataframe tbody tr th:only-of-type {\n",
       "        vertical-align: middle;\n",
       "    }\n",
       "\n",
       "    .dataframe tbody tr th {\n",
       "        vertical-align: top;\n",
       "    }\n",
       "\n",
       "    .dataframe thead th {\n",
       "        text-align: right;\n",
       "    }\n",
       "</style>\n",
       "<table border=\"1\" class=\"dataframe\">\n",
       "  <thead>\n",
       "    <tr style=\"text-align: right;\">\n",
       "      <th></th>\n",
       "      <th>user_id</th>\n",
       "      <th>name</th>\n",
       "      <th>age</th>\n",
       "      <th>city</th>\n",
       "      <th>subscription_type</th>\n",
       "    </tr>\n",
       "  </thead>\n",
       "  <tbody>\n",
       "    <tr>\n",
       "      <th>0</th>\n",
       "      <td>1</td>\n",
       "      <td>Кира</td>\n",
       "      <td>22</td>\n",
       "      <td>Тюмень</td>\n",
       "      <td>ultra</td>\n",
       "    </tr>\n",
       "    <tr>\n",
       "      <th>1</th>\n",
       "      <td>2</td>\n",
       "      <td>Станислав</td>\n",
       "      <td>31</td>\n",
       "      <td>Омск</td>\n",
       "      <td>ultra</td>\n",
       "    </tr>\n",
       "    <tr>\n",
       "      <th>2</th>\n",
       "      <td>3</td>\n",
       "      <td>Алексей</td>\n",
       "      <td>20</td>\n",
       "      <td>Москва</td>\n",
       "      <td>ultra</td>\n",
       "    </tr>\n",
       "    <tr>\n",
       "      <th>3</th>\n",
       "      <td>4</td>\n",
       "      <td>Константин</td>\n",
       "      <td>26</td>\n",
       "      <td>Ростов-на-Дону</td>\n",
       "      <td>ultra</td>\n",
       "    </tr>\n",
       "    <tr>\n",
       "      <th>4</th>\n",
       "      <td>5</td>\n",
       "      <td>Адель</td>\n",
       "      <td>28</td>\n",
       "      <td>Омск</td>\n",
       "      <td>ultra</td>\n",
       "    </tr>\n",
       "  </tbody>\n",
       "</table>\n",
       "</div>"
      ],
      "text/plain": [
       "   user_id        name  age            city subscription_type\n",
       "0        1        Кира   22          Тюмень             ultra\n",
       "1        2   Станислав   31            Омск             ultra\n",
       "2        3     Алексей   20          Москва             ultra\n",
       "3        4  Константин   26  Ростов-на-Дону             ultra\n",
       "4        5       Адель   28            Омск             ultra"
      ]
     },
     "metadata": {},
     "output_type": "display_data"
    },
    {
     "name": "stdout",
     "output_type": "stream",
     "text": [
      "<class 'pandas.core.frame.DataFrame'>\n",
      "RangeIndex: 1565 entries, 0 to 1564\n",
      "Data columns (total 5 columns):\n",
      " #   Column             Non-Null Count  Dtype \n",
      "---  ------             --------------  ----- \n",
      " 0   user_id            1565 non-null   int64 \n",
      " 1   name               1565 non-null   object\n",
      " 2   age                1565 non-null   int64 \n",
      " 3   city               1565 non-null   object\n",
      " 4   subscription_type  1565 non-null   object\n",
      "dtypes: int64(2), object(3)\n",
      "memory usage: 61.3+ KB\n"
     ]
    },
    {
     "data": {
      "text/html": [
       "<div>\n",
       "<style scoped>\n",
       "    .dataframe tbody tr th:only-of-type {\n",
       "        vertical-align: middle;\n",
       "    }\n",
       "\n",
       "    .dataframe tbody tr th {\n",
       "        vertical-align: top;\n",
       "    }\n",
       "\n",
       "    .dataframe thead th {\n",
       "        text-align: right;\n",
       "    }\n",
       "</style>\n",
       "<table border=\"1\" class=\"dataframe\">\n",
       "  <thead>\n",
       "    <tr style=\"text-align: right;\">\n",
       "      <th></th>\n",
       "      <th>user_id</th>\n",
       "      <th>distance</th>\n",
       "      <th>duration</th>\n",
       "      <th>date</th>\n",
       "    </tr>\n",
       "  </thead>\n",
       "  <tbody>\n",
       "    <tr>\n",
       "      <th>0</th>\n",
       "      <td>1</td>\n",
       "      <td>4409.919140</td>\n",
       "      <td>25.599769</td>\n",
       "      <td>2021-01-01</td>\n",
       "    </tr>\n",
       "    <tr>\n",
       "      <th>1</th>\n",
       "      <td>1</td>\n",
       "      <td>2617.592153</td>\n",
       "      <td>15.816871</td>\n",
       "      <td>2021-01-18</td>\n",
       "    </tr>\n",
       "    <tr>\n",
       "      <th>2</th>\n",
       "      <td>1</td>\n",
       "      <td>754.159807</td>\n",
       "      <td>6.232113</td>\n",
       "      <td>2021-04-20</td>\n",
       "    </tr>\n",
       "    <tr>\n",
       "      <th>3</th>\n",
       "      <td>1</td>\n",
       "      <td>2694.783254</td>\n",
       "      <td>18.511000</td>\n",
       "      <td>2021-08-11</td>\n",
       "    </tr>\n",
       "    <tr>\n",
       "      <th>4</th>\n",
       "      <td>1</td>\n",
       "      <td>4028.687306</td>\n",
       "      <td>26.265803</td>\n",
       "      <td>2021-08-28</td>\n",
       "    </tr>\n",
       "  </tbody>\n",
       "</table>\n",
       "</div>"
      ],
      "text/plain": [
       "   user_id     distance   duration       date\n",
       "0        1  4409.919140  25.599769 2021-01-01\n",
       "1        1  2617.592153  15.816871 2021-01-18\n",
       "2        1   754.159807   6.232113 2021-04-20\n",
       "3        1  2694.783254  18.511000 2021-08-11\n",
       "4        1  4028.687306  26.265803 2021-08-28"
      ]
     },
     "metadata": {},
     "output_type": "display_data"
    },
    {
     "name": "stdout",
     "output_type": "stream",
     "text": [
      "<class 'pandas.core.frame.DataFrame'>\n",
      "RangeIndex: 18068 entries, 0 to 18067\n",
      "Data columns (total 4 columns):\n",
      " #   Column    Non-Null Count  Dtype         \n",
      "---  ------    --------------  -----         \n",
      " 0   user_id   18068 non-null  int64         \n",
      " 1   distance  18068 non-null  float64       \n",
      " 2   duration  18068 non-null  float64       \n",
      " 3   date      18068 non-null  datetime64[ns]\n",
      "dtypes: datetime64[ns](1), float64(2), int64(1)\n",
      "memory usage: 564.8 KB\n"
     ]
    },
    {
     "data": {
      "text/html": [
       "<div>\n",
       "<style scoped>\n",
       "    .dataframe tbody tr th:only-of-type {\n",
       "        vertical-align: middle;\n",
       "    }\n",
       "\n",
       "    .dataframe tbody tr th {\n",
       "        vertical-align: top;\n",
       "    }\n",
       "\n",
       "    .dataframe thead th {\n",
       "        text-align: right;\n",
       "    }\n",
       "</style>\n",
       "<table border=\"1\" class=\"dataframe\">\n",
       "  <thead>\n",
       "    <tr style=\"text-align: right;\">\n",
       "      <th></th>\n",
       "      <th>subscription_type</th>\n",
       "      <th>minute_price</th>\n",
       "      <th>start_ride_price</th>\n",
       "      <th>subscription_fee</th>\n",
       "    </tr>\n",
       "  </thead>\n",
       "  <tbody>\n",
       "    <tr>\n",
       "      <th>0</th>\n",
       "      <td>free</td>\n",
       "      <td>8</td>\n",
       "      <td>50</td>\n",
       "      <td>0</td>\n",
       "    </tr>\n",
       "    <tr>\n",
       "      <th>1</th>\n",
       "      <td>ultra</td>\n",
       "      <td>6</td>\n",
       "      <td>0</td>\n",
       "      <td>199</td>\n",
       "    </tr>\n",
       "  </tbody>\n",
       "</table>\n",
       "</div>"
      ],
      "text/plain": [
       "  subscription_type  minute_price  start_ride_price  subscription_fee\n",
       "0              free             8                50                 0\n",
       "1             ultra             6                 0               199"
      ]
     },
     "metadata": {},
     "output_type": "display_data"
    },
    {
     "name": "stdout",
     "output_type": "stream",
     "text": [
      "<class 'pandas.core.frame.DataFrame'>\n",
      "RangeIndex: 2 entries, 0 to 1\n",
      "Data columns (total 4 columns):\n",
      " #   Column             Non-Null Count  Dtype \n",
      "---  ------             --------------  ----- \n",
      " 0   subscription_type  2 non-null      object\n",
      " 1   minute_price       2 non-null      int64 \n",
      " 2   start_ride_price   2 non-null      int64 \n",
      " 3   subscription_fee   2 non-null      int64 \n",
      "dtypes: int64(3), object(1)\n",
      "memory usage: 192.0+ bytes\n"
     ]
    }
   ],
   "source": [
    "def display_dataset_info(dataset):\n",
    "    display(dataset.head())\n",
    "    dataset.info()\n",
    "display_dataset_info(users_df)\n",
    "display_dataset_info(rides_df)\n",
    "display_dataset_info(subscriptions_df)"
   ]
  },
  {
   "cell_type": "markdown",
   "id": "33e6de22",
   "metadata": {},
   "source": [
    "Вывод по разделу:данные позволяют анализировать активность пользователей, \n",
    "их поездки и использование различных типов подписок в сервисе."
   ]
  },
  {
   "cell_type": "markdown",
   "id": "e95ebca7",
   "metadata": {},
   "source": [
    "#### Шаг 2. Предобработка данных"
   ]
  },
  {
   "cell_type": "markdown",
   "id": "1002cbce",
   "metadata": {},
   "source": [
    "##### Шаг 2.1 Приведите столбец date к типу даты pandas."
   ]
  },
  {
   "cell_type": "code",
   "execution_count": 4,
   "id": "af6d202c",
   "metadata": {},
   "outputs": [],
   "source": [
    "rides_df['date'] = pd.to_datetime(rides_df['date'])"
   ]
  },
  {
   "cell_type": "markdown",
   "id": "33476b4b",
   "metadata": {},
   "source": [
    "##### Шаг 2.2 Создайте новый столбец с номером месяца на основе столбца date."
   ]
  },
  {
   "cell_type": "code",
   "execution_count": 5,
   "id": "d3c11c51",
   "metadata": {},
   "outputs": [
    {
     "data": {
      "text/plain": [
       "'Минимальная дата: 2021-01-01 00:00:00'"
      ]
     },
     "metadata": {},
     "output_type": "display_data"
    },
    {
     "data": {
      "text/plain": [
       "'Максимальная дата: 2021-12-30 00:00:00'"
      ]
     },
     "metadata": {},
     "output_type": "display_data"
    },
    {
     "data": {
      "text/plain": [
       "1     1585\n",
       "5     1560\n",
       "6     1553\n",
       "3     1544\n",
       "7     1529\n",
       "12    1527\n",
       "8     1518\n",
       "9     1517\n",
       "4     1506\n",
       "10    1475\n",
       "11    1418\n",
       "2     1336\n",
       "Name: month, dtype: int64"
      ]
     },
     "execution_count": 5,
     "metadata": {},
     "output_type": "execute_result"
    }
   ],
   "source": [
    "min_date = rides_df['date'].min()\n",
    "max_date = rides_df['date'].max()\n",
    "display(f\"Минимальная дата: {min_date}\")\n",
    "display(f\"Максимальная дата: {max_date}\")\n",
    "rides_df['month'] = rides_df['date'].dt.month\n",
    "rides_df['month'].value_counts()"
   ]
  },
  {
   "cell_type": "markdown",
   "id": "ef5cbcca",
   "metadata": {},
   "source": [
    "Данные собраны за год, с 1 января 2021 года по 30 декабря 2021 года."
   ]
  },
  {
   "cell_type": "markdown",
   "id": "5e3e331c",
   "metadata": {},
   "source": [
    "##### Шаг 2.3 Проверьте наличие пропущенных значений и дубликатов в датафреймах.\n",
    "#Обработайте их, если такие значения присутствуют."
   ]
  },
  {
   "cell_type": "code",
   "execution_count": 6,
   "id": "4c9fb026",
   "metadata": {},
   "outputs": [
    {
     "name": "stdout",
     "output_type": "stream",
     "text": [
      "Пропущенные значения в Users DataFrame:\n",
      "user_id              0\n",
      "name                 0\n",
      "age                  0\n",
      "city                 0\n",
      "subscription_type    0\n",
      "dtype: int64\n"
     ]
    },
    {
     "data": {
      "text/plain": [
       "'\\nПропущенные значения в Rides DataFrame:'"
      ]
     },
     "metadata": {},
     "output_type": "display_data"
    },
    {
     "data": {
      "text/plain": [
       "user_id     0\n",
       "distance    0\n",
       "duration    0\n",
       "date        0\n",
       "month       0\n",
       "dtype: int64"
      ]
     },
     "metadata": {},
     "output_type": "display_data"
    },
    {
     "data": {
      "text/plain": [
       "'\\nПропущенные значения в Subscriptions DataFrame:'"
      ]
     },
     "metadata": {},
     "output_type": "display_data"
    },
    {
     "data": {
      "text/plain": [
       "subscription_type    0\n",
       "minute_price         0\n",
       "start_ride_price     0\n",
       "subscription_fee     0\n",
       "dtype: int64"
      ]
     },
     "metadata": {},
     "output_type": "display_data"
    },
    {
     "data": {
      "text/plain": [
       "'\\nДубликаты в Users DataFrame:'"
      ]
     },
     "metadata": {},
     "output_type": "display_data"
    },
    {
     "data": {
      "text/plain": [
       "31"
      ]
     },
     "metadata": {},
     "output_type": "display_data"
    },
    {
     "data": {
      "text/plain": [
       "'\\nДубликаты в Rides DataFrame:'"
      ]
     },
     "metadata": {},
     "output_type": "display_data"
    },
    {
     "data": {
      "text/plain": [
       "0"
      ]
     },
     "metadata": {},
     "output_type": "display_data"
    },
    {
     "data": {
      "text/plain": [
       "'\\nДубликаты в Subscriptions DataFrame:'"
      ]
     },
     "metadata": {},
     "output_type": "display_data"
    },
    {
     "data": {
      "text/plain": [
       "0"
      ]
     },
     "metadata": {},
     "output_type": "display_data"
    }
   ],
   "source": [
    "print(\"Пропущенные значения в Users DataFrame:\")\n",
    "print(users_df.isnull().sum())\n",
    "\n",
    "\n",
    "\n",
    "display(\"\\nПропущенные значения в Rides DataFrame:\")\n",
    "display(rides_df.isnull().sum())\n",
    "\n",
    "display(\"\\nПропущенные значения в Subscriptions DataFrame:\")\n",
    "display(subscriptions_df.isnull().sum())\n",
    "\n",
    "display(\"\\nДубликаты в Users DataFrame:\")\n",
    "display(users_df.duplicated().sum())\n",
    "users_df.drop_duplicates(inplace=True)\n",
    "#print(users_df.duplicated().sum())\n",
    "\n",
    " \n",
    "display(\"\\nДубликаты в Rides DataFrame:\")\n",
    "display(rides_df.duplicated().sum())\n",
    "\n",
    "display(\"\\nДубликаты в Subscriptions DataFrame:\")\n",
    "display(subscriptions_df.duplicated().sum())"
   ]
  },
  {
   "cell_type": "markdown",
   "id": "2ef00223",
   "metadata": {},
   "source": [
    "Вывод по разделу: Были обнаружены дубликаты в таблице users_df, что может быть проблемой. \n",
    "Так как наличие дубликатов может привести к некорректным аналитическим результатам или ошибкам при анализе данных. Мы удалили дубликаты.\n",
    "В остальных таблицах, замечаний нет."
   ]
  },
  {
   "cell_type": "markdown",
   "id": "212593c7",
   "metadata": {},
   "source": [
    "#### Шаг 3. Исследовательский анализ данных"
   ]
  },
  {
   "cell_type": "markdown",
   "id": "8839b623",
   "metadata": {},
   "source": [
    "##### Шаг 3.1 Посмотрим на частоту встречаемости городов"
   ]
  },
  {
   "cell_type": "code",
   "execution_count": 7,
   "id": "e3a4274c",
   "metadata": {
    "scrolled": true
   },
   "outputs": [
    {
     "data": {
      "image/png": "[encoded data removed]",
      "text/plain": [
       "<Figure size 720x432 with 1 Axes>"
      ]
     },
     "metadata": {
      "needs_background": "light"
     },
     "output_type": "display_data"
    },
    {
     "data": {
      "text/plain": [
       "Пятигорск         219\n",
       "Екатеринбург      204\n",
       "Ростов-на-Дону    198\n",
       "Краснодар         193\n",
       "Сочи              189\n",
       "Омск              183\n",
       "Тюмень            180\n",
       "Москва            168\n",
       "Name: city, dtype: int64"
      ]
     },
     "metadata": {},
     "output_type": "display_data"
    }
   ],
   "source": [
    "city_counts = users_df['city'].value_counts()\n",
    "city_counts.plot(kind='barh', figsize=(10, 6), title='Распределение пользователей по городам')\n",
    "plt.xlabel('Количество пользователей')\n",
    "plt.ylabel('Город', rotation=0)\n",
    "plt.show()\n",
    "display(city_counts)"
   ]
  },
  {
   "cell_type": "markdown",
   "id": "95e86ce2",
   "metadata": {},
   "source": [
    "Вывод: Пользователи сервиса чаще всего выбирают города Пятигорск, Екатеринбург, Ростов-на-Дону, Краснодар и Сочи, однако общая разница в популярности всех городов невелика."
   ]
  },
  {
   "cell_type": "markdown",
   "id": "2f71963b",
   "metadata": {},
   "source": [
    "Вывод 2: Пятигорск имеет наибольшее количество пользователей, что на 30% больше чем в  Москве - в городе с наименьшим числом пользователей , что может быть интересным для бизнеса. В других городах, таких как Екатеринбург, Ростов-на-Дону, Краснодар, Сочи, Омск, Тюмень, также наблюдается разница в числе пользователей, что может быть обусловлено различными факторами. "
   ]
  },
  {
   "cell_type": "markdown",
   "id": "69653ec2",
   "metadata": {},
   "source": [
    "##### Шаг 3.2 Посмотрим на соотношение пользователей с подпиской и без подписки"
   ]
  },
  {
   "cell_type": "code",
   "execution_count": 8,
   "id": "7dfd22d6",
   "metadata": {
    "scrolled": false
   },
   "outputs": [
    {
     "data": {
      "text/plain": [
       "free     835\n",
       "ultra    699\n",
       "Name: subscription_type, dtype: int64"
      ]
     },
     "metadata": {},
     "output_type": "display_data"
    },
    {
     "data": {
      "image/png": "[encoded data removed]",
      "text/plain": [
       "<Figure size 432x432 with 1 Axes>"
      ]
     },
     "metadata": {},
     "output_type": "display_data"
    }
   ],
   "source": [
    "subscription_counts = users_df['subscription_type'].value_counts()\n",
    "display(subscription_counts)\n",
    "plt.figure(figsize=(6, 6))\n",
    "subscription_counts.plot(kind='pie', autopct='%1.1f%%', colors=['lightcoral', 'lightskyblue'])\n",
    "plt.title('Соотношение пользователей с подпиской и без подписки')\n",
    "plt.ylabel('')\n",
    "plt.show()\n"
   ]
  },
  {
   "cell_type": "markdown",
   "id": "f1c517f2",
   "metadata": {},
   "source": [
    "Вывод: Из 1534 пользователей, 54% имеют бесплатную подписку (835 человек), \n",
    "а 46% - платную подписку Ultra (699 человек)."
   ]
  },
  {
   "cell_type": "markdown",
   "id": "a6439238",
   "metadata": {},
   "source": [
    "##### Шаг 3.3 Посмотрим на возраст пользователей"
   ]
  },
  {
   "cell_type": "code",
   "execution_count": 9,
   "id": "ab23384c",
   "metadata": {
    "scrolled": true
   },
   "outputs": [
    {
     "data": {
      "text/plain": [
       "count    1534.000000\n",
       "mean       24.903520\n",
       "std         4.572367\n",
       "min        12.000000\n",
       "25%        22.000000\n",
       "50%        25.000000\n",
       "75%        28.000000\n",
       "max        43.000000\n",
       "Name: age, dtype: float64"
      ]
     },
     "metadata": {},
     "output_type": "display_data"
    },
    {
     "data": {
      "text/plain": [
       "25    145\n",
       "24    132\n",
       "26    131\n",
       "23    129\n",
       "27    119\n",
       "22    119\n",
       "28    112\n",
       "21     93\n",
       "20     71\n",
       "30     68\n",
       "29     68\n",
       "31     48\n",
       "19     47\n",
       "18     46\n",
       "32     41\n",
       "33     39\n",
       "17     26\n",
       "34     19\n",
       "16     19\n",
       "35     15\n",
       "15     13\n",
       "14      9\n",
       "13      8\n",
       "36      6\n",
       "12      4\n",
       "38      3\n",
       "37      2\n",
       "39      1\n",
       "43      1\n",
       "Name: age, dtype: int64"
      ]
     },
     "metadata": {},
     "output_type": "display_data"
    }
   ],
   "source": [
    "age_counts = users_df['age'].value_counts()\n",
    "display(users_df['age'].describe())\n",
    "display(age_counts)\n"
   ]
  },
  {
   "cell_type": "code",
   "execution_count": 10,
   "id": "64707d9b",
   "metadata": {},
   "outputs": [
    {
     "data": {
      "image/png": "[encoded data removed]",
      "text/plain": [
       "<Figure size 720x432 with 1 Axes>"
      ]
     },
     "metadata": {
      "needs_background": "light"
     },
     "output_type": "display_data"
    }
   ],
   "source": [
    "plt.figure(figsize=(10, 6))\n",
    "users_df['age'].plot.hist(bins=43, color='lightgreen')\n",
    "plt.title('Распределение возраста пользователей')\n",
    "plt.xlabel('Возраст')\n",
    "plt.ylabel('Количество пользователей')\n",
    "plt.show()"
   ]
  },
  {
   "cell_type": "markdown",
   "id": "0ce9b44d",
   "metadata": {},
   "source": [
    "По возрасту пользователей наиболее распространены возрастные категории от 20 до 30 лет, с пиком в 25 лет. \n",
    "В целом, пользователи в возрасте от 15 до 35 лет составляют основную часть аудитории сервиса.\n",
    "Пользователей старше 35 лет значительно меньше."
   ]
  },
  {
   "cell_type": "markdown",
   "id": "7255648b",
   "metadata": {},
   "source": [
    "##### Шаг 3.4 Посмотрим на расстояние, которое пользователь преодолел за одну поездку"
   ]
  },
  {
   "cell_type": "code",
   "execution_count": 11,
   "id": "242b652f",
   "metadata": {},
   "outputs": [
    {
     "data": {
      "text/plain": [
       "count    18068.000000\n",
       "mean      3070.659976\n",
       "std       1116.831209\n",
       "min          0.855683\n",
       "25%       2543.226360\n",
       "50%       3133.609994\n",
       "75%       3776.222735\n",
       "max       7211.007745\n",
       "Name: distance, dtype: float64"
      ]
     },
     "metadata": {},
     "output_type": "display_data"
    },
    {
     "data": {
      "image/png": "[encoded data removed]",
      "text/plain": [
       "<Figure size 720x432 with 1 Axes>"
      ]
     },
     "metadata": {
      "needs_background": "light"
     },
     "output_type": "display_data"
    }
   ],
   "source": [
    "distance_counts = rides_df['distance'].describe()\n",
    "display(distance_counts)\n",
    "plt.figure(figsize=(10, 6))\n",
    "rides_df['distance'].plot.hist(bins=30, color='salmon')\n",
    "plt.title('Распределение расстояния за одну поездку')\n",
    "plt.xlabel('Расстояние (м)')\n",
    "plt.ylabel('Количество поездок')\n",
    "plt.show()"
   ]
  },
  {
   "cell_type": "code",
   "execution_count": 12,
   "id": "be54ff12",
   "metadata": {},
   "outputs": [
    {
     "data": {
      "text/plain": [
       "'Пользователи с каким возрастом чаще всего выполняют поездки на расстояние до 1000 метров:'"
      ]
     },
     "metadata": {},
     "output_type": "display_data"
    },
    {
     "data": {
      "text/plain": [
       "age\n",
       "25    138\n",
       "dtype: int64"
      ]
     },
     "metadata": {},
     "output_type": "display_data"
    },
    {
     "data": {
      "text/plain": [
       "'\\nПользователи с какой подпиской чаще всего выполняют поездки на расстояние до 1000 метров:'"
      ]
     },
     "metadata": {},
     "output_type": "display_data"
    },
    {
     "data": {
      "text/plain": [
       "subscription_type\n",
       "free    1113\n",
       "dtype: int64"
      ]
     },
     "metadata": {},
     "output_type": "display_data"
    },
    {
     "data": {
      "text/plain": [
       "'\\nПользователи из какого города чаще всего выполняют поездки на расстояние до 1000 метров:'"
      ]
     },
     "metadata": {},
     "output_type": "display_data"
    },
    {
     "data": {
      "text/plain": [
       "city\n",
       "Ростов-на-Дону    220\n",
       "dtype: int64"
      ]
     },
     "metadata": {},
     "output_type": "display_data"
    }
   ],
   "source": [
    "travel_df = pd.merge(users_df, rides_df, on='user_id', how='inner')\n",
    "short_rides = travel_df[travel_df['distance'] <= 1000]\n",
    "\n",
    "age_short_rides = short_rides.groupby('age').size().sort_values(ascending=False).head(1)\n",
    "subscription_short_rides = short_rides.groupby('subscription_type').size().sort_values(ascending=False).head(1)\n",
    "city_short_rides = short_rides.groupby('city').size().sort_values(ascending=False).head(1)\n",
    "\n",
    "display(\"Пользователи с каким возрастом чаще всего выполняют поездки на расстояние до 1000 метров:\")\n",
    "display(age_short_rides)\n",
    "\n",
    "display(\"\\nПользователи с какой подпиской чаще всего выполняют поездки на расстояние до 1000 метров:\")\n",
    "display(subscription_short_rides)\n",
    "\n",
    "display(\"\\nПользователи из какого города чаще всего выполняют поездки на расстояние до 1000 метров:\")\n",
    "display(city_short_rides)"
   ]
  },
  {
   "cell_type": "markdown",
   "id": "f7010a7e",
   "metadata": {},
   "source": [
    "Вывод: Чаще всего пользователи преодолевают расстояние около 3133 метра за одну поездку,\n",
    "так как это значение является медианой данных. \n",
    "Также 25% пользователей преодолевают менее 2543 метра, а 75% - менее 3776 метра за одну поездку.\n"
   ]
  },
  {
   "cell_type": "markdown",
   "id": "935e0c21",
   "metadata": {},
   "source": [
    "Дополнительный вывод:\n",
    "Пользователи в возрасте 25 лет и бесплатные подписчики чаще выбирают короткие поездки до 1000 метров,\n",
    "вероятно, потому что они предпочитают использовать электросамокаты для быстрых перемещений по городу.\n",
    "Ростов-на-Дону лидирует по количеству таких поездок, что может быть связано с развитой инфраструктурой для электросамокатов в этом городе,\n",
    "что делает короткие поездки более удобными и доступными.\n",
    "Однако, распределение показывает два пика в районе 700 и 3100 метров. \n",
    "Вероятно, это может быть связано с тем, что у пользователей есть два типа поездок: короткие и длинные.\n",
    "Короткие поездки могут быть связаны с перемещением внутри города или на короткие расстояния, в то время как длинные поездки могут быть связаны с поездками за город или на более дальние расстояния. \n",
    "Пики около 700 и 3100 метров могут указывать на предпочтительные расстояния для таких поездок."
   ]
  },
  {
   "cell_type": "markdown",
   "id": "b05b9fb9",
   "metadata": {},
   "source": [
    "##### Шаг 3.5 Посмотрим на продолжительность поездок."
   ]
  },
  {
   "cell_type": "code",
   "execution_count": 13,
   "id": "f9d8a740",
   "metadata": {},
   "outputs": [
    {
     "data": {
      "text/plain": [
       "count    18068.000000\n",
       "mean        17.805011\n",
       "std          6.091051\n",
       "min          0.500000\n",
       "25%         13.597563\n",
       "50%         17.678395\n",
       "75%         21.724800\n",
       "max         40.823963\n",
       "Name: duration, dtype: float64"
      ]
     },
     "metadata": {},
     "output_type": "display_data"
    },
    {
     "data": {
      "text/plain": [
       "'Количество поездок с длительностью менее 1 минуты: 95'"
      ]
     },
     "metadata": {},
     "output_type": "display_data"
    },
    {
     "data": {
      "text/plain": [
       "'Поездки с длительностью менее 1 минуты удалены.'"
      ]
     },
     "metadata": {},
     "output_type": "display_data"
    },
    {
     "data": {
      "image/png": "[encoded data removed]",
      "text/plain": [
       "<Figure size 720x432 with 1 Axes>"
      ]
     },
     "metadata": {
      "needs_background": "light"
     },
     "output_type": "display_data"
    }
   ],
   "source": [
    "duration_counts = rides_df['duration'].describe()\n",
    "display(duration_counts)\n",
    "\n",
    "short_rides_count = (rides_df['duration'] < 1).sum()\n",
    "display(f\"Количество поездок с длительностью менее 1 минуты: {short_rides_count}\")\n",
    "short_rides_index = rides_df[rides_df['duration'] < 1].index\n",
    "rides_df.drop(short_rides_index, inplace=True)\n",
    "\n",
    "display(\"Поездки с длительностью менее 1 минуты удалены.\")\n",
    "plt.figure(figsize=(10, 6))\n",
    "rides_df['duration'].plot.hist(bins=20, color='skyblue')\n",
    "plt.title('Распределение продолжительности поездок')\n",
    "plt.xlabel('Продолжительность (мин)')\n",
    "plt.ylabel('Количество поездок')\n",
    "plt.show()\n"
   ]
  },
  {
   "cell_type": "markdown",
   "id": "8b22f414",
   "metadata": {},
   "source": [
    "Для исключения искажение статистики были удалены все поездки, где продолжительность поездки меньше минуты.\n",
    "В данном случае, распределение имеет форму \"нормального распределения\".\n",
    "\n",
    "Среднее значение длительности поездки составляет около 17 минуты,\n",
    "а медианное значение (50-й процентиль) равно примерно 17 минуты.\n",
    "Разница между 25-м и 75-м процентилем (межквартильный размах) составляет примерно 8 минуты.\n",
    "Это означает, что 50% всех поездок имеют длительность от 13 до 21 минуты."
   ]
  },
  {
   "cell_type": "markdown",
   "id": "ac07519e",
   "metadata": {},
   "source": [
    "Общий вывод по разделу: \n",
    "Результаты исследования показали, что пользователи сервиса равномерно распределены по городам.\n",
    "Большинство пользователей (54%) выбирают бесплатную подписку, в то время как 46% предпочитают платную подписку Ultra.\n",
    "Основная аудитория сервиса находится в возрастной категории от 20 до 30 лет, с пиком в 25 лет. \n",
    "Среднее расстояние поездки составляет около 3133 метра, а средняя продолжительность поездки – 17 минут.\n",
    "Эти данные могут быть использованы для оптимизации сервиса и привлечения новых пользователей."
   ]
  },
  {
   "cell_type": "markdown",
   "id": "4ef51331",
   "metadata": {},
   "source": [
    "#### Шаг 4. Объединение данных"
   ]
  },
  {
   "cell_type": "markdown",
   "id": "634e7850",
   "metadata": {},
   "source": [
    "##### Шаг 4.1 Объединяем данные о пользователях, поездках и подписках в один датафрейм. \n",
    "#Для этого воспользуйтесь методом merge().\n"
   ]
  },
  {
   "cell_type": "code",
   "execution_count": 14,
   "id": "6bf288b5",
   "metadata": {
    "scrolled": true
   },
   "outputs": [
    {
     "data": {
      "text/html": [
       "<div>\n",
       "<style scoped>\n",
       "    .dataframe tbody tr th:only-of-type {\n",
       "        vertical-align: middle;\n",
       "    }\n",
       "\n",
       "    .dataframe tbody tr th {\n",
       "        vertical-align: top;\n",
       "    }\n",
       "\n",
       "    .dataframe thead th {\n",
       "        text-align: right;\n",
       "    }\n",
       "</style>\n",
       "<table border=\"1\" class=\"dataframe\">\n",
       "  <thead>\n",
       "    <tr style=\"text-align: right;\">\n",
       "      <th></th>\n",
       "      <th>user_id</th>\n",
       "      <th>name</th>\n",
       "      <th>age</th>\n",
       "      <th>city</th>\n",
       "      <th>subscription_type</th>\n",
       "      <th>distance</th>\n",
       "      <th>duration</th>\n",
       "      <th>date</th>\n",
       "      <th>month</th>\n",
       "      <th>minute_price</th>\n",
       "      <th>start_ride_price</th>\n",
       "      <th>subscription_fee</th>\n",
       "    </tr>\n",
       "  </thead>\n",
       "  <tbody>\n",
       "    <tr>\n",
       "      <th>0</th>\n",
       "      <td>1</td>\n",
       "      <td>Кира</td>\n",
       "      <td>22</td>\n",
       "      <td>Тюмень</td>\n",
       "      <td>ultra</td>\n",
       "      <td>4409.919140</td>\n",
       "      <td>25.599769</td>\n",
       "      <td>2021-01-01</td>\n",
       "      <td>1</td>\n",
       "      <td>6</td>\n",
       "      <td>0</td>\n",
       "      <td>199</td>\n",
       "    </tr>\n",
       "    <tr>\n",
       "      <th>1</th>\n",
       "      <td>1</td>\n",
       "      <td>Кира</td>\n",
       "      <td>22</td>\n",
       "      <td>Тюмень</td>\n",
       "      <td>ultra</td>\n",
       "      <td>2617.592153</td>\n",
       "      <td>15.816871</td>\n",
       "      <td>2021-01-18</td>\n",
       "      <td>1</td>\n",
       "      <td>6</td>\n",
       "      <td>0</td>\n",
       "      <td>199</td>\n",
       "    </tr>\n",
       "    <tr>\n",
       "      <th>2</th>\n",
       "      <td>1</td>\n",
       "      <td>Кира</td>\n",
       "      <td>22</td>\n",
       "      <td>Тюмень</td>\n",
       "      <td>ultra</td>\n",
       "      <td>754.159807</td>\n",
       "      <td>6.232113</td>\n",
       "      <td>2021-04-20</td>\n",
       "      <td>4</td>\n",
       "      <td>6</td>\n",
       "      <td>0</td>\n",
       "      <td>199</td>\n",
       "    </tr>\n",
       "    <tr>\n",
       "      <th>3</th>\n",
       "      <td>1</td>\n",
       "      <td>Кира</td>\n",
       "      <td>22</td>\n",
       "      <td>Тюмень</td>\n",
       "      <td>ultra</td>\n",
       "      <td>2694.783254</td>\n",
       "      <td>18.511000</td>\n",
       "      <td>2021-08-11</td>\n",
       "      <td>8</td>\n",
       "      <td>6</td>\n",
       "      <td>0</td>\n",
       "      <td>199</td>\n",
       "    </tr>\n",
       "    <tr>\n",
       "      <th>4</th>\n",
       "      <td>1</td>\n",
       "      <td>Кира</td>\n",
       "      <td>22</td>\n",
       "      <td>Тюмень</td>\n",
       "      <td>ultra</td>\n",
       "      <td>4028.687306</td>\n",
       "      <td>26.265803</td>\n",
       "      <td>2021-08-28</td>\n",
       "      <td>8</td>\n",
       "      <td>6</td>\n",
       "      <td>0</td>\n",
       "      <td>199</td>\n",
       "    </tr>\n",
       "  </tbody>\n",
       "</table>\n",
       "</div>"
      ],
      "text/plain": [
       "   user_id  name  age    city subscription_type     distance   duration  \\\n",
       "0        1  Кира   22  Тюмень             ultra  4409.919140  25.599769   \n",
       "1        1  Кира   22  Тюмень             ultra  2617.592153  15.816871   \n",
       "2        1  Кира   22  Тюмень             ultra   754.159807   6.232113   \n",
       "3        1  Кира   22  Тюмень             ultra  2694.783254  18.511000   \n",
       "4        1  Кира   22  Тюмень             ultra  4028.687306  26.265803   \n",
       "\n",
       "        date  month  minute_price  start_ride_price  subscription_fee  \n",
       "0 2021-01-01      1             6                 0               199  \n",
       "1 2021-01-18      1             6                 0               199  \n",
       "2 2021-04-20      4             6                 0               199  \n",
       "3 2021-08-11      8             6                 0               199  \n",
       "4 2021-08-28      8             6                 0               199  "
      ]
     },
     "metadata": {},
     "output_type": "display_data"
    },
    {
     "name": "stdout",
     "output_type": "stream",
     "text": [
      "<class 'pandas.core.frame.DataFrame'>\n",
      "Int64Index: 17973 entries, 0 to 17972\n",
      "Data columns (total 12 columns):\n",
      " #   Column             Non-Null Count  Dtype         \n",
      "---  ------             --------------  -----         \n",
      " 0   user_id            17973 non-null  int64         \n",
      " 1   name               17973 non-null  object        \n",
      " 2   age                17973 non-null  int64         \n",
      " 3   city               17973 non-null  object        \n",
      " 4   subscription_type  17973 non-null  object        \n",
      " 5   distance           17973 non-null  float64       \n",
      " 6   duration           17973 non-null  float64       \n",
      " 7   date               17973 non-null  datetime64[ns]\n",
      " 8   month              17973 non-null  int64         \n",
      " 9   minute_price       17973 non-null  int64         \n",
      " 10  start_ride_price   17973 non-null  int64         \n",
      " 11  subscription_fee   17973 non-null  int64         \n",
      "dtypes: datetime64[ns](1), float64(2), int64(6), object(3)\n",
      "memory usage: 1.8+ MB\n"
     ]
    },
    {
     "data": {
      "text/plain": [
       "None"
      ]
     },
     "metadata": {},
     "output_type": "display_data"
    }
   ],
   "source": [
    "merged_df = pd.merge(users_df, rides_df, on='user_id', how='inner')\n",
    "merged_df = pd.merge(merged_df, subscriptions_df, on='subscription_type', how='left')\n",
    "display(merged_df.head())\n",
    "display(merged_df.info())"
   ]
  },
  {
   "cell_type": "markdown",
   "id": "c5649194",
   "metadata": {},
   "source": [
    "Выполнено объединение таблиц, в таблицу merged_df, по ключевым столбам."
   ]
  },
  {
   "cell_type": "code",
   "execution_count": 15,
   "id": "60ac147a",
   "metadata": {
    "scrolled": true
   },
   "outputs": [
    {
     "data": {
      "text/plain": [
       "'Количество строк в rides_df и merged_df одинаково:'"
      ]
     },
     "metadata": {},
     "output_type": "display_data"
    },
    {
     "data": {
      "text/plain": [
       "17973"
      ]
     },
     "metadata": {},
     "output_type": "display_data"
    }
   ],
   "source": [
    "rides_rows = rides_df.shape[0]\n",
    "merged_rows = merged_df.shape[0]\n",
    "if rides_rows == merged_rows:\n",
    "    display(\"Количество строк в rides_df и merged_df одинаково:\", rides_rows)\n",
    "else:\n",
    "    display(\"Количество строк в rides_df и merged_df различается.\")\n",
    "    display(\"Количество строк в rides_df:\", rides_rows)\n",
    "    display(\"Количество строк в merged_df:\", merged_rows)"
   ]
  },
  {
   "cell_type": "markdown",
   "id": "4c8943da",
   "metadata": {},
   "source": [
    "При объединении данных из двух исходных наборов (rides_df и другого набора данных)\n",
    "в merged_df не было потерь или дублирования строк. "
   ]
  },
  {
   "cell_type": "markdown",
   "id": "1cbc0bfa",
   "metadata": {},
   "source": [
    "##### 4.2 Создаем ещё два датафрейма из датафрейма, созданного на этапе 4.1:\n",
    "#c данными о пользователях без подписки;\n",
    "#с данными о пользователях с подпиской."
   ]
  },
  {
   "cell_type": "code",
   "execution_count": 16,
   "id": "3ea72d2f",
   "metadata": {},
   "outputs": [
    {
     "data": {
      "text/plain": [
       "'Данные о пользователях без подписки:'"
      ]
     },
     "metadata": {},
     "output_type": "display_data"
    },
    {
     "data": {
      "text/plain": [
       "11473"
      ]
     },
     "metadata": {},
     "output_type": "display_data"
    },
    {
     "data": {
      "text/plain": [
       "'\\nДанные о пользователях с подпиской:'"
      ]
     },
     "metadata": {},
     "output_type": "display_data"
    },
    {
     "data": {
      "text/plain": [
       "6500"
      ]
     },
     "metadata": {},
     "output_type": "display_data"
    },
    {
     "data": {
      "text/plain": [
       "'Длина строк суммы таблиц free_users и ultra_users равна длине строк в merged_df'"
      ]
     },
     "metadata": {},
     "output_type": "display_data"
    },
    {
     "data": {
      "text/plain": [
       "'Пропуски в таблице free_users:'"
      ]
     },
     "metadata": {},
     "output_type": "display_data"
    },
    {
     "data": {
      "text/plain": [
       "user_id              0\n",
       "name                 0\n",
       "age                  0\n",
       "city                 0\n",
       "subscription_type    0\n",
       "distance             0\n",
       "duration             0\n",
       "date                 0\n",
       "month                0\n",
       "minute_price         0\n",
       "start_ride_price     0\n",
       "subscription_fee     0\n",
       "dtype: int64"
      ]
     },
     "metadata": {},
     "output_type": "display_data"
    },
    {
     "data": {
      "text/plain": [
       "'\\nПропуски в таблице ultra_users:'"
      ]
     },
     "metadata": {},
     "output_type": "display_data"
    },
    {
     "data": {
      "text/plain": [
       "user_id              0\n",
       "name                 0\n",
       "age                  0\n",
       "city                 0\n",
       "subscription_type    0\n",
       "distance             0\n",
       "duration             0\n",
       "date                 0\n",
       "month                0\n",
       "minute_price         0\n",
       "start_ride_price     0\n",
       "subscription_fee     0\n",
       "dtype: int64"
      ]
     },
     "metadata": {},
     "output_type": "display_data"
    }
   ],
   "source": [
    "free_users = free_sub = merged_df[merged_df['subscription_type'] == 'free']\n",
    "ultra_users = merged_df[merged_df['subscription_type'] == 'ultra']\n",
    "display(\"Данные о пользователях без подписки:\")\n",
    "display(len(free_users))\n",
    "display(\"\\nДанные о пользователях с подпиской:\")\n",
    "display(len(ultra_users))\n",
    "total_length = len(free_users) + len(ultra_users)\n",
    "merged_length = len(merged_df)\n",
    "\n",
    "if total_length == merged_length:\n",
    "    display(\"Длина строк суммы таблиц free_users и ultra_users равна длине строк в merged_df\")\n",
    "else:\n",
    "    display(\"Длина строк суммы таблиц free_users и ultra_users НЕ равна длине строк в merged_df\")\n",
    "    \n",
    "display(\"Пропуски в таблице free_users:\")\n",
    "display(free_users.isnull().sum())\n",
    "\n",
    "display(\"\\nПропуски в таблице ultra_users:\")\n",
    "display(ultra_users.isnull().sum())"
   ]
  },
  {
   "cell_type": "markdown",
   "id": "aa986caa",
   "metadata": {},
   "source": [
    "Мы создали два датафрейма, и проверили что при разделении не было потери данных "
   ]
  },
  {
   "cell_type": "markdown",
   "id": "09147a78",
   "metadata": {},
   "source": [
    "##### 4.3 Визуализируем информацию о расстоянии и времени поездок для пользователей обеих категорий."
   ]
  },
  {
   "cell_type": "code",
   "execution_count": 17,
   "id": "6a151233",
   "metadata": {},
   "outputs": [
    {
     "data": {
      "image/png": "[encoded data removed]",
      "text/plain": [
       "<Figure size 864x576 with 1 Axes>"
      ]
     },
     "metadata": {
      "needs_background": "light"
     },
     "output_type": "display_data"
    }
   ],
   "source": [
    "plt.figure(figsize=(12, 8))\n",
    "plt.scatter(free_users['duration'], free_users['distance'], color='blue', label='Free Subscription', alpha=0.5)\n",
    "plt.scatter(ultra_users['duration'], ultra_users['distance'], color='red', label='Ultra Subscription', alpha=0.5)\n",
    "\n",
    "plt.title('Расстояние vs Время поездки для пользователей с разными типами подписок')\n",
    "plt.xlabel('Время поездки (мин)')\n",
    "plt.ylabel('Расстояние (м)')\n",
    "plt.legend()\n",
    "plt.show()"
   ]
  },
  {
   "cell_type": "code",
   "execution_count": 18,
   "id": "79fe5651",
   "metadata": {},
   "outputs": [
    {
     "data": {
      "text/plain": [
       "<Figure size 864x576 with 0 Axes>"
      ]
     },
     "metadata": {},
     "output_type": "display_data"
    },
    {
     "data": {
      "image/png": "[encoded data removed]",
      "text/plain": [
       "<Figure size 432x288 with 9 Axes>"
      ]
     },
     "metadata": {
      "needs_background": "light"
     },
     "output_type": "display_data"
    },
    {
     "data": {
      "text/plain": [
       "<Figure size 864x576 with 0 Axes>"
      ]
     },
     "metadata": {},
     "output_type": "display_data"
    },
    {
     "data": {
      "image/png": "[encoded data removed]",
      "text/plain": [
       "<Figure size 432x288 with 9 Axes>"
      ]
     },
     "metadata": {
      "needs_background": "light"
     },
     "output_type": "display_data"
    },
    {
     "data": {
      "text/plain": [
       "'Таблица основных статистических характеристик для длительности:'"
      ]
     },
     "metadata": {},
     "output_type": "display_data"
    },
    {
     "data": {
      "text/html": [
       "<div>\n",
       "<style scoped>\n",
       "    .dataframe tbody tr th:only-of-type {\n",
       "        vertical-align: middle;\n",
       "    }\n",
       "\n",
       "    .dataframe tbody tr th {\n",
       "        vertical-align: top;\n",
       "    }\n",
       "\n",
       "    .dataframe thead th {\n",
       "        text-align: right;\n",
       "    }\n",
       "</style>\n",
       "<table border=\"1\" class=\"dataframe\">\n",
       "  <thead>\n",
       "    <tr style=\"text-align: right;\">\n",
       "      <th></th>\n",
       "      <th>Free Users</th>\n",
       "      <th>Ultra Users</th>\n",
       "    </tr>\n",
       "  </thead>\n",
       "  <tbody>\n",
       "    <tr>\n",
       "      <th>count</th>\n",
       "      <td>11473.000000</td>\n",
       "      <td>6500.000000</td>\n",
       "    </tr>\n",
       "    <tr>\n",
       "      <th>mean</th>\n",
       "      <td>17.530771</td>\n",
       "      <td>18.541985</td>\n",
       "    </tr>\n",
       "    <tr>\n",
       "      <th>std</th>\n",
       "      <td>6.162609</td>\n",
       "      <td>5.572048</td>\n",
       "    </tr>\n",
       "    <tr>\n",
       "      <th>min</th>\n",
       "      <td>2.035632</td>\n",
       "      <td>3.760353</td>\n",
       "    </tr>\n",
       "    <tr>\n",
       "      <th>25%</th>\n",
       "      <td>13.085688</td>\n",
       "      <td>14.524654</td>\n",
       "    </tr>\n",
       "    <tr>\n",
       "      <th>50%</th>\n",
       "      <td>17.383807</td>\n",
       "      <td>18.178153</td>\n",
       "    </tr>\n",
       "    <tr>\n",
       "      <th>75%</th>\n",
       "      <td>21.638038</td>\n",
       "      <td>21.884129</td>\n",
       "    </tr>\n",
       "    <tr>\n",
       "      <th>max</th>\n",
       "      <td>34.948498</td>\n",
       "      <td>40.823963</td>\n",
       "    </tr>\n",
       "  </tbody>\n",
       "</table>\n",
       "</div>"
      ],
      "text/plain": [
       "         Free Users  Ultra Users\n",
       "count  11473.000000  6500.000000\n",
       "mean      17.530771    18.541985\n",
       "std        6.162609     5.572048\n",
       "min        2.035632     3.760353\n",
       "25%       13.085688    14.524654\n",
       "50%       17.383807    18.178153\n",
       "75%       21.638038    21.884129\n",
       "max       34.948498    40.823963"
      ]
     },
     "metadata": {},
     "output_type": "display_data"
    },
    {
     "data": {
      "text/plain": [
       "'\\nТаблица основных статистических характеристик для расстояния:'"
      ]
     },
     "metadata": {},
     "output_type": "display_data"
    },
    {
     "data": {
      "text/html": [
       "<div>\n",
       "<style scoped>\n",
       "    .dataframe tbody tr th:only-of-type {\n",
       "        vertical-align: middle;\n",
       "    }\n",
       "\n",
       "    .dataframe tbody tr th {\n",
       "        vertical-align: top;\n",
       "    }\n",
       "\n",
       "    .dataframe thead th {\n",
       "        text-align: right;\n",
       "    }\n",
       "</style>\n",
       "<table border=\"1\" class=\"dataframe\">\n",
       "  <thead>\n",
       "    <tr style=\"text-align: right;\">\n",
       "      <th></th>\n",
       "      <th>Free Users</th>\n",
       "      <th>Ultra Users</th>\n",
       "    </tr>\n",
       "  </thead>\n",
       "  <tbody>\n",
       "    <tr>\n",
       "      <th>count</th>\n",
       "      <td>11473.000000</td>\n",
       "      <td>6500.000000</td>\n",
       "    </tr>\n",
       "    <tr>\n",
       "      <th>mean</th>\n",
       "      <td>3028.374239</td>\n",
       "      <td>3115.445388</td>\n",
       "    </tr>\n",
       "    <tr>\n",
       "      <th>std</th>\n",
       "      <td>1235.541051</td>\n",
       "      <td>836.895330</td>\n",
       "    </tr>\n",
       "    <tr>\n",
       "      <th>min</th>\n",
       "      <td>0.855683</td>\n",
       "      <td>244.210438</td>\n",
       "    </tr>\n",
       "    <tr>\n",
       "      <th>25%</th>\n",
       "      <td>2360.878149</td>\n",
       "      <td>2785.444017</td>\n",
       "    </tr>\n",
       "    <tr>\n",
       "      <th>50%</th>\n",
       "      <td>3102.083025</td>\n",
       "      <td>3148.637229</td>\n",
       "    </tr>\n",
       "    <tr>\n",
       "      <th>75%</th>\n",
       "      <td>3883.979311</td>\n",
       "      <td>3560.574425</td>\n",
       "    </tr>\n",
       "    <tr>\n",
       "      <th>max</th>\n",
       "      <td>7066.003772</td>\n",
       "      <td>5699.769662</td>\n",
       "    </tr>\n",
       "  </tbody>\n",
       "</table>\n",
       "</div>"
      ],
      "text/plain": [
       "         Free Users  Ultra Users\n",
       "count  11473.000000  6500.000000\n",
       "mean    3028.374239  3115.445388\n",
       "std     1235.541051   836.895330\n",
       "min        0.855683   244.210438\n",
       "25%     2360.878149  2785.444017\n",
       "50%     3102.083025  3148.637229\n",
       "75%     3883.979311  3560.574425\n",
       "max     7066.003772  5699.769662"
      ]
     },
     "metadata": {},
     "output_type": "display_data"
    }
   ],
   "source": [
    "plt.figure(figsize=(12, 8))\n",
    "free_users.hist()\n",
    "plt.suptitle('Гистограммы для пользователей с бесплатной подпиской', x=0.5, y=1.02)\n",
    "plt.show()\n",
    "\n",
    "plt.figure(figsize=(12, 8))\n",
    "ultra_users.hist()\n",
    "plt.suptitle('Гистограммы для пользователей с подпиской \"ultra\"', x=0.5, y=1.02)\n",
    "plt.show()\n",
    "free_duration = free_users['duration'].describe()\n",
    "ultra_duration = ultra_users['duration'].describe()\n",
    "free_distance = free_users['distance'].describe()\n",
    "ultra_distance = ultra_users['distance'].describe()\n",
    "duration_table = pd.concat([free_duration, ultra_duration], axis=1, keys=['Free Users', 'Ultra Users'])\n",
    "distance_table = pd.concat([free_distance, ultra_distance], axis=1, keys=['Free Users', 'Ultra Users'])\n",
    "\n",
    "display(\"Таблица основных статистических характеристик для длительности:\")\n",
    "display(duration_table)\n",
    "display(\"\\nТаблица основных статистических характеристик для расстояния:\")\n",
    "display(distance_table)\n"
   ]
  },
  {
   "cell_type": "markdown",
   "id": "96c00956",
   "metadata": {},
   "source": [
    "Общий вывод по разделу:\n",
    "    Данные о пользователях, поездках и подписках были объединены в один датафрейм.\n",
    "Затем были созданы два датафрейма: один содержит информацию о пользователях без подписки,\n",
    "а другой - о пользователях с подпиской.\n",
    "Было выявлено:\n",
    "    У пользователей с бесплатной подпиской есть более разнообразные значения дистанции поездок,\n",
    "чем у пользователей с ультра подпиской. \n",
    "Тем не менее, пользователи с ультра подпиской тратят чуть больше времени на поездку,\n",
    "что связано с стоимостью одной минуты поездки.\n"
   ]
  },
  {
   "cell_type": "markdown",
   "id": "402d620f",
   "metadata": {},
   "source": [
    "#### Шаг 5. Подсчёт выручки"
   ]
  },
  {
   "cell_type": "markdown",
   "id": "3476aee6",
   "metadata": {},
   "source": [
    "##### 5.1 Создаем датафрейм с агрегированными данными о поездках на основе датафрейма с объединёнными данными из шага 4: \n",
    "#Найдем суммарное расстояние,\n",
    "#количество поездок и суммарное время для каждого пользователя за каждый месяц."
   ]
  },
  {
   "cell_type": "code",
   "execution_count": 19,
   "id": "717bc3b0",
   "metadata": {
    "scrolled": true
   },
   "outputs": [
    {
     "data": {
      "text/html": [
       "<div>\n",
       "<style scoped>\n",
       "    .dataframe tbody tr th:only-of-type {\n",
       "        vertical-align: middle;\n",
       "    }\n",
       "\n",
       "    .dataframe tbody tr th {\n",
       "        vertical-align: top;\n",
       "    }\n",
       "\n",
       "    .dataframe thead th {\n",
       "        text-align: right;\n",
       "    }\n",
       "</style>\n",
       "<table border=\"1\" class=\"dataframe\">\n",
       "  <thead>\n",
       "    <tr style=\"text-align: right;\">\n",
       "      <th></th>\n",
       "      <th></th>\n",
       "      <th>distance</th>\n",
       "      <th>duration</th>\n",
       "      <th>count_tips</th>\n",
       "      <th>subscription_type</th>\n",
       "    </tr>\n",
       "    <tr>\n",
       "      <th>month</th>\n",
       "      <th>user_id</th>\n",
       "      <th></th>\n",
       "      <th></th>\n",
       "      <th></th>\n",
       "      <th></th>\n",
       "    </tr>\n",
       "  </thead>\n",
       "  <tbody>\n",
       "    <tr>\n",
       "      <th rowspan=\"5\" valign=\"top\">1</th>\n",
       "      <th>1</th>\n",
       "      <td>7027.511294</td>\n",
       "      <td>42.0</td>\n",
       "      <td>2</td>\n",
       "      <td>ultra</td>\n",
       "    </tr>\n",
       "    <tr>\n",
       "      <th>3</th>\n",
       "      <td>3061.777147</td>\n",
       "      <td>13.0</td>\n",
       "      <td>1</td>\n",
       "      <td>ultra</td>\n",
       "    </tr>\n",
       "    <tr>\n",
       "      <th>5</th>\n",
       "      <td>3914.646990</td>\n",
       "      <td>13.0</td>\n",
       "      <td>1</td>\n",
       "      <td>ultra</td>\n",
       "    </tr>\n",
       "    <tr>\n",
       "      <th>7</th>\n",
       "      <td>6478.080979</td>\n",
       "      <td>28.0</td>\n",
       "      <td>2</td>\n",
       "      <td>ultra</td>\n",
       "    </tr>\n",
       "    <tr>\n",
       "      <th>12</th>\n",
       "      <td>3577.151148</td>\n",
       "      <td>33.0</td>\n",
       "      <td>1</td>\n",
       "      <td>ultra</td>\n",
       "    </tr>\n",
       "  </tbody>\n",
       "</table>\n",
       "</div>"
      ],
      "text/plain": [
       "                  distance  duration  count_tips subscription_type\n",
       "month user_id                                                     \n",
       "1     1        7027.511294      42.0           2             ultra\n",
       "      3        3061.777147      13.0           1             ultra\n",
       "      5        3914.646990      13.0           1             ultra\n",
       "      7        6478.080979      28.0           2             ultra\n",
       "      12       3577.151148      33.0           1             ultra"
      ]
     },
     "metadata": {},
     "output_type": "display_data"
    },
    {
     "name": "stdout",
     "output_type": "stream",
     "text": [
      "<class 'pandas.core.frame.DataFrame'>\n",
      "MultiIndex: 11300 entries, (1, 1) to (12, 1534)\n",
      "Data columns (total 4 columns):\n",
      " #   Column             Non-Null Count  Dtype  \n",
      "---  ------             --------------  -----  \n",
      " 0   distance           11300 non-null  float64\n",
      " 1   duration           11300 non-null  float64\n",
      " 2   count_tips         11300 non-null  int64  \n",
      " 3   subscription_type  11300 non-null  object \n",
      "dtypes: float64(2), int64(1), object(1)\n",
      "memory usage: 398.4+ KB\n"
     ]
    },
    {
     "data": {
      "text/plain": [
       "None"
      ]
     },
     "metadata": {},
     "output_type": "display_data"
    },
    {
     "name": "stdout",
     "output_type": "stream",
     "text": [
      "<class 'pandas.core.frame.DataFrame'>\n",
      "Int64Index: 17973 entries, 0 to 17972\n",
      "Data columns (total 12 columns):\n",
      " #   Column             Non-Null Count  Dtype         \n",
      "---  ------             --------------  -----         \n",
      " 0   user_id            17973 non-null  int64         \n",
      " 1   name               17973 non-null  object        \n",
      " 2   age                17973 non-null  int64         \n",
      " 3   city               17973 non-null  object        \n",
      " 4   subscription_type  17973 non-null  object        \n",
      " 5   distance           17973 non-null  float64       \n",
      " 6   duration           17973 non-null  float64       \n",
      " 7   date               17973 non-null  datetime64[ns]\n",
      " 8   month              17973 non-null  int64         \n",
      " 9   minute_price       17973 non-null  int64         \n",
      " 10  start_ride_price   17973 non-null  int64         \n",
      " 11  subscription_fee   17973 non-null  int64         \n",
      "dtypes: datetime64[ns](1), float64(2), int64(6), object(3)\n",
      "memory usage: 1.8+ MB\n"
     ]
    },
    {
     "data": {
      "text/plain": [
       "None"
      ]
     },
     "metadata": {},
     "output_type": "display_data"
    }
   ],
   "source": [
    "merged_df['duration'] = np.ceil(merged_df['duration'])\n",
    "total_data = pd.pivot_table(merged_df,\n",
    "                            index=['month', 'user_id'],\n",
    "                            values=['distance', 'duration', 'name', 'subscription_type'],\n",
    "                            aggfunc={'distance': sum, \n",
    "                                     'duration': sum, \n",
    "                                     'name': len,\n",
    "                                     'subscription_type': lambda x: x.iloc[0]})\n",
    "\n",
    "total_data.rename(columns={'name': 'count_tips'}, inplace=True)\n",
    "\n",
    "\n",
    "display(total_data.head())\n",
    "display(total_data.info())\n",
    "display(merged_df.info())"
   ]
  },
  {
   "cell_type": "markdown",
   "id": "4b64be93",
   "metadata": {},
   "source": [
    "##### 5.2 В этот же датафрейм добавим столбец с помесячной выручкой, которую принёс каждый пользователь. \n",
    "Для этого обратимся к информации об условиях оплаты для подписчиков и тех, у кого нет подписки. Продолжительность каждой поездки в каждой строке исходного датафрейма для подсчёта стоимости округляется до следующего целого числа: например, значения \n",
    "25.3\n",
    "25.3, \n",
    "25.5\n",
    "25.5 и \n",
    "26.0\n",
    "26.0 должны быть преобразованы к \n",
    "26\n",
    "26."
   ]
  },
  {
   "cell_type": "markdown",
   "id": "9b6601b0",
   "metadata": {},
   "source": [
    "1. Определяем стоимость старта поездки и стоимость одной минуты поездки для каждого пользователя в зависимости от их типа подписки. Для этого вам может понадобиться создать словарь с ценами для каждого типа подписки."
   ]
  },
  {
   "cell_type": "code",
   "execution_count": 20,
   "id": "532d9bcd",
   "metadata": {
    "scrolled": true
   },
   "outputs": [],
   "source": [
    "payment_params = {\n",
    "    'ultra': {\n",
    "        'base_fee': 199,\n",
    "        'per_hour_rate': 6,\n",
    "        'tips_rate': 0\n",
    "    },\n",
    "    'free': {\n",
    "        'base_fee': 0,\n",
    "        'per_hour_rate': 8,\n",
    "        'tips_rate': 50\n",
    "    }\n",
    "}\n",
    "\n",
    "total_data['base_fee'] = total_data['subscription_type'].map(lambda x: payment_params[x]['base_fee'])\n",
    "total_data['per_hour_rate'] = total_data['subscription_type'].map(lambda x: payment_params[x]['per_hour_rate'])\n",
    "total_data['tips_rate'] = total_data['subscription_type'].map(lambda x: payment_params[x]['tips_rate'])\n",
    "\n",
    "def calculate_revenue(row):\n",
    "    if row['subscription_type'] == 'ultra':\n",
    "        return row['per_hour_rate'] * row['duration'] + row['base_fee']\n",
    "    elif row['subscription_type'] == 'free':\n",
    "        return row['per_hour_rate'] * row['duration'] + row['tips_rate'] * row['count_tips']\n",
    "    else:\n",
    "        return 'Not such sub'\n",
    "\n",
    "total_data['revenue'] = total_data.apply(calculate_revenue, axis=1)\n",
    "\n"
   ]
  },
  {
   "cell_type": "code",
   "execution_count": 21,
   "id": "1e8c2fe4",
   "metadata": {},
   "outputs": [
    {
     "name": "stdout",
     "output_type": "stream",
     "text": [
      "<class 'pandas.core.frame.DataFrame'>\n",
      "MultiIndex: 11300 entries, (1, 1) to (12, 1534)\n",
      "Data columns (total 8 columns):\n",
      " #   Column             Non-Null Count  Dtype  \n",
      "---  ------             --------------  -----  \n",
      " 0   distance           11300 non-null  float64\n",
      " 1   duration           11300 non-null  float64\n",
      " 2   count_tips         11300 non-null  int64  \n",
      " 3   subscription_type  11300 non-null  object \n",
      " 4   base_fee           11300 non-null  int64  \n",
      " 5   per_hour_rate      11300 non-null  int64  \n",
      " 6   tips_rate          11300 non-null  int64  \n",
      " 7   revenue            11300 non-null  float64\n",
      "dtypes: float64(3), int64(4), object(1)\n",
      "memory usage: 751.5+ KB\n"
     ]
    },
    {
     "data": {
      "text/plain": [
       "None"
      ]
     },
     "metadata": {},
     "output_type": "display_data"
    },
    {
     "data": {
      "text/plain": [
       "month  user_id\n",
       "1      1          451.0\n",
       "       3          277.0\n",
       "       5          277.0\n",
       "       7          367.0\n",
       "       12         397.0\n",
       "                  ...  \n",
       "12     1525       322.0\n",
       "       1526       234.0\n",
       "       1528       138.0\n",
       "       1532       436.0\n",
       "       1534       178.0\n",
       "Name: revenue, Length: 11300, dtype: float64"
      ]
     },
     "metadata": {},
     "output_type": "display_data"
    }
   ],
   "source": [
    "display(total_data.info())\n",
    "display(total_data['revenue'])"
   ]
  },
  {
   "cell_type": "markdown",
   "id": "daf650df",
   "metadata": {},
   "source": [
    "Вывод по разделу: Мы создали датафрейм с агрегированными данными о поездках,\n",
    "где для каждого пользователя за каждый месяц мы нашли суммарное расстояние, количество поездок и суммарное время.\n",
    "Также мы добавили столбец с помесячной выручкой, учитывая условия оплаты для подписчиков и тех, у кого нет подписки. \n",
    "Длительность каждой поездки была округлена до ближайшего целого числа."
   ]
  },
  {
   "cell_type": "code",
   "execution_count": 22,
   "id": "4bd54ca6",
   "metadata": {},
   "outputs": [
    {
     "data": {
      "text/plain": [
       "3873131.0"
      ]
     },
     "metadata": {},
     "output_type": "display_data"
    }
   ],
   "source": [
    "display(total_data['revenue'].sum())"
   ]
  },
  {
   "cell_type": "markdown",
   "id": "41545ac0",
   "metadata": {},
   "source": [
    "#### Шаг 6. Проверка гипотез"
   ]
  },
  {
   "cell_type": "markdown",
   "id": "01aa9190",
   "metadata": {},
   "source": [
    "Продакт-менеджеры сервиса хотят увеличить количество пользователей с подпиской. Для этого они будут проводить различные акции, но сначала нужно выяснить несколько важных моментов."
   ]
  },
  {
   "cell_type": "markdown",
   "id": "94b6660f",
   "metadata": {},
   "source": [
    "##### 6.1 Важно понять, тратят ли пользователи с подпиской больше времени на поездки? Если да, то пользователи с подпиской могут быть «выгоднее» для компании. Проверяем гипотезу. Используйте исходные данные о продолжительности каждой сессии — отдельно для подписчиков и тех, у кого нет подписки."
   ]
  },
  {
   "cell_type": "markdown",
   "id": "f61df9db",
   "metadata": {},
   "source": [
    "Нулевая гипотеза (H0): Средняя продолжительность поездок для пользователей с подпиской равна средней продолжительности поездок для пользователей без подписки.\n",
    "\n",
    "Альтернативная гипотеза (Н1): Средняя продолжительность поездок для пользователей с подпиской отличается от средней продолжительности поездок для пользователей без подписки."
   ]
  },
  {
   "cell_type": "code",
   "execution_count": 23,
   "id": "46baab84",
   "metadata": {},
   "outputs": [
    {
     "data": {
      "text/plain": [
       "4.704468074453899e-28"
      ]
     },
     "metadata": {},
     "output_type": "display_data"
    },
    {
     "data": {
      "text/plain": [
       "'Отвергаем нулевую гипотезу'"
      ]
     },
     "metadata": {},
     "output_type": "display_data"
    }
   ],
   "source": [
    "ultra = ultra_users['duration']\n",
    "free = free_users['duration']\n",
    "\n",
    "results = st.ttest_ind(ultra, \n",
    "                       free,\n",
    "                       alternative='greater')\n",
    "\n",
    "alpha = 0.05\n",
    "\n",
    "display(results.pvalue)\n",
    "\n",
    "if results.pvalue < alpha:\n",
    "    display('Отвергаем нулевую гипотезу')\n",
    "else:\n",
    "    display('Не удалось отвергнуть нулевую гипотезу')"
   ]
  },
  {
   "cell_type": "code",
   "execution_count": 24,
   "id": "54381bb0",
   "metadata": {},
   "outputs": [
    {
     "data": {
      "image/png": "[encoded data removed]",
      "text/plain": [
       "<Figure size 432x288 with 1 Axes>"
      ]
     },
     "metadata": {
      "needs_background": "light"
     },
     "output_type": "display_data"
    }
   ],
   "source": [
    "ax = sns.barplot(x = 'month',\n",
    "            y = 'duration',\n",
    "            hue = \"subscription_type\",\n",
    "            data = merged_df,\n",
    "            palette = ['green', 'blue'])\n",
    "ax.set_title('Распределение продолжительности поездок по видам подписок и месяцам')\n",
    "ax.set(xlabel='Номер месяца', ylabel='Продолжительность поездок');"
   ]
  },
  {
   "cell_type": "code",
   "execution_count": 25,
   "id": "74649b2f",
   "metadata": {},
   "outputs": [
    {
     "data": {
      "text/plain": [
       "'\\nСуммарная годовая выручка по тарифам:'"
      ]
     },
     "metadata": {},
     "output_type": "display_data"
    },
    {
     "data": {
      "text/plain": [
       "subscription_type\n",
       "free     2228594.0\n",
       "ultra    1644537.0\n",
       "Name: revenue, dtype: float64"
      ]
     },
     "metadata": {},
     "output_type": "display_data"
    },
    {
     "data": {
      "text/plain": [
       "'\\nСреднемесячная выручка для среднего пользователя по тарифам:'"
      ]
     },
     "metadata": {},
     "output_type": "display_data"
    },
    {
     "data": {
      "text/plain": [
       "subscription_type\n",
       "free     329.332644\n",
       "ultra    362.792191\n",
       "Name: revenue, dtype: float64"
      ]
     },
     "metadata": {},
     "output_type": "display_data"
    },
    {
     "data": {
      "text/plain": [
       "'\\nКоличество пользователей для каждого тарифа:'"
      ]
     },
     "metadata": {},
     "output_type": "display_data"
    },
    {
     "data": {
      "text/plain": [
       "free     6767\n",
       "ultra    4533\n",
       "Name: subscription_type, dtype: int64"
      ]
     },
     "metadata": {},
     "output_type": "display_data"
    }
   ],
   "source": [
    "total_revenue_per_tariff = total_data.groupby('subscription_type')['revenue'].sum()\n",
    "\n",
    "average_revenue_per_user = total_data.groupby('subscription_type')['revenue'].mean()\n",
    "\n",
    "display(\"\\nСуммарная годовая выручка по тарифам:\")\n",
    "display(total_revenue_per_tariff)\n",
    "\n",
    "display(\"\\nСреднемесячная выручка для среднего пользователя по тарифам:\")\n",
    "display(average_revenue_per_user)\n",
    "user_count_per_tariff = total_data['subscription_type'].value_counts()\n",
    "display(\"\\nКоличество пользователей для каждого тарифа:\")\n",
    "display(user_count_per_tariff)"
   ]
  },
  {
   "cell_type": "code",
   "execution_count": 26,
   "id": "54e875b5",
   "metadata": {},
   "outputs": [
    {
     "data": {
      "image/png": "[encoded data removed]",
      "text/plain": [
       "<Figure size 720x432 with 1 Axes>"
      ]
     },
     "metadata": {
      "needs_background": "light"
     },
     "output_type": "display_data"
    },
    {
     "data": {
      "image/png": "[encoded data removed]",
      "text/plain": [
       "<Figure size 720x432 with 1 Axes>"
      ]
     },
     "metadata": {
      "needs_background": "light"
     },
     "output_type": "display_data"
    }
   ],
   "source": [
    "plt.figure(figsize=(10, 6))\n",
    "total_revenue_per_tariff.plot(kind='bar', color=['blue', 'green'])\n",
    "plt.title('Суммарная годовая выручка по тарифам')\n",
    "plt.xlabel('Тариф')\n",
    "plt.ylabel('Выручка')\n",
    "plt.xticks(rotation=0)\n",
    "plt.show()\n",
    "\n",
    "plt.figure(figsize=(10, 6))\n",
    "average_revenue_per_user.plot(kind='bar', color=['blue', 'green'])\n",
    "plt.title('Среднемесячная выручка для среднего пользователя по тарифам')\n",
    "plt.xlabel('Тариф')\n",
    "plt.ylabel('Выручка')\n",
    "plt.xticks(rotation=0)\n",
    "plt.show()"
   ]
  },
  {
   "cell_type": "markdown",
   "id": "cf9c74a3",
   "metadata": {},
   "source": [
    "Суммарная годовая выручка от пользователей тарифа \"Free\" составляет 2,228,594, а от пользователей тарифа \"Ultra\" - 1,644,537. Среднемесячная выручка для среднего пользователя на тарифе \"Free\" равна 329.33, а на тарифе \"Ultra\" - 362.79."
   ]
  },
  {
   "cell_type": "markdown",
   "id": "a262c43e",
   "metadata": {},
   "source": [
    "Вывод 2: P-значение равно 4.704468074453899e-28, что практически нулевое.\n",
    "Это означает, что вероятность получить такие или более экстремальные различия в средних значениях продолжительности звонков между пользователями тарифов Ultra и Free случайно практически равна нулю. \n",
    "Следовательно, мы отвергаем нулевую гипотезу о равенстве средних значений продолжительности звонков в пользу альтернативной гипотезы о том,\n",
    "что средняя продолжительность звонков у пользователей тарифа Ultra больше, чем у пользователей тарифа Free."
   ]
  },
  {
   "cell_type": "code",
   "execution_count": 27,
   "id": "18e6380d",
   "metadata": {},
   "outputs": [
    {
     "name": "stdout",
     "output_type": "stream",
     "text": [
      "p-значение: 0.1912450522572209\n",
      "Не получилось отвергнуть нулевую гипотезу\n"
     ]
    }
   ],
   "source": [
    "# Приведены два датасета: сумма покупок, совершённых за месяц посетителями ...\n",
    "\n",
    "sample_1 = [3071, 3636, 3454, 3151, 2185, 3259, 1727, 2263, 2015,\n",
    "2582, 4815, 633, 3186, 887, 2028, 3589, 2564, 1422, 1785,\n",
    "3180, 1770, 2716, 2546, 1848, 4644, 3134, 475, 2686,\n",
    "1838, 3352]\n",
    "sample_2 = [1211, 1228, 2157, 3699, 600, 1898, 1688, 1420, 5048, 3007,\n",
    "509, 3777, 5583, 3949, 121, 1674, 4300, 1338, 3066,\n",
    "3562, 1010, 2311, 462, 863, 2021, 528, 1849, 255,\n",
    "1740, 2596]\n",
    "alpha = .05 # критический уровень статистической значимости\n",
    "# если p-value окажется меньше него - отвергнем гипотезу\n",
    "results = st.ttest_ind(\n",
    "sample_1,\n",
    "sample_2)\n",
    "print('p-значение:', results.pvalue)\n",
    "if (results.pvalue < alpha):\n",
    "    print(\"Отвергаем нулевую гипотезу\")\n",
    "else:\n",
    "    print(\"Не получилось отвергнуть нулевую гипотезу\")"
   ]
  },
  {
   "cell_type": "markdown",
   "id": "2eb3e4bc",
   "metadata": {},
   "source": [
    "##### 6.2 Расстояние одной поездки в 3130 метров — оптимальное с точки зрения износа самоката. Оперделяем - можно ли сказать, что среднее расстояние, которое проезжают пользователи с подпиской за одну поездку, не превышает 3130 метров?\n",
    "Проверяем гипотезу и делаем выводы."
   ]
  },
  {
   "cell_type": "markdown",
   "id": "d4824442",
   "metadata": {},
   "source": [
    "Нулевая гипотеза (H0): Среднее расстояние поездок пользователей ultra-тарифа равно 3130.0 км.\n",
    "\n",
    "Альтернативная гипотеза (H1): Среднее расстояние поездок пользователей ultra-тарифа больше 3130.0 км."
   ]
  },
  {
   "cell_type": "code",
   "execution_count": 28,
   "id": "6e673f53",
   "metadata": {},
   "outputs": [
    {
     "data": {
      "text/plain": [
       "0.9195368847849785"
      ]
     },
     "metadata": {},
     "output_type": "display_data"
    },
    {
     "data": {
      "text/plain": [
       "'Не удалось отвергнуть нулевую гипотезу'"
      ]
     },
     "metadata": {},
     "output_type": "display_data"
    }
   ],
   "source": [
    "ultra_dist = ultra_users['distance']\n",
    "\n",
    "interested_value = 3130.0\n",
    "\n",
    "alpha = 0.05\n",
    "\n",
    "results = st.ttest_1samp(\n",
    "    ultra_dist, \n",
    "    interested_value,\n",
    "    alternative='greater')\n",
    "    \n",
    "display(results.pvalue)\n",
    "\n",
    "if (results.pvalue < alpha):\n",
    "    display('Отвергаем нулевую гипотезу')\n",
    "else:\n",
    "    display('Не удалось отвергнуть нулевую гипотезу')"
   ]
  },
  {
   "cell_type": "markdown",
   "id": "0d5d9dd9",
   "metadata": {},
   "source": [
    "Вывод: на основании имеющихся данных, нет достаточных оснований считать, что среднее расстояние превышает указанное значение."
   ]
  },
  {
   "cell_type": "markdown",
   "id": "60eaf845",
   "metadata": {},
   "source": [
    "##### 6.3 Проверяем гипотезу о том, будет ли помесячная выручка от пользователей с подпиской по месяцам выше, чем выручка от пользователей без подписки. Сделайте вывод.\n"
   ]
  },
  {
   "cell_type": "markdown",
   "id": "11122515",
   "metadata": {},
   "source": [
    "Нулевая гипотеза (H0): Средняя помесячная выручка от пользователей с подпиской тарифа Ultra не превышает среднюю помесячную выручку от пользователей без подписки тарифа Free.\n",
    "Альтернативная гипотеза (H1): Средняя помесячная выручка от пользователей с подпиской тарифа Ultra превышает среднюю помесячную выручку от пользователей без подписки тарифа Free."
   ]
  },
  {
   "cell_type": "code",
   "execution_count": 29,
   "id": "37e97621",
   "metadata": {},
   "outputs": [
    {
     "name": "stdout",
     "output_type": "stream",
     "text": [
      "<class 'pandas.core.frame.DataFrame'>\n",
      "MultiIndex: 11300 entries, (1, 1) to (12, 1534)\n",
      "Data columns (total 8 columns):\n",
      " #   Column             Non-Null Count  Dtype  \n",
      "---  ------             --------------  -----  \n",
      " 0   distance           11300 non-null  float64\n",
      " 1   duration           11300 non-null  float64\n",
      " 2   count_tips         11300 non-null  int64  \n",
      " 3   subscription_type  11300 non-null  object \n",
      " 4   base_fee           11300 non-null  int64  \n",
      " 5   per_hour_rate      11300 non-null  int64  \n",
      " 6   tips_rate          11300 non-null  int64  \n",
      " 7   revenue            11300 non-null  float64\n",
      "dtypes: float64(3), int64(4), object(1)\n",
      "memory usage: 751.8+ KB\n"
     ]
    }
   ],
   "source": [
    "total_data.info()"
   ]
  },
  {
   "cell_type": "code",
   "execution_count": 30,
   "id": "bd3d5518",
   "metadata": {},
   "outputs": [
    {
     "data": {
      "text/plain": [
       "2.0314113674863288e-30"
      ]
     },
     "metadata": {},
     "output_type": "display_data"
    },
    {
     "data": {
      "text/plain": [
       "'Отвергаем нулевую гипотезу'"
      ]
     },
     "metadata": {},
     "output_type": "display_data"
    }
   ],
   "source": [
    "ultra_per_mnth = total_data.loc[total_data.subscription_type == 'ultra', 'revenue'] \n",
    "\n",
    "free_per_mnth = total_data.loc[total_data.subscription_type == 'free', 'revenue'] \n",
    "\n",
    "\n",
    "\n",
    "\n",
    "\n",
    "results = st.ttest_ind(ultra_per_mnth, \n",
    "                       free_per_mnth,\n",
    "                       alternative = 'greater')\n",
    "\n",
    "alpha = .05\n",
    "\n",
    "display(results.pvalue)\n",
    "\n",
    "if results.pvalue < alpha:\n",
    "    display('Отвергаем нулевую гипотезу')\n",
    "else:\n",
    "    display('Не удалось отвергнуть нулевую гипотезу')"
   ]
  },
  {
   "cell_type": "markdown",
   "id": "4b939dff",
   "metadata": {},
   "source": [
    "Вывод: Полученное значение p-значения значительно меньше уровня значимости alpha=0.05.\n",
    "Это говорит о том, что мы отвергаем нулевую гипотезу о том, что выручка от пользователей с подпиской не выше,\n",
    "чем выручка от пользователей без подписки. \n",
    "Следовательно, можно сделать вывод, что помесячная выручка от пользователей с подпиской в целом выше, чем от пользователей без подписки."
   ]
  },
  {
   "cell_type": "markdown",
   "id": "acab9984",
   "metadata": {},
   "source": [
    "##### 6.4 Представьте такую ситуацию: техническая команда сервиса обновила сервера, с которыми взаимодействует мобильное приложение. \n",
    "#Она надеется, что из-за этого количество обращений в техподдержку значимо снизилось.\n",
    "#Некоторый файл содержит для каждого пользователя данные о количестве обращений до обновления и после него.\n",
    "#Какой тест вам понадобился бы для проверки этой гипотезы?\n"
   ]
  },
  {
   "cell_type": "markdown",
   "id": "f76fba97",
   "metadata": {},
   "source": [
    "Для проверки гипотезы о том, что количество обращений в техподдержку значимо снизилось после обновления серверов, можно использовать парный t-тест. Парный t-тест применяется, когда мы имеем два связанных набора данных (например, количество обращений каждого пользователя до и после обновления) и хотим определить, есть ли статистически значимые различия между этими наборами данных.\n",
    "\n",
    "В данном случае, для каждого пользователя у нас есть данные до и после обновления серверов, поэтому парный t-тест будет подходящим выбором для анализа изменений в количестве обращений в техподдержку.\n",
    "\n"
   ]
  },
  {
   "cell_type": "markdown",
   "id": "49a02b13",
   "metadata": {},
   "source": [
    "Ответ: Для проверки гипотезы о том, что количество обращений в техподдержку значимо изменилось после обновления серверов, необходимо использовать парный t-тест для зависимых выборок. \n",
    "\n",
    "Формулировка нулевой и альтернативной гипотез также верна:\n",
    "- H0: Среднее количество обращений до и после обновления серверов равны.\n",
    "- H1: Среднее количество обращений до и после обновления серверов отличаются.\n",
    "\n",
    "Использование метода scipy.stats.ttest_rel() для проведения парного t-теста согласуется с вашим ответом. Этот метод позволяет сравнивать средние значения двух связанных выборок и определять, есть ли статистически значимые различия между ними."
   ]
  },
  {
   "cell_type": "markdown",
   "id": "1c507e37",
   "metadata": {},
   "source": [
    "Ответ 2: Для проверки гипотезы о том, что количество обращений в техподдержку значимо снизилось после обновления серверов, будем проверять одностороннюю альтернативную гипотезу."
   ]
  },
  {
   "cell_type": "markdown",
   "id": "860cfe7c",
   "metadata": {},
   "source": [
    "Вывод по разделу: Проведенные статистические тесты показали, \n",
    "что пользователи с подпиской действительно тратят больше времени на поездки и приносят большую выручку,\n",
    "чем пользователи без подписки. \n",
    "Однако, среднее расстояние поездок пользователей с подпиской не превышает оптимальное значение для износа самоката.\n",
    "Для проверки изменений в количестве обращений в техподдержку после обновления серверов рекомендуется использовать парный t-тест для зависимых выборок."
   ]
  },
  {
   "cell_type": "markdown",
   "id": "61213c5e",
   "metadata": {},
   "source": [
    "#### Шаг 7. Распределения"
   ]
  },
  {
   "cell_type": "markdown",
   "id": "46edc9d9",
   "metadata": {},
   "source": [
    "##### 7.1 Отделу маркетинга GoFast поставили задачу: нужно провести акцию с раздачей промокодов на один бесплатный месяц подписки, в рамках которой как минимум 100 существующих клиентов должны продлить эту подписку. То есть по завершении периода действия подписки #пользователь может либо отказаться от неё, либо продлить, совершив соответствующий платёж. "
   ]
  },
  {
   "cell_type": "markdown",
   "id": "e69e0c89",
   "metadata": {},
   "source": [
    "#Эта акция уже проводилась ранее и по итогу выяснилось, что после бесплатного пробного периода подписку продлевают \n",
    "10\n",
    " \n",
    "%\n",
    "10 % пользователей. Выясните, какое минимальное количество промокодов нужно разослать, чтобы вероятность не выполнить план была примерно \n",
    "5\n",
    " \n",
    "%\n",
    "5 %. Подберите параметры распределения, описывающего эту ситуацию, постройте график распределения и сформулируйте ответ на вопрос о количестве промокодов."
   ]
  },
  {
   "cell_type": "code",
   "execution_count": 31,
   "id": "71a10e3d",
   "metadata": {},
   "outputs": [
    {
     "data": {
      "text/plain": [
       "'Минимальное количество промокодов, которое нужно разослать: 5.0'"
      ]
     },
     "metadata": {},
     "output_type": "display_data"
    },
    {
     "data": {
      "image/png": "[encoded data removed]",
      "text/plain": [
       "<Figure size 720x432 with 1 Axes>"
      ]
     },
     "metadata": {
      "needs_background": "light"
     },
     "output_type": "display_data"
    }
   ],
   "source": [
    "n = 100\n",
    "p = 0.1\n",
    "target_prob = 0.05\n",
    "\n",
    "k = st.binom.ppf(target_prob, n, p)\n",
    "display(f\"Минимальное количество промокодов, которое нужно разослать: {k}\")\n",
    "\n",
    "x = np.arange(0, n+1)\n",
    "y = stats.binom.pmf(x, n, p)\n",
    "\n",
    "plt.figure(figsize=(10, 6))\n",
    "plt.bar(x, y, color='b', alpha=0.7)\n",
    "plt.axvline(k, color='r', linestyle='--', label=f'Минимальное количество: {k}')\n",
    "plt.fill_between(x, y, where=(x <= k), color='skyblue', alpha=0.5)\n",
    "plt.title('Распределение биномиальной случайной величины')\n",
    "plt.xlabel('Количество промокодов')\n",
    "plt.ylabel('Вероятность')\n",
    "plt.legend()\n",
    "plt.grid(True)\n",
    "plt.show()"
   ]
  },
  {
   "cell_type": "markdown",
   "id": "4f8c3e83",
   "metadata": {},
   "source": [
    "Вывод: Для решения этой задачи мы можем использовать биномиальное распределение, так как каждый клиент может либо продлить подписку (с вероятностью 10%) либо отказаться от нее (с вероятностью 90%).\n",
    "\n",
    "Для того чтобы найти минимальное количество промокодов, которое нужно разослать, чтобы вероятность не выполнить план была примерно 5%, мы можем воспользоваться квантилью биномиального распределения.\n",
    "\n",
    "Давайте рассчитаем это значение: \n",
    "\n",
    "Пусть X - количество клиентов, продливших подписку из 100. Тогда X распределено биномиально с параметрами n=100 и p=0.1.\n",
    "\n",
    "Мы хотим найти такое k, что P(X < k) = 0.05. Это можно сделать с помощью функции scipy.stats.binom.ppf() \n",
    "\n",
    "Для того чтобы вероятность не выполнить план и не получить как минимум 100 продлений подписки составляла примерно 5%, необходимо разослать минимум 5 промокодов на бесплатный месяц подписки. "
   ]
  },
  {
   "cell_type": "markdown",
   "id": "2008e238",
   "metadata": {},
   "source": [
    "##### 7.2 Отдел маркетинга рассылает клиентам push-уведомления в мобильном приложении. Клиенты могут открыть его или не открывать. Известно, что уведомления открывают около 40% получивших клиентов. Отдел планирует разослать 1 млн уведомлений. С помощью аппроксимации постройте примерный график распределения и оцените вероятность того, что уведомление откроют не более  399,5 тыс. пользователей."
   ]
  },
  {
   "cell_type": "code",
   "execution_count": 32,
   "id": "9d1b4556",
   "metadata": {},
   "outputs": [
    {
     "data": {
      "text/plain": [
       "3.7416573867739413"
      ]
     },
     "metadata": {},
     "output_type": "display_data"
    },
    {
     "data": {
      "image/png": "[encoded data removed]",
      "text/plain": [
       "<Figure size 720x432 with 1 Axes>"
      ]
     },
     "metadata": {
      "needs_background": "light"
     },
     "output_type": "display_data"
    }
   ],
   "source": [
    "def norm(x):\n",
    "    return np.sqrt(np.sum(x**2))\n",
    "\n",
    "v = np.array([1, 2, 3])\n",
    "display(norm(v))\n",
    "\n",
    "n = 1000000   \n",
    "p = 0.4   \n",
    "\n",
    "mu = n * p\n",
    "sigma = np.sqrt(n * p * (1 - p))\n",
    "\n",
    "x = np.linspace(mu - 4*sigma, mu + 4*sigma, 1000)\n",
    "y = st.norm.pdf(x, mu, sigma)\n",
    "\n",
    "plt.figure(figsize=(10, 6))\n",
    "plt.plot(x, y, color='b')\n",
    "plt.fill_between(x, y, where=(x <= 399500), color='skyblue', alpha=0.5)\n",
    "plt.title('Распределение открытия уведомлений')\n",
    "plt.xlabel('Количество открытий')\n",
    "plt.ylabel('Плотность вероятности')\n",
    "plt.grid(True)\n",
    "plt.show()"
   ]
  },
  {
   "cell_type": "markdown",
   "id": "6919161a",
   "metadata": {},
   "source": [
    "Вывод: Для решения этой задачи мы можем воспользоваться нормальным распределением как аппроксимацией биномиального распределения при больших значениях n (количество испытаний) и вероятности успеха p (вероятность открытия уведомления).\n",
    "\n",
    "1. Сначала определим параметры нормального распределения: количество испытаний n = 1 млн и вероятность успеха p = 0.4.\n",
    "\n",
    "2. Затем построим график. На графике мы увидим форму распределения открытия уведомлений.\n",
    "\n",
    "3. Далее оценим вероятность того, что уведомление откроют не более 399.5 тыс. пользователей. Для этого используем функцию stats.norm.cdf, которая вычислит вероятность до указанного значения.\n",
    "\n",
    "4. Наконец, выведем результат на экран, чтобы увидеть вероятность открытия уведомления не более 399.5 тыс. пользователей.\n",
    "\n",
    "Таким образом, мы построим график и оценим вероятность открытия уведомления не более 399.5 тыс. пользователей с использованием аппроксимации нормальным распределением.\n",
    "Итог: оценочно вероятность того, что уведомление откроют не более 399,5 тыс. пользователей, составляет около 50%."
   ]
  },
  {
   "cell_type": "markdown",
   "id": "a4cf282f",
   "metadata": {},
   "source": [
    "Общий вывод по разделу : Для решения задачи оптимизации разосылки промокодов для увеличения вероятности продления подписки и оценки вероятности открытия уведомлений можно успешно применить биномиальное распределение и нормальное распределение соответственно. Подходы к вычислениям и аппроксимации позволяют эффективно оптимизировать процессы и принимать обоснованные решения на основе статистических методов."
   ]
  },
  {
   "cell_type": "markdown",
   "id": "85234a01",
   "metadata": {},
   "source": [
    "Вывод по всем разделам:\n",
    "    \n",
    "    Шаг 1. Загрузка данных: были загружены данные, которые позволяют анализировать активность пользователей, их поездки и использование различных типов подписок в сервисе.\n",
    "\n",
    "    Шаг 2. Предобработка данных: была успешно проведена обработка данных, включая приведение столбца с датами к типу данных datetime, создание нового столбца с номером месяца и удаление дубликатов из таблицы пользователей. Эти шаги позволят более точно анализировать данные и получать достоверные результаты.\n",
    "    \n",
    "    Шаг 3. Исследовательский анализ данных показал следующее: В данных города встречаются примерно одинаково часто.Из 1534 пользователей, 54% имеют бесплатную подписку (835 человек), а 46% - платную подписку Ultra (699 человек). Наиболее распространены возрастные категории пользователей от 20 до 30 лет, с пиком в 25 лет. Пользователи в возрасте от 15 до 35 лет составляют основную часть аудитории сервиса.Среднее расстояние, преодолеваемое пользователем за одну поездку, составляет около 3133 метра.Были удалены поездки с длительностью менее 1 минуты для исключения искажения статистики. Средняя продолжительность поездки составляет около 17 минут, а медианное значение равно примерно 17 минут.\n",
    "    \n",
    "    Шаг 4. Объединение данных позволил выявить следующее:Данные о пользователях, поездках и подписках были объединены в один датафрейм.Были созданы два датафрейма: один с информацией о пользователях без подписки, другой - о пользователях с подпиской.У пользователей с бесплатной подпиской наблюдаются более разнообразные значения дистанции поездок, в то время как пользователи с платной подпиской Ultra тратят чуть больше времени на поездку.\n",
    "    \n",
    "    Шаг 5. Подсчёт выручки: создали датафрейм с агрегированными данными о поездках, где для каждого пользователя за каждый месяц мы нашли суммарное расстояние, количество поездок и суммарное время. Также мы добавили столбец с помесячной выручкой, учитывая условия оплаты для подписчиков и тех, у кого нет подписки. Длительность каждой поездки была округлена до ближайшего целого числа.\n",
    "    \n",
    "    Шаг 6.  Для суммарной годовой выручки от пользователей тарифа \"Free\" и \"Ultra\" мы получили следующие значения: 2,228,594 и 1,644,537 соответственно. Это позволило нам сделать вывод о том, что средняя выручка от пользователей тарифа \"Free\" выше, чем от пользователей тарифа \"Ultra\".\n",
    "    По результатам анализа среднемесячной выручки для среднего пользователя на тарифах \"Free\" и \"Ultra\" (329.33 и 362.79 соответственно) мы пришли к выводу, что пользователи тарифа \"Ultra\" в среднем приносят больше выручки, чем пользователи тарифа \"Free\".\n",
    "    В случае с продолжительностью звонков, мы отвергли нулевую гипотезу о равенстве средних значений между пользователями тарифов \"Free\" и \"Ultra\", и приняли альтернативную гипотезу о том, что средняя продолжительность звонков у пользователей тарифа \"Ultra\" больше.\n",
    "    Однако, при анализе расстояния, которое проезжают пользователи за одну поездку, мы не обнаружили статистически значимого различия между пользователями тарифов \"Free\" и \"Ultra\".\n",
    "    \n",
    "    Шаг 7. Распределения: Для решения задачи определения минимального количества промокодов, которое нужно разослать, чтобы вероятность не выполнить план была примерно 5%, мы использовали биномиальное распределение. После нахождения оптимального значения промокодов.Выявлено, что вероятность получить менее 100 продлений при раздаче 5 промокодов составляет около 5%.\n",
    "    Также, была построена аппроксимация нормальным распределением для количества открытий уведомлений. Заданы параметры: 1 млн. уведомлений и вероятность открытия 40%. Рассчитаны математическое ожидание и стандартное отклонение для нормального распределения. Построен график, на котором показано распределение открытий уведомлений, а также выделена область, соответствующая вероятности того, что уведомление откроют не более 399,5 тыс. пользователей. Итог: оценочно вероятность того, что уведомление откроют не более 399,5 тыс. пользователей, составляет около 50%.\n",
    "    \n",
    "    Финальный вывод: На основе проведенного анализа можно сделать вывод о необходимости учета типов подписок и поведения пользователей для оптимизации работы сервиса и увеличения выручки. Дополнительные исследования и тестирования могут помочь улучшить сервис и привлечь новых пользователей. Обратите внимание на то, что среднемесячная выручка на тарифе \"Ultra\" выше, чем на тарифе \"Free\", что может указывать на готовность пользователей тарифа \"Ultra\" платить больше за услуги. Рассмотрите возможность расширения услуг на тарифе \"Ultra\" или предложения дополнительных пакетов услуг для увеличения выручки от этого тарифа. Также можно рассмотреть увеличение выручки от тарифа \"Free\" за счет привлечения большего числа пользователей через рекламные кампании, специальные предложения или дополнительные услуги.учитывая, что вероятность получить менее 100 продлений при раздаче 5 промокодов составляет около 5%, рекомендуется увеличить количество раздаваемых промокодов для повышения вероятности выполнения плана. \n",
    "Также, учитывая оценочную вероятность того, что уведомление откроют не более 399,5 тыс. пользователей, которая составляет около 50%, можно попробовать оптимизировать содержание уведомлений или способы их доставки, чтобы увеличить количество открывающих и повысить эффективность кампании.Так же стоит провести более детальный анализ по выручке или других метрик по отношению к городу, возрасту потребителей. Все данные стоит сравнить с показателями конкурентов. Обратить внимание на проводимые ими маркетинговые компании."
   ]
  },
  {
   "cell_type": "markdown",
   "id": "f6d5b8e5",
   "metadata": {},
   "source": [
    "#### Бонус"
   ]
  },
  {
   "cell_type": "markdown",
   "id": "8d7b2524",
   "metadata": {},
   "source": [
    "##### Задача 7.1 — декомпозиция\n",
    "\n",
    "+ Отделу маркетинга GoFast поставили задачу: нужно провести акцию с раздачей промокодов на один бесплатный месяц подписки, в рамках которой как минимум 100 существующих клиентов должны продлить эту подписку. \n",
    "\n",
    "+ То есть по завершении периода действия подписки пользователь может либо отказаться от неё, либо продлить, совершив соответствующий платёж. \n",
    "\n",
    "+ Эта акция уже проводилась ранее и по итогу выяснилось, что после бесплатного пробного периода подписку продлевают 10 % пользователей. \n",
    "\n",
    "+ Выясните, какое минимальное количество промокодов нужно разослать, чтобы вероятность не выполнить план была примерно 5 %. \n",
    "\n",
    "+ Подберите параметры распределения, описывающего эту ситуацию, постройте график распределения и сформулируйте ответ на вопрос о количестве промокодов."
   ]
  },
  {
   "cell_type": "markdown",
   "id": "6cf04a2c",
   "metadata": {},
   "source": [
    "+ 100 существующих клиентов должны продлить эту подписку.\n",
    " + т.е. мы ищем х - кол-во промокодов, которое мы раздадим, чтобы сохранить 100 клиентов"
   ]
  },
  {
   "cell_type": "markdown",
   "id": "1dc5b28b",
   "metadata": {},
   "source": [
    "+ может либо отказаться от неё, либо продлить\n",
    " + т.е. два исхода"
   ]
  },
  {
   "cell_type": "markdown",
   "id": "8a35567b",
   "metadata": {},
   "source": [
    "+ подписку продлевают 10 % пользователей\n",
    " + т.е. из кол-ва Х, которое мы найдем и по которому разошлем промокоды, полагаясь на предыдущий опыт, продлят подписку 10%"
   ]
  },
  {
   "cell_type": "markdown",
   "id": "c51de626",
   "metadata": {},
   "source": [
    "+ вероятность не выполнить план была примерно 5 %\n",
    " + т.е. мы должны найти вероятность успеха нашей акции 1-0,05 = 95%\n",
    " + этот план будет иметь свою вероятность исполнения при разном кол-ве Х, т.е. если мы выберем Х = 1000, вероятность успеха будет равна А, при 2000 промокодах, вероятность будет равна В. Но, увеличивая кол-во промокодов, мы увеличиваем трудозатраты ... По этой причине нас устроит вероятность успеха 95%, для которой и предстоит рассчитать кол-во промокодов Х"
   ]
  },
  {
   "cell_type": "markdown",
   "id": "30402874",
   "metadata": {},
   "source": [
    "Получается задача делиться на две части\n",
    "\n",
    "+ число положительных исходов должно быть равно 100-ам\n",
    "\n",
    "+ но вероятность такого события должна быть равна 95% \n",
    "\n"
   ]
  },
  {
   "cell_type": "code",
   "execution_count": 33,
   "id": "ae7705b3",
   "metadata": {},
   "outputs": [
    {
     "name": "stdout",
     "output_type": "stream",
     "text": [
      "i: (1, 100)\tprobability: 1.0\n",
      "i: (2, 200)\tprobability: 1.0\n",
      "i: (3, 300)\tprobability: 1.0\n",
      "i: (4, 400)\tprobability: 1.0\n",
      "i: (5, 500)\tprobability: 1.0\n",
      "i: (6, 600)\tprobability: 1.0\n",
      "i: (7, 700)\tprobability: 1.0\n",
      "i: (8, 800)\tprobability: 0.987\n",
      "i: (9, 900)\tprobability: 0.854\n",
      "i: (10, 1000)\tprobability: 0.485\n",
      "i: (11, 1100)\tprobability: 0.145\n",
      "i: (12, 1200)\tprobability: 0.022\n"
     ]
    }
   ],
   "source": [
    "for i in range (1, 13):\n",
    "    trials = 100 * i\n",
    "    print(f\"i: {i, trials}\\tprobability: {(st.binom.cdf(99, trials, 0.1)).round(3)}\")"
   ]
  },
  {
   "cell_type": "code",
   "execution_count": 34,
   "id": "22307b27",
   "metadata": {
    "scrolled": false
   },
   "outputs": [
    {
     "name": "stdout",
     "output_type": "stream",
     "text": [
      "i: (1, 100)\ttarget_probability: 0.0\n",
      "i: (2, 200)\ttarget_probability: 0.0\n",
      "i: (3, 300)\ttarget_probability: 0.0\n",
      "i: (4, 400)\ttarget_probability: 0.0\n",
      "i: (5, 500)\ttarget_probability: 0.0\n",
      "i: (6, 600)\ttarget_probability: 0.0\n",
      "i: (7, 700)\ttarget_probability: 0.0\n",
      "i: (8, 800)\ttarget_probability: 0.013\n",
      "i: (9, 900)\ttarget_probability: 0.146\n",
      "i: (10, 1000)\ttarget_probability: 0.515\n",
      "i: (11, 1100)\ttarget_probability: 0.855\n",
      "i: (12, 1200)\ttarget_probability: 0.978\n",
      "i: (13, 1161)\ttarget_probability: 0.95\n"
     ]
    }
   ],
   "source": [
    "for i in range (1, 13):\n",
    "    trials = 100 * i\n",
    "    print(f\"i: {i, trials}\\ttarget_probability: {(1 - st.binom.cdf(99, trials, 0.1)).round(3)}\");    \n",
    "   \n",
    "print(f\"i: {13, 1161}\\ttarget_probability: {(1 - st.binom.cdf(99, 1161, 0.1)).round(3)}\")"
   ]
  },
  {
   "cell_type": "code",
   "execution_count": 35,
   "id": "70d05d8b",
   "metadata": {},
   "outputs": [],
   "source": [
    "dfg1 = pd.DataFrame(\n",
    "    {\n",
    "        \"A\": [\"A0\", \"A1\", \"A2\", \"A3\"],\n",
    "        \"B\": [\"B0\", \"B1\", \"B2\", \"B3\"],\n",
    "        \"C\": [\"C0\", \"C1\", \"C2\", \"C3\"],\n",
    "        \"D\": [\"D0\", \"D1\", \"D2\", \"D3\"],\n",
    "    },\n",
    "    index=[0, 1, 2, 3],\n",
    ")\n",
    "\n",
    "dfr4 = pd.DataFrame(\n",
    "    {\n",
    "        \"B\": [\"B2\", \"B3\", \"B6\", \"B7\"],\n",
    "        \"D\": [\"D2\", \"D3\", \"D6\", \"D7\"],\n",
    "        \"F\": [\"F2\", \"F3\", \"F6\", \"F7\"],\n",
    "        \"E\": [np.nan, np.nan, np.nan, np.nan]\n",
    "    },\n",
    "    index=[2, 3, 6, 0],\n",
    ")"
   ]
  },
  {
   "cell_type": "code",
   "execution_count": 36,
   "id": "3148a2c6",
   "metadata": {
    "scrolled": true
   },
   "outputs": [
    {
     "data": {
      "text/html": [
       "<div>\n",
       "<style scoped>\n",
       "    .dataframe tbody tr th:only-of-type {\n",
       "        vertical-align: middle;\n",
       "    }\n",
       "\n",
       "    .dataframe tbody tr th {\n",
       "        vertical-align: top;\n",
       "    }\n",
       "\n",
       "    .dataframe thead th {\n",
       "        text-align: right;\n",
       "    }\n",
       "</style>\n",
       "<table border=\"1\" class=\"dataframe\">\n",
       "  <thead>\n",
       "    <tr style=\"text-align: right;\">\n",
       "      <th></th>\n",
       "      <th>A</th>\n",
       "      <th>B</th>\n",
       "      <th>C</th>\n",
       "      <th>D</th>\n",
       "    </tr>\n",
       "  </thead>\n",
       "  <tbody>\n",
       "    <tr>\n",
       "      <th>0</th>\n",
       "      <td>A0</td>\n",
       "      <td>B0</td>\n",
       "      <td>C0</td>\n",
       "      <td>D0</td>\n",
       "    </tr>\n",
       "    <tr>\n",
       "      <th>1</th>\n",
       "      <td>A1</td>\n",
       "      <td>B1</td>\n",
       "      <td>C1</td>\n",
       "      <td>D1</td>\n",
       "    </tr>\n",
       "    <tr>\n",
       "      <th>2</th>\n",
       "      <td>A2</td>\n",
       "      <td>B2</td>\n",
       "      <td>C2</td>\n",
       "      <td>D2</td>\n",
       "    </tr>\n",
       "    <tr>\n",
       "      <th>3</th>\n",
       "      <td>A3</td>\n",
       "      <td>B3</td>\n",
       "      <td>C3</td>\n",
       "      <td>D3</td>\n",
       "    </tr>\n",
       "  </tbody>\n",
       "</table>\n",
       "</div>"
      ],
      "text/plain": [
       "    A   B   C   D\n",
       "0  A0  B0  C0  D0\n",
       "1  A1  B1  C1  D1\n",
       "2  A2  B2  C2  D2\n",
       "3  A3  B3  C3  D3"
      ]
     },
     "metadata": {},
     "output_type": "display_data"
    },
    {
     "data": {
      "text/html": [
       "<div>\n",
       "<style scoped>\n",
       "    .dataframe tbody tr th:only-of-type {\n",
       "        vertical-align: middle;\n",
       "    }\n",
       "\n",
       "    .dataframe tbody tr th {\n",
       "        vertical-align: top;\n",
       "    }\n",
       "\n",
       "    .dataframe thead th {\n",
       "        text-align: right;\n",
       "    }\n",
       "</style>\n",
       "<table border=\"1\" class=\"dataframe\">\n",
       "  <thead>\n",
       "    <tr style=\"text-align: right;\">\n",
       "      <th></th>\n",
       "      <th>B</th>\n",
       "      <th>D</th>\n",
       "      <th>F</th>\n",
       "      <th>E</th>\n",
       "    </tr>\n",
       "  </thead>\n",
       "  <tbody>\n",
       "    <tr>\n",
       "      <th>2</th>\n",
       "      <td>B2</td>\n",
       "      <td>D2</td>\n",
       "      <td>F2</td>\n",
       "      <td>NaN</td>\n",
       "    </tr>\n",
       "    <tr>\n",
       "      <th>3</th>\n",
       "      <td>B3</td>\n",
       "      <td>D3</td>\n",
       "      <td>F3</td>\n",
       "      <td>NaN</td>\n",
       "    </tr>\n",
       "    <tr>\n",
       "      <th>6</th>\n",
       "      <td>B6</td>\n",
       "      <td>D6</td>\n",
       "      <td>F6</td>\n",
       "      <td>NaN</td>\n",
       "    </tr>\n",
       "    <tr>\n",
       "      <th>0</th>\n",
       "      <td>B7</td>\n",
       "      <td>D7</td>\n",
       "      <td>F7</td>\n",
       "      <td>NaN</td>\n",
       "    </tr>\n",
       "  </tbody>\n",
       "</table>\n",
       "</div>"
      ],
      "text/plain": [
       "    B   D   F   E\n",
       "2  B2  D2  F2 NaN\n",
       "3  B3  D3  F3 NaN\n",
       "6  B6  D6  F6 NaN\n",
       "0  B7  D7  F7 NaN"
      ]
     },
     "metadata": {},
     "output_type": "display_data"
    }
   ],
   "source": [
    "display(dfg1, dfr4)"
   ]
  },
  {
   "cell_type": "code",
   "execution_count": 37,
   "id": "11f9daeb",
   "metadata": {},
   "outputs": [
    {
     "data": {
      "text/html": [
       "<div>\n",
       "<style scoped>\n",
       "    .dataframe tbody tr th:only-of-type {\n",
       "        vertical-align: middle;\n",
       "    }\n",
       "\n",
       "    .dataframe tbody tr th {\n",
       "        vertical-align: top;\n",
       "    }\n",
       "\n",
       "    .dataframe thead th {\n",
       "        text-align: right;\n",
       "    }\n",
       "</style>\n",
       "<table border=\"1\" class=\"dataframe\">\n",
       "  <thead>\n",
       "    <tr style=\"text-align: right;\">\n",
       "      <th></th>\n",
       "      <th>key_0</th>\n",
       "      <th>A</th>\n",
       "      <th>B_x</th>\n",
       "      <th>C</th>\n",
       "      <th>D_x</th>\n",
       "      <th>B_y</th>\n",
       "      <th>D_y</th>\n",
       "      <th>F</th>\n",
       "      <th>E</th>\n",
       "    </tr>\n",
       "  </thead>\n",
       "  <tbody>\n",
       "    <tr>\n",
       "      <th>0</th>\n",
       "      <td>0</td>\n",
       "      <td>A0</td>\n",
       "      <td>B0</td>\n",
       "      <td>C0</td>\n",
       "      <td>D0</td>\n",
       "      <td>B7</td>\n",
       "      <td>D7</td>\n",
       "      <td>F7</td>\n",
       "      <td>NaN</td>\n",
       "    </tr>\n",
       "    <tr>\n",
       "      <th>1</th>\n",
       "      <td>1</td>\n",
       "      <td>A1</td>\n",
       "      <td>B1</td>\n",
       "      <td>C1</td>\n",
       "      <td>D1</td>\n",
       "      <td>NaN</td>\n",
       "      <td>NaN</td>\n",
       "      <td>NaN</td>\n",
       "      <td>NaN</td>\n",
       "    </tr>\n",
       "    <tr>\n",
       "      <th>2</th>\n",
       "      <td>2</td>\n",
       "      <td>A2</td>\n",
       "      <td>B2</td>\n",
       "      <td>C2</td>\n",
       "      <td>D2</td>\n",
       "      <td>B2</td>\n",
       "      <td>D2</td>\n",
       "      <td>F2</td>\n",
       "      <td>NaN</td>\n",
       "    </tr>\n",
       "    <tr>\n",
       "      <th>3</th>\n",
       "      <td>3</td>\n",
       "      <td>A3</td>\n",
       "      <td>B3</td>\n",
       "      <td>C3</td>\n",
       "      <td>D3</td>\n",
       "      <td>B3</td>\n",
       "      <td>D3</td>\n",
       "      <td>F3</td>\n",
       "      <td>NaN</td>\n",
       "    </tr>\n",
       "    <tr>\n",
       "      <th>4</th>\n",
       "      <td>6</td>\n",
       "      <td>NaN</td>\n",
       "      <td>NaN</td>\n",
       "      <td>NaN</td>\n",
       "      <td>NaN</td>\n",
       "      <td>B6</td>\n",
       "      <td>D6</td>\n",
       "      <td>F6</td>\n",
       "      <td>NaN</td>\n",
       "    </tr>\n",
       "  </tbody>\n",
       "</table>\n",
       "</div>"
      ],
      "text/plain": [
       "   key_0    A  B_x    C  D_x  B_y  D_y    F   E\n",
       "0      0   A0   B0   C0   D0   B7   D7   F7 NaN\n",
       "1      1   A1   B1   C1   D1  NaN  NaN  NaN NaN\n",
       "2      2   A2   B2   C2   D2   B2   D2   F2 NaN\n",
       "3      3   A3   B3   C3   D3   B3   D3   F3 NaN\n",
       "4      6  NaN  NaN  NaN  NaN   B6   D6   F6 NaN"
      ]
     },
     "execution_count": 37,
     "metadata": {},
     "output_type": "execute_result"
    }
   ],
   "source": [
    "dfg1.merge(dfr4, left_on=dfg1.index, right_on=dfr4.index, how='outer')"
   ]
  },
  {
   "cell_type": "code",
   "execution_count": 38,
   "id": "2553e0c5",
   "metadata": {
    "scrolled": true
   },
   "outputs": [
    {
     "data": {
      "text/html": [
       "<div>\n",
       "<style scoped>\n",
       "    .dataframe tbody tr th:only-of-type {\n",
       "        vertical-align: middle;\n",
       "    }\n",
       "\n",
       "    .dataframe tbody tr th {\n",
       "        vertical-align: top;\n",
       "    }\n",
       "\n",
       "    .dataframe thead th {\n",
       "        text-align: right;\n",
       "    }\n",
       "</style>\n",
       "<table border=\"1\" class=\"dataframe\">\n",
       "  <thead>\n",
       "    <tr style=\"text-align: right;\">\n",
       "      <th></th>\n",
       "      <th>A</th>\n",
       "      <th>B</th>\n",
       "      <th>C</th>\n",
       "      <th>D</th>\n",
       "      <th>F</th>\n",
       "      <th>E</th>\n",
       "    </tr>\n",
       "  </thead>\n",
       "  <tbody>\n",
       "    <tr>\n",
       "      <th>0</th>\n",
       "      <td>A0</td>\n",
       "      <td>B0</td>\n",
       "      <td>C0</td>\n",
       "      <td>D0</td>\n",
       "      <td>NaN</td>\n",
       "      <td>NaN</td>\n",
       "    </tr>\n",
       "    <tr>\n",
       "      <th>1</th>\n",
       "      <td>A1</td>\n",
       "      <td>B1</td>\n",
       "      <td>C1</td>\n",
       "      <td>D1</td>\n",
       "      <td>NaN</td>\n",
       "      <td>NaN</td>\n",
       "    </tr>\n",
       "    <tr>\n",
       "      <th>2</th>\n",
       "      <td>A2</td>\n",
       "      <td>B2</td>\n",
       "      <td>C2</td>\n",
       "      <td>D2</td>\n",
       "      <td>F2</td>\n",
       "      <td>NaN</td>\n",
       "    </tr>\n",
       "    <tr>\n",
       "      <th>3</th>\n",
       "      <td>A3</td>\n",
       "      <td>B3</td>\n",
       "      <td>C3</td>\n",
       "      <td>D3</td>\n",
       "      <td>F3</td>\n",
       "      <td>NaN</td>\n",
       "    </tr>\n",
       "    <tr>\n",
       "      <th>4</th>\n",
       "      <td>NaN</td>\n",
       "      <td>B6</td>\n",
       "      <td>NaN</td>\n",
       "      <td>D6</td>\n",
       "      <td>F6</td>\n",
       "      <td>NaN</td>\n",
       "    </tr>\n",
       "    <tr>\n",
       "      <th>5</th>\n",
       "      <td>NaN</td>\n",
       "      <td>B7</td>\n",
       "      <td>NaN</td>\n",
       "      <td>D7</td>\n",
       "      <td>F7</td>\n",
       "      <td>NaN</td>\n",
       "    </tr>\n",
       "  </tbody>\n",
       "</table>\n",
       "</div>"
      ],
      "text/plain": [
       "     A   B    C   D    F   E\n",
       "0   A0  B0   C0  D0  NaN NaN\n",
       "1   A1  B1   C1  D1  NaN NaN\n",
       "2   A2  B2   C2  D2   F2 NaN\n",
       "3   A3  B3   C3  D3   F3 NaN\n",
       "4  NaN  B6  NaN  D6   F6 NaN\n",
       "5  NaN  B7  NaN  D7   F7 NaN"
      ]
     },
     "execution_count": 38,
     "metadata": {},
     "output_type": "execute_result"
    }
   ],
   "source": [
    "dfg1.merge(dfr4, 'outer')"
   ]
  },
  {
   "cell_type": "code",
   "execution_count": 39,
   "id": "e9005896",
   "metadata": {
    "scrolled": false
   },
   "outputs": [
    {
     "data": {
      "text/html": [
       "<div>\n",
       "<style scoped>\n",
       "    .dataframe tbody tr th:only-of-type {\n",
       "        vertical-align: middle;\n",
       "    }\n",
       "\n",
       "    .dataframe tbody tr th {\n",
       "        vertical-align: top;\n",
       "    }\n",
       "\n",
       "    .dataframe thead th {\n",
       "        text-align: right;\n",
       "    }\n",
       "</style>\n",
       "<table border=\"1\" class=\"dataframe\">\n",
       "  <thead>\n",
       "    <tr style=\"text-align: right;\">\n",
       "      <th></th>\n",
       "      <th>A</th>\n",
       "      <th>B</th>\n",
       "      <th>C</th>\n",
       "      <th>D</th>\n",
       "      <th>F</th>\n",
       "      <th>E</th>\n",
       "    </tr>\n",
       "  </thead>\n",
       "  <tbody>\n",
       "    <tr>\n",
       "      <th>0</th>\n",
       "      <td>A2</td>\n",
       "      <td>B2</td>\n",
       "      <td>C2</td>\n",
       "      <td>D2</td>\n",
       "      <td>F2</td>\n",
       "      <td>NaN</td>\n",
       "    </tr>\n",
       "    <tr>\n",
       "      <th>1</th>\n",
       "      <td>A3</td>\n",
       "      <td>B3</td>\n",
       "      <td>C3</td>\n",
       "      <td>D3</td>\n",
       "      <td>F3</td>\n",
       "      <td>NaN</td>\n",
       "    </tr>\n",
       "  </tbody>\n",
       "</table>\n",
       "</div>"
      ],
      "text/plain": [
       "    A   B   C   D   F   E\n",
       "0  A2  B2  C2  D2  F2 NaN\n",
       "1  A3  B3  C3  D3  F3 NaN"
      ]
     },
     "execution_count": 39,
     "metadata": {},
     "output_type": "execute_result"
    }
   ],
   "source": [
    "dfg1.merge(dfr4)"
   ]
  },
  {
   "cell_type": "code",
   "execution_count": 40,
   "id": "35709927",
   "metadata": {},
   "outputs": [
    {
     "data": {
      "text/html": [
       "<div>\n",
       "<style scoped>\n",
       "    .dataframe tbody tr th:only-of-type {\n",
       "        vertical-align: middle;\n",
       "    }\n",
       "\n",
       "    .dataframe tbody tr th {\n",
       "        vertical-align: top;\n",
       "    }\n",
       "\n",
       "    .dataframe thead th {\n",
       "        text-align: right;\n",
       "    }\n",
       "</style>\n",
       "<table border=\"1\" class=\"dataframe\">\n",
       "  <thead>\n",
       "    <tr style=\"text-align: right;\">\n",
       "      <th></th>\n",
       "      <th>A</th>\n",
       "      <th>B</th>\n",
       "      <th>C</th>\n",
       "      <th>D</th>\n",
       "      <th>F</th>\n",
       "      <th>E</th>\n",
       "    </tr>\n",
       "  </thead>\n",
       "  <tbody>\n",
       "    <tr>\n",
       "      <th>0</th>\n",
       "      <td>A2</td>\n",
       "      <td>B2</td>\n",
       "      <td>C2</td>\n",
       "      <td>D2</td>\n",
       "      <td>F2</td>\n",
       "      <td>NaN</td>\n",
       "    </tr>\n",
       "    <tr>\n",
       "      <th>1</th>\n",
       "      <td>A3</td>\n",
       "      <td>B3</td>\n",
       "      <td>C3</td>\n",
       "      <td>D3</td>\n",
       "      <td>F3</td>\n",
       "      <td>NaN</td>\n",
       "    </tr>\n",
       "  </tbody>\n",
       "</table>\n",
       "</div>"
      ],
      "text/plain": [
       "    A   B   C   D   F   E\n",
       "0  A2  B2  C2  D2  F2 NaN\n",
       "1  A3  B3  C3  D3  F3 NaN"
      ]
     },
     "execution_count": 40,
     "metadata": {},
     "output_type": "execute_result"
    }
   ],
   "source": [
    "dfg1.merge(dfr4, 'inner')"
   ]
  },
  {
   "cell_type": "markdown",
   "id": "0476178d",
   "metadata": {},
   "source": [
    "##### check"
   ]
  },
  {
   "cell_type": "code",
   "execution_count": 41,
   "id": "53a150b2",
   "metadata": {
    "scrolled": false
   },
   "outputs": [
    {
     "data": {
      "text/plain": [
       "Index(['distance', 'duration', 'count_tips', 'subscription_type', 'base_fee',\n",
       "       'per_hour_rate', 'tips_rate', 'revenue'],\n",
       "      dtype='object')"
      ]
     },
     "execution_count": 41,
     "metadata": {},
     "output_type": "execute_result"
    }
   ],
   "source": [
    "total_data.columns"
   ]
  },
  {
   "cell_type": "code",
   "execution_count": 42,
   "id": "f5192117",
   "metadata": {},
   "outputs": [],
   "source": [
    "dfg_first = total_data.copy()"
   ]
  },
  {
   "cell_type": "code",
   "execution_count": 43,
   "id": "521dcef2",
   "metadata": {},
   "outputs": [],
   "source": [
    "x = 'subscription_type'\n",
    "y = 'revenue'"
   ]
  },
  {
   "cell_type": "code",
   "execution_count": 44,
   "id": "2bb80d0b",
   "metadata": {},
   "outputs": [
    {
     "data": {
      "text/html": [
       "<div>\n",
       "<style scoped>\n",
       "    .dataframe tbody tr th:only-of-type {\n",
       "        vertical-align: middle;\n",
       "    }\n",
       "\n",
       "    .dataframe tbody tr th {\n",
       "        vertical-align: top;\n",
       "    }\n",
       "\n",
       "    .dataframe thead th {\n",
       "        text-align: right;\n",
       "    }\n",
       "</style>\n",
       "<table border=\"1\" class=\"dataframe\">\n",
       "  <thead>\n",
       "    <tr style=\"text-align: right;\">\n",
       "      <th></th>\n",
       "      <th>revenue</th>\n",
       "    </tr>\n",
       "    <tr>\n",
       "      <th>subscription_type</th>\n",
       "      <th></th>\n",
       "    </tr>\n",
       "  </thead>\n",
       "  <tbody>\n",
       "    <tr>\n",
       "      <th>free</th>\n",
       "      <td>329.3</td>\n",
       "    </tr>\n",
       "    <tr>\n",
       "      <th>ultra</th>\n",
       "      <td>362.8</td>\n",
       "    </tr>\n",
       "  </tbody>\n",
       "</table>\n",
       "</div>"
      ],
      "text/plain": [
       "                   revenue\n",
       "subscription_type         \n",
       "free                 329.3\n",
       "ultra                362.8"
      ]
     },
     "execution_count": 44,
     "metadata": {},
     "output_type": "execute_result"
    }
   ],
   "source": [
    "dfg_first.groupby(x)[y].mean().round(1).to_frame()"
   ]
  },
  {
   "cell_type": "code",
   "execution_count": 45,
   "id": "46e7e890",
   "metadata": {},
   "outputs": [
    {
     "data": {
      "image/png": "[encoded data removed]",
      "text/plain": [
       "<Figure size 1080x216 with 1 Axes>"
      ]
     },
     "metadata": {
      "needs_background": "light"
     },
     "output_type": "display_data"
    }
   ],
   "source": [
    "dfg_first.groupby(x)[y].hist(bins=200, figsize=(15,3), legend=True)\n",
    "plt.title('Гистограммы ежесячной выручки двух групп пользователей')\n",
    "plt.xlabel('руб.')\n",
    "plt.ylabel('кол-во');"
   ]
  },
  {
   "cell_type": "code",
   "execution_count": 46,
   "id": "f86a3c03",
   "metadata": {},
   "outputs": [],
   "source": [
    "# копируем таблицу\n",
    "dfg = dfg_first.copy()\n"
   ]
  },
  {
   "cell_type": "code",
   "execution_count": 47,
   "id": "574d11b3",
   "metadata": {},
   "outputs": [
    {
     "name": "stdout",
     "output_type": "stream",
     "text": [
      "<class 'pandas.core.frame.DataFrame'>\n",
      "MultiIndex: 11300 entries, (1, 1) to (12, 1534)\n",
      "Data columns (total 8 columns):\n",
      " #   Column             Non-Null Count  Dtype  \n",
      "---  ------             --------------  -----  \n",
      " 0   distance           11300 non-null  float64\n",
      " 1   duration           11300 non-null  float64\n",
      " 2   count_tips         11300 non-null  int64  \n",
      " 3   subscription_type  11300 non-null  object \n",
      " 4   base_fee           11300 non-null  int64  \n",
      " 5   per_hour_rate      11300 non-null  int64  \n",
      " 6   tips_rate          11300 non-null  int64  \n",
      " 7   revenue            11300 non-null  float64\n",
      "dtypes: float64(3), int64(4), object(1)\n",
      "memory usage: 751.8+ KB\n"
     ]
    }
   ],
   "source": [
    "dfg.info()"
   ]
  },
  {
   "cell_type": "code",
   "execution_count": 48,
   "id": "782ba3a3",
   "metadata": {},
   "outputs": [],
   "source": [
    "# удаляем данные, 20%\n",
    "for col in dfg.columns:\n",
    "    dfg.loc[dfg.sample(frac=0.2).index, col] = np.nan"
   ]
  },
  {
   "cell_type": "code",
   "execution_count": 49,
   "id": "d3571819",
   "metadata": {},
   "outputs": [
    {
     "name": "stdout",
     "output_type": "stream",
     "text": [
      "<class 'pandas.core.frame.DataFrame'>\n",
      "MultiIndex: 11300 entries, (1, 1) to (12, 1534)\n",
      "Data columns (total 8 columns):\n",
      " #   Column             Non-Null Count  Dtype  \n",
      "---  ------             --------------  -----  \n",
      " 0   distance           9040 non-null   float64\n",
      " 1   duration           9040 non-null   float64\n",
      " 2   count_tips         9040 non-null   float64\n",
      " 3   subscription_type  9040 non-null   object \n",
      " 4   base_fee           9040 non-null   float64\n",
      " 5   per_hour_rate      9040 non-null   float64\n",
      " 6   tips_rate          9040 non-null   float64\n",
      " 7   revenue            9040 non-null   float64\n",
      "dtypes: float64(7), object(1)\n",
      "memory usage: 1.0+ MB\n"
     ]
    }
   ],
   "source": [
    "dfg.info()"
   ]
  },
  {
   "cell_type": "code",
   "execution_count": 50,
   "id": "7ff319c8",
   "metadata": {},
   "outputs": [
    {
     "data": {
      "text/html": [
       "<div>\n",
       "<style scoped>\n",
       "    .dataframe tbody tr th:only-of-type {\n",
       "        vertical-align: middle;\n",
       "    }\n",
       "\n",
       "    .dataframe tbody tr th {\n",
       "        vertical-align: top;\n",
       "    }\n",
       "\n",
       "    .dataframe thead th {\n",
       "        text-align: right;\n",
       "    }\n",
       "</style>\n",
       "<table border=\"1\" class=\"dataframe\">\n",
       "  <thead>\n",
       "    <tr style=\"text-align: right;\">\n",
       "      <th></th>\n",
       "      <th>revenue</th>\n",
       "    </tr>\n",
       "    <tr>\n",
       "      <th>subscription_type</th>\n",
       "      <th></th>\n",
       "    </tr>\n",
       "  </thead>\n",
       "  <tbody>\n",
       "    <tr>\n",
       "      <th>free</th>\n",
       "      <td>328.8</td>\n",
       "    </tr>\n",
       "    <tr>\n",
       "      <th>ultra</th>\n",
       "      <td>363.6</td>\n",
       "    </tr>\n",
       "  </tbody>\n",
       "</table>\n",
       "</div>"
      ],
      "text/plain": [
       "                   revenue\n",
       "subscription_type         \n",
       "free                 328.8\n",
       "ultra                363.6"
      ]
     },
     "execution_count": 50,
     "metadata": {},
     "output_type": "execute_result"
    }
   ],
   "source": [
    "dfg.groupby(x)[y].mean().round(1).to_frame()"
   ]
  },
  {
   "cell_type": "code",
   "execution_count": 51,
   "id": "9867f8a1",
   "metadata": {
    "scrolled": false
   },
   "outputs": [
    {
     "data": {
      "image/png": "[encoded data removed]",
      "text/plain": [
       "<Figure size 1080x216 with 1 Axes>"
      ]
     },
     "metadata": {
      "needs_background": "light"
     },
     "output_type": "display_data"
    }
   ],
   "source": [
    "dfg.groupby(x)[y].hist(bins=200, figsize=(15,3), legend=True)\n",
    "plt.title('Гистограммы ежесячной выручки двух групп пользователей')\n",
    "plt.xlabel('руб.')\n",
    "plt.ylabel('кол-во');"
   ]
  }
 ],
 "metadata": {
  "ExecuteTimeLog": [
   {
    "duration": 46,
    "start_time": "2024-03-03T14:43:24.074Z"
   },
   {
    "duration": 416,
    "start_time": "2024-03-03T14:43:28.501Z"
   },
   {
    "duration": 183,
    "start_time": "2024-03-03T14:43:29.064Z"
   },
   {
    "duration": 12,
    "start_time": "2024-03-03T14:43:29.397Z"
   },
   {
    "duration": 21,
    "start_time": "2024-03-03T14:44:02.512Z"
   },
   {
    "duration": 9,
    "start_time": "2024-03-03T14:44:24.614Z"
   },
   {
    "duration": 73,
    "start_time": "2024-03-03T14:50:49.405Z"
   },
   {
    "duration": 372,
    "start_time": "2024-03-03T14:52:06.679Z"
   },
   {
    "duration": 64,
    "start_time": "2024-03-03T14:52:07.053Z"
   },
   {
    "duration": 12,
    "start_time": "2024-03-03T14:52:07.119Z"
   },
   {
    "duration": 6,
    "start_time": "2024-03-03T14:52:07.132Z"
   },
   {
    "duration": 5,
    "start_time": "2024-03-03T14:52:07.140Z"
   },
   {
    "duration": 16,
    "start_time": "2024-03-03T14:52:07.146Z"
   },
   {
    "duration": 1137,
    "start_time": "2024-03-03T15:08:26.952Z"
   },
   {
    "duration": 5,
    "start_time": "2024-03-03T15:08:55.859Z"
   },
   {
    "duration": 7,
    "start_time": "2024-03-03T15:11:02.525Z"
   },
   {
    "duration": 6,
    "start_time": "2024-03-03T15:11:11.286Z"
   },
   {
    "duration": 9,
    "start_time": "2024-03-03T15:12:47.054Z"
   },
   {
    "duration": 7,
    "start_time": "2024-03-03T15:12:56.685Z"
   },
   {
    "duration": 9,
    "start_time": "2024-03-03T15:14:23.214Z"
   },
   {
    "duration": 9,
    "start_time": "2024-03-03T15:14:54.102Z"
   },
   {
    "duration": 8,
    "start_time": "2024-03-03T15:15:02.567Z"
   },
   {
    "duration": 9,
    "start_time": "2024-03-03T15:15:11.000Z"
   },
   {
    "duration": 4,
    "start_time": "2024-03-03T15:15:26.176Z"
   },
   {
    "duration": 10,
    "start_time": "2024-03-03T15:15:42.636Z"
   },
   {
    "duration": 386,
    "start_time": "2024-03-03T15:16:18.455Z"
   },
   {
    "duration": 594,
    "start_time": "2024-03-03T15:16:27.279Z"
   },
   {
    "duration": 69,
    "start_time": "2024-03-03T15:16:27.875Z"
   },
   {
    "duration": 10,
    "start_time": "2024-03-03T15:16:27.946Z"
   },
   {
    "duration": 6,
    "start_time": "2024-03-03T15:16:27.958Z"
   },
   {
    "duration": 7,
    "start_time": "2024-03-03T15:16:27.966Z"
   },
   {
    "duration": 17,
    "start_time": "2024-03-03T15:16:27.974Z"
   },
   {
    "duration": 172,
    "start_time": "2024-03-03T15:16:27.992Z"
   },
   {
    "duration": 89,
    "start_time": "2024-03-03T15:17:13.064Z"
   },
   {
    "duration": 69,
    "start_time": "2024-03-03T15:17:52.036Z"
   },
   {
    "duration": 158,
    "start_time": "2024-03-03T15:17:58.583Z"
   },
   {
    "duration": 124,
    "start_time": "2024-03-03T15:18:23.453Z"
   },
   {
    "duration": 153,
    "start_time": "2024-03-03T15:20:16.550Z"
   },
   {
    "duration": 78,
    "start_time": "2024-03-03T15:21:03.363Z"
   },
   {
    "duration": 180,
    "start_time": "2024-03-03T15:21:31.903Z"
   },
   {
    "duration": 10,
    "start_time": "2024-03-03T15:21:58.377Z"
   },
   {
    "duration": 10,
    "start_time": "2024-03-03T15:22:38.586Z"
   },
   {
    "duration": 159,
    "start_time": "2024-03-03T15:22:58.011Z"
   },
   {
    "duration": 86,
    "start_time": "2024-03-03T15:23:45.895Z"
   },
   {
    "duration": 86,
    "start_time": "2024-03-03T15:24:01.454Z"
   },
   {
    "duration": 78,
    "start_time": "2024-03-03T15:24:18.543Z"
   },
   {
    "duration": 160,
    "start_time": "2024-03-03T15:24:50.691Z"
   },
   {
    "duration": 8,
    "start_time": "2024-03-03T15:25:24.267Z"
   },
   {
    "duration": 160,
    "start_time": "2024-03-03T15:25:40.964Z"
   },
   {
    "duration": 158,
    "start_time": "2024-03-03T15:26:16.884Z"
   },
   {
    "duration": 108,
    "start_time": "2024-03-03T15:29:10.716Z"
   },
   {
    "duration": 21,
    "start_time": "2024-03-03T15:30:59.941Z"
   },
   {
    "duration": 592,
    "start_time": "2024-03-03T15:52:42.537Z"
   },
   {
    "duration": 66,
    "start_time": "2024-03-03T15:52:43.131Z"
   },
   {
    "duration": 11,
    "start_time": "2024-03-03T15:52:43.198Z"
   },
   {
    "duration": 16,
    "start_time": "2024-03-03T15:52:43.211Z"
   },
   {
    "duration": 5,
    "start_time": "2024-03-03T15:52:43.229Z"
   },
   {
    "duration": 31,
    "start_time": "2024-03-03T15:52:43.235Z"
   },
   {
    "duration": 74,
    "start_time": "2024-03-03T15:52:43.268Z"
   },
   {
    "duration": 0,
    "start_time": "2024-03-03T15:52:43.343Z"
   },
   {
    "duration": 0,
    "start_time": "2024-03-03T15:52:43.344Z"
   },
   {
    "duration": 0,
    "start_time": "2024-03-03T15:52:43.346Z"
   },
   {
    "duration": 0,
    "start_time": "2024-03-03T15:52:43.346Z"
   },
   {
    "duration": 0,
    "start_time": "2024-03-03T15:52:43.347Z"
   },
   {
    "duration": 0,
    "start_time": "2024-03-03T15:52:43.348Z"
   },
   {
    "duration": 128,
    "start_time": "2024-03-03T15:53:15.651Z"
   },
   {
    "duration": 640,
    "start_time": "2024-03-03T15:53:21.415Z"
   },
   {
    "duration": 64,
    "start_time": "2024-03-03T15:53:22.057Z"
   },
   {
    "duration": 15,
    "start_time": "2024-03-03T15:53:22.123Z"
   },
   {
    "duration": 10,
    "start_time": "2024-03-03T15:53:22.140Z"
   },
   {
    "duration": 8,
    "start_time": "2024-03-03T15:53:22.153Z"
   },
   {
    "duration": 23,
    "start_time": "2024-03-03T15:53:22.163Z"
   },
   {
    "duration": 208,
    "start_time": "2024-03-03T15:53:22.188Z"
   },
   {
    "duration": 0,
    "start_time": "2024-03-03T15:53:22.398Z"
   },
   {
    "duration": 0,
    "start_time": "2024-03-03T15:53:22.399Z"
   },
   {
    "duration": 0,
    "start_time": "2024-03-03T15:53:22.400Z"
   },
   {
    "duration": 0,
    "start_time": "2024-03-03T15:53:22.401Z"
   },
   {
    "duration": 0,
    "start_time": "2024-03-03T15:53:22.402Z"
   },
   {
    "duration": 0,
    "start_time": "2024-03-03T15:53:22.418Z"
   },
   {
    "duration": 13,
    "start_time": "2024-03-03T15:54:47.502Z"
   },
   {
    "duration": 16,
    "start_time": "2024-03-03T15:55:49.139Z"
   },
   {
    "duration": 582,
    "start_time": "2024-03-03T15:56:46.779Z"
   },
   {
    "duration": 66,
    "start_time": "2024-03-03T15:56:47.363Z"
   },
   {
    "duration": 12,
    "start_time": "2024-03-03T15:56:47.431Z"
   },
   {
    "duration": 8,
    "start_time": "2024-03-03T15:56:47.445Z"
   },
   {
    "duration": 6,
    "start_time": "2024-03-03T15:56:47.454Z"
   },
   {
    "duration": 17,
    "start_time": "2024-03-03T15:56:47.461Z"
   },
   {
    "duration": 177,
    "start_time": "2024-03-03T15:56:47.480Z"
   },
   {
    "duration": 88,
    "start_time": "2024-03-03T15:56:47.659Z"
   },
   {
    "duration": 0,
    "start_time": "2024-03-03T15:56:47.750Z"
   },
   {
    "duration": 0,
    "start_time": "2024-03-03T15:56:47.751Z"
   },
   {
    "duration": 0,
    "start_time": "2024-03-03T15:56:47.753Z"
   },
   {
    "duration": 1,
    "start_time": "2024-03-03T15:56:47.754Z"
   },
   {
    "duration": 0,
    "start_time": "2024-03-03T15:56:47.756Z"
   },
   {
    "duration": 77,
    "start_time": "2024-03-03T15:57:18.894Z"
   },
   {
    "duration": 391,
    "start_time": "2024-03-03T15:57:27.489Z"
   },
   {
    "duration": 83,
    "start_time": "2024-03-03T15:58:28.867Z"
   },
   {
    "duration": 135,
    "start_time": "2024-03-03T15:58:51.903Z"
   },
   {
    "duration": 173,
    "start_time": "2024-03-03T15:59:58.409Z"
   },
   {
    "duration": 164,
    "start_time": "2024-03-03T16:00:50.485Z"
   },
   {
    "duration": 167,
    "start_time": "2024-03-03T16:01:10.670Z"
   },
   {
    "duration": 199,
    "start_time": "2024-03-03T16:02:25.573Z"
   },
   {
    "duration": 22,
    "start_time": "2024-03-03T16:03:13.461Z"
   },
   {
    "duration": 23,
    "start_time": "2024-03-03T16:03:18.546Z"
   },
   {
    "duration": 1262,
    "start_time": "2024-03-03T16:05:53.388Z"
   },
   {
    "duration": 378,
    "start_time": "2024-03-03T16:08:01.373Z"
   },
   {
    "duration": 1157,
    "start_time": "2024-03-03T16:13:09.463Z"
   },
   {
    "duration": 662,
    "start_time": "2024-03-03T16:38:07.506Z"
   },
   {
    "duration": 67,
    "start_time": "2024-03-03T16:38:08.169Z"
   },
   {
    "duration": 12,
    "start_time": "2024-03-03T16:38:08.237Z"
   },
   {
    "duration": 8,
    "start_time": "2024-03-03T16:38:08.251Z"
   },
   {
    "duration": 6,
    "start_time": "2024-03-03T16:38:08.260Z"
   },
   {
    "duration": 18,
    "start_time": "2024-03-03T16:38:08.267Z"
   },
   {
    "duration": 192,
    "start_time": "2024-03-03T16:38:08.287Z"
   },
   {
    "duration": 117,
    "start_time": "2024-03-03T16:38:08.480Z"
   },
   {
    "duration": 161,
    "start_time": "2024-03-03T16:38:08.599Z"
   },
   {
    "duration": 182,
    "start_time": "2024-03-03T16:38:08.762Z"
   },
   {
    "duration": 225,
    "start_time": "2024-03-03T16:38:08.946Z"
   },
   {
    "duration": 29,
    "start_time": "2024-03-03T16:38:09.172Z"
   },
   {
    "duration": 36,
    "start_time": "2024-03-03T16:38:09.204Z"
   },
   {
    "duration": 398,
    "start_time": "2024-03-03T16:38:09.241Z"
   },
   {
    "duration": 13,
    "start_time": "2024-03-03T16:38:09.641Z"
   },
   {
    "duration": 22,
    "start_time": "2024-03-03T16:40:17.916Z"
   },
   {
    "duration": 1398,
    "start_time": "2024-03-03T16:42:03.769Z"
   },
   {
    "duration": 1107,
    "start_time": "2024-03-03T16:42:38.658Z"
   },
   {
    "duration": 1130,
    "start_time": "2024-03-03T16:43:21.546Z"
   },
   {
    "duration": 1042,
    "start_time": "2024-03-03T16:43:32.589Z"
   },
   {
    "duration": 1094,
    "start_time": "2024-03-03T16:44:26.430Z"
   },
   {
    "duration": 1077,
    "start_time": "2024-03-03T16:44:47.362Z"
   },
   {
    "duration": 1101,
    "start_time": "2024-03-03T16:44:53.509Z"
   },
   {
    "duration": 1081,
    "start_time": "2024-03-03T16:45:33.009Z"
   },
   {
    "duration": 636,
    "start_time": "2024-03-03T16:45:41.395Z"
   },
   {
    "duration": 67,
    "start_time": "2024-03-03T16:45:42.033Z"
   },
   {
    "duration": 12,
    "start_time": "2024-03-03T16:45:42.101Z"
   },
   {
    "duration": 10,
    "start_time": "2024-03-03T16:45:42.115Z"
   },
   {
    "duration": 18,
    "start_time": "2024-03-03T16:45:42.127Z"
   },
   {
    "duration": 25,
    "start_time": "2024-03-03T16:45:42.147Z"
   },
   {
    "duration": 163,
    "start_time": "2024-03-03T16:45:42.174Z"
   },
   {
    "duration": 91,
    "start_time": "2024-03-03T16:45:42.339Z"
   },
   {
    "duration": 173,
    "start_time": "2024-03-03T16:45:42.431Z"
   },
   {
    "duration": 196,
    "start_time": "2024-03-03T16:45:42.606Z"
   },
   {
    "duration": 221,
    "start_time": "2024-03-03T16:45:42.803Z"
   },
   {
    "duration": 21,
    "start_time": "2024-03-03T16:45:43.025Z"
   },
   {
    "duration": 16,
    "start_time": "2024-03-03T16:45:43.047Z"
   },
   {
    "duration": 393,
    "start_time": "2024-03-03T16:45:43.066Z"
   },
   {
    "duration": 23,
    "start_time": "2024-03-03T16:45:43.461Z"
   },
   {
    "duration": 1192,
    "start_time": "2024-03-03T16:45:43.485Z"
   },
   {
    "duration": 177,
    "start_time": "2024-03-03T16:46:14.430Z"
   },
   {
    "duration": 3,
    "start_time": "2024-03-03T16:53:19.249Z"
   },
   {
    "duration": 579,
    "start_time": "2024-03-03T16:53:39.552Z"
   },
   {
    "duration": 67,
    "start_time": "2024-03-03T16:53:40.132Z"
   },
   {
    "duration": 12,
    "start_time": "2024-03-03T16:53:40.201Z"
   },
   {
    "duration": 13,
    "start_time": "2024-03-03T16:53:40.215Z"
   },
   {
    "duration": 10,
    "start_time": "2024-03-03T16:53:40.230Z"
   },
   {
    "duration": 20,
    "start_time": "2024-03-03T16:53:40.241Z"
   },
   {
    "duration": 181,
    "start_time": "2024-03-03T16:53:40.263Z"
   },
   {
    "duration": 99,
    "start_time": "2024-03-03T16:53:40.446Z"
   },
   {
    "duration": 156,
    "start_time": "2024-03-03T16:53:40.546Z"
   },
   {
    "duration": 171,
    "start_time": "2024-03-03T16:53:40.703Z"
   },
   {
    "duration": 219,
    "start_time": "2024-03-03T16:53:40.875Z"
   },
   {
    "duration": 28,
    "start_time": "2024-03-03T16:53:41.096Z"
   },
   {
    "duration": 16,
    "start_time": "2024-03-03T16:53:41.126Z"
   },
   {
    "duration": 416,
    "start_time": "2024-03-03T16:53:41.143Z"
   },
   {
    "duration": 23,
    "start_time": "2024-03-03T16:53:41.561Z"
   },
   {
    "duration": 215,
    "start_time": "2024-03-03T16:53:41.585Z"
   },
   {
    "duration": 1146,
    "start_time": "2024-03-03T16:58:45.813Z"
   },
   {
    "duration": 192,
    "start_time": "2024-03-03T16:59:15.154Z"
   },
   {
    "duration": 591,
    "start_time": "2024-03-03T17:03:59.970Z"
   },
   {
    "duration": 66,
    "start_time": "2024-03-03T17:04:00.562Z"
   },
   {
    "duration": 14,
    "start_time": "2024-03-03T17:04:00.630Z"
   },
   {
    "duration": 43,
    "start_time": "2024-03-03T17:04:00.647Z"
   },
   {
    "duration": 46,
    "start_time": "2024-03-03T17:04:00.692Z"
   },
   {
    "duration": 64,
    "start_time": "2024-03-03T17:04:00.741Z"
   },
   {
    "duration": 202,
    "start_time": "2024-03-03T17:04:00.807Z"
   },
   {
    "duration": 87,
    "start_time": "2024-03-03T17:04:01.010Z"
   },
   {
    "duration": 165,
    "start_time": "2024-03-03T17:04:01.098Z"
   },
   {
    "duration": 174,
    "start_time": "2024-03-03T17:04:01.265Z"
   },
   {
    "duration": 243,
    "start_time": "2024-03-03T17:04:01.440Z"
   },
   {
    "duration": 22,
    "start_time": "2024-03-03T17:04:01.685Z"
   },
   {
    "duration": 101,
    "start_time": "2024-03-03T17:04:01.718Z"
   },
   {
    "duration": 446,
    "start_time": "2024-03-03T17:04:01.821Z"
   },
   {
    "duration": 24,
    "start_time": "2024-03-03T17:04:02.269Z"
   },
   {
    "duration": 34,
    "start_time": "2024-03-03T17:04:02.294Z"
   },
   {
    "duration": 1250,
    "start_time": "2024-03-03T17:04:02.329Z"
   },
   {
    "duration": 1098,
    "start_time": "2024-03-03T17:04:37.017Z"
   },
   {
    "duration": 1082,
    "start_time": "2024-03-03T17:05:12.311Z"
   },
   {
    "duration": 599,
    "start_time": "2024-03-03T17:07:19.045Z"
   },
   {
    "duration": 66,
    "start_time": "2024-03-03T17:07:19.646Z"
   },
   {
    "duration": 11,
    "start_time": "2024-03-03T17:07:19.714Z"
   },
   {
    "duration": 7,
    "start_time": "2024-03-03T17:07:19.726Z"
   },
   {
    "duration": 6,
    "start_time": "2024-03-03T17:07:19.735Z"
   },
   {
    "duration": 15,
    "start_time": "2024-03-03T17:07:19.743Z"
   },
   {
    "duration": 194,
    "start_time": "2024-03-03T17:07:19.760Z"
   },
   {
    "duration": 93,
    "start_time": "2024-03-03T17:07:19.956Z"
   },
   {
    "duration": 159,
    "start_time": "2024-03-03T17:07:20.051Z"
   },
   {
    "duration": 181,
    "start_time": "2024-03-03T17:07:20.212Z"
   },
   {
    "duration": 225,
    "start_time": "2024-03-03T17:07:20.394Z"
   },
   {
    "duration": 21,
    "start_time": "2024-03-03T17:07:20.621Z"
   },
   {
    "duration": 17,
    "start_time": "2024-03-03T17:07:20.644Z"
   },
   {
    "duration": 395,
    "start_time": "2024-03-03T17:07:20.664Z"
   },
   {
    "duration": 25,
    "start_time": "2024-03-03T17:07:21.061Z"
   },
   {
    "duration": 4,
    "start_time": "2024-03-03T17:07:21.087Z"
   },
   {
    "duration": 1201,
    "start_time": "2024-03-03T17:07:21.092Z"
   },
   {
    "duration": 28,
    "start_time": "2024-03-03T17:10:09.112Z"
   },
   {
    "duration": 11,
    "start_time": "2024-03-03T17:11:55.781Z"
   },
   {
    "duration": 1163,
    "start_time": "2024-03-03T17:13:01.276Z"
   },
   {
    "duration": 11,
    "start_time": "2024-03-03T17:13:42.326Z"
   },
   {
    "duration": 5,
    "start_time": "2024-03-03T17:16:10.220Z"
   },
   {
    "duration": 3,
    "start_time": "2024-03-03T17:16:15.882Z"
   },
   {
    "duration": 28,
    "start_time": "2024-03-03T17:16:24.431Z"
   },
   {
    "duration": 4,
    "start_time": "2024-03-03T17:16:25.015Z"
   },
   {
    "duration": 6,
    "start_time": "2024-03-03T17:16:25.913Z"
   },
   {
    "duration": 604,
    "start_time": "2024-03-03T17:16:43.164Z"
   },
   {
    "duration": 66,
    "start_time": "2024-03-03T17:16:43.769Z"
   },
   {
    "duration": 11,
    "start_time": "2024-03-03T17:16:43.836Z"
   },
   {
    "duration": 7,
    "start_time": "2024-03-03T17:16:43.848Z"
   },
   {
    "duration": 6,
    "start_time": "2024-03-03T17:16:43.857Z"
   },
   {
    "duration": 17,
    "start_time": "2024-03-03T17:16:43.864Z"
   },
   {
    "duration": 184,
    "start_time": "2024-03-03T17:16:43.883Z"
   },
   {
    "duration": 91,
    "start_time": "2024-03-03T17:16:44.069Z"
   },
   {
    "duration": 161,
    "start_time": "2024-03-03T17:16:44.162Z"
   },
   {
    "duration": 166,
    "start_time": "2024-03-03T17:16:44.325Z"
   },
   {
    "duration": 216,
    "start_time": "2024-03-03T17:16:44.493Z"
   },
   {
    "duration": 25,
    "start_time": "2024-03-03T17:16:44.711Z"
   },
   {
    "duration": 16,
    "start_time": "2024-03-03T17:16:44.737Z"
   },
   {
    "duration": 412,
    "start_time": "2024-03-03T17:16:44.755Z"
   },
   {
    "duration": 32,
    "start_time": "2024-03-03T17:16:45.168Z"
   },
   {
    "duration": 10,
    "start_time": "2024-03-03T17:16:45.202Z"
   },
   {
    "duration": 18,
    "start_time": "2024-03-03T17:16:45.214Z"
   },
   {
    "duration": 878,
    "start_time": "2024-03-04T15:16:31.018Z"
   },
   {
    "duration": 292,
    "start_time": "2024-03-04T15:16:31.898Z"
   },
   {
    "duration": 13,
    "start_time": "2024-03-04T15:16:32.191Z"
   },
   {
    "duration": 33,
    "start_time": "2024-03-04T15:16:32.205Z"
   },
   {
    "duration": 21,
    "start_time": "2024-03-04T15:16:32.241Z"
   },
   {
    "duration": 40,
    "start_time": "2024-03-04T15:16:32.263Z"
   },
   {
    "duration": 210,
    "start_time": "2024-03-04T15:16:32.305Z"
   },
   {
    "duration": 108,
    "start_time": "2024-03-04T15:16:32.517Z"
   },
   {
    "duration": 194,
    "start_time": "2024-03-04T15:16:32.627Z"
   },
   {
    "duration": 201,
    "start_time": "2024-03-04T15:16:32.823Z"
   },
   {
    "duration": 272,
    "start_time": "2024-03-04T15:16:33.026Z"
   },
   {
    "duration": 25,
    "start_time": "2024-03-04T15:16:33.301Z"
   },
   {
    "duration": 19,
    "start_time": "2024-03-04T15:16:33.329Z"
   },
   {
    "duration": 484,
    "start_time": "2024-03-04T15:16:33.350Z"
   },
   {
    "duration": 33,
    "start_time": "2024-03-04T15:16:33.835Z"
   },
   {
    "duration": 3,
    "start_time": "2024-03-04T15:16:33.870Z"
   },
   {
    "duration": 9,
    "start_time": "2024-03-04T15:16:33.874Z"
   },
   {
    "duration": 34,
    "start_time": "2024-03-04T15:17:32.592Z"
   },
   {
    "duration": 40,
    "start_time": "2024-03-04T15:18:19.616Z"
   },
   {
    "duration": 1791,
    "start_time": "2024-03-04T15:20:20.361Z"
   },
   {
    "duration": 10,
    "start_time": "2024-03-04T15:27:26.530Z"
   },
   {
    "duration": 10,
    "start_time": "2024-03-04T15:27:35.690Z"
   },
   {
    "duration": 9,
    "start_time": "2024-03-04T15:28:50.486Z"
   },
   {
    "duration": 14,
    "start_time": "2024-03-04T15:29:19.906Z"
   },
   {
    "duration": 153,
    "start_time": "2024-03-04T15:30:47.431Z"
   },
   {
    "duration": 679,
    "start_time": "2024-03-04T15:31:29.721Z"
   },
   {
    "duration": 71,
    "start_time": "2024-03-04T15:31:30.402Z"
   },
   {
    "duration": 90,
    "start_time": "2024-03-04T15:31:30.474Z"
   },
   {
    "duration": 183,
    "start_time": "2024-03-04T15:31:30.566Z"
   },
   {
    "duration": 239,
    "start_time": "2024-03-04T15:31:30.751Z"
   },
   {
    "duration": 106,
    "start_time": "2024-03-04T15:31:30.991Z"
   },
   {
    "duration": 205,
    "start_time": "2024-03-04T15:31:31.099Z"
   },
   {
    "duration": 97,
    "start_time": "2024-03-04T15:31:31.306Z"
   },
   {
    "duration": 240,
    "start_time": "2024-03-04T15:31:31.405Z"
   },
   {
    "duration": 247,
    "start_time": "2024-03-04T15:31:31.647Z"
   },
   {
    "duration": 265,
    "start_time": "2024-03-04T15:31:31.896Z"
   },
   {
    "duration": 27,
    "start_time": "2024-03-04T15:31:32.162Z"
   },
   {
    "duration": 34,
    "start_time": "2024-03-04T15:31:32.191Z"
   },
   {
    "duration": 483,
    "start_time": "2024-03-04T15:31:32.226Z"
   },
   {
    "duration": 38,
    "start_time": "2024-03-04T15:31:32.711Z"
   },
   {
    "duration": 1682,
    "start_time": "2024-03-04T15:31:32.751Z"
   },
   {
    "duration": 0,
    "start_time": "2024-03-04T15:31:34.435Z"
   },
   {
    "duration": 98,
    "start_time": "2024-03-04T15:39:30.369Z"
   },
   {
    "duration": 1782,
    "start_time": "2024-03-04T15:39:41.142Z"
   },
   {
    "duration": 686,
    "start_time": "2024-03-04T15:42:38.880Z"
   },
   {
    "duration": 69,
    "start_time": "2024-03-04T15:42:39.568Z"
   },
   {
    "duration": 12,
    "start_time": "2024-03-04T15:42:39.639Z"
   },
   {
    "duration": 14,
    "start_time": "2024-03-04T15:42:39.653Z"
   },
   {
    "duration": 6,
    "start_time": "2024-03-04T15:42:39.669Z"
   },
   {
    "duration": 20,
    "start_time": "2024-03-04T15:42:39.677Z"
   },
   {
    "duration": 190,
    "start_time": "2024-03-04T15:42:39.699Z"
   },
   {
    "duration": 102,
    "start_time": "2024-03-04T15:42:39.891Z"
   },
   {
    "duration": 191,
    "start_time": "2024-03-04T15:42:39.994Z"
   },
   {
    "duration": 199,
    "start_time": "2024-03-04T15:42:40.189Z"
   },
   {
    "duration": 290,
    "start_time": "2024-03-04T15:42:40.390Z"
   },
   {
    "duration": 24,
    "start_time": "2024-03-04T15:42:40.682Z"
   },
   {
    "duration": 19,
    "start_time": "2024-03-04T15:42:40.708Z"
   },
   {
    "duration": 468,
    "start_time": "2024-03-04T15:42:40.729Z"
   },
   {
    "duration": 40,
    "start_time": "2024-03-04T15:42:41.199Z"
   },
   {
    "duration": 1640,
    "start_time": "2024-03-04T15:42:41.240Z"
   },
   {
    "duration": 0,
    "start_time": "2024-03-04T15:42:42.882Z"
   },
   {
    "duration": 1569,
    "start_time": "2024-03-04T15:43:13.683Z"
   },
   {
    "duration": 28,
    "start_time": "2024-03-04T15:46:20.592Z"
   },
   {
    "duration": 19,
    "start_time": "2024-03-04T15:46:31.638Z"
   },
   {
    "duration": 20,
    "start_time": "2024-03-04T15:48:22.640Z"
   },
   {
    "duration": 8,
    "start_time": "2024-03-04T15:48:33.463Z"
   },
   {
    "duration": 19,
    "start_time": "2024-03-04T15:49:56.316Z"
   },
   {
    "duration": 1031,
    "start_time": "2024-03-04T15:50:06.864Z"
   },
   {
    "duration": 2120,
    "start_time": "2024-03-04T15:50:28.439Z"
   },
   {
    "duration": 116,
    "start_time": "2024-03-04T15:56:58.083Z"
   },
   {
    "duration": 1898,
    "start_time": "2024-03-04T15:57:08.254Z"
   },
   {
    "duration": 1957,
    "start_time": "2024-03-04T15:59:10.547Z"
   },
   {
    "duration": 145,
    "start_time": "2024-03-04T16:02:22.000Z"
   },
   {
    "duration": 1701,
    "start_time": "2024-03-04T16:05:30.086Z"
   },
   {
    "duration": 15,
    "start_time": "2024-03-04T16:06:13.325Z"
   },
   {
    "duration": 23,
    "start_time": "2024-03-04T17:03:33.773Z"
   },
   {
    "duration": 13,
    "start_time": "2024-03-04T17:04:00.891Z"
   },
   {
    "duration": 10,
    "start_time": "2024-03-04T17:04:20.545Z"
   },
   {
    "duration": 12,
    "start_time": "2024-03-04T17:07:06.297Z"
   },
   {
    "duration": 12,
    "start_time": "2024-03-04T17:07:15.657Z"
   },
   {
    "duration": 104,
    "start_time": "2024-03-04T17:08:00.272Z"
   },
   {
    "duration": 10,
    "start_time": "2024-03-04T17:08:19.202Z"
   },
   {
    "duration": 9,
    "start_time": "2024-03-04T17:08:55.728Z"
   },
   {
    "duration": 11,
    "start_time": "2024-03-04T17:10:51.389Z"
   },
   {
    "duration": 10,
    "start_time": "2024-03-04T17:11:40.159Z"
   },
   {
    "duration": 718,
    "start_time": "2024-03-04T17:11:59.546Z"
   },
   {
    "duration": 71,
    "start_time": "2024-03-04T17:12:00.268Z"
   },
   {
    "duration": 75,
    "start_time": "2024-03-04T17:12:00.341Z"
   },
   {
    "duration": 8,
    "start_time": "2024-03-04T17:12:00.741Z"
   },
   {
    "duration": 65,
    "start_time": "2024-03-04T17:12:00.751Z"
   },
   {
    "duration": 55,
    "start_time": "2024-03-04T17:12:00.818Z"
   },
   {
    "duration": 348,
    "start_time": "2024-03-04T17:12:00.875Z"
   },
   {
    "duration": 98,
    "start_time": "2024-03-04T17:12:01.225Z"
   },
   {
    "duration": 202,
    "start_time": "2024-03-04T17:12:01.325Z"
   },
   {
    "duration": 200,
    "start_time": "2024-03-04T17:12:01.528Z"
   },
   {
    "duration": 268,
    "start_time": "2024-03-04T17:12:01.730Z"
   },
   {
    "duration": 25,
    "start_time": "2024-03-04T17:12:02.000Z"
   },
   {
    "duration": 35,
    "start_time": "2024-03-04T17:12:02.027Z"
   },
   {
    "duration": 513,
    "start_time": "2024-03-04T17:12:02.064Z"
   },
   {
    "duration": 134,
    "start_time": "2024-03-04T17:12:02.579Z"
   },
   {
    "duration": 1795,
    "start_time": "2024-03-04T17:12:02.715Z"
   },
   {
    "duration": 0,
    "start_time": "2024-03-04T17:12:04.512Z"
   },
   {
    "duration": 0,
    "start_time": "2024-03-04T17:12:04.513Z"
   },
   {
    "duration": 0,
    "start_time": "2024-03-04T17:12:04.514Z"
   },
   {
    "duration": 136,
    "start_time": "2024-03-04T17:18:51.405Z"
   },
   {
    "duration": 1707,
    "start_time": "2024-03-04T17:18:51.643Z"
   },
   {
    "duration": 1998,
    "start_time": "2024-03-04T17:19:05.957Z"
   },
   {
    "duration": 1860,
    "start_time": "2024-03-04T17:19:45.471Z"
   },
   {
    "duration": 1576,
    "start_time": "2024-03-04T17:20:08.081Z"
   },
   {
    "duration": 111,
    "start_time": "2024-03-04T17:22:11.812Z"
   },
   {
    "duration": 9,
    "start_time": "2024-03-04T17:23:58.509Z"
   },
   {
    "duration": 1198,
    "start_time": "2024-03-04T17:25:40.843Z"
   },
   {
    "duration": 69,
    "start_time": "2024-03-04T17:25:42.401Z"
   },
   {
    "duration": 14,
    "start_time": "2024-03-04T17:25:42.472Z"
   },
   {
    "duration": 8,
    "start_time": "2024-03-04T17:25:42.918Z"
   },
   {
    "duration": 7,
    "start_time": "2024-03-04T17:25:42.928Z"
   },
   {
    "duration": 22,
    "start_time": "2024-03-04T17:25:45.379Z"
   },
   {
    "duration": 272,
    "start_time": "2024-03-04T17:25:45.403Z"
   },
   {
    "duration": 104,
    "start_time": "2024-03-04T17:25:45.680Z"
   },
   {
    "duration": 193,
    "start_time": "2024-03-04T17:25:46.605Z"
   },
   {
    "duration": 221,
    "start_time": "2024-03-04T17:25:46.801Z"
   },
   {
    "duration": 198,
    "start_time": "2024-03-04T17:25:47.024Z"
   },
   {
    "duration": 23,
    "start_time": "2024-03-04T17:25:47.223Z"
   },
   {
    "duration": 12,
    "start_time": "2024-03-04T17:25:47.247Z"
   },
   {
    "duration": 485,
    "start_time": "2024-03-04T17:25:47.260Z"
   },
   {
    "duration": 121,
    "start_time": "2024-03-04T17:25:47.747Z"
   },
   {
    "duration": 2179,
    "start_time": "2024-03-04T17:25:47.870Z"
   },
   {
    "duration": 0,
    "start_time": "2024-03-04T17:25:50.051Z"
   },
   {
    "duration": 10,
    "start_time": "2024-03-04T17:26:31.050Z"
   },
   {
    "duration": 1197,
    "start_time": "2024-03-04T17:26:39.844Z"
   },
   {
    "duration": 71,
    "start_time": "2024-03-04T17:26:41.043Z"
   },
   {
    "duration": 13,
    "start_time": "2024-03-04T17:26:41.115Z"
   },
   {
    "duration": 20,
    "start_time": "2024-03-04T17:26:41.130Z"
   },
   {
    "duration": 12,
    "start_time": "2024-03-04T17:26:41.152Z"
   },
   {
    "duration": 34,
    "start_time": "2024-03-04T17:26:41.166Z"
   },
   {
    "duration": 181,
    "start_time": "2024-03-04T17:26:41.202Z"
   },
   {
    "duration": 98,
    "start_time": "2024-03-04T17:26:41.385Z"
   },
   {
    "duration": 181,
    "start_time": "2024-03-04T17:26:41.485Z"
   },
   {
    "duration": 207,
    "start_time": "2024-03-04T17:26:41.667Z"
   },
   {
    "duration": 221,
    "start_time": "2024-03-04T17:26:41.880Z"
   },
   {
    "duration": 33,
    "start_time": "2024-03-04T17:26:42.103Z"
   },
   {
    "duration": 15,
    "start_time": "2024-03-04T17:26:42.139Z"
   },
   {
    "duration": 473,
    "start_time": "2024-03-04T17:26:42.157Z"
   },
   {
    "duration": 127,
    "start_time": "2024-03-04T17:26:42.631Z"
   },
   {
    "duration": 1712,
    "start_time": "2024-03-04T17:26:42.760Z"
   },
   {
    "duration": 0,
    "start_time": "2024-03-04T17:26:44.474Z"
   },
   {
    "duration": 1588,
    "start_time": "2024-03-04T17:27:36.446Z"
   },
   {
    "duration": 248,
    "start_time": "2024-03-04T17:32:31.203Z"
   },
   {
    "duration": 1155,
    "start_time": "2024-03-04T17:32:50.214Z"
   },
   {
    "duration": 68,
    "start_time": "2024-03-04T17:32:51.371Z"
   },
   {
    "duration": 12,
    "start_time": "2024-03-04T17:32:51.441Z"
   },
   {
    "duration": 9,
    "start_time": "2024-03-04T17:32:51.455Z"
   },
   {
    "duration": 12,
    "start_time": "2024-03-04T17:32:51.466Z"
   },
   {
    "duration": 19,
    "start_time": "2024-03-04T17:32:51.480Z"
   },
   {
    "duration": 171,
    "start_time": "2024-03-04T17:32:51.501Z"
   },
   {
    "duration": 106,
    "start_time": "2024-03-04T17:32:51.674Z"
   },
   {
    "duration": 183,
    "start_time": "2024-03-04T17:32:51.781Z"
   },
   {
    "duration": 215,
    "start_time": "2024-03-04T17:32:51.968Z"
   },
   {
    "duration": 228,
    "start_time": "2024-03-04T17:32:52.185Z"
   },
   {
    "duration": 23,
    "start_time": "2024-03-04T17:32:52.414Z"
   },
   {
    "duration": 12,
    "start_time": "2024-03-04T17:32:52.439Z"
   },
   {
    "duration": 508,
    "start_time": "2024-03-04T17:32:52.453Z"
   },
   {
    "duration": 270,
    "start_time": "2024-03-04T17:32:52.963Z"
   },
   {
    "duration": 121,
    "start_time": "2024-03-04T17:32:53.234Z"
   },
   {
    "duration": 0,
    "start_time": "2024-03-04T17:32:53.357Z"
   },
   {
    "duration": 18,
    "start_time": "2024-03-04T17:33:48.339Z"
   },
   {
    "duration": 2102,
    "start_time": "2024-03-04T17:34:11.179Z"
   },
   {
    "duration": 12,
    "start_time": "2024-03-04T17:35:57.330Z"
   },
   {
    "duration": 1628,
    "start_time": "2024-03-04T17:35:57.486Z"
   },
   {
    "duration": 0,
    "start_time": "2024-03-04T17:35:59.116Z"
   },
   {
    "duration": 241,
    "start_time": "2024-03-04T17:37:07.581Z"
   },
   {
    "duration": 1549,
    "start_time": "2024-03-04T17:37:09.452Z"
   },
   {
    "duration": 1617,
    "start_time": "2024-03-04T17:37:58.122Z"
   },
   {
    "duration": 1593,
    "start_time": "2024-03-04T17:39:05.418Z"
   },
   {
    "duration": 1388,
    "start_time": "2024-03-04T17:39:38.540Z"
   },
   {
    "duration": 1534,
    "start_time": "2024-03-04T17:39:52.491Z"
   },
   {
    "duration": 155,
    "start_time": "2024-03-04T17:40:45.826Z"
   },
   {
    "duration": 1212,
    "start_time": "2024-03-04T17:41:06.253Z"
   },
   {
    "duration": 70,
    "start_time": "2024-03-04T17:41:07.467Z"
   },
   {
    "duration": 12,
    "start_time": "2024-03-04T17:41:07.538Z"
   },
   {
    "duration": 9,
    "start_time": "2024-03-04T17:41:07.552Z"
   },
   {
    "duration": 11,
    "start_time": "2024-03-04T17:41:07.564Z"
   },
   {
    "duration": 24,
    "start_time": "2024-03-04T17:41:07.577Z"
   },
   {
    "duration": 171,
    "start_time": "2024-03-04T17:41:07.603Z"
   },
   {
    "duration": 107,
    "start_time": "2024-03-04T17:41:07.775Z"
   },
   {
    "duration": 184,
    "start_time": "2024-03-04T17:41:07.884Z"
   },
   {
    "duration": 210,
    "start_time": "2024-03-04T17:41:08.070Z"
   },
   {
    "duration": 198,
    "start_time": "2024-03-04T17:41:08.282Z"
   },
   {
    "duration": 24,
    "start_time": "2024-03-04T17:41:08.482Z"
   },
   {
    "duration": 12,
    "start_time": "2024-03-04T17:41:08.507Z"
   },
   {
    "duration": 495,
    "start_time": "2024-03-04T17:41:08.522Z"
   },
   {
    "duration": 266,
    "start_time": "2024-03-04T17:41:09.019Z"
   },
   {
    "duration": 168,
    "start_time": "2024-03-04T17:41:09.287Z"
   },
   {
    "duration": 112,
    "start_time": "2024-03-04T17:41:09.457Z"
   },
   {
    "duration": 6,
    "start_time": "2024-03-04T17:42:50.269Z"
   },
   {
    "duration": 6,
    "start_time": "2024-03-04T17:44:39.740Z"
   },
   {
    "duration": 3905,
    "start_time": "2024-03-04T17:45:02.812Z"
   },
   {
    "duration": 5,
    "start_time": "2024-03-04T17:45:10.609Z"
   },
   {
    "duration": 9,
    "start_time": "2024-03-04T17:45:33.773Z"
   },
   {
    "duration": 52,
    "start_time": "2024-03-05T16:50:59.590Z"
   },
   {
    "duration": 6,
    "start_time": "2024-03-05T16:52:02.920Z"
   },
   {
    "duration": 6,
    "start_time": "2024-03-05T16:54:19.371Z"
   },
   {
    "duration": 1332,
    "start_time": "2024-03-05T16:54:29.712Z"
   },
   {
    "duration": 304,
    "start_time": "2024-03-05T16:54:31.046Z"
   },
   {
    "duration": 13,
    "start_time": "2024-03-05T16:54:31.352Z"
   },
   {
    "duration": 117,
    "start_time": "2024-03-05T16:54:31.366Z"
   },
   {
    "duration": 87,
    "start_time": "2024-03-05T16:54:31.485Z"
   },
   {
    "duration": 56,
    "start_time": "2024-03-05T16:54:31.574Z"
   },
   {
    "duration": 197,
    "start_time": "2024-03-05T16:54:31.632Z"
   },
   {
    "duration": 100,
    "start_time": "2024-03-05T16:54:31.830Z"
   },
   {
    "duration": 205,
    "start_time": "2024-03-05T16:54:31.931Z"
   },
   {
    "duration": 225,
    "start_time": "2024-03-05T16:54:32.138Z"
   },
   {
    "duration": 176,
    "start_time": "2024-03-05T16:54:32.369Z"
   },
   {
    "duration": 33,
    "start_time": "2024-03-05T16:54:32.547Z"
   },
   {
    "duration": 24,
    "start_time": "2024-03-05T16:54:32.581Z"
   },
   {
    "duration": 410,
    "start_time": "2024-03-05T16:54:32.607Z"
   },
   {
    "duration": 250,
    "start_time": "2024-03-05T16:54:33.019Z"
   },
   {
    "duration": 153,
    "start_time": "2024-03-05T16:54:33.270Z"
   },
   {
    "duration": 6,
    "start_time": "2024-03-05T16:54:33.424Z"
   },
   {
    "duration": 120,
    "start_time": "2024-03-05T16:54:33.431Z"
   },
   {
    "duration": 0,
    "start_time": "2024-03-05T16:54:33.552Z"
   },
   {
    "duration": 0,
    "start_time": "2024-03-05T16:54:33.553Z"
   },
   {
    "duration": 60,
    "start_time": "2024-03-05T16:55:29.770Z"
   },
   {
    "duration": 5,
    "start_time": "2024-03-05T16:55:35.988Z"
   },
   {
    "duration": 893,
    "start_time": "2024-03-05T16:55:36.368Z"
   },
   {
    "duration": 8,
    "start_time": "2024-03-09T07:12:50.237Z"
   },
   {
    "duration": 1342,
    "start_time": "2024-03-09T07:12:57.014Z"
   },
   {
    "duration": 193,
    "start_time": "2024-03-09T07:12:58.358Z"
   },
   {
    "duration": 11,
    "start_time": "2024-03-09T07:12:58.552Z"
   },
   {
    "duration": 13,
    "start_time": "2024-03-09T07:12:58.565Z"
   },
   {
    "duration": 9,
    "start_time": "2024-03-09T07:12:58.579Z"
   },
   {
    "duration": 14,
    "start_time": "2024-03-09T07:12:58.589Z"
   },
   {
    "duration": 0,
    "start_time": "2024-03-09T07:12:58.604Z"
   },
   {
    "duration": 0,
    "start_time": "2024-03-09T07:12:58.605Z"
   },
   {
    "duration": 0,
    "start_time": "2024-03-09T07:12:58.606Z"
   },
   {
    "duration": 0,
    "start_time": "2024-03-09T07:12:58.608Z"
   },
   {
    "duration": 0,
    "start_time": "2024-03-09T07:12:58.609Z"
   },
   {
    "duration": 0,
    "start_time": "2024-03-09T07:12:58.609Z"
   },
   {
    "duration": 0,
    "start_time": "2024-03-09T07:12:58.610Z"
   },
   {
    "duration": 0,
    "start_time": "2024-03-09T07:12:58.611Z"
   },
   {
    "duration": 0,
    "start_time": "2024-03-09T07:12:58.612Z"
   },
   {
    "duration": 0,
    "start_time": "2024-03-09T07:12:58.613Z"
   },
   {
    "duration": 0,
    "start_time": "2024-03-09T07:12:58.614Z"
   },
   {
    "duration": 0,
    "start_time": "2024-03-09T07:12:58.615Z"
   },
   {
    "duration": 0,
    "start_time": "2024-03-09T07:12:58.616Z"
   },
   {
    "duration": 0,
    "start_time": "2024-03-09T07:12:58.617Z"
   },
   {
    "duration": 90,
    "start_time": "2024-03-09T07:13:32.242Z"
   },
   {
    "duration": 14,
    "start_time": "2024-03-09T07:13:39.889Z"
   },
   {
    "duration": 12,
    "start_time": "2024-03-09T07:13:45.104Z"
   },
   {
    "duration": 20,
    "start_time": "2024-03-09T07:15:09.649Z"
   },
   {
    "duration": 23,
    "start_time": "2024-03-09T07:15:32.665Z"
   },
   {
    "duration": 1102,
    "start_time": "2024-03-09T07:16:07.524Z"
   },
   {
    "duration": 68,
    "start_time": "2024-03-09T07:16:08.628Z"
   },
   {
    "duration": 11,
    "start_time": "2024-03-09T07:16:08.698Z"
   },
   {
    "duration": 7,
    "start_time": "2024-03-09T07:16:08.710Z"
   },
   {
    "duration": 4,
    "start_time": "2024-03-09T07:16:08.719Z"
   },
   {
    "duration": 17,
    "start_time": "2024-03-09T07:16:08.724Z"
   },
   {
    "duration": 149,
    "start_time": "2024-03-09T07:16:08.742Z"
   },
   {
    "duration": 97,
    "start_time": "2024-03-09T07:16:08.893Z"
   },
   {
    "duration": 160,
    "start_time": "2024-03-09T07:16:08.992Z"
   },
   {
    "duration": 179,
    "start_time": "2024-03-09T07:16:09.153Z"
   },
   {
    "duration": 178,
    "start_time": "2024-03-09T07:16:09.333Z"
   },
   {
    "duration": 21,
    "start_time": "2024-03-09T07:16:09.513Z"
   },
   {
    "duration": 19,
    "start_time": "2024-03-09T07:16:09.535Z"
   },
   {
    "duration": 395,
    "start_time": "2024-03-09T07:16:09.556Z"
   },
   {
    "duration": 213,
    "start_time": "2024-03-09T07:16:09.952Z"
   },
   {
    "duration": 145,
    "start_time": "2024-03-09T07:16:10.166Z"
   },
   {
    "duration": 5,
    "start_time": "2024-03-09T07:16:10.313Z"
   },
   {
    "duration": 856,
    "start_time": "2024-03-09T07:16:10.319Z"
   },
   {
    "duration": 5,
    "start_time": "2024-03-09T07:16:11.177Z"
   },
   {
    "duration": 13,
    "start_time": "2024-03-09T07:16:11.183Z"
   },
   {
    "duration": 19,
    "start_time": "2024-03-09T15:38:20.397Z"
   },
   {
    "duration": 15,
    "start_time": "2024-03-09T15:38:43.938Z"
   },
   {
    "duration": 19,
    "start_time": "2024-03-09T15:40:14.589Z"
   },
   {
    "duration": 107,
    "start_time": "2024-03-09T15:42:13.192Z"
   },
   {
    "duration": 28,
    "start_time": "2024-03-09T15:43:19.508Z"
   },
   {
    "duration": 24,
    "start_time": "2024-03-09T15:43:47.992Z"
   },
   {
    "duration": 19,
    "start_time": "2024-03-09T15:44:14.322Z"
   },
   {
    "duration": 1233,
    "start_time": "2024-03-09T15:45:02.282Z"
   },
   {
    "duration": 1159,
    "start_time": "2024-03-09T15:45:15.843Z"
   },
   {
    "duration": 18,
    "start_time": "2024-03-09T15:45:45.778Z"
   },
   {
    "duration": 18,
    "start_time": "2024-03-09T15:46:09.578Z"
   },
   {
    "duration": 18,
    "start_time": "2024-03-09T15:46:39.556Z"
   },
   {
    "duration": 19,
    "start_time": "2024-03-09T15:49:10.070Z"
   },
   {
    "duration": 17,
    "start_time": "2024-03-09T15:49:40.581Z"
   },
   {
    "duration": 83,
    "start_time": "2024-03-09T15:53:41.555Z"
   },
   {
    "duration": 1083,
    "start_time": "2024-03-09T15:53:59.752Z"
   },
   {
    "duration": 68,
    "start_time": "2024-03-09T15:54:00.837Z"
   },
   {
    "duration": 33,
    "start_time": "2024-03-09T15:54:00.907Z"
   },
   {
    "duration": 24,
    "start_time": "2024-03-09T15:54:00.942Z"
   },
   {
    "duration": 25,
    "start_time": "2024-03-09T15:54:00.968Z"
   },
   {
    "duration": 34,
    "start_time": "2024-03-09T15:54:00.994Z"
   },
   {
    "duration": 147,
    "start_time": "2024-03-09T15:54:01.030Z"
   },
   {
    "duration": 102,
    "start_time": "2024-03-09T15:54:01.179Z"
   },
   {
    "duration": 158,
    "start_time": "2024-03-09T15:54:01.283Z"
   },
   {
    "duration": 169,
    "start_time": "2024-03-09T15:54:01.443Z"
   },
   {
    "duration": 171,
    "start_time": "2024-03-09T15:54:01.613Z"
   },
   {
    "duration": 22,
    "start_time": "2024-03-09T15:54:01.785Z"
   },
   {
    "duration": 31,
    "start_time": "2024-03-09T15:54:01.808Z"
   },
   {
    "duration": 405,
    "start_time": "2024-03-09T15:54:01.841Z"
   },
   {
    "duration": 214,
    "start_time": "2024-03-09T15:54:02.248Z"
   },
   {
    "duration": 151,
    "start_time": "2024-03-09T15:54:02.463Z"
   },
   {
    "duration": 6,
    "start_time": "2024-03-09T15:54:02.616Z"
   },
   {
    "duration": 792,
    "start_time": "2024-03-09T15:54:02.623Z"
   },
   {
    "duration": 5,
    "start_time": "2024-03-09T15:54:03.417Z"
   },
   {
    "duration": 33,
    "start_time": "2024-03-09T15:54:03.424Z"
   },
   {
    "duration": 73,
    "start_time": "2024-03-09T15:54:03.459Z"
   },
   {
    "duration": 0,
    "start_time": "2024-03-09T15:54:03.534Z"
   },
   {
    "duration": 181,
    "start_time": "2024-03-09T16:11:35.494Z"
   },
   {
    "duration": 192,
    "start_time": "2024-03-09T16:13:27.638Z"
   },
   {
    "duration": 158,
    "start_time": "2024-03-09T16:20:01.928Z"
   },
   {
    "duration": 27,
    "start_time": "2024-03-09T16:28:32.894Z"
   },
   {
    "duration": 33,
    "start_time": "2024-03-09T16:28:57.653Z"
   },
   {
    "duration": 33,
    "start_time": "2024-03-09T16:29:09.205Z"
   },
   {
    "duration": 31,
    "start_time": "2024-03-09T16:29:18.389Z"
   },
   {
    "duration": 3,
    "start_time": "2024-03-09T16:30:14.694Z"
   },
   {
    "duration": 3,
    "start_time": "2024-03-09T16:36:50.599Z"
   },
   {
    "duration": 4,
    "start_time": "2024-03-09T16:37:01.952Z"
   },
   {
    "duration": 152,
    "start_time": "2024-03-09T16:38:38.235Z"
   },
   {
    "duration": 1040,
    "start_time": "2024-03-09T16:38:59.184Z"
   },
   {
    "duration": 69,
    "start_time": "2024-03-09T16:39:00.226Z"
   },
   {
    "duration": 160,
    "start_time": "2024-03-09T16:39:00.296Z"
   },
   {
    "duration": 78,
    "start_time": "2024-03-09T16:39:00.458Z"
   },
   {
    "duration": 69,
    "start_time": "2024-03-09T16:39:00.538Z"
   },
   {
    "duration": 54,
    "start_time": "2024-03-09T16:39:00.608Z"
   },
   {
    "duration": 215,
    "start_time": "2024-03-09T16:39:00.663Z"
   },
   {
    "duration": 92,
    "start_time": "2024-03-09T16:39:00.879Z"
   },
   {
    "duration": 167,
    "start_time": "2024-03-09T16:39:00.973Z"
   },
   {
    "duration": 189,
    "start_time": "2024-03-09T16:39:01.145Z"
   },
   {
    "duration": 80,
    "start_time": "2024-03-09T16:39:01.335Z"
   },
   {
    "duration": 0,
    "start_time": "2024-03-09T16:39:01.417Z"
   },
   {
    "duration": 0,
    "start_time": "2024-03-09T16:39:01.418Z"
   },
   {
    "duration": 0,
    "start_time": "2024-03-09T16:39:01.419Z"
   },
   {
    "duration": 0,
    "start_time": "2024-03-09T16:39:01.420Z"
   },
   {
    "duration": 0,
    "start_time": "2024-03-09T16:39:01.421Z"
   },
   {
    "duration": 0,
    "start_time": "2024-03-09T16:39:01.422Z"
   },
   {
    "duration": 0,
    "start_time": "2024-03-09T16:39:01.423Z"
   },
   {
    "duration": 0,
    "start_time": "2024-03-09T16:39:01.424Z"
   },
   {
    "duration": 0,
    "start_time": "2024-03-09T16:39:01.426Z"
   },
   {
    "duration": 0,
    "start_time": "2024-03-09T16:39:01.426Z"
   },
   {
    "duration": 0,
    "start_time": "2024-03-09T16:39:01.428Z"
   },
   {
    "duration": 0,
    "start_time": "2024-03-09T16:39:01.428Z"
   },
   {
    "duration": 0,
    "start_time": "2024-03-09T16:39:01.429Z"
   },
   {
    "duration": 174,
    "start_time": "2024-03-09T16:39:20.187Z"
   },
   {
    "duration": 162,
    "start_time": "2024-03-09T16:39:25.272Z"
   },
   {
    "duration": 27,
    "start_time": "2024-03-09T16:39:26.052Z"
   },
   {
    "duration": 78,
    "start_time": "2024-03-09T16:39:26.250Z"
   },
   {
    "duration": 3,
    "start_time": "2024-03-09T16:39:26.435Z"
   },
   {
    "duration": 11,
    "start_time": "2024-03-09T16:39:27.012Z"
   },
   {
    "duration": 4,
    "start_time": "2024-03-09T16:39:34.226Z"
   },
   {
    "duration": 9,
    "start_time": "2024-03-09T16:39:34.853Z"
   },
   {
    "duration": 70,
    "start_time": "2024-03-09T16:39:35.242Z"
   },
   {
    "duration": 370,
    "start_time": "2024-03-09T16:39:35.652Z"
   },
   {
    "duration": 1042,
    "start_time": "2024-03-09T16:43:14.191Z"
   },
   {
    "duration": 66,
    "start_time": "2024-03-09T16:43:15.235Z"
   },
   {
    "duration": 10,
    "start_time": "2024-03-09T16:43:15.303Z"
   },
   {
    "duration": 27,
    "start_time": "2024-03-09T16:43:15.314Z"
   },
   {
    "duration": 37,
    "start_time": "2024-03-09T16:43:15.343Z"
   },
   {
    "duration": 35,
    "start_time": "2024-03-09T16:43:15.382Z"
   },
   {
    "duration": 137,
    "start_time": "2024-03-09T16:43:15.418Z"
   },
   {
    "duration": 74,
    "start_time": "2024-03-09T16:43:15.556Z"
   },
   {
    "duration": 152,
    "start_time": "2024-03-09T16:43:15.631Z"
   },
   {
    "duration": 179,
    "start_time": "2024-03-09T16:43:15.784Z"
   },
   {
    "duration": 157,
    "start_time": "2024-03-09T16:43:15.964Z"
   },
   {
    "duration": 33,
    "start_time": "2024-03-09T16:43:16.122Z"
   },
   {
    "duration": 4,
    "start_time": "2024-03-09T16:43:16.156Z"
   },
   {
    "duration": 10,
    "start_time": "2024-03-09T16:43:16.162Z"
   },
   {
    "duration": 381,
    "start_time": "2024-03-09T16:43:16.173Z"
   },
   {
    "duration": 214,
    "start_time": "2024-03-09T16:43:16.556Z"
   },
   {
    "duration": 140,
    "start_time": "2024-03-09T16:43:16.772Z"
   },
   {
    "duration": 6,
    "start_time": "2024-03-09T16:43:16.913Z"
   },
   {
    "duration": 869,
    "start_time": "2024-03-09T16:43:16.920Z"
   },
   {
    "duration": 5,
    "start_time": "2024-03-09T16:43:17.790Z"
   },
   {
    "duration": 12,
    "start_time": "2024-03-09T16:43:17.796Z"
   },
   {
    "duration": 14,
    "start_time": "2024-03-09T16:45:32.085Z"
   },
   {
    "duration": 15,
    "start_time": "2024-03-09T16:46:32.055Z"
   },
   {
    "duration": 14,
    "start_time": "2024-03-09T16:46:35.423Z"
   },
   {
    "duration": 16,
    "start_time": "2024-03-09T16:50:18.712Z"
   },
   {
    "duration": 334,
    "start_time": "2024-03-09T16:54:56.837Z"
   },
   {
    "duration": 6,
    "start_time": "2024-03-09T16:55:59.988Z"
   },
   {
    "duration": 93,
    "start_time": "2024-03-09T16:59:16.291Z"
   },
   {
    "duration": 14,
    "start_time": "2024-03-09T17:00:09.756Z"
   },
   {
    "duration": 8,
    "start_time": "2024-03-09T17:00:35.602Z"
   },
   {
    "duration": 8,
    "start_time": "2024-03-09T17:00:50.050Z"
   },
   {
    "duration": 14,
    "start_time": "2024-03-09T17:03:54.217Z"
   },
   {
    "duration": 54,
    "start_time": "2024-03-09T17:04:15.147Z"
   },
   {
    "duration": 16,
    "start_time": "2024-03-09T17:04:53.460Z"
   },
   {
    "duration": 9,
    "start_time": "2024-03-09T17:06:07.817Z"
   },
   {
    "duration": 8,
    "start_time": "2024-03-09T17:06:24.305Z"
   },
   {
    "duration": 12,
    "start_time": "2024-03-09T17:06:34.962Z"
   },
   {
    "duration": 11,
    "start_time": "2024-03-09T17:07:12.305Z"
   },
   {
    "duration": 67,
    "start_time": "2024-03-09T17:23:24.172Z"
   },
   {
    "duration": 203,
    "start_time": "2024-03-09T17:23:53.096Z"
   },
   {
    "duration": 219,
    "start_time": "2024-03-09T17:25:26.813Z"
   },
   {
    "duration": 202,
    "start_time": "2024-03-09T17:25:51.657Z"
   },
   {
    "duration": 219,
    "start_time": "2024-03-09T17:27:06.076Z"
   },
   {
    "duration": 146,
    "start_time": "2024-03-09T17:29:13.077Z"
   },
   {
    "duration": 146,
    "start_time": "2024-03-09T17:29:35.865Z"
   },
   {
    "duration": 4,
    "start_time": "2024-03-09T17:37:36.205Z"
   },
   {
    "duration": 122,
    "start_time": "2024-03-09T17:56:02.978Z"
   },
   {
    "duration": 1113,
    "start_time": "2024-03-09T18:14:41.412Z"
   },
   {
    "duration": 68,
    "start_time": "2024-03-09T18:14:42.527Z"
   },
   {
    "duration": 10,
    "start_time": "2024-03-09T18:14:42.597Z"
   },
   {
    "duration": 6,
    "start_time": "2024-03-09T18:14:42.609Z"
   },
   {
    "duration": 6,
    "start_time": "2024-03-09T18:14:42.617Z"
   },
   {
    "duration": 17,
    "start_time": "2024-03-09T18:14:42.624Z"
   },
   {
    "duration": 166,
    "start_time": "2024-03-09T18:14:42.643Z"
   },
   {
    "duration": 104,
    "start_time": "2024-03-09T18:14:42.811Z"
   },
   {
    "duration": 171,
    "start_time": "2024-03-09T18:14:42.917Z"
   },
   {
    "duration": 205,
    "start_time": "2024-03-09T18:14:43.091Z"
   },
   {
    "duration": 173,
    "start_time": "2024-03-09T18:14:43.297Z"
   },
   {
    "duration": 68,
    "start_time": "2024-03-09T18:14:43.471Z"
   },
   {
    "duration": 0,
    "start_time": "2024-03-09T18:14:43.540Z"
   },
   {
    "duration": 0,
    "start_time": "2024-03-09T18:14:43.541Z"
   },
   {
    "duration": 0,
    "start_time": "2024-03-09T18:14:43.543Z"
   },
   {
    "duration": 0,
    "start_time": "2024-03-09T18:14:43.544Z"
   },
   {
    "duration": 0,
    "start_time": "2024-03-09T18:14:43.545Z"
   },
   {
    "duration": 0,
    "start_time": "2024-03-09T18:14:43.547Z"
   },
   {
    "duration": 0,
    "start_time": "2024-03-09T18:14:43.548Z"
   },
   {
    "duration": 0,
    "start_time": "2024-03-09T18:14:43.551Z"
   },
   {
    "duration": 0,
    "start_time": "2024-03-09T18:14:43.552Z"
   },
   {
    "duration": 0,
    "start_time": "2024-03-09T18:14:43.553Z"
   },
   {
    "duration": 0,
    "start_time": "2024-03-09T18:14:43.555Z"
   },
   {
    "duration": 0,
    "start_time": "2024-03-09T18:14:43.557Z"
   },
   {
    "duration": 0,
    "start_time": "2024-03-09T18:14:43.558Z"
   },
   {
    "duration": 1169,
    "start_time": "2024-03-09T18:15:21.236Z"
   },
   {
    "duration": 74,
    "start_time": "2024-03-09T18:15:22.407Z"
   },
   {
    "duration": 10,
    "start_time": "2024-03-09T18:15:22.484Z"
   },
   {
    "duration": 7,
    "start_time": "2024-03-09T18:15:22.495Z"
   },
   {
    "duration": 4,
    "start_time": "2024-03-09T18:15:22.503Z"
   },
   {
    "duration": 17,
    "start_time": "2024-03-09T18:15:22.508Z"
   },
   {
    "duration": 169,
    "start_time": "2024-03-09T18:15:22.527Z"
   },
   {
    "duration": 95,
    "start_time": "2024-03-09T18:15:22.698Z"
   },
   {
    "duration": 166,
    "start_time": "2024-03-09T18:15:22.795Z"
   },
   {
    "duration": 204,
    "start_time": "2024-03-09T18:15:22.963Z"
   },
   {
    "duration": 197,
    "start_time": "2024-03-09T18:15:23.169Z"
   },
   {
    "duration": 29,
    "start_time": "2024-03-09T18:15:23.368Z"
   },
   {
    "duration": 3,
    "start_time": "2024-03-09T18:15:23.399Z"
   },
   {
    "duration": 15,
    "start_time": "2024-03-09T18:15:23.404Z"
   },
   {
    "duration": 428,
    "start_time": "2024-03-09T18:15:23.446Z"
   },
   {
    "duration": 76,
    "start_time": "2024-03-09T18:15:23.876Z"
   },
   {
    "duration": 0,
    "start_time": "2024-03-09T18:15:23.954Z"
   },
   {
    "duration": 0,
    "start_time": "2024-03-09T18:15:23.956Z"
   },
   {
    "duration": 0,
    "start_time": "2024-03-09T18:15:23.958Z"
   },
   {
    "duration": 0,
    "start_time": "2024-03-09T18:15:23.959Z"
   },
   {
    "duration": 0,
    "start_time": "2024-03-09T18:15:23.961Z"
   },
   {
    "duration": 0,
    "start_time": "2024-03-09T18:15:23.963Z"
   },
   {
    "duration": 0,
    "start_time": "2024-03-09T18:15:23.964Z"
   },
   {
    "duration": 0,
    "start_time": "2024-03-09T18:15:23.966Z"
   },
   {
    "duration": 1140,
    "start_time": "2024-03-09T18:16:30.531Z"
   },
   {
    "duration": 67,
    "start_time": "2024-03-09T18:16:31.674Z"
   },
   {
    "duration": 12,
    "start_time": "2024-03-09T18:16:31.743Z"
   },
   {
    "duration": 65,
    "start_time": "2024-03-09T18:16:31.757Z"
   },
   {
    "duration": 31,
    "start_time": "2024-03-09T18:16:31.824Z"
   },
   {
    "duration": 46,
    "start_time": "2024-03-09T18:16:31.857Z"
   },
   {
    "duration": 192,
    "start_time": "2024-03-09T18:16:31.904Z"
   },
   {
    "duration": 95,
    "start_time": "2024-03-09T18:16:32.098Z"
   },
   {
    "duration": 174,
    "start_time": "2024-03-09T18:16:32.195Z"
   },
   {
    "duration": 188,
    "start_time": "2024-03-09T18:16:32.370Z"
   },
   {
    "duration": 175,
    "start_time": "2024-03-09T18:16:32.561Z"
   },
   {
    "duration": 40,
    "start_time": "2024-03-09T18:16:32.737Z"
   },
   {
    "duration": 4,
    "start_time": "2024-03-09T18:16:32.778Z"
   },
   {
    "duration": 32,
    "start_time": "2024-03-09T18:16:32.784Z"
   },
   {
    "duration": 384,
    "start_time": "2024-03-09T18:16:32.818Z"
   },
   {
    "duration": 222,
    "start_time": "2024-03-09T18:16:33.203Z"
   },
   {
    "duration": 175,
    "start_time": "2024-03-09T18:16:33.427Z"
   },
   {
    "duration": 71,
    "start_time": "2024-03-09T18:16:33.603Z"
   },
   {
    "duration": 0,
    "start_time": "2024-03-09T18:16:33.675Z"
   },
   {
    "duration": 0,
    "start_time": "2024-03-09T18:16:33.676Z"
   },
   {
    "duration": 0,
    "start_time": "2024-03-09T18:16:33.677Z"
   },
   {
    "duration": 0,
    "start_time": "2024-03-09T18:16:33.678Z"
   },
   {
    "duration": 0,
    "start_time": "2024-03-09T18:16:33.679Z"
   },
   {
    "duration": 1113,
    "start_time": "2024-03-09T18:16:58.726Z"
   },
   {
    "duration": 67,
    "start_time": "2024-03-09T18:16:59.840Z"
   },
   {
    "duration": 10,
    "start_time": "2024-03-09T18:16:59.908Z"
   },
   {
    "duration": 15,
    "start_time": "2024-03-09T18:16:59.920Z"
   },
   {
    "duration": 4,
    "start_time": "2024-03-09T18:16:59.936Z"
   },
   {
    "duration": 24,
    "start_time": "2024-03-09T18:16:59.941Z"
   },
   {
    "duration": 164,
    "start_time": "2024-03-09T18:16:59.967Z"
   },
   {
    "duration": 86,
    "start_time": "2024-03-09T18:17:00.132Z"
   },
   {
    "duration": 211,
    "start_time": "2024-03-09T18:17:00.220Z"
   },
   {
    "duration": 199,
    "start_time": "2024-03-09T18:17:00.433Z"
   },
   {
    "duration": 175,
    "start_time": "2024-03-09T18:17:00.634Z"
   },
   {
    "duration": 36,
    "start_time": "2024-03-09T18:17:00.811Z"
   },
   {
    "duration": 6,
    "start_time": "2024-03-09T18:17:00.850Z"
   },
   {
    "duration": 46,
    "start_time": "2024-03-09T18:17:00.858Z"
   },
   {
    "duration": 401,
    "start_time": "2024-03-09T18:17:00.905Z"
   },
   {
    "duration": 219,
    "start_time": "2024-03-09T18:17:01.308Z"
   },
   {
    "duration": 181,
    "start_time": "2024-03-09T18:17:01.528Z"
   },
   {
    "duration": 5,
    "start_time": "2024-03-09T18:17:01.710Z"
   },
   {
    "duration": 891,
    "start_time": "2024-03-09T18:17:01.716Z"
   },
   {
    "duration": 5,
    "start_time": "2024-03-09T18:17:02.608Z"
   },
   {
    "duration": 10,
    "start_time": "2024-03-09T18:17:02.614Z"
   },
   {
    "duration": 79,
    "start_time": "2024-03-09T18:17:02.626Z"
   },
   {
    "duration": 1125,
    "start_time": "2024-03-09T18:17:35.130Z"
   },
   {
    "duration": 66,
    "start_time": "2024-03-09T18:17:36.257Z"
   },
   {
    "duration": 11,
    "start_time": "2024-03-09T18:17:36.324Z"
   },
   {
    "duration": 7,
    "start_time": "2024-03-09T18:17:36.337Z"
   },
   {
    "duration": 5,
    "start_time": "2024-03-09T18:17:36.346Z"
   },
   {
    "duration": 21,
    "start_time": "2024-03-09T18:17:36.353Z"
   },
   {
    "duration": 163,
    "start_time": "2024-03-09T18:17:36.376Z"
   },
   {
    "duration": 105,
    "start_time": "2024-03-09T18:17:36.540Z"
   },
   {
    "duration": 161,
    "start_time": "2024-03-09T18:17:36.647Z"
   },
   {
    "duration": 194,
    "start_time": "2024-03-09T18:17:36.810Z"
   },
   {
    "duration": 177,
    "start_time": "2024-03-09T18:17:37.006Z"
   },
   {
    "duration": 26,
    "start_time": "2024-03-09T18:17:37.185Z"
   },
   {
    "duration": 3,
    "start_time": "2024-03-09T18:17:37.213Z"
   },
   {
    "duration": 37,
    "start_time": "2024-03-09T18:17:37.217Z"
   },
   {
    "duration": 415,
    "start_time": "2024-03-09T18:17:37.256Z"
   },
   {
    "duration": 259,
    "start_time": "2024-03-09T18:17:37.673Z"
   },
   {
    "duration": 165,
    "start_time": "2024-03-09T18:17:37.934Z"
   },
   {
    "duration": 4,
    "start_time": "2024-03-09T18:17:38.100Z"
   },
   {
    "duration": 864,
    "start_time": "2024-03-09T18:17:38.105Z"
   },
   {
    "duration": 8,
    "start_time": "2024-03-09T18:17:38.971Z"
   },
   {
    "duration": 41,
    "start_time": "2024-03-09T18:17:38.981Z"
   },
   {
    "duration": 50,
    "start_time": "2024-03-09T18:41:32.689Z"
   },
   {
    "duration": 1247,
    "start_time": "2024-03-09T18:41:46.064Z"
   },
   {
    "duration": 305,
    "start_time": "2024-03-09T18:41:47.313Z"
   },
   {
    "duration": 12,
    "start_time": "2024-03-09T18:41:47.620Z"
   },
   {
    "duration": 7,
    "start_time": "2024-03-09T18:41:47.634Z"
   },
   {
    "duration": 5,
    "start_time": "2024-03-09T18:41:47.644Z"
   },
   {
    "duration": 22,
    "start_time": "2024-03-09T18:41:47.651Z"
   },
   {
    "duration": 170,
    "start_time": "2024-03-09T18:41:47.675Z"
   },
   {
    "duration": 105,
    "start_time": "2024-03-09T18:41:47.846Z"
   },
   {
    "duration": 184,
    "start_time": "2024-03-09T18:41:47.953Z"
   },
   {
    "duration": 222,
    "start_time": "2024-03-09T18:41:48.139Z"
   },
   {
    "duration": 193,
    "start_time": "2024-03-09T18:41:48.363Z"
   },
   {
    "duration": 39,
    "start_time": "2024-03-09T18:41:48.558Z"
   },
   {
    "duration": 5,
    "start_time": "2024-03-09T18:41:48.598Z"
   },
   {
    "duration": 20,
    "start_time": "2024-03-09T18:41:48.606Z"
   },
   {
    "duration": 457,
    "start_time": "2024-03-09T18:41:48.628Z"
   },
   {
    "duration": 229,
    "start_time": "2024-03-09T18:41:49.087Z"
   },
   {
    "duration": 181,
    "start_time": "2024-03-09T18:41:49.318Z"
   },
   {
    "duration": 5,
    "start_time": "2024-03-09T18:41:49.501Z"
   },
   {
    "duration": 6,
    "start_time": "2024-03-09T18:41:49.508Z"
   },
   {
    "duration": 959,
    "start_time": "2024-03-09T18:41:49.516Z"
   },
   {
    "duration": 6,
    "start_time": "2024-03-09T18:41:50.477Z"
   },
   {
    "duration": 11,
    "start_time": "2024-03-09T18:41:50.485Z"
   },
   {
    "duration": 19,
    "start_time": "2024-03-09T18:42:42.809Z"
   },
   {
    "duration": 1212,
    "start_time": "2024-03-09T19:00:51.488Z"
   },
   {
    "duration": 70,
    "start_time": "2024-03-09T19:00:52.701Z"
   },
   {
    "duration": 15,
    "start_time": "2024-03-09T19:00:52.773Z"
   },
   {
    "duration": 9,
    "start_time": "2024-03-09T19:00:52.791Z"
   },
   {
    "duration": 8,
    "start_time": "2024-03-09T19:00:52.801Z"
   },
   {
    "duration": 25,
    "start_time": "2024-03-09T19:00:52.810Z"
   },
   {
    "duration": 196,
    "start_time": "2024-03-09T19:00:52.837Z"
   },
   {
    "duration": 102,
    "start_time": "2024-03-09T19:00:53.034Z"
   },
   {
    "duration": 184,
    "start_time": "2024-03-09T19:00:53.137Z"
   },
   {
    "duration": 222,
    "start_time": "2024-03-09T19:00:53.323Z"
   },
   {
    "duration": 195,
    "start_time": "2024-03-09T19:00:53.546Z"
   },
   {
    "duration": 45,
    "start_time": "2024-03-09T19:00:53.742Z"
   },
   {
    "duration": 4,
    "start_time": "2024-03-09T19:00:53.789Z"
   },
   {
    "duration": 17,
    "start_time": "2024-03-09T19:00:53.794Z"
   },
   {
    "duration": 423,
    "start_time": "2024-03-09T19:00:53.812Z"
   },
   {
    "duration": 271,
    "start_time": "2024-03-09T19:00:54.237Z"
   },
   {
    "duration": 181,
    "start_time": "2024-03-09T19:00:54.509Z"
   },
   {
    "duration": 5,
    "start_time": "2024-03-09T19:00:54.692Z"
   },
   {
    "duration": 11,
    "start_time": "2024-03-09T19:00:54.699Z"
   },
   {
    "duration": 996,
    "start_time": "2024-03-09T19:00:54.711Z"
   },
   {
    "duration": 5,
    "start_time": "2024-03-09T19:00:55.708Z"
   },
   {
    "duration": 10,
    "start_time": "2024-03-09T19:00:55.715Z"
   },
   {
    "duration": 1243,
    "start_time": "2024-03-09T19:02:26.871Z"
   },
   {
    "duration": 72,
    "start_time": "2024-03-09T19:02:28.116Z"
   },
   {
    "duration": 13,
    "start_time": "2024-03-09T19:02:28.191Z"
   },
   {
    "duration": 7,
    "start_time": "2024-03-09T19:02:28.206Z"
   },
   {
    "duration": 10,
    "start_time": "2024-03-09T19:02:28.214Z"
   },
   {
    "duration": 23,
    "start_time": "2024-03-09T19:02:28.226Z"
   },
   {
    "duration": 186,
    "start_time": "2024-03-09T19:02:28.250Z"
   },
   {
    "duration": 103,
    "start_time": "2024-03-09T19:02:28.438Z"
   },
   {
    "duration": 202,
    "start_time": "2024-03-09T19:02:28.542Z"
   },
   {
    "duration": 216,
    "start_time": "2024-03-09T19:02:28.747Z"
   },
   {
    "duration": 188,
    "start_time": "2024-03-09T19:02:28.964Z"
   },
   {
    "duration": 40,
    "start_time": "2024-03-09T19:02:29.153Z"
   },
   {
    "duration": 4,
    "start_time": "2024-03-09T19:02:29.195Z"
   },
   {
    "duration": 18,
    "start_time": "2024-03-09T19:02:29.202Z"
   },
   {
    "duration": 421,
    "start_time": "2024-03-09T19:02:29.222Z"
   },
   {
    "duration": 257,
    "start_time": "2024-03-09T19:02:29.645Z"
   },
   {
    "duration": 213,
    "start_time": "2024-03-09T19:02:29.903Z"
   },
   {
    "duration": 3,
    "start_time": "2024-03-09T19:02:30.118Z"
   },
   {
    "duration": 61,
    "start_time": "2024-03-09T19:02:30.123Z"
   },
   {
    "duration": 998,
    "start_time": "2024-03-09T19:02:30.186Z"
   },
   {
    "duration": 6,
    "start_time": "2024-03-09T19:02:31.186Z"
   },
   {
    "duration": 116,
    "start_time": "2024-03-09T19:02:31.194Z"
   },
   {
    "duration": 9,
    "start_time": "2024-03-09T19:03:08.186Z"
   },
   {
    "duration": 1053,
    "start_time": "2024-03-09T19:12:02.168Z"
   },
   {
    "duration": 67,
    "start_time": "2024-03-09T19:12:03.222Z"
   },
   {
    "duration": 10,
    "start_time": "2024-03-09T19:12:03.290Z"
   },
   {
    "duration": 34,
    "start_time": "2024-03-09T19:12:03.302Z"
   },
   {
    "duration": 31,
    "start_time": "2024-03-09T19:12:03.337Z"
   },
   {
    "duration": 55,
    "start_time": "2024-03-09T19:12:03.370Z"
   },
   {
    "duration": 174,
    "start_time": "2024-03-09T19:12:03.427Z"
   },
   {
    "duration": 78,
    "start_time": "2024-03-09T19:12:03.602Z"
   },
   {
    "duration": 186,
    "start_time": "2024-03-09T19:12:03.681Z"
   },
   {
    "duration": 172,
    "start_time": "2024-03-09T19:12:03.870Z"
   },
   {
    "duration": 153,
    "start_time": "2024-03-09T19:12:04.045Z"
   },
   {
    "duration": 26,
    "start_time": "2024-03-09T19:12:04.200Z"
   },
   {
    "duration": 4,
    "start_time": "2024-03-09T19:12:04.227Z"
   },
   {
    "duration": 12,
    "start_time": "2024-03-09T19:12:04.245Z"
   },
   {
    "duration": 355,
    "start_time": "2024-03-09T19:12:04.259Z"
   },
   {
    "duration": 218,
    "start_time": "2024-03-09T19:12:04.616Z"
   },
   {
    "duration": 240,
    "start_time": "2024-03-09T19:12:04.835Z"
   },
   {
    "duration": 4,
    "start_time": "2024-03-09T19:12:05.076Z"
   },
   {
    "duration": 10,
    "start_time": "2024-03-09T19:12:05.081Z"
   },
   {
    "duration": 1332,
    "start_time": "2024-03-09T19:12:05.092Z"
   },
   {
    "duration": 4,
    "start_time": "2024-03-09T19:12:06.425Z"
   },
   {
    "duration": 19,
    "start_time": "2024-03-09T19:12:06.431Z"
   },
   {
    "duration": 174,
    "start_time": "2024-03-09T19:12:27.954Z"
   },
   {
    "duration": 178,
    "start_time": "2024-03-09T19:12:48.884Z"
   },
   {
    "duration": 92,
    "start_time": "2024-03-09T19:13:17.924Z"
   },
   {
    "duration": 10,
    "start_time": "2024-03-09T19:13:42.859Z"
   },
   {
    "duration": 193,
    "start_time": "2024-03-09T19:14:14.928Z"
   },
   {
    "duration": 190,
    "start_time": "2024-03-09T19:14:28.436Z"
   },
   {
    "duration": 166,
    "start_time": "2024-03-09T19:14:50.235Z"
   },
   {
    "duration": 100,
    "start_time": "2024-03-10T07:27:03.038Z"
   },
   {
    "duration": 58,
    "start_time": "2024-03-10T07:29:32.537Z"
   },
   {
    "duration": 1428,
    "start_time": "2024-03-10T07:29:38.840Z"
   },
   {
    "duration": 179,
    "start_time": "2024-03-10T07:29:40.271Z"
   },
   {
    "duration": 0,
    "start_time": "2024-03-10T07:29:40.452Z"
   },
   {
    "duration": 0,
    "start_time": "2024-03-10T07:29:40.454Z"
   },
   {
    "duration": 0,
    "start_time": "2024-03-10T07:29:40.455Z"
   },
   {
    "duration": 0,
    "start_time": "2024-03-10T07:29:40.456Z"
   },
   {
    "duration": 0,
    "start_time": "2024-03-10T07:29:40.458Z"
   },
   {
    "duration": 0,
    "start_time": "2024-03-10T07:29:40.459Z"
   },
   {
    "duration": 0,
    "start_time": "2024-03-10T07:29:40.459Z"
   },
   {
    "duration": 0,
    "start_time": "2024-03-10T07:29:40.461Z"
   },
   {
    "duration": 0,
    "start_time": "2024-03-10T07:29:40.462Z"
   },
   {
    "duration": 0,
    "start_time": "2024-03-10T07:29:40.463Z"
   },
   {
    "duration": 0,
    "start_time": "2024-03-10T07:29:40.464Z"
   },
   {
    "duration": 0,
    "start_time": "2024-03-10T07:29:40.465Z"
   },
   {
    "duration": 0,
    "start_time": "2024-03-10T07:29:40.466Z"
   },
   {
    "duration": 0,
    "start_time": "2024-03-10T07:29:40.492Z"
   },
   {
    "duration": 0,
    "start_time": "2024-03-10T07:29:40.493Z"
   },
   {
    "duration": 0,
    "start_time": "2024-03-10T07:29:40.494Z"
   },
   {
    "duration": 0,
    "start_time": "2024-03-10T07:29:40.495Z"
   },
   {
    "duration": 0,
    "start_time": "2024-03-10T07:29:40.497Z"
   },
   {
    "duration": 0,
    "start_time": "2024-03-10T07:29:40.498Z"
   },
   {
    "duration": 0,
    "start_time": "2024-03-10T07:29:40.499Z"
   },
   {
    "duration": 0,
    "start_time": "2024-03-10T07:29:40.500Z"
   },
   {
    "duration": 47,
    "start_time": "2024-03-10T07:30:40.077Z"
   },
   {
    "duration": 258,
    "start_time": "2024-03-10T07:31:22.924Z"
   },
   {
    "duration": 1259,
    "start_time": "2024-03-10T07:31:36.772Z"
   },
   {
    "duration": 72,
    "start_time": "2024-03-10T07:31:38.032Z"
   },
   {
    "duration": 13,
    "start_time": "2024-03-10T07:31:38.105Z"
   },
   {
    "duration": 14,
    "start_time": "2024-03-10T07:31:38.120Z"
   },
   {
    "duration": 6,
    "start_time": "2024-03-10T07:31:38.136Z"
   },
   {
    "duration": 20,
    "start_time": "2024-03-10T07:31:38.143Z"
   },
   {
    "duration": 186,
    "start_time": "2024-03-10T07:31:38.165Z"
   },
   {
    "duration": 98,
    "start_time": "2024-03-10T07:31:38.352Z"
   },
   {
    "duration": 10,
    "start_time": "2024-03-10T07:31:38.451Z"
   },
   {
    "duration": 239,
    "start_time": "2024-03-10T07:31:38.463Z"
   },
   {
    "duration": 230,
    "start_time": "2024-03-10T07:31:38.704Z"
   },
   {
    "duration": 201,
    "start_time": "2024-03-10T07:31:38.936Z"
   },
   {
    "duration": 56,
    "start_time": "2024-03-10T07:31:39.139Z"
   },
   {
    "duration": 5,
    "start_time": "2024-03-10T07:31:39.198Z"
   },
   {
    "duration": 17,
    "start_time": "2024-03-10T07:31:39.205Z"
   },
   {
    "duration": 472,
    "start_time": "2024-03-10T07:31:39.224Z"
   },
   {
    "duration": 494,
    "start_time": "2024-03-10T07:31:39.698Z"
   },
   {
    "duration": 520,
    "start_time": "2024-03-10T07:31:40.194Z"
   },
   {
    "duration": 4,
    "start_time": "2024-03-10T07:31:40.716Z"
   },
   {
    "duration": 12,
    "start_time": "2024-03-10T07:31:40.721Z"
   },
   {
    "duration": 1309,
    "start_time": "2024-03-10T07:31:40.734Z"
   },
   {
    "duration": 5,
    "start_time": "2024-03-10T07:31:42.045Z"
   },
   {
    "duration": 10,
    "start_time": "2024-03-10T07:31:42.051Z"
   },
   {
    "duration": 44,
    "start_time": "2024-03-10T07:33:22.204Z"
   },
   {
    "duration": 44,
    "start_time": "2024-03-10T07:34:58.491Z"
   },
   {
    "duration": 6,
    "start_time": "2024-03-10T07:35:57.555Z"
   },
   {
    "duration": 6,
    "start_time": "2024-03-10T07:36:19.299Z"
   },
   {
    "duration": 7,
    "start_time": "2024-03-10T07:36:57.251Z"
   },
   {
    "duration": 12,
    "start_time": "2024-03-10T07:39:10.219Z"
   },
   {
    "duration": 186,
    "start_time": "2024-03-10T07:40:33.552Z"
   },
   {
    "duration": 20,
    "start_time": "2024-03-10T08:03:25.124Z"
   },
   {
    "duration": 119,
    "start_time": "2024-03-10T08:05:15.342Z"
   },
   {
    "duration": 18,
    "start_time": "2024-03-10T08:05:46.685Z"
   },
   {
    "duration": 206,
    "start_time": "2024-03-10T08:05:53.495Z"
   },
   {
    "duration": 210,
    "start_time": "2024-03-10T08:06:57.993Z"
   },
   {
    "duration": 199,
    "start_time": "2024-03-10T08:07:32.389Z"
   },
   {
    "duration": 20,
    "start_time": "2024-03-10T12:34:19.172Z"
   },
   {
    "duration": 1777,
    "start_time": "2024-03-10T12:35:59.436Z"
   },
   {
    "duration": 2013,
    "start_time": "2024-03-10T12:37:39.581Z"
   },
   {
    "duration": 1605,
    "start_time": "2024-03-10T12:39:54.388Z"
   },
   {
    "duration": 1738,
    "start_time": "2024-03-10T12:43:28.538Z"
   },
   {
    "duration": 1750,
    "start_time": "2024-03-10T12:44:26.516Z"
   },
   {
    "duration": 1675,
    "start_time": "2024-03-10T12:46:56.955Z"
   },
   {
    "duration": 279,
    "start_time": "2024-03-10T13:00:11.759Z"
   },
   {
    "duration": 415,
    "start_time": "2024-03-10T13:07:18.170Z"
   },
   {
    "duration": 286,
    "start_time": "2024-03-10T13:07:27.417Z"
   },
   {
    "duration": 1291,
    "start_time": "2024-03-10T13:10:21.969Z"
   },
   {
    "duration": 79,
    "start_time": "2024-03-10T13:10:23.262Z"
   },
   {
    "duration": 44,
    "start_time": "2024-03-10T13:10:23.343Z"
   },
   {
    "duration": 20,
    "start_time": "2024-03-10T13:10:23.388Z"
   },
   {
    "duration": 22,
    "start_time": "2024-03-10T13:10:23.410Z"
   },
   {
    "duration": 20,
    "start_time": "2024-03-10T13:10:23.434Z"
   },
   {
    "duration": 218,
    "start_time": "2024-03-10T13:10:23.456Z"
   },
   {
    "duration": 143,
    "start_time": "2024-03-10T13:10:23.676Z"
   },
   {
    "duration": 10,
    "start_time": "2024-03-10T13:10:23.821Z"
   },
   {
    "duration": 245,
    "start_time": "2024-03-10T13:10:23.834Z"
   },
   {
    "duration": 254,
    "start_time": "2024-03-10T13:10:24.081Z"
   },
   {
    "duration": 21,
    "start_time": "2024-03-10T13:10:24.337Z"
   },
   {
    "duration": 221,
    "start_time": "2024-03-10T13:10:24.359Z"
   },
   {
    "duration": 49,
    "start_time": "2024-03-10T13:10:24.581Z"
   },
   {
    "duration": 5,
    "start_time": "2024-03-10T13:10:24.631Z"
   },
   {
    "duration": 20,
    "start_time": "2024-03-10T13:10:24.637Z"
   },
   {
    "duration": 490,
    "start_time": "2024-03-10T13:10:24.658Z"
   },
   {
    "duration": 1934,
    "start_time": "2024-03-10T13:10:25.150Z"
   },
   {
    "duration": 279,
    "start_time": "2024-03-10T13:10:27.093Z"
   },
   {
    "duration": 299,
    "start_time": "2024-03-10T13:10:27.374Z"
   },
   {
    "duration": 23,
    "start_time": "2024-03-10T13:10:27.674Z"
   },
   {
    "duration": 1036,
    "start_time": "2024-03-10T13:10:27.703Z"
   },
   {
    "duration": 6,
    "start_time": "2024-03-10T13:10:28.741Z"
   },
   {
    "duration": 17,
    "start_time": "2024-03-10T13:10:28.748Z"
   },
   {
    "duration": 17,
    "start_time": "2024-03-10T13:11:45.550Z"
   },
   {
    "duration": 8,
    "start_time": "2024-03-10T13:12:04.197Z"
   },
   {
    "duration": 11,
    "start_time": "2024-03-10T13:14:17.105Z"
   },
   {
    "duration": 6,
    "start_time": "2024-03-10T13:34:53.084Z"
   },
   {
    "duration": 6,
    "start_time": "2024-03-10T13:34:57.807Z"
   },
   {
    "duration": 7,
    "start_time": "2024-03-10T13:37:03.302Z"
   },
   {
    "duration": 6,
    "start_time": "2024-03-10T13:37:12.642Z"
   },
   {
    "duration": 5,
    "start_time": "2024-03-10T13:37:20.206Z"
   },
   {
    "duration": 1099,
    "start_time": "2024-03-10T13:37:20.953Z"
   },
   {
    "duration": 5,
    "start_time": "2024-03-10T13:37:29.165Z"
   },
   {
    "duration": 14,
    "start_time": "2024-03-10T14:47:02.379Z"
   },
   {
    "duration": 4,
    "start_time": "2024-03-10T14:48:52.218Z"
   },
   {
    "duration": 162,
    "start_time": "2024-03-10T14:52:01.978Z"
   },
   {
    "duration": 161,
    "start_time": "2024-03-10T14:52:08.508Z"
   },
   {
    "duration": 280,
    "start_time": "2024-03-10T14:54:07.419Z"
   },
   {
    "duration": 119,
    "start_time": "2024-03-10T14:57:22.622Z"
   },
   {
    "duration": 233,
    "start_time": "2024-03-10T14:59:49.136Z"
   },
   {
    "duration": 347,
    "start_time": "2024-03-10T15:01:15.950Z"
   },
   {
    "duration": 149,
    "start_time": "2024-03-10T15:03:07.446Z"
   },
   {
    "duration": 142,
    "start_time": "2024-03-10T15:04:48.520Z"
   },
   {
    "duration": 215,
    "start_time": "2024-03-10T15:06:38.027Z"
   },
   {
    "duration": 284,
    "start_time": "2024-03-10T15:09:01.285Z"
   },
   {
    "duration": 247,
    "start_time": "2024-03-10T15:09:32.486Z"
   },
   {
    "duration": 269,
    "start_time": "2024-03-10T15:12:17.840Z"
   },
   {
    "duration": 1301,
    "start_time": "2024-03-10T15:15:29.461Z"
   },
   {
    "duration": 74,
    "start_time": "2024-03-10T15:15:30.764Z"
   },
   {
    "duration": 47,
    "start_time": "2024-03-10T15:15:30.840Z"
   },
   {
    "duration": 94,
    "start_time": "2024-03-10T15:15:30.889Z"
   },
   {
    "duration": 137,
    "start_time": "2024-03-10T15:15:30.985Z"
   },
   {
    "duration": 97,
    "start_time": "2024-03-10T15:15:31.124Z"
   },
   {
    "duration": 307,
    "start_time": "2024-03-10T15:15:31.223Z"
   },
   {
    "duration": 93,
    "start_time": "2024-03-10T15:15:31.532Z"
   },
   {
    "duration": 188,
    "start_time": "2024-03-10T15:15:31.627Z"
   },
   {
    "duration": 280,
    "start_time": "2024-03-10T15:15:31.818Z"
   },
   {
    "duration": 315,
    "start_time": "2024-03-10T15:15:32.100Z"
   },
   {
    "duration": 20,
    "start_time": "2024-03-10T15:15:32.417Z"
   },
   {
    "duration": 345,
    "start_time": "2024-03-10T15:15:32.438Z"
   },
   {
    "duration": 36,
    "start_time": "2024-03-10T15:15:32.784Z"
   },
   {
    "duration": 113,
    "start_time": "2024-03-10T15:15:32.821Z"
   },
   {
    "duration": 250,
    "start_time": "2024-03-10T15:15:32.935Z"
   },
   {
    "duration": 445,
    "start_time": "2024-03-10T15:15:33.187Z"
   },
   {
    "duration": 1760,
    "start_time": "2024-03-10T15:15:33.634Z"
   },
   {
    "duration": 248,
    "start_time": "2024-03-10T15:15:35.396Z"
   },
   {
    "duration": 250,
    "start_time": "2024-03-10T15:15:35.646Z"
   },
   {
    "duration": 19,
    "start_time": "2024-03-10T15:15:35.897Z"
   },
   {
    "duration": 4,
    "start_time": "2024-03-10T15:15:35.918Z"
   },
   {
    "duration": 29,
    "start_time": "2024-03-10T15:15:35.924Z"
   },
   {
    "duration": 866,
    "start_time": "2024-03-10T15:15:35.955Z"
   },
   {
    "duration": 5,
    "start_time": "2024-03-10T15:15:36.823Z"
   },
   {
    "duration": 19,
    "start_time": "2024-03-10T15:15:36.829Z"
   },
   {
    "duration": 12,
    "start_time": "2024-03-10T15:15:36.850Z"
   },
   {
    "duration": 8,
    "start_time": "2024-03-10T15:15:36.865Z"
   },
   {
    "duration": 52,
    "start_time": "2024-03-10T15:19:23.883Z"
   },
   {
    "duration": 1387,
    "start_time": "2024-03-10T15:19:37.617Z"
   },
   {
    "duration": 1384,
    "start_time": "2024-03-10T17:19:37.781Z"
   },
   {
    "duration": 205,
    "start_time": "2024-03-10T17:19:39.167Z"
   },
   {
    "duration": 49,
    "start_time": "2024-03-10T17:19:39.374Z"
   },
   {
    "duration": 13,
    "start_time": "2024-03-10T17:19:39.425Z"
   },
   {
    "duration": 15,
    "start_time": "2024-03-10T17:19:39.439Z"
   },
   {
    "duration": 19,
    "start_time": "2024-03-10T17:19:39.455Z"
   },
   {
    "duration": 208,
    "start_time": "2024-03-10T17:19:39.476Z"
   },
   {
    "duration": 112,
    "start_time": "2024-03-10T17:19:39.686Z"
   },
   {
    "duration": 23,
    "start_time": "2024-03-10T17:19:39.800Z"
   },
   {
    "duration": 248,
    "start_time": "2024-03-10T17:19:39.826Z"
   },
   {
    "duration": 245,
    "start_time": "2024-03-10T17:19:40.075Z"
   },
   {
    "duration": 19,
    "start_time": "2024-03-10T17:19:40.322Z"
   },
   {
    "duration": 199,
    "start_time": "2024-03-10T17:19:40.343Z"
   },
   {
    "duration": 31,
    "start_time": "2024-03-10T17:19:40.544Z"
   },
   {
    "duration": 4,
    "start_time": "2024-03-10T17:19:40.577Z"
   },
   {
    "duration": 43,
    "start_time": "2024-03-10T17:19:40.583Z"
   },
   {
    "duration": 466,
    "start_time": "2024-03-10T17:19:40.628Z"
   },
   {
    "duration": 1776,
    "start_time": "2024-03-10T17:19:41.096Z"
   },
   {
    "duration": 273,
    "start_time": "2024-03-10T17:19:42.874Z"
   },
   {
    "duration": 252,
    "start_time": "2024-03-10T17:19:43.149Z"
   },
   {
    "duration": 26,
    "start_time": "2024-03-10T17:19:43.403Z"
   },
   {
    "duration": 4,
    "start_time": "2024-03-10T17:19:43.431Z"
   },
   {
    "duration": 13,
    "start_time": "2024-03-10T17:19:43.436Z"
   },
   {
    "duration": 875,
    "start_time": "2024-03-10T17:19:43.450Z"
   },
   {
    "duration": 5,
    "start_time": "2024-03-10T17:19:44.327Z"
   },
   {
    "duration": 16,
    "start_time": "2024-03-10T17:19:44.334Z"
   },
   {
    "duration": 9,
    "start_time": "2024-03-10T17:19:44.352Z"
   },
   {
    "duration": 12,
    "start_time": "2024-03-10T17:19:44.364Z"
   },
   {
    "duration": 1221,
    "start_time": "2024-03-10T17:22:26.734Z"
   },
   {
    "duration": 88,
    "start_time": "2024-03-10T17:22:27.957Z"
   },
   {
    "duration": 60,
    "start_time": "2024-03-10T17:22:28.047Z"
   },
   {
    "duration": 19,
    "start_time": "2024-03-10T17:22:28.109Z"
   },
   {
    "duration": 12,
    "start_time": "2024-03-10T17:22:28.130Z"
   },
   {
    "duration": 20,
    "start_time": "2024-03-10T17:22:28.143Z"
   },
   {
    "duration": 224,
    "start_time": "2024-03-10T17:22:28.164Z"
   },
   {
    "duration": 105,
    "start_time": "2024-03-10T17:22:28.390Z"
   },
   {
    "duration": 12,
    "start_time": "2024-03-10T17:22:28.497Z"
   },
   {
    "duration": 218,
    "start_time": "2024-03-10T17:22:28.525Z"
   },
   {
    "duration": 221,
    "start_time": "2024-03-10T17:22:28.745Z"
   },
   {
    "duration": 20,
    "start_time": "2024-03-10T17:22:28.968Z"
   },
   {
    "duration": 201,
    "start_time": "2024-03-10T17:22:28.990Z"
   },
   {
    "duration": 49,
    "start_time": "2024-03-10T17:22:29.193Z"
   },
   {
    "duration": 4,
    "start_time": "2024-03-10T17:22:29.244Z"
   },
   {
    "duration": 27,
    "start_time": "2024-03-10T17:22:29.250Z"
   },
   {
    "duration": 459,
    "start_time": "2024-03-10T17:22:29.279Z"
   },
   {
    "duration": 1745,
    "start_time": "2024-03-10T17:22:29.740Z"
   },
   {
    "duration": 260,
    "start_time": "2024-03-10T17:22:31.487Z"
   },
   {
    "duration": 236,
    "start_time": "2024-03-10T17:22:31.749Z"
   },
   {
    "duration": 18,
    "start_time": "2024-03-10T17:22:31.987Z"
   },
   {
    "duration": 30,
    "start_time": "2024-03-10T17:22:32.007Z"
   },
   {
    "duration": 17,
    "start_time": "2024-03-10T17:22:32.038Z"
   },
   {
    "duration": 867,
    "start_time": "2024-03-10T17:22:32.057Z"
   },
   {
    "duration": 6,
    "start_time": "2024-03-10T17:22:32.926Z"
   },
   {
    "duration": 30,
    "start_time": "2024-03-10T17:22:32.933Z"
   },
   {
    "duration": 14,
    "start_time": "2024-03-10T17:22:32.965Z"
   },
   {
    "duration": 12,
    "start_time": "2024-03-10T17:22:32.982Z"
   },
   {
    "duration": 113,
    "start_time": "2024-03-10T17:22:32.995Z"
   },
   {
    "duration": 14,
    "start_time": "2024-03-10T17:24:15.982Z"
   },
   {
    "duration": 12,
    "start_time": "2024-03-10T17:25:25.460Z"
   },
   {
    "duration": 305,
    "start_time": "2024-03-10T17:25:44.958Z"
   },
   {
    "duration": 212,
    "start_time": "2024-03-10T17:26:39.425Z"
   },
   {
    "duration": 456,
    "start_time": "2024-03-10T17:28:12.402Z"
   },
   {
    "duration": 465,
    "start_time": "2024-03-10T17:30:24.345Z"
   },
   {
    "duration": 1219,
    "start_time": "2024-03-11T15:20:44.566Z"
   },
   {
    "duration": 185,
    "start_time": "2024-03-11T15:20:45.787Z"
   },
   {
    "duration": 37,
    "start_time": "2024-03-11T15:20:45.974Z"
   },
   {
    "duration": 10,
    "start_time": "2024-03-11T15:20:46.013Z"
   },
   {
    "duration": 68,
    "start_time": "2024-03-11T15:20:46.024Z"
   },
   {
    "duration": 37,
    "start_time": "2024-03-11T15:20:46.094Z"
   },
   {
    "duration": 185,
    "start_time": "2024-03-11T15:20:46.132Z"
   },
   {
    "duration": 87,
    "start_time": "2024-03-11T15:20:46.319Z"
   },
   {
    "duration": 8,
    "start_time": "2024-03-11T15:20:46.407Z"
   },
   {
    "duration": 174,
    "start_time": "2024-03-11T15:20:46.417Z"
   },
   {
    "duration": 177,
    "start_time": "2024-03-11T15:20:46.592Z"
   },
   {
    "duration": 16,
    "start_time": "2024-03-11T15:20:46.770Z"
   },
   {
    "duration": 172,
    "start_time": "2024-03-11T15:20:46.787Z"
   },
   {
    "duration": 23,
    "start_time": "2024-03-11T15:20:46.960Z"
   },
   {
    "duration": 3,
    "start_time": "2024-03-11T15:20:46.984Z"
   },
   {
    "duration": 69,
    "start_time": "2024-03-11T15:20:46.989Z"
   },
   {
    "duration": 657,
    "start_time": "2024-03-11T15:20:47.059Z"
   },
   {
    "duration": 1550,
    "start_time": "2024-03-11T15:20:47.717Z"
   },
   {
    "duration": 226,
    "start_time": "2024-03-11T15:20:49.268Z"
   },
   {
    "duration": 202,
    "start_time": "2024-03-11T15:20:49.495Z"
   },
   {
    "duration": 13,
    "start_time": "2024-03-11T15:20:49.699Z"
   },
   {
    "duration": 4,
    "start_time": "2024-03-11T15:20:49.713Z"
   },
   {
    "duration": 21,
    "start_time": "2024-03-11T15:20:49.718Z"
   },
   {
    "duration": 688,
    "start_time": "2024-03-11T15:20:49.740Z"
   },
   {
    "duration": 4,
    "start_time": "2024-03-11T15:20:50.430Z"
   },
   {
    "duration": 31,
    "start_time": "2024-03-11T15:20:50.435Z"
   },
   {
    "duration": 8,
    "start_time": "2024-03-11T15:20:50.467Z"
   },
   {
    "duration": 496,
    "start_time": "2024-03-11T15:20:50.478Z"
   },
   {
    "duration": 152,
    "start_time": "2024-03-11T15:20:50.975Z"
   },
   {
    "duration": 71,
    "start_time": "2024-03-12T16:18:53.436Z"
   },
   {
    "duration": 1487,
    "start_time": "2024-03-12T16:19:01.653Z"
   },
   {
    "duration": 204,
    "start_time": "2024-03-12T16:19:03.142Z"
   },
   {
    "duration": 46,
    "start_time": "2024-03-12T16:19:03.348Z"
   },
   {
    "duration": 13,
    "start_time": "2024-03-12T16:19:03.396Z"
   },
   {
    "duration": 21,
    "start_time": "2024-03-12T16:19:03.411Z"
   },
   {
    "duration": 27,
    "start_time": "2024-03-12T16:19:03.434Z"
   },
   {
    "duration": 194,
    "start_time": "2024-03-12T16:19:03.463Z"
   },
   {
    "duration": 103,
    "start_time": "2024-03-12T16:19:03.658Z"
   },
   {
    "duration": 21,
    "start_time": "2024-03-12T16:19:03.762Z"
   },
   {
    "duration": 227,
    "start_time": "2024-03-12T16:19:03.786Z"
   },
   {
    "duration": 216,
    "start_time": "2024-03-12T16:19:04.014Z"
   },
   {
    "duration": 20,
    "start_time": "2024-03-12T16:19:04.232Z"
   },
   {
    "duration": 85,
    "start_time": "2024-03-12T16:19:04.254Z"
   },
   {
    "duration": 0,
    "start_time": "2024-03-12T16:19:04.340Z"
   },
   {
    "duration": 0,
    "start_time": "2024-03-12T16:19:04.342Z"
   },
   {
    "duration": 0,
    "start_time": "2024-03-12T16:19:04.343Z"
   },
   {
    "duration": 0,
    "start_time": "2024-03-12T16:19:04.344Z"
   },
   {
    "duration": 0,
    "start_time": "2024-03-12T16:19:04.345Z"
   },
   {
    "duration": 0,
    "start_time": "2024-03-12T16:19:04.346Z"
   },
   {
    "duration": 0,
    "start_time": "2024-03-12T16:19:04.347Z"
   },
   {
    "duration": 0,
    "start_time": "2024-03-12T16:19:04.348Z"
   },
   {
    "duration": 0,
    "start_time": "2024-03-12T16:19:04.349Z"
   },
   {
    "duration": 0,
    "start_time": "2024-03-12T16:19:04.350Z"
   },
   {
    "duration": 0,
    "start_time": "2024-03-12T16:19:04.351Z"
   },
   {
    "duration": 0,
    "start_time": "2024-03-12T16:19:04.352Z"
   },
   {
    "duration": 0,
    "start_time": "2024-03-12T16:19:04.354Z"
   },
   {
    "duration": 0,
    "start_time": "2024-03-12T16:19:04.354Z"
   },
   {
    "duration": 0,
    "start_time": "2024-03-12T16:19:04.355Z"
   },
   {
    "duration": 0,
    "start_time": "2024-03-12T16:19:04.357Z"
   },
   {
    "duration": 0,
    "start_time": "2024-03-12T16:19:04.358Z"
   },
   {
    "duration": 0,
    "start_time": "2024-03-12T16:19:04.359Z"
   },
   {
    "duration": 13,
    "start_time": "2024-03-12T16:19:10.976Z"
   },
   {
    "duration": 1189,
    "start_time": "2024-03-12T16:20:23.730Z"
   },
   {
    "duration": 73,
    "start_time": "2024-03-12T16:20:24.921Z"
   },
   {
    "duration": 45,
    "start_time": "2024-03-12T16:20:24.995Z"
   },
   {
    "duration": 13,
    "start_time": "2024-03-12T16:20:25.042Z"
   },
   {
    "duration": 13,
    "start_time": "2024-03-12T16:20:25.057Z"
   },
   {
    "duration": 20,
    "start_time": "2024-03-12T16:20:25.083Z"
   },
   {
    "duration": 212,
    "start_time": "2024-03-12T16:20:25.105Z"
   },
   {
    "duration": 105,
    "start_time": "2024-03-12T16:20:25.319Z"
   },
   {
    "duration": 11,
    "start_time": "2024-03-12T16:20:25.426Z"
   },
   {
    "duration": 221,
    "start_time": "2024-03-12T16:20:25.439Z"
   },
   {
    "duration": 237,
    "start_time": "2024-03-12T16:20:25.662Z"
   },
   {
    "duration": 20,
    "start_time": "2024-03-12T16:20:25.901Z"
   },
   {
    "duration": 221,
    "start_time": "2024-03-12T16:20:25.923Z"
   },
   {
    "duration": 57,
    "start_time": "2024-03-12T16:20:26.147Z"
   },
   {
    "duration": 4,
    "start_time": "2024-03-12T16:20:26.205Z"
   },
   {
    "duration": 77,
    "start_time": "2024-03-12T16:20:26.210Z"
   },
   {
    "duration": 832,
    "start_time": "2024-03-12T16:20:26.288Z"
   },
   {
    "duration": 3619,
    "start_time": "2024-03-12T16:20:27.122Z"
   },
   {
    "duration": 287,
    "start_time": "2024-03-12T16:20:30.743Z"
   },
   {
    "duration": 243,
    "start_time": "2024-03-12T16:20:31.031Z"
   },
   {
    "duration": 21,
    "start_time": "2024-03-12T16:20:31.276Z"
   },
   {
    "duration": 58,
    "start_time": "2024-03-12T16:20:31.298Z"
   },
   {
    "duration": 37,
    "start_time": "2024-03-12T16:20:31.358Z"
   },
   {
    "duration": 946,
    "start_time": "2024-03-12T16:20:31.396Z"
   },
   {
    "duration": 5,
    "start_time": "2024-03-12T16:20:32.344Z"
   },
   {
    "duration": 33,
    "start_time": "2024-03-12T16:20:32.351Z"
   },
   {
    "duration": 10,
    "start_time": "2024-03-12T16:20:32.386Z"
   },
   {
    "duration": 578,
    "start_time": "2024-03-12T16:20:32.398Z"
   },
   {
    "duration": 208,
    "start_time": "2024-03-12T16:20:32.978Z"
   },
   {
    "duration": 1229,
    "start_time": "2024-03-12T17:14:46.588Z"
   },
   {
    "duration": 73,
    "start_time": "2024-03-12T17:14:47.819Z"
   },
   {
    "duration": 45,
    "start_time": "2024-03-12T17:14:47.894Z"
   },
   {
    "duration": 13,
    "start_time": "2024-03-12T17:14:47.941Z"
   },
   {
    "duration": 33,
    "start_time": "2024-03-12T17:14:47.956Z"
   },
   {
    "duration": 31,
    "start_time": "2024-03-12T17:14:47.991Z"
   },
   {
    "duration": 231,
    "start_time": "2024-03-12T17:14:48.024Z"
   },
   {
    "duration": 101,
    "start_time": "2024-03-12T17:14:48.256Z"
   },
   {
    "duration": 11,
    "start_time": "2024-03-12T17:14:48.359Z"
   },
   {
    "duration": 251,
    "start_time": "2024-03-12T17:14:48.372Z"
   },
   {
    "duration": 289,
    "start_time": "2024-03-12T17:14:48.625Z"
   },
   {
    "duration": 19,
    "start_time": "2024-03-12T17:14:48.915Z"
   },
   {
    "duration": 205,
    "start_time": "2024-03-12T17:14:48.936Z"
   },
   {
    "duration": 40,
    "start_time": "2024-03-12T17:14:49.142Z"
   },
   {
    "duration": 4,
    "start_time": "2024-03-12T17:14:49.184Z"
   },
   {
    "duration": 26,
    "start_time": "2024-03-12T17:14:49.190Z"
   },
   {
    "duration": 462,
    "start_time": "2024-03-12T17:14:49.218Z"
   },
   {
    "duration": 1707,
    "start_time": "2024-03-12T17:14:49.682Z"
   },
   {
    "duration": 254,
    "start_time": "2024-03-12T17:14:51.391Z"
   },
   {
    "duration": 302,
    "start_time": "2024-03-12T17:14:51.647Z"
   },
   {
    "duration": 33,
    "start_time": "2024-03-12T17:14:51.950Z"
   },
   {
    "duration": 5,
    "start_time": "2024-03-12T17:14:51.985Z"
   },
   {
    "duration": 59,
    "start_time": "2024-03-12T17:14:51.992Z"
   },
   {
    "duration": 945,
    "start_time": "2024-03-12T17:14:52.053Z"
   },
   {
    "duration": 5,
    "start_time": "2024-03-12T17:14:53.000Z"
   },
   {
    "duration": 23,
    "start_time": "2024-03-12T17:14:53.007Z"
   },
   {
    "duration": 10,
    "start_time": "2024-03-12T17:14:53.032Z"
   },
   {
    "duration": 576,
    "start_time": "2024-03-12T17:14:53.045Z"
   },
   {
    "duration": 206,
    "start_time": "2024-03-12T17:14:53.623Z"
   },
   {
    "duration": 15,
    "start_time": "2024-03-12T17:15:47.100Z"
   },
   {
    "duration": 21,
    "start_time": "2024-03-12T17:16:03.005Z"
   },
   {
    "duration": 13,
    "start_time": "2024-03-12T17:17:54.340Z"
   },
   {
    "duration": 10,
    "start_time": "2024-03-12T17:22:18.481Z"
   },
   {
    "duration": 257,
    "start_time": "2024-03-12T17:23:35.144Z"
   },
   {
    "duration": 11,
    "start_time": "2024-03-12T17:29:50.962Z"
   },
   {
    "duration": 107,
    "start_time": "2024-03-12T17:41:46.182Z"
   },
   {
    "duration": 195,
    "start_time": "2024-03-12T17:42:09.730Z"
   },
   {
    "duration": 474,
    "start_time": "2024-03-12T17:42:17.330Z"
   },
   {
    "duration": 1218,
    "start_time": "2024-03-12T17:44:30.204Z"
   },
   {
    "duration": 73,
    "start_time": "2024-03-12T17:44:31.424Z"
   },
   {
    "duration": 46,
    "start_time": "2024-03-12T17:44:31.499Z"
   },
   {
    "duration": 14,
    "start_time": "2024-03-12T17:44:31.547Z"
   },
   {
    "duration": 47,
    "start_time": "2024-03-12T17:44:31.563Z"
   },
   {
    "duration": 44,
    "start_time": "2024-03-12T17:44:31.613Z"
   },
   {
    "duration": 232,
    "start_time": "2024-03-12T17:44:31.659Z"
   },
   {
    "duration": 118,
    "start_time": "2024-03-12T17:44:31.894Z"
   },
   {
    "duration": 10,
    "start_time": "2024-03-12T17:44:32.014Z"
   },
   {
    "duration": 255,
    "start_time": "2024-03-12T17:44:32.027Z"
   },
   {
    "duration": 225,
    "start_time": "2024-03-12T17:44:32.283Z"
   },
   {
    "duration": 35,
    "start_time": "2024-03-12T17:44:32.510Z"
   },
   {
    "duration": 219,
    "start_time": "2024-03-12T17:44:32.547Z"
   },
   {
    "duration": 42,
    "start_time": "2024-03-12T17:44:32.768Z"
   },
   {
    "duration": 6,
    "start_time": "2024-03-12T17:44:32.811Z"
   },
   {
    "duration": 67,
    "start_time": "2024-03-12T17:44:32.819Z"
   },
   {
    "duration": 476,
    "start_time": "2024-03-12T17:44:32.888Z"
   },
   {
    "duration": 1756,
    "start_time": "2024-03-12T17:44:33.367Z"
   },
   {
    "duration": 265,
    "start_time": "2024-03-12T17:44:35.125Z"
   },
   {
    "duration": 238,
    "start_time": "2024-03-12T17:44:35.392Z"
   },
   {
    "duration": 17,
    "start_time": "2024-03-12T17:44:35.632Z"
   },
   {
    "duration": 4,
    "start_time": "2024-03-12T17:44:35.651Z"
   },
   {
    "duration": 28,
    "start_time": "2024-03-12T17:44:35.656Z"
   },
   {
    "duration": 917,
    "start_time": "2024-03-12T17:44:35.686Z"
   },
   {
    "duration": 19,
    "start_time": "2024-03-12T17:44:36.604Z"
   },
   {
    "duration": 397,
    "start_time": "2024-03-12T17:44:36.626Z"
   },
   {
    "duration": 8,
    "start_time": "2024-03-12T17:44:37.024Z"
   },
   {
    "duration": 12,
    "start_time": "2024-03-12T17:44:37.035Z"
   },
   {
    "duration": 35,
    "start_time": "2024-03-12T17:44:37.048Z"
   },
   {
    "duration": 475,
    "start_time": "2024-03-12T17:44:37.085Z"
   },
   {
    "duration": 199,
    "start_time": "2024-03-12T17:44:37.562Z"
   },
   {
    "duration": 1257,
    "start_time": "2024-03-12T17:46:29.948Z"
   },
   {
    "duration": 75,
    "start_time": "2024-03-12T17:46:31.208Z"
   },
   {
    "duration": 47,
    "start_time": "2024-03-12T17:46:31.285Z"
   },
   {
    "duration": 33,
    "start_time": "2024-03-12T17:46:31.333Z"
   },
   {
    "duration": 85,
    "start_time": "2024-03-12T17:46:31.368Z"
   },
   {
    "duration": 47,
    "start_time": "2024-03-12T17:46:31.455Z"
   },
   {
    "duration": 204,
    "start_time": "2024-03-12T17:46:31.503Z"
   },
   {
    "duration": 108,
    "start_time": "2024-03-12T17:46:31.709Z"
   },
   {
    "duration": 25,
    "start_time": "2024-03-12T17:46:31.819Z"
   },
   {
    "duration": 262,
    "start_time": "2024-03-12T17:46:31.846Z"
   },
   {
    "duration": 246,
    "start_time": "2024-03-12T17:46:32.110Z"
   },
   {
    "duration": 35,
    "start_time": "2024-03-12T17:46:32.357Z"
   },
   {
    "duration": 241,
    "start_time": "2024-03-12T17:46:32.394Z"
   },
   {
    "duration": 49,
    "start_time": "2024-03-12T17:46:32.638Z"
   },
   {
    "duration": 5,
    "start_time": "2024-03-12T17:46:32.689Z"
   },
   {
    "duration": 39,
    "start_time": "2024-03-12T17:46:32.696Z"
   },
   {
    "duration": 476,
    "start_time": "2024-03-12T17:46:32.736Z"
   },
   {
    "duration": 1892,
    "start_time": "2024-03-12T17:46:33.214Z"
   },
   {
    "duration": 504,
    "start_time": "2024-03-12T17:46:35.108Z"
   },
   {
    "duration": 498,
    "start_time": "2024-03-12T17:46:35.614Z"
   },
   {
    "duration": 77,
    "start_time": "2024-03-12T17:46:36.114Z"
   },
   {
    "duration": 5,
    "start_time": "2024-03-12T17:46:36.193Z"
   },
   {
    "duration": 8,
    "start_time": "2024-03-12T17:46:36.200Z"
   },
   {
    "duration": 1015,
    "start_time": "2024-03-12T17:46:36.210Z"
   },
   {
    "duration": 20,
    "start_time": "2024-03-12T17:46:37.226Z"
   },
   {
    "duration": 425,
    "start_time": "2024-03-12T17:46:37.248Z"
   },
   {
    "duration": 15,
    "start_time": "2024-03-12T17:46:37.675Z"
   },
   {
    "duration": 30,
    "start_time": "2024-03-12T17:46:37.692Z"
   },
   {
    "duration": 18,
    "start_time": "2024-03-12T17:46:37.725Z"
   },
   {
    "duration": 519,
    "start_time": "2024-03-12T17:46:37.746Z"
   },
   {
    "duration": 201,
    "start_time": "2024-03-12T17:46:38.266Z"
   },
   {
    "duration": 1303,
    "start_time": "2024-03-13T14:57:36.596Z"
   },
   {
    "duration": 305,
    "start_time": "2024-03-13T14:57:37.902Z"
   },
   {
    "duration": 44,
    "start_time": "2024-03-13T14:57:38.212Z"
   },
   {
    "duration": 14,
    "start_time": "2024-03-13T14:57:38.257Z"
   },
   {
    "duration": 16,
    "start_time": "2024-03-13T14:57:38.272Z"
   },
   {
    "duration": 27,
    "start_time": "2024-03-13T14:57:38.289Z"
   },
   {
    "duration": 215,
    "start_time": "2024-03-13T14:57:38.317Z"
   },
   {
    "duration": 98,
    "start_time": "2024-03-13T14:57:38.534Z"
   },
   {
    "duration": 10,
    "start_time": "2024-03-13T14:57:38.634Z"
   },
   {
    "duration": 208,
    "start_time": "2024-03-13T14:57:38.646Z"
   },
   {
    "duration": 204,
    "start_time": "2024-03-13T14:57:38.855Z"
   },
   {
    "duration": 35,
    "start_time": "2024-03-13T14:57:39.061Z"
   },
   {
    "duration": 193,
    "start_time": "2024-03-13T14:57:39.098Z"
   },
   {
    "duration": 38,
    "start_time": "2024-03-13T14:57:39.293Z"
   },
   {
    "duration": 5,
    "start_time": "2024-03-13T14:57:39.332Z"
   },
   {
    "duration": 52,
    "start_time": "2024-03-13T14:57:39.339Z"
   },
   {
    "duration": 421,
    "start_time": "2024-03-13T14:57:39.393Z"
   },
   {
    "duration": 1570,
    "start_time": "2024-03-13T14:57:39.815Z"
   },
   {
    "duration": 245,
    "start_time": "2024-03-13T14:57:41.386Z"
   },
   {
    "duration": 228,
    "start_time": "2024-03-13T14:57:41.633Z"
   },
   {
    "duration": 22,
    "start_time": "2024-03-13T14:57:41.862Z"
   },
   {
    "duration": 4,
    "start_time": "2024-03-13T14:57:41.885Z"
   },
   {
    "duration": 7,
    "start_time": "2024-03-13T14:57:41.890Z"
   },
   {
    "duration": 837,
    "start_time": "2024-03-13T14:57:41.898Z"
   },
   {
    "duration": 17,
    "start_time": "2024-03-13T14:57:42.737Z"
   },
   {
    "duration": 347,
    "start_time": "2024-03-13T14:57:42.755Z"
   },
   {
    "duration": 7,
    "start_time": "2024-03-13T14:57:43.105Z"
   },
   {
    "duration": 11,
    "start_time": "2024-03-13T14:57:43.114Z"
   },
   {
    "duration": 11,
    "start_time": "2024-03-13T14:57:43.127Z"
   },
   {
    "duration": 498,
    "start_time": "2024-03-13T14:57:43.140Z"
   },
   {
    "duration": 189,
    "start_time": "2024-03-13T14:57:43.640Z"
   },
   {
    "duration": 1174,
    "start_time": "2024-03-13T15:37:46.429Z"
   },
   {
    "duration": 72,
    "start_time": "2024-03-13T15:37:47.605Z"
   },
   {
    "duration": 48,
    "start_time": "2024-03-13T15:37:47.678Z"
   },
   {
    "duration": 13,
    "start_time": "2024-03-13T15:37:47.727Z"
   },
   {
    "duration": 11,
    "start_time": "2024-03-13T15:37:47.742Z"
   },
   {
    "duration": 64,
    "start_time": "2024-03-13T15:37:47.754Z"
   },
   {
    "duration": 214,
    "start_time": "2024-03-13T15:37:47.819Z"
   },
   {
    "duration": 97,
    "start_time": "2024-03-13T15:37:48.035Z"
   },
   {
    "duration": 10,
    "start_time": "2024-03-13T15:37:48.134Z"
   },
   {
    "duration": 246,
    "start_time": "2024-03-13T15:37:48.147Z"
   },
   {
    "duration": 219,
    "start_time": "2024-03-13T15:37:48.395Z"
   },
   {
    "duration": 24,
    "start_time": "2024-03-13T15:37:48.616Z"
   },
   {
    "duration": 378,
    "start_time": "2024-03-13T15:37:48.641Z"
   },
   {
    "duration": 92,
    "start_time": "2024-03-13T15:37:49.021Z"
   },
   {
    "duration": 5,
    "start_time": "2024-03-13T15:37:49.115Z"
   },
   {
    "duration": 87,
    "start_time": "2024-03-13T15:37:49.121Z"
   },
   {
    "duration": 913,
    "start_time": "2024-03-13T15:37:49.209Z"
   },
   {
    "duration": 1769,
    "start_time": "2024-03-13T15:37:50.123Z"
   },
   {
    "duration": 246,
    "start_time": "2024-03-13T15:37:51.894Z"
   },
   {
    "duration": 251,
    "start_time": "2024-03-13T15:37:52.142Z"
   },
   {
    "duration": 17,
    "start_time": "2024-03-13T15:37:52.395Z"
   },
   {
    "duration": 4,
    "start_time": "2024-03-13T15:37:52.413Z"
   },
   {
    "duration": 11,
    "start_time": "2024-03-13T15:37:52.418Z"
   },
   {
    "duration": 888,
    "start_time": "2024-03-13T15:37:52.431Z"
   },
   {
    "duration": 17,
    "start_time": "2024-03-13T15:37:53.321Z"
   },
   {
    "duration": 362,
    "start_time": "2024-03-13T15:37:53.339Z"
   },
   {
    "duration": 6,
    "start_time": "2024-03-13T15:37:53.702Z"
   },
   {
    "duration": 17,
    "start_time": "2024-03-13T15:37:53.711Z"
   },
   {
    "duration": 11,
    "start_time": "2024-03-13T15:37:53.730Z"
   },
   {
    "duration": 603,
    "start_time": "2024-03-13T15:37:53.743Z"
   },
   {
    "duration": 213,
    "start_time": "2024-03-13T15:37:54.348Z"
   },
   {
    "duration": 1219,
    "start_time": "2024-03-13T15:48:10.866Z"
   },
   {
    "duration": 73,
    "start_time": "2024-03-13T15:48:12.094Z"
   },
   {
    "duration": 48,
    "start_time": "2024-03-13T15:48:12.169Z"
   },
   {
    "duration": 12,
    "start_time": "2024-03-13T15:48:12.218Z"
   },
   {
    "duration": 11,
    "start_time": "2024-03-13T15:48:12.232Z"
   },
   {
    "duration": 69,
    "start_time": "2024-03-13T15:48:12.245Z"
   },
   {
    "duration": 191,
    "start_time": "2024-03-13T15:48:12.316Z"
   },
   {
    "duration": 103,
    "start_time": "2024-03-13T15:48:12.508Z"
   },
   {
    "duration": 10,
    "start_time": "2024-03-13T15:48:12.612Z"
   },
   {
    "duration": 216,
    "start_time": "2024-03-13T15:48:12.624Z"
   },
   {
    "duration": 222,
    "start_time": "2024-03-13T15:48:12.841Z"
   },
   {
    "duration": 37,
    "start_time": "2024-03-13T15:48:13.065Z"
   },
   {
    "duration": 212,
    "start_time": "2024-03-13T15:48:13.104Z"
   },
   {
    "duration": 35,
    "start_time": "2024-03-13T15:48:13.320Z"
   },
   {
    "duration": 38,
    "start_time": "2024-03-13T15:48:13.357Z"
   },
   {
    "duration": 26,
    "start_time": "2024-03-13T15:48:13.397Z"
   },
   {
    "duration": 445,
    "start_time": "2024-03-13T15:48:13.425Z"
   },
   {
    "duration": 1687,
    "start_time": "2024-03-13T15:48:13.872Z"
   },
   {
    "duration": 260,
    "start_time": "2024-03-13T15:48:15.561Z"
   },
   {
    "duration": 234,
    "start_time": "2024-03-13T15:48:15.822Z"
   },
   {
    "duration": 36,
    "start_time": "2024-03-13T15:48:16.058Z"
   },
   {
    "duration": 4,
    "start_time": "2024-03-13T15:48:16.096Z"
   },
   {
    "duration": 29,
    "start_time": "2024-03-13T15:48:16.101Z"
   },
   {
    "duration": 838,
    "start_time": "2024-03-13T15:48:16.131Z"
   },
   {
    "duration": 34,
    "start_time": "2024-03-13T15:48:16.970Z"
   },
   {
    "duration": 347,
    "start_time": "2024-03-13T15:48:17.005Z"
   },
   {
    "duration": 7,
    "start_time": "2024-03-13T15:48:17.353Z"
   },
   {
    "duration": 31,
    "start_time": "2024-03-13T15:48:17.361Z"
   },
   {
    "duration": 11,
    "start_time": "2024-03-13T15:48:17.394Z"
   },
   {
    "duration": 478,
    "start_time": "2024-03-13T15:48:17.406Z"
   },
   {
    "duration": 186,
    "start_time": "2024-03-13T15:48:17.894Z"
   },
   {
    "duration": 44,
    "start_time": "2024-03-14T03:35:59.919Z"
   },
   {
    "duration": 6,
    "start_time": "2024-03-14T03:40:17.036Z"
   },
   {
    "duration": 1060,
    "start_time": "2024-03-14T03:40:27.178Z"
   },
   {
    "duration": 197,
    "start_time": "2024-03-14T03:40:28.240Z"
   },
   {
    "duration": 33,
    "start_time": "2024-03-14T03:40:28.438Z"
   },
   {
    "duration": 10,
    "start_time": "2024-03-14T03:40:28.473Z"
   },
   {
    "duration": 9,
    "start_time": "2024-03-14T03:40:28.484Z"
   },
   {
    "duration": 21,
    "start_time": "2024-03-14T03:40:28.494Z"
   },
   {
    "duration": 159,
    "start_time": "2024-03-14T03:40:28.516Z"
   },
   {
    "duration": 81,
    "start_time": "2024-03-14T03:40:28.676Z"
   },
   {
    "duration": 9,
    "start_time": "2024-03-14T03:40:28.758Z"
   },
   {
    "duration": 160,
    "start_time": "2024-03-14T03:40:28.769Z"
   },
   {
    "duration": 161,
    "start_time": "2024-03-14T03:40:28.931Z"
   },
   {
    "duration": 25,
    "start_time": "2024-03-14T03:40:29.093Z"
   },
   {
    "duration": 164,
    "start_time": "2024-03-14T03:40:29.120Z"
   },
   {
    "duration": 35,
    "start_time": "2024-03-14T03:40:29.286Z"
   },
   {
    "duration": 4,
    "start_time": "2024-03-14T03:40:29.322Z"
   },
   {
    "duration": 24,
    "start_time": "2024-03-14T03:40:29.328Z"
   },
   {
    "duration": 376,
    "start_time": "2024-03-14T03:40:29.353Z"
   },
   {
    "duration": 1295,
    "start_time": "2024-03-14T03:40:29.731Z"
   },
   {
    "duration": 223,
    "start_time": "2024-03-14T03:40:31.028Z"
   },
   {
    "duration": 195,
    "start_time": "2024-03-14T03:40:31.252Z"
   },
   {
    "duration": 13,
    "start_time": "2024-03-14T03:40:31.449Z"
   },
   {
    "duration": 24,
    "start_time": "2024-03-14T03:40:31.463Z"
   },
   {
    "duration": 60,
    "start_time": "2024-03-14T03:40:31.488Z"
   },
   {
    "duration": 688,
    "start_time": "2024-03-14T03:40:31.549Z"
   },
   {
    "duration": 14,
    "start_time": "2024-03-14T03:40:32.239Z"
   },
   {
    "duration": 298,
    "start_time": "2024-03-14T03:40:32.254Z"
   },
   {
    "duration": 5,
    "start_time": "2024-03-14T03:40:32.553Z"
   },
   {
    "duration": 8,
    "start_time": "2024-03-14T03:40:32.559Z"
   },
   {
    "duration": 8,
    "start_time": "2024-03-14T03:40:32.569Z"
   },
   {
    "duration": 25,
    "start_time": "2024-03-14T03:40:32.578Z"
   },
   {
    "duration": 344,
    "start_time": "2024-03-14T03:40:32.605Z"
   },
   {
    "duration": 163,
    "start_time": "2024-03-14T03:40:32.951Z"
   },
   {
    "duration": 7,
    "start_time": "2024-03-14T03:40:33.116Z"
   },
   {
    "duration": 29,
    "start_time": "2024-03-14T03:40:33.124Z"
   },
   {
    "duration": 9,
    "start_time": "2024-03-14T03:40:33.154Z"
   },
   {
    "duration": 23,
    "start_time": "2024-03-14T03:40:33.164Z"
   },
   {
    "duration": 12,
    "start_time": "2024-03-14T03:40:33.188Z"
   },
   {
    "duration": 15,
    "start_time": "2024-03-14T03:40:33.202Z"
   },
   {
    "duration": 10,
    "start_time": "2024-03-14T03:40:33.219Z"
   },
   {
    "duration": 10,
    "start_time": "2024-03-14T03:40:33.230Z"
   },
   {
    "duration": 3,
    "start_time": "2024-03-14T03:40:33.244Z"
   },
   {
    "duration": 4,
    "start_time": "2024-03-14T03:40:33.249Z"
   },
   {
    "duration": 8,
    "start_time": "2024-03-14T03:40:33.254Z"
   },
   {
    "duration": 12,
    "start_time": "2024-03-14T03:40:33.263Z"
   },
   {
    "duration": 580,
    "start_time": "2024-03-14T03:40:33.276Z"
   },
   {
    "duration": 3,
    "start_time": "2024-03-14T03:40:33.857Z"
   },
   {
    "duration": 14,
    "start_time": "2024-03-14T03:40:33.862Z"
   },
   {
    "duration": 104,
    "start_time": "2024-03-14T03:40:33.878Z"
   },
   {
    "duration": 18,
    "start_time": "2024-03-14T03:40:33.984Z"
   },
   {
    "duration": 8,
    "start_time": "2024-03-14T03:40:34.003Z"
   },
   {
    "duration": 601,
    "start_time": "2024-03-14T03:40:34.013Z"
   },
   {
    "duration": 213,
    "start_time": "2024-03-14T03:40:34.616Z"
   },
   {
    "duration": 1076,
    "start_time": "2024-03-14T03:42:50.279Z"
   },
   {
    "duration": 67,
    "start_time": "2024-03-14T03:42:51.357Z"
   },
   {
    "duration": 32,
    "start_time": "2024-03-14T03:42:51.425Z"
   },
   {
    "duration": 10,
    "start_time": "2024-03-14T03:42:51.459Z"
   },
   {
    "duration": 9,
    "start_time": "2024-03-14T03:42:51.470Z"
   },
   {
    "duration": 33,
    "start_time": "2024-03-14T03:42:51.480Z"
   },
   {
    "duration": 161,
    "start_time": "2024-03-14T03:42:51.514Z"
   },
   {
    "duration": 82,
    "start_time": "2024-03-14T03:42:51.677Z"
   },
   {
    "duration": 8,
    "start_time": "2024-03-14T03:42:51.760Z"
   },
   {
    "duration": 184,
    "start_time": "2024-03-14T03:42:51.770Z"
   },
   {
    "duration": 184,
    "start_time": "2024-03-14T03:42:51.955Z"
   },
   {
    "duration": 20,
    "start_time": "2024-03-14T03:42:52.140Z"
   },
   {
    "duration": 153,
    "start_time": "2024-03-14T03:42:52.161Z"
   },
   {
    "duration": 30,
    "start_time": "2024-03-14T03:42:52.317Z"
   },
   {
    "duration": 5,
    "start_time": "2024-03-14T03:42:52.348Z"
   },
   {
    "duration": 31,
    "start_time": "2024-03-14T03:42:52.354Z"
   },
   {
    "duration": 620,
    "start_time": "2024-03-14T03:42:52.386Z"
   },
   {
    "duration": 1849,
    "start_time": "2024-03-14T03:42:53.007Z"
   },
   {
    "duration": 212,
    "start_time": "2024-03-14T03:42:54.858Z"
   },
   {
    "duration": 204,
    "start_time": "2024-03-14T03:42:55.071Z"
   },
   {
    "duration": 14,
    "start_time": "2024-03-14T03:42:55.276Z"
   },
   {
    "duration": 12,
    "start_time": "2024-03-14T03:42:55.291Z"
   },
   {
    "duration": 22,
    "start_time": "2024-03-14T03:42:55.304Z"
   },
   {
    "duration": 659,
    "start_time": "2024-03-14T03:42:55.327Z"
   },
   {
    "duration": 25,
    "start_time": "2024-03-14T03:42:55.987Z"
   },
   {
    "duration": 289,
    "start_time": "2024-03-14T03:42:56.014Z"
   },
   {
    "duration": 5,
    "start_time": "2024-03-14T03:42:56.305Z"
   },
   {
    "duration": 11,
    "start_time": "2024-03-14T03:42:56.312Z"
   },
   {
    "duration": 12,
    "start_time": "2024-03-14T03:42:56.324Z"
   },
   {
    "duration": 8,
    "start_time": "2024-03-14T03:42:56.337Z"
   },
   {
    "duration": 386,
    "start_time": "2024-03-14T03:42:56.346Z"
   },
   {
    "duration": 156,
    "start_time": "2024-03-14T03:42:56.733Z"
   },
   {
    "duration": 12,
    "start_time": "2024-03-14T03:42:56.891Z"
   },
   {
    "duration": 7,
    "start_time": "2024-03-14T03:42:56.904Z"
   },
   {
    "duration": 4,
    "start_time": "2024-03-14T03:42:56.912Z"
   },
   {
    "duration": 19,
    "start_time": "2024-03-14T03:42:56.918Z"
   },
   {
    "duration": 10,
    "start_time": "2024-03-14T03:42:56.938Z"
   },
   {
    "duration": 15,
    "start_time": "2024-03-14T03:42:56.949Z"
   },
   {
    "duration": 20,
    "start_time": "2024-03-14T03:42:56.965Z"
   },
   {
    "duration": 16,
    "start_time": "2024-03-14T03:42:56.986Z"
   },
   {
    "duration": 3,
    "start_time": "2024-03-14T03:42:57.005Z"
   },
   {
    "duration": 8,
    "start_time": "2024-03-14T03:42:57.010Z"
   },
   {
    "duration": 4,
    "start_time": "2024-03-14T03:42:57.019Z"
   },
   {
    "duration": 8,
    "start_time": "2024-03-14T03:42:57.024Z"
   },
   {
    "duration": 596,
    "start_time": "2024-03-14T03:42:57.033Z"
   },
   {
    "duration": 3,
    "start_time": "2024-03-14T03:42:57.630Z"
   },
   {
    "duration": 11,
    "start_time": "2024-03-14T03:42:57.634Z"
   },
   {
    "duration": 103,
    "start_time": "2024-03-14T03:42:57.646Z"
   },
   {
    "duration": 8,
    "start_time": "2024-03-14T03:42:57.751Z"
   },
   {
    "duration": 12,
    "start_time": "2024-03-14T03:42:57.760Z"
   },
   {
    "duration": 570,
    "start_time": "2024-03-14T03:42:57.773Z"
   },
   {
    "duration": 53,
    "start_time": "2024-03-17T16:57:31.810Z"
   },
   {
    "duration": 1520,
    "start_time": "2024-03-17T16:57:39.385Z"
   },
   {
    "duration": 298,
    "start_time": "2024-03-17T16:57:40.907Z"
   },
   {
    "duration": 65,
    "start_time": "2024-03-17T16:57:41.207Z"
   },
   {
    "duration": 30,
    "start_time": "2024-03-17T16:57:41.275Z"
   },
   {
    "duration": 14,
    "start_time": "2024-03-17T16:57:41.307Z"
   },
   {
    "duration": 70,
    "start_time": "2024-03-17T16:57:41.323Z"
   },
   {
    "duration": 219,
    "start_time": "2024-03-17T16:57:41.395Z"
   },
   {
    "duration": 110,
    "start_time": "2024-03-17T16:57:41.615Z"
   },
   {
    "duration": 12,
    "start_time": "2024-03-17T16:57:41.727Z"
   },
   {
    "duration": 261,
    "start_time": "2024-03-17T16:57:41.743Z"
   },
   {
    "duration": 268,
    "start_time": "2024-03-17T16:57:42.006Z"
   },
   {
    "duration": 29,
    "start_time": "2024-03-17T16:57:42.276Z"
   },
   {
    "duration": 218,
    "start_time": "2024-03-17T16:57:42.307Z"
   },
   {
    "duration": 38,
    "start_time": "2024-03-17T16:57:42.526Z"
   },
   {
    "duration": 6,
    "start_time": "2024-03-17T16:57:42.565Z"
   },
   {
    "duration": 45,
    "start_time": "2024-03-17T16:57:42.572Z"
   },
   {
    "duration": 737,
    "start_time": "2024-03-17T16:57:42.619Z"
   },
   {
    "duration": 2580,
    "start_time": "2024-03-17T16:57:43.392Z"
   },
   {
    "duration": 271,
    "start_time": "2024-03-17T16:57:45.973Z"
   },
   {
    "duration": 253,
    "start_time": "2024-03-17T16:57:46.245Z"
   },
   {
    "duration": 19,
    "start_time": "2024-03-17T16:57:46.499Z"
   },
   {
    "duration": 23,
    "start_time": "2024-03-17T16:57:46.519Z"
   },
   {
    "duration": 9,
    "start_time": "2024-03-17T16:57:46.544Z"
   },
   {
    "duration": 923,
    "start_time": "2024-03-17T16:57:46.555Z"
   },
   {
    "duration": 24,
    "start_time": "2024-03-17T16:57:47.480Z"
   },
   {
    "duration": 383,
    "start_time": "2024-03-17T16:57:47.506Z"
   },
   {
    "duration": 6,
    "start_time": "2024-03-17T16:57:47.891Z"
   },
   {
    "duration": 10,
    "start_time": "2024-03-17T16:57:47.901Z"
   },
   {
    "duration": 12,
    "start_time": "2024-03-17T16:57:47.913Z"
   },
   {
    "duration": 11,
    "start_time": "2024-03-17T16:57:47.927Z"
   },
   {
    "duration": 525,
    "start_time": "2024-03-17T16:57:47.940Z"
   },
   {
    "duration": 209,
    "start_time": "2024-03-17T16:57:48.467Z"
   },
   {
    "duration": 17,
    "start_time": "2024-03-17T16:57:48.678Z"
   },
   {
    "duration": 10,
    "start_time": "2024-03-17T16:57:48.696Z"
   },
   {
    "duration": 6,
    "start_time": "2024-03-17T16:57:48.707Z"
   },
   {
    "duration": 17,
    "start_time": "2024-03-17T16:57:48.715Z"
   },
   {
    "duration": 15,
    "start_time": "2024-03-17T16:57:48.733Z"
   },
   {
    "duration": 49,
    "start_time": "2024-03-17T16:57:48.750Z"
   },
   {
    "duration": 27,
    "start_time": "2024-03-17T16:57:48.801Z"
   },
   {
    "duration": 21,
    "start_time": "2024-03-17T16:57:48.830Z"
   },
   {
    "duration": 29,
    "start_time": "2024-03-17T16:57:48.852Z"
   },
   {
    "duration": 13,
    "start_time": "2024-03-17T16:57:48.883Z"
   },
   {
    "duration": 11,
    "start_time": "2024-03-17T16:57:48.897Z"
   },
   {
    "duration": 24,
    "start_time": "2024-03-17T16:57:48.910Z"
   },
   {
    "duration": 1026,
    "start_time": "2024-03-17T16:57:48.936Z"
   },
   {
    "duration": 3,
    "start_time": "2024-03-17T16:57:49.964Z"
   },
   {
    "duration": 32,
    "start_time": "2024-03-17T16:57:49.968Z"
   },
   {
    "duration": 237,
    "start_time": "2024-03-17T16:57:50.002Z"
   },
   {
    "duration": 12,
    "start_time": "2024-03-17T16:57:50.241Z"
   },
   {
    "duration": 17,
    "start_time": "2024-03-17T16:57:50.255Z"
   },
   {
    "duration": 876,
    "start_time": "2024-03-17T16:57:50.274Z"
   }
  ],
  "kernelspec": {
   "display_name": "Python 3 (ipykernel)",
   "language": "python",
   "name": "python3"
  },
  "language_info": {
   "codemirror_mode": {
    "name": "ipython",
    "version": 3
   },
   "file_extension": ".py",
   "mimetype": "text/x-python",
   "name": "python",
   "nbconvert_exporter": "python",
   "pygments_lexer": "ipython3",
   "version": "3.9.5"
  },
  "toc": {
   "base_numbering": 1,
   "nav_menu": {},
   "number_sections": true,
   "sideBar": true,
   "skip_h1_title": true,
   "title_cell": "Table of Contents",
   "title_sidebar": "Contents",
   "toc_cell": false,
   "toc_position": {
    "height": "calc(100% - 180px)",
    "left": "10px",
    "top": "150px",
    "width": "322.969px"
   },
   "toc_section_display": true,
   "toc_window_display": true
  }
 },
 "nbformat": 4,
 "nbformat_minor": 5
}
