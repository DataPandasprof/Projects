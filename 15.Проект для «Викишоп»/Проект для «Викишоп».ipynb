{
 "cells": [
  {
   "cell_type": "markdown",
   "metadata": {
    "toc": true
   },
   "source": [
    "<h1>Содержание<span class=\"tocSkip\"></span></h1>\n",
    "<div class=\"toc\"><ul class=\"toc-item\"><li><span><a href=\"#Подготовка\" data-toc-modified-id=\"Подготовка-1\"><span class=\"toc-item-num\">1&nbsp;&nbsp;</span>Подготовка</a></span><ul class=\"toc-item\"><li><span><a href=\"#Вывод-по-разделу-&quot;Подготовка-данных&quot;\" data-toc-modified-id=\"Вывод-по-разделу-&quot;Подготовка-данных&quot;-1.1\"><span class=\"toc-item-num\">1.1&nbsp;&nbsp;</span>Вывод по разделу \"Подготовка данных\"</a></span></li></ul></li><li><span><a href=\"#Обучение\" data-toc-modified-id=\"Обучение-2\"><span class=\"toc-item-num\">2&nbsp;&nbsp;</span>Обучение</a></span></li><li><span><a href=\"#Выводы\" data-toc-modified-id=\"Выводы-3\"><span class=\"toc-item-num\">3&nbsp;&nbsp;</span>Выводы</a></span><ul class=\"toc-item\"><li><span><a href=\"#Общий-вывод-по-проекту\" data-toc-modified-id=\"Общий-вывод-по-проекту-3.1\"><span class=\"toc-item-num\">3.1&nbsp;&nbsp;</span>Общий вывод по проекту</a></span><ul class=\"toc-item\"><li><span><a href=\"#Основные-результаты:\" data-toc-modified-id=\"Основные-результаты:-3.1.1\"><span class=\"toc-item-num\">3.1.1&nbsp;&nbsp;</span>Основные результаты:</a></span></li><li><span><a href=\"#Возможности-дальнейшего-развития:\" data-toc-modified-id=\"Возможности-дальнейшего-развития:-3.1.2\"><span class=\"toc-item-num\">3.1.2&nbsp;&nbsp;</span>Возможности дальнейшего развития:</a></span></li><li><span><a href=\"#Итоги:\" data-toc-modified-id=\"Итоги:-3.1.3\"><span class=\"toc-item-num\">3.1.3&nbsp;&nbsp;</span>Итоги:</a></span></li></ul></li></ul></li><li><span><a href=\"#Чек-лист-проверки\" data-toc-modified-id=\"Чек-лист-проверки-4\"><span class=\"toc-item-num\">4&nbsp;&nbsp;</span>Чек-лист проверки</a></span></li></ul></div>"
   ]
  },
  {
   "cell_type": "markdown",
   "metadata": {},
   "source": [
    "# Проект для «Викишоп»\n",
    "Интернет-магазин «Викишоп» запускает новый сервис. Теперь пользователи могут редактировать и дополнять описания товаров, как в вики-сообществах. То есть клиенты предлагают свои правки и комментируют изменения других. Магазину нужен инструмент, который будет искать токсичные комментарии и отправлять их на модерацию. \n",
    "\n",
    "Обучите модель классифицировать комментарии на позитивные и негативные. В вашем распоряжении набор данных с разметкой о токсичности правок.\n",
    "\n",
    "Постройте модель со значением метрики качества *F1* не меньше 0.75. \n",
    "\n",
    "**Инструкция по выполнению проекта**\n",
    "\n",
    "1. Загрузите и подготовьте данные.\n",
    "2. Обучите разные модели. \n",
    "3. Сделайте выводы.\n",
    "\n",
    "Для выполнения проекта применять *BERT* необязательно, но вы можете попробовать.\n",
    "\n",
    "**Описание данных**\n",
    "\n",
    "Данные находятся в файле `toxic_comments.csv`. Столбец *text* в нём содержит текст комментария, а *toxic* — целевой признак."
   ]
  },
  {
   "cell_type": "markdown",
   "metadata": {},
   "source": [
    "## Подготовка"
   ]
  },
  {
   "cell_type": "code",
   "execution_count": 1,
   "metadata": {},
   "outputs": [
    {
     "name": "stdout",
     "output_type": "stream",
     "text": [
      "Requirement already satisfied: scikit-learn in /opt/conda/lib/python3.9/site-packages (0.24.1)\n",
      "Collecting scikit-learn\n",
      "  Downloading scikit_learn-1.6.0-cp39-cp39-manylinux_2_17_x86_64.manylinux2014_x86_64.whl (13.5 MB)\n",
      "\u001b[K     |████████████████████████████████| 13.5 MB 2.6 MB/s eta 0:00:01\n",
      "\u001b[?25hCollecting imbalanced-learn\n",
      "  Downloading imbalanced_learn-0.12.4-py3-none-any.whl (258 kB)\n",
      "\u001b[K     |████████████████████████████████| 258 kB 89.4 MB/s eta 0:00:01\n",
      "\u001b[?25hRequirement already satisfied: catboost in /opt/conda/lib/python3.9/site-packages (1.0.3)\n",
      "Collecting catboost\n",
      "  Downloading catboost-1.2.7-cp39-cp39-manylinux2014_x86_64.whl (98.7 MB)\n",
      "\u001b[K     |████████████████████████████████| 98.7 MB 88 kB/s s eta 0:00:01\n",
      "\u001b[?25hRequirement already satisfied: lightgbm in /opt/conda/lib/python3.9/site-packages (3.3.1)\n",
      "Collecting lightgbm\n",
      "  Downloading lightgbm-4.5.0-py3-none-manylinux_2_28_x86_64.whl (3.6 MB)\n",
      "\u001b[K     |████████████████████████████████| 3.6 MB 83.1 MB/s eta 0:00:01\n",
      "\u001b[?25hRequirement already satisfied: xgboost in /opt/conda/lib/python3.9/site-packages (1.5.1)\n",
      "Collecting xgboost\n",
      "  Downloading xgboost-2.1.3-py3-none-manylinux_2_28_x86_64.whl (153.9 MB)\n",
      "\u001b[K     |████████████████████████████████| 153.9 MB 40 kB/s s eta 0:00:01.2 MB/s eta 0:00:02\n",
      "\u001b[?25hRequirement already satisfied: scipy>=1.6.0 in /opt/conda/lib/python3.9/site-packages (from scikit-learn) (1.9.1)\n",
      "Collecting joblib>=1.2.0\n",
      "  Downloading joblib-1.4.2-py3-none-any.whl (301 kB)\n",
      "\u001b[K     |████████████████████████████████| 301 kB 68.9 MB/s eta 0:00:01\n",
      "\u001b[?25hRequirement already satisfied: numpy>=1.19.5 in /opt/conda/lib/python3.9/site-packages (from scikit-learn) (1.21.1)\n",
      "Requirement already satisfied: threadpoolctl>=3.1.0 in /opt/conda/lib/python3.9/site-packages (from scikit-learn) (3.1.0)\n",
      "Requirement already satisfied: matplotlib in /opt/conda/lib/python3.9/site-packages (from catboost) (3.3.4)\n",
      "Requirement already satisfied: plotly in /opt/conda/lib/python3.9/site-packages (from catboost) (5.4.0)\n",
      "Requirement already satisfied: six in /opt/conda/lib/python3.9/site-packages (from catboost) (1.16.0)\n",
      "Requirement already satisfied: graphviz in /opt/conda/lib/python3.9/site-packages (from catboost) (0.20.1)\n",
      "Requirement already satisfied: pandas>=0.24 in /opt/conda/lib/python3.9/site-packages (from catboost) (1.2.4)\n",
      "Requirement already satisfied: python-dateutil>=2.7.3 in /opt/conda/lib/python3.9/site-packages (from pandas>=0.24->catboost) (2.8.1)\n",
      "Requirement already satisfied: pytz>=2017.3 in /opt/conda/lib/python3.9/site-packages (from pandas>=0.24->catboost) (2021.1)\n",
      "Collecting nvidia-nccl-cu12\n",
      "  Downloading nvidia_nccl_cu12-2.23.4-py3-none-manylinux2014_x86_64.whl (199.0 MB)\n",
      "\u001b[K     |████████████████████████████████| 199.0 MB 5.9 kB/s eta 0:00:01�████████▍           | 127.0 MB 3.5 MB/s eta 0:00:21\n",
      "\u001b[?25hRequirement already satisfied: cycler>=0.10 in /opt/conda/lib/python3.9/site-packages (from matplotlib->catboost) (0.11.0)\n",
      "Requirement already satisfied: pillow>=6.2.0 in /opt/conda/lib/python3.9/site-packages (from matplotlib->catboost) (8.4.0)\n",
      "Requirement already satisfied: kiwisolver>=1.0.1 in /opt/conda/lib/python3.9/site-packages (from matplotlib->catboost) (1.4.4)\n",
      "Requirement already satisfied: pyparsing!=2.0.4,!=2.1.2,!=2.1.6,>=2.0.3 in /opt/conda/lib/python3.9/site-packages (from matplotlib->catboost) (2.4.7)\n",
      "Requirement already satisfied: tenacity>=6.2.0 in /opt/conda/lib/python3.9/site-packages (from plotly->catboost) (8.0.1)\n",
      "Installing collected packages: joblib, scikit-learn, nvidia-nccl-cu12, xgboost, lightgbm, imbalanced-learn, catboost\n",
      "  Attempting uninstall: joblib\n",
      "    Found existing installation: joblib 1.1.0\n",
      "    Uninstalling joblib-1.1.0:\n",
      "      Successfully uninstalled joblib-1.1.0\n",
      "  Attempting uninstall: scikit-learn\n",
      "    Found existing installation: scikit-learn 0.24.1\n",
      "    Uninstalling scikit-learn-0.24.1:\n",
      "      Successfully uninstalled scikit-learn-0.24.1\n",
      "  Attempting uninstall: xgboost\n",
      "    Found existing installation: xgboost 1.5.1\n",
      "    Uninstalling xgboost-1.5.1:\n",
      "      Successfully uninstalled xgboost-1.5.1\n",
      "  Attempting uninstall: lightgbm\n",
      "    Found existing installation: lightgbm 3.3.1\n",
      "    Uninstalling lightgbm-3.3.1:\n",
      "      Successfully uninstalled lightgbm-3.3.1\n",
      "  Attempting uninstall: catboost\n",
      "    Found existing installation: catboost 1.0.3\n",
      "    Uninstalling catboost-1.0.3:\n",
      "      Successfully uninstalled catboost-1.0.3\n",
      "Successfully installed catboost-1.2.7 imbalanced-learn-0.12.4 joblib-1.4.2 lightgbm-4.5.0 nvidia-nccl-cu12-2.23.4 scikit-learn-1.6.0 xgboost-2.1.3\n",
      "Collecting imblearn\n",
      "  Downloading imblearn-0.0-py2.py3-none-any.whl (1.9 kB)\n",
      "Requirement already satisfied: imbalanced-learn in /opt/conda/lib/python3.9/site-packages (from imblearn) (0.12.4)\n",
      "Requirement already satisfied: numpy>=1.17.3 in /opt/conda/lib/python3.9/site-packages (from imbalanced-learn->imblearn) (1.21.1)\n",
      "Requirement already satisfied: scikit-learn>=1.0.2 in /opt/conda/lib/python3.9/site-packages (from imbalanced-learn->imblearn) (1.6.0)\n",
      "Requirement already satisfied: scipy>=1.5.0 in /opt/conda/lib/python3.9/site-packages (from imbalanced-learn->imblearn) (1.9.1)\n",
      "Requirement already satisfied: threadpoolctl>=2.0.0 in /opt/conda/lib/python3.9/site-packages (from imbalanced-learn->imblearn) (3.1.0)\n",
      "Requirement already satisfied: joblib>=1.1.1 in /opt/conda/lib/python3.9/site-packages (from imbalanced-learn->imblearn) (1.4.2)\n",
      "Installing collected packages: imblearn\n",
      "Successfully installed imblearn-0.0\n"
     ]
    }
   ],
   "source": [
    "# Подготовка\n",
    "!pip install --upgrade scikit-learn imbalanced-learn catboost lightgbm xgboost\n",
    "!pip install imblearn"
   ]
  },
  {
   "cell_type": "code",
   "execution_count": 2,
   "metadata": {},
   "outputs": [
    {
     "name": "stderr",
     "output_type": "stream",
     "text": [
      "[nltk_data] Downloading package stopwords to /home/jovyan/nltk_data...\n",
      "[nltk_data]   Package stopwords is already up-to-date!\n",
      "[nltk_data] Downloading package wordnet to /home/jovyan/nltk_data...\n",
      "[nltk_data]   Package wordnet is already up-to-date!\n"
     ]
    },
    {
     "data": {
      "text/plain": [
       "True"
      ]
     },
     "execution_count": 2,
     "metadata": {},
     "output_type": "execute_result"
    }
   ],
   "source": [
    "# 1. Базовые библиотеки для работы с данными и визуализации\n",
    "import numpy as np\n",
    "import pandas as pd\n",
    "import matplotlib.pyplot as plt\n",
    "import seaborn as sns\n",
    "\n",
    "# 2. Библиотеки для обработки текста\n",
    "import nltk\n",
    "import string\n",
    "import re\n",
    "from nltk.corpus import stopwords, wordnet\n",
    "from nltk.stem import WordNetLemmatizer\n",
    "from sklearn.feature_extraction.text import TfidfVectorizer\n",
    "import spacy\n",
    "from spacy.lang.en.stop_words import STOP_WORDS\n",
    "\n",
    "# 3. Модели машинного обучения\n",
    "from sklearn.linear_model import LogisticRegression\n",
    "from sklearn.ensemble import RandomForestClassifier, GradientBoostingClassifier\n",
    "from sklearn.svm import SVC\n",
    "from catboost import CatBoostClassifier\n",
    "from lightgbm import LGBMClassifier\n",
    "from xgboost import XGBClassifier\n",
    "\n",
    "# 4. Инструменты для подготовки и оценки моделей\n",
    "from sklearn.model_selection import train_test_split, GridSearchCV, StratifiedKFold\n",
    "from sklearn.pipeline import Pipeline\n",
    "from sklearn.feature_selection import SelectKBest, f_classif\n",
    "from imblearn.over_sampling import SMOTE\n",
    "from imblearn.pipeline import Pipeline as ImbPipeline  # Используем Pipeline из imbalanced-learn\n",
    "from imblearn.over_sampling import RandomOverSampler\n",
    "\n",
    "# 5. Метрики качества\n",
    "from sklearn.metrics import (\n",
    "    accuracy_score,\n",
    "    precision_score,\n",
    "    recall_score,\n",
    "    f1_score,\n",
    "    roc_auc_score,\n",
    "    classification_report,\n",
    "    confusion_matrix,\n",
    "    roc_curve,\n",
    "    auc\n",
    ")\n",
    "\n",
    "# 6. Вспомогательные инструменты\n",
    "from tqdm.notebook import tqdm\n",
    "\n",
    "# 7. Загрузка необходимых данных NLTK\n",
    "nltk.download('stopwords')\n",
    "nltk.download('wordnet')"
   ]
  },
  {
   "cell_type": "code",
   "execution_count": 3,
   "metadata": {},
   "outputs": [
    {
     "data": {
      "text/plain": [
       "'Файл успешно загружен из: /datasets/toxic_comments.csv'"
      ]
     },
     "metadata": {},
     "output_type": "display_data"
    }
   ],
   "source": [
    "# Список возможных путей к файлу\n",
    "file_paths = ['/datasets/toxic_comments.csv', 'toxic_comments.csv']\n",
    "\n",
    "# Загрузка данных\n",
    "for path in file_paths:\n",
    "    try:\n",
    "        df = pd.read_csv(path)\n",
    "        display(f\"Файл успешно загружен из: {path}\")\n",
    "        break\n",
    "    except FileNotFoundError:\n",
    "        continue\n",
    "else:\n",
    "    raise FileNotFoundError(\"Файл данных не найден ни в одном из указанных расположений.\")"
   ]
  },
  {
   "cell_type": "code",
   "execution_count": 4,
   "metadata": {},
   "outputs": [
    {
     "data": {
      "text/plain": [
       "'Информация о датасете:'"
      ]
     },
     "metadata": {},
     "output_type": "display_data"
    },
    {
     "name": "stdout",
     "output_type": "stream",
     "text": [
      "<class 'pandas.core.frame.DataFrame'>\n",
      "RangeIndex: 159292 entries, 0 to 159291\n",
      "Data columns (total 3 columns):\n",
      " #   Column      Non-Null Count   Dtype \n",
      "---  ------      --------------   ----- \n",
      " 0   Unnamed: 0  159292 non-null  int64 \n",
      " 1   text        159292 non-null  object\n",
      " 2   toxic       159292 non-null  int64 \n",
      "dtypes: int64(2), object(1)\n",
      "memory usage: 3.6+ MB\n"
     ]
    },
    {
     "data": {
      "text/plain": [
       "'Описательная статистика количественных признаков:'"
      ]
     },
     "metadata": {},
     "output_type": "display_data"
    },
    {
     "data": {
      "text/html": [
       "<div>\n",
       "<style scoped>\n",
       "    .dataframe tbody tr th:only-of-type {\n",
       "        vertical-align: middle;\n",
       "    }\n",
       "\n",
       "    .dataframe tbody tr th {\n",
       "        vertical-align: top;\n",
       "    }\n",
       "\n",
       "    .dataframe thead th {\n",
       "        text-align: right;\n",
       "    }\n",
       "</style>\n",
       "<table border=\"1\" class=\"dataframe\">\n",
       "  <thead>\n",
       "    <tr style=\"text-align: right;\">\n",
       "      <th></th>\n",
       "      <th>count</th>\n",
       "      <th>mean</th>\n",
       "      <th>std</th>\n",
       "      <th>min</th>\n",
       "      <th>25%</th>\n",
       "      <th>50%</th>\n",
       "      <th>75%</th>\n",
       "      <th>max</th>\n",
       "    </tr>\n",
       "  </thead>\n",
       "  <tbody>\n",
       "    <tr>\n",
       "      <th>Unnamed: 0</th>\n",
       "      <td>159292.0</td>\n",
       "      <td>79725.697242</td>\n",
       "      <td>46028.837471</td>\n",
       "      <td>0.0</td>\n",
       "      <td>39872.75</td>\n",
       "      <td>79721.5</td>\n",
       "      <td>119573.25</td>\n",
       "      <td>159450.0</td>\n",
       "    </tr>\n",
       "    <tr>\n",
       "      <th>toxic</th>\n",
       "      <td>159292.0</td>\n",
       "      <td>0.101612</td>\n",
       "      <td>0.302139</td>\n",
       "      <td>0.0</td>\n",
       "      <td>0.00</td>\n",
       "      <td>0.0</td>\n",
       "      <td>0.00</td>\n",
       "      <td>1.0</td>\n",
       "    </tr>\n",
       "  </tbody>\n",
       "</table>\n",
       "</div>"
      ],
      "text/plain": [
       "               count          mean           std  min       25%      50%  \\\n",
       "Unnamed: 0  159292.0  79725.697242  46028.837471  0.0  39872.75  79721.5   \n",
       "toxic       159292.0      0.101612      0.302139  0.0      0.00      0.0   \n",
       "\n",
       "                  75%       max  \n",
       "Unnamed: 0  119573.25  159450.0  \n",
       "toxic            0.00       1.0  "
      ]
     },
     "metadata": {},
     "output_type": "display_data"
    }
   ],
   "source": [
    "# Первичный анализ данных\n",
    "display(\"Информация о датасете:\")\n",
    "df.info()\n",
    "\n",
    "display(\"Описательная статистика количественных признаков:\")\n",
    "display(df.describe().transpose())"
   ]
  },
  {
   "cell_type": "code",
   "execution_count": 5,
   "metadata": {},
   "outputs": [
    {
     "data": {
      "text/plain": [
       "'Анализ пропусков в данных:'"
      ]
     },
     "metadata": {},
     "output_type": "display_data"
    },
    {
     "data": {
      "text/html": [
       "<div>\n",
       "<style scoped>\n",
       "    .dataframe tbody tr th:only-of-type {\n",
       "        vertical-align: middle;\n",
       "    }\n",
       "\n",
       "    .dataframe tbody tr th {\n",
       "        vertical-align: top;\n",
       "    }\n",
       "\n",
       "    .dataframe thead th {\n",
       "        text-align: right;\n",
       "    }\n",
       "</style>\n",
       "<table border=\"1\" class=\"dataframe\">\n",
       "  <thead>\n",
       "    <tr style=\"text-align: right;\">\n",
       "      <th></th>\n",
       "      <th>Количество пропусков</th>\n",
       "      <th>Процент пропусков</th>\n",
       "    </tr>\n",
       "  </thead>\n",
       "  <tbody>\n",
       "    <tr>\n",
       "      <th>Unnamed: 0</th>\n",
       "      <td>0</td>\n",
       "      <td>0.0</td>\n",
       "    </tr>\n",
       "    <tr>\n",
       "      <th>text</th>\n",
       "      <td>0</td>\n",
       "      <td>0.0</td>\n",
       "    </tr>\n",
       "    <tr>\n",
       "      <th>toxic</th>\n",
       "      <td>0</td>\n",
       "      <td>0.0</td>\n",
       "    </tr>\n",
       "  </tbody>\n",
       "</table>\n",
       "</div>"
      ],
      "text/plain": [
       "            Количество пропусков  Процент пропусков\n",
       "Unnamed: 0                     0                0.0\n",
       "text                           0                0.0\n",
       "toxic                          0                0.0"
      ]
     },
     "metadata": {},
     "output_type": "display_data"
    }
   ],
   "source": [
    "# Проверка на пропуски в данных\n",
    "null_counts = df.isnull().sum()\n",
    "null_percentages = null_counts / len(df) * 100\n",
    "\n",
    "display(\"Анализ пропусков в данных:\")\n",
    "display(pd.concat([null_counts, null_percentages], \n",
    "               axis=1, keys=['Количество пропусков', 'Процент пропусков']))"
   ]
  },
  {
   "cell_type": "code",
   "execution_count": 6,
   "metadata": {},
   "outputs": [
    {
     "data": {
      "text/plain": [
       "'Первые 5 строк датасета:'"
      ]
     },
     "metadata": {},
     "output_type": "display_data"
    },
    {
     "data": {
      "text/html": [
       "<div>\n",
       "<style scoped>\n",
       "    .dataframe tbody tr th:only-of-type {\n",
       "        vertical-align: middle;\n",
       "    }\n",
       "\n",
       "    .dataframe tbody tr th {\n",
       "        vertical-align: top;\n",
       "    }\n",
       "\n",
       "    .dataframe thead th {\n",
       "        text-align: right;\n",
       "    }\n",
       "</style>\n",
       "<table border=\"1\" class=\"dataframe\">\n",
       "  <thead>\n",
       "    <tr style=\"text-align: right;\">\n",
       "      <th></th>\n",
       "      <th>text</th>\n",
       "      <th>toxic</th>\n",
       "    </tr>\n",
       "  </thead>\n",
       "  <tbody>\n",
       "    <tr>\n",
       "      <th>0</th>\n",
       "      <td>Explanation\\nWhy the edits made under my usern...</td>\n",
       "      <td>0</td>\n",
       "    </tr>\n",
       "    <tr>\n",
       "      <th>1</th>\n",
       "      <td>D'aww! He matches this background colour I'm s...</td>\n",
       "      <td>0</td>\n",
       "    </tr>\n",
       "    <tr>\n",
       "      <th>2</th>\n",
       "      <td>Hey man, I'm really not trying to edit war. It...</td>\n",
       "      <td>0</td>\n",
       "    </tr>\n",
       "    <tr>\n",
       "      <th>3</th>\n",
       "      <td>\"\\nMore\\nI can't make any real suggestions on ...</td>\n",
       "      <td>0</td>\n",
       "    </tr>\n",
       "    <tr>\n",
       "      <th>4</th>\n",
       "      <td>You, sir, are my hero. Any chance you remember...</td>\n",
       "      <td>0</td>\n",
       "    </tr>\n",
       "  </tbody>\n",
       "</table>\n",
       "</div>"
      ],
      "text/plain": [
       "                                                text  toxic\n",
       "0  Explanation\\nWhy the edits made under my usern...      0\n",
       "1  D'aww! He matches this background colour I'm s...      0\n",
       "2  Hey man, I'm really not trying to edit war. It...      0\n",
       "3  \"\\nMore\\nI can't make any real suggestions on ...      0\n",
       "4  You, sir, are my hero. Any chance you remember...      0"
      ]
     },
     "metadata": {},
     "output_type": "display_data"
    }
   ],
   "source": [
    "# Удалим столбец Unnamed: 0\n",
    "df = df.drop('Unnamed: 0', axis=1)\n",
    "\n",
    "\n",
    "# Просмотр первых 5 строк\n",
    "display(\"Первые 5 строк датасета:\")\n",
    "display(df.head())"
   ]
  },
  {
   "cell_type": "markdown",
   "metadata": {},
   "source": [
    "Давайте подведем итоги первичного анализа данных:\n",
    "\n",
    "1. Датасет содержит 159292 строки и 3 столбца: 'Unnamed: 0' (вероятно, это просто индекс), 'text' (текст комментария) и 'toxic' (бинарная метка, указывающая на токсичность комментария).\n",
    "\n",
    "2. Типы данных:\n",
    "- 'Unnamed: 0' и 'toxic' имеют числовой тип int64\n",
    "- 'text' имеет строковый тип object\n",
    "\n",
    "3. Пропуски в данных отсутствуют, все столбцы имеют 159292 непустых значения.\n",
    "\n",
    "4. Судя по описательной статистике, в столбце 'toxic' только 10.16% комментариев отмечены как токсичные (среднее значение toxic = 0.1016). Вероятно, классы в этом датасете несбалансированы, и токсичных комментариев меньшинство.\n",
    "\n",
    "5. Первые несколько строк датасета показывают, что в текстовом столбце 'text' содержатся достаточно длинные текстовые комментарии на английском языке. \n",
    "\n",
    "На основе этих наблюдений, можно сделать следующие выводы:\n",
    "- Предобработка текста будет важным этапом, т.к. это основной признак в задаче\n",
    "- Из-за несбалансированности классов при обучении модели нужно будет учитывать веса классов или использовать соответствующие метрики (F1, ROC-AUC)\n",
    "- Столбец 'Unnamed: 0' скорее всего можно удалить, т.к. это просто индекс\n",
    "- В целом, данные выглядят достаточно чистыми и готовыми к дальнейшему анализу и построению модели классификации токсичных комментариев.\n",
    "\n",
    "Следующими шагами могут быть более детальный анализ текста, визуализация распределения длины и других характеристик комментариев, а также разделение данных на обучающую и тестовую выборки. Затем можно приступать к выбору признаков, обучению и оценке различных моделей машинного обучения для этой задачи бинарной классификации."
   ]
  },
  {
   "cell_type": "code",
   "execution_count": 7,
   "metadata": {},
   "outputs": [
    {
     "data": {
      "application/vnd.jupyter.widget-view+json": {
       "model_id": "f18ea5706bc84bb9b96eba239255ba51",
       "version_major": 2,
       "version_minor": 0
      },
      "text/plain": [
       "  0%|          | 0/159292 [00:00<?, ?it/s]"
      ]
     },
     "metadata": {},
     "output_type": "display_data"
    },
    {
     "data": {
      "text/plain": [
       "'Пример текста до лемматизации:'"
      ]
     },
     "metadata": {},
     "output_type": "display_data"
    },
    {
     "data": {
      "text/plain": [
       "\"Explanation\\nWhy the edits made under my username Hardcore Metallica Fan were reverted? They weren't vandalisms, just closure on some GAs after I voted at New York Dolls FAC. And please don't remove the template from the talk page since I'm retired now.89.205.38.27\""
      ]
     },
     "metadata": {},
     "output_type": "display_data"
    },
    {
     "data": {
      "text/plain": [
       "'Пример текста после лемматизации:'"
      ]
     },
     "metadata": {},
     "output_type": "display_data"
    },
    {
     "data": {
      "text/plain": [
       "'explanation \\n edit username hardcore metallica fan revert vandalism closure gas I vote new york doll fac remove template talk page I retire'"
      ]
     },
     "metadata": {},
     "output_type": "display_data"
    }
   ],
   "source": [
    "# Загрузка модели spaCy\n",
    "nlp = spacy.load('en_core_web_sm', disable=['parser', 'ner'])\n",
    "\n",
    "def clean_text_spacy(text):\n",
    "    # Приведение текста к нижнему регистру\n",
    "    text = text.lower()\n",
    "    \n",
    "    # Удаление чисел (если это необходимо для анализа)\n",
    "    text = re.sub(r'\\d+', '', text)\n",
    "    \n",
    "    # Удаление знаков препинания, кроме апострофа\n",
    "    text = re.sub(r'[^a-z\\'\\s]', '', text)\n",
    "    \n",
    "    # Обработка текста с помощью spaCy\n",
    "    doc = nlp(text)\n",
    "    \n",
    "    # Лемматизация и удаление стоп-слов\n",
    "    tokens = [token.lemma_ for token in doc if token.lemma_ not in STOP_WORDS and token.pos_ != 'PUNCT']\n",
    "    \n",
    "    return ' '.join(tokens)\n",
    "\n",
    "tqdm.pandas()\n",
    "\n",
    "# Применение функции очистки к колонке текста\n",
    "df['clean_text'] = df['text'].progress_apply(clean_text_spacy)\n",
    "\n",
    "# Пример результатов\n",
    "display(\"Пример текста до лемматизации:\")\n",
    "display(df['text'].iloc[0])\n",
    "display(\"Пример текста после лемматизации:\")\n",
    "display(df['clean_text'].iloc[0])"
   ]
  },
  {
   "cell_type": "code",
   "execution_count": 8,
   "metadata": {},
   "outputs": [
    {
     "data": {
      "image/png": "[encoded data removed]",
      "text/plain": [
       "<Figure size 576x432 with 1 Axes>"
      ]
     },
     "metadata": {
      "needs_background": "light"
     },
     "output_type": "display_data"
    }
   ],
   "source": [
    "# Разделение данных на обучающую и тестовую выборки (90% обучающая, 10% тестовая)\n",
    "X = df['clean_text']\n",
    "y = df['toxic']\n",
    "\n",
    "X_train, X_test, y_train, y_test = train_test_split(X, y, test_size=0.1, random_state=42, stratify=y)\n",
    "\n",
    "# Удалено:\n",
    "# vectorizer = TfidfVectorizer(max_features=5000)\n",
    "# X_train_tfidf = vectorizer.fit_transform(X_train)\n",
    "# X_test_tfidf = vectorizer.transform(X_test)\n",
    "\n",
    "# Удалено:\n",
    "# smote = SMOTE(random_state=42)\n",
    "# X_train_resampled, y_train_resampled = smote.fit_resample(X_train_tfidf, y_train)\n",
    "# display(f\"Размер обучающей выборки после SMOTE: {X_train_resampled.shape[0]}\")\n",
    "\n",
    "# Перенесено в раздел EDA:\n",
    "# Подсчет количества комментариев для каждого класса\n",
    "class_counts = y.value_counts()\n",
    "\n",
    "# Создание горизонтальной столбчатой диаграммы\n",
    "plt.figure(figsize=(8, 6))\n",
    "bars = plt.barh(class_counts.index, class_counts, color=['lightgreen', 'tomato'])\n",
    "\n",
    "# Добавление подписей к столбцам\n",
    "for i, bar in enumerate(bars):\n",
    "    plt.text(bar.get_width() + 100, bar.get_y() + bar.get_height()/2, \n",
    "             f'{class_counts[i]} ({class_counts[i]/len(y):.2%})', \n",
    "             va='center', fontsize=12)\n",
    "\n",
    "# Настройка заголовка и меток осей\n",
    "plt.title('Распределение классов токсичности комментариев', fontsize=16)\n",
    "plt.xlabel('Количество комментариев', fontsize=14)\n",
    "plt.ylabel('Класс токсичности', fontsize=14)\n",
    "\n",
    "# Добавление легенды\n",
    "labels = ['Нетоксичные', 'Токсичные']\n",
    "plt.legend(bars, labels, loc='upper right', fontsize=12)\n",
    "\n",
    "# Настройка расположения графика\n",
    "plt.tight_layout()\n",
    "\n",
    "# Показать график\n",
    "plt.show()"
   ]
  },
  {
   "cell_type": "markdown",
   "metadata": {},
   "source": [
    "### Вывод по разделу \"Подготовка данных\"\n",
    "\n",
    "В ходе подготовки данных для задачи классификации токсичных комментариев были выполнены следующие шаги:\n",
    "\n",
    "1. **Очистка и предобработка текста:**\n",
    "   - Приведение текста к нижнему регистру.\n",
    "   - Удаление чисел и знаков препинания (кроме апострофа, который важен для корректного анализа английских слов).\n",
    "   - Лемматизация текста с использованием библиотеки spaCy. \n",
    "   - Результаты лемматизации оценены как удовлетворительные: слова корректно приведены к начальной форме, при этом значимые термины сохранены.\n",
    "   - Удаление стоп-слов английского языка для уменьшения \"шума\" в данных.\n",
    "   - Очищенный текст сохранен в новом столбце `clean_text`.\n",
    "\n",
    "2. **Разведочный анализ (EDA):**\n",
    "   - Датасет содержит **159,292 комментария** без пропусков, что подтверждает чистоту данных.\n",
    "   - Наблюдается значительный дисбаланс классов:\n",
    "     - **Нетоксичные комментарии:** 143,106 (89.84%).\n",
    "     - **Токсичные комментарии:** 16,186 (10.16%).\n",
    "   - Соотношение классов составляет примерно 9:1, что требует особого внимания при обучении и оценке моделей, чтобы избежать доминирования предсказаний для основного класса.\n",
    "   - Анализ текста выявил, что комментарии преимущественно на английском языке, содержат разнообразные лексические конструкции, в том числе сленг и сокращения, которые могут повлиять на качество классификации.\n",
    "\n",
    "3. **Разделение данных и подготовка к обучению:**\n",
    "   - Данные разделены на обучающую (90%) и тестовую (10%) выборки с сохранением пропорций классов (стратификация).\n",
    "   - Векторизация текста и балансировка классов методом RandomOverSampler будут выполнены внутри **Pipeline** на каждой итерации кросс-валидации для предотвращения утечки данных.\n",
    "   - Балансировка несбалансированных классов позволяет модели лучше учитывать вклад меньшинства (токсичных комментариев) в процессе обучения.\n",
    "   - Целевой метрикой для оценки модели выбрана **F1-мера** (целевое значение ≥ 0.75), так как она учитывает как точность, так и полноту, что особенно важно при дисбалансе классов.\n",
    "\n",
    "\n",
    "\n",
    "Проведенная подготовка данных создает прочную основу для обучения модели. Учет дисбаланса классов, применение стратификации и интеграция очистки текста позволят повысить качество итоговой модели классификации токсичных комментариев и достигнуть целевого уровня F1 на тестовой выборке.\n"
   ]
  },
  {
   "cell_type": "markdown",
   "metadata": {},
   "source": [
    "## Обучение"
   ]
  },
  {
   "cell_type": "code",
   "execution_count": 9,
   "metadata": {},
   "outputs": [
    {
     "data": {
      "text/plain": [
       "'Обучение модели CatBoost...'"
      ]
     },
     "metadata": {},
     "output_type": "display_data"
    },
    {
     "name": "stdout",
     "output_type": "stream",
     "text": [
      "Fitting 2 folds for each of 1 candidates, totalling 2 fits\n"
     ]
    },
    {
     "name": "stderr",
     "output_type": "stream",
     "text": [
      "/opt/conda/lib/python3.9/site-packages/sklearn/utils/deprecation.py:151: FutureWarning: 'force_all_finite' was renamed to 'ensure_all_finite' in 1.6 and will be removed in 1.8.\n",
      "  warnings.warn(\n",
      "/opt/conda/lib/python3.9/site-packages/sklearn/base.py:484: FutureWarning: `BaseEstimator._check_n_features` is deprecated in 1.6 and will be removed in 1.7. Use `sklearn.utils.validation._check_n_features` instead.\n",
      "  warnings.warn(\n",
      "/opt/conda/lib/python3.9/site-packages/sklearn/base.py:493: FutureWarning: `BaseEstimator._check_feature_names` is deprecated in 1.6 and will be removed in 1.7. Use `sklearn.utils.validation._check_feature_names` instead.\n",
      "  warnings.warn(\n",
      "/opt/conda/lib/python3.9/site-packages/sklearn/utils/deprecation.py:151: FutureWarning: 'force_all_finite' was renamed to 'ensure_all_finite' in 1.6 and will be removed in 1.8.\n",
      "  warnings.warn(\n",
      "/opt/conda/lib/python3.9/site-packages/sklearn/base.py:484: FutureWarning: `BaseEstimator._check_n_features` is deprecated in 1.6 and will be removed in 1.7. Use `sklearn.utils.validation._check_n_features` instead.\n",
      "  warnings.warn(\n",
      "/opt/conda/lib/python3.9/site-packages/sklearn/base.py:493: FutureWarning: `BaseEstimator._check_feature_names` is deprecated in 1.6 and will be removed in 1.7. Use `sklearn.utils.validation._check_feature_names` instead.\n",
      "  warnings.warn(\n",
      "/opt/conda/lib/python3.9/site-packages/sklearn/utils/deprecation.py:151: FutureWarning: 'force_all_finite' was renamed to 'ensure_all_finite' in 1.6 and will be removed in 1.8.\n",
      "  warnings.warn(\n",
      "/opt/conda/lib/python3.9/site-packages/sklearn/base.py:484: FutureWarning: `BaseEstimator._check_n_features` is deprecated in 1.6 and will be removed in 1.7. Use `sklearn.utils.validation._check_n_features` instead.\n",
      "  warnings.warn(\n",
      "/opt/conda/lib/python3.9/site-packages/sklearn/base.py:493: FutureWarning: `BaseEstimator._check_feature_names` is deprecated in 1.6 and will be removed in 1.7. Use `sklearn.utils.validation._check_feature_names` instead.\n",
      "  warnings.warn(\n"
     ]
    },
    {
     "data": {
      "text/plain": [
       "\"Лучшие параметры для CatBoost: {'model__depth': 10, 'model__iterations': 300, 'model__learning_rate': 0.1}\""
      ]
     },
     "metadata": {},
     "output_type": "display_data"
    },
    {
     "data": {
      "text/plain": [
       "'F1 на кросс-валидации: 0.742'"
      ]
     },
     "metadata": {},
     "output_type": "display_data"
    },
    {
     "data": {
      "text/plain": [
       "'F1 на тестовой выборке: 0.745'"
      ]
     },
     "metadata": {},
     "output_type": "display_data"
    },
    {
     "data": {
      "text/plain": [
       "'Accuracy на тестовой выборке: 0.943'"
      ]
     },
     "metadata": {},
     "output_type": "display_data"
    },
    {
     "data": {
      "text/plain": [
       "'Precision на тестовой выборке: 0.681'"
      ]
     },
     "metadata": {},
     "output_type": "display_data"
    },
    {
     "data": {
      "text/plain": [
       "'Recall на тестовой выборке: 0.822'"
      ]
     },
     "metadata": {},
     "output_type": "display_data"
    },
    {
     "data": {
      "text/plain": [
       "'ROC-AUC на тестовой выборке: 0.956'"
      ]
     },
     "metadata": {},
     "output_type": "display_data"
    },
    {
     "data": {
      "text/plain": [
       "'Обучение модели Logistic Regression...'"
      ]
     },
     "metadata": {},
     "output_type": "display_data"
    },
    {
     "name": "stdout",
     "output_type": "stream",
     "text": [
      "Fitting 2 folds for each of 7 candidates, totalling 14 fits\n"
     ]
    },
    {
     "name": "stderr",
     "output_type": "stream",
     "text": [
      "/opt/conda/lib/python3.9/site-packages/sklearn/utils/deprecation.py:151: FutureWarning: 'force_all_finite' was renamed to 'ensure_all_finite' in 1.6 and will be removed in 1.8.\n",
      "  warnings.warn(\n",
      "/opt/conda/lib/python3.9/site-packages/sklearn/base.py:484: FutureWarning: `BaseEstimator._check_n_features` is deprecated in 1.6 and will be removed in 1.7. Use `sklearn.utils.validation._check_n_features` instead.\n",
      "  warnings.warn(\n",
      "/opt/conda/lib/python3.9/site-packages/sklearn/base.py:493: FutureWarning: `BaseEstimator._check_feature_names` is deprecated in 1.6 and will be removed in 1.7. Use `sklearn.utils.validation._check_feature_names` instead.\n",
      "  warnings.warn(\n",
      "/opt/conda/lib/python3.9/site-packages/sklearn/utils/deprecation.py:151: FutureWarning: 'force_all_finite' was renamed to 'ensure_all_finite' in 1.6 and will be removed in 1.8.\n",
      "  warnings.warn(\n",
      "/opt/conda/lib/python3.9/site-packages/sklearn/base.py:484: FutureWarning: `BaseEstimator._check_n_features` is deprecated in 1.6 and will be removed in 1.7. Use `sklearn.utils.validation._check_n_features` instead.\n",
      "  warnings.warn(\n",
      "/opt/conda/lib/python3.9/site-packages/sklearn/base.py:493: FutureWarning: `BaseEstimator._check_feature_names` is deprecated in 1.6 and will be removed in 1.7. Use `sklearn.utils.validation._check_feature_names` instead.\n",
      "  warnings.warn(\n",
      "/opt/conda/lib/python3.9/site-packages/sklearn/utils/deprecation.py:151: FutureWarning: 'force_all_finite' was renamed to 'ensure_all_finite' in 1.6 and will be removed in 1.8.\n",
      "  warnings.warn(\n",
      "/opt/conda/lib/python3.9/site-packages/sklearn/base.py:484: FutureWarning: `BaseEstimator._check_n_features` is deprecated in 1.6 and will be removed in 1.7. Use `sklearn.utils.validation._check_n_features` instead.\n",
      "  warnings.warn(\n",
      "/opt/conda/lib/python3.9/site-packages/sklearn/base.py:493: FutureWarning: `BaseEstimator._check_feature_names` is deprecated in 1.6 and will be removed in 1.7. Use `sklearn.utils.validation._check_feature_names` instead.\n",
      "  warnings.warn(\n",
      "/opt/conda/lib/python3.9/site-packages/sklearn/utils/deprecation.py:151: FutureWarning: 'force_all_finite' was renamed to 'ensure_all_finite' in 1.6 and will be removed in 1.8.\n",
      "  warnings.warn(\n",
      "/opt/conda/lib/python3.9/site-packages/sklearn/base.py:484: FutureWarning: `BaseEstimator._check_n_features` is deprecated in 1.6 and will be removed in 1.7. Use `sklearn.utils.validation._check_n_features` instead.\n",
      "  warnings.warn(\n",
      "/opt/conda/lib/python3.9/site-packages/sklearn/base.py:493: FutureWarning: `BaseEstimator._check_feature_names` is deprecated in 1.6 and will be removed in 1.7. Use `sklearn.utils.validation._check_feature_names` instead.\n",
      "  warnings.warn(\n",
      "/opt/conda/lib/python3.9/site-packages/sklearn/utils/deprecation.py:151: FutureWarning: 'force_all_finite' was renamed to 'ensure_all_finite' in 1.6 and will be removed in 1.8.\n",
      "  warnings.warn(\n",
      "/opt/conda/lib/python3.9/site-packages/sklearn/base.py:484: FutureWarning: `BaseEstimator._check_n_features` is deprecated in 1.6 and will be removed in 1.7. Use `sklearn.utils.validation._check_n_features` instead.\n",
      "  warnings.warn(\n",
      "/opt/conda/lib/python3.9/site-packages/sklearn/base.py:493: FutureWarning: `BaseEstimator._check_feature_names` is deprecated in 1.6 and will be removed in 1.7. Use `sklearn.utils.validation._check_feature_names` instead.\n",
      "  warnings.warn(\n",
      "/opt/conda/lib/python3.9/site-packages/sklearn/utils/deprecation.py:151: FutureWarning: 'force_all_finite' was renamed to 'ensure_all_finite' in 1.6 and will be removed in 1.8.\n",
      "  warnings.warn(\n",
      "/opt/conda/lib/python3.9/site-packages/sklearn/base.py:484: FutureWarning: `BaseEstimator._check_n_features` is deprecated in 1.6 and will be removed in 1.7. Use `sklearn.utils.validation._check_n_features` instead.\n",
      "  warnings.warn(\n",
      "/opt/conda/lib/python3.9/site-packages/sklearn/base.py:493: FutureWarning: `BaseEstimator._check_feature_names` is deprecated in 1.6 and will be removed in 1.7. Use `sklearn.utils.validation._check_feature_names` instead.\n",
      "  warnings.warn(\n",
      "/opt/conda/lib/python3.9/site-packages/sklearn/utils/deprecation.py:151: FutureWarning: 'force_all_finite' was renamed to 'ensure_all_finite' in 1.6 and will be removed in 1.8.\n",
      "  warnings.warn(\n",
      "/opt/conda/lib/python3.9/site-packages/sklearn/base.py:484: FutureWarning: `BaseEstimator._check_n_features` is deprecated in 1.6 and will be removed in 1.7. Use `sklearn.utils.validation._check_n_features` instead.\n",
      "  warnings.warn(\n",
      "/opt/conda/lib/python3.9/site-packages/sklearn/base.py:493: FutureWarning: `BaseEstimator._check_feature_names` is deprecated in 1.6 and will be removed in 1.7. Use `sklearn.utils.validation._check_feature_names` instead.\n",
      "  warnings.warn(\n",
      "/opt/conda/lib/python3.9/site-packages/sklearn/utils/deprecation.py:151: FutureWarning: 'force_all_finite' was renamed to 'ensure_all_finite' in 1.6 and will be removed in 1.8.\n",
      "  warnings.warn(\n",
      "/opt/conda/lib/python3.9/site-packages/sklearn/base.py:484: FutureWarning: `BaseEstimator._check_n_features` is deprecated in 1.6 and will be removed in 1.7. Use `sklearn.utils.validation._check_n_features` instead.\n",
      "  warnings.warn(\n",
      "/opt/conda/lib/python3.9/site-packages/sklearn/base.py:493: FutureWarning: `BaseEstimator._check_feature_names` is deprecated in 1.6 and will be removed in 1.7. Use `sklearn.utils.validation._check_feature_names` instead.\n",
      "  warnings.warn(\n",
      "/opt/conda/lib/python3.9/site-packages/sklearn/utils/deprecation.py:151: FutureWarning: 'force_all_finite' was renamed to 'ensure_all_finite' in 1.6 and will be removed in 1.8.\n",
      "  warnings.warn(\n",
      "/opt/conda/lib/python3.9/site-packages/sklearn/base.py:484: FutureWarning: `BaseEstimator._check_n_features` is deprecated in 1.6 and will be removed in 1.7. Use `sklearn.utils.validation._check_n_features` instead.\n",
      "  warnings.warn(\n",
      "/opt/conda/lib/python3.9/site-packages/sklearn/base.py:493: FutureWarning: `BaseEstimator._check_feature_names` is deprecated in 1.6 and will be removed in 1.7. Use `sklearn.utils.validation._check_feature_names` instead.\n",
      "  warnings.warn(\n",
      "/opt/conda/lib/python3.9/site-packages/sklearn/utils/deprecation.py:151: FutureWarning: 'force_all_finite' was renamed to 'ensure_all_finite' in 1.6 and will be removed in 1.8.\n",
      "  warnings.warn(\n",
      "/opt/conda/lib/python3.9/site-packages/sklearn/base.py:484: FutureWarning: `BaseEstimator._check_n_features` is deprecated in 1.6 and will be removed in 1.7. Use `sklearn.utils.validation._check_n_features` instead.\n",
      "  warnings.warn(\n",
      "/opt/conda/lib/python3.9/site-packages/sklearn/base.py:493: FutureWarning: `BaseEstimator._check_feature_names` is deprecated in 1.6 and will be removed in 1.7. Use `sklearn.utils.validation._check_feature_names` instead.\n",
      "  warnings.warn(\n",
      "/opt/conda/lib/python3.9/site-packages/sklearn/utils/deprecation.py:151: FutureWarning: 'force_all_finite' was renamed to 'ensure_all_finite' in 1.6 and will be removed in 1.8.\n",
      "  warnings.warn(\n",
      "/opt/conda/lib/python3.9/site-packages/sklearn/base.py:484: FutureWarning: `BaseEstimator._check_n_features` is deprecated in 1.6 and will be removed in 1.7. Use `sklearn.utils.validation._check_n_features` instead.\n",
      "  warnings.warn(\n",
      "/opt/conda/lib/python3.9/site-packages/sklearn/base.py:493: FutureWarning: `BaseEstimator._check_feature_names` is deprecated in 1.6 and will be removed in 1.7. Use `sklearn.utils.validation._check_feature_names` instead.\n",
      "  warnings.warn(\n",
      "/opt/conda/lib/python3.9/site-packages/sklearn/utils/deprecation.py:151: FutureWarning: 'force_all_finite' was renamed to 'ensure_all_finite' in 1.6 and will be removed in 1.8.\n",
      "  warnings.warn(\n",
      "/opt/conda/lib/python3.9/site-packages/sklearn/base.py:484: FutureWarning: `BaseEstimator._check_n_features` is deprecated in 1.6 and will be removed in 1.7. Use `sklearn.utils.validation._check_n_features` instead.\n",
      "  warnings.warn(\n",
      "/opt/conda/lib/python3.9/site-packages/sklearn/base.py:493: FutureWarning: `BaseEstimator._check_feature_names` is deprecated in 1.6 and will be removed in 1.7. Use `sklearn.utils.validation._check_feature_names` instead.\n",
      "  warnings.warn(\n",
      "/opt/conda/lib/python3.9/site-packages/sklearn/utils/deprecation.py:151: FutureWarning: 'force_all_finite' was renamed to 'ensure_all_finite' in 1.6 and will be removed in 1.8.\n",
      "  warnings.warn(\n",
      "/opt/conda/lib/python3.9/site-packages/sklearn/base.py:484: FutureWarning: `BaseEstimator._check_n_features` is deprecated in 1.6 and will be removed in 1.7. Use `sklearn.utils.validation._check_n_features` instead.\n",
      "  warnings.warn(\n",
      "/opt/conda/lib/python3.9/site-packages/sklearn/base.py:493: FutureWarning: `BaseEstimator._check_feature_names` is deprecated in 1.6 and will be removed in 1.7. Use `sklearn.utils.validation._check_feature_names` instead.\n",
      "  warnings.warn(\n",
      "/opt/conda/lib/python3.9/site-packages/sklearn/utils/deprecation.py:151: FutureWarning: 'force_all_finite' was renamed to 'ensure_all_finite' in 1.6 and will be removed in 1.8.\n",
      "  warnings.warn(\n",
      "/opt/conda/lib/python3.9/site-packages/sklearn/base.py:484: FutureWarning: `BaseEstimator._check_n_features` is deprecated in 1.6 and will be removed in 1.7. Use `sklearn.utils.validation._check_n_features` instead.\n",
      "  warnings.warn(\n",
      "/opt/conda/lib/python3.9/site-packages/sklearn/base.py:493: FutureWarning: `BaseEstimator._check_feature_names` is deprecated in 1.6 and will be removed in 1.7. Use `sklearn.utils.validation._check_feature_names` instead.\n",
      "  warnings.warn(\n",
      "/opt/conda/lib/python3.9/site-packages/sklearn/utils/deprecation.py:151: FutureWarning: 'force_all_finite' was renamed to 'ensure_all_finite' in 1.6 and will be removed in 1.8.\n",
      "  warnings.warn(\n",
      "/opt/conda/lib/python3.9/site-packages/sklearn/base.py:484: FutureWarning: `BaseEstimator._check_n_features` is deprecated in 1.6 and will be removed in 1.7. Use `sklearn.utils.validation._check_n_features` instead.\n",
      "  warnings.warn(\n",
      "/opt/conda/lib/python3.9/site-packages/sklearn/base.py:493: FutureWarning: `BaseEstimator._check_feature_names` is deprecated in 1.6 and will be removed in 1.7. Use `sklearn.utils.validation._check_feature_names` instead.\n",
      "  warnings.warn(\n"
     ]
    },
    {
     "data": {
      "text/plain": [
       "\"Лучшие параметры для Logistic Regression: {'model__C': 6}\""
      ]
     },
     "metadata": {},
     "output_type": "display_data"
    },
    {
     "data": {
      "text/plain": [
       "'F1 на кросс-валидации: 0.752'"
      ]
     },
     "metadata": {},
     "output_type": "display_data"
    },
    {
     "data": {
      "text/plain": [
       "'F1 на тестовой выборке: 0.755'"
      ]
     },
     "metadata": {},
     "output_type": "display_data"
    },
    {
     "data": {
      "text/plain": [
       "'Accuracy на тестовой выборке: 0.945'"
      ]
     },
     "metadata": {},
     "output_type": "display_data"
    },
    {
     "data": {
      "text/plain": [
       "'Precision на тестовой выборке: 0.688'"
      ]
     },
     "metadata": {},
     "output_type": "display_data"
    },
    {
     "data": {
      "text/plain": [
       "'Recall на тестовой выборке: 0.837'"
      ]
     },
     "metadata": {},
     "output_type": "display_data"
    },
    {
     "data": {
      "text/plain": [
       "'ROC-AUC на тестовой выборке: 0.966'"
      ]
     },
     "metadata": {},
     "output_type": "display_data"
    },
    {
     "data": {
      "text/plain": [
       "'Обучение модели Random Forest...'"
      ]
     },
     "metadata": {},
     "output_type": "display_data"
    },
    {
     "name": "stdout",
     "output_type": "stream",
     "text": [
      "Fitting 2 folds for each of 1 candidates, totalling 2 fits\n"
     ]
    },
    {
     "name": "stderr",
     "output_type": "stream",
     "text": [
      "/opt/conda/lib/python3.9/site-packages/sklearn/utils/deprecation.py:151: FutureWarning: 'force_all_finite' was renamed to 'ensure_all_finite' in 1.6 and will be removed in 1.8.\n",
      "  warnings.warn(\n",
      "/opt/conda/lib/python3.9/site-packages/sklearn/base.py:484: FutureWarning: `BaseEstimator._check_n_features` is deprecated in 1.6 and will be removed in 1.7. Use `sklearn.utils.validation._check_n_features` instead.\n",
      "  warnings.warn(\n",
      "/opt/conda/lib/python3.9/site-packages/sklearn/base.py:493: FutureWarning: `BaseEstimator._check_feature_names` is deprecated in 1.6 and will be removed in 1.7. Use `sklearn.utils.validation._check_feature_names` instead.\n",
      "  warnings.warn(\n",
      "/opt/conda/lib/python3.9/site-packages/sklearn/utils/deprecation.py:151: FutureWarning: 'force_all_finite' was renamed to 'ensure_all_finite' in 1.6 and will be removed in 1.8.\n",
      "  warnings.warn(\n",
      "/opt/conda/lib/python3.9/site-packages/sklearn/base.py:484: FutureWarning: `BaseEstimator._check_n_features` is deprecated in 1.6 and will be removed in 1.7. Use `sklearn.utils.validation._check_n_features` instead.\n",
      "  warnings.warn(\n",
      "/opt/conda/lib/python3.9/site-packages/sklearn/base.py:493: FutureWarning: `BaseEstimator._check_feature_names` is deprecated in 1.6 and will be removed in 1.7. Use `sklearn.utils.validation._check_feature_names` instead.\n",
      "  warnings.warn(\n",
      "/opt/conda/lib/python3.9/site-packages/sklearn/utils/deprecation.py:151: FutureWarning: 'force_all_finite' was renamed to 'ensure_all_finite' in 1.6 and will be removed in 1.8.\n",
      "  warnings.warn(\n",
      "/opt/conda/lib/python3.9/site-packages/sklearn/base.py:484: FutureWarning: `BaseEstimator._check_n_features` is deprecated in 1.6 and will be removed in 1.7. Use `sklearn.utils.validation._check_n_features` instead.\n",
      "  warnings.warn(\n",
      "/opt/conda/lib/python3.9/site-packages/sklearn/base.py:493: FutureWarning: `BaseEstimator._check_feature_names` is deprecated in 1.6 and will be removed in 1.7. Use `sklearn.utils.validation._check_feature_names` instead.\n",
      "  warnings.warn(\n"
     ]
    },
    {
     "data": {
      "text/plain": [
       "\"Лучшие параметры для Random Forest: {'model__max_depth': None, 'model__min_samples_leaf': 2, 'model__min_samples_split': 20, 'model__n_estimators': 100}\""
      ]
     },
     "metadata": {},
     "output_type": "display_data"
    },
    {
     "data": {
      "text/plain": [
       "'F1 на кросс-валидации: 0.729'"
      ]
     },
     "metadata": {},
     "output_type": "display_data"
    },
    {
     "data": {
      "text/plain": [
       "'F1 на тестовой выборке: 0.747'"
      ]
     },
     "metadata": {},
     "output_type": "display_data"
    },
    {
     "data": {
      "text/plain": [
       "'Accuracy на тестовой выборке: 0.948'"
      ]
     },
     "metadata": {},
     "output_type": "display_data"
    },
    {
     "data": {
      "text/plain": [
       "'Precision на тестовой выборке: 0.738'"
      ]
     },
     "metadata": {},
     "output_type": "display_data"
    },
    {
     "data": {
      "text/plain": [
       "'Recall на тестовой выборке: 0.757'"
      ]
     },
     "metadata": {},
     "output_type": "display_data"
    },
    {
     "data": {
      "text/plain": [
       "'ROC-AUC на тестовой выборке: 0.956'"
      ]
     },
     "metadata": {},
     "output_type": "display_data"
    }
   ],
   "source": [
    "# Модели и параметры\n",
    "models = [ \n",
    "    {\n",
    "        'name': 'CatBoost',\n",
    "        'pipeline': ImbPipeline([\n",
    "            ('tfidf', TfidfVectorizer(max_features=5000)),\n",
    "            ('oversampler', RandomOverSampler(random_state=42)),  # Заменяем SMOTE на RandomOverSampler\n",
    "            ('model', CatBoostClassifier(verbose=0, random_state=42))\n",
    "        ]),\n",
    "        'params': {\n",
    "            'model__iterations': [300],\n",
    "            'model__depth': [10],\n",
    "            'model__learning_rate': [0.1]\n",
    "        }\n",
    "    },\n",
    "    {\n",
    "        'name': 'Logistic Regression',\n",
    "        'pipeline': ImbPipeline([\n",
    "            ('tfidf', TfidfVectorizer(max_features=50000)),\n",
    "            ('oversampler', RandomOverSampler(random_state=42)),  # Заменяем SMOTE на RandomOverSampler\n",
    "            ('model', LogisticRegression(class_weight='balanced', max_iter=100, random_state=42))\n",
    "        ]),\n",
    "        'params': {\n",
    "            'model__C': [5, 6, 6.5, 7, 7.5, 8, 10]  \n",
    "        }\n",
    "    },\n",
    "    {\n",
    "        'name': 'Random Forest',\n",
    "        'pipeline': ImbPipeline([\n",
    "            ('tfidf', TfidfVectorizer(max_features=30000)),\n",
    "            ('oversampler', RandomOverSampler(random_state=42)),  # Заменяем SMOTE на RandomOverSampler\n",
    "            ('model', RandomForestClassifier(class_weight='balanced', random_state=42))\n",
    "        ]),\n",
    "        'params': {\n",
    "            'model__n_estimators': [100],\n",
    "            'model__max_depth': [None],\n",
    "            'model__min_samples_split': [20],\n",
    "            'model__min_samples_leaf': [2]\n",
    "        }\n",
    "    }\n",
    "]\n",
    "\n",
    "# Словарь для хранения результатов\n",
    "results = {}\n",
    "\n",
    "# Оптимизированный цикл обучения с использованием GridSearchCV\n",
    "for model in models:\n",
    "    display(f\"Обучение модели {model['name']}...\")\n",
    "    \n",
    "    grid_search = GridSearchCV(\n",
    "        model['pipeline'],\n",
    "        model['params'],\n",
    "        scoring='f1',\n",
    "        cv=StratifiedKFold(n_splits=2, shuffle=True, random_state=42),\n",
    "        n_jobs=-1,\n",
    "        verbose=1\n",
    "    )\n",
    "    \n",
    "    try:\n",
    "        grid_search.fit(X_train, y_train)\n",
    "        \n",
    "        best_params = grid_search.best_params_\n",
    "        best_score = grid_search.best_score_\n",
    "        y_pred = grid_search.predict(X_test)\n",
    "        test_f1 = f1_score(y_test, y_pred)\n",
    "        test_accuracy = accuracy_score(y_test, y_pred)\n",
    "        test_precision = precision_score(y_test, y_pred)\n",
    "        test_recall = recall_score(y_test, y_pred)\n",
    "        test_roc_auc = roc_auc_score(y_test, grid_search.predict_proba(X_test)[:,1])\n",
    "        \n",
    "        results[model['name']] = {\n",
    "            'best_params': best_params,\n",
    "            'cv_f1': best_score,\n",
    "            'test_f1': test_f1,\n",
    "            'test_accuracy': test_accuracy,\n",
    "            'test_precision': test_precision,\n",
    "            'test_recall': test_recall,\n",
    "            'test_roc_auc': test_roc_auc,\n",
    "            'best_estimator': grid_search.best_estimator_\n",
    "        }\n",
    "        \n",
    "        display(f\"Лучшие параметры для {model['name']}: {best_params}\")\n",
    "        display(f\"F1 на кросс-валидации: {best_score:.3f}\")\n",
    "        display(f\"F1 на тестовой выборке: {test_f1:.3f}\")\n",
    "        display(f\"Accuracy на тестовой выборке: {test_accuracy:.3f}\")\n",
    "        display(f\"Precision на тестовой выборке: {test_precision:.3f}\")\n",
    "        display(f\"Recall на тестовой выборке: {test_recall:.3f}\")\n",
    "        display(f\"ROC-AUC на тестовой выборке: {test_roc_auc:.3f}\")\n",
    "        \n",
    "    except Exception as e:\n",
    "        display(f\"Ошибка при обучении {model['name']}: {str(e)}\")\n",
    "        continue"
   ]
  },
  {
   "cell_type": "code",
   "execution_count": 10,
   "metadata": {},
   "outputs": [
    {
     "data": {
      "image/png": "[encoded data removed]",
      "text/plain": [
       "<Figure size 864x432 with 1 Axes>"
      ]
     },
     "metadata": {
      "needs_background": "light"
     },
     "output_type": "display_data"
    }
   ],
   "source": [
    "# Функция для построения бар-графика F1-мер\n",
    "def plot_f1_scores(results):\n",
    "    model_names = list(results.keys())\n",
    "    f1_scores = [result['test_f1'] for result in results.values()]\n",
    "    \n",
    "    plt.figure(figsize=(12, 6))\n",
    "    colors = ['#1f77b4', '#ff7f0e', '#2ca02c', '#d62728', '#9467bd', '#8c564b', '#e377c2', '#7f7f7f', '#bcbd22', '#17becf']\n",
    "    plt.bar(model_names, f1_scores, color=colors[:len(model_names)])\n",
    "    plt.xlabel('Модель', fontsize=14)\n",
    "    plt.ylabel('F1-мера', fontsize=14)\n",
    "    plt.title('Сравнение моделей по F1-мере', fontsize=16)\n",
    "    plt.xticks(rotation=45, ha='right', fontsize=12)\n",
    "    plt.yticks(fontsize=12)\n",
    "    plt.grid(True, axis='y', alpha=0.7, linestyle='--')\n",
    "    \n",
    "    # Устанавливаем нижнюю границу оси Y на 0.5\n",
    "    plt.ylim(bottom=0.5)\n",
    "    \n",
    "    plt.tight_layout()\n",
    "    plt.show()\n",
    "\n",
    "# Визуализация результатов\n",
    "plot_f1_scores(results)"
   ]
  },
  {
   "cell_type": "code",
   "execution_count": 11,
   "metadata": {},
   "outputs": [
    {
     "data": {
      "image/png": "[encoded data removed]",
      "text/plain": [
       "<Figure size 864x432 with 1 Axes>"
      ]
     },
     "metadata": {
      "needs_background": "light"
     },
     "output_type": "display_data"
    },
    {
     "data": {
      "text/plain": [
       "<Figure size 864x576 with 0 Axes>"
      ]
     },
     "metadata": {},
     "output_type": "display_data"
    },
    {
     "data": {
      "image/png": "[encoded data removed]",
      "text/plain": [
       "<Figure size 1008x576 with 1 Axes>"
      ]
     },
     "metadata": {
      "needs_background": "light"
     },
     "output_type": "display_data"
    }
   ],
   "source": [
    "# Функция для построения графиков различных метрик\n",
    "def plot_metric_comparison(results):\n",
    "    plt.figure(figsize=(12, 8))\n",
    "    scores_df = pd.DataFrame([\n",
    "        {\n",
    "            'Model': name,\n",
    "            'F1 Score': result['test_f1'],\n",
    "            'Accuracy': result['test_accuracy'],\n",
    "            'Precision': result['test_precision'],\n",
    "            'Recall': result['test_recall'],\n",
    "            'ROC-AUC': result['test_roc_auc']\n",
    "        } \n",
    "        for name, result in results.items()\n",
    "    ]).sort_values(by='F1 Score', ascending=False)\n",
    "    \n",
    "    scores_df.set_index('Model', inplace=True)\n",
    "    scores_df.plot(kind='barh', figsize=(14, 8), color=['#1f77b4', '#ff7f0e', '#2ca02c', '#d62728', '#9467bd'])\n",
    "    plt.xlabel('Score')\n",
    "    plt.title('Сравнение моделей по различным метрикам')\n",
    "    plt.legend(loc='lower right')\n",
    "    plt.gca().invert_yaxis()\n",
    "    plt.tight_layout()\n",
    "    plt.show()\n",
    "\n",
    "# Вызов функций для построения графиков\n",
    "plot_f1_scores(results)\n",
    "plot_metric_comparison(results)"
   ]
  },
  {
   "cell_type": "code",
   "execution_count": 12,
   "metadata": {},
   "outputs": [
    {
     "data": {
      "text/plain": [
       "'Лучший результат у модели: Logistic Regression'"
      ]
     },
     "metadata": {},
     "output_type": "display_data"
    },
    {
     "data": {
      "text/plain": [
       "'F1-Score для модели Logistic Regression: 0.7553'"
      ]
     },
     "metadata": {},
     "output_type": "display_data"
    },
    {
     "data": {
      "text/plain": [
       "'Accuracy для модели Logistic Regression: 0.9449'"
      ]
     },
     "metadata": {},
     "output_type": "display_data"
    },
    {
     "data": {
      "text/plain": [
       "'Precision для модели Logistic Regression: 0.6882'"
      ]
     },
     "metadata": {},
     "output_type": "display_data"
    },
    {
     "data": {
      "text/plain": [
       "'Recall для модели Logistic Regression: 0.8369'"
      ]
     },
     "metadata": {},
     "output_type": "display_data"
    },
    {
     "data": {
      "text/plain": [
       "'ROC-AUC для модели Logistic Regression: 0.9656'"
      ]
     },
     "metadata": {},
     "output_type": "display_data"
    },
    {
     "data": {
      "text/plain": [
       "'Отчет о классификации:'"
      ]
     },
     "metadata": {},
     "output_type": "display_data"
    },
    {
     "data": {
      "text/plain": [
       "'              precision    recall  f1-score   support\\n\\n Нетоксичные       0.98      0.96      0.97     14311\\n   Токсичные       0.69      0.84      0.76      1619\\n\\n    accuracy                           0.94     15930\\n   macro avg       0.83      0.90      0.86     15930\\nweighted avg       0.95      0.94      0.95     15930\\n'"
      ]
     },
     "metadata": {},
     "output_type": "display_data"
    },
    {
     "data": {
      "image/png": "[encoded data removed]",
      "text/plain": [
       "<Figure size 576x432 with 2 Axes>"
      ]
     },
     "metadata": {
      "needs_background": "light"
     },
     "output_type": "display_data"
    },
    {
     "data": {
      "image/png": "[encoded data removed]",
      "text/plain": [
       "<Figure size 720x576 with 1 Axes>"
      ]
     },
     "metadata": {
      "needs_background": "light"
     },
     "output_type": "display_data"
    }
   ],
   "source": [
    "# Визуализация подробностей для лучшей модели\n",
    "def visualize_best_model(results, models, X_test, y_test):\n",
    "    # Определяем лучшую модель по F1-мере\n",
    "    best_model_name = max(results, key=lambda x: results[x]['test_f1'])\n",
    "    best_result = results[best_model_name]\n",
    "    best_estimator = best_result['best_estimator']\n",
    "    \n",
    "    y_pred_best = best_estimator.predict(X_test)\n",
    "    y_proba_best = best_estimator.predict_proba(X_test)[:,1]\n",
    "    \n",
    "    display(f\"Лучший результат у модели: {best_model_name}\")\n",
    "    display(f\"F1-Score для модели {best_model_name}: {best_result['test_f1']:.4f}\")\n",
    "    display(f\"Accuracy для модели {best_model_name}: {best_result['test_accuracy']:.4f}\")\n",
    "    display(f\"Precision для модели {best_model_name}: {best_result['test_precision']:.4f}\")\n",
    "    display(f\"Recall для модели {best_model_name}: {best_result['test_recall']:.4f}\")\n",
    "    display(f\"ROC-AUC для модели {best_model_name}: {best_result['test_roc_auc']:.4f}\")\n",
    "    \n",
    "    display(\"Отчет о классификации:\")\n",
    "    display(classification_report(y_test, y_pred_best, target_names=['Нетоксичные', 'Токсичные']))\n",
    "    \n",
    "    # Построение confusion matrix с улучшенным стилем\n",
    "    plt.figure(figsize=(8, 6))\n",
    "    cm = confusion_matrix(y_test, y_pred_best)\n",
    "    sns.heatmap(cm, annot=True, fmt='d', cmap='YlGnBu', \n",
    "                xticklabels=['Нетоксичные', 'Токсичные'], \n",
    "                yticklabels=['Нетоксичные', 'Токсичные'])\n",
    "    plt.title(f'Confusion Matrix для модели {best_model_name}', fontsize=16)\n",
    "    plt.xlabel('Предсказанные значения', fontsize=14)\n",
    "    plt.ylabel('Реальные значения', fontsize=14)\n",
    "    plt.xticks(fontsize=12)\n",
    "    plt.yticks(fontsize=12)\n",
    "    plt.tight_layout()\n",
    "    plt.show()\n",
    "    \n",
    "    # Построение ROC-кривой\n",
    "    fpr, tpr, thresholds = roc_curve(y_test, y_proba_best)\n",
    "    roc_auc = auc(fpr, tpr)\n",
    "    \n",
    "    plt.figure(figsize=(10, 8))\n",
    "    plt.plot(fpr, tpr, color='darkorange', lw=2, label=f'ROC-кривая (AUC = {roc_auc:.2f})')\n",
    "    plt.plot([0, 1], [0, 1], color='navy', lw=2, linestyle='--')\n",
    "    plt.xlim([0.0, 1.0])\n",
    "    plt.ylim([0.0, 1.05])\n",
    "    plt.xlabel('False Positive Rate', fontsize=14)\n",
    "    plt.ylabel('True Positive Rate', fontsize=14)\n",
    "    plt.title(f'ROC-кривая для модели {best_model_name}', fontsize=16)\n",
    "    plt.legend(loc=\"lower right\", fontsize=12)\n",
    "    plt.grid(True)\n",
    "    plt.tight_layout()\n",
    "    plt.show()\n",
    "\n",
    "# Вызов функции визуализации для лучшей модели\n",
    "visualize_best_model(results, models, X_test, y_test)"
   ]
  },
  {
   "cell_type": "code",
   "execution_count": 13,
   "metadata": {},
   "outputs": [
    {
     "data": {
      "text/plain": [
       "'Модель Logistic Regression не поддерживает атрибут feature_importances_.'"
      ]
     },
     "metadata": {},
     "output_type": "display_data"
    },
    {
     "data": {
      "text/plain": [
       "'             Модель  F1-мера\\nLogistic Regression 0.755295\\n      Random Forest 0.747333\\n           CatBoost 0.744824'"
      ]
     },
     "metadata": {},
     "output_type": "display_data"
    },
    {
     "data": {
      "text/plain": [
       "'Лучшая модель по кросс-валидации: Logistic Regression'"
      ]
     },
     "metadata": {},
     "output_type": "display_data"
    },
    {
     "data": {
      "text/plain": [
       "'F1-Score на тестовой выборке: 0.76'"
      ]
     },
     "metadata": {},
     "output_type": "display_data"
    },
    {
     "data": {
      "text/plain": [
       "'Accuracy на тестовой выборке: 0.94'"
      ]
     },
     "metadata": {},
     "output_type": "display_data"
    },
    {
     "data": {
      "text/plain": [
       "'Precision на тестовой выборке: 0.69'"
      ]
     },
     "metadata": {},
     "output_type": "display_data"
    },
    {
     "data": {
      "text/plain": [
       "'Recall на тестовой выборке: 0.84'"
      ]
     },
     "metadata": {},
     "output_type": "display_data"
    },
    {
     "data": {
      "text/plain": [
       "'ROC-AUC на тестовой выборке: 0.97'"
      ]
     },
     "metadata": {},
     "output_type": "display_data"
    },
    {
     "data": {
      "text/plain": [
       "'F1 на тестовой выборке >= 0.75. Задание выполнено.'"
      ]
     },
     "metadata": {},
     "output_type": "display_data"
    },
    {
     "data": {
      "image/png": "[encoded data removed]",
      "text/plain": [
       "<Figure size 720x432 with 1 Axes>"
      ]
     },
     "metadata": {
      "needs_background": "light"
     },
     "output_type": "display_data"
    }
   ],
   "source": [
    "# Допустим, что results — это словарь, в котором хранится информация о результатах моделей, \n",
    "# а 'best_pipeline' будет хранить лучший пайплайн после обучения (например, с использованием GridSearchCV).\n",
    "# Нужно убедиться, что 'best_pipeline' правильно определен и содержит пайплайн, включающий модель и векторизатор.\n",
    "\n",
    "# Выбираем лучший пайплайн по F1-мере (или другой метрике)\n",
    "best_model_name = max(results, key=lambda x: results[x]['test_f1'])\n",
    "best_result = results[best_model_name]\n",
    "best_pipeline = best_result['best_estimator']  # Используем лучший пайплайн\n",
    "\n",
    "# Важность признаков (если модель поддерживает)\n",
    "if hasattr(best_pipeline.named_steps['model'], 'feature_importances_'):\n",
    "    # Получение TF-IDF feature names\n",
    "    tfidf = best_pipeline.named_steps['tfidf']\n",
    "    feature_names = tfidf.get_feature_names_out()\n",
    "    importances = best_pipeline.named_steps['model'].feature_importances_\n",
    "\n",
    "    # Создание DataFrame с важностью признаков\n",
    "    feature_importance_df = pd.DataFrame({\n",
    "        'feature': feature_names,\n",
    "        'importance': importances\n",
    "    }).sort_values(by='importance', ascending=False).head(20)\n",
    "\n",
    "    # Построение графика важности признаков\n",
    "    plt.figure(figsize=(12, 8))\n",
    "    sns.barplot(x='importance', y='feature', data=feature_importance_df, palette='viridis')\n",
    "    plt.title(f'Топ 20 важнейших признаков для модели {best_model_name}', fontsize=16)\n",
    "    plt.xlabel('Важность', fontsize=14)\n",
    "    plt.ylabel('Признаки', fontsize=14)\n",
    "    plt.tight_layout()\n",
    "    plt.show()\n",
    "else:\n",
    "    display(f\"Модель {best_model_name} не поддерживает атрибут feature_importances_.\")\n",
    "\n",
    "# Создание таблицы с названиями моделей и их показателями F1-меры\n",
    "f1_table = pd.DataFrame([\n",
    "    {\n",
    "        'Модель': name,\n",
    "        'F1-мера': result['test_f1']\n",
    "    }\n",
    "    for name, result in results.items()\n",
    "]).sort_values(by='F1-мера', ascending=False)\n",
    "\n",
    "# Отображение таблицы\n",
    "display(f1_table.to_string(index=False))\n",
    "\n",
    "# Финальная проверка на тестовой выборке с классификационными метриками\n",
    "display(f\"Лучшая модель по кросс-валидации: {best_model_name}\")\n",
    "display(f\"F1-Score на тестовой выборке: {results[best_model_name]['test_f1']:.2f}\")\n",
    "display(f\"Accuracy на тестовой выборке: {results[best_model_name]['test_accuracy']:.2f}\")\n",
    "display(f\"Precision на тестовой выборке: {results[best_model_name]['test_precision']:.2f}\")\n",
    "display(f\"Recall на тестовой выборке: {results[best_model_name]['test_recall']:.2f}\")\n",
    "display(f\"ROC-AUC на тестовой выборке: {results[best_model_name]['test_roc_auc']:.2f}\")\n",
    "\n",
    "# Проверка условия задачи (например: F1 >= 0.75)\n",
    "required_f1 = 0.75\n",
    "if results[best_model_name]['test_f1'] >= required_f1:\n",
    "    display(f\"F1 на тестовой выборке >= {required_f1}. Задание выполнено.\")\n",
    "else:\n",
    "    display(f\"F1 на тестовой выборке < {required_f1}. Требуется улучшить модель.\")\n",
    "\n",
    "# Дополнительные визуализации (для классификации)\n",
    "# Предсказания для лучшей модели\n",
    "y_pred_best = best_pipeline.predict(X_test)  # Получаем предсказания (не вероятности)\n",
    "y_proba_best = best_pipeline.predict_proba(X_test)[:, 1]  # Предсказанные вероятности для класса 1 (токсичные)\n",
    "\n",
    "# Распределение предсказанных вероятностей\n",
    "plt.figure(figsize=(10, 6))\n",
    "sns.histplot(y_proba_best[y_test == 1], color='red', label='Токсичные', kde=True, stat=\"density\", linewidth=0)\n",
    "sns.histplot(y_proba_best[y_test == 0], color='blue', label='Нетоксичные', kde=True, stat=\"density\", linewidth=0)\n",
    "plt.xlabel('Предсказанная вероятность токсичности', fontsize=14)\n",
    "plt.ylabel('Плотность', fontsize=14)\n",
    "plt.title(f'Распределение предсказанных вероятностей для модели {best_model_name}', fontsize=16)\n",
    "plt.legend(fontsize=12)\n",
    "plt.tight_layout()\n",
    "plt.show()\n",
    "\n"
   ]
  },
  {
   "cell_type": "code",
   "execution_count": 14,
   "metadata": {},
   "outputs": [
    {
     "data": {
      "image/png": "[encoded data removed]",
      "text/plain": [
       "<Figure size 864x432 with 1 Axes>"
      ]
     },
     "metadata": {
      "needs_background": "light"
     },
     "output_type": "display_data"
    },
    {
     "data": {
      "text/plain": [
       "'Таблица ошибок предсказания для модели Logistic Regression:'"
      ]
     },
     "metadata": {},
     "output_type": "display_data"
    },
    {
     "data": {
      "text/html": [
       "<div>\n",
       "<style scoped>\n",
       "    .dataframe tbody tr th:only-of-type {\n",
       "        vertical-align: middle;\n",
       "    }\n",
       "\n",
       "    .dataframe tbody tr th {\n",
       "        vertical-align: top;\n",
       "    }\n",
       "\n",
       "    .dataframe thead th {\n",
       "        text-align: right;\n",
       "    }\n",
       "</style>\n",
       "<table border=\"1\" class=\"dataframe\">\n",
       "  <thead>\n",
       "    <tr style=\"text-align: right;\">\n",
       "      <th></th>\n",
       "      <th>Количество</th>\n",
       "      <th>Доля от всех ошибок (%)</th>\n",
       "    </tr>\n",
       "  </thead>\n",
       "  <tbody>\n",
       "    <tr>\n",
       "      <th>False Positive</th>\n",
       "      <td>614</td>\n",
       "      <td>3.854363</td>\n",
       "    </tr>\n",
       "    <tr>\n",
       "      <th>Correct</th>\n",
       "      <td>15052</td>\n",
       "      <td>94.488387</td>\n",
       "    </tr>\n",
       "    <tr>\n",
       "      <th>False Negative</th>\n",
       "      <td>264</td>\n",
       "      <td>1.657250</td>\n",
       "    </tr>\n",
       "  </tbody>\n",
       "</table>\n",
       "</div>"
      ],
      "text/plain": [
       "                Количество  Доля от всех ошибок (%)\n",
       "False Positive         614                 3.854363\n",
       "Correct              15052                94.488387\n",
       "False Negative         264                 1.657250"
      ]
     },
     "metadata": {},
     "output_type": "display_data"
    }
   ],
   "source": [
    "# Ошибки предсказания\n",
    "errors = y_test - y_pred_best\n",
    "\n",
    "plt.figure(figsize=(12, 6))\n",
    "sns.countplot(x=errors, palette=['green', 'red'])\n",
    "plt.xlabel('Ошибка предсказания (Реальное - Предсказанное)', fontsize=14)\n",
    "plt.ylabel('Количество', fontsize=14)\n",
    "plt.title(f'Ошибки предсказания для модели {best_model_name}', fontsize=16)\n",
    "plt.xticks(ticks=[-1, 0, 1], labels=['False Positive', 'Correct', 'False Negative'], fontsize=12)\n",
    "plt.tight_layout()\n",
    "plt.show()\n",
    "\n",
    "# Создание таблицы с количеством и долей ошибок предсказания\n",
    "error_counts = pd.Series(errors).value_counts()\n",
    "error_percentages = error_counts / len(errors) * 100\n",
    "\n",
    "error_table = pd.DataFrame({\n",
    "    'Количество': error_counts,\n",
    "    'Доля от всех ошибок (%)': error_percentages\n",
    "})\n",
    "\n",
    "error_table.index = ['Correct', 'False Positive', 'False Negative']\n",
    "error_table = error_table.reindex(['False Positive', 'Correct', 'False Negative'])\n",
    "\n",
    "display(f\"Таблица ошибок предсказания для модели {best_model_name}:\")\n",
    "display(error_table)"
   ]
  },
  {
   "cell_type": "markdown",
   "metadata": {},
   "source": [
    "## Выводы"
   ]
  },
  {
   "cell_type": "markdown",
   "metadata": {},
   "source": [
    "### Общий вывод по проекту\n",
    "\n",
    "В рамках данного проекта была разработана и протестирована модель машинного обучения для классификации комментариев на токсичные и нетоксичные. Модель призвана стать основой системы автоматической модерации в интернет-магазине \"Викишоп\", позволяющей выявлять и отправлять на проверку токсичные комментарии пользователей.\n",
    "\n",
    "#### Основные результаты:\n",
    "\n",
    "1. **Лучшая модель - Logistic Regression:** \n",
    "   - Логистическая регрессия показала наилучший результат по целевой метрике F1 (0.7553)\n",
    "   - Точность (precision) модели составила 0.6882, полнота (recall) - 0.8369 \n",
    "   - По метрике ROC-AUC Logistic Regression также превзошла остальные модели (0.9656)\n",
    "\n",
    "2. **Выполнение целевого критерия:** \n",
    "   - Требуемое значение F1 ≥ 0.75 было достигнуто моделей Logistic Regression на тестовой выборке\n",
    "   - Модели Random Forest и CatBoost показали несколько меньшие, но также высокие значения F1 (0.7473 и 0.7448 соответственно)\n",
    "\n",
    "3. **Обработка дисбаланса классов:**\n",
    "   - Исходные данные были сильно несбалансированы (89.84% нетоксичных, 10.16% токсичных комментариев)\n",
    "   - Для улучшения качества моделей применялись методы борьбы с дисбалансом:\n",
    "     - Применение RandomOverSampler для балансировки классов\n",
    "     - Оценка по F1, учитывающей баланс precision и recall\n",
    "\n",
    "4. **Подготовка данных:**\n",
    "   - Проведена предобработка текстов комментариев: очистка, лемматизация, удаление стоп-слов\n",
    "   - Для векторизации текстов использовался TF-IDF с настройкой количества признаков\n",
    "   - Данные разделены на обучающую и тестовую выборки в пропорции 90/10 c сохранением баланса классов \n",
    "\n",
    "5. **Выбор и настройка моделей:**\n",
    "   - Протестированы 3 модели: Logistic Regression, CatBoost и Random Forest\n",
    "   - Применен GridSearchCV для подбора оптимальных гиперпараметров\n",
    "   - Использована стратифицированная кросс-валидация для более надежной оценки качества\n",
    "\n",
    "6. **Анализ ошибок и вероятностей:**\n",
    "   - Доля корректных предсказаний (94.49%) значительно превосходит ложноположительные (3.85%) и ложноотрицательные (1.66%)\n",
    "   - Распределение предсказанных вероятностей показывает хорошее разделение между токсичным и нетоксичными комментариями\n",
    "\n",
    "#### Возможности дальнейшего развития:\n",
    "\n",
    "1. **Расширение набора моделей**, в том числе нейросетевых архитектур (LSTM, BERT)\n",
    "\n",
    "2. Дальнейшая **настройка гиперпараметров** для повышения качества лучшей модели\n",
    "\n",
    "3. **Увеличение объема данных** для обучения, в том числе сбор дополнительных примеров токсичных комментариев\n",
    "\n",
    "4. Учет **дополнительных признаков** - структуры и метаданных комментариев, информации о пользователях\n",
    "\n",
    "5. **Интерпретация прогнозов** - анализ наиболее важных слов, шаблонов токсичных комментариев\n",
    "\n",
    "#### Итоги:\n",
    "\n",
    "Разработанная модель Logistic Regression продемонстрировала высокое качество классификации токсичных комментариев (F1 = 0.7553) на тестовой выборке и может быть применена как основа системы автомодерации в \"Викишоп\". Дальнейшее развитие модели позволит еще больше повысить ее точность и полноту.\n",
    "\n",
    "Использование автоматической классификации токсичных сообщений позволит улучшить качество взаимодействия пользователей на платформе магазина, оградить их от оскорбительного контента и снизить нагрузку на команду модераторов. Это будет способствовать созданию более здоровой и дружелюбной среды."
   ]
  }
 ],
 "metadata": {
  "ExecuteTimeLog": [
   {
    "duration": 1952,
    "start_time": "2024-12-18T18:48:33.848Z"
   },
   {
    "duration": 3539,
    "start_time": "2024-12-18T18:48:48.831Z"
   },
   {
    "duration": 68,
    "start_time": "2024-12-18T18:49:00.803Z"
   },
   {
    "duration": 17867,
    "start_time": "2024-12-18T18:49:24.839Z"
   },
   {
    "duration": 122,
    "start_time": "2024-12-18T18:49:54.670Z"
   },
   {
    "duration": 132,
    "start_time": "2024-12-18T18:52:33.623Z"
   },
   {
    "duration": 10,
    "start_time": "2024-12-18T18:52:47.382Z"
   },
   {
    "duration": 2056,
    "start_time": "2024-12-18T19:01:44.754Z"
   },
   {
    "duration": 829,
    "start_time": "2024-12-18T19:01:46.812Z"
   },
   {
    "duration": 68,
    "start_time": "2024-12-18T19:01:47.642Z"
   },
   {
    "duration": 18060,
    "start_time": "2024-12-18T19:01:47.712Z"
   },
   {
    "duration": 129,
    "start_time": "2024-12-18T19:02:05.774Z"
   },
   {
    "duration": 71220,
    "start_time": "2024-12-18T19:02:05.905Z"
   },
   {
    "duration": 2893553,
    "start_time": "2024-12-18T19:03:17.127Z"
   },
   {
    "duration": 585790,
    "start_time": "2024-12-18T19:51:30.681Z"
   },
   {
    "duration": 625623,
    "start_time": "2024-12-18T20:01:16.474Z"
   },
   {
    "duration": 139,
    "start_time": "2024-12-18T20:11:42.100Z"
   },
   {
    "duration": 0,
    "start_time": "2024-12-18T20:11:42.241Z"
   },
   {
    "duration": 0,
    "start_time": "2024-12-18T20:11:42.242Z"
   },
   {
    "duration": 0,
    "start_time": "2024-12-18T20:11:42.247Z"
   },
   {
    "duration": 0,
    "start_time": "2024-12-18T20:11:42.248Z"
   },
   {
    "duration": 0,
    "start_time": "2024-12-18T20:11:42.249Z"
   },
   {
    "duration": 829,
    "start_time": "2024-12-18T20:13:54.317Z"
   },
   {
    "duration": 143,
    "start_time": "2024-12-18T20:14:08.647Z"
   },
   {
    "duration": 1811,
    "start_time": "2024-12-18T20:14:27.324Z"
   },
   {
    "duration": 895,
    "start_time": "2024-12-18T20:14:29.137Z"
   },
   {
    "duration": 82,
    "start_time": "2024-12-18T20:14:30.033Z"
   },
   {
    "duration": 18060,
    "start_time": "2024-12-18T20:14:30.117Z"
   },
   {
    "duration": 127,
    "start_time": "2024-12-18T20:14:48.179Z"
   },
   {
    "duration": 72390,
    "start_time": "2024-12-18T20:14:48.308Z"
   },
   {
    "duration": 2767887,
    "start_time": "2024-12-18T20:16:00.700Z"
   },
   {
    "duration": 573126,
    "start_time": "2024-12-18T21:02:08.588Z"
   },
   {
    "duration": 313949,
    "start_time": "2024-12-18T21:11:41.716Z"
   },
   {
    "duration": 967,
    "start_time": "2024-12-18T21:16:55.667Z"
   },
   {
    "duration": 0,
    "start_time": "2024-12-18T21:16:56.635Z"
   },
   {
    "duration": 1823,
    "start_time": "2024-12-18T21:49:36.359Z"
   },
   {
    "duration": 856,
    "start_time": "2024-12-18T21:49:38.184Z"
   },
   {
    "duration": 82,
    "start_time": "2024-12-18T21:49:39.044Z"
   },
   {
    "duration": 18021,
    "start_time": "2024-12-18T21:49:39.127Z"
   },
   {
    "duration": 138,
    "start_time": "2024-12-18T21:49:57.150Z"
   },
   {
    "duration": 71621,
    "start_time": "2024-12-18T21:49:57.289Z"
   },
   {
    "duration": 2887179,
    "start_time": "2024-12-18T21:51:08.912Z"
   },
   {
    "duration": 594815,
    "start_time": "2024-12-18T22:39:16.092Z"
   },
   {
    "duration": 296058,
    "start_time": "2024-12-18T22:49:10.909Z"
   },
   {
    "duration": 846,
    "start_time": "2024-12-18T22:54:06.969Z"
   },
   {
    "duration": 236,
    "start_time": "2024-12-18T22:54:07.816Z"
   },
   {
    "duration": 2137,
    "start_time": "2024-12-19T14:34:08.746Z"
   },
   {
    "duration": 3884,
    "start_time": "2024-12-19T14:34:10.886Z"
   },
   {
    "duration": 67,
    "start_time": "2024-12-19T14:34:14.772Z"
   },
   {
    "duration": 17987,
    "start_time": "2024-12-19T14:34:14.841Z"
   },
   {
    "duration": 125,
    "start_time": "2024-12-19T14:34:32.831Z"
   },
   {
    "duration": 349,
    "start_time": "2024-12-19T14:34:32.957Z"
   },
   {
    "duration": 83546,
    "start_time": "2024-12-19T14:34:33.307Z"
   },
   {
    "duration": 1909,
    "start_time": "2024-12-19T14:57:19.742Z"
   },
   {
    "duration": 933,
    "start_time": "2024-12-19T14:57:21.652Z"
   },
   {
    "duration": 120,
    "start_time": "2024-12-19T14:57:22.587Z"
   },
   {
    "duration": 20232,
    "start_time": "2024-12-19T14:57:22.708Z"
   },
   {
    "duration": 357,
    "start_time": "2024-12-19T14:57:42.942Z"
   },
   {
    "duration": 28511,
    "start_time": "2024-12-19T14:57:43.300Z"
   },
   {
    "duration": 2061,
    "start_time": "2024-12-19T15:15:34.874Z"
   },
   {
    "duration": 1006,
    "start_time": "2024-12-19T15:15:36.937Z"
   },
   {
    "duration": 135,
    "start_time": "2024-12-19T15:15:37.944Z"
   },
   {
    "duration": 21696,
    "start_time": "2024-12-19T15:15:38.084Z"
   },
   {
    "duration": 333,
    "start_time": "2024-12-19T15:15:59.781Z"
   },
   {
    "duration": 31051,
    "start_time": "2024-12-19T15:16:00.117Z"
   },
   {
    "duration": 1823,
    "start_time": "2024-12-19T15:30:52.194Z"
   },
   {
    "duration": 890,
    "start_time": "2024-12-19T15:30:54.019Z"
   },
   {
    "duration": 100,
    "start_time": "2024-12-19T15:30:54.910Z"
   },
   {
    "duration": 19464,
    "start_time": "2024-12-19T15:30:55.012Z"
   },
   {
    "duration": 328,
    "start_time": "2024-12-19T15:31:14.477Z"
   },
   {
    "duration": 26616,
    "start_time": "2024-12-19T15:31:14.806Z"
   },
   {
    "duration": 2077,
    "start_time": "2024-12-19T15:56:29.876Z"
   },
   {
    "duration": 1053,
    "start_time": "2024-12-19T15:56:31.955Z"
   },
   {
    "duration": 130,
    "start_time": "2024-12-19T15:56:33.010Z"
   },
   {
    "duration": 21597,
    "start_time": "2024-12-19T15:56:33.142Z"
   },
   {
    "duration": 278,
    "start_time": "2024-12-19T15:56:54.741Z"
   },
   {
    "duration": 28662,
    "start_time": "2024-12-19T15:56:55.020Z"
   },
   {
    "duration": 1891,
    "start_time": "2024-12-19T16:06:57.000Z"
   },
   {
    "duration": 977,
    "start_time": "2024-12-19T16:06:58.893Z"
   },
   {
    "duration": 117,
    "start_time": "2024-12-19T16:06:59.871Z"
   },
   {
    "duration": 21283,
    "start_time": "2024-12-19T16:06:59.990Z"
   },
   {
    "duration": 369,
    "start_time": "2024-12-19T16:07:21.275Z"
   },
   {
    "duration": 28988,
    "start_time": "2024-12-19T16:07:21.646Z"
   },
   {
    "duration": 1803,
    "start_time": "2024-12-19T16:23:17.767Z"
   },
   {
    "duration": 871,
    "start_time": "2024-12-19T16:23:19.571Z"
   },
   {
    "duration": 82,
    "start_time": "2024-12-19T16:23:20.443Z"
   },
   {
    "duration": 18771,
    "start_time": "2024-12-19T16:23:20.526Z"
   },
   {
    "duration": 308,
    "start_time": "2024-12-19T16:23:39.299Z"
   },
   {
    "duration": 25080,
    "start_time": "2024-12-19T16:23:39.608Z"
   },
   {
    "duration": 2448,
    "start_time": "2024-12-19T16:41:26.796Z"
   },
   {
    "duration": 878,
    "start_time": "2024-12-19T16:41:29.247Z"
   },
   {
    "duration": 107,
    "start_time": "2024-12-19T16:41:30.127Z"
   },
   {
    "duration": 18822,
    "start_time": "2024-12-19T16:41:30.257Z"
   },
   {
    "duration": 296,
    "start_time": "2024-12-19T16:41:49.080Z"
   },
   {
    "duration": 25780,
    "start_time": "2024-12-19T16:41:49.378Z"
   },
   {
    "duration": 1712,
    "start_time": "2024-12-19T16:49:58.240Z"
   },
   {
    "duration": 871,
    "start_time": "2024-12-19T16:49:59.954Z"
   },
   {
    "duration": 100,
    "start_time": "2024-12-19T16:50:00.826Z"
   },
   {
    "duration": 19036,
    "start_time": "2024-12-19T16:50:00.928Z"
   },
   {
    "duration": 326,
    "start_time": "2024-12-19T16:50:19.966Z"
   },
   {
    "duration": 25634,
    "start_time": "2024-12-19T16:50:20.293Z"
   },
   {
    "duration": 1924,
    "start_time": "2024-12-19T17:24:56.161Z"
   },
   {
    "duration": 861,
    "start_time": "2024-12-19T17:24:58.087Z"
   },
   {
    "duration": 79,
    "start_time": "2024-12-19T17:24:58.960Z"
   },
   {
    "duration": 18321,
    "start_time": "2024-12-19T17:24:59.040Z"
   },
   {
    "duration": 25845,
    "start_time": "2024-12-19T17:25:17.671Z"
   },
   {
    "duration": 1801,
    "start_time": "2024-12-19T17:28:29.750Z"
   },
   {
    "duration": 859,
    "start_time": "2024-12-19T17:28:31.553Z"
   },
   {
    "duration": 82,
    "start_time": "2024-12-19T17:28:32.413Z"
   },
   {
    "duration": 18173,
    "start_time": "2024-12-19T17:28:32.498Z"
   },
   {
    "duration": 293,
    "start_time": "2024-12-19T17:28:50.673Z"
   },
   {
    "duration": 25173,
    "start_time": "2024-12-19T17:28:50.968Z"
   },
   {
    "duration": 1911,
    "start_time": "2024-12-19T17:30:02.061Z"
   },
   {
    "duration": 899,
    "start_time": "2024-12-19T17:30:03.975Z"
   },
   {
    "duration": 108,
    "start_time": "2024-12-19T17:30:04.876Z"
   },
   {
    "duration": 18738,
    "start_time": "2024-12-19T17:30:04.986Z"
   },
   {
    "duration": 314,
    "start_time": "2024-12-19T17:30:23.725Z"
   },
   {
    "duration": 25069,
    "start_time": "2024-12-19T17:30:24.040Z"
   },
   {
    "duration": 2068,
    "start_time": "2024-12-19T18:17:20.700Z"
   },
   {
    "duration": 933,
    "start_time": "2024-12-19T18:17:22.769Z"
   },
   {
    "duration": 102,
    "start_time": "2024-12-19T18:17:23.704Z"
   },
   {
    "duration": 19529,
    "start_time": "2024-12-19T18:17:23.807Z"
   },
   {
    "duration": 292,
    "start_time": "2024-12-19T18:17:43.337Z"
   },
   {
    "duration": 26861,
    "start_time": "2024-12-19T18:17:43.631Z"
   },
   {
    "duration": 1890,
    "start_time": "2024-12-19T19:40:54.628Z"
   },
   {
    "duration": 847,
    "start_time": "2024-12-19T19:40:56.519Z"
   },
   {
    "duration": 99,
    "start_time": "2024-12-19T19:40:57.367Z"
   },
   {
    "duration": 18305,
    "start_time": "2024-12-19T19:40:57.467Z"
   },
   {
    "duration": 326,
    "start_time": "2024-12-19T19:41:15.774Z"
   },
   {
    "duration": 25687,
    "start_time": "2024-12-19T19:41:16.101Z"
   },
   {
    "duration": 1896,
    "start_time": "2024-12-20T09:23:06.329Z"
   },
   {
    "duration": 789,
    "start_time": "2024-12-20T09:23:08.227Z"
   },
   {
    "duration": 73,
    "start_time": "2024-12-20T09:23:09.017Z"
   },
   {
    "duration": 17270,
    "start_time": "2024-12-20T09:23:09.091Z"
   },
   {
    "duration": 267,
    "start_time": "2024-12-20T09:23:26.363Z"
   },
   {
    "duration": 24143,
    "start_time": "2024-12-20T09:23:26.631Z"
   },
   {
    "duration": 1880,
    "start_time": "2024-12-20T09:50:17.432Z"
   },
   {
    "duration": 860,
    "start_time": "2024-12-20T09:50:19.313Z"
   },
   {
    "duration": 103,
    "start_time": "2024-12-20T09:50:20.175Z"
   },
   {
    "duration": 18390,
    "start_time": "2024-12-20T09:50:20.280Z"
   },
   {
    "duration": 295,
    "start_time": "2024-12-20T09:50:38.672Z"
   },
   {
    "duration": 145,
    "start_time": "2024-12-20T09:50:38.969Z"
   },
   {
    "duration": 0,
    "start_time": "2024-12-20T09:50:39.116Z"
   },
   {
    "duration": 1846,
    "start_time": "2024-12-20T09:56:50.907Z"
   },
   {
    "duration": 819,
    "start_time": "2024-12-20T09:56:52.754Z"
   },
   {
    "duration": 84,
    "start_time": "2024-12-20T09:56:53.574Z"
   },
   {
    "duration": 17672,
    "start_time": "2024-12-20T09:56:53.660Z"
   },
   {
    "duration": 287,
    "start_time": "2024-12-20T09:57:11.333Z"
   },
   {
    "duration": 24533,
    "start_time": "2024-12-20T09:57:11.621Z"
   },
   {
    "duration": 150,
    "start_time": "2024-12-20T09:57:36.156Z"
   },
   {
    "duration": 0,
    "start_time": "2024-12-20T09:57:36.308Z"
   },
   {
    "duration": 1898,
    "start_time": "2024-12-20T10:14:14.328Z"
   },
   {
    "duration": 819,
    "start_time": "2024-12-20T10:14:16.227Z"
   },
   {
    "duration": 75,
    "start_time": "2024-12-20T10:14:17.048Z"
   },
   {
    "duration": 17659,
    "start_time": "2024-12-20T10:14:17.125Z"
   },
   {
    "duration": 318,
    "start_time": "2024-12-20T10:14:34.786Z"
   },
   {
    "duration": 23660,
    "start_time": "2024-12-20T10:14:35.106Z"
   },
   {
    "duration": 1951,
    "start_time": "2024-12-20T10:29:04.214Z"
   },
   {
    "duration": 821,
    "start_time": "2024-12-20T10:29:06.166Z"
   },
   {
    "duration": 90,
    "start_time": "2024-12-20T10:29:06.989Z"
   },
   {
    "duration": 17375,
    "start_time": "2024-12-20T10:29:07.080Z"
   },
   {
    "duration": 275,
    "start_time": "2024-12-20T10:29:24.456Z"
   },
   {
    "duration": 1811,
    "start_time": "2024-12-20T10:59:42.178Z"
   },
   {
    "duration": 846,
    "start_time": "2024-12-20T10:59:43.991Z"
   },
   {
    "duration": 87,
    "start_time": "2024-12-20T10:59:44.838Z"
   },
   {
    "duration": 18160,
    "start_time": "2024-12-20T10:59:44.926Z"
   },
   {
    "duration": 324,
    "start_time": "2024-12-20T11:00:03.089Z"
   },
   {
    "duration": 1857,
    "start_time": "2024-12-20T11:13:39.715Z"
   },
   {
    "duration": 860,
    "start_time": "2024-12-20T11:13:41.573Z"
   },
   {
    "duration": 91,
    "start_time": "2024-12-20T11:13:42.435Z"
   },
   {
    "duration": 18128,
    "start_time": "2024-12-20T11:13:42.528Z"
   },
   {
    "duration": 270,
    "start_time": "2024-12-20T11:14:00.666Z"
   },
   {
    "duration": 1872,
    "start_time": "2024-12-20T11:23:10.865Z"
   },
   {
    "duration": 840,
    "start_time": "2024-12-20T11:23:12.738Z"
   },
   {
    "duration": 91,
    "start_time": "2024-12-20T11:23:13.579Z"
   },
   {
    "duration": 18088,
    "start_time": "2024-12-20T11:23:13.671Z"
   },
   {
    "duration": 260,
    "start_time": "2024-12-20T11:23:31.765Z"
   },
   {
    "duration": 2762364,
    "start_time": "2024-12-20T11:23:32.026Z"
   },
   {
    "duration": 24001,
    "start_time": "2024-12-20T12:09:34.392Z"
   },
   {
    "duration": 1622906,
    "start_time": "2024-12-20T12:09:58.395Z"
   },
   {
    "duration": 0,
    "start_time": "2024-12-20T12:37:01.304Z"
   },
   {
    "duration": 19,
    "start_time": "2024-12-20T17:24:47.692Z"
   },
   {
    "duration": 16,
    "start_time": "2024-12-20T17:25:12.781Z"
   },
   {
    "duration": 17,
    "start_time": "2024-12-20T17:25:34.707Z"
   },
   {
    "duration": 1834,
    "start_time": "2024-12-20T18:56:21.833Z"
   },
   {
    "duration": 852,
    "start_time": "2024-12-20T18:56:23.669Z"
   },
   {
    "duration": 80,
    "start_time": "2024-12-20T18:56:24.522Z"
   },
   {
    "duration": 17450,
    "start_time": "2024-12-20T18:56:24.603Z"
   },
   {
    "duration": 271,
    "start_time": "2024-12-20T18:56:42.055Z"
   },
   {
    "duration": 1776,
    "start_time": "2024-12-20T19:36:35.474Z"
   },
   {
    "duration": 809,
    "start_time": "2024-12-20T19:36:37.252Z"
   },
   {
    "duration": 67,
    "start_time": "2024-12-20T19:36:38.063Z"
   },
   {
    "duration": 49925,
    "start_time": "2024-12-20T19:36:38.132Z"
   },
   {
    "duration": 137,
    "start_time": "2024-12-20T19:37:28.059Z"
   },
   {
    "duration": 0,
    "start_time": "2024-12-20T19:37:28.198Z"
   },
   {
    "duration": 0,
    "start_time": "2024-12-20T19:37:28.199Z"
   },
   {
    "duration": 0,
    "start_time": "2024-12-20T19:37:28.201Z"
   },
   {
    "duration": 0,
    "start_time": "2024-12-20T19:37:28.202Z"
   },
   {
    "duration": 0,
    "start_time": "2024-12-20T19:37:28.204Z"
   },
   {
    "duration": 0,
    "start_time": "2024-12-20T19:37:28.205Z"
   },
   {
    "duration": 27,
    "start_time": "2024-12-20T19:44:03.945Z"
   },
   {
    "duration": 10954,
    "start_time": "2024-12-20T19:44:53.241Z"
   },
   {
    "duration": 28,
    "start_time": "2024-12-20T19:45:04.197Z"
   },
   {
    "duration": 5708,
    "start_time": "2024-12-20T19:46:13.481Z"
   },
   {
    "duration": 3410,
    "start_time": "2024-12-20T19:46:19.191Z"
   },
   {
    "duration": 821,
    "start_time": "2024-12-20T19:46:22.603Z"
   },
   {
    "duration": 92,
    "start_time": "2024-12-20T19:46:23.426Z"
   },
   {
    "duration": 49687,
    "start_time": "2024-12-20T19:46:23.519Z"
   },
   {
    "duration": 15818,
    "start_time": "2024-12-20T19:47:13.207Z"
   },
   {
    "duration": 1895810,
    "start_time": "2024-12-20T19:47:29.027Z"
   },
   {
    "duration": 0,
    "start_time": "2024-12-20T20:19:04.838Z"
   },
   {
    "duration": 0,
    "start_time": "2024-12-20T20:19:04.839Z"
   },
   {
    "duration": 0,
    "start_time": "2024-12-20T20:19:04.841Z"
   },
   {
    "duration": 0,
    "start_time": "2024-12-20T20:19:04.842Z"
   },
   {
    "duration": 7580,
    "start_time": "2024-12-20T20:27:28.619Z"
   },
   {
    "duration": 1765,
    "start_time": "2024-12-20T20:27:36.202Z"
   },
   {
    "duration": 832,
    "start_time": "2024-12-20T20:27:37.971Z"
   },
   {
    "duration": 97,
    "start_time": "2024-12-20T20:27:38.804Z"
   },
   {
    "duration": 52145,
    "start_time": "2024-12-20T20:27:38.902Z"
   },
   {
    "duration": 16574,
    "start_time": "2024-12-20T20:28:31.049Z"
   },
   {
    "duration": 7765,
    "start_time": "2024-12-20T21:15:12.301Z"
   },
   {
    "duration": 2428,
    "start_time": "2024-12-20T21:15:20.069Z"
   },
   {
    "duration": 849,
    "start_time": "2024-12-20T21:15:22.498Z"
   },
   {
    "duration": 81,
    "start_time": "2024-12-20T21:15:23.349Z"
   },
   {
    "duration": 50506,
    "start_time": "2024-12-20T21:15:23.453Z"
   },
   {
    "duration": 15969,
    "start_time": "2024-12-20T21:16:13.961Z"
   },
   {
    "duration": 7557,
    "start_time": "2024-12-21T08:17:48.758Z"
   },
   {
    "duration": 2391,
    "start_time": "2024-12-21T08:17:56.317Z"
   },
   {
    "duration": 3483,
    "start_time": "2024-12-21T08:17:58.709Z"
   },
   {
    "duration": 74,
    "start_time": "2024-12-21T08:18:02.194Z"
   },
   {
    "duration": 50318,
    "start_time": "2024-12-21T08:18:02.269Z"
   },
   {
    "duration": 16135,
    "start_time": "2024-12-21T08:18:52.589Z"
   },
   {
    "duration": 7615,
    "start_time": "2024-12-21T11:54:24.010Z"
   },
   {
    "duration": 1822,
    "start_time": "2024-12-21T11:54:31.628Z"
   },
   {
    "duration": 851,
    "start_time": "2024-12-21T11:54:33.451Z"
   },
   {
    "duration": 97,
    "start_time": "2024-12-21T11:54:34.305Z"
   },
   {
    "duration": 50933,
    "start_time": "2024-12-21T11:54:34.403Z"
   },
   {
    "duration": 7604,
    "start_time": "2024-12-21T11:55:34.104Z"
   },
   {
    "duration": 1744,
    "start_time": "2024-12-21T11:55:41.710Z"
   },
   {
    "duration": 841,
    "start_time": "2024-12-21T11:55:43.455Z"
   },
   {
    "duration": 88,
    "start_time": "2024-12-21T11:55:44.298Z"
   },
   {
    "duration": 51327,
    "start_time": "2024-12-21T11:55:44.387Z"
   },
   {
    "duration": 16409,
    "start_time": "2024-12-21T11:56:35.715Z"
   },
   {
    "duration": 7698,
    "start_time": "2024-12-21T15:32:12.699Z"
   },
   {
    "duration": 13595,
    "start_time": "2024-12-21T15:32:20.399Z"
   },
   {
    "duration": 859,
    "start_time": "2024-12-21T15:32:33.995Z"
   },
   {
    "duration": 97,
    "start_time": "2024-12-21T15:32:34.856Z"
   },
   {
    "duration": 50643,
    "start_time": "2024-12-21T15:32:34.955Z"
   },
   {
    "duration": 16201,
    "start_time": "2024-12-21T15:33:25.600Z"
   },
   {
    "duration": 7746,
    "start_time": "2024-12-21T15:35:00.401Z"
   },
   {
    "duration": 3347,
    "start_time": "2024-12-21T15:35:08.149Z"
   },
   {
    "duration": 3523,
    "start_time": "2024-12-21T15:35:11.497Z"
   },
   {
    "duration": 81,
    "start_time": "2024-12-21T15:35:15.022Z"
   },
   {
    "duration": 50780,
    "start_time": "2024-12-21T15:35:15.104Z"
   },
   {
    "duration": 16543,
    "start_time": "2024-12-21T15:36:05.885Z"
   },
   {
    "duration": 7665,
    "start_time": "2024-12-21T16:22:42.653Z"
   },
   {
    "duration": 2422,
    "start_time": "2024-12-21T16:22:50.320Z"
   },
   {
    "duration": 3516,
    "start_time": "2024-12-21T16:22:52.744Z"
   },
   {
    "duration": 70,
    "start_time": "2024-12-21T16:22:56.262Z"
   },
   {
    "duration": 51255,
    "start_time": "2024-12-21T16:22:56.334Z"
   },
   {
    "duration": 16028,
    "start_time": "2024-12-21T16:23:47.591Z"
   },
   {
    "duration": 30029,
    "start_time": "2024-12-22T13:19:52.951Z"
   },
   {
    "duration": 1947,
    "start_time": "2024-12-22T13:20:22.982Z"
   },
   {
    "duration": 3649,
    "start_time": "2024-12-22T13:20:24.931Z"
   },
   {
    "duration": 75,
    "start_time": "2024-12-22T13:20:28.582Z"
   },
   {
    "duration": 50282,
    "start_time": "2024-12-22T13:20:28.658Z"
   },
   {
    "duration": 15050,
    "start_time": "2024-12-22T13:21:18.941Z"
   },
   {
    "duration": 9334,
    "start_time": "2024-12-22T13:24:12.768Z"
   },
   {
    "duration": 2152,
    "start_time": "2024-12-22T13:24:22.105Z"
   },
   {
    "duration": 827,
    "start_time": "2024-12-22T13:24:24.259Z"
   },
   {
    "duration": 82,
    "start_time": "2024-12-22T13:24:25.087Z"
   },
   {
    "duration": 50884,
    "start_time": "2024-12-22T13:24:25.170Z"
   },
   {
    "duration": 14857,
    "start_time": "2024-12-22T13:25:16.055Z"
   },
   {
    "duration": 4892,
    "start_time": "2024-12-22T13:57:54.703Z"
   },
   {
    "duration": 3650,
    "start_time": "2024-12-22T13:57:59.597Z"
   },
   {
    "duration": 3689,
    "start_time": "2024-12-22T13:58:03.249Z"
   },
   {
    "duration": 80,
    "start_time": "2024-12-22T13:58:06.940Z"
   },
   {
    "duration": 51280,
    "start_time": "2024-12-22T13:58:07.021Z"
   },
   {
    "duration": 15204,
    "start_time": "2024-12-22T13:58:58.303Z"
   },
   {
    "duration": 6352,
    "start_time": "2024-12-22T14:00:47.431Z"
   },
   {
    "duration": 6929,
    "start_time": "2024-12-22T14:00:53.785Z"
   },
   {
    "duration": 797,
    "start_time": "2024-12-22T14:01:00.715Z"
   },
   {
    "duration": 89,
    "start_time": "2024-12-22T14:01:01.514Z"
   },
   {
    "duration": 51026,
    "start_time": "2024-12-22T14:01:01.605Z"
   },
   {
    "duration": 15221,
    "start_time": "2024-12-22T14:01:52.633Z"
   },
   {
    "duration": 895853,
    "start_time": "2024-12-22T14:02:07.856Z"
   },
   {
    "duration": 4668,
    "start_time": "2024-12-22T14:18:07.656Z"
   },
   {
    "duration": 1821,
    "start_time": "2024-12-22T14:18:12.327Z"
   },
   {
    "duration": 835,
    "start_time": "2024-12-22T14:18:14.150Z"
   },
   {
    "duration": 81,
    "start_time": "2024-12-22T14:18:14.986Z"
   },
   {
    "duration": 51684,
    "start_time": "2024-12-22T14:18:15.069Z"
   },
   {
    "duration": 15323,
    "start_time": "2024-12-22T14:19:06.754Z"
   },
   {
    "duration": 876096,
    "start_time": "2024-12-22T14:19:22.079Z"
   },
   {
    "duration": 6526,
    "start_time": "2024-12-22T16:42:39.122Z"
   },
   {
    "duration": 1802,
    "start_time": "2024-12-22T16:42:45.650Z"
   },
   {
    "duration": 831,
    "start_time": "2024-12-22T16:42:47.453Z"
   },
   {
    "duration": 83,
    "start_time": "2024-12-22T16:42:48.286Z"
   },
   {
    "duration": 51842,
    "start_time": "2024-12-22T16:42:48.370Z"
   },
   {
    "duration": 15291,
    "start_time": "2024-12-22T16:43:40.214Z"
   },
   {
    "duration": 32852,
    "start_time": "2024-12-22T22:08:00.829Z"
   },
   {
    "duration": 2304,
    "start_time": "2024-12-22T22:08:33.683Z"
   },
   {
    "duration": 1452,
    "start_time": "2024-12-22T22:08:35.989Z"
   },
   {
    "duration": 115,
    "start_time": "2024-12-22T22:08:37.443Z"
   },
   {
    "duration": 62356,
    "start_time": "2024-12-22T22:08:37.559Z"
   },
   {
    "duration": 17713,
    "start_time": "2024-12-22T22:09:39.917Z"
   },
   {
    "duration": 11144898,
    "start_time": "2024-12-22T22:09:57.633Z"
   },
   {
    "duration": 323,
    "start_time": "2024-12-23T01:15:42.533Z"
   },
   {
    "duration": 1613,
    "start_time": "2024-12-23T01:15:42.858Z"
   },
   {
    "duration": 30457,
    "start_time": "2024-12-24T16:59:58.535Z"
   },
   {
    "duration": 1960,
    "start_time": "2024-12-24T17:00:28.995Z"
   },
   {
    "duration": 3701,
    "start_time": "2024-12-24T17:00:30.956Z"
   },
   {
    "duration": 76,
    "start_time": "2024-12-24T17:00:34.659Z"
   },
   {
    "duration": 539,
    "start_time": "2024-12-24T17:00:34.737Z"
   },
   {
    "duration": 0,
    "start_time": "2024-12-24T17:00:35.278Z"
   },
   {
    "duration": 0,
    "start_time": "2024-12-24T17:00:35.280Z"
   },
   {
    "duration": 0,
    "start_time": "2024-12-24T17:00:35.281Z"
   },
   {
    "duration": 0,
    "start_time": "2024-12-24T17:00:35.283Z"
   },
   {
    "duration": 4458,
    "start_time": "2024-12-24T17:12:11.051Z"
   },
   {
    "duration": 1749,
    "start_time": "2024-12-24T17:12:15.511Z"
   },
   {
    "duration": 840,
    "start_time": "2024-12-24T17:12:17.261Z"
   },
   {
    "duration": 87,
    "start_time": "2024-12-24T17:12:18.103Z"
   },
   {
    "duration": 1121748,
    "start_time": "2024-12-24T17:12:18.191Z"
   },
   {
    "duration": 10479,
    "start_time": "2024-12-24T17:30:59.952Z"
   },
   {
    "duration": 136759,
    "start_time": "2024-12-25T16:41:03.428Z"
   },
   {
    "duration": 2252,
    "start_time": "2024-12-25T16:43:20.189Z"
   },
   {
    "duration": 0,
    "start_time": "2024-12-25T16:43:22.444Z"
   },
   {
    "duration": 1,
    "start_time": "2024-12-25T16:43:22.445Z"
   },
   {
    "duration": 0,
    "start_time": "2024-12-25T16:43:22.446Z"
   },
   {
    "duration": 0,
    "start_time": "2024-12-25T16:43:22.448Z"
   },
   {
    "duration": 0,
    "start_time": "2024-12-25T16:43:22.449Z"
   },
   {
    "duration": 0,
    "start_time": "2024-12-25T16:43:22.450Z"
   },
   {
    "duration": 0,
    "start_time": "2024-12-25T16:43:22.451Z"
   },
   {
    "duration": 0,
    "start_time": "2024-12-25T16:43:22.452Z"
   },
   {
    "duration": 0,
    "start_time": "2024-12-25T16:43:22.453Z"
   },
   {
    "duration": 35786,
    "start_time": "2024-12-25T16:46:35.268Z"
   },
   {
    "duration": 3788,
    "start_time": "2024-12-25T16:47:11.056Z"
   },
   {
    "duration": 1381,
    "start_time": "2024-12-25T16:47:14.845Z"
   },
   {
    "duration": 73,
    "start_time": "2024-12-25T16:47:16.228Z"
   },
   {
    "duration": 50,
    "start_time": "2024-12-25T16:47:16.303Z"
   },
   {
    "duration": 58,
    "start_time": "2024-12-25T16:47:16.355Z"
   },
   {
    "duration": 1191,
    "start_time": "2024-12-25T16:47:16.414Z"
   },
   {
    "duration": 0,
    "start_time": "2024-12-25T16:47:17.607Z"
   },
   {
    "duration": 0,
    "start_time": "2024-12-25T16:47:17.608Z"
   },
   {
    "duration": 0,
    "start_time": "2024-12-25T16:47:17.609Z"
   },
   {
    "duration": 0,
    "start_time": "2024-12-25T16:47:17.611Z"
   },
   {
    "duration": 7189,
    "start_time": "2024-12-25T16:51:20.447Z"
   },
   {
    "duration": 4185,
    "start_time": "2024-12-25T16:51:27.639Z"
   },
   {
    "duration": 958,
    "start_time": "2024-12-25T16:51:31.826Z"
   },
   {
    "duration": 82,
    "start_time": "2024-12-25T16:51:32.786Z"
   },
   {
    "duration": 34,
    "start_time": "2024-12-25T16:51:32.870Z"
   },
   {
    "duration": 46,
    "start_time": "2024-12-25T16:51:32.905Z"
   },
   {
    "duration": 1334036,
    "start_time": "2024-12-25T16:51:32.953Z"
   },
   {
    "duration": 13458,
    "start_time": "2024-12-25T17:13:46.990Z"
   },
   {
    "duration": 7552,
    "start_time": "2024-12-25T17:26:46.522Z"
   },
   {
    "duration": 1978,
    "start_time": "2024-12-25T17:26:54.077Z"
   },
   {
    "duration": 990,
    "start_time": "2024-12-25T17:26:56.056Z"
   },
   {
    "duration": 62,
    "start_time": "2024-12-25T17:26:57.048Z"
   },
   {
    "duration": 52,
    "start_time": "2024-12-25T17:26:57.112Z"
   },
   {
    "duration": 77,
    "start_time": "2024-12-25T17:26:57.166Z"
   },
   {
    "duration": 1376236,
    "start_time": "2024-12-25T17:26:57.245Z"
   },
   {
    "duration": 14675,
    "start_time": "2024-12-25T17:49:53.483Z"
   },
   {
    "duration": 55,
    "start_time": "2024-12-25T17:50:08.160Z"
   },
   {
    "duration": 7322,
    "start_time": "2024-12-25T18:19:53.443Z"
   },
   {
    "duration": 2012,
    "start_time": "2024-12-25T18:20:00.768Z"
   },
   {
    "duration": 979,
    "start_time": "2024-12-25T18:20:02.784Z"
   },
   {
    "duration": 87,
    "start_time": "2024-12-25T18:20:03.765Z"
   },
   {
    "duration": 38,
    "start_time": "2024-12-25T18:20:03.853Z"
   },
   {
    "duration": 51,
    "start_time": "2024-12-25T18:20:03.892Z"
   },
   {
    "duration": 1363992,
    "start_time": "2024-12-25T18:20:03.945Z"
   },
   {
    "duration": 14779,
    "start_time": "2024-12-25T18:42:47.942Z"
   },
   {
    "duration": 66,
    "start_time": "2024-12-25T18:43:02.723Z"
   },
   {
    "duration": 258,
    "start_time": "2024-12-25T18:43:02.791Z"
   },
   {
    "duration": 0,
    "start_time": "2024-12-25T18:43:03.051Z"
   },
   {
    "duration": 0,
    "start_time": "2024-12-25T18:43:03.052Z"
   },
   {
    "duration": 40,
    "start_time": "2024-12-26T04:28:16.642Z"
   },
   {
    "duration": 60,
    "start_time": "2024-12-26T04:30:49.339Z"
   },
   {
    "duration": 6710,
    "start_time": "2024-12-26T04:31:05.011Z"
   },
   {
    "duration": 2003,
    "start_time": "2024-12-26T04:31:11.724Z"
   },
   {
    "duration": 886,
    "start_time": "2024-12-26T04:31:13.729Z"
   },
   {
    "duration": 72,
    "start_time": "2024-12-26T04:31:14.617Z"
   },
   {
    "duration": 48,
    "start_time": "2024-12-26T04:31:14.691Z"
   },
   {
    "duration": 18,
    "start_time": "2024-12-26T04:31:14.741Z"
   },
   {
    "duration": 1190037,
    "start_time": "2024-12-26T04:31:14.760Z"
   },
   {
    "duration": 12608,
    "start_time": "2024-12-26T04:51:04.799Z"
   },
   {
    "duration": 63,
    "start_time": "2024-12-26T04:51:17.409Z"
   },
   {
    "duration": 208,
    "start_time": "2024-12-26T04:51:17.475Z"
   },
   {
    "duration": 0,
    "start_time": "2024-12-26T04:51:17.684Z"
   },
   {
    "duration": 0,
    "start_time": "2024-12-26T04:51:17.686Z"
   },
   {
    "duration": 2937195,
    "start_time": "2024-12-26T14:35:22.974Z"
   },
   {
    "duration": 7264,
    "start_time": "2024-12-26T15:49:28.618Z"
   },
   {
    "duration": 2350,
    "start_time": "2024-12-26T15:49:35.885Z"
   },
   {
    "duration": 917,
    "start_time": "2024-12-26T15:49:38.237Z"
   },
   {
    "duration": 83,
    "start_time": "2024-12-26T15:49:39.156Z"
   },
   {
    "duration": 36,
    "start_time": "2024-12-26T15:49:39.241Z"
   },
   {
    "duration": 20,
    "start_time": "2024-12-26T15:49:39.279Z"
   },
   {
    "duration": 1179360,
    "start_time": "2024-12-26T15:49:39.300Z"
   },
   {
    "duration": 12956,
    "start_time": "2024-12-26T16:09:18.662Z"
   },
   {
    "duration": 59,
    "start_time": "2024-12-26T16:09:31.620Z"
   },
   {
    "duration": 6837,
    "start_time": "2024-12-26T16:42:08.995Z"
   },
   {
    "duration": 1910,
    "start_time": "2024-12-26T16:42:15.835Z"
   },
   {
    "duration": 906,
    "start_time": "2024-12-26T16:42:17.746Z"
   },
   {
    "duration": 77,
    "start_time": "2024-12-26T16:42:18.654Z"
   },
   {
    "duration": 36,
    "start_time": "2024-12-26T16:42:18.733Z"
   },
   {
    "duration": 33,
    "start_time": "2024-12-26T16:42:18.770Z"
   },
   {
    "duration": 1040819,
    "start_time": "2024-12-26T16:42:18.804Z"
   },
   {
    "duration": 11383,
    "start_time": "2024-12-26T16:59:39.629Z"
   },
   {
    "duration": 64,
    "start_time": "2024-12-26T16:59:51.013Z"
   },
   {
    "duration": 6754,
    "start_time": "2024-12-26T17:06:23.058Z"
   },
   {
    "duration": 1978,
    "start_time": "2024-12-26T17:06:29.815Z"
   },
   {
    "duration": 908,
    "start_time": "2024-12-26T17:06:31.794Z"
   },
   {
    "duration": 65,
    "start_time": "2024-12-26T17:06:32.704Z"
   },
   {
    "duration": 37,
    "start_time": "2024-12-26T17:06:32.770Z"
   },
   {
    "duration": 20,
    "start_time": "2024-12-26T17:06:32.830Z"
   },
   {
    "duration": 1049356,
    "start_time": "2024-12-26T17:06:32.852Z"
   },
   {
    "duration": 11891,
    "start_time": "2024-12-26T17:24:02.209Z"
   },
   {
    "duration": 67,
    "start_time": "2024-12-26T17:24:14.102Z"
   },
   {
    "duration": 6689,
    "start_time": "2024-12-26T17:41:47.163Z"
   },
   {
    "duration": 1960,
    "start_time": "2024-12-26T17:41:53.854Z"
   },
   {
    "duration": 898,
    "start_time": "2024-12-26T17:41:55.816Z"
   },
   {
    "duration": 65,
    "start_time": "2024-12-26T17:41:56.716Z"
   },
   {
    "duration": 58,
    "start_time": "2024-12-26T17:41:56.783Z"
   },
   {
    "duration": 21,
    "start_time": "2024-12-26T17:41:56.843Z"
   },
   {
    "duration": 1034904,
    "start_time": "2024-12-26T17:41:56.866Z"
   },
   {
    "duration": 414,
    "start_time": "2024-12-26T17:59:11.772Z"
   },
   {
    "duration": 71,
    "start_time": "2024-12-26T17:59:12.188Z"
   },
   {
    "duration": 376,
    "start_time": "2024-12-26T17:59:12.262Z"
   },
   {
    "duration": 1,
    "start_time": "2024-12-26T17:59:12.640Z"
   },
   {
    "duration": 0,
    "start_time": "2024-12-26T17:59:12.642Z"
   },
   {
    "duration": 0,
    "start_time": "2024-12-26T17:59:12.644Z"
   },
   {
    "duration": 11503799,
    "start_time": "2024-12-26T18:00:04.879Z"
   },
   {
    "duration": 2121,
    "start_time": "2024-12-26T21:11:48.681Z"
   },
   {
    "duration": 31,
    "start_time": "2024-12-26T21:11:50.804Z"
   },
   {
    "duration": 0,
    "start_time": "2024-12-26T21:11:50.837Z"
   },
   {
    "duration": 3477,
    "start_time": "2024-12-27T14:40:36.555Z"
   },
   {
    "duration": 2841,
    "start_time": "2024-12-27T14:41:15.467Z"
   },
   {
    "duration": 3306,
    "start_time": "2024-12-27T14:41:28.625Z"
   },
   {
    "duration": 36,
    "start_time": "2024-12-27T14:44:09.486Z"
   },
   {
    "duration": 34,
    "start_time": "2024-12-27T14:53:58.549Z"
   },
   {
    "duration": 36,
    "start_time": "2024-12-27T15:00:52.499Z"
   },
   {
    "duration": 42,
    "start_time": "2024-12-27T15:01:11.536Z"
   },
   {
    "duration": 34,
    "start_time": "2024-12-27T15:01:20.519Z"
   },
   {
    "duration": 43,
    "start_time": "2024-12-27T15:02:34.724Z"
   },
   {
    "duration": 34,
    "start_time": "2024-12-27T15:04:07.835Z"
   },
   {
    "duration": 31,
    "start_time": "2024-12-27T15:04:17.621Z"
   },
   {
    "duration": 32,
    "start_time": "2024-12-27T16:18:31.137Z"
   },
   {
    "duration": 57,
    "start_time": "2024-12-27T16:21:50.429Z"
   },
   {
    "duration": 1583,
    "start_time": "2024-12-27T16:23:49.266Z"
   },
   {
    "duration": 2318,
    "start_time": "2024-12-27T16:25:39.289Z"
   },
   {
    "duration": 318,
    "start_time": "2024-12-27T16:26:34.094Z"
   },
   {
    "duration": 7040,
    "start_time": "2024-12-27T17:04:13.908Z"
   },
   {
    "duration": 5092,
    "start_time": "2024-12-27T17:04:20.951Z"
   },
   {
    "duration": 915,
    "start_time": "2024-12-27T17:04:26.045Z"
   },
   {
    "duration": 78,
    "start_time": "2024-12-27T17:04:26.962Z"
   },
   {
    "duration": 36,
    "start_time": "2024-12-27T17:04:27.042Z"
   },
   {
    "duration": 39,
    "start_time": "2024-12-27T17:04:27.080Z"
   },
   {
    "duration": 1135629,
    "start_time": "2024-12-27T17:04:27.121Z"
   },
   {
    "duration": 419,
    "start_time": "2024-12-27T17:23:22.752Z"
   },
   {
    "duration": 12134270,
    "start_time": "2024-12-27T17:23:23.173Z"
   },
   {
    "duration": 266,
    "start_time": "2024-12-27T20:45:37.447Z"
   },
   {
    "duration": 668,
    "start_time": "2024-12-27T20:45:37.715Z"
   },
   {
    "duration": 1657,
    "start_time": "2024-12-27T20:45:38.386Z"
   },
   {
    "duration": 2108,
    "start_time": "2024-12-27T20:45:40.048Z"
   },
   {
    "duration": 296,
    "start_time": "2024-12-27T20:45:42.159Z"
   },
   {
    "duration": 97,
    "start_time": "2024-12-27T20:45:42.457Z"
   },
   {
    "duration": 0,
    "start_time": "2024-12-27T20:45:42.556Z"
   },
   {
    "duration": 32264,
    "start_time": "2024-12-28T10:56:59.809Z"
   },
   {
    "duration": 6947,
    "start_time": "2024-12-28T10:57:32.078Z"
   },
   {
    "duration": 1288,
    "start_time": "2024-12-28T10:57:39.026Z"
   },
   {
    "duration": 64,
    "start_time": "2024-12-28T10:57:40.316Z"
   },
   {
    "duration": 55,
    "start_time": "2024-12-28T10:57:40.383Z"
   },
   {
    "duration": 21,
    "start_time": "2024-12-28T10:57:40.439Z"
   },
   {
    "duration": 1093585,
    "start_time": "2024-12-28T10:57:40.461Z"
   },
   {
    "duration": 414,
    "start_time": "2024-12-28T11:15:54.047Z"
   },
   {
    "duration": 11898167,
    "start_time": "2024-12-28T11:15:54.463Z"
   },
   {
    "duration": 264,
    "start_time": "2024-12-28T14:34:12.631Z"
   },
   {
    "duration": 645,
    "start_time": "2024-12-28T14:34:12.897Z"
   },
   {
    "duration": 1578,
    "start_time": "2024-12-28T14:34:13.544Z"
   },
   {
    "duration": 1982,
    "start_time": "2024-12-28T14:34:15.128Z"
   },
   {
    "duration": 284,
    "start_time": "2024-12-28T14:34:17.116Z"
   }
  ],
  "kernelspec": {
   "display_name": "Python 3 (ipykernel)",
   "language": "python",
   "name": "python3"
  },
  "language_info": {
   "codemirror_mode": {
    "name": "ipython",
    "version": 3
   },
   "file_extension": ".py",
   "mimetype": "text/x-python",
   "name": "python",
   "nbconvert_exporter": "python",
   "pygments_lexer": "ipython3",
   "version": "3.9.5"
  },
  "toc": {
   "base_numbering": 1,
   "nav_menu": {},
   "number_sections": true,
   "sideBar": true,
   "skip_h1_title": true,
   "title_cell": "Содержание",
   "title_sidebar": "Contents",
   "toc_cell": true,
   "toc_position": {
    "height": "calc(100% - 180px)",
    "left": "10px",
    "top": "150px",
    "width": "302.391px"
   },
   "toc_section_display": true,
   "toc_window_display": false
  }
 },
 "nbformat": 4,
 "nbformat_minor": 2
}
